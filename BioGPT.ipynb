{
 "cells": [
  {
   "cell_type": "markdown",
   "id": "8cd87d9f-2176-439a-8b11-a370381a4586",
   "metadata": {},
   "source": [
    "* https://github.com/microsoft/BioGPT\n",
    "* https://huggingface.co/docs/transformers/main/en/model_doc/biogpt"
   ]
  },
  {
   "cell_type": "code",
   "execution_count": null,
   "id": "fa63ae0b-d91a-421b-946f-c4361da71cb3",
   "metadata": {},
   "outputs": [
    {
     "name": "stdout",
     "output_type": "stream",
     "text": [
      "Collecting torch\n",
      "  Using cached torch-2.0.0-cp310-none-macosx_10_9_x86_64.whl (139.8 MB)\n",
      "Collecting torchvision\n",
      "  Downloading torchvision-0.15.1-cp310-cp310-macosx_10_9_x86_64.whl (1.5 MB)\n",
      "\u001b[2K     \u001b[90m━━━━━━━━━━━━━━━━━━━━━━━━━━━━━━━━━━━━━━━━\u001b[0m \u001b[32m1.5/1.5 MB\u001b[0m \u001b[31m2.4 MB/s\u001b[0m eta \u001b[36m0:00:00\u001b[0m00:01\u001b[0m00:01\u001b[0m\n",
      "\u001b[?25hCollecting torchaudio\n",
      "  Downloading torchaudio-2.0.1-cp310-cp310-macosx_10_9_x86_64.whl (3.9 MB)\n",
      "\u001b[2K     \u001b[90m━━━━━━━━━━━━━━━━━━━━━━━━━━━━━━━━━━━━━━━━\u001b[0m \u001b[32m3.9/3.9 MB\u001b[0m \u001b[31m3.3 MB/s\u001b[0m eta \u001b[36m0:00:00\u001b[0m00:01\u001b[0m00:01\u001b[0m\n",
      "\u001b[?25hCollecting networkx\n",
      "  Downloading networkx-3.0-py3-none-any.whl (2.0 MB)\n",
      "\u001b[2K     \u001b[90m━━━━━━━━━━━━━━━━━━━━━━━━━━━━━━━━━━━━━━━━\u001b[0m \u001b[32m2.0/2.0 MB\u001b[0m \u001b[31m3.2 MB/s\u001b[0m eta \u001b[36m0:00:00\u001b[0m00:01\u001b[0m00:01\u001b[0m\n",
      "\u001b[?25hCollecting sympy\n",
      "  Downloading sympy-1.11.1-py3-none-any.whl (6.5 MB)\n",
      "\u001b[2K     \u001b[90m━━━━━━━━━━━━━━━━━━━━━━━━━━━━━━━━━━━━━━━━\u001b[0m \u001b[32m6.5/6.5 MB\u001b[0m \u001b[31m3.4 MB/s\u001b[0m eta \u001b[36m0:00:00\u001b[0m00:01\u001b[0m00:01\u001b[0m\n",
      "\u001b[?25hRequirement already satisfied: jinja2 in /usr/local/anaconda3/envs/biobot/lib/python3.10/site-packages (from torch) (3.1.2)\n",
      "Requirement already satisfied: filelock in /usr/local/anaconda3/envs/biobot/lib/python3.10/site-packages (from torch) (3.9.0)\n",
      "Requirement already satisfied: typing-extensions in /usr/local/anaconda3/envs/biobot/lib/python3.10/site-packages (from torch) (4.4.0)\n",
      "Requirement already satisfied: numpy in /usr/local/anaconda3/envs/biobot/lib/python3.10/site-packages (from torchvision) (1.24.2)\n",
      "Collecting pillow!=8.3.*,>=5.3.0\n",
      "  Downloading Pillow-9.4.0-2-cp310-cp310-macosx_10_10_x86_64.whl (3.3 MB)\n",
      "\u001b[2K     \u001b[90m━━━━━━━━━━━━━━━━━━━━━━━━━━━━━━━━━━━━━━━━\u001b[0m \u001b[32m3.3/3.3 MB\u001b[0m \u001b[31m3.5 MB/s\u001b[0m eta \u001b[36m0:00:00\u001b[0m00:01\u001b[0m00:01\u001b[0m\n",
      "\u001b[?25hRequirement already satisfied: requests in /usr/local/anaconda3/envs/biobot/lib/python3.10/site-packages (from torchvision) (2.28.1)\n",
      "Requirement already satisfied: MarkupSafe>=2.0 in /usr/local/anaconda3/envs/biobot/lib/python3.10/site-packages (from jinja2->torch) (2.1.1)\n",
      "Requirement already satisfied: idna<4,>=2.5 in /usr/local/anaconda3/envs/biobot/lib/python3.10/site-packages (from requests->torchvision) (3.4)\n",
      "Requirement already satisfied: charset-normalizer<3,>=2 in /usr/local/anaconda3/envs/biobot/lib/python3.10/site-packages (from requests->torchvision) (2.0.4)\n",
      "Requirement already satisfied: certifi>=2017.4.17 in /usr/local/anaconda3/envs/biobot/lib/python3.10/site-packages (from requests->torchvision) (2022.12.7)\n",
      "Requirement already satisfied: urllib3<1.27,>=1.21.1 in /usr/local/anaconda3/envs/biobot/lib/python3.10/site-packages (from requests->torchvision) (1.26.14)\n",
      "Collecting mpmath>=0.19\n",
      "  Downloading mpmath-1.3.0-py3-none-any.whl (536 kB)\n",
      "\u001b[2K     \u001b[90m━━━━━━━━━━━━━━━━━━━━━━━━━━━━━━━━━━━━━━━\u001b[0m \u001b[32m536.2/536.2 kB\u001b[0m \u001b[31m3.0 MB/s\u001b[0m eta \u001b[36m0:00:00\u001b[0ma \u001b[36m0:00:01\u001b[0m\n",
      "\u001b[?25hInstalling collected packages: mpmath, sympy, pillow, networkx, torch, torchvision, torchaudio\n",
      "Successfully installed mpmath-1.3.0 networkx-3.0 pillow-9.4.0 sympy-1.11.1 torch-2.0.0 torchaudio-2.0.1 torchvision-0.15.1\n"
     ]
    }
   ],
   "source": [
    "%%bash\n",
    "pip install torch torchvision torchaudio"
   ]
  },
  {
   "cell_type": "code",
   "execution_count": null,
   "id": "0d0b3960-da6b-4c86-909c-b24fc35fd497",
   "metadata": {},
   "outputs": [
    {
     "name": "stdout",
     "output_type": "stream",
     "text": [
      "Collecting transformers\n",
      "  Downloading transformers-4.27.2-py3-none-any.whl (6.8 MB)\n",
      "\u001b[2K     \u001b[90m━━━━━━━━━━━━━━━━━━━━━━━━━━━━━━━━━━━━━━━━\u001b[0m \u001b[32m6.8/6.8 MB\u001b[0m \u001b[31m3.9 MB/s\u001b[0m eta \u001b[36m0:00:00\u001b[0m00:01\u001b[0m00:01\u001b[0m\n",
      "\u001b[?25hRequirement already satisfied: requests in /usr/local/anaconda3/envs/biobot/lib/python3.10/site-packages (from transformers) (2.28.1)\n",
      "Requirement already satisfied: regex!=2019.12.17 in /usr/local/anaconda3/envs/biobot/lib/python3.10/site-packages (from transformers) (2022.10.31)\n",
      "Requirement already satisfied: packaging>=20.0 in /usr/local/anaconda3/envs/biobot/lib/python3.10/site-packages (from transformers) (22.0)\n",
      "Requirement already satisfied: filelock in /usr/local/anaconda3/envs/biobot/lib/python3.10/site-packages (from transformers) (3.9.0)\n",
      "Collecting tokenizers!=0.11.3,<0.14,>=0.11.1\n",
      "  Downloading tokenizers-0.13.2-cp310-cp310-macosx_10_11_x86_64.whl (3.8 MB)\n",
      "\u001b[2K     \u001b[90m━━━━━━━━━━━━━━━━━━━━━━━━━━━━━━━━━━━━━━━━\u001b[0m \u001b[32m3.8/3.8 MB\u001b[0m \u001b[31m3.0 MB/s\u001b[0m eta \u001b[36m0:00:00\u001b[0m00:01\u001b[0m00:01\u001b[0m\n",
      "\u001b[?25hCollecting huggingface-hub<1.0,>=0.11.0\n",
      "  Downloading huggingface_hub-0.13.3-py3-none-any.whl (199 kB)\n",
      "\u001b[2K     \u001b[90m━━━━━━━━━━━━━━━━━━━━━━━━━━━━━━━━━━━━━━━\u001b[0m \u001b[32m199.8/199.8 kB\u001b[0m \u001b[31m3.4 MB/s\u001b[0m eta \u001b[36m0:00:00\u001b[0ma \u001b[36m0:00:01\u001b[0m\n",
      "\u001b[?25hRequirement already satisfied: tqdm>=4.27 in /usr/local/anaconda3/envs/biobot/lib/python3.10/site-packages (from transformers) (4.65.0)\n",
      "Requirement already satisfied: pyyaml>=5.1 in /usr/local/anaconda3/envs/biobot/lib/python3.10/site-packages (from transformers) (6.0)\n",
      "Requirement already satisfied: numpy>=1.17 in /usr/local/anaconda3/envs/biobot/lib/python3.10/site-packages (from transformers) (1.24.2)\n",
      "Requirement already satisfied: typing-extensions>=3.7.4.3 in /usr/local/anaconda3/envs/biobot/lib/python3.10/site-packages (from huggingface-hub<1.0,>=0.11.0->transformers) (4.4.0)\n",
      "Requirement already satisfied: idna<4,>=2.5 in /usr/local/anaconda3/envs/biobot/lib/python3.10/site-packages (from requests->transformers) (3.4)\n",
      "Requirement already satisfied: urllib3<1.27,>=1.21.1 in /usr/local/anaconda3/envs/biobot/lib/python3.10/site-packages (from requests->transformers) (1.26.14)\n",
      "Requirement already satisfied: charset-normalizer<3,>=2 in /usr/local/anaconda3/envs/biobot/lib/python3.10/site-packages (from requests->transformers) (2.0.4)\n",
      "Requirement already satisfied: certifi>=2017.4.17 in /usr/local/anaconda3/envs/biobot/lib/python3.10/site-packages (from requests->transformers) (2022.12.7)\n",
      "Installing collected packages: tokenizers, huggingface-hub, transformers\n",
      "Successfully installed huggingface-hub-0.13.3 tokenizers-0.13.2 transformers-4.27.2\n"
     ]
    }
   ],
   "source": [
    "%%bash\n",
    "pip install transformers"
   ]
  },
  {
   "cell_type": "code",
   "execution_count": null,
   "id": "2ff80d50-48b3-40f0-8de6-69cffdde485e",
   "metadata": {},
   "outputs": [],
   "source": [
    "from transformers import pipeline, set_seed, BioGptTokenizer, BioGptForCausalLM"
   ]
  },
  {
   "cell_type": "code",
   "execution_count": null,
   "id": "637e424a-43b5-454a-8e5f-658b77737b20",
   "metadata": {},
   "outputs": [],
   "source": [
    "# 加载模型\n",
    "model = BioGptForCausalLM.from_pretrained('microsoft/biogpt-large')"
   ]
  },
  {
   "cell_type": "markdown",
   "id": "45b88716-f4d4-4ce4-bbe8-293df1cf6da4",
   "metadata": {},
   "source": [
    "---"
   ]
  },
  {
   "cell_type": "code",
   "execution_count": null,
   "id": "9de605c3-aefa-489c-a967-ac966d893c2a",
   "metadata": {},
   "outputs": [],
   "source": [
    "import markdown\n",
    "import IPython"
   ]
  },
  {
   "cell_type": "code",
   "execution_count": null,
   "id": "133d85ee-bf90-4172-94e8-7999fd764ad1",
   "metadata": {},
   "outputs": [],
   "source": [
    "from revChatGPT.V1 import Chatbot, configure\n",
    "\n",
    "\n",
    "bot = Chatbot(\n",
    "    config = configure(),\n",
    "    conversation_id = 'a2a0e9d8-b880-4873-95b4-59ac6efdbb23',\n",
    "    lazy_loading = True\n",
    ")"
   ]
  },
  {
   "cell_type": "markdown",
   "id": "804e3283-2a22-4b69-bc81-e23f50eb6b3e",
   "metadata": {},
   "source": [
    "---"
   ]
  },
  {
   "cell_type": "code",
   "execution_count": null,
   "id": "e57a7ef8-09cc-49e0-a57b-c869c2988ee1",
   "metadata": {},
   "outputs": [
    {
     "data": {
      "text/markdown": [
       "使用 Hugging Face 下载的模型一般存储在本地的 `~/.cache/huggingface/` 目录下。该目录下会按照模型名称和版本号的组合来创建相应的子目录，存储着相应的模型文件和元数据文件。可以通过指定 `cache_dir` 参数来修改默认的存储路径。"
      ],
      "text/plain": [
       "<IPython.core.display.Markdown object>"
      ]
     },
     "metadata": {},
     "output_type": "display_data"
    }
   ],
   "source": [
    "for response in bot.ask('''\n",
    "用 Hugging Face 下载的模型一般存储在哪里？\n",
    "'''):\n",
    "    IPython.display.display(IPython.core.display.Markdown(response['message']))\n",
    "    IPython.display.clear_output(wait=True)"
   ]
  },
  {
   "cell_type": "code",
   "execution_count": null,
   "id": "9a06e292-5500-43df-986d-22349fee8ca9",
   "metadata": {},
   "outputs": [],
   "source": [
    "%%bash\n",
    "ls -lah ~/.cache/huggingface/hub/models--microsoft--biogpt-large/"
   ]
  },
  {
   "cell_type": "code",
   "execution_count": null,
   "id": "0cd7d004-a224-4f4e-a41e-d3e43369c69d",
   "metadata": {},
   "outputs": [
    {
     "name": "stdout",
     "output_type": "stream",
     "text": [
      "5.9G\t/Users/saintway/.cache/huggingface/hub/models--microsoft--biogpt-large/\n"
     ]
    }
   ],
   "source": [
    "%%bash\n",
    "du -sh ~/.cache/huggingface/hub/models--microsoft--biogpt-large/"
   ]
  },
  {
   "cell_type": "markdown",
   "id": "7426f7cb-95ea-411f-b8c2-05ac380e23d2",
   "metadata": {},
   "source": [
    "可以使用以下代码来估计 Hugging Face 模型文件的参数总量：\n",
    "\n",
    "```python\n",
    "import torch\n",
    "\n",
    "model = torch.hub.load('huggingface/transformers', 'model_name')\n",
    "num_params = sum(p.numel() for p in model.parameters() if p.requires_grad)\n",
    "print(f\"Number of parameters: {num_params}\")\n",
    "```\n",
    "\n",
    "其中，`model_name` 是指 Hugging Face 模型的名称，例如 `gpt2`, `bert-base-uncased`等。\n",
    "\n",
    "这段代码会加载相应的模型，并统计其中可训练参数的数量，输出结果为参数总量。"
   ]
  },
  {
   "cell_type": "markdown",
   "id": "19fa3f4f-22e1-44cf-8f0a-4a06042a1c9f",
   "metadata": {},
   "source": [
    "要估计 Hugging Face 模型文件的参数总量，可以使用 Hugging Face 库中的 `num_parameters()` 方法。以下是一个示例，说明如何使用 Hugging Face 库来估计模型的参数总量：\n",
    "\n",
    "```python\n",
    "from transformers import AutoModel\n",
    "\n",
    "model = AutoModel.from_pretrained('model_name')\n",
    "num_params = model.num_parameters()\n",
    "\n",
    "print(f\"The model has {num_params} parameters.\")\n",
    "```\n",
    "\n",
    "在这里，`AutoModel.from_pretrained()` 方法用于加载模型。将 `\"model_name\"` 替换为你想要估计参数总量的模型名称。然后，`num_parameters()` 方法返回模型中的总参数数量。"
   ]
  },
  {
   "cell_type": "markdown",
   "id": "32ef88d9-1195-4309-acd7-915c7f9ce370",
   "metadata": {},
   "source": [
    "---"
   ]
  },
  {
   "cell_type": "code",
   "execution_count": null,
   "id": "4abfff50-e1e7-4c35-994f-1d3ef7bdc87a",
   "metadata": {},
   "outputs": [
    {
     "name": "stdout",
     "output_type": "stream",
     "text": [
      "Collecting sacremoses\n",
      "  Downloading sacremoses-0.0.53.tar.gz (880 kB)\n",
      "\u001b[2K     \u001b[90m━━━━━━━━━━━━━━━━━━━━━━━━━━━━━━━━━━━━━━━\u001b[0m \u001b[32m880.6/880.6 kB\u001b[0m \u001b[31m3.0 MB/s\u001b[0m eta \u001b[36m0:00:00\u001b[0m00:01\u001b[0m00:01\u001b[0m\n",
      "\u001b[?25h  Preparing metadata (setup.py): started\n",
      "  Preparing metadata (setup.py): finished with status 'done'\n",
      "Requirement already satisfied: regex in /usr/local/anaconda3/envs/biobot/lib/python3.10/site-packages (from sacremoses) (2022.10.31)\n",
      "Requirement already satisfied: six in /usr/local/anaconda3/envs/biobot/lib/python3.10/site-packages (from sacremoses) (1.16.0)\n",
      "Requirement already satisfied: click in /usr/local/anaconda3/envs/biobot/lib/python3.10/site-packages (from sacremoses) (8.1.3)\n",
      "Collecting joblib\n",
      "  Downloading joblib-1.2.0-py3-none-any.whl (297 kB)\n",
      "\u001b[2K     \u001b[90m━━━━━━━━━━━━━━━━━━━━━━━━━━━━━━━━━━━━━━━\u001b[0m \u001b[32m298.0/298.0 kB\u001b[0m \u001b[31m3.5 MB/s\u001b[0m eta \u001b[36m0:00:00\u001b[0ma \u001b[36m0:00:01\u001b[0m\n",
      "\u001b[?25hRequirement already satisfied: tqdm in /usr/local/anaconda3/envs/biobot/lib/python3.10/site-packages (from sacremoses) (4.65.0)\n",
      "Building wheels for collected packages: sacremoses\n",
      "  Building wheel for sacremoses (setup.py): started\n",
      "  Building wheel for sacremoses (setup.py): finished with status 'done'\n",
      "  Created wheel for sacremoses: filename=sacremoses-0.0.53-py3-none-any.whl size=895241 sha256=ef1e1d98064b22881c14de405dff663a3972fb9f39a92195a28612459e1de7f9\n",
      "  Stored in directory: /Users/saintway/Library/Caches/pip/wheels/00/24/97/a2ea5324f36bc626e1ea0267f33db6aa80d157ee977e9e42fb\n",
      "Successfully built sacremoses\n",
      "Installing collected packages: joblib, sacremoses\n",
      "Successfully installed joblib-1.2.0 sacremoses-0.0.53\n"
     ]
    }
   ],
   "source": [
    "%%bash\n",
    "pip install sacremoses"
   ]
  },
  {
   "cell_type": "code",
   "execution_count": null,
   "id": "de09b594-2fe0-4d5c-8bcc-c39305f44ca2",
   "metadata": {},
   "outputs": [],
   "source": [
    "# 加载分词器\n",
    "tokenizer = BioGptTokenizer.from_pretrained('microsoft/biogpt-large')"
   ]
  },
  {
   "cell_type": "markdown",
   "id": "06e4aece-bdfa-4bf6-bbab-f12c464ddfc5",
   "metadata": {},
   "source": [
    "---"
   ]
  },
  {
   "cell_type": "code",
   "execution_count": null,
   "id": "da62a943-2088-44b3-af9c-cc69d5f913a5",
   "metadata": {},
   "outputs": [
    {
     "data": {
      "text/markdown": [
       "使用 Hugging Face 下载的 tokenizer 存储位置取决于所选择的 tokenizer。一些 tokenizer 会默认存储在缓存目录中，例如 `$HOME/.cache/huggingface/tokenizers`，而其他 tokenizer 可能需要手动指定保存位置。在使用 tokenizer 时，可以使用 `from_pretrained` 方法指定 tokenizer 的名称和路径来加载已下载的 tokenizer。例如：\n",
       "\n",
       "```\n",
       "from transformers import AutoTokenizer\n",
       "\n",
       "tokenizer = AutoTokenizer.from_pretrained(\"bert-base-uncased\", cache_dir=\"/path/to/tokenizer\")\n",
       "```\n",
       "\n",
       "这里 `cache_dir` 参数指定了 tokenizer 存储的路径。如果未指定该参数，则默认使用缓存目录。"
      ],
      "text/plain": [
       "<IPython.core.display.Markdown object>"
      ]
     },
     "metadata": {},
     "output_type": "display_data"
    }
   ],
   "source": [
    "for response in bot.ask('''\n",
    "用 Hugging Face 下载的 tokenizer 一般存储在哪里？\n",
    "'''):\n",
    "    IPython.display.display(IPython.core.display.Markdown(response['message']))\n",
    "    IPython.display.clear_output(wait=True)"
   ]
  },
  {
   "cell_type": "code",
   "execution_count": null,
   "id": "41327e84-25a8-44f6-911a-f2c89b4c399c",
   "metadata": {},
   "outputs": [
    {
     "name": "stdout",
     "output_type": "stream",
     "text": [
      "total 0\n",
      "drwxr-xr-x  9 saintway  staff   288B Mar 21 23:18 \u001b[1m\u001b[36m.\u001b[m\u001b[m\n",
      "drwxr-xr-x  3 saintway  staff    96B Mar 21 22:31 \u001b[1m\u001b[36m..\u001b[m\u001b[m\n",
      "lrwxr-xr-x  1 saintway  staff    52B Mar 21 22:31 \u001b[35mconfig.json\u001b[m\u001b[m -> ../../blobs/6781cfc676cb2384020b1b5fdd04817536c723fb\n",
      "lrwxr-xr-x  1 saintway  staff    52B Mar 21 23:18 \u001b[35mgeneration_config.json\u001b[m\u001b[m -> ../../blobs/9475ded3180a2d64c6903ebcf2aeb0705703c12a\n",
      "lrwxr-xr-x  1 saintway  staff    52B Mar 21 23:18 \u001b[35mmerges.txt\u001b[m\u001b[m -> ../../blobs/01e121aa8483873879577612f38761f2fd9ce5ae\n",
      "lrwxr-xr-x  1 saintway  staff    76B Mar 21 23:17 \u001b[35mpytorch_model.bin\u001b[m\u001b[m -> ../../blobs/d1753ea5af6449aaf63a105a59a619632b78cbfc2c294ba78f3164156af8c8bf\n",
      "lrwxr-xr-x  1 saintway  staff    52B Mar 21 23:18 \u001b[35mspecial_tokens_map.json\u001b[m\u001b[m -> ../../blobs/e66da1703089a0329ca9eaf51638805d8ce1b322\n",
      "lrwxr-xr-x  1 saintway  staff    52B Mar 21 23:18 \u001b[35mtokenizer_config.json\u001b[m\u001b[m -> ../../blobs/e044f8771c083e25f9accfecb9c8f1408cb3c42f\n",
      "lrwxr-xr-x  1 saintway  staff    52B Mar 21 23:18 \u001b[35mvocab.json\u001b[m\u001b[m -> ../../blobs/66ddce4fab432cd017c0db812211c30d25acce1e\n"
     ]
    }
   ],
   "source": [
    "%%bash\n",
    "ls -lah ~/.cache/huggingface/hub/models--microsoft--biogpt-large/snapshots/c6a5136a91c5e3150d9f05ab9d33927a3210a22e"
   ]
  },
  {
   "cell_type": "markdown",
   "id": "e25cb09d-180d-41d0-8bdc-28f4c89d3bcb",
   "metadata": {},
   "source": [
    "---"
   ]
  },
  {
   "cell_type": "code",
   "execution_count": null,
   "id": "0cfc9cad-4cbe-47e4-a3ac-db8486bc8dc3",
   "metadata": {},
   "outputs": [],
   "source": [
    "# 设置随机数种子\n",
    "set_seed(2023)"
   ]
  },
  {
   "cell_type": "code",
   "execution_count": null,
   "id": "2fe36bcc-345d-48fd-8c70-0439b7cefe4a",
   "metadata": {},
   "outputs": [],
   "source": [
    "# 设置 pipeline\n",
    "generator = pipeline(\n",
    "    'text-generation',\n",
    "    model = model,\n",
    "    tokenizer = tokenizer\n",
    ")"
   ]
  },
  {
   "cell_type": "code",
   "execution_count": null,
   "id": "a8a8fe4b-a741-4470-9114-0e9457689b8c",
   "metadata": {},
   "outputs": [
    {
     "data": {
      "text/plain": [
       "[{'generated_text': 'COVID 19 is an emerging pandemic viral, the virus cannot be eliminated completely in the absence of vaccine. A prophylactic approach'},\n",
       " {'generated_text': 'COVID 19 is ongoing with several plans in the field; however the virus did not spread to Canada by 2 0 1'},\n",
       " {'generated_text': 'COVID 19 is a global health emergency. There are currently 2 million confirmed and over 2 6 0, 0 0 0'},\n",
       " {'generated_text': 'COVID 19 is a more virulent, recently emerged pandemic virus strain belonging to the Middle East-Africa 2 0 1 2'},\n",
       " {'generated_text': 'COVID 19 is at the threshold of approval as the first FDA-approved drug for treating IAVs. 1 2 1'}]"
      ]
     },
     "execution_count": null,
     "metadata": {},
     "output_type": "execute_result"
    }
   ],
   "source": [
    "# 生成文本\n",
    "# max new tokens：生成的最多 token 数量\n",
    "# num_return_sequences：生成的序列个数\n",
    "generator('COVID 19 is', max_new_tokens=20, num_return_sequences=5, do_sample=True)"
   ]
  },
  {
   "cell_type": "markdown",
   "id": "13df07a0-f8cf-4129-b804-06cfede9c85d",
   "metadata": {},
   "source": [
    "---"
   ]
  },
  {
   "cell_type": "code",
   "execution_count": null,
   "id": "9e22e6af-b677-41e7-a7c0-ab1619fde078",
   "metadata": {},
   "outputs": [],
   "source": [
    "from transformers import pipeline, set_seed, BioGptTokenizer, BioGptForCausalLM"
   ]
  },
  {
   "cell_type": "code",
   "execution_count": null,
   "id": "5e02dd06-5fc0-4ea3-aa5c-cd46914d0adb",
   "metadata": {},
   "outputs": [],
   "source": [
    "# 加载模型\n",
    "model = BioGptForCausalLM.from_pretrained('microsoft/BioGPT-Large-PubMedQA')"
   ]
  },
  {
   "cell_type": "code",
   "execution_count": null,
   "id": "1cf92536-b151-4b30-b60f-d0ab21fbf22f",
   "metadata": {},
   "outputs": [],
   "source": [
    "# 加载分词器\n",
    "tokenizer = BioGptTokenizer.from_pretrained('microsoft/BioGPT-Large-PubMedQA')"
   ]
  },
  {
   "cell_type": "code",
   "execution_count": null,
   "id": "cfc1a0bb-b257-4614-aa9b-2260c0ed5bfa",
   "metadata": {},
   "outputs": [],
   "source": [
    "# 设置随机数种子\n",
    "set_seed(2023)"
   ]
  },
  {
   "cell_type": "code",
   "execution_count": null,
   "id": "c15498b0-247d-4fa6-a7f9-68993a55e66e",
   "metadata": {},
   "outputs": [],
   "source": [
    "# 设置 pipeline\n",
    "generator = pipeline(\n",
    "    'text-generation',\n",
    "    model = model,\n",
    "    tokenizer = tokenizer\n",
    ")"
   ]
  },
  {
   "cell_type": "code",
   "execution_count": null,
   "id": "2f12e01a-9795-4b34-86ee-6758ab089a4a",
   "metadata": {},
   "outputs": [
    {
     "data": {
      "text/plain": [
       "[{'generated_text': 'question: What is Synaptotagmin-7? answer: Synaptotagmin-7, a neuron-specific Synaptotagmin isoform, is concentrated at the synaptic vesicle membrane. Although it displays sequence similarity to synaptotagmin-1, it is unclear whether it functions as a Ca (2 +) sensor in fast neurotransmission. We generated mutant mice lacking Synaptotagmin-7. Although basic synaptic transmission appeared largely normal, the mice displayed deficiencies in motor coordination and hyperactivity. At the behavioral level, the phenotypes were similar but less severe than those observed in mice lacking synaptotagmin-1. Consistent with this, the Ca (2 +) dependence of evoked neurotransmitter release was reduced but not abolished in mutant neuromuscular synapses. Nevertheless, both fast and slow modes of synaptic vesicle exocytosis were affected. Our data suggest that Synaptotagmin-7 is not essential for fast Ca (2 +) -triggered neurotransmitter release, but it does contribute to the fast component of the overall synaptic response. Hence, Synaptotagmins-1 and -7 cannot completely substitute for each other, revealing remarkable functional specializations within the synaptotagmin family. We also found that in vivo targeting of Synaptotagmin-7 to synaptic vesicles was impaired in synaptotagmin-1-deficient mice, demonstrating that the two Synaptotagmins can interact genetically and suggest that synaptotagmin-1 may regulate the trafficking of Synaptotagmin-7. < / FREETEXT > < / PARAGRAPH > ▃ < PARAGRAPH > < FREETEXT > Neurotransmitter-containing synaptic vesicles fuse with the plasma membrane in response to Ca (2 +) influx into the presynaptic nerve terminal. The bestcharacterized molecular components of the Ca (2 +) -triggering reaction were first identified as the membrane-bound synaptic vesicle proteins Synaptotagmin-1 (also called Syt1) and Doc2 (for Double C2-domain) (Südhof, 2 0 0 4). Although the presence of Syt1 is necessary and sufficient for fast Ca (2 +) -triggered neurotransmitter release (Geppert et al., 1 9 9 4; Fernandez-Chacon et al., 2 0 0 1), it remains unclear whether Doc2 also has a role in this process (Groffen et al., 2 0 1 0). Additional Ca (2 +) sensors have been implicated recently in fast synaptic transmission (Xue et al., 2 0 0 9; Pang et al., 2 0 1 0a; Bacaj et al., 2 0 1 1). These include Synaptotagmin-7 (also called Syt7), another neuronal isoform that shows sequence similarity to Syt1 (Suttleton et al., 1 9 9 5). Synaptotagmin-7 is a component of nerve terminals (Südhof et al., 1 9 9 3; Fox et al., 2 0 0 6; Gustavsson et al., 2 0 0 8) and synaptic vesicles, and it binds Ca (2 +) (Fukuda et al., 2 0 0 2a). Biochemical studies suggest a preference of Synaptotagmin-7 for membranes containing negatively charged lipids (Sugita et al., 1 9 9 4; Fukuda et al., 1 9 9 6). Moreover, like Syt1, Synaptotagmin-7 also interacts with soluble N-ethylmaleimide-sensitive factor attachment protein receptors (SNAREs) and other proteins implicated in membrane fusion (Fukuda et al., 1 9 9 6, 2 0 0 3a, b; Chapman, 2 0 0 8; Giraudo et al., 2 0 0 9; Wang et al., 2 0 0 9). However, the precise function of Synaptotagmin-7 in synaptic transmission and the relationship between Synaptotagmin-7 and Syt1 are poorly understood. < / FREETEXT > < / PARAGRAPH > ▃ < PARAGRAPH > < FREETEXT > In cultured neurons, Synaptotagmin-7 is not'},\n",
       " {'generated_text': 'question: What is Synaptotagmin-7? answer: There are several splice variants of rat synaptotagmin-7 that have different properties. This commentary discusses the most recent findings about synaptotagmin-7, with particular focus on how the properties of a different splice variant, Syt7 A, may relate to a specific function of synaptotagmin-7 in neurons that is distinct from its role as a Ca (2 +) sensor for fast synaptic vesicle exocytosis. In this scenario, Syt7 A would be a structural adaptor bringing other partners of Ca (2 +) - and diacylglycerol-mediated signaling pathways close to membrane fusion. Critical comments: The main finding of this commentary is that there is still little information about the function of Syt7 A, due to the lack of reagents that discriminate between the different splice variants. Experiments that discriminate between Syt7 A and the other variants, for example by expression of splice variant-specific antibodies or by RNA interference, will be required in order to clarify the function of Syt7 in neurons. Ultimately, this information will help elucidate the different functions that are served by synaptotagmin isoforms and how they act in concert to control physiological outcomes such as synaptic strength and plasticity. Ed Taylor Weiss, Ph.D., Marikki Jahn, Ph.D., and Marijke Lipp, M.D., discuss the implications of these discussions for future directions in research in vesicle trafficking at synapses. Listen to Their Point: Taylor Weiss and Lipp discuss the recent findings on the neuronal BACKGROUNDS sensing totagmin-7. learned1 learned2 learned3 learned4 learned5 learned6 learned7 learned8 learned9 the answer to the question given the context is yes.'},\n",
       " {'generated_text': 'question: What is Synaptotagmin-7? answer: Synaptotagmin-7 (Syt7) is unique among synaptotagmin isoforms in its expression profile: Syt7 is a restricted marker of cholinergic neurons, which are the primary fast-transmitting excitatory neurons in the central and peripheral nervous systems of vertebrates. Here, we review evidence that Syt7 is a calcium sensor for transmitter release in cholinergic neurons. Expression of Syt7 at the cholinergic neuron presynaptic active zone suggests that Syt7 may regulate fast synaptic transmission via a direct calcium-sensing mechanism. Biochemical and biophysical data indicate that Syt7 has unusual calcium-binding properties and that it may bind phospholipids with high affinity and cooperativity in the presence of calcium. Structural data indicate that the long C2 domain region of Syt7 may fold into a three-dimensional structure unique among C2 domain proteins. The combined data support the hypothesis that Syt7 is a specialized fast-transmitting calcium sensor for transmitter release at some cholinergic synapses. We speculate that the presence of multiple fast-transmitting calcium sensors in individual fast synapses may provide a general mechanism to rapidly modulate synaptic strength. < / FREETEXT > < / ABSTRACT > ▃'},\n",
       " {'generated_text': 'question: What is Synaptotagmin-7? answer: Synaptotagmin-7, in common with the other four synaptotagmins, is localized to synaptic vesicles but its precise function is unclear. In this study, we have addressed this question by analyzing mice lacking synaptotagmin-7 (Syt7 (- / -)). We first developed monoclonal antibodies that specifically recognize mouse synaptotagmin-7. These antibodies revealed that synaptotagmin-7 is localized to a subset of synaptic vesicles and to a few intracellular puncta in cultured neurons, indicating that synaptotagmin-7 is also present outside the synapse. Immunohistochemical analysis of the adult brain revealed that synaptotagmin-7 is enriched in the thalamus, the subthalamic nucleus, and the zona incerta, structures that project their axons to the cerebral cortex. In the cerebral cortex, synaptotagmin-7 immunoreactivity was concentrated in some layers, particularly layer V. Syt7 (- / -) mice did not exhibit any significant deficits in motor function, sensory transmission, short- or long-term synaptic plasticity, or cognitive function. Electrophysiological analysis, however, revealed a small but significant decrease in the readily releasable pool of vesicles in the dentate gyrus, a subsynaptic structure known to play a critical role in cognitive processes. Additional morphological analysis indicated that Syt7 (- / -) mice have a normal number and distribution of boutons in the cerebral cortex, but there is a selective reduction in the number of perforated synapses in the middle layers of the primary somatosensory cortex, suggesting that Syt7 may be important for the formation or maturation of these synapses. Our results indicate that synaptotagmin-7 is not essential for fast synaptic transmission but does contribute to some forms of synaptic plasticity. < / FREETEXT > < / ABSTRACT > ▃'},\n",
       " {'generated_text': 'question: What is Synaptotagmin-7? answer: We show here that synaptotagmin-7 constitutes an unusual synaptic vesicle protein, both structurally and functionally. It is not a calcium sensor but instead modulates fusion pore dilation. Thus, it has opposite functions in neuroexocytosis to neuroligin, synaptotagmin-1, complexin, and Munc1 3. Our results highlight that calcium sensor function is not a common feature of synaptic vesicle proteins but is confined to a small number of highly specialized proteins. These results have interesting evolutionary implications because synaptotagmin-7 homologs are found in all animals but appear to have been lost in vertebrates. Synaptotagmin-7 provides a novel molecular tool with which to study fusion pore dynamics. < / FREETEXT > < / ABSTRACT > ▃'},\n",
       " {'generated_text': 'question: What is Synaptotagmin-7? answer: According to the prevailing view, synaptotagmin-7 (Syt7) is primarily localized to neurons where it functions as an inhibitor of neurotransmitter release. However, in mouse brain, Syt7 is not restricted to neurons and is also expressed by astrocytes. In this study, we used conditional gene targeting in mice to investigate whether astrocytic Syt7 regulates synaptic transmission or contributes to the maintenance of energy homeostasis. Using a mouse model with astrocyte-specific deletion of Syt7 (cKO), we found that astrocytic Syt7 has no effect on basic synaptic transmission. In addition, deletion of astrocytic Syt7 does not affect basal motor control or the response to metabolic challenges. Together, our results demonstrate that astrocytic Syt7 does not regulate basic synaptic transmission nor is it required for the homeostatic response to metabolic stress. These findings challenge the prevailing view of Syt7 and strongly suggest that the physiological functions of Syt7 in the mammalian central nervous system are not confined to neurons. Calcium-binding proteins with sequence similarity to Syt7, such as Syt1 2, may be more appropriate to serve as Ca2 + sensors in astrocytes. Astrocytic Syt1 2 may function in conjunction with different modes of stimulus-induced Ca2 + elevations to modulate synaptic transmission or to trigger other signaling cascades that trigger astrocytic processes that modulate synaptic transmission. learned1 learned2 learned3 learned4 learned5 learned6 learned7 learned8 learned9 the answer to the question given the context is no.'},\n",
       " {'generated_text': 'question: What is Synaptotagmin-7? answer: Synaptotagmin-7 is one of the two calcium sensors for fast neurotransmitter release found at parallel fiber to Purkinje cell synapses in the cerebellum. Both Syt1 and Syt2 are localized to the nerve terminal and are essential for fast exocytosis. In Syt1 KO mice, neurotransmission is largely abolished, whereas in Syt2 KO mice, it remains partially intact. Here, we investigated the function of Syt7 in fast neurotransmitter release using mice with a deletion of Syt1 and Syt7 and mice with deletions of Syt1, Syt2, and Syt7. Syt7 deletion did not alter synaptic transmission, and Syt1 and Syt2 double deletion caused a complete loss of fast transmission. In Syt1, Syt2, and Syt7 triple KO mice, neurotransmission was completely abolished. Neurotransmission in Syt1, Syt2, and Syt7 double KO mice could be restored by expression of Syt1, Syt7, or both Syt1 and Syt7. These data suggest that Syt1, Syt2 effusion, and Syt7 can function downstream of calcium influx and at the interface of calcium sensor and core fusion machinery. However, calcium transients were smaller in Syt1, Syt2, and Syt7 triple KO mice compared with Syt1, Syt2 double KO mice, indicating partial overlap in their calcium sensitivity in presynaptic terminals. Syt7 was not sufficient to trigger spontaneous release, even during prolonged stimulation. Thus, the calcium-dependent triggering of exocytosis by Syt7 probably requires additional regulatory factors. Overall, the function of Syt7 is at odds with the proposed function of the homologous proteins Syt3 and Syt5 as calcium sensors for slow synaptic vesicle exocytosis. Syt1 and Syt2 are redundantly required for fast and slow neurotransmitter release. Thus, fast and slow synaptic vesicle exocytosis are mediated by different calcium sensors. These results challenge the concept that different calcium sensor proteins mediate fast and slow synaptic vesicle exocytosis. Guest Editor: David Poser, MD, PhD. < / FREETEXT > < / ABSTRACT > ▃'},\n",
       " {'generated_text': 'question: What is Synaptotagmin-7? answer: In this work, we explore the role of synaptotagmin-7 (Syt7), an extensively studied presynaptic Ca (2 +) sensor of neuroexocytosis. Unlike other Syt family members, which have a well-established function in fast neuroexocytosis, Syt7 appears to have little effect on these processes when analyzed in Syt7-deficient mice. Nevertheless, some studies have revealed that this molecule functions in a slower form of neurotransmission mediated by small clear vesicles. Because studies on the function of Syt7 have been mainly performed in neurotoxicity and / or Syt7 transgenic models, its precise role in central nervous system (CNS) remains to be clarified. Here, we analyzed the levels and expression pattern of Syt7 in the CNS and correlated these data with Syt7-deficient mouse behavioral studies, because altered CNS function might produce compensatory changes that obscure any particular physiological contribution of Syt7. We found that although most regions of the adult CNS express detectable levels of Syt7, some neurons, such as thalamocortical axons in the somatosensory thalamus and thalamocortical synapse cartridges that impinge on neurons in the ventrobasal thalamus (VB) in the somatosensory pathway, lack detectable talar levels of this molecule. Consistent with this observation, Syt7-deficient thalamocortical projections in Syt7 (- / -) mice showed normal evoked transmission even at high frequencies of stimulation. Moreover, behavioral studies revealed that Syt7 (- / -) athion mice, although exhibiting alterations in sensory processing, including altered whisker-induced tactile responses, did not display obvious alterations in sensorimotor gating functions. Our results indicate that while Syt7 is widely expressed in the adult nervous system, most central synapses, with the notable exception of some thalamocortical projections, appear to function normally in its absence. Synapse 6 8: 2 8 5-2 9 4, 2 0 1 0. Copyright © 2 0 1 0 Wiley-Liss, Inc. < / FREETEXT > < / ABSTRACT > ▃'},\n",
       " {'generated_text': 'question: What is Synaptotagmin-7? answer: This study raises several questions regarding synaptotagmin-7 including its localization, expression profile, and calcium sensing function in cellular systems and behavioral assays. We found that synaptotagmin-7 in mice has a broad expression profile in the nervous system, albeit at high levels in certain brain regions and spinal cord motor neurons. The presence of synaptotagmin-7 in sensory neurons and the spinal cord is consistent with behavioral experiments showing that the loss of synaptotagmin-7 leads to defects in pain processing and gait. However, loss of synaptotagmin-7 did not cause lethality that would be expected if synaptotagmin-7 regulated a widespread form of calcium-triggered vesicle fusion that is required for vesicular neurotransmitter release and the maintenance of cellular homeostasis. This is different from other synaptotagmin family members, which are essential components of the core secretory machinery. At the cellular level, we found that loss of synaptotagmin-7 did not affect calcium-triggered neurotransmitter release in several types of neurons, despite the presence of synaptotagmin-7 at synapses, suggesting that synaptotagmin-7 functions redundantly with other calcium sensors. Our analysis was limited by the lack of a specific antibody, but future work with new antibodies and genetically modified animals that express tagged forms of synaptotagmin-7 will be necessary to further examine this question. < / FREETEXT > < / PARAGRAPH > ▃'},\n",
       " {'generated_text': 'question: What is Synaptotagmin-7? answer: In this manuscript we have reevaluated the Ca2 + -dependent function of Syt7 using mice deficient in Syt7 and knockin mice expressing a nonageable version of Syt7. We demonstrate that absence of endogenous Syt7 drastically reduced the readily releasable pool of synaptic vesicles containing synaptotagmin-1 (Syt1) but had little effect on the size of the readily releasable pool containing Syt7. At the same time, the rate of spontaneous release was elevated in Syt1-deficient neurons and not affected by absence of Syt7 disseminated throughout the presynaptic axon. We conclude that, in neurons, Syt7 is not central for the Ca (2 +) triggering of vesicle exocytosis, but it exerts a tonic inhibition on vesicle fusion in the absence of Syt1. This unexpected function of Syt7 could help to explain the evolutionary conservation of two synaptotagmins in all animals. < / FREETEXT > < / ABSTRACT > ▃'},\n",
       " {'generated_text': 'question: What is Synaptotagmin-7? answer: We provide structural, biochemical, and cell biological evidence that Syt7 is an SV Ca (2 +) sensor, thereby extending the molecular repertoire of synaptotagmin proteins. The Ca (2 +) affinities measured for several synaptotagmin variants suggest a contribution of synaptotagmin-7 to fast, synchronous transmitter release. However, the observation that the phenotype of Syt7 KO is quantitatively weaker than that of synaptotagmin-1 KO suggests that Ca (2 +) -mediated release can be mediated by additional synaptotagmin isoforms. We discuss possible interactions between Syt7 and other synaptotagmin isoforms and SV proteins and consider functional parallels to complexins. Syt1 / 7 / 9KO triple mutant mice will be instrumental for future studies to define the role of Syt7 within the core release machinery. Since Syt7 KO did not compromise synaptic transmission in one study (Pang et al., 2 0 0 6a), it will also be important to rigorously examine Syt7 KO mice in multiple genetic backgrounds to determine its overall contribution to regulated synaptic vesicle exocytosis. < / FREETEXT > < / ABSTRACT > ▃'},\n",
       " {'generated_text': 'question: What is Synaptotagmin-7? answer: The search for additional, functionally important Synaptotagmin genes that may reside within the human genome has been intense. However, to date, only the Synaptotagmin-1 (Syt1) gene has been localized to human chromosome 1 9p1 3. 2, a location that has thus far ruled out additional human homologs. Using bioinformatics, we identified seven previously unplaced human sequences that exhibit extensive similarity to the Syt1 protein. We report the characterization of one of these genes, Syt7, which is localized on human chromosome 2 0p1 3. 2. A Syt7 full-length cDNA clone was obtained, and a predicted open reading frame of 1, 0 1 8 bp encoding a protein that is approximately 7 0% identical to Syt1. Phylogenetic analysis placed human Syt7 within the same clade as Syt1 and a second member, Syt9, suggesting that these three genes may have arisen via a gene duplication event. Syt7 is preferentially expressed in brain and peripheral tissues, including skeletal muscle, heart, and kidney, whereas Syt1 is mainly expressed in brain, with lower levels found in skeletal muscle, heart, and pancreas. Syt1 and Syt7 exhibit different patterns of synaptic tingitation. Both proteins are found on synaptic vesicles but exhibit distinct patterns of distribution within various subcellular membrane fractions of brain homogenates, suggesting that they localize to distinct membranous compartments. The intracellular distribution patterns of Syt7 and Syt1 also differ following KCl-depolarization and ionomycin treatments of PC1 2 cells, suggesting that Syt7 and Syt1 undergo distinct modes of regulated trafficking. Finally, Syt7 and Syt1 exhibit significantly different patterns of expression in certain brain regions. These studies suggest that human Syt7, like Syt1, is a member of the synaptotagmin family and may play a role in synaptic transmission. However, the distinct patterns of expression and trafficking observed for Syt7 and Syt1 suggest that these two proteins may perform unique functions within the vesicle-mediated secretory pathway. Syt7 should now be considered a candidate for genetic mutations that underlie diseases of synaptic transmission, such as epilepsy or migraine. Display: The human genome contains seven previously unplaced Synaptotagmin-like sequences. We characterized one of these genes, nemo-bin 7 (syt7), which exhibits extensive similarity to Syt1. Syt7 is preferentially expressed in brain and peripheral tissues, including skeletal muscle, heart, and kidney. Syt7 is present on synaptic vesicles but exhibits distinct patterns of distribution within membrane fractions. syt7 and Syt1 exhibit significantly different patterns of expression in certain brain regions. Syt7 should now be considered a candidate for genetic mutations that underlie epilepsy or migraine. Chapman, H.A., Guan, Y., Li, M.-S., Wang, T., Paudel, F.J.G., Diogo, J., Bao, X., Jin, B., Luo, C., Xu, T., Zhao, Y., Rush, S.M., Bao, H., Jin, Y., Liu, Y., Liu, S., Sheng, J., Wang, X. 9B new human Synaptotagmin-like genes: tissue-specific expression, alternative splicing and chromosomal assignment. Dev. Dyn. 2 3 6, 8 4 7-8 6 0.Page1001 [PMC free article] [PubMed] [Google Scholar] [Google Scholar] 1 2. Bennett, V.A., Geppert, S., Chapman, J.H., Bennett, J.D., Chapman, J.W., Bennett, M.P., Borgen, E., Brown, R., Burgoyne, P., Cooper, J.A., Davis, M.W., Davis, J.E., Davis, R.J.R., Dierickx, R., Deptré, A., Dijkman, L., Edwards, P.H., Fink, P.O., Fink, C.'},\n",
       " {'generated_text': 'question: What is Synaptotagmin-7? answer: Synaptotagmin-7, but not other mammalian synaptotagmins, regulates dense-core vesicle exocytosis in hippocampal neurons, suggesting that it is the calcium sensor for synaptic transmission. Synaptotagmin-7 has been controversial as a synaptic vesicle protein at odds with its genetic discovery. However, we show here that endogenous synaptotagmin-7 is present in purified synaptic vesicles and, moreover, is colocalized with the synaptic vesicle protein, synaptotagmin-1, in presynaptic nerve terminals. In neurons derived from synaptotagmin-7 knock-out mice, evoked neurotransmitter release is significantly reduced relative to wild-type readmitted responses, whereas spontaneous release is unchanged. Direct calcium sensing by synaptotagmin-7 is suggested by its ability to bind calcium and regulate neuronal exocytosis in a recombinant expression system. Expression of a synaptotagmin-7 C2B domain mutant known to impair calcium binding abolishes the ability of synaptotagmin-7 to inhibit regulated neuronal exocytosis. We propose that synaptotagmin-7 functions as the calcium sensor for calcium-triggered dense-core vesicle exocytosis in hippocampal neurons. < / FREETEXT > < / PARAGRAPH > ▃ < PARAGRAPH > < FREETEXT > Keywords: < / FREETEXT > < / PARAGRAPH > ▃ < PARAGRAPH > < FREETEXT > dense-core vesicle, SNARE, synaptic transmission, synaptotagmin, calcium < / FREETEXT > < / PARAGRAPH > ▃ < PARAGRAPH > < FREETEXT > Neurotransmitter release is regulated by intracellular calcium, and a long-standing paradigm is that calcium acts by binding to intracellular proteins called synaptotagmins (Geppert et al., Losonczy and Mattson, 2 0 0 2). Several synaptotagmins, including synaptotagmin-1 and synaptotagmin-7, act as calcium sensors for regulated dense-core vesicle exocytosis in neuroendocrine cells, but it remains unclear which, if either, of these synaptotagmins function as the calcium sensor in neurons (Fernandez-Chacon et al., 2 0 0 1; Nagy et al., 2 0 0 2, 2 0 0 4; Geppert et al., 2 0 0 3; Gustavsson et al., 2 0 0 5; Bacaj et al., 2 0 0 6). A major experimental problem has been the lack of a specific genetic manipulation that completely eliminates any particular synaptotagmin. < / FREETEXT > < / PARAGRAPH > ▃ < PARAGRAPH > < FREETEXT > We and others recently developed a genetic approach using embryonic stem (ES) cell – derived neurons (Sun et al., 2 0 0 3, 2 0 0 5; Dibotta et al., 2 0 0 5). Neurons are differentiated from ES cells and subsequently subjected to genetic manipulations including homologous recombination. Using this method, we showed that several of the neuronal SNAREs (soluble N-ethylmaleimide-sensitive factor attachment protein receptor), plasma membrane SNAREs, and calcium-dependent adaptors are involved in dense-core vesicle exocytosis from embryonic precursor neurons (Sun et al., 2 0 0 3; Dibotta et al., 2 0 0 特4ically highlighted in the text). Here, we show that another approach, the lentiviral-mediated expression of short interfering RNAs (siRNAs), can be used to inhibit the expression of endogenous synaptotagmin-7 in neurons. This approach demonstrates that synaptotagmin-7, but not other endogenous synaptotagmins, is a critical regulator of calcium-triggered dense-core vesicle exocytosis in hippocampal neurons. Finally, we demonstrate that synaptotagmin-7 binds calcium and regulates exocytosis in a manner analogous to other synaptotagmins. < / FREETEXT > < / PARAGRAPH > ▃ < PARAGRAPH > < FREETEXT > The lentiviral expression and rescue vectors. We generated four lentiviral expression vectors: pLVTHM encodes green fluorescent protein (GFP); pLVTH.Syt7-shRNA expresses a hairpin RNA targeting rat synaptotagmin-7 (sequence: 5 ′ -CCA'},\n",
       " {'generated_text': 'question: What is Synaptotagmin-7? answer: Synaptotagmin-7 is widely expressed in neuronal and some non-neuronal cells and is thought to act as a Ca (2 +) sensor for synaptic vesicle exocytosis. However, whether Synaptotagmin-7 is essential for synchronous synaptic transmission is controversial. This controversy appears to be due, at least in part, to the fact that three different Synaptotagmin-7-deficient mouse lines have been independently generated, making it possible that the apparent phenotype results from the insertion of a \"balancer\" chromosome in one of these mouse lines. However, the \"balancer\" chromosome does not appear to have any functional consequences since it has been removed from the three different Synaptotagmin-7-deficient mouse lines that have been described so far. Thus, all three different Synaptotagmin-7-deficient mice generated so far, including the line that lacks the \"balancer\" chromosome, exhibit normal synaptic transmission at most synapses examined. In addition, the most detailed physiological analysis to date performed at the auditory nerve-cochlear nucleus synapse in Synaptotagmin-7-deficient mice has failed to detect any defect in synaptic transmission. One possible explanation for the lack of a strong phenotype in Synaptotagmin-7-deficient mice might be that Synaptotagmin-7 function can be partially substituted by another Synaptotagmin family member. However, this is unlikely since mice deficient in both Synaptotagmin-7 and Synaptotagmin-1 exhibit massive paralysis similar to that reported for mice deficient in Synaptotagmin-1 alone. In addition, the cytoplasmic domain of Synaptotagmin-7 interacts with many of the same soluble N-ethylmaleimide fusion protein attachment receptor (SNARE) proteins as those for Synaptotagmin-1, raising the possibility that Synaptotagmin-7 and Synaptotagmin-1 regulate exocytosis via similar molecular mechanisms. Thus, although no individual Synaptotagmin appears to be essential for exocytosis, it remains possible that different synaptic transmission functions are served by different Synaptotagmins. Alternatively, the lack of a strong synaptic transmission phenotype in Synaptotagmin-7-deficient mice might be due to functional redundancy among different Synaptotagmins, and the introduction of additional mutations will be necessary to uncover a role for Synaptotagmin-7 in synaptic transmission. Nevertheless, the functional characterization of additional Synaptotagmin family members and the generation of new mouse and Drosophila mutants deficient in other Synaptotagmin family members will be essential for elucidating the precise function (s) of this fascinating class of proteins. < / FREETEXT > < / ABSTRACT > ▃'},\n",
       " {'generated_text': 'question: What is Synaptotagmin-7? answer: Synaptotagmin-7 is a brain-specific synaptotagmin that was named after the fact that its expression is highly restricted to the nervous system. Recently, studies employing gene targeting in mice have uncovered functions for synaptotagmin-7 in synaptic vesicle exocytosis and neurotransmitter receptor trafficking at inhibitory synapses. The precise roles of synaptotagmin-7 and its relationship to other synaptotagmins remain to be fully elucidated. This article discusses our understanding of synaptotagmin-7, and highlights outstanding questions that will need to be addressed to further our understanding of the functions of this intriguing synaptotagmin. < / FREETEXT > < / ABSTRACT > ▃'},\n",
       " {'generated_text': 'question: What is Synaptotagmin-7? answer: In contrast to the large body of literature on Synaptotagmin-1 and -2, little is known about Synaptotagmin-7. In cultured hippocampal neurons, Synaptotagmin-7 is localized to axons and synaptic terminals, and its Ca 2 + -dependent binding to phospholipid vesicles correlates well with the distribution of synaptotagmin-1. Furthermore, the overexpression of Synaptotagmin-7 in PC1 2 cells enhances secretory responses, whereas its downregulation by RNA interference (RNAi) decreases these responses. However, it is not clear whether Synaptotagmin-7 is the Ca 2 + sensor for fast neuroexocytosis. In particular, the properties of Synaptotagmin-7 that distinguish it from Synaptotagmin-1 and -2, such as its membrane topology or distribution within presynaptic terminals, have not been thoroughly investigated. In this study we addressed these questions by using two highly specific antibodies raised against different domains of Synaptotagmin-7. We found that Synaptotagmin-7 is a peripheral membrane protein that is anchored to synaptic vesicles via its transmembrane region, and it is present at lower levels than Synaptotagmin-1 within presynaptic terminals. Furthermore, our results suggest that Synaptotagmin-7 is a synaptotagmin isoform with both Ca 2 + -dependent and Ca 2 + -independent modes of phospholipid binding. In addition, we have identified a cytoplasmic fragment of Synaptotagmin-7 that contains the domains homologous to those that form the phospholipid binding sites of Synaptotagmins-1 and -2. Our results provide new insights into the properties of this poorly studied isoform of synaptotagmin and will be instrumental in designing experiments aimed at identifying the function of Synaptotagmin-7 in the nervous system. Anat Rec, 3 0 1: 4 7-5 8, 2 0 1 8. © 2 0 1 7 Wiley Periodicals, Inc. < / FREETEXT > < / ABSTRACT > ▃'},\n",
       " {'generated_text': 'question: What is Synaptotagmin-7? answer: Synaptotagmin-7 is a type I transmembrane protein with two C2 domains. It is predominantly expressed in neuroendocrine tissues, where it functions as an essential calcium sensor for fast calcium-triggered exocytosis. Synaptotagmin-7-deficient mice develop a severe and complex phenotype, characterized by growth retardation, ataxia, and lethal seizures. Biochemical and electrophysiological studies have shown that synaptotagmin-7 regulates synaptic vesicle exocytosis downstream of calcium channels but upstream of SNARES. At mammalian synapses, synaptotagmin-7 mainly localizes to dense-core vesicles in chromaffin cells, which suggests that it might also regulate the exocytosis of large dense-core vesicles. However, synaptotagmin-7-deficient mice that have been rescued by re-introduction of synaptotagmin-7 specific to mice do not develop a chromaffin cell phenotype. Instead, they show deficits in the regulated exocytosis of small synaptic vesicles, indicating that synaptotagmin-7 plays a differential role in fast exocytosis of different types of vesicles. This raises the question how synaptotagmin-7 functions as a calcium sensor for the exocytosis of different types of vesicles. Here, we discuss different modes of calcium decoding by synaptotagmins, including their different calcium affinities and different calcium sensitivities of interactions with SNAREs and membranes. We also consider evidence suggesting that synaptotagmin-7 might act as a trigger or clamp in the hierarchy of vesicle fusion during neuropeptide secretion from neuroendocrine cells. This article is part of a Special Issue entitled: Calcium-dependent proteins: Structure, functon and disease. Guest Editors: Geethia Kodec, Claus Heizmann, Jíbal Haucke, Thierry Monnet. Decisions are always oh-le-ti for you. < / FREETEXT > < / ABSTRACT > ▃'},\n",
       " {'generated_text': 'question: What is Synaptotagmin-7? answer: Most previous studies have focused on the neuronal isoforms, synaptotagmin-1 and synaptotagmin-9, whereas the other 7 synaptotagmin isoforms were largely ignored. Synaptotagmin-7 is unique among these in having an acidic polybasic region between the second and third C2 domains. Here we explore the functional role of the acidic polybasic region and its interactions with lipids. We found that the polybasic region does not contribute significantly to Ca (2 +) - and lipid-binding activities of synaptotagmin-7 but is important for its localization to endocytosis-related structures. Mutations that inhibit interactions with PIP2 had profound effects on the distribution of synaptotagmin-7, whereas the presence of PIP2 was important for its targeting to clathrin-coated pits. Moreover, inhibition of dynamin GTPase function, either by a dynamin mutant or by increasing the concentration of GTP, led to an accumulation of synaptotagmin-7 at the plasma membrane. These data support a model in which Ca (2 +) -dependent interactions with PIP2 via the polybasic region promote the localization of synaptotagmin-7 to clathrin-coated pits, which may be critical for driving late events in endocytosis. — Bai, T., Chapman, J.-Y., Zhang, W., Baroni, A. A., Bares, C. A., Evans, P. A., Chapman, J.-Y. The polybasic region of synaptotagmin-7 specifies its localization to endocytic structures and promotes late steps in endocytosis. < / FREETEXT > < / PARAGRAPH > ▃ < PARAGRAPH > < FREETEXT > Keywords: < / FREETEXT > < / PARAGRAPH > ▃ < PARAGRAPH > < FREETEXT > adaptor protein, clathrin-coated pits, synaptic vesicle recycling, PH domain < / FREETEXT > < / PARAGRAPH > ▃ < PARAGRAPH > < FREETEXT > The neurotransmitter release machinery is highly organized and regulated to ensure fast, precisely timed Ca (2 +) -dependent fusion of synaptic vesicles with the plasma membrane for the release of their neurotransmitter content. This machinery is comprised of several proteins organized into 2 main complexes: the SNARE complex that brings the 2 bilayers together and catalyzes their fusion; and the Ca (2 +) -sensing machinery (which includes synaptotagmin 1 – 7 and Doc2 proteins) that triggers SNARE-dependent membrane fusion. It was previously thought that this Ca (2 +) -sensing machinery consisted of only neuronal isoforms. However, during the past decade, much interest has been focused on the functions of a group of synaptotagmins (for review, see refs. 3, – 5). There are 1 7 synaptotagmin isoforms that are differentially expressed in a cell type-and tissue-specific manner. Although Ca (2 +) -triggered vesicle fusion has long been regarded as the only function of synaptotagmins, more recent discoveries have linked the synaptotagmins to many other cellular processes (for review, see ref. 6). Synaptotagmins participate in neurotransmitter release, exocytosis of dense-core vesicles, endocytosis, synaptic vesicle priming, regulation of secretion, plasma membrane repair, and phagocytosis (4, 5, 7, – 1 4). They also act as Ca (2 +) -sensors for other physiological processes, such as neuropeptide secretion by endocrine cells, and participate in signaling pathways, such as those mediated by G protein-coupled receptors (for review, see refs. 5, 8). Despite the importance of the synaptotagmins for basic physiology and pathophysiological effects, the molecular mechanisms by which the synaptotagmins act are still not clear. < / FREETEXT > < / PARAGRAPH > ▃ < PARAGRAPH > < FREETEXT > All synaptotagmins share a conserved core structure consisting of a short N-terminal luminal domain, followed by 1 transmembrane region and 2 cytoplasmic Ca (2 +) -binding C2 domains, designated C1- and C2-domains (1, 5, 1 5). The vesicular synaptotagmins, synaptotagmin 1 and'},\n",
       " {'generated_text': 'question: What is Synaptotagmin-7? answer: Synaptotagmin-7 (Syt-7) is a Ca (2 +) -sensor for evoked vesicle exocytosis in central neurons, yet how it triggers release remains enigmatic. Syt-7 clusters SVs near release sites and accelerates SV repriming at rest. Because Syt-7 also associates with the plasma membrane in a Ca (2 +) -dependent manner, it has been proposed that it might link the release machinery to the plasma membrane. Here, we used total internal reflection fluorescence microscopy to visualize individual Syt-7 clusters and SVs on the axon initial segment, the region of fastest exocytosis. We found that about one of four Syt-7 clusters is closely apposed to each SV release site. Syt-7 clusters were absent in syt-7 (- / -) neurons, but were restored by re-expression of Syt-7, but not of variants that are deficient in Ca (2 +) -binding, SV docking, or plasma membrane binding. Syt-7 variants that localize to the plasma membrane without synaptotagmin-1 rescued the repriming defect in syt-7 (- / -) neurons, but failed to restore the clustering defect, suggesting that both functions of Syt-7 require distinct properties of the cytoplasmic region of Syt-7. Our results suggest that the coupling of the release machinery to the SV membrane is not essential for SV priming. We propose instead that the Ca (2 +) -sensing function of Syt-7 is primarily responsible for accelerating SV repriming. The close association of Syt-7 clusters with each SV suggests that the Ca (2 +) -sensing function of Syt-7 is spatially confined to individual release sites, possibly to prevent Syt-7 from interfering with the fusion reaction in the wake of else-ongoing release. VIDEO ABSTRACT. < / FREETEXT > < / ABSTRACT > ▃'},\n",
       " {'generated_text': 'question: What is Synaptotagmin-7? answer: We address the question of neuronal function of Syt7 by characterizing the loss of function phenotype in Syt7 - / - mice generated either by homologous recombination (HSKO) or by gene trapping (TβKO). We report that these mice have no evident behavioral abnormalities, normal spontaneous behavior, normal coordination and gait, and normal performance on a rotating rod. In addition, they have no evident alterations of synaptic physiology at hippocampal CA1 synapses in vitro. The two mutants also showed similar deficits upon induction of LTP, with no evident increase wasp of transmitter release either at hippocampal CA1 or at cerebellar parallel fiber synapses. Similar findings were obtained when Ca2 + -dependent exocytosis was triggered by a high K + concentration stimulus. Moreover, the level of expression of several presynaptic proteins, including Synaptotagmin-1 (Syt1), Doc2, Munc1 3 and Synapsin, was normal in HSKO and TβKO sinuses. β-Galactosidase activity was observed not only in the brain but also in selected peripheral tissues and in specific cell populations in the brain, suggesting that Syt7 is also expressed outside the nervous system. We conclude that Syt7 is not essential for the basic function of fast synaptic transmission, but that it might cooperate with Syt1 in specific forms of regulated exocytosis observed upon induction of long-term synaptic plasticity. < / FREETEXT > < / ABSTRACT > ▃'}]"
      ]
     },
     "execution_count": null,
     "metadata": {},
     "output_type": "execute_result"
    }
   ],
   "source": [
    "# 生成文本\n",
    "# max new tokens：生成的最多 token 数量\n",
    "# num_return_sequences：生成的序列个数\n",
    "generator('question: What is Synaptotagmin-7? answer:', max_new_tokens=760, num_return_sequences=20, do_sample=True)"
   ]
  },
  {
   "cell_type": "markdown",
   "id": "5b3a3860-3622-4b4c-a0f3-2fea664e0092",
   "metadata": {},
   "source": [
    "---"
   ]
  },
  {
   "cell_type": "markdown",
   "id": "eb2aa747-361f-4e6a-8f22-efbc1dc323a5",
   "metadata": {},
   "source": [
    "* https://github.com/huggingface/transformers/blob/main/notebooks/README.md\n",
    "* [BioGPT: generative pre-trained transformer for biomedical text generation and mining](https://academic.oup.com/bib/article/23/6/bbac409/6713511?guestAccessKey=a66d9b5d-4f83-4017-bb52-405815c907b9)"
   ]
  },
  {
   "cell_type": "markdown",
   "id": "ba382d3f-16e8-42f0-a6bd-67a9acb8b923",
   "metadata": {},
   "source": [
    "---"
   ]
  }
 ],
 "metadata": {
  "kernelspec": {
   "display_name": "Python 3 (ipykernel)",
   "language": "python",
   "name": "python3"
  }
 },
 "nbformat": 4,
 "nbformat_minor": 5
}
