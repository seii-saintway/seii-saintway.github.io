{
 "cells": [
  {
   "cell_type": "markdown",
   "id": "f37aed0b-aa2d-41b8-a684-38e300ed390d",
   "metadata": {},
   "source": [
    "## [Elastic Versatile Agent with LangChain](https://github.com/corca-ai/EVAL)"
   ]
  },
  {
   "cell_type": "markdown",
   "id": "e48e67da-f333-4bdd-b77a-be3b28ba5c2a",
   "metadata": {},
   "source": [
    "https://github.com/corca-ai/EVAL/blob/main/core/tools/cpu.py"
   ]
  }
 ],
 "metadata": {
  "kernelspec": {
   "display_name": "Python 3 (ipykernel)",
   "language": "python",
   "name": "python3"
  }
 },
 "nbformat": 4,
 "nbformat_minor": 5
}
