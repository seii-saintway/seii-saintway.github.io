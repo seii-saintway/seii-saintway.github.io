{
 "cells": [
  {
   "cell_type": "markdown",
   "id": "f37aed0b-aa2d-41b8-a684-38e300ed390d",
   "metadata": {},
   "source": [
    "## [Elastic Versatile Agent with LangChain](https://github.com/corca-ai/EVAL)"
   ]
  },
  {
   "cell_type": "markdown",
   "id": "7ba0c5f1-5c35-40a0-87dc-ae726d518c65",
   "metadata": {},
   "source": [
    "---\n",
    "在 macOS 上安装 Redis 可以通过 Homebrew 进行安装。以下是安装步骤：\n",
    "\n",
    "1. 打开终端应用程序（Terminal）。\n",
    "\n",
    "2. 确保已安装 Homebrew，如果未安装，请在终端中运行以下命令安装 Homebrew："
   ]
  },
  {
   "cell_type": "code",
   "execution_count": null,
   "id": "d63db8b2-e1de-4629-b8cb-743fbcd16cbd",
   "metadata": {},
   "outputs": [],
   "source": [
    "%%bash\n",
    "$(curl -fsSL https://raw.githubusercontent.com/Homebrew/install/HEAD/install.sh)"
   ]
  },
  {
   "cell_type": "markdown",
   "id": "2a8444e1-b212-4d2c-9ab7-5124fb761ea9",
   "metadata": {},
   "source": [
    "3. 安装 Redis。在终端中运行以下命令："
   ]
  },
  {
   "cell_type": "code",
   "execution_count": null,
   "id": "82f6e2b3-0513-4d4b-adc7-6da91cfe031d",
   "metadata": {},
   "outputs": [],
   "source": [
    "%%bash\n",
    "brew install redis"
   ]
  },
  {
   "cell_type": "markdown",
   "id": "62405c9f-58f6-4dcd-a02b-858df8a10e00",
   "metadata": {},
   "source": [
    "4. 安装完成后，运行以下命令启动 Redis 服务器："
   ]
  },
  {
   "cell_type": "code",
   "execution_count": null,
   "id": "fe9b38f6-49b3-42f7-a860-a3783f97ab90",
   "metadata": {},
   "outputs": [],
   "source": [
    "%%bash\n",
    "brew services start redis"
   ]
  },
  {
   "cell_type": "markdown",
   "id": "fb974c9f-3d65-473a-867a-fc6b87e92864",
   "metadata": {},
   "source": [
    "此时 Redis 服务器应已成功启动。\n",
    "\n",
    "如果需要停止 Redis 服务器，请在终端中运行以下命令："
   ]
  },
  {
   "cell_type": "code",
   "execution_count": null,
   "id": "7727027f-b895-4a5a-8ad6-4e168652c187",
   "metadata": {},
   "outputs": [],
   "source": [
    "%%bash\n",
    "brew services stop redis"
   ]
  },
  {
   "cell_type": "markdown",
   "id": "642015f9-5027-4624-9f14-80dd94830a02",
   "metadata": {},
   "source": [
    "如果需要卸载 Redis，请在终端中运行以下命令："
   ]
  },
  {
   "cell_type": "markdown",
   "id": "c6fa8e1c-43db-4c09-b41b-05ff2da18d7e",
   "metadata": {},
   "source": [
    "---\n",
    "https://github.com/corca-ai/EVAL/blob/main/core/tools/cpu.py"
   ]
  },
  {
   "cell_type": "code",
   "execution_count": null,
   "id": "b8f9c1d3-6d88-4638-a9df-a907eb6677ab",
   "metadata": {},
   "outputs": [],
   "source": [
    "%%bash\n",
    "brew uninstall redis"
   ]
  },
  {
   "cell_type": "code",
   "execution_count": null,
   "id": "0af542cf",
   "metadata": {},
   "outputs": [],
   "source": [
    "%env USE_GPU=False\n",
    "%env CELERY_BROKER_URL=redis://localhost:6379"
   ]
  },
  {
   "cell_type": "code",
   "execution_count": null,
   "id": "dc452d4a",
   "metadata": {},
   "outputs": [],
   "source": [
    "# https://github.com/corca-ai/EVAL/blob/main/api/main.py\n",
    "executor = agent_manager.create_executor(session)"
   ]
  },
  {
   "cell_type": "code",
   "execution_count": null,
   "id": "395793e5",
   "metadata": {},
   "outputs": [],
   "source": [
    "%%bash\n",
    "curl -X POST -H \"Content-Type: application/json\" -d '{\"session\": \"sessionid\", \"files\": [], \"prompt\": \"Hi there!\"}' http://localhost:8000/api/execute"
   ]
  }
 ],
 "metadata": {
  "kernelspec": {
   "display_name": "Python 3 (ipykernel)",
   "language": "python",
   "name": "python3"
  }
 },
 "nbformat": 4,
 "nbformat_minor": 5
}
