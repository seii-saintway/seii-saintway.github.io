{
 "cells": [
  {
   "cell_type": "markdown",
   "metadata": {},
   "source": [
    "* [Examples](https://github.com/bacalhau-project/examples)\n",
    "* [CLI Commands](https://docs.bacalhau.org/all-flags/)\n",
    "* [Running Locally](https://github.com/filecoin-project/bacalhau/blob/main/docs/running_locally.md)"
   ]
  },
  {
   "cell_type": "markdown",
   "metadata": {},
   "source": [
    "* [Molecular Simulation with OpenMM](https://docs.bacalhau.org/examples/molecular-dynamics/openmm/)\n",
    "  * https://github.com/bacalhau-project/examples/tree/main/molecular-dynamics\n",
    "* [Molecular Dynamics with Bacalhau](https://docs.bacalhau.org/examples/miscellaneous/Gromacs/)\n",
    "  * https://github.com/bacalhau-project/examples/tree/main/miscellaneous/Gromacs"
   ]
  },
  {
   "cell_type": "markdown",
   "metadata": {},
   "source": [
    "* [Get Docker](https://docs.docker.com/get-docker/)\n",
    "* [Getting Started with Bacalhau](https://docs.bacalhau.org/getting-started/installation/)"
   ]
  },
  {
   "cell_type": "code",
   "execution_count": null,
   "metadata": {},
   "outputs": [
    {
     "name": "stdout",
     "output_type": "stream",
     "text": [
      "Your system is darwin_amd64\n",
      "No BACALHAU detected. Installing fresh BACALHAU CLI...\n",
      "Getting the latest BACALHAU CLI...\n",
      "Installing v0.3.3 BACALHAU CLI...\n",
      "Downloading https://github.com/filecoin-project/bacalhau/releases/download/v0.3.3/bacalhau_v0.3.3_darwin_amd64.tar.gz ...\n",
      "Downloading sig file https://github.com/filecoin-project/bacalhau/releases/download/v0.3.3/bacalhau_v0.3.3_darwin_amd64.tar.gz.signature.sha256 ...\n",
      "Verified OK\n",
      "Extracting tarball ...\n",
      "NOT verifying Bin\n",
      "bacalhau installed into /usr/local/bin successfully.\n",
      "Client Version: v0.3.3\n",
      "Server Version: v0.3.3\n"
     ]
    }
   ],
   "source": [
    "curl -sL https://get.bacalhau.org/install.sh | bash"
   ]
  },
  {
   "cell_type": "code",
   "execution_count": null,
   "metadata": {},
   "outputs": [
    {
     "name": "stdout",
     "output_type": "stream",
     "text": [
      "Client Version: v0.3.3\n",
      "Server Version: v0.3.3\n"
     ]
    }
   ],
   "source": [
    "bacalhau version"
   ]
  }
 ],
 "metadata": {
  "kernelspec": {
   "display_name": "Bash",
   "language": "bash",
   "name": "bash"
  },
  "language_info": {
   "codemirror_mode": "shell",
   "file_extension": ".sh",
   "mimetype": "text/x-sh",
   "name": "bash"
  }
 },
 "nbformat": 4,
 "nbformat_minor": 4
}
