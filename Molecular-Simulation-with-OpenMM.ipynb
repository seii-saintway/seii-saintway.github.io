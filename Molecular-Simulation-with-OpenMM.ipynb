{
 "cells": [
  {
   "cell_type": "markdown",
   "metadata": {},
   "source": [
    "# [Molecular Simulation with OpenMM](https://github.com/bacalhau-project/examples/tree/main/molecular-dynamics)\n",
    "\n",
    "* [Open In Colab](https://colab.research.google.com/github/bacalhau-project/examples/blob/main/molecular-dynamics/openmm/index.ipynb)\n",
    "* [Open In Binder](https://mybinder.org/v2/gh/bacalhau-project/examples/HEAD?labpath=molecular-dynamics/openmm/index.ipynb)\n",
    "\n",
    "[OpenMM](https://github.com/openmm/openmm) is a toolkit for molecular simulation. It is a physic based libraries that is useful for refining the structure and exploring functional interactions with other molecules. It provides a combination of extreme flexibility (through custom forces and integrators), openness, and high performance (especially on recent GPUs) that make it truly unique among simulation codes."
   ]
  },
  {
   "cell_type": "markdown",
   "metadata": {},
   "source": [
    "## Protein data\n",
    "\n",
    "We use a processed 2DRI dataset that represents the ribose binding protein in bacterial transport and chemotaxis. The source organism is the [Escherichia coli](https://en.wikipedia.org/wiki/Escherichia_coli) bacteria.\n",
    "You can find more details on this protein at the related [RCSB Protein Data Bank page](https://www.rcsb.org/structure/2dri).\n",
    "\n",
    "![image.png](./2dri-image.png)\n",
    "\n",
    "Protein data can be stored in a `.pdb` file, this is a human readable format. It provides for description and annotation of protein and nucleic acid structures including atomic coordinates, secondary structure assignments, as well as atomic connectivity.\n",
    "See more information about PDB format [here](https://www.cgl.ucsf.edu/chimera/docs/UsersGuide/tutorials/pdbintro.html)."
   ]
  },
  {
   "cell_type": "markdown",
   "metadata": {},
   "source": [
    "We are printing the first 10 lines of the file. The output contains a number of ATOM records. These describe the coordinates of the atoms that are part of the protein."
   ]
  },
  {
   "cell_type": "code",
   "execution_count": null,
   "metadata": {},
   "outputs": [
    {
     "name": "stdout",
     "output_type": "stream",
     "text": [
      "REMARK   1 CREATED WITH OPENMM 7.6, 2022-07-12\n",
      "CRYST1   81.309   81.309   81.309  90.00  90.00  90.00 P 1           1 \n",
      "ATOM      1  N   LYS A   1      64.731   9.461  59.430  1.00  0.00           N  \n",
      "ATOM      2  CA  LYS A   1      63.588  10.286  58.927  1.00  0.00           C  \n",
      "ATOM      3  HA  LYS A   1      62.707   9.486  59.038  1.00  0.00           H  \n",
      "ATOM      4  C   LYS A   1      63.790  10.671  57.468  1.00  0.00           C  \n",
      "ATOM      5  O   LYS A   1      64.887  11.089  57.078  1.00  0.00           O  \n",
      "ATOM      6  CB  LYS A   1      63.458  11.567  59.749  1.00  0.00           C  \n",
      "ATOM      7  HB2 LYS A   1      63.333  12.366  58.879  1.00  0.00           H  \n",
      "ATOM      8  HB3 LYS A   1      64.435  11.867  60.372  1.00  0.00           H  \n"
     ]
    }
   ],
   "source": [
    "%%bash\n",
    "head ./2dri-processed.pdb"
   ]
  },
  {
   "cell_type": "markdown",
   "metadata": {},
   "source": [
    "## Write the script\n",
    "To run the script above all we need is a Python environment with the [OpenMM library](http://docs.openmm.org/latest/userguide/application/01_getting_started.html) installed."
   ]
  },
  {
   "cell_type": "code",
   "execution_count": null,
   "metadata": {},
   "outputs": [],
   "source": [
    "%%bash\n",
    "conda install -c conda-forge openmm"
   ]
  },
  {
   "cell_type": "code",
   "execution_count": null,
   "metadata": {},
   "outputs": [
    {
     "name": "stdout",
     "output_type": "stream",
     "text": [
      "\n",
      "OpenMM Version: 8.0\n",
      "Git Revision: a7800059645f4471f4b91c21e742fe5aa4513cda\n",
      "\n",
      "There are 3 Platforms available:\n",
      "\n",
      "1 Reference - Successfully computed forces\n",
      "2 CPU - Successfully computed forces\n",
      "3 OpenCL - Successfully computed forces\n",
      "\n",
      "Median difference in forces between platforms:\n",
      "\n",
      "Reference vs. CPU: 6.30471e-06\n",
      "Reference vs. OpenCL: 6.74827e-06\n",
      "CPU vs. OpenCL: 7.07625e-07\n",
      "\n",
      "All differences are within tolerance.\n"
     ]
    }
   ],
   "source": [
    "%%bash\n",
    "python -m openmm.testInstallation"
   ]
  },
  {
   "cell_type": "code",
   "execution_count": null,
   "metadata": {},
   "outputs": [
    {
     "name": "stdout",
     "output_type": "stream",
     "text": [
      "Building system...\n",
      "Performing energy minimization...\n",
      "Equilibrating...\n",
      "Simulating...\n",
      "Simulation complete, file written to disk at: ./final_state.pdbx\n"
     ]
    }
   ],
   "source": [
    "import os\n",
    "from openmm import *\n",
    "from openmm.app import *\n",
    "from openmm.unit import *\n",
    "\n",
    "# Input Files\n",
    "input_path = './2dri-processed.pdb'\n",
    "os.path.exists(input_path) # check if input file exists\n",
    "pdb = PDBFile(input_path)\n",
    "forcefield = ForceField('amber14-all.xml', 'amber14/tip3pfb.xml')\n",
    "\n",
    "# Output\n",
    "output_path = './final_state.pdbx'\n",
    "if not os.path.exists(os.path.dirname(output_path)): # check if ouput dir exists\n",
    "    os.makedirs(os.path.dirname(output_path))\n",
    "\n",
    "# System Configuration\n",
    "\n",
    "nonbondedMethod = PME\n",
    "nonbondedCutoff = 1.0*nanometers\n",
    "ewaldErrorTolerance = 0.0005\n",
    "constraints = HBonds\n",
    "rigidWater = True\n",
    "constraintTolerance = 0.000001\n",
    "hydrogenMass = 1.5*amu\n",
    "\n",
    "# Integration Options\n",
    "\n",
    "dt = 0.002*picoseconds\n",
    "temperature = 310*kelvin\n",
    "friction = 1.0/picosecond\n",
    "pressure = 1.0*atmospheres\n",
    "barostatInterval = 25\n",
    "\n",
    "# Simulation Options\n",
    "\n",
    "steps = 10\n",
    "equilibrationSteps = 0\n",
    "#platform = Platform.getPlatformByName('CUDA')\n",
    "platform = Platform.getPlatformByName('CPU')\n",
    "#platformProperties = {'Precision': 'single'}\n",
    "platformProperties = {}\n",
    "dcdReporter = DCDReporter('trajectory.dcd', 1000)\n",
    "dataReporter = StateDataReporter('log.txt', 1000, totalSteps=steps,\n",
    "    step=True, time=True, speed=True, progress=True, elapsedTime=True, remainingTime=True, potentialEnergy=True, kineticEnergy=True, totalEnergy=True, temperature=True, volume=True, density=True, separator='\\t')\n",
    "checkpointReporter = CheckpointReporter('checkpoint.chk', 1000)\n",
    "\n",
    "# Prepare the Simulation\n",
    "\n",
    "print('Building system...')\n",
    "topology = pdb.topology\n",
    "positions = pdb.positions\n",
    "system = forcefield.createSystem(topology, nonbondedMethod=nonbondedMethod, nonbondedCutoff=nonbondedCutoff,\n",
    "    constraints=constraints, rigidWater=rigidWater, ewaldErrorTolerance=ewaldErrorTolerance, hydrogenMass=hydrogenMass)\n",
    "system.addForce(MonteCarloBarostat(pressure, temperature, barostatInterval))\n",
    "integrator = LangevinMiddleIntegrator(temperature, friction, dt)\n",
    "integrator.setConstraintTolerance(constraintTolerance)\n",
    "simulation = Simulation(topology, system, integrator, platform, platformProperties)\n",
    "simulation.context.setPositions(positions)\n",
    "\n",
    "# Minimize and Equilibrate\n",
    "\n",
    "print('Performing energy minimization...')\n",
    "simulation.minimizeEnergy()\n",
    "print('Equilibrating...')\n",
    "simulation.context.setVelocitiesToTemperature(temperature)\n",
    "simulation.step(equilibrationSteps)\n",
    "\n",
    "# Simulate\n",
    "\n",
    "print('Simulating...')\n",
    "simulation.reporters.append(dcdReporter)\n",
    "simulation.reporters.append(dataReporter)\n",
    "simulation.reporters.append(checkpointReporter)\n",
    "simulation.currentStep = 0\n",
    "simulation.step(steps)\n",
    "\n",
    "# Write file with final simulation state\n",
    "\n",
    "state = simulation.context.getState(getPositions=True, enforcePeriodicBox=system.usesPeriodicBoundaryConditions())\n",
    "with open(output_path, mode=\"w+\") as file:\n",
    "    PDBxFile.writeFile(simulation.topology, state.getPositions(), file)\n",
    "print('Simulation complete, file written to disk at: {}'.format(output_path))"
   ]
  },
  {
   "cell_type": "code",
   "execution_count": null,
   "metadata": {},
   "outputs": [
    {
     "name": "stdout",
     "output_type": "stream",
     "text": [
      "data_cell\n",
      "# Created with OpenMM 8.0, 2023-03-12\n",
      "#\n",
      "_cell.length_a        81.3090\n",
      "_cell.length_b        81.3090\n",
      "_cell.length_c        81.3090\n",
      "_cell.angle_alpha     90.0000\n",
      "_cell.angle_beta      90.0000\n",
      "_cell.angle_gamma     90.0000\n",
      "#\n"
     ]
    }
   ],
   "source": [
    "%%bash\n",
    "head ./final_state.pdbx"
   ]
  },
  {
   "cell_type": "markdown",
   "metadata": {},
   "source": [
    "---"
   ]
  },
  {
   "cell_type": "code",
   "execution_count": null,
   "metadata": {},
   "outputs": [],
   "source": [
    "%%bash\n",
    "pip install markdown"
   ]
  },
  {
   "cell_type": "code",
   "execution_count": null,
   "metadata": {},
   "outputs": [],
   "source": [
    "import markdown"
   ]
  },
  {
   "cell_type": "code",
   "execution_count": null,
   "metadata": {},
   "outputs": [
    {
     "data": {
      "text/plain": [
       "'<p><a href=\"https://colab.research.google.com/github/bacalhau-project/examples/blob/main/molecular-dynamics/openmm/index.ipynb\"><img alt=\"Open In Colab\" src=\"https://colab.research.google.com/assets/colab-badge.svg\" /></a></p>'"
      ]
     },
     "execution_count": null,
     "metadata": {},
     "output_type": "execute_result"
    }
   ],
   "source": [
    "markdown.markdown(\n",
    "    '[![Open In Colab](https://colab.research.google.com/assets/colab-badge.svg)](https://colab.research.google.com/github/bacalhau-project/examples/blob/main/molecular-dynamics/openmm/index.ipynb)'\n",
    ")"
   ]
  },
  {
   "cell_type": "code",
   "execution_count": null,
   "metadata": {},
   "outputs": [
    {
     "data": {
      "text/plain": [
       "'<p><a href=\"https://mybinder.org/v2/gh/bacalhau-project/examples/HEAD?labpath=molecular-dynamics/openmm/index.ipynb\"><img alt=\"Open In Binder\" src=\"https://mybinder.org/badge.svg\" /></a></p>'"
      ]
     },
     "execution_count": null,
     "metadata": {},
     "output_type": "execute_result"
    }
   ],
   "source": [
    "markdown.markdown(\n",
    "    '[![Open In Binder](https://mybinder.org/badge.svg)](https://mybinder.org/v2/gh/bacalhau-project/examples/HEAD?labpath=molecular-dynamics/openmm/index.ipynb)'\n",
    ")"
   ]
  }
 ],
 "metadata": {
  "kernelspec": {
   "display_name": "Python 3 (ipykernel)",
   "language": "python",
   "name": "python3"
  }
 },
 "nbformat": 4,
 "nbformat_minor": 4
}
