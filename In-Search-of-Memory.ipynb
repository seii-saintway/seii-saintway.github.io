{
 "cells": [
  {
   "cell_type": "markdown",
   "metadata": {},
   "source": [
    "### In Search of Memory: The Emergence of a New Science of Mind.\n",
    "* Kandel, E. R. (2006). In Search of Memory: The Emergence of a New Science of Mind. New York: W. W. Norton & Company."
   ]
  },
  {
   "cell_type": "markdown",
   "metadata": {},
   "source": [
    "#### Synaptic strength is not fixed."
   ]
  },
  {
   "cell_type": "markdown",
   "metadata": {},
   "source": [
    "##### Consolidation\n",
    "* The first rigorous test of memory consolidation came in 1949, when the American psychologist C. P. Duncan applied electrical stimuli to the brain of animals during or immediately after training, resulting in convulsions that disrupted memory and caused retrograde amnesia. Producing seizures several hours after training had little or no effect on recall.\n",
    "* Almost twenty years later, Louis Flexner at the University of Pennsylvania made the remarkable discovery that drugs that inhibit the synthesis of proteins in the brain disrupt long-term memory if given during and shortly after learning, but they do not disrupt short-term memory. This finding suggested that long-term memory storage requires the synthesis of new proteins.\n",
    "* Together, the two sets of studies seemed to confirm the idea that memory storage takes place in at least two stages: a short-term memory lasting minutes is converted -- by a process of **consolidation** that requires the **synthesis of new protein** -- into stable, long-term memory lasting days, weeks, or even longer."
   ]
  },
  {
   "cell_type": "markdown",
   "metadata": {},
   "source": [
    "##### Same Storage Sites?\n",
    "* Carew, Castellucci, and I found that the **same synaptic connections** between sensory and motor neurons that are altered in short-term habituation and sensitization are also altered in long-term habituation and sensitization. Moreover, in both cases, the synaptic changes parallel the changes in behavior we observed: in long-term habituation, the synapse is depressed for a period of weeks, whereas in long-term sensitization, it is enhanced for weeks. This suggested that, in the simplest cases, the same site can store both short- and long-term memory and that it can do so for different forms of learning."
   ]
  },
  {
   "cell_type": "markdown",
   "metadata": {},
   "source": [
    "##### Mechanism?\n",
    "* Bailey and his colleague, Mary Chen, and Carew and I found that long-term memory is not simply an extension of short-term memory: not only do the changes in synaptic strength last longer but, more amazingly, the actual number of synapses in the circuit changes. Specifically, in long-term habituation the number of presynaptic connections among sensory neurons and motor neurons decreases, whereas in long-term sensitization sensory neurons grow new connections that persist as long as the memory is retained. There is in each case a parallel set of changes in the motor cell.\n",
    "* Functional Changes vs. Anatomical Changes"
   ]
  },
  {
   "cell_type": "markdown",
   "metadata": {},
   "source": [
    "##### Molecules and Short-Term Memory\n",
    "* Release more or less transmitter?\n",
    "* Increase/decrease number of receptors?\n",
    "* Increase/decrease sensitivity of receptors?\n",
    "\n",
    "We found that the change is quite one-sided: during short-term habituation lasting minutes, the sensory neuron releases less neurotransmitter, and during short-term sensitization it releases more neurotransmitter."
   ]
  },
  {
   "cell_type": "markdown",
   "metadata": {},
   "source": [
    "#### How? Biochemical Signaling Pathways? By cyclic AMP?"
   ]
  },
  {
   "cell_type": "markdown",
   "metadata": {},
   "source": [
    "Injected an inhibitor of PKA into a sensory neuron and found that it indeed blocked the ability of serotonin to enhance glutamate release.\n",
    "\n",
    "In finding that cyclic AMP and protein kinase A are both necessary and sufficient for strengthening the connections between sensory and motor neurons, we were able to identify the first links in the chain of biochemical events leading to short-term memory storage."
   ]
  },
  {
   "cell_type": "markdown",
   "metadata": {},
   "source": [
    "##### Similarly in Mice Hippocampus\n",
    "In both Aplysia and mice, the late phase of long-term potentiation is strongly affected by modulatory interneurons, which in mice are recruited to switch a short-term, homosynaptic into long-term, heterosynaptic change. In mice those neurons release **dopamine**, a neurotransmitter commonly recruited in the mammalian brain for attention and reinforcement. Like serotonin in Aplysia, dopamine prompts a receptor in the hippocampus to activate an enzyme that increases the amount of cyclic AMP. However, an important part of the increase in cyclic AMP in the mouse hippocampus occurs in the postsynaptic cell, whereas in Aplysia the increase occurs in the presynaptic sensory neuron. In each case, the cyclic AMP recruits protein kinase A and other protein kinases, which leads to the activation of CREB and the turning on of effector genes."
   ]
  },
  {
   "cell_type": "markdown",
   "metadata": {},
   "source": [
    "#### Memory Genes and Long-Term Memory"
   ]
  },
  {
   "cell_type": "markdown",
   "metadata": {},
   "source": [
    "##### Gene Expression\n",
    "We summarized our views in \"The Long and Short of Long-Term Memory\", a conceptual review published in 1986 in Nature. In this paper, we proposed that if gene expression was required to convert short-term memory at a synapse into long-term memory, then the synapse stimulated by learning somehow had to send a signal to the nucleus telling it to turn on certain regulatory genes. In short-term memory, synapses use cyclic AMP and protein kinase A inside the cell to call for the release of more neurotransmitters. Goelet and I hypothesized that in long-term memory **this kinase moves from the synapse to the nucleus**, where it somehow activates proteins that regulate gene expression."
   ]
  },
  {
   "cell_type": "markdown",
   "metadata": {},
   "source": [
    "##### cAMP PKA MAPK CREB\n",
    "* We now collaborated with Roger Tsien at the University of California, San Diego and used a method developed by him that allowed us to visualize the location of the cyclic AMP and protein kinase A in the neuron. We found that whereas a single pulse of serotonin increases cyclic AMP and protein kinase A primarily at the synapse, **repeated pulses of serotonin produce even higher concentrations of cyclic AMP, causing protein kinase A to move into the nucleus, where it activates genes**. Later studies found that protein kinase A recruits another kinase, called **MAP kinase**, which is also associated with synaptic growth and also migrates to the nucleus. Thus we confirmed our idea that one of the functions of repeated sensitization training -- why practice makes perfect -- is to cause the appropriate signals in the form of kinases to move into the nucleus.\n",
    "* Once in the nucleus, what do these kinases do? We knew from recently published studies of non-neuronal cells that protein kinase A can activate a regulatory protein called **CREB (cyclic AMP response element-binding protein)**, which binds to a promoter (the cyclic AMP response element). This suggested to us that CREB might be a key component of the switch that converts short-term facilitation of synaptic connections to long-term facilitation and the growth of new connections.\n",
    "* An environmental stimulus -- a shock to an animal's tail activates modulatory interneurons that release serotonin. The serotonin acts on the sensory neuron to increase cyclic AMP and to cause protein kinase A and MAP kinase to move to the nucleus and activate CREB. The activation of CREB, in turn, leads to the expression of genes that changes the function and the structure of the cell.\n",
    "* In 1995 Bartsch found that there are in fact two forms of the CREB protein, much as the model of Jacob and Monod might have predicted: one that **activates gene expression (CREB-1), and one that suppresses gene expression (CREB-2)**. Repeated stimulation causes protein kinase A and MAP kinase to move to the nucleus, where protein kinase A activates CREB-1 and MAP kinase inactivates CREB-2. Thus long-term facilitation of synaptic connections requires not only a switching on of some genes, but also the switching off of others."
   ]
  },
  {
   "cell_type": "markdown",
   "metadata": {},
   "source": [
    "##### Specific Synapses?\n",
    "* A single sensory neuron has 1200 synaptic terminals and makes contact with about 25 target cells: gill motor neurons, siphon motor neurons, inking motor neurons, and excitatory and inhibitory interneurons.\n",
    "* Individual synapses can be modified independently."
   ]
  },
  {
   "cell_type": "markdown",
   "metadata": {},
   "source": [
    "##### Local Protein Synthesis\n",
    "* In the early 1980s Oswald Steward, now at the University of California, Irvine, had discovered that even though the vast majority of protein synthesis takes place in the cell body of the neuron, some also occurs locally, at the synapses themselves.\n",
    "* The proteins synthesized in the cell body and shipped to the terminals are sufficient to initiate synaptic growth, but to sustain that growth, proteins synthesized locally are necessary."
   ]
  },
  {
   "cell_type": "markdown",
   "metadata": {},
   "source": [
    "#### Memory is far more complicated..."
   ]
  }
 ],
 "metadata": {
  "kernelspec": {
   "display_name": "Python 3",
   "language": "python",
   "name": "python3"
  },
  "language_info": {
   "codemirror_mode": {
    "name": "ipython",
    "version": 3
   },
   "file_extension": ".py",
   "mimetype": "text/x-python",
   "name": "python",
   "nbconvert_exporter": "python",
   "pygments_lexer": "ipython3",
   "version": "3.9.9"
  }
 },
 "nbformat": 4,
 "nbformat_minor": 4
}
