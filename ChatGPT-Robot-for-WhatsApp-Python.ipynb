{
 "cells": [
  {
   "cell_type": "code",
   "execution_count": null,
   "id": "b362c8b4-dc2d-4084-9621-a49e53eb68ff",
   "metadata": {},
   "outputs": [],
   "source": [
    "import IPython"
   ]
  },
  {
   "cell_type": "code",
   "execution_count": null,
   "id": "d32ed11a-6d26-45b0-a438-e378517b0edb",
   "metadata": {},
   "outputs": [],
   "source": [
    "from revChatGPT.V1 import Chatbot, configure\n",
    "\n",
    "\n",
    "bot = Chatbot(\n",
    "    config = configure(),\n",
    "    conversation_id = 'fdf52ab3-f8c1-450f-86f2-5a25d43fc48d',\n",
    "    lazy_loading = True\n",
    ")"
   ]
  },
  {
   "cell_type": "markdown",
   "id": "902cc98b-b34b-4d1b-a563-bf83d942c17b",
   "metadata": {},
   "source": [
    "---"
   ]
  },
  {
   "cell_type": "code",
   "execution_count": null,
   "id": "b97ddb8b-a3e9-4ef3-b77e-f9e43d5a97d4",
   "metadata": {},
   "outputs": [
    {
     "data": {
      "text/markdown": [
       "以下是一个简单的 Flask Demo：\n",
       "\n",
       "```python\n",
       "from flask import Flask\n",
       "\n",
       "app = Flask(__name__)\n",
       "\n",
       "@app.route(\"/\")\n",
       "def hello():\n",
       "    return \"Hello, World!\"\n",
       "\n",
       "if __name__ == \"__main__\":\n",
       "    app.run()\n",
       "```\n",
       "\n",
       "这个 Demo 创建了一个简单的 Flask 应用，并定义了一个路由 /，当访问该路由时，返回字符串 \"Hello, World!\"。如果直接运行该脚本，应用将会在本地的 5000 端口运行。"
      ],
      "text/plain": [
       "<IPython.core.display.Markdown object>"
      ]
     },
     "metadata": {},
     "output_type": "display_data"
    }
   ],
   "source": [
    "for response in bot.ask('''\n",
    "给出一个 Flask 的 Demo\n",
    "'''):\n",
    "    IPython.display.display(IPython.core.display.Markdown(response['message']))\n",
    "    IPython.display.clear_output(wait=True)"
   ]
  },
  {
   "cell_type": "code",
   "execution_count": null,
   "id": "bfa67b8c-c897-4593-a015-b95672a6375a",
   "metadata": {},
   "outputs": [
    {
     "data": {
      "text/markdown": [
       "可以使用 Flask 中的路由（Route）功能来实现解析来访的 URL 地址，并将地址字符串返回给客户端。以下是一个示例代码：\n",
       "\n",
       "```python\n",
       "from flask import Flask, request\n",
       "\n",
       "app = Flask(__name__)\n",
       "\n",
       "@app.route('/')\n",
       "def index():\n",
       "    return 'Hello, World!'\n",
       "\n",
       "@app.route('/url/<path:url_string>')\n",
       "def url(url_string):\n",
       "    return f'The requested URL is: {url_string}'\n",
       "\n",
       "if __name__ == '__main__':\n",
       "    app.run()\n",
       "```\n",
       "\n",
       "在上述代码中，定义了两个路由。第一个路由 `/` 显示了 `Hello, World!` 字符串，第二个路由 `/url/<path:url_string>` 使用 `<path>` 参数解析来访的 URL 地址，并将地址字符串返回给客户端。\n",
       "\n",
       "例如，当客户端请求 `http://localhost:5000/url/www.example.com/path/to/file` 时，服务器将解析 `www.example.com/path/to/file` 字符串，并返回给客户端以下响应：\n",
       "\n",
       "```\n",
       "The requested URL is: www.example.com/path/to/file\n",
       "```"
      ],
      "text/plain": [
       "<IPython.core.display.Markdown object>"
      ]
     },
     "metadata": {},
     "output_type": "display_data"
    }
   ],
   "source": [
    "for response in bot.ask('''\n",
    "开发一个 Flask 应用，解析来访的 URL 地址，将来访 URL 地址的字符串返回给客户端。\n",
    "'''):\n",
    "    IPython.display.display(IPython.core.display.Markdown(response['message']))\n",
    "    IPython.display.clear_output(wait=True)"
   ]
  },
  {
   "cell_type": "code",
   "execution_count": null,
   "id": "d34bee9b-f6b9-4629-a580-c93922727007",
   "metadata": {},
   "outputs": [
    {
     "data": {
      "text/markdown": [
       "Flask 默认是单线程的，即使没有进行特别的设置，它也是按顺序处理每个请求。因此，默认情况下 Flask 应用程序是串行处理请求的。\n",
       "\n",
       "如果你希望更明确地设置 Flask 应用程序处理请求的方式，可以使用 Werkzeug 服务器的多线程模式。只需在启动 Flask 应用程序时设置 `threaded` 参数为 `True` 即可：\n",
       "\n",
       "```python\n",
       "if __name__ == '__main__':\n",
       "    app.run(threaded=True)\n",
       "```\n",
       "\n",
       "这将使 Flask 应用程序使用 Werkzeug 服务器的多线程模式，从而允许同时处理多个请求。注意，这并不意味着 Flask 应用程序会同时处理多个请求，它仍然会按顺序处理每个请求，只是使用多线程处理请求的过程变得更有效率。\n",
       "\n",
       "值得注意的是，虽然这种方法可以在某种程度上提高 Flask 应用程序的性能，但它并不是最好的选择。如果你需要更高级别的并发处理能力，建议使用 Gunicorn 或 uWSGI 等服务器。"
      ],
      "text/plain": [
       "<IPython.core.display.Markdown object>"
      ]
     },
     "metadata": {},
     "output_type": "display_data"
    }
   ],
   "source": [
    "for response in bot.ask('''\n",
    "怎么设置 flask app 串行处理请求？\n",
    "'''):\n",
    "    IPython.display.display(IPython.core.display.Markdown(response['message']))\n",
    "    IPython.display.clear_output(wait=True)"
   ]
  },
  {
   "cell_type": "code",
   "execution_count": null,
   "id": "6cfcffc5-e38d-497e-97b4-f3e1143ebea5",
   "metadata": {},
   "outputs": [
    {
     "name": "stdout",
     "output_type": "stream",
     "text": [
      "Collecting flask\n",
      "  Downloading Flask-2.2.3-py3-none-any.whl (101 kB)\n",
      "\u001b[2K     \u001b[90m━━━━━━━━━━━━━━━━━━━━━━━━━━━━━━━━━━━━━\u001b[0m \u001b[32m101.8/101.8 kB\u001b[0m \u001b[31m340.3 kB/s\u001b[0m eta \u001b[36m0:00:00\u001b[0ma \u001b[36m0:00:01\u001b[0m\n",
      "\u001b[?25hCollecting click>=8.0\n",
      "  Downloading click-8.1.3-py3-none-any.whl (96 kB)\n",
      "\u001b[2K     \u001b[90m━━━━━━━━━━━━━━━━━━━━━━━━━━━━━━━━━━━━━━━\u001b[0m \u001b[32m96.6/96.6 kB\u001b[0m \u001b[31m725.6 kB/s\u001b[0m eta \u001b[36m0:00:00\u001b[0ma \u001b[36m0:00:01\u001b[0m\n",
      "\u001b[?25hCollecting itsdangerous>=2.0\n",
      "  Downloading itsdangerous-2.1.2-py3-none-any.whl (15 kB)\n",
      "Collecting Werkzeug>=2.2.2\n",
      "  Downloading Werkzeug-2.2.3-py3-none-any.whl (233 kB)\n",
      "\u001b[2K     \u001b[90m━━━━━━━━━━━━━━━━━━━━━━━━━━━━━━━━━━━━━\u001b[0m \u001b[32m233.6/233.6 kB\u001b[0m \u001b[31m961.9 kB/s\u001b[0m eta \u001b[36m0:00:00\u001b[0ma \u001b[36m0:00:01\u001b[0m\n",
      "\u001b[?25hRequirement already satisfied: Jinja2>=3.0 in /usr/local/anaconda3/envs/biobot/lib/python3.10/site-packages (from flask) (3.1.2)\n",
      "Requirement already satisfied: MarkupSafe>=2.0 in /usr/local/anaconda3/envs/biobot/lib/python3.10/site-packages (from Jinja2>=3.0->flask) (2.1.1)\n",
      "Installing collected packages: Werkzeug, itsdangerous, click, flask\n",
      "Successfully installed Werkzeug-2.2.3 click-8.1.3 flask-2.2.3 itsdangerous-2.1.2\n"
     ]
    }
   ],
   "source": [
    "!zsh -c 'pip install flask'"
   ]
  },
  {
   "cell_type": "code",
   "execution_count": null,
   "id": "96e618b6-e93e-4b74-9362-35a2bcaccfe1",
   "metadata": {},
   "outputs": [
    {
     "name": "stdout",
     "output_type": "stream",
     "text": [
      " * Serving Flask app '__main__'\n",
      " * Debug mode: off\n"
     ]
    },
    {
     "name": "stderr",
     "output_type": "stream",
     "text": [
      "WARNING: This is a development server. Do not use it in a production deployment. Use a production WSGI server instead.\n",
      " * Running on http://127.0.0.1:5000\n",
      "Press CTRL+C to quit\n",
      "127.0.0.1 - - [13/Mar/2023 21:28:14] \"GET /与主同在 HTTP/1.1\" 200 -\n",
      "127.0.0.1 - - [13/Mar/2023 21:57:33] \"GET /一起祷告 HTTP/1.1\" 200 -\n",
      "127.0.0.1 - - [13/Mar/2023 22:36:10] \"GET /Open%20this%20link%20to%20join%20my%20WhatsApp%20Group HTTP/1.1\" 200 -\n"
     ]
    }
   ],
   "source": [
    "from flask import Flask\n",
    "from revChatGPT.V1 import Chatbot, configure\n",
    "\n",
    "\n",
    "app = Flask(__name__)\n",
    "bot = Chatbot(\n",
    "    config = configure(),\n",
    "    conversation_id = 'fdf52ab3-f8c1-450f-86f2-5a25d43fc48d',\n",
    "    lazy_loading = True\n",
    ")\n",
    "\n",
    "\n",
    "@app.route('/<string:prompt>')\n",
    "def answer(prompt):\n",
    "    for response in bot.ask(prompt):\n",
    "        pass\n",
    "    return response['message']\n",
    "\n",
    "\n",
    "if __name__ == '__main__':\n",
    "    app.run(threaded=False)"
   ]
  }
 ],
 "metadata": {
  "kernelspec": {
   "display_name": "Python 3 (ipykernel)",
   "language": "python",
   "name": "python3"
  }
 },
 "nbformat": 4,
 "nbformat_minor": 5
}
