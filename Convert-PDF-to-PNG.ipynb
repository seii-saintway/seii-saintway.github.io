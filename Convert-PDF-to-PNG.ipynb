{
 "cells": [
  {
   "cell_type": "markdown",
   "id": "e3cf95e4-0a6c-4bd8-8386-1f479015f235",
   "metadata": {},
   "source": [
    "使用 Python 将 PDF 转换为 PNG 格式，可以借助 PyMuPDF 和 Pillow 库来实现。下面是一个完整的示例代码：\n",
    "\n",
    "首先，确保你已经安装了必要的库："
   ]
  },
  {
   "cell_type": "code",
   "execution_count": null,
   "id": "d5b3e4b9-fdaa-4001-a3b7-3fd38bc3cbab",
   "metadata": {},
   "outputs": [],
   "source": [
    "%%bash\n",
    "pip3 install pymupdf pillow"
   ]
  },
  {
   "cell_type": "markdown",
   "id": "03b01747-0fc8-49f5-8fb2-3818a011caab",
   "metadata": {},
   "source": [
    "然后，你可以使用以下代码将 PDF 转换为 PNG："
   ]
  },
  {
   "cell_type": "code",
   "execution_count": null,
   "id": "e72b09f1-f5df-4e62-a974-d3b89d526fa7",
   "metadata": {},
   "outputs": [],
   "source": [
    "import os\n",
    "import fitz  # PyMuPDF\n",
    "from PIL import Image"
   ]
  },
  {
   "cell_type": "code",
   "execution_count": null,
   "id": "452e95c1-9e67-4ef5-9546-3b06c7042eb6",
   "metadata": {},
   "outputs": [],
   "source": [
    "def pdf_to_png(pdf_path, output_folder, dpi=144):\n",
    "    # 打开 PDF 文件\n",
    "    pdf_document = fitz.open(pdf_path)\n",
    "\n",
    "    # 设置缩放系数\n",
    "    zoom_x = dpi / 72\n",
    "    zoom_y = dpi / 72\n",
    "\n",
    "    # 遍历每一页\n",
    "    for page_num in range(pdf_document.page_count):\n",
    "        # 获取页面\n",
    "        page = pdf_document.load_page(page_num)\n",
    "        \n",
    "        # 设置缩放矩阵\n",
    "        mat = fitz.Matrix(zoom_x, zoom_y)\n",
    "        \n",
    "        # 渲染页面为图片\n",
    "        pix = page.get_pixmap(matrix=mat)\n",
    "        \n",
    "        # 转换为 PIL 图片\n",
    "        img = Image.frombytes('RGB', [pix.width, pix.height], pix.samples)\n",
    "        \n",
    "        # 生成保存路径\n",
    "        output_path = os.path.join(output_folder, f'{os.path.splitext(os.path.basename(pdf_path))[0]}_{page_num + 1}.png')\n",
    "        \n",
    "        # 保存图片\n",
    "        img.save(output_path, 'PNG')"
   ]
  },
  {
   "cell_type": "code",
   "execution_count": null,
   "id": "aefad83d-711b-468a-8156-98a663ae6c3e",
   "metadata": {},
   "outputs": [],
   "source": [
    "# 示例调用\n",
    "pdf_path = '/Users/saintway/JHub/biobuilder/QUICK_GUIDES/Quick_Guide_EauThatSmell.pdf'  # 需要转换的 PDF 文件路径\n",
    "output_folder = '/Users/saintway/JHub/hexo/source/biobuilder'  # 保存 PNG 文件的文件夹\n",
    "\n",
    "pdf_to_png(pdf_path, output_folder)"
   ]
  },
  {
   "cell_type": "code",
   "execution_count": null,
   "id": "1628124b-4730-408b-9f9f-70cf27693be8",
   "metadata": {},
   "outputs": [],
   "source": [
    "# 示例调用\n",
    "pdf_path = '/Users/saintway/JHub/biobuilder/QUICK_GUIDES/Quick_Guide_iTunes.pdf'  # 需要转换的 PDF 文件路径\n",
    "output_folder = '/Users/saintway/JHub/hexo/source/biobuilder'  # 保存 PNG 文件的文件夹\n",
    "\n",
    "pdf_to_png(pdf_path, output_folder)"
   ]
  },
  {
   "cell_type": "code",
   "execution_count": null,
   "id": "4c8a6453-80e8-4761-b82b-69acdc96ddc2",
   "metadata": {},
   "outputs": [],
   "source": [
    "# 示例调用\n",
    "pdf_path = '/Users/saintway/JHub/biobuilder/QUICK_GUIDES/Quick_Guide_PictureThis.pdf'  # 需要转换的 PDF 文件路径\n",
    "output_folder = '/Users/saintway/JHub/hexo/source/biobuilder'  # 保存 PNG 文件的文件夹\n",
    "\n",
    "pdf_to_png(pdf_path, output_folder)"
   ]
  },
  {
   "cell_type": "code",
   "execution_count": null,
   "id": "6cfa7e38-5e8c-4b20-a7fa-a9b2189c6346",
   "metadata": {},
   "outputs": [],
   "source": [
    "# 示例调用\n",
    "pdf_path = '/Users/saintway/JHub/biobuilder/QUICK_GUIDES/Quick_Guide_ColorfulWorld.pdf'  # 需要转换的 PDF 文件路径\n",
    "output_folder = '/Users/saintway/JHub/hexo/source/biobuilder'  # 保存 PNG 文件的文件夹\n",
    "\n",
    "pdf_to_png(pdf_path, output_folder)"
   ]
  },
  {
   "cell_type": "code",
   "execution_count": null,
   "id": "a7df8c3b-6fbd-4e0b-b08d-e15dc3d5a5f9",
   "metadata": {},
   "outputs": [],
   "source": [
    "# 示例调用\n",
    "pdf_path = '/Users/saintway/JHub/biobuilder/QUICK_GUIDES/Quick_Guide_GoldenBread.pdf'  # 需要转换的 PDF 文件路径\n",
    "output_folder = '/Users/saintway/JHub/hexo/source/biobuilder'  # 保存 PNG 文件的文件夹\n",
    "\n",
    "pdf_to_png(pdf_path, output_folder)"
   ]
  }
 ],
 "metadata": {
  "kernelspec": {
   "display_name": "Python 3 (ipykernel)",
   "language": "python",
   "name": "python3"
  }
 },
 "nbformat": 4,
 "nbformat_minor": 5
}
