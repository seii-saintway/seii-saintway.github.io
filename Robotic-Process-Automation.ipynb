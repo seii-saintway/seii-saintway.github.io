{
 "cells": [
  {
   "cell_type": "markdown",
   "id": "9755d911-bb97-44e3-8a6b-8caaa583b673",
   "metadata": {},
   "source": [
    "General Artificial Intelligence Agent"
   ]
  },
  {
   "cell_type": "markdown",
   "id": "1d559142-cbb4-4683-86a7-5799078364c4",
   "metadata": {},
   "source": [
    "* [Hierarchical Planning Agent](https://python.langchain.com/v0.2/docs/integrations/toolkits/openapi/)"
   ]
  },
  {
   "cell_type": "markdown",
   "id": "aeb0cbff-9232-4c4d-99e2-70c0f021bc61",
   "metadata": {},
   "source": [
    "- [Plan-and-Execute Agents](https://blog.langchain.dev/planning-agents/)\n",
    "* [LangGraph](https://github.com/langchain-ai/langgraph)\n",
    "* [Hierarchical Agent Teams](https://github.com/langchain-ai/langgraph/blob/main/examples/multi_agent/hierarchical_agent_teams.ipynb)"
   ]
  },
  {
   "cell_type": "markdown",
   "id": "1c1771b9-98c8-4eda-93d4-1684b893b435",
   "metadata": {},
   "source": [
    "* [Cognitive GUI Automation](https://github.com/TransformerOptimus/AutoNode)\n",
    "  * [Introducing AutoNode: Advancing RPA with a Multi-Expert AI System](https://superagi.com/introducing-autonode-advancing-rpa-with-a-multi-expert-ai-system/)\n",
    "* [Tesseract at UB Mannheim](https://github.com/UB-Mannheim/tesseract/wiki)"
   ]
  },
  {
   "cell_type": "code",
   "execution_count": null,
   "id": "839b81bd-2a78-4da1-8d7d-c065ff8ae8a7",
   "metadata": {},
   "outputs": [
    {
     "name": "stdout",
     "output_type": "stream",
     "text": [
      "Cloning into 'AutoNode'...\n",
      "remote: Enumerating objects: 436, done.        \n",
      "remote: Counting objects: 100% (164/164), done.        \n",
      "remote: Compressing objects: 100% (126/126), done.        \n",
      "remote: Total 436 (delta 65), reused 83 (delta 38), pack-reused 272        \n",
      "Receiving objects: 100% (436/436), 254.46 MiB | 10.35 MiB/s, done.\n",
      "Resolving deltas: 100% (187/187), done.\n",
      "Updating files: 100% (145/145), done.\n"
     ]
    }
   ],
   "source": [
    "git clone https://github.com/TransformerOptimus/AutoNode.git ~/AutoNode"
   ]
  },
  {
   "cell_type": "code",
   "execution_count": null,
   "id": "ee8cee5d-da65-4d40-83a3-7db877a11dab",
   "metadata": {},
   "outputs": [],
   "source": [
    "cd ~/AutoNode"
   ]
  },
  {
   "cell_type": "code",
   "execution_count": null,
   "id": "d5de9b38-7f5b-462d-afcb-143ecad21d5f",
   "metadata": {},
   "outputs": [],
   "source": [
    "cp ~/AutoNode/autonode/.env.example ~/AutoNode/autonode/.env"
   ]
  },
  {
   "cell_type": "code",
   "execution_count": 1,
   "id": "ad8bc7fd-db23-405d-882a-bca16fc449b8",
   "metadata": {},
   "outputs": [],
   "source": [
    "cp ~/AutoNode/ocr/ocr/.env.example ~/AutoNode/ocr/ocr/.env"
   ]
  },
  {
   "cell_type": "code",
   "execution_count": 2,
   "id": "5e91c680-db97-48cb-b363-bca29d4e1cb5",
   "metadata": {},
   "outputs": [],
   "source": [
    "cp ~/AutoNode/yolo/yolo/.env.example ~/AutoNode/yolo/yolo/.env"
   ]
  },
  {
   "cell_type": "code",
   "execution_count": null,
   "id": "864b5a5e-f5d4-4c72-8d5d-b8bad13d8ec1",
   "metadata": {
    "scrolled": true
   },
   "outputs": [],
   "source": [
    "/usr/local/bin/docker compose -f ~/AutoNode/docker-compose.yaml up --build"
   ]
  },
  {
   "cell_type": "code",
   "execution_count": null,
   "id": "2eb32770-a2f7-461f-975a-b76d751d9df8",
   "metadata": {},
   "outputs": [],
   "source": [
    "/usr/local/bin/docker compose -f ~/AutoNode/docker-compose.yaml up"
   ]
  }
 ],
 "metadata": {
  "kernelspec": {
   "display_name": "Bash",
   "language": "bash",
   "name": "bash"
  },
  "language_info": {
   "codemirror_mode": "shell",
   "file_extension": ".sh",
   "mimetype": "text/x-sh",
   "name": "bash"
  }
 },
 "nbformat": 4,
 "nbformat_minor": 5
}
