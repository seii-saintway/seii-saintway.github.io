{
 "cells": [
  {
   "cell_type": "markdown",
   "id": "9755d911-bb97-44e3-8a6b-8caaa583b673",
   "metadata": {},
   "source": [
    "General Artificial Intelligence Agent"
   ]
  },
  {
   "cell_type": "markdown",
   "id": "1d559142-cbb4-4683-86a7-5799078364c4",
   "metadata": {},
   "source": [
    "* [Hierarchical Planning Agent](https://python.langchain.com/v0.2/docs/integrations/toolkits/openapi/)"
   ]
  },
  {
   "cell_type": "markdown",
   "id": "aeb0cbff-9232-4c4d-99e2-70c0f021bc61",
   "metadata": {},
   "source": [
    "- [Plan-and-Execute Agents](https://blog.langchain.dev/planning-agents/)\n",
    "* [LangGraph](https://github.com/langchain-ai/langgraph)\n",
    "* [Hierarchical Agent Teams](https://github.com/langchain-ai/langgraph/blob/main/examples/multi_agent/hierarchical_agent_teams.ipynb)"
   ]
  },
  {
   "cell_type": "markdown",
   "id": "1c1771b9-98c8-4eda-93d4-1684b893b435",
   "metadata": {},
   "source": [
    "* [Cognitive GUI Automation](https://github.com/TransformerOptimus/AutoNode)\n",
    "  * [Introducing AutoNode: Advancing RPA with a Multi-Expert AI System](https://superagi.com/introducing-autonode-advancing-rpa-with-a-multi-expert-ai-system/)"
   ]
  }
 ],
 "metadata": {
  "kernelspec": {
   "display_name": "Python 3 (ipykernel)",
   "language": "python",
   "name": "python3"
  },
  "language_info": {
   "codemirror_mode": {
    "name": "ipython",
    "version": 3
   },
   "file_extension": ".py",
   "mimetype": "text/x-python",
   "name": "python",
   "nbconvert_exporter": "python",
   "pygments_lexer": "ipython3",
   "version": "3.9.7"
  }
 },
 "nbformat": 4,
 "nbformat_minor": 5
}
