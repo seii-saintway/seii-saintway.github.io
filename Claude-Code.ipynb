{
 "cells": [
  {
   "cell_type": "markdown",
   "id": "f5c349ec-b4a3-4c73-94ce-acb7935714ae",
   "metadata": {},
   "source": [
    "[Use DeepSeek in Claude Code](https://api-docs.deepseek.com/guides/anthropic_api)"
   ]
  },
  {
   "cell_type": "code",
   "execution_count": null,
   "id": "bb16dab9-b249-45cc-833b-bba8acffd0f5",
   "metadata": {},
   "outputs": [],
   "source": [
    "cd ~/Downloads && git clone https://github.com/aws-samples/bedrock-access-gateway\n",
    "cd ~/Downloads/bedrock-access-gateway/src && python3.12 -m venv .venv && source .venv/bin/activate && pip3.12 install -r requirements.txt\n",
    "\n",
    "brew install awscli\n",
    "\n",
    "export AWS_REGION=ap-northeast-1\n",
    "export AWS_ACCESS_KEY_ID=YOUR--AWS-ACCESS-KEY\n",
    "export AWS_SECRET_ACCESS_KEY=your--aws-secret-access-key--for-gateway\n",
    "\n",
    "cd ~/Downloads/bedrock-access-gateway/src && source .venv/bin/activate && python3.12 -m uvicorn api.app:app --host 0.0.0.0 --port 8000"
   ]
  },
  {
   "cell_type": "code",
   "execution_count": null,
   "id": "b9fc86ba-a6a1-4488-8904-c9818073ca97",
   "metadata": {},
   "outputs": [],
   "source": [
    "export ANTHROPIC_BASE_URL=http://127.0.0.1:8000/api\n",
    "export ANTHROPIC_AUTH_TOKEN=bedrock\n",
    "export API_TIMEOUT_MS=600000\n",
    "export ANTHROPIC_MODEL=apac.anthropic.claude-sonnet-4-20250514-v1:0\n",
    "export ANTHROPIC_SMALL_FAST_MODEL=anthropic.claude-3-haiku-20240307-v1:0\n",
    "export CLAUDE_CODE_DISABLE_NONESSENTIAL_TRAFFIC=1\n",
    "\n",
    "curl $ANTHROPIC_BASE_URL/v1/chat/completions \\\n",
    "  -H \"Content-Type: application/json\" \\\n",
    "  -H \"Authorization: Bearer $ANTHROPIC_AUTH_TOKEN\" \\\n",
    "  -d '{\n",
    "    \"model\": \"anthropic.claude-3-haiku-20240307-v1:0\",\n",
    "    \"messages\": [\n",
    "      {\n",
    "        \"role\": \"user\",\n",
    "        \"content\": \"Hello!\"\n",
    "      }\n",
    "    ]\n",
    "  }'"
   ]
  },
  {
   "cell_type": "code",
   "execution_count": null,
   "id": "14779a92-6910-4af9-82d2-feb1d0bf7771",
   "metadata": {},
   "outputs": [],
   "source": [
    "export ANTHROPIC_BASE_URL=http://127.0.0.1:8000/api\n",
    "export ANTHROPIC_AUTH_TOKEN=bedrock\n",
    "export API_TIMEOUT_MS=600000\n",
    "export ANTHROPIC_MODEL=apac.anthropic.claude-sonnet-4-20250514-v1:0\n",
    "export ANTHROPIC_SMALL_FAST_MODEL=anthropic.claude-3-haiku-20240307-v1:0\n",
    "export CLAUDE_CODE_DISABLE_NONESSENTIAL_TRAFFIC=1\n",
    "\n",
    "curl $ANTHROPIC_BASE_URL/v1/chat/completions \\\n",
    "-H \"Content-Type: application/json\" \\\n",
    "-H \"Authorization: Bearer $ANTHROPIC_AUTH_TOKEN\" \\\n",
    "-d '{\n",
    "\"model\": \"apac.anthropic.claude-sonnet-4-20250514-v1:0\",\n",
    "\"max_tokens\": 2048,\n",
    "\"messages\": [{\n",
    "\"role\": \"user\",\n",
    "\"content\": \"Hello!\"\n",
    "}],\n",
    "\"extra_body\": {\n",
    "\"anthropic_beta\": [\"interleaved-thinking-2025-05-14\"],\n",
    "\"thinking\": {\"type\": \"enabled\", \"budget_tokens\": 4096}\n",
    "}\n",
    "}'"
   ]
  },
  {
   "cell_type": "code",
   "execution_count": null,
   "id": "1a0a814f-943f-464c-9ce5-1df62d17094c",
   "metadata": {},
   "outputs": [],
   "source": [
    "export ANTHROPIC_BASE_URL=http://127.0.0.1:8000/api\n",
    "export ANTHROPIC_AUTH_TOKEN=bedrock\n",
    "export API_TIMEOUT_MS=600000\n",
    "export ANTHROPIC_MODEL=apac.anthropic.claude-3-sonnet-20240229-v1:0\n",
    "export ANTHROPIC_SMALL_FAST_MODEL=anthropic.claude-3-haiku-20240307-v1:0\n",
    "export CLAUDE_CODE_DISABLE_NONESSENTIAL_TRAFFIC=1"
   ]
  },
  {
   "cell_type": "code",
   "execution_count": null,
   "id": "2df8972f-7487-4406-8189-11bce2157ad2",
   "metadata": {},
   "outputs": [],
   "source": [
    "export ANTHROPIC_BASE_URL=http://127.0.0.1:8000/api\n",
    "export ANTHROPIC_AUTH_TOKEN=bedrock\n",
    "export API_TIMEOUT_MS=600000\n",
    "export ANTHROPIC_MODEL=apac.anthropic.claude-3-5-sonnet-20241022-v2:0\n",
    "export ANTHROPIC_SMALL_FAST_MODEL=anthropic.claude-3-haiku-20240307-v1:0\n",
    "export CLAUDE_CODE_DISABLE_NONESSENTIAL_TRAFFIC=1\n",
    "\n",
    "curl $ANTHROPIC_BASE_URL/v1/chat/completions \\\n",
    "-H \"Content-Type: application/json\" \\\n",
    "-H \"Authorization: Bearer $ANTHROPIC_AUTH_TOKEN\" \\\n",
    "-d '{\n",
    "\"model\": \"apac.anthropic.claude-3-7-sonnet-20250219-v1:0\",\n",
    "\"max_tokens\": 2048,\n",
    "\"messages\": [{\n",
    "\"role\": \"user\",\n",
    "\"content\": \"Hello!\"\n",
    "}],\n",
    "\"extra_body\": {\n",
    "\"anthropic_beta\": [\"interleaved-thinking-2025-05-14\"],\n",
    "\"thinking\": {\"type\": \"enabled\", \"budget_tokens\": 4096}\n",
    "}\n",
    "}'"
   ]
  },
  {
   "cell_type": "markdown",
   "id": "cca780a8-1680-408d-83e1-bad42391a19c",
   "metadata": {},
   "source": [
    "[Use DeepSeek in Claude Code](https://api-docs.deepseek.com/guides/anthropic_api)"
   ]
  },
  {
   "cell_type": "code",
   "execution_count": null,
   "id": "c0690cc5-c28a-45f3-b95b-5c2e33f3805b",
   "metadata": {},
   "outputs": [],
   "source": [
    "export ANTHROPIC_BASE_URL=https://api.deepseek.com/anthropic\n",
    "export ANTHROPIC_AUTH_TOKEN=${YOUR_API_KEY}\n",
    "export API_TIMEOUT_MS=600000\n",
    "export ANTHROPIC_MODEL=deepseek-chat\n",
    "export ANTHROPIC_SMALL_FAST_MODEL=deepseek-chat\n",
    "export CLAUDE_CODE_DISABLE_NONESSENTIAL_TRAFFIC=1"
   ]
  }
 ],
 "metadata": {
  "kernelspec": {
   "display_name": "Bash",
   "language": "bash",
   "name": "bash"
  },
  "language_info": {
   "codemirror_mode": "shell",
   "file_extension": ".sh",
   "mimetype": "text/x-sh",
   "name": "bash"
  }
 },
 "nbformat": 4,
 "nbformat_minor": 5
}
