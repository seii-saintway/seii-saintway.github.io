{
 "cells": [
  {
   "cell_type": "markdown",
   "metadata": {},
   "source": [
    "### Research History of [Synaptotagmin-7](https://en.wikipedia.org/wiki/SYT7)"
   ]
  },
  {
   "cell_type": "markdown",
   "metadata": {},
   "source": [
    "> Two different **monoclonal antibodies**¹, characterized initially as binding synaptic terminal regions of rat brain, bind a 65,000-**dalton**² protein, which is exposed on the outer surface of brain synaptic vesicles.\n",
    "**Immunocytochemical experiments**³ at the electron microscope level demonstrate that these **antibodies**⁴ bind the vesicles in many different types of nerve terminals.\n",
    "The antibodies have been used successfully to purify synaptic vesicles from crude brain homogenates by **immunoprecipitation**⁵ onto the surface of **polyacrylamide beads**⁶.\n",
    "The profiles of the structures precipitated by these beads are almost exclusively vesicular, confirming the vesicle-specificity of the antibodies. In **SDS gels**⁷, the antibodies bind a single protein of 65,000 daltons.\n",
    "The two antibodies are not identical, but compete for binding sites on this protein.\n",
    ">\n",
    "> Immune competition experiments also demonstrate that the **antigenic components**⁸ on the 65,000-dalton protein are widely distributed in neuronal and neural secretory tissues. Detectable **antigen**⁸ is not found in uninnervated tissue - blood cells and extrajunctional muscle.\n",
    "Low levels are found in nonneural secretory tissues; it is not certain whether this reflects the presence of low amounts of the antigen on all the exocytotic vesicles in these tissues or whether the antigen is found only in neuronal fibers within these tissues.\n",
    "The molecular weight and at least two antigenic determinants of the 65,000-dalton protein are highly conserved throughout **vertebrate phylogeny**⁹.\n",
    "The two antibodies recognize a 65,000-dalton protein present in shark, amphibia, birds, and mammals.\n",
    "The highly conserved nature of the determinants on this protein and their specific localization on secretory vesicles of many different types suggest that this protein may be essential for the normal function of neuronal secretory vesicles.\n",
    ">\n",
    "> —— Matthew, W D, L Tsavaler, and L F Reichardt. “Identification of a Synaptic Vesicle-Specific Membrane Protein with a Wide Distribution in Neuronal and Neurosecretory Tissue.” Journal of Cell Biology 91, no. 1 (October 1, 1981): 257–69. https://doi.org/10.1083/jcb.91.1.257."
   ]
  },
  {
   "cell_type": "markdown",
   "metadata": {},
   "source": [
    "> ¹ **monoclonal antibodies** =>\n",
    ">\n",
    "> ---\n",
    "A **monoclonal antibody** (**mAb**, more rarely called **moAb**) is an antibody produced from a cell line made by cloning a unique white blood cell. All subsequent antibodies derived this way trace back to a unique parent cell.\n",
    ">\n",
    "> —— [Wikipedia - **Monoclonal antibody**](https://en.m.wikipedia.org/wiki/Monoclonal_antibody)\n",
    ">\n",
    "> ---\n",
    "> ⁴ **antibodies**"
   ]
  },
  {
   "cell_type": "markdown",
   "metadata": {},
   "source": [
    "> ² **dalton** =>\n",
    ">\n",
    "> ---\n",
    "The **dalton** or **unified atomic mass unit** (symbols: **Da** or **u**) is a unit of mass widely used in physics and chemistry. It is defined as 1/12 of the mass of an unbound neutral atom of carbon-12 in its nuclear and electronic ground state and at rest.\n",
    ">\n",
    "> —— [Wikipedia - **Dalton (unit)**](https://en.m.wikipedia.org/wiki/Dalton_%28unit%29)"
   ]
  },
  {
   "cell_type": "markdown",
   "metadata": {},
   "source": [
    "> ³ **Immunocytochemical experiments** =>\n",
    ">\n",
    "> ---\n",
    "**Immunocytochemistry** (**ICC**) is a common laboratory technique that is used to anatomically visualize the localization of a specific protein or antigen in cells by use of a specific primary antibody that binds to it. The primary antibody allows visualization of the protein under a fluorescence microscope when it is bound by a secondary antibody that has a conjugated fluorophore. ICC allows researchers to evaluate whether or not cells in a particular sample express the antigen in question. In cases where an immunopositive signal is found, ICC also allows researchers to determine which sub-cellular compartments are expressing the antigen.\n",
    ">\n",
    "> —— [Wikipedia - **Immunocytochemistry**](https://en.m.wikipedia.org/wiki/Immunocytochemistry)"
   ]
  },
  {
   "cell_type": "markdown",
   "metadata": {},
   "source": [
    "> ⁴ **antibodies** =>\n",
    ">\n",
    "> ---\n",
    "An **antibody** (**Ab**), also known as an **immunoglobulin** (**Ig**), is a large, Y-shaped protein used by the immune system to identify and neutralize foreign objects such as pathogenic bacteria and viruses.\n",
    ">\n",
    "> —— [Wikipedia - **Antibody**](https://en.m.wikipedia.org/wiki/Antibody)"
   ]
  },
  {
   "cell_type": "markdown",
   "metadata": {},
   "source": [
    "> ⁵ **immunoprecipitation** =>\n",
    ">\n",
    "> ---\n",
    "**Immunoprecipitation** (**IP**) is the technique of precipitating a protein antigen out of solution using an antibody that specifically binds to that particular protein. This process can be used to isolate and concentrate a particular protein from a sample containing many thousands of different proteins. Immunoprecipitation requires that the antibody be coupled to a solid substrate at some point in the procedure.\n",
    ">\n",
    "> —— [Wikipedia - **Immunoprecipitation**](https://en.m.wikipedia.org/wiki/Immunoprecipitation)"
   ]
  },
  {
   "cell_type": "markdown",
   "metadata": {},
   "source": [
    "> ⁶ **polyacrylamide beads** =>\n",
    ">\n",
    "> ---\n",
    "**Polyacrylamide** (abbreviated as PAM) is a polymer with the formula (-CH2CHCONH2-). It has a linear-chain structure. PAM is highly water-absorbent, forming a soft gel when hydrated.\n",
    ">\n",
    "> —— [Wikipedia - **Polyacrylamide**](https://en.m.wikipedia.org/wiki/Polyacrylamide)"
   ]
  },
  {
   "cell_type": "markdown",
   "metadata": {},
   "source": [
    "> ⁷ **SDS gels** =>\n",
    ">\n",
    "> ---\n",
    "**SDS-PAGE** (**sodium dodecyl sulfate–polyacrylamide gel electrophoresis**) is a discontinuous electrophoretic system developed by Ulrich K. Laemmli which is commonly used as a method to separate proteins with molecular masses between 5 and 250 kDa. The combined use of sodium dodecyl sulfate (SDS, also known as sodium lauryl sulfate) and polyacrylamide gel allows to eliminate the influence of structure and charge, and proteins are separated solely on the basis of differences in their molecular weight.\n",
    ">\n",
    "> —— [Wikipedia - **SDS-PAGE**](https://en.m.wikipedia.org/wiki/SDS-PAGE)"
   ]
  },
  {
   "cell_type": "markdown",
   "metadata": {},
   "source": [
    "> ⁸ **antigenic components** =>\n",
    ">\n",
    "> ⁸ **antigen** =>\n",
    ">\n",
    "> ---\n",
    "In immunology, an **antigen** (**Ag**) is a molecule or molecular structure or any foreign particulate matter or a pollen grain that can bind to a specific antibody or T-cell receptor. The presence of antigens in the body may trigger an immune response. The term antigen originally referred to a substance that is an antibody generator. Antigens can be proteins, peptides (amino acid chains), polysaccharides (chains of monosaccharides/simple sugars), lipids, or nucleic acids.\n",
    ">\n",
    "> —— [Wikipedia - **Antigen**](https://en.m.wikipedia.org/wiki/Antigen)"
   ]
  },
  {
   "cell_type": "markdown",
   "metadata": {},
   "source": [
    "> ⁹ **vertebrate phylogeny** =>\n",
    ">\n",
    "> ---\n",
    "A **phylogenetic tree** (also **phylogeny** or **evolutionary tree**) is a branching diagram or a tree showing the evolutionary relationships among various biological species or other entities based upon similarities and differences in their physical or genetic characteristics. All life on Earth is part of a single phylogenetic tree, indicating common ancestry.\n",
    ">\n",
    "> —— [Wikipedia - **Phylogenetic tree**](https://en.wikipedia.org/wiki/Phylogenetic_tree)"
   ]
  }
 ],
 "metadata": {
  "kernelspec": {
   "display_name": "Python 3",
   "language": "python",
   "name": "python3"
  },
  "language_info": {
   "codemirror_mode": {
    "name": "ipython",
    "version": 3
   },
   "file_extension": ".py",
   "mimetype": "text/x-python",
   "name": "python",
   "nbconvert_exporter": "python",
   "pygments_lexer": "ipython3",
   "version": "3.9.9"
  }
 },
 "nbformat": 4,
 "nbformat_minor": 4
}
