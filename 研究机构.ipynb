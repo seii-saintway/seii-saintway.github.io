{
 "cells": [
  {
   "cell_type": "markdown",
   "metadata": {},
   "source": [
    "## [亚利桑那大学](https://zh.wikipedia.org/zh-cn/亚利桑那大学)\n",
    "\n",
    "### [神经科学和认知科学](https://online.arizona.edu/programs/undergraduate/online-bachelor-science-neuroscience-and-cognitive-science-bs)\n",
    "\n",
    "* [申请进度](https://slate.admissions.arizona.edu/account/login)\n",
    "* [Deadlines](https://online.arizona.edu/admissions/program-dates-deadlines)\n",
    "* [Financial Aid](https://online.arizona.edu/cost-aid/financial-aid)\n",
    "\n",
    "将所有高中成绩单/国际大学成绩单发送至：\n",
    "\n",
    "```\n",
    "International Admissions\n",
    "The University of Arizona\n",
    "Global Center\n",
    "615 N Park Avenue\n",
    "Tucson, AZ 85721\n",
    "```"
   ]
  },
  {
   "cell_type": "markdown",
   "metadata": {},
   "source": [
    "## 京都大学大学院"
   ]
  },
  {
   "cell_type": "markdown",
   "metadata": {},
   "source": [
    "* [AI創薬連携基盤ユニット](https://www.riken.jp/en/research/labs/r-ccs/hpc_ai_drive_drug_dev_plat/ai_drug_discov_collab/index.html)\n",
    "  * [京都大学大学院医学研究科 人間健康科学系専攻 ビッグデータ医科学分野](https://clinfo.med.kyoto-u.ac.jp/)\n",
    "\n",
    "---\n",
    "\n",
    "* [ビッグデータ医科学](https://www.med.kyoto-u.ac.jp/organization-staff/research/human_health/ns1401/)\n",
    "* [入学希望の皆様へ](https://www.med.kyoto-u.ac.jp/apply/)\n",
    "  * [オープンキャンパス](https://www.med.kyoto-u.ac.jp/apply/open_campus/)\n",
    "  * [入試情報＜正規学生＞](https://www.med.kyoto-u.ac.jp/apply/entrance_examination/)\n",
    "  * [研究生・研修員＜非正規学生＞](https://www.med.kyoto-u.ac.jp/apply/researcher/)\n",
    "  * [学部：キャンパスライフ（人間健康科学科）](https://www.med.kyoto-u.ac.jp/apply/campus_life/hs_campus_life/)\n",
    "  * [大学院：人間健康科学系専攻](https://www.med.kyoto-u.ac.jp/apply/ghs/)"
   ]
  },
  {
   "cell_type": "markdown",
   "metadata": {},
   "source": [
    "## [人間総合科学大学](https://ja.wikipedia.org/wiki/人間総合科学大学)\n",
    "[人間科学部 心身健康科学科【通信制】](https://www.human.ac.jp/sp/hs/index.html)"
   ]
  },
  {
   "cell_type": "markdown",
   "metadata": {},
   "source": [
    "## [同志社大学](https://zh.wikipedia.org/zh-cn/同志社大學)大学院　[脳科学研究科](https://brainscience.doshisha.ac.jp/)\n",
    "[从咨询网站来的学位介绍](https://shingakunet.com/syakaijin/0001864765/0001864765.html)"
   ]
  },
  {
   "cell_type": "markdown",
   "metadata": {},
   "source": [
    "## [理化学研究所](https://www.riken.jp/)"
   ]
  },
  {
   "cell_type": "markdown",
   "metadata": {},
   "source": [
    "* [若手研究者の登用・育成制度](https://www.riken.jp/careers/programs/)\n",
    "  * [大学院生リサーチ・アソシエイト（JRA）](https://www.riken.jp/careers/programs/jra/)\n",
    "    * [Junior Research Associate Program](https://www.riken.jp/en/careers/programs/jra/)"
   ]
  },
  {
   "cell_type": "markdown",
   "metadata": {},
   "source": [
    "* [若手研究者の登用・育成制度](https://www.riken.jp/careers/programs/)\n",
    "  * [国際プログラム・アソシエイト（IPA）](https://www.riken.jp/careers/programs/ipa/)\n",
    "    * [International Program Associate](https://www.riken.jp/en/careers/programs/ipa/)\n",
    "    * [連携（客員）教員一覧](https://www.riken.jp/medialibrary/riken/careers/programs/ipa/adjunct-j.pdf)\n",
    "\n",
    "```\n",
    "东京工业大学　材料与化学技术学院\n",
    "东京大学　前沿科学研究科\n",
    "埼玉大学　理工科\n",
    "神户大学　理学研究科　医学研究科\n",
    "横滨市立大学　纳米生物科学研究科　基因组系统科学系\n",
    "筑波大学　科学技术研究生院　综合人文科学研究科\n",
    "大阪大学　前沿生命科学研究科　医学研究科\n",
    "京都大学　医学研究科　生物研究科\n",
    "```"
   ]
  },
  {
   "cell_type": "markdown",
   "metadata": {},
   "source": [
    "* [若手研究者の登用・育成制度](https://www.riken.jp/careers/programs/)\n",
    "  * 夜間大学院就学支援制度（一定の条件を満たす事務系職員対象）"
   ]
  },
  {
   "cell_type": "markdown",
   "metadata": {},
   "source": [
    "* [与理研合作的研究机构](https://www.riken.jp/collab/partnerships/)\n",
    "  * [Partnerships](https://www.riken.jp/en/collab/research/index.html)"
   ]
  },
  {
   "cell_type": "markdown",
   "metadata": {},
   "source": [
    "理化学研究所的顾老师说：\n",
    "\n",
    "> 其实我们实验室主要是做啮齿类动物的行为环路的，分子机制虽然有涉及但并不是主要的研究对象。如果你博士阶段研修计算神经生物学的蛋白组学分析或者 RNA 组学分析的话，一方面会有很多和分子机制研究组有很多合作，另一方面以后转去分子实验室做博后也会相对容易很多。理研大阪所的 Makoto Taiji 老师你可以看看是不是你更有兴趣。\n",
    "\n",
    "---\n",
    "\n",
    "* [生命システム研究センター](http://www.qbic.riken.jp/japanese/research/index.html)\n",
    "  * [計算分子設計研究グループ](http://www.qbic.riken.jp/japanese/research/outline/lab-09.html)\n",
    "    * [Laboratory for Computational Molecular Design](http://www.qbic.riken.jp/english/research/outline/lab-09.html)\n",
    "\n",
    "---\n",
    "\n",
    "* [生命機能科学研究センター](https://www.riken.jp/research/labs/bdr/index.html)　[計算分子設計研究チーム](https://www.riken.jp/research/labs/bdr/comput_mol_des/index.html)\n",
    "  * [**リサーチアソシエイト募集！**](https://www.riken.jp/careers/researchers/20201116_1/index.html)\n",
    "    * [Seeking **Research Associates !**](https://www.riken.jp/en/careers/researchers/20201116_1/index.html)\n",
    "\n",
    "---\n",
    "\n",
    "* [BDR | 計算分子設計研究チーム](https://www.bdr.riken.jp/en/research/labs/taiji-m/index.html)\n",
    "\n",
    "---"
   ]
  },
  {
   "cell_type": "markdown",
   "metadata": {},
   "source": [
    "* [計算科学研究センター](https://www.riken.jp/en/research/labs/r-ccs/)\n",
    "  * [量子系分子科学研究チーム](https://www.riken.jp/en/research/labs/r-ccs/comput_mol_sci/index.html)\n",
    "  * [粒子系生物物理研究チーム](https://www.riken.jp/en/research/labs/r-ccs/comput_biophys/index.html)\n",
    "  * [計算構造生物学研究チーム](https://www.riken.jp/en/research/labs/r-ccs/comput_struct_biol/index.html)\n",
    "  * [HPC/AI駆動型医薬プラットフォーム部門](https://www.riken.jp/en/research/labs/r-ccs/hpc_ai_drive_drug_dev_plat/index.html)\n",
    "    * [バイオメディカル計算知能ユニット](https://www.riken.jp/en/research/labs/r-ccs/hpc_ai_drive_drug_dev_plat/biomed_comput_intell/index.html)\n",
    "    * [創薬化学AIアプリケーションユニット](https://www.riken.jp/en/research/labs/r-ccs/hpc_ai_drive_drug_dev_plat/med_chem_intell_appl_ai/index.html)\n",
    "    * [分⼦デザイン計算知能ユニット](https://www.riken.jp/en/research/labs/r-ccs/hpc_ai_drive_drug_dev_plat/mol_des_comput_intell/index.html)\n",
    "    * [AI創薬連携基盤ユニット](https://www.riken.jp/en/research/labs/r-ccs/hpc_ai_drive_drug_dev_plat/ai_drug_discov_collab/index.html)"
   ]
  },
  {
   "cell_type": "markdown",
   "metadata": {},
   "source": [
    "* [脳神経科学研究センター (CBS)](https://www.riken.jp/research/labs/cbs/)\n",
    "  * [大学院生受け入れ制度](https://cbs2.riken.jp/renkei/jp/about_program.html)\n",
    "  * [脳科学塾](https://cbs.riken.jp/jp/TP/)\n",
    "    * [Syllabus for RIKEN CBS Brain Science Training Program](https://cbs.riken.jp/img/TP/Full_Sylabuss_06.pdf)\n",
    "    * 十月开始到明年六月。\n",
    "    * 假如招生不足，也会考虑在工作的人。\n",
    "    * 得写文章综述。\n",
    "    * 可以算为、东京大学、京都大学、早稲田大学、的学分。\n",
    "  * [RIKEN CBS Summer Program](https://cbs.riken.jp/en/summer/index.html)"
   ]
  },
  {
   "cell_type": "markdown",
   "metadata": {},
   "source": [
    "---"
   ]
  },
  {
   "cell_type": "markdown",
   "metadata": {},
   "source": [
    "* [学習・記憶神経回路研究チーム（Joshua Johansen）](https://cbs.riken.jp/jp/faculty/j.johansen/)\n",
    "  * [学習・記憶神経回路研究チーム　研究パートタイマー募集](https://cbs.riken.jp/jp/careers/20210902_w21143_j.johansen_p.html)\n",
    "  * [学習・記憶神経回路研究チーム　研究員または特別研究員募集](https://cbs.riken.jp/jp/careers/20210222_w20289_j.johansen_r.html)"
   ]
  },
  {
   "cell_type": "markdown",
   "metadata": {},
   "source": [
    "* [採用情報検索](https://www.riken.jp/careers/openings/index.html) → 脳\n",
    "  * [人間認知・学習研究チーム　テクニカルスタッフ募集](https://cbs.riken.jp/jp/careers/20211007_w21172_k.shibata_t.html)\n",
    "  * [タンパク質構造疾患研究チーム　研究パートタイマー募集](https://cbs.riken.jp/jp/careers/20210915_w21151_m.tanaka_p.html)\n",
    "  * [マーモセット神経構造研究チーム　テクニカルスタッフI募集](https://cbs.riken.jp/jp/careers/20210907_w21147_bm.mna_t.html)\n",
    "  * [脳発達病態研究チーム　テクニカルスタッフⅠ又はⅡ募集](https://cbs.riken.jp/jp/careers/20210901_w21144_a.ishida_t.html)"
   ]
  },
  {
   "cell_type": "markdown",
   "metadata": {},
   "source": [
    "---"
   ]
  },
  {
   "cell_type": "markdown",
   "metadata": {},
   "source": [
    "## [Cortical Labs](https://corticallabs.com/)\n",
    "\n",
    "```\n",
    "Cortical Labs 成立于 2019 年，目标是利用合成生物技术开发具有流动智力的新型人工智能。\n",
    "他们认为生物神经元能够通过自组织解决陌生问题、比数字电路有更强的适应性和可扩展性、同时更省电。\n",
    "比如人类的大脑有超过 10 亿个神经元，能够产生通用智能却只消耗 20 瓦特的能量。\n",
    "```"
   ]
  },
  {
   "cell_type": "markdown",
   "metadata": {},
   "source": [
    "```\n",
    "这家位于澳大利亚的实验室 Cortical Labs 成立于 2019 年，目标是把活体生物神经元与传统硅集成电路结合在一起，创造出「芯片新物种」——即体外神经元（In vitro neurons）。\n",
    "他们希望这些合成迷你大脑能够在消耗较少能量的同时，完成很多人工智能软件可以执行的任务。\n",
    "创始人钟宏文曾介绍说，Cortical Labs 使用两种方法来制造硬件：或从胚胎中提取小鼠神经元，或使用某种技术将人类的皮肤细胞逆向转化为干细胞，然后诱导它发育成人类神经元。\n",
    "目前，他们的团队有五名核心成员。\n",
    "```\n",
    "```\n",
    "Cortical Labs 的创始人兼 CEO 钟宏文是一位经验丰富的创业者，他的创业精神建立在其拥有的丰富的医疗和技术专业知识的基础上。\n",
    "此前，他是医疗硬件初创公司 CliniCloud 的创始人兼首席技术官，而该公司也获得了临床医生的好评。\n",
    "他是一名执业医学博士和软件工程师，曾在约翰·霍普金斯大学信息学系学习，他经常会利用自己丰富的经验和多学科背景来促进生物学和计算机科学领域之间的合作。\n",
    "```\n",
    "```\n",
    "Cortical Labs 另一位创始人 Andy 是一名计算机科学家、研究员和软件工程师，拥有在三家高科技初创公司的工作经历。\n",
    "Andy 还是墨尔本第一个提供深度学习咨询的技术团队的核心成员，到现在已经发表了几篇关于人工智能的同行评议论文。\n",
    "他是一个长期社区组织者，也是备受尊敬的墨尔本 ML/AI Meetup 的创始人，该组织拥有 6000 多名成员。\n",
    "```\n",
    "```\n",
    "他们的团队中还有首席硬件工程师 Andrew Doherty，首席科学家 Brett Kagan 博士，首席设计师 Laura Summers。\n",
    "```"
   ]
  }
 ],
 "metadata": {
  "kernelspec": {
   "display_name": "Python 3",
   "language": "python",
   "name": "python3"
  },
  "language_info": {
   "codemirror_mode": {
    "name": "ipython",
    "version": 3
   },
   "file_extension": ".py",
   "mimetype": "text/x-python",
   "name": "python",
   "nbconvert_exporter": "python",
   "pygments_lexer": "ipython3",
   "version": "3.9.9"
  }
 },
 "nbformat": 4,
 "nbformat_minor": 4
}
