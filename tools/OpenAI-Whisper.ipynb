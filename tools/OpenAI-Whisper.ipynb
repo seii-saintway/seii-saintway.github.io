{
 "cells": [
  {
   "cell_type": "markdown",
   "id": "a74a3a15-797e-47d7-9358-925b273c1963",
   "metadata": {},
   "source": [
    "## [ChatGPT's Whisper APIs](https://openai.com/blog/introducing-chatgpt-and-whisper-apis)"
   ]
  },
  {
   "cell_type": "markdown",
   "id": "b5d72dc8-ac31-4791-91ff-68d03f20a5ee",
   "metadata": {},
   "source": [
    "* [How to use Bacalhau and OpenAI Whisper to transcribe your video and audio files?](https://medium.com/nerd-for-tech/how-to-use-bacalhau-and-openai-whisper-to-transcribe-a-youtube-video-7b6ee0135ce2)\n",
    "  * I'd like to use Kubernetes instead of Bacalhau, because of:\n",
    "    * 「隐私保密」「存储托管」「去中心化」三者之间的不可能三角。\n",
    "  * [openapi-whisper.py](https://gist.github.com/fakela/1be21039103c9c43f2da4a6ef2f4752d)"
   ]
  }
 ],
 "metadata": {
  "kernelspec": {
   "display_name": "Python 3 (ipykernel)",
   "language": "python",
   "name": "python3"
  }
 },
 "nbformat": 4,
 "nbformat_minor": 5
}
