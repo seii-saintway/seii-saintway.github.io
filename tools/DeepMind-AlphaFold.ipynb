{
 "cells": [
  {
   "cell_type": "markdown",
   "id": "f5574826-7bf6-4389-be8d-4c70edaf341a",
   "metadata": {},
   "source": [
    "## [DeepMind AlphaFold](https://github.com/deepmind/alphafold)"
   ]
  },
  {
   "cell_type": "markdown",
   "id": "1d51c0d0-040a-4c4f-bfc8-df985b739553",
   "metadata": {},
   "source": [
    "* [Protein Binder Engineering](https://hackmd.io/p1Ba4wLzQ6GBDG2Dcd7PCw)\n",
    "* [How to Fold Proteins with Decentralized Computing?](https://mirror.xyz/thetechnocrat.eth/CaBr74AhQLX7bDWSsWGOeKwxjuiFNe8_XH2Hf3Bw4Dg)\n",
    "* https://github.com/hpcaitech/FastFold"
   ]
  },
  {
   "cell_type": "markdown",
   "id": "4b7cc450",
   "metadata": {},
   "source": [
    "* [Formation of memory assemblies through the DNA-sensing TLR9 pathway](https://www.nature.com/articles/s41586-024-07220-7)\n",
    "* [Neuronal activity rapidly reprograms dendritic translation via eIF4G2:uORF binding](https://www.nature.com/articles/s41593-024-01615-5)"
   ]
  },
  {
   "cell_type": "markdown",
   "id": "efb0f84a-7133-4b7c-a9ee-6ccb65f872df",
   "metadata": {},
   "source": [
    "* [BioGPT：用于生物医学文本生成和挖掘的生成性预训练转化器](https://cloud.tencent.com/developer/article/2202787)\n",
    "* [BioGPT: generative pre-trained transformer for biomedical text generation and mining](https://pubmed.ncbi.nlm.nih.gov/36156661/)\n",
    "* [一个将分子结构和生物医学文本桥接起来的深度学习系统](https://cloud.tencent.com/developer/article/1963555)"
   ]
  },
  {
   "cell_type": "markdown",
   "id": "3c0b4c91-f9e9-4553-b1c1-4fb8bb924b30",
   "metadata": {},
   "source": [
    "### Single cell RNA-seq"
   ]
  },
  {
   "cell_type": "markdown",
   "id": "732cabfb-0db5-4ab2-b430-ba9ab3e6092b",
   "metadata": {},
   "source": [
    "[Open Problems - Multimodal Single-Cell Integration | Kaggle](https://www.kaggle.com/competitions/open-problems-multimodal)\n",
    "\n",
    "In the past decade, the advent of single-cell genomics has enabled the measurement of DNA, RNA, and proteins in single cells. These technologies allow the study of biology at an unprecedented scale and resolution and have led to new insights into fundamental drivers of health and disease. \n",
    "\n",
    "In this competition, you will predict how DNA, RNA, and protein measurements co-vary in single cells as bone marrow stem cells develop into more mature blood cells. You will have access to a 300,000-cell timecourse dataset and develop a model that predicts from DNA to RNA and from RNA to protein at a later unseen timepoint."
   ]
  },
  {
   "cell_type": "markdown",
   "id": "4f36b974-22cb-479b-9a45-d0cc401bf808",
   "metadata": {},
   "source": [
    "[１細胞解析技術講習会資料](https://singlecellanalysistutorial.readthedocs.io/en/latest/index.html)"
   ]
  },
  {
   "cell_type": "markdown",
   "id": "f1f54ccc-7339-49eb-8103-aeb885996db0",
   "metadata": {},
   "source": [
    "[Protein Binder Engineering](https://hackmd.io/p1Ba4wLzQ6GBDG2Dcd7PCw)"
   ]
  },
  {
   "cell_type": "markdown",
   "id": "9819107f-de7b-47b1-b1f7-0e5b862824d8",
   "metadata": {},
   "source": [
    "https://www.k.u-tokyo.ac.jp/exam/"
   ]
  },
  {
   "cell_type": "markdown",
   "id": "8f4e01e0-b47a-4aa0-948d-1f690066b4b6",
   "metadata": {},
   "source": [
    "https://www.k.u-tokyo.ac.jp/exam/apr_sch/"
   ]
  },
  {
   "cell_type": "markdown",
   "id": "f34b10e0-aa47-43c1-aa8f-6e2a436f2bd5",
   "metadata": {},
   "source": [
    "https://www.k.u-tokyo.ac.jp/exam/recurrent_programs/"
   ]
  },
  {
   "cell_type": "markdown",
   "id": "06397239-501c-44a7-9911-4c998e8fbe45",
   "metadata": {},
   "source": [
    "https://www.k.u-tokyo.ac.jp/education/dstep/"
   ]
  },
  {
   "cell_type": "markdown",
   "id": "88f51d43-c0c3-45d4-84b4-fbca4222973f",
   "metadata": {},
   "source": [
    "https://genome-school.k.u-tokyo.ac.jp/"
   ]
  },
  {
   "cell_type": "markdown",
   "id": "0f2e51e4-4fef-41f5-b344-f16a6d8612c3",
   "metadata": {},
   "source": [
    "https://www.k.u-tokyo.ac.jp/exam/info/"
   ]
  },
  {
   "cell_type": "markdown",
   "id": "3412b4fe-87a3-4cfd-ae9a-0070985b9906",
   "metadata": {},
   "source": [
    "https://www.cbms.k.u-tokyo.ac.jp/labs/rnakato/"
   ]
  },
  {
   "cell_type": "markdown",
   "id": "9885bba5-9478-4d8d-879f-c99cf812cc6d",
   "metadata": {},
   "source": [
    "https://www.cbms.k.u-tokyo.ac.jp/labs/#labs2"
   ]
  },
  {
   "cell_type": "markdown",
   "id": "badb0c7a-781c-4b71-b434-617610fb02c7",
   "metadata": {},
   "source": [
    "https://nakatolab.iqb.u-tokyo.ac.jp/joinus.html"
   ]
  },
  {
   "cell_type": "markdown",
   "id": "12e669c6-8721-437b-a925-cf1eed5c7875",
   "metadata": {},
   "source": [
    "https://nakatolab.iqb.u-tokyo.ac.jp/software.html"
   ]
  },
  {
   "cell_type": "markdown",
   "id": "9d943f00-efdc-451f-9574-70ca2316f6a6",
   "metadata": {},
   "source": [
    "https://v3-migration.vuejs.org/zh/"
   ]
  }
 ],
 "metadata": {
  "kernelspec": {
   "display_name": "Python 3 (ipykernel)",
   "language": "python",
   "name": "python3"
  }
 },
 "nbformat": 4,
 "nbformat_minor": 5
}
