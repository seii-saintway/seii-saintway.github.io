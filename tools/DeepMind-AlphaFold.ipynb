{
 "cells": [
  {
   "cell_type": "markdown",
   "id": "f5574826-7bf6-4389-be8d-4c70edaf341a",
   "metadata": {},
   "source": [
    "## [DeepMind AlphaFold](https://github.com/deepmind/alphafold)"
   ]
  },
  {
   "cell_type": "markdown",
   "id": "1d51c0d0-040a-4c4f-bfc8-df985b739553",
   "metadata": {},
   "source": [
    "* [Protein Binder Engineering](https://hackmd.io/p1Ba4wLzQ6GBDG2Dcd7PCw)\n",
    "* [How to Fold Proteins with Decentralized Computing?](https://mirror.xyz/thetechnocrat.eth/CaBr74AhQLX7bDWSsWGOeKwxjuiFNe8_XH2Hf3Bw4Dg)\n",
    "* https://github.com/hpcaitech/FastFold"
   ]
  },
  {
   "cell_type": "markdown",
   "id": "4b7cc450",
   "metadata": {},
   "source": [
    "* [Formation of memory assemblies through the DNA-sensing TLR9 pathway](https://www.nature.com/articles/s41586-024-07220-7)\n",
    "* [Neuronal activity rapidly reprograms dendritic translation via eIF4G2:uORF binding](https://www.nature.com/articles/s41593-024-01615-5)"
   ]
  },
  {
   "cell_type": "markdown",
   "id": "efb0f84a-7133-4b7c-a9ee-6ccb65f872df",
   "metadata": {},
   "source": [
    "* [BioGPT：用于生物医学文本生成和挖掘的生成性预训练转化器](https://cloud.tencent.com/developer/article/2202787)\n",
    "* [BioGPT: generative pre-trained transformer for biomedical text generation and mining](https://pubmed.ncbi.nlm.nih.gov/36156661/)\n",
    "* [一个将分子结构和生物医学文本桥接起来的深度学习系统](https://cloud.tencent.com/developer/article/1963555)"
   ]
  },
  {
   "cell_type": "markdown",
   "id": "3c0b4c91-f9e9-4553-b1c1-4fb8bb924b30",
   "metadata": {},
   "source": [
    "### Single cell RNA-seq"
   ]
  },
  {
   "cell_type": "markdown",
   "id": "732cabfb-0db5-4ab2-b430-ba9ab3e6092b",
   "metadata": {},
   "source": [
    "[Open Problems - Multimodal Single-Cell Integration | Kaggle](https://www.kaggle.com/competitions/open-problems-multimodal)\n",
    "\n",
    "In the past decade, the advent of single-cell genomics has enabled the measurement of DNA, RNA, and proteins in single cells. These technologies allow the study of biology at an unprecedented scale and resolution and have led to new insights into fundamental drivers of health and disease. \n",
    "\n",
    "In this competition, you will predict how DNA, RNA, and protein measurements co-vary in single cells as bone marrow stem cells develop into more mature blood cells. You will have access to a 300,000-cell timecourse dataset and develop a model that predicts from DNA to RNA and from RNA to protein at a later unseen timepoint."
   ]
  },
  {
   "cell_type": "markdown",
   "id": "4f36b974-22cb-479b-9a45-d0cc401bf808",
   "metadata": {},
   "source": [
    "[１細胞解析技術講習会資料](https://singlecellanalysistutorial.readthedocs.io/en/latest/index.html)"
   ]
  },
  {
   "cell_type": "markdown",
   "id": "f1f54ccc-7339-49eb-8103-aeb885996db0",
   "metadata": {},
   "source": [
    "[Protein Binder Engineering](https://hackmd.io/p1Ba4wLzQ6GBDG2Dcd7PCw)"
   ]
  },
  {
   "cell_type": "markdown",
   "id": "2f45d67b",
   "metadata": {},
   "source": [
    "蛋白质工程（Protein Engineering） 在现代生物医药中的应用，特别是在抗体疗法、抗体-药物偶联物（ADCs）、双特异性抗体（BITEs）、DARPins 和 CAR-T 细胞治疗等领域的核心原理。\n",
    "\n",
    "1. 关键概念\n",
    "   1. 生物制药平台技术：\n",
    "\n",
    "      ・单克隆抗体（Therapeutic antibodies）：用于靶向治疗癌症、免疫疾病等。\n",
    "\n",
    "      ・抗体-药物偶联物（ADCs, Antibody-Drug Conjugates）：抗体携带小分子药物，特异性杀死癌细胞。\n",
    "\n",
    "      ・特异性 T 细胞衔接器（BITEs, Bispecific T-cell Engagers）：可同时结合癌细胞和 T 细胞，促进免疫攻击。\n",
    "\n",
    "      ・DARPins（Designed Ankyrin Repeat Proteins）：比传统抗体更稳定、更易于生产的蛋白质结合物。\n",
    "\n",
    "      ・CAR-T 细胞疗法（CAR-based therapeutics）：利用基因工程改造 T 细胞，使其能识别并杀死癌细胞。\n",
    "   2. 所有这些平台的共同点：\n",
    "\n",
    "      ・核心目标：设计一种人工蛋白质，使其能高效结合某种与疾病相关的靶标蛋白。\n",
    "\n",
    "      ・蛋白质结合（Protein Binding）：药物分子（如抗体）必须精准、高效地附着在目标蛋白上，以发挥治疗作用。\n",
    "\n",
    "   3. 蛋白质工程的数学模型：一个『最小化问题』：\n",
    "\n",
    "      ・输入：目标蛋白的 3D 结构（通常来自 PDB 文件，即 蛋白质数据库 .pdb）。\n",
    "\n",
    "      ・目标：寻找一条氨基酸序列，使其编码的蛋白（称为 binder，即结合物）能紧密结合目标蛋白。\n",
    "\n",
    "2. 『最小化问题』意味着什么？\n",
    "\n",
    "   蛋白质工程的本质是优化（Optimization）：\n",
    "   * 目标函数（Objective Function）：\n",
    "     * 评估不同氨基酸序列与目标蛋白结合的紧密程度（亲和力）。\n",
    "     * 亲和力越高，结合越牢固，药效越好。\n",
    "   * 搜索空间（Search Space）：\n",
    "     * 由于蛋白质由 20 种氨基酸 组成，假设我们需要设计一个 100 个氨基酸 的结合物，则可能的组合数量是：$20^{100} \\approx 10^{130}$\n",
    "     * 这个搜索空间远远超过了传统计算能力，因此需要计算机模拟、机器学习和量子计算来加速搜索。\n",
    "\n",
    "3. 现实应用\n",
    "   * 药物发现：用于筛选高效的蛋白质药物，如 新冠病毒的抗体开发 就涉及这种优化过程。\n",
    "   * 计算方法：\n",
    "     * 经典计算：使用蒙特卡罗方法（Monte Carlo）、分子动力学（Molecular Dynamics, MD）进行模拟。\n",
    "     * 人工智能：AlphaFold 2、RosettaFold 通过深度学习预测蛋白质结构和结合能力。\n",
    "     * 量子计算：利用 量子搜索（Grover）、量子变分优化（VQE）加速找到最优氨基酸序列。\n",
    "\n",
    "4. 总结\n",
    "\n",
    "   这段话说明了蛋白质工程在现代生物制药中的核心作用，并将其归结为一个优化问题：\n",
    "   * 输入：疾病相关的 目标蛋白 3D 结构（.pdb 文件）。\n",
    "   * 优化目标：寻找一条氨基酸序列，使其编码的蛋白能最紧密地结合目标蛋白（最小化结合能量）。\n",
    "   * 方法：结合计算机模拟、AI、量子计算进行搜索，以加速药物发现。\n",
    "\n",
    "简单来说，这是一种『让蛋白质变成理想药物』的数学优化问题！"
   ]
  },
  {
   "cell_type": "markdown",
   "id": "9819107f-de7b-47b1-b1f7-0e5b862824d8",
   "metadata": {},
   "source": [
    "https://www.k.u-tokyo.ac.jp/exam/"
   ]
  },
  {
   "cell_type": "markdown",
   "id": "8f4e01e0-b47a-4aa0-948d-1f690066b4b6",
   "metadata": {},
   "source": [
    "https://www.k.u-tokyo.ac.jp/exam/apr_sch/"
   ]
  },
  {
   "cell_type": "markdown",
   "id": "f34b10e0-aa47-43c1-aa8f-6e2a436f2bd5",
   "metadata": {},
   "source": [
    "https://www.k.u-tokyo.ac.jp/exam/recurrent_programs/"
   ]
  },
  {
   "cell_type": "markdown",
   "id": "06397239-501c-44a7-9911-4c998e8fbe45",
   "metadata": {},
   "source": [
    "https://www.k.u-tokyo.ac.jp/education/dstep/"
   ]
  },
  {
   "cell_type": "markdown",
   "id": "88f51d43-c0c3-45d4-84b4-fbca4222973f",
   "metadata": {},
   "source": [
    "https://genome-school.k.u-tokyo.ac.jp/"
   ]
  },
  {
   "cell_type": "markdown",
   "id": "0f2e51e4-4fef-41f5-b344-f16a6d8612c3",
   "metadata": {},
   "source": [
    "https://www.k.u-tokyo.ac.jp/exam/info/"
   ]
  },
  {
   "cell_type": "markdown",
   "id": "3412b4fe-87a3-4cfd-ae9a-0070985b9906",
   "metadata": {},
   "source": [
    "https://www.cbms.k.u-tokyo.ac.jp/labs/rnakato/"
   ]
  },
  {
   "cell_type": "markdown",
   "id": "9885bba5-9478-4d8d-879f-c99cf812cc6d",
   "metadata": {},
   "source": [
    "https://www.cbms.k.u-tokyo.ac.jp/labs/#labs2"
   ]
  },
  {
   "cell_type": "markdown",
   "id": "badb0c7a-781c-4b71-b434-617610fb02c7",
   "metadata": {},
   "source": [
    "https://nakatolab.iqb.u-tokyo.ac.jp/joinus.html"
   ]
  },
  {
   "cell_type": "markdown",
   "id": "12e669c6-8721-437b-a925-cf1eed5c7875",
   "metadata": {},
   "source": [
    "https://nakatolab.iqb.u-tokyo.ac.jp/software.html"
   ]
  },
  {
   "cell_type": "markdown",
   "id": "9d943f00-efdc-451f-9574-70ca2316f6a6",
   "metadata": {},
   "source": [
    "https://v3-migration.vuejs.org/zh/"
   ]
  }
 ],
 "metadata": {
  "kernelspec": {
   "display_name": "Python 3 (ipykernel)",
   "language": "python",
   "name": "python3"
  },
  "language_info": {
   "codemirror_mode": {
    "name": "ipython",
    "version": 3
   },
   "file_extension": ".py",
   "mimetype": "text/x-python",
   "name": "python",
   "nbconvert_exporter": "python",
   "pygments_lexer": "ipython3",
   "version": "3.9.7"
  }
 },
 "nbformat": 4,
 "nbformat_minor": 5
}
