{
 "cells": [
  {
   "cell_type": "markdown",
   "id": "f5574826-7bf6-4389-be8d-4c70edaf341a",
   "metadata": {},
   "source": [
    "## [DeepMind AlphaFold](https://github.com/deepmind/alphafold)"
   ]
  },
  {
   "cell_type": "markdown",
   "id": "1d51c0d0-040a-4c4f-bfc8-df985b739553",
   "metadata": {},
   "source": [
    "* [Protein Binder Engineering](https://hackmd.io/p1Ba4wLzQ6GBDG2Dcd7PCw)\n",
    "* [How to Fold Proteins with Decentralized Computing?](https://mirror.xyz/thetechnocrat.eth/CaBr74AhQLX7bDWSsWGOeKwxjuiFNe8_XH2Hf3Bw4Dg)\n",
    "* https://github.com/hpcaitech/FastFold"
   ]
  },
  {
   "cell_type": "markdown",
   "id": "bf2d8906-d548-4cc3-91b5-9993e45da650",
   "metadata": {},
   "source": []
  },
  {
   "cell_type": "markdown",
   "id": "0d16c16e-34cd-48fe-be62-c26d5b1ef74b",
   "metadata": {},
   "source": []
  }
 ],
 "metadata": {
  "kernelspec": {
   "display_name": "Python 3 (ipykernel)",
   "language": "python",
   "name": "python3"
  },
  "language_info": {
   "codemirror_mode": {
    "name": "ipython",
    "version": 3
   },
   "file_extension": ".py",
   "mimetype": "text/x-python",
   "name": "python",
   "nbconvert_exporter": "python",
   "pygments_lexer": "ipython3",
   "version": "3.10.9"
  }
 },
 "nbformat": 4,
 "nbformat_minor": 5
}
