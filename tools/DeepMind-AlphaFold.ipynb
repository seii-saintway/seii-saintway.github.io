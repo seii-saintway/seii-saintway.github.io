{
 "cells": [
  {
   "cell_type": "markdown",
   "id": "f5574826-7bf6-4389-be8d-4c70edaf341a",
   "metadata": {},
   "source": [
    "## [DeepMind AlphaFold](https://github.com/deepmind/alphafold)"
   ]
  },
  {
   "cell_type": "markdown",
   "id": "1d51c0d0-040a-4c4f-bfc8-df985b739553",
   "metadata": {},
   "source": [
    "* [Protein Binder Engineering](https://hackmd.io/p1Ba4wLzQ6GBDG2Dcd7PCw)\n",
    "* [How to Fold Proteins with Decentralized Computing?](https://mirror.xyz/thetechnocrat.eth/CaBr74AhQLX7bDWSsWGOeKwxjuiFNe8_XH2Hf3Bw4Dg)\n",
    "* https://github.com/hpcaitech/FastFold"
   ]
  },
  {
   "cell_type": "markdown",
   "id": "b89445c0-cde6-4ced-ac95-8171ade774fc",
   "metadata": {},
   "source": [
    "> 蛋白质序列在本质上类似于自然语言：氨基酸以多种组合方式排列，形成承载功能的结构，就像字母构成单词和句子承载意义一样。因此，在整个自然语言处理（NLP）的历史中，它的许多技术被应用于蛋白质研究问题。Transformer 预训练模型的实施使文本生成具有类似人类的能力，包括具有特定属性的文本，如风格或主题。受其在 NLP 任务中取得的巨大成功的激励，预计专用 Transformer 将在不久的将来主导自定义蛋白质序列的生成。对蛋白质家族的预训练模型进行微调，将使它们能够用新的序列来扩展它们，这些序列可能是高度不同的，但仍有潜在的功能。控制标签的结合方式，如细胞区系或功能，进一步使新型蛋白质功能的可控设计成为可能。此外，最近的模型可解释性方法将使我们能够解决「black box」问题，增强我们对蛋白质 folding 原理的理解。早期的举措显示了生成性语言模型在设计功能序列方面的巨大潜力。作者认为，使用生成性文本模型来创造新的蛋白质是一个很有前途的、在很大程度上未被开发的领域，并讨论了它对蛋白质设计可预见的影响。\n",
    "ーー基于语言模型的可控蛋白质设计\n",
    "ーー[Controllable protein design with language models](https://www.nature.com/articles/s42256-022-00499-z)"
   ]
  },
  {
   "cell_type": "markdown",
   "id": "ca4af902-4b0e-4296-a708-e1bdd870c300",
   "metadata": {},
   "source": [
    "> 一个将分子结构和生物医学文本桥接起来的深度学习系统，其理解力可与人类专业人员媲美。\n",
    "为了加速生物医学研究过程，人们开发了深度学习系统，其通过阅读大规模的生物医学数据，来自动获取分子实体的知识。受到人类通过多种方式阅读分子结构和生物医学文本信息来学习深度分子知识的启发，论文作者提出了一个知识丰富的机器阅读系统，该系统将这两种类型的信息连接在一个统一的深度学习框架中，为生物医学研究提供全面的帮助。他们解决了现有的机器阅读模型只能分别处理不同类型数据的问题，从而实现了对分子实体的全面深入的理解。通过在不同信息来源中以无监督的方式抓取元知识，他们的系统可以促进各种现实世界生物医学应用，包括分子性质预测，生物医学关系提取等。实验结果表明，该系统在分子性质理解能力方面甚至超过了人类专业人员，并显示了其在未来药物自动发现和文档化方面的潜力。\n",
    "ーー清华大学计算机系孙茂松团队发表于 nature communications，名为《A deep-learning system bridging molecule structure and biomedical text with comprehension comparable to human professionals》的论文。\n",
    "ーーhttps://drive.google.com/drive/folders/1xig3-3JG63kR-Xqj1b9wkPEdxtfD_4IX"
   ]
  }
 ],
 "metadata": {
  "kernelspec": {
   "display_name": "Python 3 (ipykernel)",
   "language": "python",
   "name": "python3"
  }
 },
 "nbformat": 4,
 "nbformat_minor": 5
}
