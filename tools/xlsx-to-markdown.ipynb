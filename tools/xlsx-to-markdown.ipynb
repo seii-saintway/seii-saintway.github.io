{
 "cells": [
  {
   "cell_type": "markdown",
   "id": "0c4323de-e0a1-43d9-b37f-8433c546b018",
   "metadata": {},
   "source": [
    "---\n",
    "Excel"
   ]
  },
  {
   "cell_type": "code",
   "execution_count": null,
   "id": "8d52b2cc-80bd-48d3-823d-d717db2644f9",
   "metadata": {},
   "outputs": [],
   "source": [
    "import pandas as pd\n",
    "import re\n",
    "\n",
    "def excel_to_markdown(excel_path, output_path):\n",
    "    # 读取 Excel 文件\n",
    "    excel_file = pd.ExcelFile(excel_path)\n",
    "\n",
    "    # 遍历所有 sheet，将其转换为 Markdown\n",
    "    with open(output_path, 'w', encoding='utf-8') as md_file:\n",
    "        for sheet_name in excel_file.sheet_names:\n",
    "            md_file.write(f'# Sheet: {sheet_name}\\n\\n')  # 写入 sheet 名称\n",
    "\n",
    "            # 读取每个 sheet 并进行清理\n",
    "            df = pd.read_excel(excel_file, sheet_name=sheet_name)\n",
    "            df_cleaned = (\n",
    "                df.dropna(axis=1, how='all')  # 去掉全空的列\n",
    "                  .dropna(axis=0, how='all')  # 去掉全空的行\n",
    "                  .fillna('')  # 将 NaN 替换为空字符串\n",
    "            )\n",
    "\n",
    "            md_content = re.sub(r'\\s+', ' ', df_cleaned.to_markdown(index=False))\n",
    "            # 写入 Markdown 表格\n",
    "            md_file.write(md_content)  # 不输出索引\n",
    "            md_file.write('\\n\\n')  # 添加换行\n",
    "\n",
    "    print(f'Markdown 文件已保存至 {output_path}')"
   ]
  },
  {
   "cell_type": "code",
   "execution_count": null,
   "id": "be2d3e8f-4e60-4697-b71e-a97e7a71cdc6",
   "metadata": {},
   "outputs": [],
   "source": [
    "# 执行转换\n",
    "excel_to_markdown('100-0308_盛偉_技術者票.xlsx', '100-0308_盛偉_技術者票.md')"
   ]
  },
  {
   "cell_type": "markdown",
   "id": "41d85bf6-df1f-47fe-aac7-63e2783d37f8",
   "metadata": {},
   "source": [
    "---\n",
    "Excel to CSV"
   ]
  }
 ],
 "metadata": {
  "kernelspec": {
   "display_name": "Python 3 (ipykernel)",
   "language": "python",
   "name": "python3"
  },
  "language_info": {
   "codemirror_mode": {
    "name": "ipython",
    "version": 3
   },
   "file_extension": ".py",
   "mimetype": "text/x-python",
   "name": "python",
   "nbconvert_exporter": "python",
   "pygments_lexer": "ipython3",
   "version": "3.9.7"
  }
 },
 "nbformat": 4,
 "nbformat_minor": 5
}
