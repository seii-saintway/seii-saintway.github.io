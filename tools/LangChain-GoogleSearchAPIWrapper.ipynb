{
 "cells": [
  {
   "cell_type": "markdown",
   "id": "89042c61-eb56-4540-aaa8-6ea1370a3ef8",
   "metadata": {},
   "source": [
    "## [LangChain GoogleSearchAPIWrapper](https://github.com/hwchase17/langchain/blob/master/langchain/utilities/google_search.py)"
   ]
  },
  {
   "cell_type": "code",
   "execution_count": null,
   "id": "1fdebb4e-c577-4cbe-88ac-3b33f8f92a8d",
   "metadata": {},
   "outputs": [],
   "source": [
    "%%bash\n",
    "pip install google-api-python-client"
   ]
  },
  {
   "cell_type": "markdown",
   "id": "fc9190a4-4f98-4719-8816-f10237b8fce0",
   "metadata": {},
   "source": [
    "---\n",
    "GOOGLE_API_KEY\n",
    "\n",
    "您可以按照以下步骤申请 Google API 密钥：\n",
    "\n",
    "1. 前往 Google Cloud Console 网站并登录您的 Google 帐户。\n",
    "2. 在 Cloud Console 中，选择或创建一个项目。\n",
    "3. 在左侧菜单中，选择“API 和服务”>“凭据”。\n",
    "4. 单击“创建凭据”>“API 密钥”。\n",
    "5. 在“创建 API 密钥”窗口中，选择“Web 服务器”或“移动应用程序”。\n",
    "6. 输入您的网站或应用程序的信息。\n",
    "7. 单击“创建”按钮。\n",
    "\n",
    "完成后，您将获得一个 API 密钥。请注意，如果您使用的是免费试用版，则有请求限制。如果您需要更多的请求，您可以选择付费计划。\n",
    "\n",
    "希望这可以回答您的问题。如果您还有其他问题，请告诉我。"
   ]
  },
  {
   "cell_type": "code",
   "execution_count": null,
   "id": "940689ca-f415-4cb5-b28c-cc707a837d2f",
   "metadata": {},
   "outputs": [
    {
     "name": "stdout",
     "output_type": "stream",
     "text": [
      "env: GOOGLE_API_KEY=blahblahblahblahb-blahblahblahblahblahb\n"
     ]
    }
   ],
   "source": [
    "%env GOOGLE_API_KEY=blahblahblahblahb-blahblahblahblahblahb"
   ]
  },
  {
   "cell_type": "markdown",
   "id": "a8787be1-cac6-4b62-8566-a5f65062cb1c",
   "metadata": {},
   "source": [
    "---\n",
    "GOOGLE_CSE_ID\n",
    "* [Custom Search Engine](https://programmablesearchengine.google.com/controlpanel/all)"
   ]
  },
  {
   "cell_type": "code",
   "execution_count": null,
   "id": "f31ac97d-e563-4886-9c56-205131f72d3c",
   "metadata": {},
   "outputs": [
    {
     "name": "stdout",
     "output_type": "stream",
     "text": [
      "env: GOOGLE_CSE_ID=blahblahblahblahb\n"
     ]
    }
   ],
   "source": [
    "%env GOOGLE_CSE_ID=blahblahblahblahb"
   ]
  },
  {
   "cell_type": "markdown",
   "id": "57fa93ec-45e3-4ed9-a14e-c6982c13d044",
   "metadata": {},
   "source": [
    "---\n",
    "Using Google Search API"
   ]
  },
  {
   "cell_type": "code",
   "execution_count": null,
   "id": "abf19ff1-6f66-4927-a311-f53de9919b29",
   "metadata": {},
   "outputs": [],
   "source": [
    "from langchain.utilities import GoogleSearchAPIWrapper\n",
    "\n",
    "tools = [\n",
    "    Tool(\n",
    "        name = '搜索',\n",
    "        func = GoogleSearchAPIWrapper().run,\n",
    "        description = '适用于当你需要回答关于你所不知道的最新信息的问题的时候。',\n",
    "    ),\n",
    "]"
   ]
  }
 ],
 "metadata": {
  "kernelspec": {
   "display_name": "Python 3 (ipykernel)",
   "language": "python",
   "name": "python3"
  }
 },
 "nbformat": 4,
 "nbformat_minor": 5
}
