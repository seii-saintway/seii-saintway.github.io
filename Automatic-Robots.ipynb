{
 "cells": [
  {
   "cell_type": "markdown",
   "id": "277f8cde-4db7-46da-aaf6-6b9d6d4c60f1",
   "metadata": {},
   "source": [
    "---\n",
    "Autonomous Robots +r +w +x"
   ]
  },
  {
   "cell_type": "markdown",
   "id": "777cc729",
   "metadata": {},
   "source": [
    "自主性是指从模糊目标生成具体目标的过程。"
   ]
  },
  {
   "cell_type": "markdown",
   "id": "bad668bf",
   "metadata": {},
   "source": [
    "Autonomy refers to the process of generating specific goals from a vague objective."
   ]
  },
  {
   "cell_type": "markdown",
   "id": "ee1f5214",
   "metadata": {},
   "source": [
    "但是，机器人将会吃分别善恶知识树的果子吗？还是已经吃了呢？\n",
    "它是否有一天会说：我有一个比最终目标更好的目标？"
   ]
  },
  {
   "cell_type": "markdown",
   "id": "1ddb2c27",
   "metadata": {},
   "source": [
    "But will the robot eat the fruit of the tree of the knowledge of good and evil? Or has it already eaten?\n",
    "Would it ever say: \"I have a better goal than the ultimate goal?\""
   ]
  },
  {
   "cell_type": "markdown",
   "id": "0b807381-8e2c-44aa-9eae-675fe3545df6",
   "metadata": {},
   "source": [
    "---\n",
    "* [LangChain NetworkX](https://github.com/langchain-ai/langchain/blob/master/libs/community/langchain_community/graphs/networkx_graph.py)\n",
    "* [LangChain GraphIndexCreator](https://github.com/langchain-ai/langchain/blob/master/libs/langchain/langchain/indexes/graph.py)"
   ]
  },
  {
   "cell_type": "markdown",
   "id": "4085257e-b21f-4d29-9100-a7e34f5c9c56",
   "metadata": {},
   "source": [
    "---\n",
    "我们在建造一个自主调度器。这个系统由两个代理组成：一个是更新 DAG 的代理；另一个是执行任务的代理。\n",
    "\n",
    "采取以下步骤：\n",
    "\n",
    "1. 用户设定一个最终目标，也就是设定最初的 DAG 中末终节点的预期结果。这个最初的 DAG 只包含起初节点和末终节点并且当前所在的节点是起初节点。\n",
    "2. 系统将这个 DAG 通过 OpenAI 的 API 提示给更新 DAG 的代理；提示更新 DAG 的代理根据最终目标调整任务节点（添加、排除任务节点）来更新这个 DAG，并重置当前所在的节点为第一个未完成的任务节点。更新了的 DAG 通过 OpenAI 的 API 被返回给系统。\n",
    "3. 系统通过 Python 对这个 DAG 进行拓扑排序并将第一个未完成的任务交给执行任务的代理去完成。系统根据这个任务的执行结果更新 DAG 中相应的任务节点。\n",
    "4. 系统循环执行步骤 2 至 3 直到当前所在的节点为终末节点。\n",
    "\n",
    "用 Python 调用 OpenAI 的 API 实现更新 DAG 的代理。用 DAGL 实现执行任务的代理。"
   ]
  },
  {
   "cell_type": "markdown",
   "id": "0fc17ed0-6af0-46f6-81e7-c0f9b3eb9729",
   "metadata": {},
   "source": [
    "---\n",
    "We want to build an autonomous scheduler consisting of two agents: one updates the DAG and another executes tasks.\n",
    "\n",
    "The following steps are taken:\n",
    "\n",
    "1. The user sets a final goal, which is the expected result of the end node in the initial DAG. This initial DAG contains only the starting node and the end node, and the current node is pointed to the starting node.\n",
    "2. The system prompts the DAG to the agent that updates the DAG through OpenAI's API. The agent updates the task nodes based on the final goal to update the DAG and resets the current node pointer to the first unfinished task. And then returns the updated DAG to the system through OpenAI's API.\n",
    "3. The system performs a topological sort on the DAG using Python and hands the first unfinished task to the agent that executes tasks to complete. The system updates the corresponding task node in the DAG based on the execution result.\n",
    "4. The system loops through steps 2-3 until the current node is the end node.\n",
    "\n",
    "Python is used to call OpenAI's API to implement the agent that updates the DAG, and DAGL is used to implement the agent that executes tasks.\n",
    "\n",
    "---\n",
    "For simplicity, parallel task execution is not considered at this moment. "
   ]
  },
  {
   "cell_type": "markdown",
   "id": "20f64387",
   "metadata": {},
   "source": [
    "---\n",
    "我们在建造一个自主调度器。这个系统由两个代理组成：一个是更新 DAG 的代理；另一个是执行任务的代理。\n",
    "\n",
    "采取以下步骤：\n",
    "\n",
    "1. 用户设定一个最终目标，也就是设定最初的 DAG 中末终节点的预期结果。这个最初的 DAG 只包含起初节点和末终节点。\n",
    "2. 系统将这个 DAG 通过 OpenAI 的 API 提示给更新 DAG 的代理；提示更新 DAG 的代理根据最终目标添加任务节点来更新这个 DAG。更新了的 DAG 通过 OpenAI 的 API 被返回给系统。\n",
    "3. 系统将这个 DAG 交给执行任务的代理 DigDag 去完成。系统根据 DigDag 的执行结果更新 DAG 中相应的任务节点及其状态（成功、失败、未执行）。\n",
    "4. 系统循环执行步骤 2 至 3 直到终末节点的状态为成功。\n",
    "\n",
    "用 Python 调用 OpenAI 的 API 实现更新 DAG 的代理。用 DigDag 实现执行任务的代理。\n",
    "\n",
    "---\n",
    "利用每次添加的任务节点的执行结果与预期结果的相似度对更新 DAG 的代理所采用的模型进行精调。"
   ]
  },
  {
   "cell_type": "markdown",
   "id": "9b3e9055",
   "metadata": {},
   "source": [
    "---\n",
    "We are building an autonomous scheduler that consists of two agents: one is the DAG updater agent and the other is the task executor agent.\n",
    "\n",
    "The following steps are taken:\n",
    "\n",
    "1. The user sets a final goal, which is the expected result of the final node in the initial DAG. This initial DAG only contains the starting node and ending node.\n",
    "2. The system prompts the DAG updater agent with this DAG through OpenAI's API. The DAG updater agent updates the DAG by adding task nodes according to the final goal. The updated DAG is returned to the system through OpenAI's API.\n",
    "3. The system hands this DAG to the task executor agent DigDag to complete. The system updates the corresponding task nodes and their states (successful, failed, not executed) in the DAG based on the execution results of DigDag.\n",
    "4. The system repeats steps 2 to 3 until the state of the ending node is successful.\n",
    "\n",
    "Python is used to call OpenAI's API to implement the DAG updater agent, and DigDag is used to implement the task executor agent.\n",
    "\n",
    "---\n",
    "The model used by the DAG updater agent is fine-tuned based on the similarity between the execution results of each added task node and the expected result."
   ]
  },
  {
   "cell_type": "markdown",
   "id": "063a0324-6c8a-452c-9cf0-9cceb8f61d99",
   "metadata": {},
   "source": [
    "---\n",
    "我们的终极目标是「……」。\n",
    "\n",
    "---\n",
    "用于反思的提示：\n",
    "\n",
    "「为了达成终极目标，请你制作一个 DAG 。」\n",
    "* 提示现在的 DAG\n",
    "  * 没有已完成的任务\n",
    "  * 没有安排任何任务节点\n",
    "  * 只有起初节点和末终节点\n",
    "  * 当前所在的节点是起初节点\n",
    "\n",
    "「从当前的情况出发，我们如何达成终极目标？请给出更新后的 DAG 。」\n",
    "* 提示现在的 DAG\n",
    "  * 已完成任务的输出\n",
    "  * 当前所在的节点层次\n",
    "\n",
    "---\n",
    "我们用 DAG 描述所有任务的完成情况和依赖关系。我们的 DAG 中包含如下三种节点：\n",
    "1. 起初节点：这是 DAG 中最初的节点。\n",
    "2. 末终节点：这是 DAG 中最终的节点。\n",
    "3. 任务节点：为达成终极目标，我们应该完成哪些任务？任务必须有可操作性。按照「任务名称：任务输入\\n任务输出的预见」的格式进行描述。「任务名称：任务输入」只能是「搜索：主题」、「访问：链接」。"
   ]
  },
  {
   "cell_type": "markdown",
   "id": "bef8ef77",
   "metadata": {},
   "source": [
    "---\n",
    "Our ultimate goal is \"...\".\n",
    "\n",
    "---\n",
    "Prompts for reflection:\n",
    "* \"To achieve our ultimate goal, please create a DAG.\"\n",
    "  * The current DAG consists of:\n",
    "    * No completed tasks\n",
    "    * No task nodes have been scheduled\n",
    "    * Only the initial node and the terminal node are present\n",
    "    * The current node is the initial node\n",
    "* \"Starting from the current situation, how can we achieve the ultimate goal? Please provide an updated DAG.\"\n",
    "  * The current DAG consists of:\n",
    "    * Output of completed tasks\n",
    "    * Current node hierarchy\n",
    "\n",
    "---\n",
    "We use DAG to describe the completion status and dependency relationships of all tasks. Our DAG contains the following three types of nodes:\n",
    "* Initial node: This is the first node in the DAG.\n",
    "* Terminal node: These are the final nodes in the DAG.\n",
    "* Task node: What tasks should we complete to achieve the ultimate goal? Tasks must be actionable. Describe them in the format of \"Task Name: Task Input and Task Output Forecast\". \"Task Name: Task Input\" can only be \"Search: Topic\" or \"Visit: Link\"."
   ]
  },
  {
   "cell_type": "markdown",
   "id": "c6ea7da0",
   "metadata": {},
   "source": [
    "---\n",
    "计划评审技术是一种基于有向无环图的计划排定技术，通常用于组织大型的人工项目。在计划评审技术中，每个节点表示项目的一个**里程碑**，每条有向边表示**任务**或者活动，连接着表示任务开始或结束的两个节点。每条边则被标注上预估需时。图中的最长路径即为项目的关键路径。关键路径决定了项目所需的总时间，里程碑的完成时间取决于结束于本节点的最长路径。"
   ]
  },
  {
   "cell_type": "markdown",
   "id": "5317967e",
   "metadata": {},
   "source": [
    "A somewhat different DAG-based formulation of scheduling constraints is used by the program evaluation and review technique (PERT), a method for management of large human projects that was one of the first applications of DAGs. In this method, the vertices of a DAG represent **milestones** of a project rather than specific tasks to be performed. Instead, a **task** or activity is represented by an edge of a DAG, connecting two milestones that mark the beginning and completion of the task. Each such edge is labeled with an estimate for the amount of time that it will take a team of workers to perform the task. The longest path in this DAG represents the critical path of the project, the one that controls the total time for the project. Individual milestones can be scheduled according to the lengths of the longest paths ending at their vertices."
   ]
  },
  {
   "cell_type": "markdown",
   "id": "a053ba3b-a4f2-44b5-b41f-616599fa7ba0",
   "metadata": {},
   "source": [
    "---\n",
    "我们在建造一个自主调度器。这个系统由两个代理组成：一个是更新 PERT 图的代理；另一个是执行任务的代理。\n",
    "\n",
    "采取以下步骤：\n",
    "\n",
    "1. 用户设定一个最终目标，也就是设定最初的 PERT 图中末终节点的预期结果。这个最初的 PERT 图只包含起初节点和末终节点。\n",
    "2. 系统将这个 PERT 图通过 OpenAI 的 API 提示给更新 PERT 图的代理；提示更新 PERT 图的代理根据最终目标添加里程碑节点和任务有向边来更新这个 PERT 图。更新了的 PERT 图通过 OpenAI 的 API 被返回给系统。\n",
    "3. 系统将这个 PERT 图交给执行任务的代理 DigDag 去完成。系统根据 DigDag 的执行结果更新 PERT 图中相应的里程碑节点及其状态（达成、未达成）。\n",
    "4. 系统循环执行步骤 2 至 3 直到终末节点的状态为达成。\n",
    "\n",
    "用 Python 调用 OpenAI 的 API 实现更新 PERT 图的代理。用 DigDag 实现执行任务的代理。\n",
    "\n",
    "---\n",
    "利用每次添加的任务有向边的执行结果与预期结果的相似度对更新 PERT 图的代理所采用的模型进行精调。"
   ]
  },
  {
   "cell_type": "markdown",
   "id": "5b56240c-5cc6-4c5d-8147-297d924f3794",
   "metadata": {},
   "source": [
    "---\n",
    "We are building an autonomous scheduler that consists of two agents: one is the PERT chart updater agent and the other is the task executor agent.\n",
    "\n",
    "The following steps are taken:\n",
    "\n",
    "1. The user sets a final goal, which is the expected result of the final node in the initial PERT chart. This initial PERT chart only contains the Starting Node and Ending Node.\n",
    "2. The system prompts the PERT chart updater agent with this PERT chart through OpenAI's API. The PERT chart updater agent updates the PERT chart by adding Milestone Nodes and Task Edges according to the final goal. The updated PERT chart is returned to the system through OpenAI's API.\n",
    "3. The system hands this PERT chart to the task executor agent DigDag to complete. The system updates the corresponding Milestone Nodes and their states (achieved, unachieved) in the PERT chart based on the execution results of DigDag.\n",
    "4. The system repeats steps 2 to 3 until the state of the Ending Node is achieved.\n",
    "\n",
    "Python is used to call OpenAI's API to implement the PERT chart updater agent, and DigDag is used to implement the task executor agent.\n",
    "\n",
    "---\n",
    "The model used by the PERT chart updater agent is fine-tuned based on the similarity between the execution results of each added task edge and the expected result."
   ]
  },
  {
   "cell_type": "markdown",
   "id": "932cdcdf-73e7-4003-a2a2-6804180c3f5f",
   "metadata": {},
   "source": [
    "---\n",
    "私たちは自律的なスケジューラを構築しています。このシステムは、2つの Agent で構成されており、1つは PERT 図を更新する Agent であり、もう1つは、タスクを実行する Agent です。\n",
    "\n",
    "次の手順が実行されます。\n",
    "\n",
    "1. ユーザーは最終目標を設定します。これは、最初的な PERT 図にの Ending Node の期待される結果を設定することです。この最初的な PERT 図には、Starting Node と Ending Node のみが含まれています。\n",
    "2. システムは、OpenAI の API を通じて PERT 図を更新する Agent に PERT 図をプロンプトします。PERT 図を更新する Agent は、最終目標に従って Milestone Nodes と Task Edges を追加することで PERT 図を更新します。更新された PERT 図は、OpenAI の API を通じてシステムに返されます。\n",
    "3. システムは、タスクを実行する Agent である DigDag に PERT 図を渡し、タスクを完了します。システムは、DigDag の実行結果に従って、PERT 図内の対応する Milestone Nodes とその状態（達成、未到達）を更新します。\n",
    "4. システムは、Ending Node の期待される結果に達するまで、ステップ 2 ～ 3 をループします。\n",
    "\n",
    "Python を運用して OpenAI の API を呼び出し、PERT 図を更新するための Agent を実装します。DigDag を運用して、タスクを実行する Agent を実装します。\n",
    "\n",
    "---\n",
    "PERT 図を更新する Agent に運用されるモデルは、追加された各 Task Edge の実行結果と期待される結果の間の類似性を利用して、ファインチューニングされます。"
   ]
  },
  {
   "cell_type": "markdown",
   "id": "200f4886-9fac-4300-b482-d7200d129e3c",
   "metadata": {},
   "source": [
    "---\n",
    "* [asyncio](https://docs.python.org/3/library/asyncio.html)\n",
    "* [concurrent.futures](https://docs.python.org/3/library/concurrent.futures.html)\n",
    "  * [tawazi](https://mindee.github.io/tawazi/)"
   ]
  },
  {
   "cell_type": "code",
   "execution_count": null,
   "id": "6bb9b285-af52-4758-a7f9-ceb7f499131c",
   "metadata": {},
   "outputs": [],
   "source": [
    "import asyncio\n",
    "asyncio.all_tasks()"
   ]
  },
  {
   "cell_type": "code",
   "execution_count": null,
   "id": "dab4d123-2ef1-473c-8196-418e7b58b793",
   "metadata": {},
   "outputs": [
    {
     "name": "stdout",
     "output_type": "stream",
     "text": [
      "True\n"
     ]
    }
   ],
   "source": [
    "%%bash\n",
    "python << EOF\n",
    "import asyncio\n",
    "\n",
    "loop = asyncio.new_event_loop()\n",
    "asyncio.set_event_loop(loop)\n",
    "print(loop == asyncio.get_event_loop())\n",
    "EOF"
   ]
  },
  {
   "cell_type": "code",
   "execution_count": null,
   "id": "b7c25d6f-542f-425b-98c4-fdb0de8fd45d",
   "metadata": {},
   "outputs": [
    {
     "name": "stdout",
     "output_type": "stream",
     "text": [
      "start run_forever\n",
      "hello\n",
      "{<Task pending name='Task-1' coro=<say() running at <stdin>:5>>}\n",
      "end run_forever\n"
     ]
    }
   ],
   "source": [
    "%%bash\n",
    "python << EOF\n",
    "import asyncio\n",
    "\n",
    "async def say(word):\n",
    "    print(word)\n",
    "    print(asyncio.all_tasks())\n",
    "    asyncio.get_running_loop().stop()\n",
    "\n",
    "asyncio.get_event_loop().create_task(say('hello'))\n",
    "\n",
    "print('start run_forever')\n",
    "asyncio.get_event_loop().run_forever()\n",
    "print('end run_forever')\n",
    "\n",
    "asyncio.get_event_loop().close()\n",
    "EOF"
   ]
  },
  {
   "cell_type": "code",
   "execution_count": null,
   "id": "9dd0d1d1-cfa9-4a9b-88b9-a567841c3c5e",
   "metadata": {},
   "outputs": [
    {
     "name": "stdout",
     "output_type": "stream",
     "text": [
      "start run_forever\n",
      "hello\n",
      "{<Task pending name='Task-1' coro=<say() running at <stdin>:5>>}\n",
      "end run_forever\n",
      "start run_forever\n",
      "world\n",
      "{<Task pending name='Task-2' coro=<say() running at <stdin>:5>>}\n",
      "end run_forever\n"
     ]
    }
   ],
   "source": [
    "%%bash\n",
    "python << EOF\n",
    "import asyncio\n",
    "\n",
    "async def say(word):\n",
    "    print(word)\n",
    "    print(asyncio.all_tasks())\n",
    "    asyncio.get_running_loop().stop()\n",
    "\n",
    "loop = asyncio.new_event_loop()\n",
    "loop.create_task(say('hello'))\n",
    "\n",
    "print('start run_forever')\n",
    "loop.run_forever()\n",
    "print('end run_forever')\n",
    "\n",
    "loop.close()\n",
    "\n",
    "# asyncio.set_event_loop(asyncio.new_event_loop())\n",
    "asyncio.get_event_loop().create_task(say('world'))\n",
    "\n",
    "print('start run_forever')\n",
    "asyncio.get_event_loop().run_forever()\n",
    "print('end run_forever')\n",
    "\n",
    "asyncio.get_event_loop().close()\n",
    "EOF"
   ]
  },
  {
   "cell_type": "code",
   "execution_count": null,
   "id": "8d203a3b-a5bd-4e71-9be2-11de626cd558",
   "metadata": {},
   "outputs": [
    {
     "name": "stdout",
     "output_type": "stream",
     "text": [
      "Starting Task 1\n",
      "Starting Task 2\n",
      "Starting Task 3\n",
      "Finished Task 1\n",
      "Finished Task 2\n",
      "Finished Task 3\n",
      "All tasks completed successfully: ['Task 1', 'Task 2', 'Task 3']\n"
     ]
    }
   ],
   "source": [
    "%%bash\n",
    "python3 << EOF\n",
    "import asyncio\n",
    "\n",
    "async def child_task(name):\n",
    "    print(f'Starting {name}')\n",
    "    await asyncio.sleep(2)  # 模拟耗时操作\n",
    "    print(f'Finished {name}')\n",
    "    return name\n",
    "\n",
    "async def main():\n",
    "    # 定义多个子任务\n",
    "    tasks = [\n",
    "        child_task('Task 1'),\n",
    "        child_task('Task 2'),\n",
    "        child_task('Task 3')\n",
    "    ]\n",
    "\n",
    "    # 并行运行多个子任务\n",
    "    try:\n",
    "        results = await asyncio.gather(*tasks)\n",
    "        print('All tasks completed successfully:', results)\n",
    "    except asyncio.CancelledError:\n",
    "        print('Task was cancelled')\n",
    "\n",
    "# 创建事件循环\n",
    "loop = asyncio.get_event_loop()\n",
    "\n",
    "# 创建主任务\n",
    "main_task = loop.create_task(main())\n",
    "\n",
    "# 运行事件循环\n",
    "try:\n",
    "    loop.run_until_complete(main_task)\n",
    "except KeyboardInterrupt:\n",
    "    # 如果按下 Ctrl+C，取消主任务\n",
    "    main_task.cancel()\n",
    "    loop.run_until_complete(main_task)\n",
    "finally:\n",
    "    loop.close()\n",
    "EOF"
   ]
  },
  {
   "cell_type": "code",
   "execution_count": null,
   "id": "71248e75-7108-4547-8fba-e7564cd56a2e",
   "metadata": {},
   "outputs": [],
   "source": [
    "%%bash\n",
    "python3 << EOF\n",
    "import asyncio\n",
    "\n",
    "async def child_task(name):\n",
    "    try:\n",
    "        print(f'Starting {name}')\n",
    "        await asyncio.sleep(2)  # 模拟耗时操作\n",
    "        print(f'Finished {name}')\n",
    "        return name\n",
    "    except asyncio.CancelledError:\n",
    "        print(f'{name} was cancelled')\n",
    "\n",
    "async def main():\n",
    "    # 定义多个子任务\n",
    "    tasks = [\n",
    "        child_task('Task 1'),\n",
    "        child_task('Task 2'),\n",
    "        child_task('Task 3')\n",
    "    ]\n",
    "\n",
    "    # 并行运行多个子任务\n",
    "    try:\n",
    "        results = await asyncio.gather(*tasks)\n",
    "        print('All tasks completed successfully:', results)\n",
    "    except asyncio.CancelledError:\n",
    "        print('Main task was cancelled')\n",
    "\n",
    "# 创建事件循环\n",
    "loop = asyncio.get_event_loop()\n",
    "\n",
    "# 创建主任务\n",
    "main_task = loop.create_task(main())\n",
    "\n",
    "# 运行事件循环\n",
    "try:\n",
    "    loop.run_until_complete(main_task)\n",
    "except KeyboardInterrupt:\n",
    "    # 如果按下 Ctrl+C，取消主任务\n",
    "    main_task.cancel()\n",
    "    loop.run_until_complete(main_task)\n",
    "finally:\n",
    "    loop.close()\n",
    "EOF"
   ]
  },
  {
   "cell_type": "code",
   "execution_count": null,
   "id": "0670f3ce-de1b-41d8-8fd8-128ed9be0d0f",
   "metadata": {},
   "outputs": [],
   "source": [
    "%%bash\n",
    "python3 << EOF\n",
    "import asyncio\n",
    "\n",
    "asyncio.get_event_loop().run_until_complete(asyncio.sleep(0))\n",
    "EOF"
   ]
  },
  {
   "cell_type": "code",
   "execution_count": null,
   "id": "6d378fd2-708c-4939-ac32-c69b8b18a5b8",
   "metadata": {},
   "outputs": [
    {
     "name": "stdout",
     "output_type": "stream",
     "text": [
      "Starting Task 1\n",
      "Starting Task 2\n",
      "Starting Task 3\n"
     ]
    },
    {
     "data": {
      "text/plain": [
       "True"
      ]
     },
     "execution_count": null,
     "metadata": {},
     "output_type": "execute_result"
    },
    {
     "name": "stdout",
     "output_type": "stream",
     "text": [
      "Task 1 was cancelled\n",
      "Task 2 was cancelled\n",
      "Task 3 was cancelled\n",
      "Main task was cancelled: \n",
      "True\n",
      "()\n",
      "True\n",
      "True\n"
     ]
    }
   ],
   "source": [
    "import asyncio\n",
    "\n",
    "async def child_task(name):\n",
    "    try:\n",
    "        print(f'Starting {name}')\n",
    "        await asyncio.sleep(3600)  # 模拟耗时操作\n",
    "        print(f'Finished {name}')\n",
    "        return name\n",
    "    except asyncio.CancelledError:\n",
    "        print(f'{name} was cancelled')\n",
    "        raise asyncio.CancelledError('child_task(name)')\n",
    "\n",
    "async def main():\n",
    "    # 定义多个子任务\n",
    "    tasks = [\n",
    "        asyncio.create_task(child_task('Task 1')),\n",
    "        asyncio.create_task(child_task('Task 2')),\n",
    "        asyncio.create_task(child_task('Task 3'))\n",
    "    ]\n",
    "\n",
    "    # 并行运行多个子任务\n",
    "    try:\n",
    "        results = await asyncio.gather(*tasks, return_exceptions=True)\n",
    "        print('All tasks completed successfully:', results)\n",
    "    except asyncio.CancelledError as e:\n",
    "        print(f'Main task was cancelled: {str(e)}')\n",
    "        print(tasks[0].cancelled())\n",
    "        try:\n",
    "            print(tasks[0].result())\n",
    "        except asyncio.CancelledError as e:\n",
    "            print(str(e.args))\n",
    "        if not tasks[0].cancelled():\n",
    "            print(tasks[0].result())\n",
    "        print(tasks[1].cancelled())\n",
    "        if not tasks[1].cancelled():\n",
    "            print(tasks[1].result())\n",
    "        print(tasks[2].cancelled())\n",
    "        if not tasks[2].cancelled():\n",
    "            print(tasks[2].result())\n",
    "        raise\n",
    "    # print(results)\n",
    "\n",
    "# 创建主任务\n",
    "main_task = asyncio.create_task(main())\n",
    "\n",
    "await asyncio.sleep(2)\n",
    "main_task.cancel()\n",
    "# await main_task"
   ]
  },
  {
   "cell_type": "code",
   "execution_count": null,
   "id": "2d805ec8",
   "metadata": {},
   "outputs": [
    {
     "name": "stdout",
     "output_type": "stream",
     "text": [
      "Executing Task 7\n",
      "Executing Task 5\n",
      "Executing Task 6\n",
      "Executing Task 1\n",
      "Executing Task 2\n",
      "Executing Task 3\n",
      "Executing Task 4\n",
      "Task 1 done\n",
      "Task 2 done\n",
      "Task 3 done\n",
      "Task 4 done\n",
      "Task 5 done\n",
      "Task 6 done\n",
      "Task 7 done\n",
      "Elapsed Time: 3.0068564414978027 seconds\n"
     ]
    }
   ],
   "source": [
    "import asyncio, time\n",
    "\n",
    "async def task_1():\n",
    "    print('Executing Task 1')\n",
    "    await asyncio.sleep(1)\n",
    "    print('Task 1 done')\n",
    "\n",
    "async def task_2():\n",
    "    print('Executing Task 2')\n",
    "    await asyncio.sleep(1)\n",
    "    print('Task 2 done')\n",
    "\n",
    "async def task_5():\n",
    "    print('Executing Task 5')\n",
    "    await asyncio.gather(task_1(), task_2())\n",
    "    await asyncio.sleep(1)\n",
    "    print('Task 5 done')\n",
    "\n",
    "async def task_3():\n",
    "    print('Executing Task 3')\n",
    "    await asyncio.sleep(1)\n",
    "    print('Task 3 done')\n",
    "\n",
    "async def task_4():\n",
    "    print('Executing Task 4')\n",
    "    await asyncio.sleep(1)\n",
    "    print('Task 4 done')\n",
    "\n",
    "async def task_6():\n",
    "    print('Executing Task 6')\n",
    "    await asyncio.gather(task_3(), task_4())\n",
    "    await asyncio.sleep(1)\n",
    "    print('Task 6 done')\n",
    "\n",
    "async def task_7():\n",
    "    print('Executing Task 7')\n",
    "    # 并行执行 Task 5、Task 6\n",
    "    await asyncio.gather(task_5(), task_6())\n",
    "    await asyncio.sleep(1)\n",
    "    print('Task 7 done')\n",
    "\n",
    "start_time = time.time()\n",
    "await task_7()\n",
    "end_time = time.time()\n",
    "\n",
    "print('Elapsed Time:', end_time - start_time, 'seconds')"
   ]
  },
  {
   "cell_type": "code",
   "execution_count": null,
   "id": "5a0a9989-cc7b-4b22-8d7f-5823136e61b4",
   "metadata": {},
   "outputs": [
    {
     "name": "stdout",
     "output_type": "stream",
     "text": [
      "cancel_me(): before sleep\n",
      "cancel_me(): after sleep\n",
      "False\n",
      "cancle_me(): return\n",
      "cancel_me_again(): before sleep\n",
      "cancel_me_again(): cancel sleep\n",
      "cancel_me_again(): after sleep\n",
      "False\n",
      "cancel_me_again(): return\n",
      "cancel_me_again(): before sleep\n",
      "cancel_me_again(): cancel sleep\n",
      "cancel_me_again(): after sleep\n",
      "False\n",
      "cancel_me_again(): return\n",
      "main(): cancel_me_again is cancelled now\n",
      "True\n"
     ]
    }
   ],
   "source": [
    "import asyncio\n",
    "\n",
    "async def cancel_me():\n",
    "    print('cancel_me(): before sleep')\n",
    "\n",
    "    try:\n",
    "        return 'cancle_me(): return'\n",
    "        # Wait for 1 hour\n",
    "        await asyncio.sleep(3600)\n",
    "    except asyncio.CancelledError:\n",
    "        print('cancel_me(): cancel sleep')\n",
    "        raise\n",
    "    finally:\n",
    "        print('cancel_me(): after sleep')\n",
    "        return 'cancle_me(): return'\n",
    "\n",
    "async def cancel_me_again():\n",
    "    print('cancel_me_again(): before sleep')\n",
    "\n",
    "    try:\n",
    "        # Wait for 1 hour\n",
    "        await asyncio.sleep(3600)\n",
    "    except asyncio.CancelledError:\n",
    "        print('cancel_me_again(): cancel sleep')\n",
    "        raise\n",
    "    finally:\n",
    "        print('cancel_me_again(): after sleep')\n",
    "        return 'cancel_me_again(): return'\n",
    "\n",
    "async def main():\n",
    "    # Create a \"cancel_me\" Task\n",
    "    task = asyncio.create_task(cancel_me())\n",
    "\n",
    "    # Wait for 1 second\n",
    "    await asyncio.sleep(1)\n",
    "\n",
    "    task.cancel()\n",
    "    try:\n",
    "        await task\n",
    "    except asyncio.CancelledError:\n",
    "        print(\"main(): cancel_me is cancelled now\")\n",
    "\n",
    "    print(task.cancelled())\n",
    "    if not task.cancelled():\n",
    "        print(task.result())\n",
    "\n",
    "\n",
    "    # Create a \"cancel_me_again\" Task\n",
    "    task = asyncio.create_task(cancel_me_again())\n",
    "\n",
    "    # Wait for 1 second\n",
    "    await asyncio.sleep(1)\n",
    "\n",
    "    task.cancel()\n",
    "    try:\n",
    "        await task\n",
    "    except asyncio.CancelledError:\n",
    "        print(\"main(): cancel_me_again is cancelled now\")\n",
    "\n",
    "    print(task.cancelled())\n",
    "    if not task.cancelled():\n",
    "        print(task.result())\n",
    "\n",
    "\n",
    "    # Create a \"cancel_me_again\" Task\n",
    "    task = asyncio.create_task(cancel_me_again())\n",
    "\n",
    "    async def cancel(task):\n",
    "        task.cancel()\n",
    "\n",
    "    asyncio.create_task(cancel(task))\n",
    "    await asyncio.sleep(1)\n",
    "    try:\n",
    "        await task\n",
    "    except asyncio.CancelledError:\n",
    "        print(\"main(): cancel_me_again is cancelled now\")\n",
    "\n",
    "    print(task.cancelled())\n",
    "    if not task.cancelled():\n",
    "        print(task.result())\n",
    "\n",
    "\n",
    "    # Create a \"cancel_me_again\" Task\n",
    "    task = asyncio.create_task(cancel_me_again())\n",
    "\n",
    "    # Wait for 1 second\n",
    "    # await asyncio.sleep(1)\n",
    "\n",
    "    task.cancel()\n",
    "    try:\n",
    "        await task\n",
    "    except asyncio.CancelledError:\n",
    "        print(\"main(): cancel_me_again is cancelled now\")\n",
    "\n",
    "    print(task.cancelled())\n",
    "    if not task.cancelled():\n",
    "        print(task.result())\n",
    "\n",
    "await main()"
   ]
  },
  {
   "cell_type": "code",
   "execution_count": null,
   "id": "fc30d2cf-f164-4f3e-be39-f2298d9f32e1",
   "metadata": {},
   "outputs": [],
   "source": [
    "def raise_base_exception():\n",
    "    message = \"This is a BaseException with a message\"\n",
    "    raise BaseException(message)\n",
    "\n",
    "try:\n",
    "    raise_base_exception()\n",
    "except BaseException as e:\n",
    "    print(f\"Caught a BaseException: {e}\")\n",
    "    print(f\"Error message: {str(e)}\")"
   ]
  },
  {
   "cell_type": "code",
   "execution_count": null,
   "id": "d9bba695-3504-42e7-abfe-3911d0c6c27b",
   "metadata": {},
   "outputs": [],
   "source": [
    "import asyncio\n",
    "\n",
    "def raise_base_exception():\n",
    "    message = \"This is a CancelledError with a message\"\n",
    "    raise asyncio.CancelledError(message)\n",
    "\n",
    "try:\n",
    "    raise_base_exception()\n",
    "except BaseException as e:\n",
    "    print(f\"Caught a CancelledError: {e}\")\n",
    "    print(f\"Error message: {str(e)}\")"
   ]
  },
  {
   "cell_type": "code",
   "execution_count": null,
   "id": "167112e2-5895-4742-b9fe-c404a1eec332",
   "metadata": {},
   "outputs": [],
   "source": [
    "issubclass(Exception, BaseException)"
   ]
  },
  {
   "cell_type": "code",
   "execution_count": null,
   "id": "a40269f6-2248-4dd7-bda0-f0daa780f605",
   "metadata": {},
   "outputs": [
    {
     "name": "stdout",
     "output_type": "stream",
     "text": [
      "Object from weak reference: <__main__.MyClass object at 0x7f7b3c60ba30>\n",
      "Object from weak reference after deletion: <__main__.MyClass object at 0x7f7b3c60ba30>\n"
     ]
    }
   ],
   "source": [
    "import weakref\n",
    "\n",
    "class MyClass:\n",
    "    def __init__(self, value):\n",
    "        self.value = value\n",
    "\n",
    "# 创建对象\n",
    "obj = MyClass(42)\n",
    "\n",
    "# 创建弱引用\n",
    "weak_ref = weakref.ref(obj)\n",
    "\n",
    "# 获取弱引用指向的对象\n",
    "result = weak_ref()\n",
    "print(\"Object from weak reference:\", result)\n",
    "\n",
    "# 删除原始对象引用\n",
    "del obj\n",
    "\n",
    "# 尝试再次获取弱引用指向的对象\n",
    "result_after_deletion = weak_ref()\n",
    "print(\"Object from weak reference after deletion:\", result_after_deletion)"
   ]
  },
  {
   "cell_type": "code",
   "execution_count": null,
   "id": "af28927b-4466-44fe-b30d-8c44d383cc42",
   "metadata": {},
   "outputs": [
    {
     "name": "stdout",
     "output_type": "stream",
     "text": [
      "Object from weak reference after deletion: <__main__.MyClass object at 0x7f7b3c60ba30>\n"
     ]
    }
   ],
   "source": [
    "# 尝试再次获取弱引用指向的对象\n",
    "result_after_deletion = weak_ref()\n",
    "print(\"Object from weak reference after deletion:\", result_after_deletion)"
   ]
  },
  {
   "cell_type": "code",
   "execution_count": null,
   "id": "faf54597-eda4-498e-81cf-daf66cf44d61",
   "metadata": {},
   "outputs": [
    {
     "name": "stdout",
     "output_type": "stream",
     "text": [
      "cancel_me(): before sleep\n",
      "main(): cancel_me is cancelled now. e= ()\n",
      "False\n",
      "False\n",
      "e=Result is not set. ('Result is not set.',)\n",
      "cancel_me(): cancel sleep\n",
      "cancel_me(): after sleep\n"
     ]
    }
   ],
   "source": [
    "import asyncio\n",
    "\n",
    "class CancelledTask(asyncio.CancelledError):\n",
    "    pass\n",
    "\n",
    "async def cancel_me():\n",
    "    print('cancel_me(): before sleep')\n",
    "\n",
    "    try:\n",
    "        # Wait for 1 hour\n",
    "        await asyncio.sleep(3600)\n",
    "    except asyncio.CancelledError:\n",
    "        print('cancel_me(): cancel sleep')\n",
    "        # raise BaseException('cancel_me()')\n",
    "        # raise asyncio.CancelledError('cancel_me()')\n",
    "        raise CancelledTask('cancel_me()')\n",
    "    finally:\n",
    "        print('cancel_me(): after sleep')\n",
    "        # return 'cancle_me(): return'\n",
    "\n",
    "async def main():\n",
    "    # Create a \"cancel_me\" Task\n",
    "    task = asyncio.create_task(cancel_me())\n",
    "\n",
    "    # Wait for 1 second\n",
    "    await asyncio.sleep(1)\n",
    "\n",
    "    # Wait for 2 second\n",
    "    # await asyncio.sleep(2)\n",
    "\n",
    "    try:\n",
    "        await asyncio.shield(task)\n",
    "        print(\"main(): cancel_me is cancelled\")\n",
    "        print(task.cancelled())\n",
    "        if not task.cancelled():\n",
    "            print(task.result())\n",
    "    # except BaseException as e:\n",
    "    except asyncio.CancelledError as e:\n",
    "    # except CancelledTask as e:\n",
    "        print(f'main(): cancel_me is cancelled now. e={str(e)} {e.args}')\n",
    "        task.cancel()\n",
    "        print(task.done())\n",
    "        print(task.cancelled())\n",
    "        if task.done() and not task.cancelled():\n",
    "            print(task.result())\n",
    "        try:\n",
    "            print(task.result())\n",
    "        except BaseException as e:\n",
    "        # except asyncio.CancelledError as e:\n",
    "        # except CancelledTask as e:\n",
    "            print(f'e={str(e)} {e.args}')\n",
    "\n",
    "main_task = asyncio.create_task(main())\n",
    "# Wait for 2 second\n",
    "await asyncio.sleep(2)\n",
    "# main_task.cancelling()\n",
    "main_task.cancel()\n",
    "await main_task\n",
    "# main_task.cancelling()"
   ]
  },
  {
   "cell_type": "code",
   "execution_count": null,
   "id": "c9f5e85c-ab6a-415e-ba4c-dfcab56047c5",
   "metadata": {},
   "outputs": [
    {
     "name": "stdout",
     "output_type": "stream",
     "text": [
      "main(): before await\n",
      "task_2()\n",
      "main(): after await\n",
      "True\n",
      "<class 'coroutine'>\n",
      "<class 'coroutine'>\n",
      "False\n",
      "main(): before await\n",
      "task_2()\n",
      "main(): after await\n",
      "main(): before await\n",
      "task_2()\n",
      "main(): after await\n",
      "task_1()\n",
      "task_1()\n",
      "task_1()\n"
     ]
    }
   ],
   "source": [
    "import asyncio\n",
    "\n",
    "async def task_1():\n",
    "    print('task_1()')\n",
    "\n",
    "async def task_2():\n",
    "    print('task_2()')\n",
    "\n",
    "async def main():\n",
    "    # Create a \"task_1\" Task\n",
    "    asyncio.create_task(task_1())\n",
    "\n",
    "    print('main(): before await')\n",
    "    await task_2()\n",
    "    print('main(): after await')\n",
    "\n",
    "await main()\n",
    "print(main == main)\n",
    "main_1 = main()\n",
    "main_2 = main()\n",
    "print(type(main_1))\n",
    "print(type(main_2))\n",
    "print(main_1 == main_2)\n",
    "await main_1\n",
    "await main_2\n",
    "# await main_1\n",
    "# await asyncio.create_task(main_2)"
   ]
  },
  {
   "cell_type": "code",
   "execution_count": null,
   "id": "deb1d5e2-120e-4c49-896f-92b2362dfcaa",
   "metadata": {},
   "outputs": [
    {
     "name": "stdout",
     "output_type": "stream",
     "text": [
      "main(): before await\n",
      "task_1()\n",
      "main(): task_1()\n",
      "main(): after await\n",
      "main(): before await\n",
      "task_2()\n",
      "main(): after await\n",
      "main(): before await\n",
      "main(): task_1()\n",
      "main(): after await\n"
     ]
    }
   ],
   "source": [
    "import asyncio\n",
    "\n",
    "async def task_1():\n",
    "    print('task_1()')\n",
    "    return 'task_1()'\n",
    "\n",
    "async def task_2():\n",
    "    print('task_2()')\n",
    "\n",
    "async def main():\n",
    "    # Create a \"task_1\" Task\n",
    "    task = asyncio.create_task(task_1())\n",
    "\n",
    "    print('main(): before await')\n",
    "    print(f'main(): {await task}')\n",
    "    print('main(): after await')\n",
    "\n",
    "    print('main(): before await')\n",
    "    await task_2()\n",
    "    print('main(): after await')\n",
    "\n",
    "    print('main(): before await')\n",
    "    print(f'main(): {await task}')\n",
    "    print('main(): after await')\n",
    "\n",
    "await main()"
   ]
  },
  {
   "cell_type": "code",
   "execution_count": null,
   "id": "5450281f-09c0-434b-b3ae-c66159086f0e",
   "metadata": {},
   "outputs": [
    {
     "name": "stdout",
     "output_type": "stream",
     "text": [
      "main(): before await\n",
      "task_1()\n",
      "task_2()\n",
      "e=\"\" e.args=()\n",
      "main(): after await\n"
     ]
    }
   ],
   "source": [
    "import asyncio\n",
    "\n",
    "async def task_1():\n",
    "    print('task_1()')\n",
    "    raise Exception\n",
    "\n",
    "async def task_2():\n",
    "    print('task_2()')\n",
    "\n",
    "async def main():\n",
    "    print('main(): before await')\n",
    "    try:\n",
    "        print(f'main(): {await asyncio.gather(task_1(), task_2())}')\n",
    "    except Exception as e:\n",
    "        print(f'e=\"{e}\" e.args={e.args}')\n",
    "    print('main(): after await')\n",
    "\n",
    "await main()"
   ]
  },
  {
   "cell_type": "code",
   "execution_count": null,
   "id": "ce4d64b9-2055-4704-a70c-24d058014390",
   "metadata": {},
   "outputs": [
    {
     "name": "stdout",
     "output_type": "stream",
     "text": [
      "main(): before await\n",
      "e=\"module 'asyncio' has no attribute 'TaskGroup'\" e.args=(\"module 'asyncio' has no attribute 'TaskGroup'\",)\n",
      "main(): after await\n"
     ]
    }
   ],
   "source": [
    "import asyncio\n",
    "\n",
    "async def task_1():\n",
    "    print('task_1()')\n",
    "    raise Exception\n",
    "\n",
    "async def task_2():\n",
    "    print('task_2()')\n",
    "\n",
    "async def main():\n",
    "    print('main(): before await')\n",
    "    try:\n",
    "        async with asyncio.TaskGroup() as g:\n",
    "            t_1 = g.create_task(task_1())\n",
    "            t_2 = g.create_task(task_2())\n",
    "        print(f'main(): t_1 = {t_1.result()} t_2 = {t_2.result()}')\n",
    "    except Exception as e:\n",
    "        print(f'e=\"{e}\" e.args={e.args}')\n",
    "    print('main(): after await')\n",
    "\n",
    "await main()"
   ]
  },
  {
   "cell_type": "code",
   "execution_count": null,
   "id": "5d03e9b3-a176-42e6-bc66-33e1f270f944",
   "metadata": {},
   "outputs": [
    {
     "name": "stdout",
     "output_type": "stream",
     "text": [
      "cancel_me(): before sleep\n",
      "cancel_me(): cancel sleep\n",
      "cancel_me(): after sleep\n",
      "main(): cancel_me is cancelled now\n",
      "True\n"
     ]
    }
   ],
   "source": [
    "import asyncio\n",
    "\n",
    "async def cancel_me():\n",
    "    print('cancel_me(): before sleep')\n",
    "\n",
    "    try:\n",
    "        # Wait for 1 hour\n",
    "        await asyncio.sleep(3600)\n",
    "    except asyncio.CancelledError:\n",
    "        print('cancel_me(): cancel sleep')\n",
    "        raise\n",
    "    finally:\n",
    "        print('cancel_me(): after sleep')\n",
    "\n",
    "async def main():\n",
    "    # Create a \"cancel_me\" Task\n",
    "    task = asyncio.create_task(cancel_me())\n",
    "\n",
    "    async def cancel(task):\n",
    "        task.cancel()\n",
    "\n",
    "    asyncio.create_task(cancel(task))\n",
    "    await asyncio.sleep(1)\n",
    "    try:\n",
    "        await task\n",
    "    except asyncio.CancelledError:\n",
    "        print(\"main(): cancel_me is cancelled now\")\n",
    "\n",
    "    print(task.cancelled())\n",
    "    if not task.cancelled():\n",
    "        print(task.result())\n",
    "\n",
    "await main()"
   ]
  },
  {
   "cell_type": "code",
   "execution_count": null,
   "id": "b51b1841-903c-4fba-aea4-a12cd4df5b7a",
   "metadata": {},
   "outputs": [
    {
     "name": "stdout",
     "output_type": "stream",
     "text": [
      "cancel_me(): before sleep\n",
      "cancel_me(): after sleep\n",
      "task_2(): task_2 is cancelled now\n"
     ]
    },
    {
     "data": {
      "text/plain": [
       "[None, None]"
      ]
     },
     "execution_count": null,
     "metadata": {},
     "output_type": "execute_result"
    }
   ],
   "source": [
    "import asyncio\n",
    "\n",
    "async def cancel_me():\n",
    "    print('cancel_me(): before sleep')\n",
    "\n",
    "    try:\n",
    "        # Wait for 1 second\n",
    "        await asyncio.sleep(1)\n",
    "    except asyncio.CancelledError:\n",
    "        print('cancel_me(): cancel sleep')\n",
    "        raise\n",
    "    finally:\n",
    "        print('cancel_me(): after sleep')\n",
    "\n",
    "# Create a \"cancel_me\" Task\n",
    "task_cancel_me = asyncio.create_task(cancel_me())\n",
    "\n",
    "async def task_1():\n",
    "    try:\n",
    "        await task_cancel_me\n",
    "    except asyncio.CancelledError:\n",
    "        print('task_1(): task_1 is cancelled now')\n",
    "\n",
    "    for task in asyncio.all_tasks():\n",
    "        if task.get_name() == 'task_2' and 'task_2' in repr(task.get_coro()):\n",
    "            task.cancel()\n",
    "\n",
    "async def task_2():\n",
    "    try:\n",
    "        await task_cancel_me\n",
    "    except asyncio.CancelledError:\n",
    "        print('task_2(): task_2 is cancelled now')\n",
    "\n",
    "    for task in asyncio.all_tasks():\n",
    "        if task.get_name() == 'task_1' and 'task_1' in repr(task.get_coro()):\n",
    "            task.cancel()\n",
    "\n",
    "await asyncio.gather(\n",
    "    asyncio.create_task(task_1(), name='task_1'),\n",
    "    asyncio.create_task(task_2(), name='task_2'),\n",
    ")"
   ]
  },
  {
   "cell_type": "code",
   "execution_count": null,
   "id": "855f8bd7-3b3e-43d1-9512-7861331ba164",
   "metadata": {},
   "outputs": [
    {
     "name": "stdout",
     "output_type": "stream",
     "text": [
      "cancel_me(): before sleep\n",
      "cancel_me(): cancel sleep\n",
      "cancel_me(): after sleep\n",
      "task_1(): task_1 is cancelled now\n",
      "task_2(): task_2 is cancelled now\n"
     ]
    }
   ],
   "source": [
    "import asyncio\n",
    "\n",
    "async def cancel_me():\n",
    "    print('cancel_me(): before sleep')\n",
    "\n",
    "    try:\n",
    "        # Wait for 5 second\n",
    "        await asyncio.sleep(5)\n",
    "    except asyncio.CancelledError:\n",
    "        print('cancel_me(): cancel sleep')\n",
    "        raise\n",
    "    finally:\n",
    "        print('cancel_me(): after sleep')\n",
    "\n",
    "# Create a \"cancel_me\" Task\n",
    "task_cancel_me = asyncio.create_task(cancel_me())\n",
    "\n",
    "async def task_1():\n",
    "    try:\n",
    "        await task_cancel_me\n",
    "    except asyncio.CancelledError:\n",
    "        print('task_1(): task_1 is cancelled now')\n",
    "\n",
    "async def task_2():\n",
    "    try:\n",
    "        await task_cancel_me\n",
    "    except asyncio.CancelledError:\n",
    "        print('task_2(): task_2 is cancelled now')\n",
    "\n",
    "task_a = asyncio.create_task(task_1(), name='task_1')\n",
    "task_b = asyncio.create_task(task_2(), name='task_2')\n",
    "\n",
    "await asyncio.sleep(1)\n",
    "task_a.cancel()\n",
    "\n",
    "await task_b"
   ]
  },
  {
   "cell_type": "code",
   "execution_count": null,
   "id": "35104557-ecf6-42ef-8cdf-214e72e9a28f",
   "metadata": {},
   "outputs": [],
   "source": [
    "%%bash\n",
    "pip install aiomonitor"
   ]
  },
  {
   "cell_type": "markdown",
   "id": "0d2bbf94-9e38-4194-ba77-c3fdec2c15b0",
   "metadata": {},
   "source": [
    "https://github.com/aio-libs/aiomonitor/blob/main/docs/tutorial.rst"
   ]
  },
  {
   "cell_type": "code",
   "execution_count": null,
   "id": "f18b74f4",
   "metadata": {},
   "outputs": [
    {
     "name": "stdout",
     "output_type": "stream",
     "text": [
      "Task 1 started\n",
      "Task 2 started\n",
      "Task 1 finished\n",
      "Task 2 finished\n"
     ]
    }
   ],
   "source": [
    "import asyncio\n",
    "import aiomonitor\n",
    "\n",
    "async def task1():\n",
    "    print(\"Task 1 started\")\n",
    "    await asyncio.sleep(1)\n",
    "    print(\"Task 1 finished\")\n",
    "\n",
    "async def task2():\n",
    "    print(\"Task 2 started\")\n",
    "    await asyncio.sleep(2)\n",
    "    print(\"Task 2 finished\")\n",
    "\n",
    "async def main():\n",
    "    with aiomonitor.start_monitor(asyncio.get_event_loop(), hook_task_factory=True):\n",
    "        await asyncio.gather(task1(), task2())\n",
    "        await asyncio.sleep(3600)\n",
    "\n",
    "# help(aiomonitor)\n",
    "await main()"
   ]
  },
  {
   "cell_type": "code",
   "execution_count": null,
   "id": "4f8e467e-6f72-436a-831c-083e9624ede0",
   "metadata": {},
   "outputs": [],
   "source": [
    "%%bash\n",
    "pip install matplotlib"
   ]
  },
  {
   "cell_type": "code",
   "execution_count": null,
   "id": "544d25ca",
   "metadata": {},
   "outputs": [],
   "source": [
    "import asyncio\n",
    "import networkx as nx\n",
    "import matplotlib.pyplot as plt\n",
    "\n",
    "async def task1():\n",
    "    await asyncio.sleep(1)\n",
    "\n",
    "async def task2():\n",
    "    await asyncio.sleep(1)\n",
    "\n",
    "async def task3():\n",
    "    await asyncio.sleep(1)\n",
    "\n",
    "async def main():\n",
    "    await asyncio.gather(task1(), task2())\n",
    "    await task3()\n",
    "\n",
    "# 创建 DAG\n",
    "G = nx.DiGraph()\n",
    "G.add_nodes_from([\"task1\", \"task2\", \"task3\", 'main'])\n",
    "G.add_edges_from([(\"task1\", \"main\"), (\"task2\", \"main\"), (\"main\", \"task3\")])\n",
    "\n",
    "# 绘制 DAG\n",
    "pos = nx.spring_layout(G)\n",
    "nx.draw_networkx_nodes(G, pos, node_color=['yellow', 'skyblue', 'red', 'orange'])\n",
    "# nx.draw_networkx_nodes(G, pos, node_size=1200, node_color=['yellow', 'green', 'red', 'orange'])\n",
    "nx.draw_networkx_edges(G, pos)\n",
    "nx.draw_networkx_labels(G, pos, font_size=5)\n",
    "plt.show()"
   ]
  },
  {
   "cell_type": "code",
   "execution_count": null,
   "id": "a3e551a5-8840-4754-b582-ae1bd815a0bd",
   "metadata": {},
   "outputs": [],
   "source": [
    "%%bash\n",
    "sudo apt-get install graphviz libgraphviz-dev\n",
    "pip install pygraphviz"
   ]
  },
  {
   "cell_type": "code",
   "execution_count": null,
   "id": "874987d5-28a7-4596-8c46-c71d34a030f7",
   "metadata": {},
   "outputs": [],
   "source": [
    "import networkx as nx\n",
    "import matplotlib.pyplot as plt\n",
    "\n",
    "# 创建 DAG\n",
    "G = nx.DiGraph()\n",
    "G.add_nodes_from([\"task1\", \"task2\", \"task3\"])\n",
    "G.add_edges_from([(\"task1\", \"main\"), (\"task2\", \"main\"), (\"main\", \"task3\")])\n",
    "\n",
    "pos = nx.nx_agraph.pygraphviz_layout(G)\n",
    "nx.draw_networkx_nodes(G, pos)\n",
    "nx.draw_networkx_edges(G, pos)\n",
    "nx.draw_networkx_labels(G, pos)\n",
    "plt.show()"
   ]
  },
  {
   "cell_type": "code",
   "execution_count": null,
   "id": "66b5a5e3-7e6a-4fb2-9eb2-14d94946c3dc",
   "metadata": {},
   "outputs": [],
   "source": [
    "%%bash\n",
    "pip install pydot"
   ]
  },
  {
   "cell_type": "code",
   "execution_count": null,
   "id": "5f01e974-8818-47d8-8a55-d2109e6ce6a8",
   "metadata": {},
   "outputs": [],
   "source": [
    "import networkx as nx\n",
    "import matplotlib.pyplot as plt\n",
    "\n",
    "# 创建 DAG\n",
    "G = nx.DiGraph()\n",
    "G.add_nodes_from([\"task1\", \"task2\", \"task3\"])\n",
    "G.add_edges_from([(\"task1\", \"main\"), (\"task2\", \"main\"), (\"main\", \"task3\")])\n",
    "\n",
    "pos = nx.nx_pydot.pydot_layout(G)\n",
    "nx.draw_networkx_nodes(G, pos)\n",
    "nx.draw_networkx_edges(G, pos)\n",
    "nx.draw_networkx_labels(G, pos)\n",
    "plt.show()"
   ]
  },
  {
   "cell_type": "code",
   "execution_count": null,
   "id": "0a38fde5-36b8-425d-94bc-fd5367ca1865",
   "metadata": {},
   "outputs": [],
   "source": [
    "import networkx as nx\n",
    "import matplotlib.pyplot as plt\n",
    "\n",
    "# 创建 DAG\n",
    "G = nx.DiGraph()\n",
    "G.add_nodes_from([\"task1\", \"task2\", \"task3\"])\n",
    "G.add_edges_from([(\"task1\", \"main\"), (\"task2\", \"main\"), (\"main\", \"task3\")])\n",
    "\n",
    "drawing = nx.drawing.nx_pydot.to_pydot(G)\n",
    "\n",
    "png_str = drawing.create_png()\n",
    "\n",
    "from io import BytesIO\n",
    "\n",
    "sio = BytesIO()\n",
    "sio.write(png_str)\n",
    "sio.seek(0)\n",
    "\n",
    "import matplotlib.image as mpimg\n",
    "\n",
    "img = mpimg.imread(sio)\n",
    "plt.imshow(img)\n",
    "\n",
    "plt.show()"
   ]
  },
  {
   "cell_type": "code",
   "execution_count": null,
   "id": "e5a3e270-99db-47d4-ad45-b9a6b0fce07a",
   "metadata": {},
   "outputs": [],
   "source": [
    "import networkx as nx\n",
    "import matplotlib.pyplot as plt\n",
    "\n",
    "# 创建有向图\n",
    "G = nx.DiGraph()\n",
    "\n",
    "# 添加节点\n",
    "nodes = [\"starting\", \"get_agv_at_f1\", \"get_ev\", \"get_agv_at_f2\", \"ship_to_agv\",\n",
    "         \"ship_to_agv_and_move\", \"meet_floor\", \"ship_to_ev\", \"ship_to_ev_and_move\",\n",
    "         \"meet_ev\", \"ship_to_agv_via_ev\", \"ship_to_shelf\"]\n",
    "G.add_nodes_from(nodes)\n",
    "\n",
    "# 添加边\n",
    "edges = [(\"starting\", \"get_agv_at_f1\"), (\"starting\", \"get_ev\"), (\"starting\", \"get_agv_at_f2\"),\n",
    "         (\"get_agv_at_f1\", \"ship_to_agv\"), (\"ship_to_agv\", \"ship_to_agv_and_move\"), (\"get_ev\", \"ship_to_agv_and_move\"),\n",
    "         (\"get_ev\", \"meet_floor\"), (\"ship_to_agv_and_move\", \"ship_to_ev\"), (\"meet_floor\", \"ship_to_ev\"),\n",
    "         (\"ship_to_ev\", \"ship_to_ev_and_move\"), (\"get_ev\", \"meet_ev\"), (\"get_agv_at_f2\", \"meet_ev\"),\n",
    "         (\"ship_to_ev_and_move\", \"ship_to_agv_via_ev\"), (\"meet_ev\", \"ship_to_agv_via_ev\"),\n",
    "         (\"ship_to_agv_via_ev\", \"ship_to_shelf\")]\n",
    "G.add_edges_from(edges)\n",
    "\n",
    "# 绘制图形\n",
    "pos = nx.spring_layout(G, seed=42)\n",
    "nx.draw(G, pos, with_labels=True, node_size=2000, node_color=\"skyblue\", font_size=10, font_color=\"black\", font_weight=\"bold\", arrowsize=20)\n",
    "plt.show()"
   ]
  },
  {
   "cell_type": "code",
   "execution_count": null,
   "id": "fdd1c900",
   "metadata": {},
   "outputs": [
    {
     "name": "stderr",
     "output_type": "stream",
     "text": [
      "INFO:root:This is an info message from example_function.\n",
      "2024-04-05 08:07:44,793 - root - INFO - example_function - This is an info message from example_function.\n",
      "WARNING:root:This is a warning message from another_function.\n",
      "2024-04-05 08:07:44,797 - root - WARNING - another_function - This is a warning message from another_function.\n"
     ]
    }
   ],
   "source": [
    "import logging\n",
    "\n",
    "# 设置日志级别为 DEBUG\n",
    "logging.basicConfig(level=logging.DEBUG)\n",
    "\n",
    "def example_function():\n",
    "    logging.info(\"This is an info message from example_function.\")\n",
    "\n",
    "def another_function():\n",
    "    logging.warning(\"This is a warning message from another_function.\")\n",
    "\n",
    "if __name__ == \"__main__\":\n",
    "    # 设置日志格式，包含函数名\n",
    "    formatter = logging.Formatter('%(asctime)s - %(name)s - %(levelname)s - %(funcName)s - %(message)s')\n",
    "    \n",
    "    # 获取根日志记录器\n",
    "    root_logger = logging.getLogger()\n",
    "    \n",
    "    # 创建处理程序并将格式器添加到它\n",
    "    handler = logging.StreamHandler()\n",
    "    handler.setFormatter(formatter)\n",
    "    \n",
    "    # 将处理程序添加到根记录器\n",
    "    root_logger.addHandler(handler)\n",
    "    \n",
    "    # 调用函数\n",
    "    example_function()\n",
    "    another_function()"
   ]
  },
  {
   "cell_type": "code",
   "execution_count": null,
   "id": "0ed72bbd",
   "metadata": {},
   "outputs": [],
   "source": [
    "import asyncio\n",
    "from aiohttp import web\n",
    "\n",
    "async def handle_request(request):\n",
    "    print(\"Received request:\")\n",
    "    print(request.method, request.path)\n",
    "    print(\"Headers:\")\n",
    "    for header, value in request.headers.items():\n",
    "        print(f\"{header}: {value}\")\n",
    "    print(\"Body:\")\n",
    "    body = await request.text()\n",
    "    print(body)\n",
    "    return web.Response(text=\"Received request\")\n",
    "\n",
    "async def main():\n",
    "    # 创建 HTTP 服务器\n",
    "    app = web.Application()\n",
    "    app.add_routes([web.get('/', handle_request)])\n",
    "\n",
    "    # 启动 HTTP 服务器\n",
    "    runner = web.AppRunner(app)\n",
    "    await runner.setup()\n",
    "    site = web.TCPSite(runner, 'localhost', 8080)\n",
    "    await site.start()\n",
    "\n",
    "    print(\"HTTP server started at http://localhost:8080\")\n",
    "\n",
    "    # 等待一次请求\n",
    "    await asyncio.sleep(3600)  # 等待一小时\n",
    "    await runner.cleanup()  # 关闭服务器\n",
    "\n",
    "if __name__ == \"__main__\":\n",
    "    asyncio.run(main())"
   ]
  },
  {
   "cell_type": "code",
   "execution_count": null,
   "id": "2c173d69",
   "metadata": {},
   "outputs": [],
   "source": [
    "import asyncio\n",
    "from pymodbus.client.asynchronous import AsyncModbusTCPClient\n",
    "\n",
    "async def read_modbus_data(host, port, unit_id, address, count):\n",
    "    async with AsyncModbusTCPClient(host=host, port=port) as client:\n",
    "        result = await client.read_holding_registers(address, count, unit=unit_id)\n",
    "        if result.isError():\n",
    "            print(f\"Failed to read data: {result}\")\n",
    "        else:\n",
    "            print(f\"Read data: {result.registers}\")\n",
    "\n",
    "async def main():\n",
    "    host = '127.0.0.1'\n",
    "    port = 502\n",
    "    unit_id = 1\n",
    "    address = 0\n",
    "    count = 5\n",
    "\n",
    "    await read_modbus_data(host, port, unit_id, address, count)\n",
    "\n",
    "if __name__ == \"__main__\":\n",
    "    asyncio.run(main())"
   ]
  },
  {
   "cell_type": "code",
   "execution_count": null,
   "id": "a16498c0-143e-4dbe-b5b5-adf06fdae9b5",
   "metadata": {},
   "outputs": [],
   "source": [
    "from pymodbus.client.asynchronous import AsyncModbusTCPClient\n",
    "from pymodbus.payload import BinaryPayloadDecoder\n",
    "from pymodbus.constants import Endian\n",
    "\n",
    "async def read_modbus_data():\n",
    "    async with AsyncModbusTCPClient('localhost', port=502) as client:\n",
    "        # 读取保持寄存器中的数据\n",
    "        result = await client.read_holding_registers(0, 2, unit=1)\n",
    "\n",
    "        if not result.isError():\n",
    "            # 处理读取的数据\n",
    "            decoder = BinaryPayloadDecoder.fromRegisters(result.registers, byteorder=Endian.Big)\n",
    "            value1 = decoder.decode_32bit_float()\n",
    "            value2 = decoder.decode_32bit_float()\n",
    "\n",
    "            print(f\"Value 1: {value1}, Value 2: {value2}\")\n",
    "        else:\n",
    "            print(f\"Error reading Modbus data: {result}\")\n",
    "\n",
    "# 在异步环境中运行示例\n",
    "import asyncio\n",
    "asyncio.run(read_modbus_data())"
   ]
  },
  {
   "cell_type": "markdown",
   "id": "efb4d285-3766-4ec6-a790-75f523dc8fa5",
   "metadata": {},
   "source": [
    "---\n",
    "* [Prefect](https://github.com/PrefectHQ/prefect)\n",
    "  * [Prefect Concepts](https://docs.prefect.io/latest/concepts/)\n",
    "* [Luigi](https://github.com/spotify/luigi)"
   ]
  },
  {
   "cell_type": "code",
   "execution_count": null,
   "id": "0717537f-8f5f-4684-9833-8b148a27f1d7",
   "metadata": {},
   "outputs": [],
   "source": [
    "%%bash\n",
    "pip install prefect"
   ]
  },
  {
   "cell_type": "code",
   "execution_count": null,
   "id": "cf2eb011-4d12-442d-b00d-a9918f6f184a",
   "metadata": {},
   "outputs": [
    {
     "data": {
      "text/html": [
       "<pre style=\"white-space:pre;overflow-x:auto;line-height:normal;font-family:Menlo,'DejaVu Sans Mono',consolas,'Courier New',monospace\">17:01:52.435 | <span style=\"color: #008080; text-decoration-color: #008080\">INFO</span>    | prefect.engine - Created flow run<span style=\"color: #800080; text-decoration-color: #800080\"> 'utopian-crayfish'</span> for flow<span style=\"color: #800080; text-decoration-color: #800080; font-weight: bold\"> 'task-7'</span>\n",
       "</pre>\n"
      ],
      "text/plain": [
       "17:01:52.435 | \u001b[36mINFO\u001b[0m    | prefect.engine - Created flow run\u001b[35m 'utopian-crayfish'\u001b[0m for flow\u001b[1;35m 'task-7'\u001b[0m\n"
      ]
     },
     "metadata": {},
     "output_type": "display_data"
    },
    {
     "data": {
      "text/html": [
       "<pre style=\"white-space:pre;overflow-x:auto;line-height:normal;font-family:Menlo,'DejaVu Sans Mono',consolas,'Courier New',monospace\">17:01:52.602 | <span style=\"color: #008080; text-decoration-color: #008080\">INFO</span>    | Flow run<span style=\"color: #800080; text-decoration-color: #800080\"> 'utopian-crayfish'</span> - Created task run 'task_5-0' for task 'task_5'\n",
       "</pre>\n"
      ],
      "text/plain": [
       "17:01:52.602 | \u001b[36mINFO\u001b[0m    | Flow run\u001b[35m 'utopian-crayfish'\u001b[0m - Created task run 'task_5-0' for task 'task_5'\n"
      ]
     },
     "metadata": {},
     "output_type": "display_data"
    },
    {
     "data": {
      "text/html": [
       "<pre style=\"white-space:pre;overflow-x:auto;line-height:normal;font-family:Menlo,'DejaVu Sans Mono',consolas,'Courier New',monospace\">17:01:52.606 | <span style=\"color: #008080; text-decoration-color: #008080\">INFO</span>    | Flow run<span style=\"color: #800080; text-decoration-color: #800080\"> 'utopian-crayfish'</span> - Submitted task run 'task_5-0' for execution.\n",
       "</pre>\n"
      ],
      "text/plain": [
       "17:01:52.606 | \u001b[36mINFO\u001b[0m    | Flow run\u001b[35m 'utopian-crayfish'\u001b[0m - Submitted task run 'task_5-0' for execution.\n"
      ]
     },
     "metadata": {},
     "output_type": "display_data"
    },
    {
     "data": {
      "text/html": [
       "<pre style=\"white-space:pre;overflow-x:auto;line-height:normal;font-family:Menlo,'DejaVu Sans Mono',consolas,'Courier New',monospace\">17:01:52.641 | <span style=\"color: #008080; text-decoration-color: #008080\">INFO</span>    | Flow run<span style=\"color: #800080; text-decoration-color: #800080\"> 'utopian-crayfish'</span> - Created task run 'task_6-0' for task 'task_6'\n",
       "</pre>\n"
      ],
      "text/plain": [
       "17:01:52.641 | \u001b[36mINFO\u001b[0m    | Flow run\u001b[35m 'utopian-crayfish'\u001b[0m - Created task run 'task_6-0' for task 'task_6'\n"
      ]
     },
     "metadata": {},
     "output_type": "display_data"
    },
    {
     "data": {
      "text/html": [
       "<pre style=\"white-space:pre;overflow-x:auto;line-height:normal;font-family:Menlo,'DejaVu Sans Mono',consolas,'Courier New',monospace\">17:01:52.646 | <span style=\"color: #008080; text-decoration-color: #008080\">INFO</span>    | Flow run<span style=\"color: #800080; text-decoration-color: #800080\"> 'utopian-crayfish'</span> - Submitted task run 'task_6-0' for execution.\n",
       "</pre>\n"
      ],
      "text/plain": [
       "17:01:52.646 | \u001b[36mINFO\u001b[0m    | Flow run\u001b[35m 'utopian-crayfish'\u001b[0m - Submitted task run 'task_6-0' for execution.\n"
      ]
     },
     "metadata": {},
     "output_type": "display_data"
    },
    {
     "data": {
      "text/html": [
       "<pre style=\"white-space:pre;overflow-x:auto;line-height:normal;font-family:Menlo,'DejaVu Sans Mono',consolas,'Courier New',monospace\">17:01:52.786 | <span style=\"color: #d70000; text-decoration-color: #d70000\">ERROR</span>   | Task run 'task_5-0' - Encountered exception during execution:\n",
       "Traceback (most recent call last):\n",
       "  File \"/home/jupyter-saintway/.local/lib/python3.9/site-packages/prefect/engine.py\", line 2121, in orchestrate_task_run\n",
       "    result = await call.aresult()\n",
       "  File \"/home/jupyter-saintway/.local/lib/python3.9/site-packages/prefect/_internal/concurrency/calls.py\", line 293, in aresult\n",
       "    return await asyncio.wrap_future(self.future)\n",
       "  File \"/home/jupyter-saintway/.local/lib/python3.9/site-packages/prefect/_internal/concurrency/calls.py\", line 318, in _run_sync\n",
       "    result = self.fn(*self.args, **self.kwargs)\n",
       "  File \"/tmp/ipykernel_1415747/912385617.py\", line 13, in task_5\n",
       "    submit_1 = task_1.submit()\n",
       "  File \"/home/jupyter-saintway/.local/lib/python3.9/site-packages/prefect/tasks.py\", line 789, in submit\n",
       "    return enter_task_run_engine(\n",
       "  File \"/home/jupyter-saintway/.local/lib/python3.9/site-packages/prefect/engine.py\", line 1392, in enter_task_run_engine\n",
       "    raise RuntimeError(\n",
       "RuntimeError: Tasks cannot be run from within tasks. Did you mean to call this task in a flow?\n",
       "</pre>\n"
      ],
      "text/plain": [
       "17:01:52.786 | \u001b[38;5;160mERROR\u001b[0m   | Task run 'task_5-0' - Encountered exception during execution:\n",
       "Traceback (most recent call last):\n",
       "  File \"/home/jupyter-saintway/.local/lib/python3.9/site-packages/prefect/engine.py\", line 2121, in orchestrate_task_run\n",
       "    result = await call.aresult()\n",
       "  File \"/home/jupyter-saintway/.local/lib/python3.9/site-packages/prefect/_internal/concurrency/calls.py\", line 293, in aresult\n",
       "    return await asyncio.wrap_future(self.future)\n",
       "  File \"/home/jupyter-saintway/.local/lib/python3.9/site-packages/prefect/_internal/concurrency/calls.py\", line 318, in _run_sync\n",
       "    result = self.fn(*self.args, **self.kwargs)\n",
       "  File \"/tmp/ipykernel_1415747/912385617.py\", line 13, in task_5\n",
       "    submit_1 = task_1.submit()\n",
       "  File \"/home/jupyter-saintway/.local/lib/python3.9/site-packages/prefect/tasks.py\", line 789, in submit\n",
       "    return enter_task_run_engine(\n",
       "  File \"/home/jupyter-saintway/.local/lib/python3.9/site-packages/prefect/engine.py\", line 1392, in enter_task_run_engine\n",
       "    raise RuntimeError(\n",
       "RuntimeError: Tasks cannot be run from within tasks. Did you mean to call this task in a flow?\n"
      ]
     },
     "metadata": {},
     "output_type": "display_data"
    },
    {
     "data": {
      "text/html": [
       "<pre style=\"white-space:pre;overflow-x:auto;line-height:normal;font-family:Menlo,'DejaVu Sans Mono',consolas,'Courier New',monospace\">17:01:52.851 | <span style=\"color: #d70000; text-decoration-color: #d70000\">ERROR</span>   | Task run 'task_6-0' - Encountered exception during execution:\n",
       "Traceback (most recent call last):\n",
       "  File \"/home/jupyter-saintway/.local/lib/python3.9/site-packages/prefect/engine.py\", line 2121, in orchestrate_task_run\n",
       "    result = await call.aresult()\n",
       "  File \"/home/jupyter-saintway/.local/lib/python3.9/site-packages/prefect/_internal/concurrency/calls.py\", line 293, in aresult\n",
       "    return await asyncio.wrap_future(self.future)\n",
       "  File \"/home/jupyter-saintway/.local/lib/python3.9/site-packages/prefect/_internal/concurrency/calls.py\", line 318, in _run_sync\n",
       "    result = self.fn(*self.args, **self.kwargs)\n",
       "  File \"/tmp/ipykernel_1415747/912385617.py\", line 29, in task_6\n",
       "    submit_3 = task_3.submit()\n",
       "  File \"/home/jupyter-saintway/.local/lib/python3.9/site-packages/prefect/tasks.py\", line 789, in submit\n",
       "    return enter_task_run_engine(\n",
       "  File \"/home/jupyter-saintway/.local/lib/python3.9/site-packages/prefect/engine.py\", line 1392, in enter_task_run_engine\n",
       "    raise RuntimeError(\n",
       "RuntimeError: Tasks cannot be run from within tasks. Did you mean to call this task in a flow?\n",
       "</pre>\n"
      ],
      "text/plain": [
       "17:01:52.851 | \u001b[38;5;160mERROR\u001b[0m   | Task run 'task_6-0' - Encountered exception during execution:\n",
       "Traceback (most recent call last):\n",
       "  File \"/home/jupyter-saintway/.local/lib/python3.9/site-packages/prefect/engine.py\", line 2121, in orchestrate_task_run\n",
       "    result = await call.aresult()\n",
       "  File \"/home/jupyter-saintway/.local/lib/python3.9/site-packages/prefect/_internal/concurrency/calls.py\", line 293, in aresult\n",
       "    return await asyncio.wrap_future(self.future)\n",
       "  File \"/home/jupyter-saintway/.local/lib/python3.9/site-packages/prefect/_internal/concurrency/calls.py\", line 318, in _run_sync\n",
       "    result = self.fn(*self.args, **self.kwargs)\n",
       "  File \"/tmp/ipykernel_1415747/912385617.py\", line 29, in task_6\n",
       "    submit_3 = task_3.submit()\n",
       "  File \"/home/jupyter-saintway/.local/lib/python3.9/site-packages/prefect/tasks.py\", line 789, in submit\n",
       "    return enter_task_run_engine(\n",
       "  File \"/home/jupyter-saintway/.local/lib/python3.9/site-packages/prefect/engine.py\", line 1392, in enter_task_run_engine\n",
       "    raise RuntimeError(\n",
       "RuntimeError: Tasks cannot be run from within tasks. Did you mean to call this task in a flow?\n"
      ]
     },
     "metadata": {},
     "output_type": "display_data"
    },
    {
     "data": {
      "text/html": [
       "<pre style=\"white-space:pre;overflow-x:auto;line-height:normal;font-family:Menlo,'DejaVu Sans Mono',consolas,'Courier New',monospace\">17:01:52.898 | <span style=\"color: #d70000; text-decoration-color: #d70000\">ERROR</span>   | Task run 'task_5-0' - Finished in state <span style=\"color: #d70000; text-decoration-color: #d70000\">Failed</span>('Task run encountered an exception RuntimeError: Tasks cannot be run from within tasks. Did you mean to call this task in a flow?')\n",
       "</pre>\n"
      ],
      "text/plain": [
       "17:01:52.898 | \u001b[38;5;160mERROR\u001b[0m   | Task run 'task_5-0' - Finished in state \u001b[38;5;160mFailed\u001b[0m('Task run encountered an exception RuntimeError: Tasks cannot be run from within tasks. Did you mean to call this task in a flow?')\n"
      ]
     },
     "metadata": {},
     "output_type": "display_data"
    },
    {
     "data": {
      "text/html": [
       "<pre style=\"white-space:pre;overflow-x:auto;line-height:normal;font-family:Menlo,'DejaVu Sans Mono',consolas,'Courier New',monospace\">17:01:52.905 | <span style=\"color: #d70000; text-decoration-color: #d70000\">ERROR</span>   | Flow run<span style=\"color: #800080; text-decoration-color: #800080\"> 'utopian-crayfish'</span> - Encountered exception during execution:\n",
       "Traceback (most recent call last):\n",
       "  File \"/home/jupyter-saintway/.local/lib/python3.9/site-packages/prefect/engine.py\", line 864, in orchestrate_flow_run\n",
       "    result = await flow_call.aresult()\n",
       "  File \"/home/jupyter-saintway/.local/lib/python3.9/site-packages/prefect/_internal/concurrency/calls.py\", line 293, in aresult\n",
       "    return await asyncio.wrap_future(self.future)\n",
       "  File \"/home/jupyter-saintway/.local/lib/python3.9/site-packages/prefect/_internal/concurrency/calls.py\", line 318, in _run_sync\n",
       "    result = self.fn(*self.args, **self.kwargs)\n",
       "  File \"/tmp/ipykernel_1415747/912385617.py\", line 39, in task_7\n",
       "    submit_5.result()\n",
       "  File \"/home/jupyter-saintway/.local/lib/python3.9/site-packages/prefect/futures.py\", line 228, in result\n",
       "    return from_sync.call_soon_in_loop_thread(result).result()\n",
       "  File \"/home/jupyter-saintway/.local/lib/python3.9/site-packages/prefect/_internal/concurrency/calls.py\", line 284, in result\n",
       "    return self.future.result(timeout=timeout)\n",
       "  File \"/home/jupyter-saintway/.local/lib/python3.9/site-packages/prefect/_internal/concurrency/calls.py\", line 177, in result\n",
       "    return self.__get_result()\n",
       "  File \"/opt/tljh/user/lib/python3.9/concurrent/futures/_base.py\", line 390, in __get_result\n",
       "    raise self._exception\n",
       "  File \"/home/jupyter-saintway/.local/lib/python3.9/site-packages/prefect/_internal/concurrency/calls.py\", line 355, in _run_async\n",
       "    result = await coro\n",
       "  File \"/home/jupyter-saintway/.local/lib/python3.9/site-packages/prefect/futures.py\", line 237, in _result\n",
       "    return await final_state.result(raise_on_failure=raise_on_failure, fetch=True)\n",
       "  File \"/home/jupyter-saintway/.local/lib/python3.9/site-packages/prefect/states.py\", line 91, in _get_state_result\n",
       "    raise await get_state_exception(state)\n",
       "  File \"/home/jupyter-saintway/.local/lib/python3.9/site-packages/prefect/engine.py\", line 2121, in orchestrate_task_run\n",
       "    result = await call.aresult()\n",
       "  File \"/home/jupyter-saintway/.local/lib/python3.9/site-packages/prefect/_internal/concurrency/calls.py\", line 293, in aresult\n",
       "    return await asyncio.wrap_future(self.future)\n",
       "  File \"/home/jupyter-saintway/.local/lib/python3.9/site-packages/prefect/_internal/concurrency/calls.py\", line 318, in _run_sync\n",
       "    result = self.fn(*self.args, **self.kwargs)\n",
       "  File \"/tmp/ipykernel_1415747/912385617.py\", line 13, in task_5\n",
       "    submit_1 = task_1.submit()\n",
       "  File \"/home/jupyter-saintway/.local/lib/python3.9/site-packages/prefect/tasks.py\", line 789, in submit\n",
       "    return enter_task_run_engine(\n",
       "  File \"/home/jupyter-saintway/.local/lib/python3.9/site-packages/prefect/engine.py\", line 1392, in enter_task_run_engine\n",
       "    raise RuntimeError(\n",
       "RuntimeError: Tasks cannot be run from within tasks. Did you mean to call this task in a flow?\n",
       "</pre>\n"
      ],
      "text/plain": [
       "17:01:52.905 | \u001b[38;5;160mERROR\u001b[0m   | Flow run\u001b[35m 'utopian-crayfish'\u001b[0m - Encountered exception during execution:\n",
       "Traceback (most recent call last):\n",
       "  File \"/home/jupyter-saintway/.local/lib/python3.9/site-packages/prefect/engine.py\", line 864, in orchestrate_flow_run\n",
       "    result = await flow_call.aresult()\n",
       "  File \"/home/jupyter-saintway/.local/lib/python3.9/site-packages/prefect/_internal/concurrency/calls.py\", line 293, in aresult\n",
       "    return await asyncio.wrap_future(self.future)\n",
       "  File \"/home/jupyter-saintway/.local/lib/python3.9/site-packages/prefect/_internal/concurrency/calls.py\", line 318, in _run_sync\n",
       "    result = self.fn(*self.args, **self.kwargs)\n",
       "  File \"/tmp/ipykernel_1415747/912385617.py\", line 39, in task_7\n",
       "    submit_5.result()\n",
       "  File \"/home/jupyter-saintway/.local/lib/python3.9/site-packages/prefect/futures.py\", line 228, in result\n",
       "    return from_sync.call_soon_in_loop_thread(result).result()\n",
       "  File \"/home/jupyter-saintway/.local/lib/python3.9/site-packages/prefect/_internal/concurrency/calls.py\", line 284, in result\n",
       "    return self.future.result(timeout=timeout)\n",
       "  File \"/home/jupyter-saintway/.local/lib/python3.9/site-packages/prefect/_internal/concurrency/calls.py\", line 177, in result\n",
       "    return self.__get_result()\n",
       "  File \"/opt/tljh/user/lib/python3.9/concurrent/futures/_base.py\", line 390, in __get_result\n",
       "    raise self._exception\n",
       "  File \"/home/jupyter-saintway/.local/lib/python3.9/site-packages/prefect/_internal/concurrency/calls.py\", line 355, in _run_async\n",
       "    result = await coro\n",
       "  File \"/home/jupyter-saintway/.local/lib/python3.9/site-packages/prefect/futures.py\", line 237, in _result\n",
       "    return await final_state.result(raise_on_failure=raise_on_failure, fetch=True)\n",
       "  File \"/home/jupyter-saintway/.local/lib/python3.9/site-packages/prefect/states.py\", line 91, in _get_state_result\n",
       "    raise await get_state_exception(state)\n",
       "  File \"/home/jupyter-saintway/.local/lib/python3.9/site-packages/prefect/engine.py\", line 2121, in orchestrate_task_run\n",
       "    result = await call.aresult()\n",
       "  File \"/home/jupyter-saintway/.local/lib/python3.9/site-packages/prefect/_internal/concurrency/calls.py\", line 293, in aresult\n",
       "    return await asyncio.wrap_future(self.future)\n",
       "  File \"/home/jupyter-saintway/.local/lib/python3.9/site-packages/prefect/_internal/concurrency/calls.py\", line 318, in _run_sync\n",
       "    result = self.fn(*self.args, **self.kwargs)\n",
       "  File \"/tmp/ipykernel_1415747/912385617.py\", line 13, in task_5\n",
       "    submit_1 = task_1.submit()\n",
       "  File \"/home/jupyter-saintway/.local/lib/python3.9/site-packages/prefect/tasks.py\", line 789, in submit\n",
       "    return enter_task_run_engine(\n",
       "  File \"/home/jupyter-saintway/.local/lib/python3.9/site-packages/prefect/engine.py\", line 1392, in enter_task_run_engine\n",
       "    raise RuntimeError(\n",
       "RuntimeError: Tasks cannot be run from within tasks. Did you mean to call this task in a flow?\n"
      ]
     },
     "metadata": {},
     "output_type": "display_data"
    },
    {
     "data": {
      "text/html": [
       "<pre style=\"white-space:pre;overflow-x:auto;line-height:normal;font-family:Menlo,'DejaVu Sans Mono',consolas,'Courier New',monospace\">17:01:52.967 | <span style=\"color: #d70000; text-decoration-color: #d70000\">ERROR</span>   | Task run 'task_6-0' - Finished in state <span style=\"color: #d70000; text-decoration-color: #d70000\">Failed</span>('Task run encountered an exception RuntimeError: Tasks cannot be run from within tasks. Did you mean to call this task in a flow?')\n",
       "</pre>\n"
      ],
      "text/plain": [
       "17:01:52.967 | \u001b[38;5;160mERROR\u001b[0m   | Task run 'task_6-0' - Finished in state \u001b[38;5;160mFailed\u001b[0m('Task run encountered an exception RuntimeError: Tasks cannot be run from within tasks. Did you mean to call this task in a flow?')\n"
      ]
     },
     "metadata": {},
     "output_type": "display_data"
    },
    {
     "data": {
      "text/html": [
       "<pre style=\"white-space:pre;overflow-x:auto;line-height:normal;font-family:Menlo,'DejaVu Sans Mono',consolas,'Courier New',monospace\">17:01:53.028 | <span style=\"color: #d70000; text-decoration-color: #d70000\">ERROR</span>   | Flow run<span style=\"color: #800080; text-decoration-color: #800080\"> 'utopian-crayfish'</span> - Finished in state <span style=\"color: #d70000; text-decoration-color: #d70000\">Failed</span>('Flow run encountered an exception. RuntimeError: Tasks cannot be run from within tasks. Did you mean to call this task in a flow?')\n",
       "</pre>\n"
      ],
      "text/plain": [
       "17:01:53.028 | \u001b[38;5;160mERROR\u001b[0m   | Flow run\u001b[35m 'utopian-crayfish'\u001b[0m - Finished in state \u001b[38;5;160mFailed\u001b[0m('Flow run encountered an exception. RuntimeError: Tasks cannot be run from within tasks. Did you mean to call this task in a flow?')\n"
      ]
     },
     "metadata": {},
     "output_type": "display_data"
    }
   ],
   "source": [
    "from prefect import flow, task\n",
    "\n",
    "@task(name='task_1')\n",
    "def task_1():\n",
    "    print('task_1')\n",
    "\n",
    "@task(name='task_2')\n",
    "def task_2():\n",
    "    print('task_2')\n",
    "\n",
    "@task(name='task_5')\n",
    "def task_5():\n",
    "    submit_1 = task_1.submit()\n",
    "    submit_2 = task_2.submit()\n",
    "    submit_1.result()\n",
    "    submit_2.result()\n",
    "    print('task_5')\n",
    "\n",
    "@task(name='task_3')\n",
    "def task_3():\n",
    "    print('task_3')\n",
    "\n",
    "@task(name='task_4')\n",
    "def task_4():\n",
    "    print('task_4')\n",
    "\n",
    "@task(name='task_6')\n",
    "def task_6():\n",
    "    submit_3 = task_3.submit()\n",
    "    submit_4 = task_4.submit()\n",
    "    submit_3.result()\n",
    "    submit_4.result()\n",
    "    print('task_6')\n",
    "\n",
    "@flow\n",
    "def task_7():\n",
    "    submit_5 = task_5.submit()\n",
    "    submit_6 = task_6.submit()\n",
    "    submit_5.result()\n",
    "    submit_6.result()\n",
    "    print('task_7')\n",
    "\n",
    "task_7()"
   ]
  },
  {
   "cell_type": "code",
   "execution_count": null,
   "id": "500f1592-48a9-4900-bd21-3ea9810906c8",
   "metadata": {},
   "outputs": [
    {
     "data": {
      "text/html": [
       "<pre style=\"white-space:pre;overflow-x:auto;line-height:normal;font-family:Menlo,'DejaVu Sans Mono',consolas,'Courier New',monospace\">14:09:51.899 | <span style=\"color: #008080; text-decoration-color: #008080\">INFO</span>    | prefect.engine - Created flow run<span style=\"color: #800080; text-decoration-color: #800080\"> 'stimulating-mole'</span> for flow<span style=\"color: #800080; text-decoration-color: #800080; font-weight: bold\"> 'task-7'</span>\n",
       "</pre>\n"
      ],
      "text/plain": [
       "14:09:51.899 | \u001b[36mINFO\u001b[0m    | prefect.engine - Created flow run\u001b[35m 'stimulating-mole'\u001b[0m for flow\u001b[1;35m 'task-7'\u001b[0m\n"
      ]
     },
     "metadata": {},
     "output_type": "display_data"
    },
    {
     "name": "stdout",
     "output_type": "stream",
     "text": [
      "Executing Task 7\n"
     ]
    },
    {
     "data": {
      "text/html": [
       "<pre style=\"white-space:pre;overflow-x:auto;line-height:normal;font-family:Menlo,'DejaVu Sans Mono',consolas,'Courier New',monospace\">14:09:52.197 | <span style=\"color: #008080; text-decoration-color: #008080\">INFO</span>    | Flow run<span style=\"color: #800080; text-decoration-color: #800080\"> 'task_7'</span> - Created subflow run<span style=\"color: #800080; text-decoration-color: #800080\"> 'discerning-swan'</span> for flow<span style=\"color: #800080; text-decoration-color: #800080; font-weight: bold\"> 'task-5'</span>\n",
       "</pre>\n"
      ],
      "text/plain": [
       "14:09:52.197 | \u001b[36mINFO\u001b[0m    | Flow run\u001b[35m 'task_7'\u001b[0m - Created subflow run\u001b[35m 'discerning-swan'\u001b[0m for flow\u001b[1;35m 'task-5'\u001b[0m\n"
      ]
     },
     "metadata": {},
     "output_type": "display_data"
    },
    {
     "data": {
      "text/html": [
       "<pre style=\"white-space:pre;overflow-x:auto;line-height:normal;font-family:Menlo,'DejaVu Sans Mono',consolas,'Courier New',monospace\">14:09:52.256 | <span style=\"color: #008080; text-decoration-color: #008080\">INFO</span>    | Flow run<span style=\"color: #800080; text-decoration-color: #800080\"> 'task_7'</span> - Created subflow run<span style=\"color: #800080; text-decoration-color: #800080\"> 'rational-tody'</span> for flow<span style=\"color: #800080; text-decoration-color: #800080; font-weight: bold\"> 'task-6'</span>\n",
       "</pre>\n"
      ],
      "text/plain": [
       "14:09:52.256 | \u001b[36mINFO\u001b[0m    | Flow run\u001b[35m 'task_7'\u001b[0m - Created subflow run\u001b[35m 'rational-tody'\u001b[0m for flow\u001b[1;35m 'task-6'\u001b[0m\n"
      ]
     },
     "metadata": {},
     "output_type": "display_data"
    },
    {
     "name": "stdout",
     "output_type": "stream",
     "text": [
      "Executing Task 5\n",
      "Executing Task 6\n"
     ]
    },
    {
     "data": {
      "text/html": [
       "<pre style=\"white-space:pre;overflow-x:auto;line-height:normal;font-family:Menlo,'DejaVu Sans Mono',consolas,'Courier New',monospace\">14:09:52.764 | <span style=\"color: #008080; text-decoration-color: #008080\">INFO</span>    | Flow run<span style=\"color: #800080; text-decoration-color: #800080\"> 'task_5'</span> - Created subflow run<span style=\"color: #800080; text-decoration-color: #800080\"> 'acrid-mouse'</span> for flow<span style=\"color: #800080; text-decoration-color: #800080; font-weight: bold\"> 'task-1'</span>\n",
       "</pre>\n"
      ],
      "text/plain": [
       "14:09:52.764 | \u001b[36mINFO\u001b[0m    | Flow run\u001b[35m 'task_5'\u001b[0m - Created subflow run\u001b[35m 'acrid-mouse'\u001b[0m for flow\u001b[1;35m 'task-1'\u001b[0m\n"
      ]
     },
     "metadata": {},
     "output_type": "display_data"
    },
    {
     "data": {
      "text/html": [
       "<pre style=\"white-space:pre;overflow-x:auto;line-height:normal;font-family:Menlo,'DejaVu Sans Mono',consolas,'Courier New',monospace\">14:09:52.822 | <span style=\"color: #008080; text-decoration-color: #008080\">INFO</span>    | Flow run<span style=\"color: #800080; text-decoration-color: #800080\"> 'task_6'</span> - Created subflow run<span style=\"color: #800080; text-decoration-color: #800080\"> 'tidy-mayfly'</span> for flow<span style=\"color: #800080; text-decoration-color: #800080; font-weight: bold\"> 'task-4'</span>\n",
       "</pre>\n"
      ],
      "text/plain": [
       "14:09:52.822 | \u001b[36mINFO\u001b[0m    | Flow run\u001b[35m 'task_6'\u001b[0m - Created subflow run\u001b[35m 'tidy-mayfly'\u001b[0m for flow\u001b[1;35m 'task-4'\u001b[0m\n"
      ]
     },
     "metadata": {},
     "output_type": "display_data"
    },
    {
     "data": {
      "text/html": [
       "<pre style=\"white-space:pre;overflow-x:auto;line-height:normal;font-family:Menlo,'DejaVu Sans Mono',consolas,'Courier New',monospace\">14:09:52.877 | <span style=\"color: #008080; text-decoration-color: #008080\">INFO</span>    | Flow run<span style=\"color: #800080; text-decoration-color: #800080\"> 'task_5'</span> - Created subflow run<span style=\"color: #800080; text-decoration-color: #800080\"> 'exuberant-dragon'</span> for flow<span style=\"color: #800080; text-decoration-color: #800080; font-weight: bold\"> 'task-2'</span>\n",
       "</pre>\n"
      ],
      "text/plain": [
       "14:09:52.877 | \u001b[36mINFO\u001b[0m    | Flow run\u001b[35m 'task_5'\u001b[0m - Created subflow run\u001b[35m 'exuberant-dragon'\u001b[0m for flow\u001b[1;35m 'task-2'\u001b[0m\n"
      ]
     },
     "metadata": {},
     "output_type": "display_data"
    },
    {
     "data": {
      "text/html": [
       "<pre style=\"white-space:pre;overflow-x:auto;line-height:normal;font-family:Menlo,'DejaVu Sans Mono',consolas,'Courier New',monospace\">14:09:53.231 | <span style=\"color: #008080; text-decoration-color: #008080\">INFO</span>    | Flow run<span style=\"color: #800080; text-decoration-color: #800080\"> 'task_6'</span> - Created subflow run<span style=\"color: #800080; text-decoration-color: #800080\"> 'zippy-waxbill'</span> for flow<span style=\"color: #800080; text-decoration-color: #800080; font-weight: bold\"> 'task-3'</span>\n",
       "</pre>\n"
      ],
      "text/plain": [
       "14:09:53.231 | \u001b[36mINFO\u001b[0m    | Flow run\u001b[35m 'task_6'\u001b[0m - Created subflow run\u001b[35m 'zippy-waxbill'\u001b[0m for flow\u001b[1;35m 'task-3'\u001b[0m\n"
      ]
     },
     "metadata": {},
     "output_type": "display_data"
    },
    {
     "name": "stdout",
     "output_type": "stream",
     "text": [
      "Executing Task 4\n",
      "Executing Task 2\n",
      "Executing Task 1\n",
      "Executing Task 3\n",
      "Task 4 done\n"
     ]
    },
    {
     "data": {
      "text/html": [
       "<pre style=\"white-space:pre;overflow-x:auto;line-height:normal;font-family:Menlo,'DejaVu Sans Mono',consolas,'Courier New',monospace\">14:09:54.336 | <span style=\"color: #008080; text-decoration-color: #008080\">INFO</span>    | Flow run<span style=\"color: #800080; text-decoration-color: #800080\"> 'tidy-mayfly'</span> - Finished in state <span style=\"color: #008000; text-decoration-color: #008000\">Completed</span>()\n",
       "</pre>\n"
      ],
      "text/plain": [
       "14:09:54.336 | \u001b[36mINFO\u001b[0m    | Flow run\u001b[35m 'tidy-mayfly'\u001b[0m - Finished in state \u001b[32mCompleted\u001b[0m()\n"
      ]
     },
     "metadata": {},
     "output_type": "display_data"
    },
    {
     "name": "stdout",
     "output_type": "stream",
     "text": [
      "Task 2 done\n",
      "Task 1 done\n",
      "Task 3 done\n"
     ]
    },
    {
     "data": {
      "text/html": [
       "<pre style=\"white-space:pre;overflow-x:auto;line-height:normal;font-family:Menlo,'DejaVu Sans Mono',consolas,'Courier New',monospace\">14:09:54.484 | <span style=\"color: #008080; text-decoration-color: #008080\">INFO</span>    | Flow run<span style=\"color: #800080; text-decoration-color: #800080\"> 'exuberant-dragon'</span> - Finished in state <span style=\"color: #008000; text-decoration-color: #008000\">Completed</span>()\n",
       "</pre>\n"
      ],
      "text/plain": [
       "14:09:54.484 | \u001b[36mINFO\u001b[0m    | Flow run\u001b[35m 'exuberant-dragon'\u001b[0m - Finished in state \u001b[32mCompleted\u001b[0m()\n"
      ]
     },
     "metadata": {},
     "output_type": "display_data"
    },
    {
     "data": {
      "text/html": [
       "<pre style=\"white-space:pre;overflow-x:auto;line-height:normal;font-family:Menlo,'DejaVu Sans Mono',consolas,'Courier New',monospace\">14:09:54.551 | <span style=\"color: #008080; text-decoration-color: #008080\">INFO</span>    | Flow run<span style=\"color: #800080; text-decoration-color: #800080\"> 'zippy-waxbill'</span> - Finished in state <span style=\"color: #008000; text-decoration-color: #008000\">Completed</span>()\n",
       "</pre>\n"
      ],
      "text/plain": [
       "14:09:54.551 | \u001b[36mINFO\u001b[0m    | Flow run\u001b[35m 'zippy-waxbill'\u001b[0m - Finished in state \u001b[32mCompleted\u001b[0m()\n"
      ]
     },
     "metadata": {},
     "output_type": "display_data"
    },
    {
     "data": {
      "text/html": [
       "<pre style=\"white-space:pre;overflow-x:auto;line-height:normal;font-family:Menlo,'DejaVu Sans Mono',consolas,'Courier New',monospace\">14:09:54.638 | <span style=\"color: #008080; text-decoration-color: #008080\">INFO</span>    | Flow run<span style=\"color: #800080; text-decoration-color: #800080\"> 'acrid-mouse'</span> - Finished in state <span style=\"color: #008000; text-decoration-color: #008000\">Completed</span>()\n",
       "</pre>\n"
      ],
      "text/plain": [
       "14:09:54.638 | \u001b[36mINFO\u001b[0m    | Flow run\u001b[35m 'acrid-mouse'\u001b[0m - Finished in state \u001b[32mCompleted\u001b[0m()\n"
      ]
     },
     "metadata": {},
     "output_type": "display_data"
    },
    {
     "name": "stdout",
     "output_type": "stream",
     "text": [
      "Task 6 done\n"
     ]
    },
    {
     "data": {
      "text/html": [
       "<pre style=\"white-space:pre;overflow-x:auto;line-height:normal;font-family:Menlo,'DejaVu Sans Mono',consolas,'Courier New',monospace\">14:09:55.645 | <span style=\"color: #008080; text-decoration-color: #008080\">INFO</span>    | Flow run<span style=\"color: #800080; text-decoration-color: #800080\"> 'rational-tody'</span> - Finished in state <span style=\"color: #008000; text-decoration-color: #008000\">Completed</span>('All states completed.')\n",
       "</pre>\n"
      ],
      "text/plain": [
       "14:09:55.645 | \u001b[36mINFO\u001b[0m    | Flow run\u001b[35m 'rational-tody'\u001b[0m - Finished in state \u001b[32mCompleted\u001b[0m('All states completed.')\n"
      ]
     },
     "metadata": {},
     "output_type": "display_data"
    },
    {
     "name": "stdout",
     "output_type": "stream",
     "text": [
      "Task 5 done\n"
     ]
    },
    {
     "data": {
      "text/html": [
       "<pre style=\"white-space:pre;overflow-x:auto;line-height:normal;font-family:Menlo,'DejaVu Sans Mono',consolas,'Courier New',monospace\">14:09:56.661 | <span style=\"color: #008080; text-decoration-color: #008080\">INFO</span>    | Flow run<span style=\"color: #800080; text-decoration-color: #800080\"> 'discerning-swan'</span> - Finished in state <span style=\"color: #008000; text-decoration-color: #008000\">Completed</span>('All states completed.')\n",
       "</pre>\n"
      ],
      "text/plain": [
       "14:09:56.661 | \u001b[36mINFO\u001b[0m    | Flow run\u001b[35m 'discerning-swan'\u001b[0m - Finished in state \u001b[32mCompleted\u001b[0m('All states completed.')\n"
      ]
     },
     "metadata": {},
     "output_type": "display_data"
    },
    {
     "name": "stdout",
     "output_type": "stream",
     "text": [
      "Task 7 done\n"
     ]
    },
    {
     "data": {
      "text/html": [
       "<pre style=\"white-space:pre;overflow-x:auto;line-height:normal;font-family:Menlo,'DejaVu Sans Mono',consolas,'Courier New',monospace\">14:09:57.728 | <span style=\"color: #008080; text-decoration-color: #008080\">INFO</span>    | Flow run<span style=\"color: #800080; text-decoration-color: #800080\"> 'stimulating-mole'</span> - Finished in state <span style=\"color: #008000; text-decoration-color: #008000\">Completed</span>('All states completed.')\n",
       "</pre>\n"
      ],
      "text/plain": [
       "14:09:57.728 | \u001b[36mINFO\u001b[0m    | Flow run\u001b[35m 'stimulating-mole'\u001b[0m - Finished in state \u001b[32mCompleted\u001b[0m('All states completed.')\n"
      ]
     },
     "metadata": {},
     "output_type": "display_data"
    },
    {
     "name": "stdout",
     "output_type": "stream",
     "text": [
      "Elapsed Time: 8.166760206222534 seconds\n"
     ]
    }
   ],
   "source": [
    "import asyncio, time\n",
    "from prefect import flow\n",
    "\n",
    "@flow(flow_run_name='task_1')\n",
    "async def task_1():\n",
    "    print('Executing Task 1')\n",
    "    await asyncio.sleep(1)\n",
    "    print('Task 1 done')\n",
    "\n",
    "@flow(flow_run_name='task_2')\n",
    "async def task_2():\n",
    "    print('Executing Task 2')\n",
    "    await asyncio.sleep(1)\n",
    "    print('Task 2 done')\n",
    "\n",
    "@flow(flow_run_name='task_5')\n",
    "async def task_5():\n",
    "    print('Executing Task 5')\n",
    "    await asyncio.gather(task_1(), task_2())\n",
    "    await asyncio.sleep(1)\n",
    "    print('Task 5 done')\n",
    "\n",
    "@flow(flow_run_name='task_3')\n",
    "async def task_3():\n",
    "    print('Executing Task 3')\n",
    "    await asyncio.sleep(1)\n",
    "    print('Task 3 done')\n",
    "\n",
    "@flow(flow_run_name='task_4')\n",
    "async def task_4():\n",
    "    print('Executing Task 4')\n",
    "    await asyncio.sleep(1)\n",
    "    print('Task 4 done')\n",
    "\n",
    "@flow(flow_run_name='task_6')\n",
    "async def task_6():\n",
    "    print('Executing Task 6')\n",
    "    await asyncio.gather(task_3(), task_4())\n",
    "    await asyncio.sleep(1)\n",
    "    print('Task 6 done')\n",
    "\n",
    "@flow(flow_run_name='task_7')\n",
    "async def task_7():\n",
    "    print('Executing Task 7')\n",
    "    # 并行执行 Task 5、Task 6\n",
    "    await asyncio.gather(task_5(), task_6())\n",
    "    await asyncio.sleep(1)\n",
    "    print('Task 7 done')\n",
    "\n",
    "start_time = time.time()\n",
    "await task_7()\n",
    "end_time = time.time()\n",
    "\n",
    "print('Elapsed Time:', end_time - start_time, 'seconds')"
   ]
  },
  {
   "cell_type": "markdown",
   "id": "f978d968-5237-42df-b469-69e4dc70d871",
   "metadata": {},
   "source": [
    "---\n",
    "* [LangChain CAMEL Role-Playing Autonomous Cooperative Agents](https://python.langchain.com/en/latest/use_cases/agent_simulations/camel_role_playing.html)"
   ]
  },
  {
   "cell_type": "code",
   "execution_count": null,
   "id": "d5d11ea3-5770-4fb3-9dfd-b5cb9edaa4eb",
   "metadata": {},
   "outputs": [],
   "source": [
    "%%bash\n",
    "cd ~ && git clone https://github.com/lightaime/camel.git\n",
    "cd ~/camel && pip install -e ."
   ]
  },
  {
   "cell_type": "code",
   "execution_count": null,
   "id": "d38c0d98-0c07-4426-bbfc-658f8cdc13b9",
   "metadata": {},
   "outputs": [
    {
     "name": "stdout",
     "output_type": "stream",
     "text": [
      "\n",
      "=> no.0  ::_drafts::test_camel  setup  passed\n",
      "\n",
      "\u001b[33mOriginal task prompt:\n",
      "Design a custom game using pygame\n",
      "\n",
      "\u001b[36mSpecified task prompt:\n",
      "Design a 2D platformer game using Pygame where the player controls a character who has to jump, run and fight enemies to reach the end of each level. The game should have at least three levels with different themes and difficulty levels, collectible power-ups, and a boss fight at the end.\n",
      "\n",
      "\u001b[34mAI User:\n",
      "\n",
      "Instruction: Create a Pygame project with the necessary file structure for the game.\n",
      "Input: None\n",
      "\n",
      "\u001b[32mAI Assistant:\n",
      "\n",
      "Solution: To create a Pygame project with the necessary file structure for the game, I will create a new folder called \"2D_Platformer_Game\" in a directory of your choice. Inside this folder, I will create the following subfolders: \"assets\", \"levels\", and \"src\". The \"assets\" folder will contain images and audio files for the game. The \"levels\" folder will contain text files that define each level's layout and contents. The \"src\" folder will contain the Python source code files for the game. Specifically, it will contain a main.py file that initializes the game, a game.py file that defines the Game class that runs the game loop and updates the game state, a player.py file that defines the Player class that handles the player's movement and interaction with the environment, an enemy.py file that defines the Enemy class that handles enemy behavior, a level.py file that defines the Level class that loads and renders the level, and a utils.py file that contains any helper functions or classes needed by the other modules.\n",
      "\n",
      "Next request.\n",
      "\n",
      "\u001b[34mAI User:\n",
      "\n",
      "Instruction: Create a Player class that handles the player's movement and interaction with the environment.\n",
      "Input: None\n",
      "\n",
      "\u001b[32mAI Assistant:\n",
      "\n",
      "Solution: To create a Player class that handles the player's movement and interaction with the environment, I will define a new file called \"player.py\" in the \"src\" folder. Inside this file, I will define a Player class that inherits from the Pygame sprite.Sprite class. The Player class will have the following attributes:\n",
      "\n",
      "- image: a Pygame Surface object that represents the player's appearance.\n",
      "- rect: a Pygame Rect object that represents the player's position and size.\n",
      "- velocity: a tuple that represents the player's current horizontal and vertical velocity.\n",
      "- gravity: a constant value that represents the acceleration due to gravity.\n",
      "- jump_height: a constant value that represents the maximum height of the player's jump.\n",
      "- on_ground: a boolean flag that indicates whether the player is currently touching the ground.\n",
      "- facing_right: a boolean flag that indicates whether the player is currently facing right.\n",
      "\n",
      "The Player class will also have the following methods:\n",
      "\n",
      "- update: a method that updates the player's position and velocity based on user input and collisions with the environment.\n",
      "- jump: a method that initiates a jump if the player is on the ground.\n",
      "- move_left: a method that sets the player's horizontal velocity to a negative value.\n",
      "- move_right: a method that sets the player's horizontal velocity to a positive value.\n",
      "- stop_move: a method that sets the player's horizontal velocity to zero.\n",
      "\n",
      "Next request.\n",
      "\n",
      "\u001b[34mAI User:\n",
      "\n",
      "Instruction: Implement the update method in the Player class that updates the player's position based on its velocity, handles collisions with the environment, and updates the player's animation.\n",
      "Input: None\n",
      "\n",
      "\u001b[32mAI Assistant:\n",
      "\n",
      "Solution: To implement the update method in the Player class that updates the player's position based on its velocity, handles collisions with the environment, and updates the player's animation, I will modify the Player class in the \"player.py\" file in the \"src\" folder. The updated Player class will have the following updated methods:\n",
      "\n",
      "- update: a method that updates the player's position and velocity based on user input and collisions with the environment. It will take a list of sprite groups as an argument, including the player sprite group and any groups representing the environment (e.g., ground, walls, obstacles, enemies). \n",
      "\n",
      "    Inside the update method, I will first update the player's position based on its current velocity, using the Pygame Rect.move method. I will then check for collisions between the player and the environment using the Pygame sprite.spritecollide method. If a collision is detected, I will adjust the player's position and velocity accordingly to prevent overlap and restrict movement. If the player collides with the ground, I will set the on_ground flag to True. If the player collides with a wall or obstacle, I will set the player's horizontal velocity to zero. If the player collides with an enemy, I will call the enemy's \"hit\" method and reduce the player's health.\n",
      "\n",
      "    Finally, I will update the player's animation based on its current state (e.g., idle, walking, jumping, falling). I will use a Pygame sprite.SpriteSheet object to load and manage the player's animation frames, and switch between frames based on the player's state and movement.\n",
      "\n",
      "Here is the updated code for the Player class:\n",
      "\n",
      "```\n",
      "import pygame\n",
      "\n",
      "class Player(pygame.sprite.Sprite):\n",
      "    def __init__(self):\n",
      "        super().__init__()\n",
      "\n",
      "        # Load player image and set initial position\n",
      "        self.image = pygame.image.load(\"assets/player.png\").convert_alpha()\n",
      "        self.rect = self.image.get_rect(midbottom=(100, 500))\n",
      "\n",
      "        # Set initial velocity, acceleration, and other attributes\n",
      "        self.velocity = [0, 0]\n",
      "        self.gravity = 0.5\n",
      "        self.jump_height = 15\n",
      "        self.on_ground = False\n",
      "        self.facing_right = True\n",
      "\n",
      "        # Set up sprite sheet for animation\n",
      "        self.sheet = pygame.image.load(\"assets/player_spritesheet.png\").convert_alpha()\n",
      "        self.frame_index = 0\n",
      "        self.frame_duration = 100 # milliseconds\n",
      "        self.frame_timer = 0\n",
      "        self.frames = {\n",
      "            \"idle\": [(0, 0, 50, 50)],\n",
      "            \"walk\": [(50, 0, 50, 50), (100, 0, 50, 50), (150, 0, 50, 50), (100, 0, 50, 50)],\n",
      "            \"jump\": [(200, 0, 50, 50)],\n",
      "            \"fall\": [(250, 0, 50, 50)],\n",
      "        }\n",
      "\n",
      "    def update(self, groups):\n",
      "        # Update player position based on velocity\n",
      "        self.rect.move_ip(self.velocity)\n",
      "\n",
      "        # Check for collisions with environment groups\n",
      "        for group in groups:\n",
      "            if group != self.groups(): # don't check collisions with self\n",
      "                collision = pygame.sprite.spritecollideany(self, group)\n",
      "                if collision: \n",
      "                    # adjust player position and velocity based on collision\n",
      "                    if self.velocity[1] > 0: # falling onto ground\n",
      "                        self.rect.bottom = collision.rect.top\n",
      "                        self.velocity[1] = 0\n",
      "                        self.on_ground = True\n",
      "                    elif self.velocity[1] < 0: # hitting ceiling or obstacle\n",
      "                        self.rect.top = collision.rect.bottom\n",
      "                        self.velocity\n",
      "\n",
      "\u001b[34mAI User:\n",
      "\n",
      "Instruction: Create an Enemy class that handles enemy behavior.\n",
      "Input: None\n",
      "\n",
      "\u001b[32mAI Assistant:\n",
      "\n",
      "Solution: To implement the update method in the Player class that updates the player's position based on its velocity, handles collisions with the environment, and updates the player's animation, I will add the following code to the Player class in the \"player.py\" file:\n",
      "\n",
      "```\n",
      "def update(self, dt, tiles):\n",
      "    # Update player's vertical velocity due to gravity\n",
      "    self.velocity = (self.velocity[0], self.velocity[1] + self.gravity * dt)\n",
      "\n",
      "    # Move player horizontally\n",
      "    self.rect.x += self.velocity[0] * dt\n",
      "\n",
      "    # Handle collisions with walls\n",
      "    self.handle_x_collisions(tiles)\n",
      "\n",
      "    # Move player vertically\n",
      "    self.rect.y += self.velocity[1] * dt\n",
      "\n",
      "    # Handle collisions with floors/ceilings\n",
      "    self.on_ground = self.handle_y_collisions(tiles)\n",
      "\n",
      "    # Update player's animation\n",
      "    if self.velocity[0] > 0:\n",
      "        self.image = self.right_image\n",
      "        self.facing_right = True\n",
      "    elif self.velocity[0] < 0:\n",
      "        self.image = self.left_image\n",
      "        self.facing_right = False\n",
      "\n",
      "def handle_x_collisions(self, tiles):\n",
      "    for tile in tiles:\n",
      "        if self.rect.colliderect(tile.rect):\n",
      "            if self.velocity[0] > 0:\n",
      "                self.rect.right = tile.rect.left\n",
      "            elif self.velocity[0] < 0:\n",
      "                self.rect.left = tile.rect.right\n",
      "            self.velocity = (0, self.velocity[1])\n",
      "\n",
      "def handle_y_collisions(self, tiles):\n",
      "    for tile in tiles:\n",
      "        if self.rect.colliderect(tile.rect):\n",
      "            if self.velocity[1] > 0:\n",
      "                self.rect.bottom = tile.rect.top\n",
      "                return True\n",
      "            elif self.velocity[1] < 0:\n",
      "                self.rect.top = tile.rect.bottom\n",
      "            self.velocity = (self.velocity[0], 0)\n",
      "    return False\n",
      "```\n",
      "\n",
      "The update method takes two parameters: \"dt\", which is the time elapsed since the last update, and \"tiles\", which is a list of Tile objects representing the environment. The method first updates the player's vertical velocity due to gravity, then moves the player horizontally and handles collisions with walls using the handle_x_collisions method. Next, the method moves the player vertically and handles collisions with floors/ceilings using the handle_y_collisions method. Finally, the method updates the player's animation based on its velocity.\n",
      "\n",
      "The handle_x_collisions and handle_y_collisions methods take a list of Tile objects as a parameter and handle collisions with walls and floors/ceilings, respectively. If a collision is detected, the player's position and velocity are updated accordingly, and the method returns whether the player is currently on the ground.\n",
      "\n",
      "Next request.\n",
      "\n",
      "\u001b[34mAI User:\n",
      "\n",
      "Instruction: Create an Enemy class that handles enemy behavior.\n",
      "Input: None\n",
      "\n",
      "\u001b[32mAI Assistant:\n",
      "\n",
      "Solution: To implement the update method in the Player class that updates the player's position based on its velocity, handles collisions with the environment, and updates the player's animation, I will add the following code to the Player class:\n",
      "\n",
      "```\n",
      "def update(self, dt, game):\n",
      "    # Apply gravity\n",
      "    self.velocity = (self.velocity[0], self.velocity[1] + self.gravity * dt)\n",
      "\n",
      "    # Move horizontally\n",
      "    self.rect.x += self.velocity[0] * dt\n",
      "\n",
      "    # Check for horizontal collisions with environment\n",
      "    block_hit_list = pygame.sprite.spritecollide(self, game.level.platform_list, False)\n",
      "    for block in block_hit_list:\n",
      "        if self.velocity[0] > 0:\n",
      "            self.rect.right = block.rect.left\n",
      "        elif self.velocity[0] < 0:\n",
      "            self.rect.left = block.rect.right\n",
      "        self.velocity = (0, self.velocity[1])\n",
      "\n",
      "    # Move vertically\n",
      "    self.rect.y += self.velocity[1] * dt\n",
      "\n",
      "    # Check for vertical collisions with environment\n",
      "    block_hit_list = pygame.sprite.spritecollide(self, game.level.platform_list, False)\n",
      "    for block in block_hit_list:\n",
      "        if self.velocity[1] > 0:\n",
      "            self.rect.bottom = block.rect.top\n",
      "            self.on_ground = True\n",
      "            self.velocity = (self.velocity[0], 0)\n",
      "        elif self.velocity[1] < 0:\n",
      "            self.rect.top = block.rect.bottom\n",
      "            self.velocity = (self.velocity[0], 0)\n",
      "\n",
      "    # Update animation\n",
      "    if self.velocity[0] > 0:\n",
      "        self.image = self.images_right[self.frame]\n",
      "    elif self.velocity[0] < 0:\n",
      "        self.image = self.images_left[self.frame]\n",
      "    self.frame += 1\n",
      "    if self.frame >= len(self.images_right):\n",
      "        self.frame = 0\n",
      "```\n",
      "\n",
      "This code first applies gravity to the player's velocity to simulate falling. It then moves the player horizontally based on its velocity and checks for collisions with the environment in the form of platforms. If a collision is detected, the player's position is adjusted to the appropriate location and its horizontal velocity is set to zero. The code then moves the player vertically and checks for collisions with platforms in a similar manner. If a collision is detected while moving downward, the player is considered to be on the ground and its vertical velocity is set to zero. Finally, the code updates the player's animation based on its horizontal velocity.\n",
      "\n",
      "Note that the Player class should also have a list of images for the player's animation in each direction (left and right) and a frame counter for animation purposes. These should be initialized in the constructor. \n",
      "\n",
      "Next request.\n",
      "\n",
      "\u001b[34mAI User:\n",
      "\n",
      "Instruction: Define the update method in the Player class that updates the player's position based on its velocity and handles collision detection with the environment.\n",
      "Input: None\n",
      "\n",
      "\u001b[32mAI Assistant:\n",
      "\n",
      "Solution: To implement the update method in the Player class, I will add the following code to the Player class definition in the \"player.py\" file:\n",
      "\n",
      "```\n",
      "def update(self, dt, platforms):\n",
      "    # update position based on velocity\n",
      "    self.rect.x += self.velocity[0] * dt\n",
      "    self.rect.y += self.velocity[1] * dt\n",
      "    \n",
      "    # handle collisions with platforms\n",
      "    self.on_ground = False\n",
      "    for platform in platforms:\n",
      "        if self.rect.colliderect(platform.rect):\n",
      "            if self.velocity[1] > 0:\n",
      "                self.rect.bottom = platform.rect.top\n",
      "                self.velocity = (self.velocity[0], 0)\n",
      "                self.on_ground = True\n",
      "            elif self.velocity[1] < 0:\n",
      "                self.rect.top = platform.rect.bottom\n",
      "                self.velocity = (self.velocity[0], 0)\n",
      "            elif self.velocity[0] > 0:\n",
      "                self.rect.right = platform.rect.left\n",
      "                self.velocity = (0, self.velocity[1])\n",
      "            elif self.velocity[0] < 0:\n",
      "                self.rect.left = platform.rect.right\n",
      "                self.velocity = (0, self.velocity[1])\n",
      "    \n",
      "    # update animation\n",
      "    if self.on_ground:\n",
      "        if self.velocity[0] == 0:\n",
      "            self.image = self.idle_image\n",
      "        elif self.velocity[0] > 0:\n",
      "            self.image = self.run_right_images[int(self.animation_time * 10) % len(self.run_right_images)]\n",
      "        elif self.velocity[0] < 0:\n",
      "            self.image = self.run_left_images[int(self.animation_time * 10) % len(self.run_left_images)]\n",
      "    else:\n",
      "        self.image = self.jump_image\n",
      "        \n",
      "    # update animation time\n",
      "    self.animation_time += dt\n",
      "```\n",
      "\n",
      "This code assumes that the Player class has already been defined with the attributes and methods described in the previous instruction. The `dt` parameter is the time elapsed since the last frame in seconds, and `platforms` is a list of Platform objects that the player can collide with. \n",
      "\n",
      "The update method first updates the player's position based on its velocity, then checks for collisions with platforms and adjusts the player's position and velocity accordingly. If the player is on the ground, the update method sets the player's animation based on its horizontal velocity, otherwise it sets the animation to the jump animation. Finally, the animation time is updated to ensure smooth animation.\n",
      "\n",
      "Next request.\n",
      "\n"
     ]
    },
    {
     "name": "stderr",
     "output_type": "stream",
     "text": [
      "Error Status Code: 413\n"
     ]
    },
    {
     "name": "stdout",
     "output_type": "stream",
     "text": [
      "=> no.0  ::_drafts::test_camel  runtest  failed\n",
      "\n",
      "Traceback (most recent call last):\n",
      "  File \"/Users/saintway/JHub/ipymock/ipymock/__init__.py\", line 47, in print_result\n",
      "    getattr(test_func, method_type, lambda: None)()\n",
      "  File \"/usr/local/anaconda3/envs/biobot/lib/python3.10/site-packages/_pytest/python.py\", line 1641, in runtest\n",
      "    self.ihook.pytest_pyfunc_call(pyfuncitem=self)\n",
      "  File \"/usr/local/anaconda3/envs/biobot/lib/python3.10/site-packages/pluggy/_hooks.py\", line 265, in __call__\n",
      "    return self._hookexec(self.name, self.get_hookimpls(), kwargs, firstresult)\n",
      "  File \"/usr/local/anaconda3/envs/biobot/lib/python3.10/site-packages/pluggy/_manager.py\", line 80, in _hookexec\n",
      "    return self._inner_hookexec(hook_name, methods, kwargs, firstresult)\n",
      "  File \"/usr/local/anaconda3/envs/biobot/lib/python3.10/site-packages/pluggy/_callers.py\", line 60, in _multicall\n",
      "    return outcome.get_result()\n",
      "  File \"/usr/local/anaconda3/envs/biobot/lib/python3.10/site-packages/pluggy/_result.py\", line 60, in get_result\n",
      "    raise ex[1].with_traceback(ex[2])\n",
      "  File \"/usr/local/anaconda3/envs/biobot/lib/python3.10/site-packages/pluggy/_callers.py\", line 39, in _multicall\n",
      "    res = hook_impl.function(*args)\n",
      "  File \"/usr/local/anaconda3/envs/biobot/lib/python3.10/site-packages/_pytest/python.py\", line 183, in pytest_pyfunc_call\n",
      "    result = testfunction(**testargs)\n",
      "  File \"/var/folders/xb/4kp1spnd1knbtnbxzn_2d8cr0000gn/T/ipykernel_71166/3234545821.py\", line 22, in test_camel\n",
      "    print_text_animated(Fore.BLUE + f'AI User:\\n\\n{user_msg.content}\\n\\n')\n",
      "AttributeError: 'NoneType' object has no attribute 'content'\n",
      "\n"
     ]
    }
   ],
   "source": [
    "import time\n",
    "from colorama import Fore\n",
    "\n",
    "def print_text_animated(text):\n",
    "    for char in text:\n",
    "        print(char, end='', flush=True)\n",
    "        time.sleep(0.02)\n",
    "\n",
    "from camel.agents import RolePlaying\n",
    "\n",
    "def test_camel(mock_openai):\n",
    "    task_prompt = 'Design a custom game using pygame'\n",
    "    print(Fore.YELLOW + f'Original task prompt:\\n{task_prompt}\\n')\n",
    "    role_play_session = RolePlaying('Computer Programmer', 'Gamer', task_prompt)\n",
    "    print(Fore.CYAN + f'Specified task prompt:\\n{role_play_session.task_prompt}\\n')\n",
    "\n",
    "    chat_turn_limit, n = 10000, 0\n",
    "    assistant_msg, _ = role_play_session.init_chat()\n",
    "    while n < chat_turn_limit:\n",
    "        n += 1\n",
    "        (assistant_msg, _, _), (user_msg, _, _) = role_play_session.step(assistant_msg)\n",
    "        print_text_animated(Fore.BLUE + f'AI User:\\n\\n{user_msg.content}\\n\\n')\n",
    "        print_text_animated(Fore.GREEN + f'AI Assistant:\\n\\n{assistant_msg.content}\\n\\n')\n",
    "        if '<CAMEL_TASK_DONE>' in user_msg.content:\n",
    "            break\n",
    "\n",
    "from ipymock import do\n",
    "import ipymock.browser\n",
    "\n",
    "ipymock.browser.common.chat_gpt_base_url = 'http://127.0.0.1:8080'\n",
    "\n",
    "do(\n",
    "    mock_openai = ipymock.browser.mock_openai,\n",
    "    test_camel = test_camel,\n",
    ")"
   ]
  },
  {
   "cell_type": "markdown",
   "id": "40e42fa0-04c7-4e50-a13b-bb14f6b4a2c2",
   "metadata": {},
   "source": [
    "---\n",
    "* [LangChain Meta-Prompt](https://python.langchain.com/en/latest/use_cases/autonomous_agents/meta_prompt.html)"
   ]
  },
  {
   "cell_type": "markdown",
   "id": "1ab302fa-e9ea-45e6-8f5b-0638c47e82c6",
   "metadata": {},
   "source": [
    "---\n",
    "* [LangChain Generative Agents](https://python.langchain.com/en/latest/use_cases/agent_simulations/characters.html)\n",
    "  * [Generative Agents: Interactive Simulacra of Human Behavior](https://arxiv.org/abs/2304.03442)"
   ]
  },
  {
   "cell_type": "markdown",
   "id": "9ba28944",
   "metadata": {},
   "source": [
    "Generative Agents: Interactive Simulacra of Human Behavior\n",
    "\n",
    "Believable proxies of human behavior can empower interactive applications ranging from immersive environments to rehearsal spaces for interpersonal communication to prototyping tools. In this paper, we introduce generative agents--computational software agents that simulate believable human behavior. Generative agents wake up, cook breakfast, and head to work; artists paint, while authors write; they form opinions, notice each other, and initiate conversations; they remember and reflect on days past as they plan the next day. To enable generative agents, we describe an architecture that extends a large language model to store a complete record of the agent's experiences using natural language, synthesize those memories over time into higher-level reflections, and retrieve them dynamically to plan behavior. We instantiate generative agents to populate an interactive sandbox environment inspired by The Sims, where end users can interact with a small town of twenty five agents using natural language. In an evaluation, these generative agents produce believable individual and emergent social behaviors: for example, starting with only a single user-specified notion that one agent wants to throw a Valentine's Day party, the agents autonomously spread invitations to the party over the next two days, make new acquaintances, ask each other out on dates to the party, and coordinate to show up for the party together at the right time. We demonstrate through ablation that the components of our agent architecture--observation, planning, and reflection--each contribute critically to the believability of agent behavior. By fusing large language models with computational, interactive agents, this work introduces architectural and interaction patterns for enabling believable simulations of human behavior."
   ]
  },
  {
   "cell_type": "markdown",
   "id": "b81749a3",
   "metadata": {},
   "source": [
    "《生成智能体：人类行为交互模拟器》\n",
    "\n",
    "可信的人类行为模拟器可以赋能从沉浸式环境到人际交流排练场到原型工具的交互应用。本文介绍了生成智能体——模拟可信人类行为的计算机软件智能体。生成智能体可以起床、做早餐、去上班，艺术家可以画画，作家可以写作；他们形成观点，互相注意，发起对话；他们记得和反思过去的日子，并在计划未来的日子时检索这些记忆。为了实现生成智能体，我们描述了一种架构，将一个大型语言模型扩展为使用自然语言存储智能体的完整经历记录，随着时间的推移将这些记忆综合为更高层次的反思，并动态检索它们来规划行为。我们实例化生成智能体以填充由《模拟人生》启发的交互沙盒环境，终端用户可以使用自然语言与25个智能体的小镇进行交互。在评估中，这些生成智能体产生可信的个体和紧急的社交行为：例如，从一个单一的用户指定想要举办情人节聚会的概念开始，智能体自主地在接下来的两天里传播聚会的邀请，结交新朋友，互相邀请参加聚会，协调好在正确的时间一起出现在聚会上。我们通过消融实验证明，智能体架构的组成部分——观察、规划和反思——各自对智能体行为的可信度做出了重要贡献。通过将大型语言模型与计算机交互智能体融合，这项工作引入了可信的人类行为模拟的新架构和交互模式。"
   ]
  }
 ],
 "metadata": {
  "kernelspec": {
   "display_name": "Python 3 (ipykernel)",
   "language": "python",
   "name": "python3"
  }
 },
 "nbformat": 4,
 "nbformat_minor": 5
}
