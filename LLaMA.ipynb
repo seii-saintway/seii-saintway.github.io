{
 "cells": [
  {
   "cell_type": "markdown",
   "id": "54b455ba-06d0-4c67-8950-5c425beef4ae",
   "metadata": {},
   "source": [
    "* [Inference code for LLaMA models](https://github.com/facebookresearch/llama)\n",
    "* [LLaMA: Open and Efficient Foundation Language Models](https://arxiv.org/abs/2302.13971)"
   ]
  },
  {
   "cell_type": "markdown",
   "id": "5daaca1a-fb3b-49e8-ac33-418d3081eaf7",
   "metadata": {},
   "source": [
    "* [ColossalAI](https://mp.weixin.qq.com/s/C9b_oZu9jpw0oObEuDmd9w)\n",
    "  * https://github.com/hpcaitech/ColossalAI\n",
    "* [LMFlow](https://mp.weixin.qq.com/s/LCGQyNA6sHcdfIIARSNlww)\n",
    "  * https://github.com/OptimalScale/LMFlow"
   ]
  },
  {
   "cell_type": "code",
   "execution_count": null,
   "id": "db1d14ff-f8b8-42dd-9d67-3d6795cb3ff6",
   "metadata": {},
   "outputs": [],
   "source": []
  }
 ],
 "metadata": {
  "kernelspec": {
   "display_name": "Python 3 (ipykernel)",
   "language": "python",
   "name": "python3"
  }
 },
 "nbformat": 4,
 "nbformat_minor": 5
}
