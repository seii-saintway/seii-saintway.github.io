{
 "cells": [
  {
   "cell_type": "markdown",
   "id": "54b455ba-06d0-4c67-8950-5c425beef4ae",
   "metadata": {},
   "source": [
    "* [Inference code for LLaMA models](https://github.com/facebookresearch/llama)\n",
    "* [LLaMA: Open and Efficient Foundation Language Models](https://arxiv.org/abs/2302.13971)"
   ]
  },
  {
   "cell_type": "markdown",
   "id": "8b7d1ecd-5ea0-4f01-9177-d5912a3933da",
   "metadata": {},
   "source": [
    "* https://vicuna.lmsys.org/\n",
    "* https://github.com/lm-sys/FastChat\n",
    "* https://chat.lmsys.org/"
   ]
  },
  {
   "cell_type": "markdown",
   "id": "5daaca1a-fb3b-49e8-ac33-418d3081eaf7",
   "metadata": {},
   "source": [
    "* [ColossalAI](https://mp.weixin.qq.com/s/C9b_oZu9jpw0oObEuDmd9w)\n",
    "  * https://github.com/hpcaitech/ColossalAI\n",
    "* [LMFlow](https://mp.weixin.qq.com/s/LCGQyNA6sHcdfIIARSNlww)\n",
    "  * https://github.com/OptimalScale/LMFlow"
   ]
  }
 ],
 "metadata": {
  "kernelspec": {
   "display_name": "Python 3 (ipykernel)",
   "language": "python",
   "name": "python3"
  }
 },
 "nbformat": 4,
 "nbformat_minor": 5
}
