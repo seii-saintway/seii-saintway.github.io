{
 "cells": [
  {
   "cell_type": "code",
   "execution_count": null,
   "id": "36ee99a9-65b1-40c7-9628-90b4ee8219dd",
   "metadata": {},
   "outputs": [
    {
     "name": "stdout",
     "output_type": "stream",
     "text": [
      "Collecting opencv-python\n",
      "  Downloading opencv_python-4.9.0.80-cp37-abi3-macosx_10_16_x86_64.whl (55.7 MB)\n",
      "\u001b[2K     \u001b[90m━━━━━━━━━━━━━━━━━━━━━━━━━━━━━━━━━━━━━━━━\u001b[0m \u001b[32m55.7/55.7 MB\u001b[0m \u001b[31m5.0 MB/s\u001b[0m eta \u001b[36m0:00:00\u001b[0m00:01\u001b[0m00:01\u001b[0m\n",
      "\u001b[?25hCollecting pyzbar\n",
      "  Downloading pyzbar-0.1.9-py2.py3-none-any.whl (32 kB)\n",
      "Requirement already satisfied: numpy>=1.17.0 in /usr/local/anaconda3/envs/ipymock/lib/python3.10/site-packages (from opencv-python) (1.24.2)\n",
      "Installing collected packages: pyzbar, opencv-python\n",
      "Successfully installed opencv-python-4.9.0.80 pyzbar-0.1.9\n"
     ]
    }
   ],
   "source": [
    "%%bash\n",
    "pip install opencv-python pyzbar"
   ]
  },
  {
   "cell_type": "code",
   "execution_count": null,
   "id": "c501fe4d-8ba1-4c39-abee-9279df5dc22f",
   "metadata": {},
   "outputs": [],
   "source": [
    "%%bash\n",
    "HOMEBREW_NO_AUTO_UPDATE=1 brew install zbar"
   ]
  },
  {
   "cell_type": "code",
   "execution_count": null,
   "id": "adb769eb-6acf-4b9c-b7fc-2af333779e1a",
   "metadata": {},
   "outputs": [],
   "source": [
    "import cv2"
   ]
  },
  {
   "cell_type": "code",
   "execution_count": null,
   "id": "a8943ea0-104a-4760-a9d4-012ccd63a410",
   "metadata": {},
   "outputs": [],
   "source": [
    "# 打开摄像头\n",
    "cap = cv2.VideoCapture(0)"
   ]
  },
  {
   "cell_type": "code",
   "execution_count": null,
   "id": "f53d4bdd-d53e-4c53-a8b1-ec3e2f42d9c1",
   "metadata": {},
   "outputs": [],
   "source": [
    "from pyzbar.pyzbar import decode"
   ]
  },
  {
   "cell_type": "code",
   "execution_count": null,
   "id": "cc041702-2a9d-4cb4-a20e-b6396c5f178d",
   "metadata": {},
   "outputs": [],
   "source": [
    "while True:\n",
    "    # 读取摄像头的每一帧\n",
    "    ret, frame = cap.read()\n",
    "\n",
    "    # 解码二维码\n",
    "    decoded_objects = decode(frame)\n",
    "\n",
    "    # 在图像上标记解码结果\n",
    "    for obj in decoded_objects:\n",
    "        print('Data:', obj.data.decode('utf-8'))\n",
    "        # 解码结果\n",
    "        x, y, w, h = obj.rect\n",
    "        cv2.rectangle(frame, (x, y), (x + w, y + h), (0, 255, 0), 2)\n",
    "        cv2.putText(frame, obj.data.decode('utf-8'), (x, y), cv2.FONT_HERSHEY_PLAIN, 1, (0, 0, 255), 1)\n",
    "\n",
    "    # 显示图像\n",
    "    cv2.imshow('frame', frame)\n",
    "\n",
    "    # 按下 'q' 键退出循环\n",
    "    if cv2.waitKey(1) & 0xFF == ord('q'):\n",
    "        break"
   ]
  },
  {
   "cell_type": "code",
   "execution_count": null,
   "id": "5e0bf6ae-6c47-40ef-9fa9-628ed19dc206",
   "metadata": {},
   "outputs": [],
   "source": [
    "# 释放摄像头并关闭窗口\n",
    "cap.release()\n",
    "cv2.destroyAllWindows()"
   ]
  }
 ],
 "metadata": {
  "kernelspec": {
   "display_name": "Python 3 (ipykernel)",
   "language": "python",
   "name": "python3"
  }
 },
 "nbformat": 4,
 "nbformat_minor": 5
}
