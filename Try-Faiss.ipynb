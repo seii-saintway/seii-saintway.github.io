{
 "cells": [
  {
   "cell_type": "code",
   "execution_count": null,
   "id": "570a2018-e93a-48a8-abd6-94aeb3cca5bf",
   "metadata": {},
   "outputs": [
    {
     "name": "stdout",
     "output_type": "stream",
     "text": [
      "Collecting faiss-cpu\n",
      "  Downloading faiss_cpu-1.7.3-cp310-cp310-macosx_10_9_x86_64.whl (5.6 MB)\n",
      "\u001b[2K     \u001b[90m━━━━━━━━━━━━━━━━━━━━━━━━━━━━━━━━━━━━━━━━\u001b[0m \u001b[32m5.6/5.6 MB\u001b[0m \u001b[31m6.7 MB/s\u001b[0m eta \u001b[36m0:00:00\u001b[0m00:01\u001b[0m00:01\u001b[0m\n",
      "\u001b[?25hInstalling collected packages: faiss-cpu\n",
      "Successfully installed faiss-cpu-1.7.3\n"
     ]
    }
   ],
   "source": [
    "%%bash\n",
    "pip install faiss-cpu"
   ]
  },
  {
   "cell_type": "markdown",
   "id": "4ee0cdc1-8426-4e00-9ee6-4ea7f6706931",
   "metadata": {},
   "source": [
    "---"
   ]
  },
  {
   "cell_type": "markdown",
   "id": "e67db560-77ec-43d5-a7e3-c64db6ef96db",
   "metadata": {},
   "source": [
    "Faiss 是一个用于高维向量相似性搜索和聚类的库，它支持 GPU 运算加速。要让 Faiss 使用 GPU，需要执行以下步骤：\n",
    "\n",
    "1. 确认您的计算机上已经安装了 CUDA 和 cuDNN。Faiss 支持的 CUDA 版本可以在 Faiss 文档中查看。\n",
    "\n",
    "2. 安装 Faiss GPU 版本。您可以使用 pip 安装 Faiss GPU 版本，方法是执行以下命令：\n",
    "\n",
    "   ```\n",
    "   pip install faiss-gpu\n",
    "   ```\n",
    "\n",
    "3. 在代码中指定 Faiss 使用 GPU 进行计算。在创建 Faiss Index 对象时，可以指定使用哪个设备。例如，如果要使用默认的 GPU 设备，可以执行以下代码：\n",
    "\n",
    "   ```python\n",
    "   import faiss\n",
    "   \n",
    "   # 创建一个 128 维的向量空间\n",
    "   d = 128\n",
    "   \n",
    "   # 创建一个 IndexFlatL2 对象，使用默认的 GPU 设备\n",
    "   index = faiss.IndexFlatL2(d)\n",
    "   ```\n",
    "\n",
    "   如果您有多个 GPU 设备，也可以在创建 Index 对象时指定使用哪个 GPU。例如，如果要使用第二个 GPU 设备，可以执行以下代码：\n",
    "\n",
    "   ```python\n",
    "   index = faiss.IndexFlatL2(d)\n",
    "   co = faiss.GpuMultipleClonerOptions()\n",
    "   co.select_device(1)\n",
    "   index = faiss.index_cpu_to_gpu(faiss.StandardGpuResources(), 1, index, co)\n",
    "   ```\n",
    "\n",
    "   在这个例子中，我们使用了 `faiss.GpuMultipleClonerOptions()` 创建了一个选项对象，然后调用了 `co.select_device(1)` 方法，将第二个 GPU 设备选为使用的设备。最后，我们使用 `faiss.index_cpu_to_gpu()` 方法将 Index 对象复制到 GPU 上。\n",
    "\n",
    "注意，使用 Faiss GPU 版本时，所有输入向量都必须是 float32 类型。如果您的向量是其他类型，需要先进行类型转换。此外，您需要将所有向量一起加载到 GPU 内存中，以便 Faiss 可以使用 GPU 进行计算。您可以使用 `faiss.StandardGpuResources()` 创建一个 GPU 资源对象，然后使用 `index.add()` 方法将向量添加到 Index 对象中。"
   ]
  },
  {
   "cell_type": "code",
   "execution_count": null,
   "id": "bd6a91a1-033d-402b-a7b7-cd1d88dc14e8",
   "metadata": {},
   "outputs": [],
   "source": [
    "%%bash\n",
    "pip install --upgrade faiss-gpu"
   ]
  },
  {
   "cell_type": "markdown",
   "id": "e203ce1f-8763-48a2-bf34-4dbf61a3d390",
   "metadata": {},
   "source": [
    "---"
   ]
  },
  {
   "cell_type": "markdown",
   "id": "8c0bfaba-c360-4dc5-9af0-388b06177192",
   "metadata": {},
   "source": [
    "在 Mac 上安装 CUDA 驱动程序需要进行以下步骤：\n",
    "\n",
    "1. 首先，你需要安装 Xcode 和 CUDA Toolkit。如果你已经安装了 Xcode，你可以在终端中输入以下命令来安装 CUDA Toolkit：\n",
    "\n",
    "   ```\n",
    "   brew install --cask cuda\n",
    "   ```\n",
    "\n",
    "2. 安装完成后，你需要将 CUDA 环境变量添加到你的 `~/.bash_profile` 文件中。你可以使用以下命令来打开该文件：\n",
    "\n",
    "   ```\n",
    "   open ~/.bash_profile\n",
    "   ```\n",
    "\n",
    "   然后在文件末尾添加以下行：\n",
    "\n",
    "   ```\n",
    "   export PATH=\"/usr/local/cuda/bin:$PATH\"\n",
    "   export DYLD_LIBRARY_PATH=\"/usr/local/cuda/lib:$DYLD_LIBRARY_PATH\"\n",
    "   ```\n",
    "\n",
    "3. 接下来，你需要安装 cuDNN（CUDA Deep Neural Network library）。你可以在 NVIDIA 的网站上下载 cuDNN 库，下载完成后，你需要将库文件解压到 `/usr/local/cuda/lib` 目录下。你可以使用以下命令来解压文件：\n",
    "\n",
    "   ```\n",
    "   tar -xvf cudnn-11.4-macos-arm64-v8.2.4.15.tgz\n",
    "   sudo cp cuda/include/cudnn*.h /usr/local/cuda/include\n",
    "   sudo cp cuda/lib/libcudnn* /usr/local/cuda/lib\n",
    "   sudo chmod a+r /usr/local/cuda/include/cudnn*.h /usr/local/cuda/lib/libcudnn*\n",
    "   ```\n",
    "\n",
    "4. 最后，你需要重新启动终端，以使环境变量生效。你可以使用以下命令来检查 CUDA 是否已正确安装：\n",
    "\n",
    "   ```\n",
    "   nvcc -V\n",
    "   ```\n",
    "\n",
    "   如果 CUDA 已正确安装，则会输出 CUDA 版本号和其他信息。\n",
    "\n",
    "请注意，AMD Radeon Pro 5500M 是一款 AMD 显卡，而 CUDA 是 NVIDIA 的技术。因此，如果你需要使用 CUDA，你需要在你的 Mac 上安装 NVIDIA 显卡。如果你想使用 AMD 显卡来进行深度学习等计算密集型任务，你可以考虑使用其他的技术，如 ROCm。"
   ]
  },
  {
   "cell_type": "code",
   "execution_count": null,
   "id": "f493500a-9df3-459d-a715-f6b317a4a559",
   "metadata": {},
   "outputs": [],
   "source": [
    "%%bash\n",
    "HOMEBREW_NO_AUTO_UPDATE=1 brew install --cask cuda"
   ]
  },
  {
   "cell_type": "markdown",
   "id": "09c8b2b8-94f1-49d9-8761-699e9f5c4ae4",
   "metadata": {},
   "source": [
    "---"
   ]
  },
  {
   "cell_type": "markdown",
   "id": "f566e91e-d3e1-4cec-bf94-343efc35aff0",
   "metadata": {},
   "source": [
    "ROCm（Radeon Open Compute）是一款由 AMD 开发的开源软件平台，旨在为 AMD 显卡提供高性能计算和深度学习功能。ROCm 包括对编程语言和编程模型的支持，包括 OpenMP、OpenCL、HIP（Heterogeneous-compute Interface for Portability）、TensorFlow 和 PyTorch 等，可以为各种计算密集型应用提供支持。\n",
    "\n",
    "ROCm 支持 Linux 平台和部分 Windows 平台，以及 AMD 的 Radeon 显卡和服务器级显卡，如 Radeon Instinct。ROCm 还支持一些第三方硬件，如 IBM 的 PowerPC 平台和 Cavium 的 ThunderX2。\n",
    "\n",
    "ROCm 不仅提供了 GPU 加速的计算能力，还支持 CPU 和 GPU 的协同计算，可以提高整个系统的计算性能。此外，ROCm 也为深度学习提供了一些特定的工具和库，如 MIOpen 和 RCCL。\n",
    "\n",
    "总之，ROCm 是一款功能强大的开源软件平台，为 AMD 显卡用户提供了许多高性能计算和深度学习的功能和工具。"
   ]
  },
  {
   "cell_type": "markdown",
   "id": "193775ba-0b59-4033-8ccb-c7a550c2d031",
   "metadata": {},
   "source": [
    "Faiss是一款基于GPU的高性能相似度搜索库，可以用于许多机器学习和深度学习任务。Faiss可以使用ROCm进行加速，从而提高搜索效率和准确性。\n",
    "\n",
    "以下是在Mac上使用ROCm和Faiss的一些基本步骤：\n",
    "\n",
    "1. 首先，你需要安装ROCm。你可以从[官方网站](https://rocmdocs.amd.com/en/revamp/Installation_Guide/Installation-Guide.html)下载并安装ROCm。\n",
    "\n",
    "2. 安装完成后，你需要设置一些环境变量。你可以在你的`~/.bash_profile`文件中添加以下行：\n",
    "\n",
    "```\n",
    "export PATH=$PATH:/opt/rocm/bin\n",
    "export LD_LIBRARY_PATH=$LD_LIBRARY_PATH:/opt/rocm/lib:/opt/rocm/hip/lib\n",
    "export HIP_PLATFORM=hcc\n",
    "export HCC_HOME=/opt/rocm/hcc\n",
    "```\n",
    "\n",
    "3. 然后，你需要安装Faiss。你可以使用以下命令在终端中安装Faiss：\n",
    "\n",
    "```\n",
    "pip install faiss-gpu\n",
    "```\n",
    "\n",
    "4. 安装完成后，你可以使用以下示例代码来测试Faiss是否正常工作：\n",
    "\n",
    "```python\n",
    "import numpy as np\n",
    "import faiss\n",
    "\n",
    "# 生成一些随机数据\n",
    "d = 64  # 向量维度\n",
    "nb = 100000  # 向量数量\n",
    "xb = np.random.random((nb, d)).astype('float32')\n",
    "\n",
    "# 构建索引\n",
    "index = faiss.IndexFlatL2(d)\n",
    "print(index.is_trained)\n",
    "index.add(xb)\n",
    "\n",
    "# 搜索\n",
    "k = 4\n",
    "xq = np.random.random((1, d)).astype('float32')\n",
    "D, I = index.search(xq, k)\n",
    "print(I)\n",
    "print(D)\n",
    "```\n",
    "\n",
    "如果Faiss正常工作，则应该能够正确地输出搜索结果。\n",
    "\n",
    "注意，使用ROCm加速Faiss需要满足一些硬件要求，如AMD显卡和支持ROCm的CPU。如果你的硬件不符合要求，你可能无法使用ROCm加速Faiss，或者搜索效率和准确性可能会受到影响。"
   ]
  }
 ],
 "metadata": {
  "kernelspec": {
   "display_name": "Python 3 (ipykernel)",
   "language": "python",
   "name": "python3"
  }
 },
 "nbformat": 4,
 "nbformat_minor": 5
}
