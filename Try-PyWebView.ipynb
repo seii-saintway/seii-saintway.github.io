{
 "cells": [
  {
   "cell_type": "code",
   "execution_count": null,
   "id": "967def43-d8d2-4b16-8d2f-2762ce759967",
   "metadata": {},
   "outputs": [],
   "source": [
    "%%bash\n",
    "pip3 install pywebview"
   ]
  },
  {
   "cell_type": "code",
   "execution_count": null,
   "id": "b016f446-4564-4128-8739-2f54e2e4196c",
   "metadata": {},
   "outputs": [
    {
     "name": "stderr",
     "output_type": "stream",
     "text": [
      "2024-10-01 19:46:49.015 python[4889:119965] Warning: Expected min height of view: (<NSPopoverTouchBarItemButton: 0x7f85c511ab50>) to be less than or equal to 30 but got a height of 32.000000. This error will be logged once per view in violation.\n"
     ]
    }
   ],
   "source": [
    "import webview\n",
    "\n",
    "# 创建一个窗口并加载URL\n",
    "def create_window():\n",
    "    webview.create_window('Hello world', 'https://www.google.com')\n",
    "\n",
    "create_window()\n",
    "webview.start()"
   ]
  },
  {
   "cell_type": "code",
   "execution_count": null,
   "id": "594381fe-6ffd-4646-927b-b124ae5613c0",
   "metadata": {},
   "outputs": [],
   "source": [
    "%%bash\n",
    "pip3 install dash"
   ]
  },
  {
   "cell_type": "code",
   "execution_count": null,
   "id": "59e0a6d2-b557-43b0-a35b-1831fc5bc9d2",
   "metadata": {},
   "outputs": [],
   "source": [
    "import sys\n",
    "from dash import Dash, html\n",
    "\n",
    "# 创建 Dash 应用\n",
    "app = Dash(__name__)\n",
    "\n",
    "# 定义 Dash 布局\n",
    "app.layout = html.Div([\n",
    "    html.H1(\"Dash in CEF Python\"),\n",
    "    html.P(\"This is a Dash app embedded in a CEF Python browser.\")\n",
    "])\n",
    "\n",
    "# 启动 Dash 应用\n",
    "def run_dash():\n",
    "    app.run_server(port=8050)\n",
    "\n",
    "import threading\n",
    "import time\n",
    "\n",
    "# 使用线程并行运行 Dash 和 CEF\n",
    "dash_thread = threading.Thread(target=run_dash)\n",
    "dash_thread.start()\n",
    "\n",
    "# 确保 Dash 服务器启动后再启动 CEF\n",
    "time.sleep(2)  # 等待 Dash 启动\n",
    "\n",
    "# from cefpython3 import cefpython as cef\n",
    "\n",
    "# # 启动 CEF 浏览器，加载 Dash 应用\n",
    "# def run_cef():\n",
    "#     sys.excepthook = cef.ExceptHook  # 处理异常\n",
    "#     cef.Initialize()\n",
    "#     browser = cef.CreateBrowserSync(url=\"http://127.0.0.1:8050\")\n",
    "#     cef.MessageLoop()\n",
    "#     cef.Shutdown()\n",
    "\n",
    "# run_cef()\n",
    "\n",
    "import webview\n",
    "\n",
    "# 创建一个窗口并加载URL\n",
    "def create_window():\n",
    "    webview.create_window('Dash with PyWebView', 'http://127.0.0.1:8050')\n",
    "\n",
    "create_window()\n",
    "webview.start()"
   ]
  },
  {
   "cell_type": "code",
   "execution_count": null,
   "id": "77d0b792-3e36-4d64-9a15-29ea8a1988b4",
   "metadata": {},
   "outputs": [],
   "source": [
    "%%bash\n",
    "pip3 install dash_bootstrap_components"
   ]
  },
  {
   "cell_type": "code",
   "execution_count": null,
   "id": "c57ab6a4-3dcb-441f-8dbd-c5a35b9ac391",
   "metadata": {},
   "outputs": [],
   "source": [
    "import dash\n",
    "from dash import html\n",
    "from dash.dependencies import Input, Output, State\n",
    "import dash_bootstrap_components as dbc\n",
    "\n",
    "# 创建 Dash app，并使用 Bootstrap 主题\n",
    "app = dash.Dash(__name__, external_stylesheets=[dbc.themes.BOOTSTRAP])\n",
    "\n",
    "# 定义页面布局\n",
    "app.layout = html.Div([\n",
    "    dbc.Button(\"Open Sleep Dialog\", id=\"open-sleep-btn\", color=\"primary\"),\n",
    "    \n",
    "    dbc.Modal([\n",
    "        dbc.ModalHeader(dbc.ModalTitle(\"Sleep Dialog\")),\n",
    "        dbc.ModalBody(\"Do you want to take a nap?\"),\n",
    "        dbc.ModalFooter(\n",
    "            dbc.Button(\"Close\", id=\"close-sleep-btn\", className=\"ms-auto\")\n",
    "        ),\n",
    "    ], id=\"sleep-modal\", is_open=False)\n",
    "])\n",
    "\n",
    "# 回调函数，用于打开和关闭对话框\n",
    "@app.callback(\n",
    "    Output(\"sleep-modal\", \"is_open\"),\n",
    "    [Input(\"open-sleep-btn\", \"n_clicks\"), Input(\"close-sleep-btn\", \"n_clicks\")],\n",
    "    [State(\"sleep-modal\", \"is_open\")]\n",
    ")\n",
    "def toggle_modal(open_clicks, close_clicks, is_open):\n",
    "    if open_clicks or close_clicks:\n",
    "        return not is_open\n",
    "    return is_open\n",
    "\n",
    "# 启动 Dash\n",
    "app.run_server(debug=True, use_reloader=False)\n",
    "\n",
    "# from cefpython3 import cefpython as cef\n",
    "\n",
    "# # 初始化CEF\n",
    "# def init_cef():\n",
    "#     cef.Initialize()\n",
    "\n",
    "# # 关闭CEF\n",
    "# def close_cef():\n",
    "#     cef.Shutdown()\n",
    "\n",
    "# # 运行 Dash 应用\n",
    "# init_cef()\n",
    "\n",
    "# # 创建 CEF 窗口\n",
    "# cef.CreateBrowserSync(url=\"http://127.0.0.1:8050\", window_title=\"Dash with CEF\")\n",
    "\n",
    "# cef.MessageLoop()\n",
    "# close_cef()\n",
    "\n",
    "import webview\n",
    "\n",
    "# 创建一个窗口并加载URL\n",
    "def create_window():\n",
    "    webview.create_window('Dash with PyWebView', 'http://127.0.0.1:8050')\n",
    "\n",
    "create_window()\n",
    "webview.start()"
   ]
  }
 ],
 "metadata": {
  "kernelspec": {
   "display_name": "Python 3 (ipykernel)",
   "language": "python",
   "name": "python3"
  },
  "language_info": {
   "codemirror_mode": {
    "name": "ipython",
    "version": 3
   },
   "file_extension": ".py",
   "mimetype": "text/x-python",
   "name": "python",
   "nbconvert_exporter": "python",
   "pygments_lexer": "ipython3",
   "version": "3.9.13"
  }
 },
 "nbformat": 4,
 "nbformat_minor": 5
}
