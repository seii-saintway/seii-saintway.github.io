{
 "cells": [
  {
   "cell_type": "markdown",
   "id": "4b514d62",
   "metadata": {},
   "source": [
    "<ruby>朝<rt>あさ</rt></ruby>の<ruby>養<rt>やしな</rt></ruby>い\n",
    "\n",
    "ヨハネ14:3　わたしが<ruby>行<rt>い</rt></ruby>って、あなたがたのために<ruby>場所<rt>ばしょ</rt></ruby>を<ruby>用意<rt>ようい</rt></ruby>したなら、<ruby>再<rt>ふたた</rt></ruby>び<ruby>来<rt>き</rt></ruby>て、あなたがたをわたし<ruby>自身<rt>じしん</rt></ruby>に<ruby>迎<rt>むか</rt></ruby>える．わたしがいる<ruby>所<rt>ところ</rt></ruby>に、あなたがたもいるようになるためである。\n",
    "20　その<ruby>日<rt>ひ</rt></ruby>には、わたしがわたしの<ruby>父<rt>ちち</rt></ruby>の<ruby>中<rt>なか</rt></ruby>におり、あなたがたがわたしの<ruby>中<rt>なか</rt></ruby>におり、わたしがあなたがたの<ruby>中<rt>なか</rt></ruby>にいることを、あなたがたは<ruby>知<rt>し</rt></ruby>るであろう。\n",
    "\n",
    "　<ruby>主<rt>しゅ</rt></ruby>の<ruby>贖<rt>あがな</rt></ruby>いは、わたしたちのために<ruby>天<rt>てん</rt></ruby>に<ruby>場所<rt>ばしょ</rt></ruby>を<ruby>用意<rt>ようい</rt></ruby>することではありませんでした。<ruby>主<rt>しゅ</rt></ruby>の<ruby>贖<rt>あがな</rt></ruby>いは、わたしたちのために<ruby>神<rt>かみ</rt></ruby>の<ruby>中<rt>なか</rt></ruby>に<ruby>場所<rt>ばしょ</rt></ruby>を<ruby>用意<rt>ようい</rt></ruby>することでした。……この<ruby>思想<rt>しそう</rt></ruby>は<ruby>最高<rt>さいこう</rt></ruby>の<ruby>水準<rt>すいじゅん</rt></ruby>にあります。<ruby>主<rt>しゅ</rt></ruby>はわたしたちを<ruby>贖<rt>あがな</rt></ruby>って、わたしたちを<ruby>神<rt>かみ</rt></ruby>の<ruby>中<rt>なか</rt></ruby>へともたらし、わたしたちのために<ruby>神<rt>かみ</rt></ruby>の<ruby>中<rt>なか</rt></ruby>に<ruby>場所<rt>ばしょ</rt></ruby>を<ruby>用意<rt>ようい</rt></ruby>されました。……わたしたちは<ruby>贖<rt>あがな</rt></ruby>われた<ruby>後<rt>あと</rt></ruby>、<ruby>救<rt>すく</rt></ruby>われた<ruby>後<rt>あと</rt></ruby>、<ruby>再生<rt>さいせい</rt></ruby>された<ruby>後<rt>あと</rt></ruby>、わたしたちはどこにいるか、どうかわたしに<ruby>告<rt>つ</rt></ruby>げてください。わたしたちは<ruby>キリスト<rt>きりすと</rt></ruby>の<ruby>中<rt>なか</rt></ruby>に、また<ruby>神<rt>かみ</rt></ruby>の<ruby>中<rt>なか</rt></ruby>にいるのです。ヨハネの<ruby>第一<rt>だいいち</rt></ruby>の<ruby>手紙<rt>てがみ</rt></ruby>でさえ、わたしたちは<ruby>神<rt>かみ</rt></ruby>の<ruby>中<rt>なか</rt></ruby>に<ruby>住<rt>す</rt></ruby>み、<ruby>神<rt>かみ</rt></ruby>はわたしたちの<ruby>中<rt>なか</rt></ruby>に<ruby>住<rt>す</rt></ruby>まれることを<ruby>啓示<rt>けいじ</rt></ruby>しています（4:13）。<ruby>全新約<rt>ぜんしんやく</rt></ruby>を<ruby>通<rt>とお</rt></ruby>しての<ruby>中心<rt>ちゅうしん</rt></ruby><ruby>思想<rt>しそう</rt></ruby>は、わたしたちが<ruby>救<rt>すく</rt></ruby>われ<ruby>再生<rt>さいせい</rt></ruby>された<ruby>後<rt>あと</rt></ruby>、<ruby>神<rt>かみ</rt></ruby>の<ruby>中<rt>なか</rt></ruby>に、また<ruby>キリスト<rt>きりすと</rt></ruby>の<ruby>中<rt>なか</rt></ruby>にいるということです。<ruby>神<rt>かみ</rt></ruby>と<ruby>キリスト<rt>きりすと</rt></ruby>はわたしたちの<ruby>住<rt>す</rt></ruby>まいです。さらに、わたしたちは<ruby>神<rt>かみ</rt></ruby>のための<ruby>住<rt>す</rt></ruby>まいとなりました。こうして、<ruby>神<rt>かみ</rt></ruby>とわたしたち、わたしたちと<ruby>神<rt>かみ</rt></ruby>は、<ruby>相互<rt>そうご</rt></ruby>の<ruby>住<rt>す</rt></ruby>まいです。……<ruby>主<rt>しゅ</rt></ruby>が<ruby>場所<rt>ばしょ</rt></ruby>を<ruby>用意<rt>ようい</rt></ruby>しておられたのは、わたしたちが<ruby>神<rt>かみ</rt></ruby>の<ruby>中<rt>なか</rt></ruby>へと<ruby>入<rt>はい</rt></ruby>り、<ruby>主<rt>しゅ</rt></ruby>が<ruby>彼<rt>かれ</rt></ruby>の<ruby>贖<rt>あがな</rt></ruby>いによってわたしたちを<ruby>神<rt>かみ</rt></ruby>の<ruby>中<rt>なか</rt></ruby>へともたらすためでした。<ruby>彼<rt>かれ</rt></ruby>の<ruby>死<rt>し</rt></ruby>と<ruby>復活<rt>ふっかつ</rt></ruby>によって、<ruby>彼<rt>かれ</rt></ruby>はわたしたちを<ruby>神<rt>かみ</rt></ruby>の<ruby>中<rt>なか</rt></ruby>へともたらされました。<ruby>主<rt>しゅ</rt></ruby>を<ruby>賛美<rt>さんび</rt></ruby>します。わたしたち<ruby>一人<rt>ひとり</rt></ruby><ruby>一人<rt>ひとり</rt></ruby>は<ruby>神<rt>かみ</rt></ruby>の<ruby>中<rt>なか</rt></ruby>に<ruby>場所<rt>ばしょ</rt></ruby>を<ruby>持<rt>も</rt></ruby>っています！（「ヨハネによる<ruby>福音書<rt>ふくいんしょ</rt></ruby>ライフスタディ（2）」、<ruby>第30編<rt>だい30へん</rt></ruby>）"
   ]
  }
 ],
 "metadata": {
  "kernelspec": {
   "display_name": "Python 3 (ipykernel)",
   "language": "python",
   "name": "python3"
  },
  "language_info": {
   "codemirror_mode": {
    "name": "ipython",
    "version": 3
   },
   "file_extension": ".py",
   "mimetype": "text/x-python",
   "name": "python",
   "nbconvert_exporter": "python",
   "pygments_lexer": "ipython3",
   "version": "3.9.13"
  }
 },
 "nbformat": 4,
 "nbformat_minor": 5
}
