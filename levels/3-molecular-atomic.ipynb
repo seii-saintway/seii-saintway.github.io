{
 "cells": [
  {
   "cell_type": "markdown",
   "id": "31431ef6-4a93-444a-8574-258e908a15f5",
   "metadata": {},
   "source": [
    "1. **Law of Mass Action**（质量作用定律）：\n",
    "   - 描述反应物和产物之间的关系。\n",
    "   $$\n",
    "   \\frac{{d[A]}}{{dt}} = k_f [A][B] - k_r [C][D]\n",
    "   $$\n",
    "   其中，$[A]$、$[B]$、$[C]$、$[D]$ 是反应物和产物的浓度，$k_f$ 和 $k_r$ 分别是正向和逆向反应速率常数。"
   ]
  }
 ],
 "metadata": {
  "kernelspec": {
   "display_name": "Python 3 (ipykernel)",
   "language": "python",
   "name": "python3"
  },
  "language_info": {
   "codemirror_mode": {
    "name": "ipython",
    "version": 3
   },
   "file_extension": ".py",
   "mimetype": "text/x-python",
   "name": "python",
   "nbconvert_exporter": "python",
   "pygments_lexer": "ipython3",
   "version": "3.9.13"
  }
 },
 "nbformat": 4,
 "nbformat_minor": 5
}
