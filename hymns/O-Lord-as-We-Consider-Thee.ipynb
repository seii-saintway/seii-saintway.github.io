{
 "cells": [
  {
   "cell_type": "markdown",
   "id": "e9cea561-6cb5-4aa0-b20f-2de3f96b4509",
   "metadata": {},
   "source": [
    "[O Lord, as We Consider Thee](https://www.hymnal.net/en/hymn/h/190)"
   ]
  },
  {
   "cell_type": "code",
   "execution_count": null,
   "id": "e3e68bf7-d670-4763-8747-fdc131a9ee0f",
   "metadata": {},
   "outputs": [],
   "source": [
    "from pyknp import Juman\n",
    "juman = Juman()\n",
    "\n",
    "def halfwidth_to_fullwidth(text):\n",
    "    result = ''\n",
    "    for char in text:\n",
    "        code = ord(char)\n",
    "        if code == ord(' '):\n",
    "            result += '　'\n",
    "        elif ord('!') <= code <= ord('~'):\n",
    "            # Convert ASCII characters in the range 0x0021 to 0x007E\n",
    "            result += chr(code + 0xFEE0)\n",
    "        else:\n",
    "            result += char\n",
    "    return result\n",
    "\n",
    "def render(text):\n",
    "    for line in halfwidth_to_fullwidth(text).split('\\n'):\n",
    "        if line == '':\n",
    "            yield '\\n'\n",
    "            continue\n",
    "        mrphs = juman.analysis(line).mrph_list()\n",
    "        for mrph in mrphs:\n",
    "            if mrph.midasi == mrph.yomi:\n",
    "                yield mrph.midasi\n",
    "            else:\n",
    "                yield '　{}［{}］'.format(\n",
    "                    mrph.midasi,\n",
    "                    mrph.yomi\n",
    "                )\n",
    "        yield '\\n'\n",
    "\n",
    "def render_to_latex(text):\n",
    "    for line in halfwidth_to_fullwidth(text).split('\\n'):\n",
    "        if line == '':\n",
    "            yield ''\n",
    "            continue\n",
    "        mrphs = juman.analysis(line).mrph_list()\n",
    "        line_rendered = ''\n",
    "        for mrph in mrphs:\n",
    "            line_rendered += f'\\\\frac{{{mrph.yomi}}}{{{mrph.midasi}}}'\n",
    "        yield line_rendered"
   ]
  },
  {
   "cell_type": "code",
   "execution_count": null,
   "id": "0ba437cc-e24b-4d17-9040-25d053f3f329",
   "metadata": {},
   "outputs": [
    {
     "data": {
      "text/latex": [
       "$\\displaystyle $"
      ],
      "text/plain": [
       "<IPython.core.display.Math object>"
      ]
     },
     "metadata": {},
     "output_type": "display_data"
    },
    {
     "data": {
      "text/latex": [
       "$\\displaystyle \\frac{１５７}{１５７}\\frac{　}{　}\\frac{しゅ}{主}\\frac{を}{を}\\frac{さんび}{賛美}\\frac{する}{する}\\frac{　}{　}\\frac{―}{―}\\frac{　}{　}\\frac{かれ}{彼}\\frac{の}{の}\\frac{すべて}{すべて}\\frac{を}{を}\\frac{ふくむ}{含む}\\frac{こと}{こと}\\frac{　}{　}\\frac{（}{（}\\frac{えい}{英}\\frac{１９０}{１９０}\\frac{）}{）}$"
      ],
      "text/plain": [
       "<IPython.core.display.Math object>"
      ]
     },
     "metadata": {},
     "output_type": "display_data"
    },
    {
     "data": {
      "text/latex": [
       "$\\displaystyle \\frac{１．}{１．}\\frac{なれ}{なれ}\\frac{を}{を}\\frac{おもう}{おもう}\\frac{たび}{たび}\\frac{，}{，}\\frac{　}{　}\\frac{　}{　}\\frac{われ}{われ}\\frac{られ}{られ}\\frac{いはい}{いはい}\\frac{す}{す}\\frac{；}{；}$"
      ],
      "text/plain": [
       "<IPython.core.display.Math object>"
      ]
     },
     "metadata": {},
     "output_type": "display_data"
    },
    {
     "data": {
      "text/latex": [
       "$\\displaystyle \\frac{くす}{くす}\\frac{しく}{しく}\\frac{，}{，}\\frac{ほうふな}{ほう富な}\\frac{しゅ}{主}\\frac{，}{，}\\frac{　}{　}\\frac{　}{　}\\frac{いかに}{いかに}\\frac{あいす}{あいす}\\frac{べき}{べき}\\frac{。}{。}$"
      ],
      "text/plain": [
       "<IPython.core.display.Math object>"
      ]
     },
     "metadata": {},
     "output_type": "display_data"
    },
    {
     "data": {
      "text/latex": [
       "$\\displaystyle \\frac{（}{（}\\frac{ふく}{復}\\frac{）}{）}$"
      ],
      "text/plain": [
       "<IPython.core.display.Math object>"
      ]
     },
     "metadata": {},
     "output_type": "display_data"
    },
    {
     "data": {
      "text/latex": [
       "$\\displaystyle \\frac{ひつよう}{ひつよう}\\frac{みたす}{満たす}\\frac{しゅ}{主}\\frac{よ}{よ}\\frac{，}{，}\\frac{　}{　}\\frac{　}{　}\\frac{さんび}{賛美}\\frac{あふれ}{あふれ}\\frac{な}{な}\\frac{がる}{がる}\\frac{！}{！}$"
      ],
      "text/plain": [
       "<IPython.core.display.Math object>"
      ]
     },
     "metadata": {},
     "output_type": "display_data"
    },
    {
     "data": {
      "text/latex": [
       "$\\displaystyle \\frac{わが}{わが}\\frac{ねがい}{ねがい}\\frac{に}{に}\\frac{まさり}{まさり}\\frac{，}{，}\\frac{　}{　}\\frac{　}{　}\\frac{たえず}{絶えず}\\frac{しゅ}{主}\\frac{は}{は}\\frac{みたす}{満たす}\\frac{！}{！}$"
      ],
      "text/plain": [
       "<IPython.core.display.Math object>"
      ]
     },
     "metadata": {},
     "output_type": "display_data"
    },
    {
     "data": {
      "text/latex": [
       "$\\displaystyle $"
      ],
      "text/plain": [
       "<IPython.core.display.Math object>"
      ]
     },
     "metadata": {},
     "output_type": "display_data"
    },
    {
     "data": {
      "text/latex": [
       "$\\displaystyle \\frac{２．}{２．}\\frac{まこと}{まこと}\\frac{に}{に}\\frac{なれ}{なれ}\\frac{かみ}{かみ}\\frac{，}{，}\\frac{　}{　}\\frac{　}{　}\\frac{ひかり}{ひかり}\\frac{，}{，}\\frac{あい}{あい}\\frac{の}{の}\\frac{かみ}{かみ}\\frac{；}{；}$"
      ],
      "text/plain": [
       "<IPython.core.display.Math object>"
      ]
     },
     "metadata": {},
     "output_type": "display_data"
    },
    {
     "data": {
      "text/latex": [
       "$\\displaystyle \\frac{われ}{われ}\\frac{の}{の}\\frac{いのち}{いのち}\\frac{と}{と}\\frac{なり}{なり}\\frac{，}{，}\\frac{　}{　}\\frac{　}{　}\\frac{めぐみ}{めぐみ}\\frac{を}{を}\\frac{あたえる}{あたえる}\\frac{。}{。}$"
      ],
      "text/plain": [
       "<IPython.core.display.Math object>"
      ]
     },
     "metadata": {},
     "output_type": "display_data"
    },
    {
     "data": {
      "text/latex": [
       "$\\displaystyle $"
      ],
      "text/plain": [
       "<IPython.core.display.Math object>"
      ]
     },
     "metadata": {},
     "output_type": "display_data"
    },
    {
     "data": {
      "text/latex": [
       "$\\displaystyle \\frac{３．}{３．}\\frac{まことに}{まことに}\\frac{なれ}{なれ}\\frac{ひと}{ひと}\\frac{，}{，}\\frac{　}{　}\\frac{　}{　}\\frac{きよく}{きよく}\\frac{，}{，}\\frac{にゅうわな}{柔和な}\\frac{ひと}{ひと}\\frac{；}{；}$"
      ],
      "text/plain": [
       "<IPython.core.display.Math object>"
      ]
     },
     "metadata": {},
     "output_type": "display_data"
    },
    {
     "data": {
      "text/latex": [
       "$\\displaystyle \\frac{かみ}{かみ}\\frac{に}{に}\\frac{よろこば}{よろこば}\\frac{れて}{れて}\\frac{，}{，}\\frac{　}{　}\\frac{　}{　}\\frac{われ}{われ}\\frac{を}{を}\\frac{あいす}{あいす}\\frac{ひと}{ひと}\\frac{。}{。}$"
      ],
      "text/plain": [
       "<IPython.core.display.Math object>"
      ]
     },
     "metadata": {},
     "output_type": "display_data"
    },
    {
     "data": {
      "text/latex": [
       "$\\displaystyle $"
      ],
      "text/plain": [
       "<IPython.core.display.Math object>"
      ]
     },
     "metadata": {},
     "output_type": "display_data"
    },
    {
     "data": {
      "text/latex": [
       "$\\displaystyle \\frac{４．}{４．}\\frac{なれ}{なれ}\\frac{，}{，}\\frac{いやしく}{いやしく}\\frac{なり}{なり}\\frac{，}{，}\\frac{　}{　}\\frac{　}{　}\\frac{どれい}{奴れい}\\frac{と}{と}\\frac{さえ}{さえ}\\frac{なる}{なる}\\frac{；}{；}$"
      ],
      "text/plain": [
       "<IPython.core.display.Math object>"
      ]
     },
     "metadata": {},
     "output_type": "display_data"
    },
    {
     "data": {
      "text/latex": [
       "$\\displaystyle \\frac{しぬ}{死ぬ}\\frac{まで}{まで}\\frac{した}{した}\\frac{が}{が}\\frac{えり}{えり}\\frac{，}{，}\\frac{　}{　}\\frac{　}{　}\\frac{われ}{われ}\\frac{ら}{ら}\\frac{すくう}{すくう}\\frac{ため}{ため}\\frac{。}{。}$"
      ],
      "text/plain": [
       "<IPython.core.display.Math object>"
      ]
     },
     "metadata": {},
     "output_type": "display_data"
    },
    {
     "data": {
      "text/latex": [
       "$\\displaystyle $"
      ],
      "text/plain": [
       "<IPython.core.display.Math object>"
      ]
     },
     "metadata": {},
     "output_type": "display_data"
    },
    {
     "data": {
      "text/latex": [
       "$\\displaystyle \\frac{５．}{５．}\\frac{めぐみ}{めぐみ}\\frac{の}{の}\\frac{しゅ}{主}\\frac{，}{，}\\frac{また}{また}\\frac{おう}{王}\\frac{，}{，}\\frac{　}{　}\\frac{　}{　}\\frac{かみ}{かみ}\\frac{に}{に}\\frac{たて}{立て}\\frac{られる}{られる}\\frac{；}{；}$"
      ],
      "text/plain": [
       "<IPython.core.display.Math object>"
      ]
     },
     "metadata": {},
     "output_type": "display_data"
    },
    {
     "data": {
      "text/latex": [
       "$\\displaystyle \\frac{いのち}{いのち}\\frac{，}{，}\\frac{あい}{愛}\\frac{もて}{もて}\\frac{しはい}{支配}\\frac{し}{し}\\frac{，}{，}\\frac{　}{　}\\frac{　}{　}\\frac{われ}{われ}\\frac{ともに}{ともに}\\frac{おさむ}{おさむ}\\frac{。}{。}$"
      ],
      "text/plain": [
       "<IPython.core.display.Math object>"
      ]
     },
     "metadata": {},
     "output_type": "display_data"
    },
    {
     "data": {
      "text/latex": [
       "$\\displaystyle $"
      ],
      "text/plain": [
       "<IPython.core.display.Math object>"
      ]
     },
     "metadata": {},
     "output_type": "display_data"
    },
    {
     "data": {
      "text/latex": [
       "$\\displaystyle \\frac{６．}{６．}\\frac{なれ}{なれ}\\frac{を}{を}\\frac{おもう}{おもう}\\frac{たび}{たび}\\frac{，}{，}\\frac{　}{　}\\frac{　}{　}\\frac{なれ}{なれ}\\frac{を}{を}\\frac{きょうじゅ}{きょう受}\\frac{する}{する}\\frac{；}{；}$"
      ],
      "text/plain": [
       "<IPython.core.display.Math object>"
      ]
     },
     "metadata": {},
     "output_type": "display_data"
    },
    {
     "data": {
      "text/latex": [
       "$\\displaystyle \\frac{あい}{あい}\\frac{にて}{にて}\\frac{しゅ}{主}\\frac{ご}{ご}\\frac{じしん}{自身}\\frac{を}{を}\\frac{　}{　}\\frac{　}{　}\\frac{とわに}{とわに}\\frac{あたえ}{あたえ}\\frac{ませ}{ませ}\\frac{。}{。}$"
      ],
      "text/plain": [
       "<IPython.core.display.Math object>"
      ]
     },
     "metadata": {},
     "output_type": "display_data"
    },
    {
     "data": {
      "text/latex": [
       "$\\displaystyle $"
      ],
      "text/plain": [
       "<IPython.core.display.Math object>"
      ]
     },
     "metadata": {},
     "output_type": "display_data"
    }
   ],
   "source": [
    "from IPython.display import Math\n",
    "\n",
    "for line in render_to_latex(\"\"\"\n",
    "１５７　主を賛美する　―　彼のすべてを含むこと (英190)\n",
    "１．なれをおもうたび， 　われられいはいす;\n",
    "　　くすしく，ほう富な主， 　いかにあいすべき。\n",
    "　　(復)\n",
    "　　ひつよう満たす主よ， 　賛美あふれながる！\n",
    "　　わがねがいにまさり， 　絶えず主は満たす！\n",
    "\n",
    "２．まことになれかみ， 　ひかり，あいのかみ;\n",
    "　　われのいのちとなり， 　めぐみをあたえる。\n",
    "\n",
    "３．まことになれひと， 　きよく，柔和なひと;\n",
    "　　かみによろこばれて， 　われをあいすひと。\n",
    "\n",
    "４．なれ，いやしくなり， 　奴れいとさえなる;\n",
    "　　死ぬまでしたがえり， 　われらすくうため。\n",
    "\n",
    "５．めぐみの主，また王， 　かみに立てられる;\n",
    "　　いのち，愛もて支配し， 　われともにおさむ。\n",
    "\n",
    "６．なれをおもうたび， 　なれをきょう受する;\n",
    "　　あいにて主ご自身を 　とわにあたえませ。\n",
    "\"\"\"):\n",
    "    display(Math(line))"
   ]
  }
 ],
 "metadata": {
  "kernelspec": {
   "display_name": "Python 3 (ipykernel)",
   "language": "python",
   "name": "python3"
  }
 },
 "nbformat": 4,
 "nbformat_minor": 5
}
