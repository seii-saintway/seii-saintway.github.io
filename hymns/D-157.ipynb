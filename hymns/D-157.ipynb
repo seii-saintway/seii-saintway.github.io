{
 "cells": [
  {
   "cell_type": "markdown",
   "id": "cf992e97-f918-4667-8119-dfff186c9628",
   "metadata": {},
   "source": [
    "$\\frac{１５７}{１５７}\\frac{　}{　}\\frac{しゅ}{主}\\frac{を}{を}\\frac{さんび}{賛美}\\frac{する}{する}\\frac{　}{　}\\frac{―}{―}\\frac{　}{　}\\frac{かれ}{彼}\\frac{の}{の}\\frac{すべて}{すべて}\\frac{を}{を}\\frac{ふくむ}{含む}\\frac{こと}{こと}\\frac{　}{　}\\frac{（}{（}\\frac{えい}{英}\\frac{１９０}{１９０}\\frac{）}{）}$\n",
    "\n",
    "$\\frac{１．}{１．}\\frac{なれ}{なれ}\\frac{を}{を}\\frac{おもう}{おもう}\\frac{たび}{たび}\\frac{，}{，}\\frac{　}{　}\\frac{　}{　}\\frac{われ}{われ}\\frac{られ}{られ}\\frac{いはい}{いはい}\\frac{す}{す}\\frac{；}{；}$\n",
    "\n",
    "$\\frac{くす}{くす}\\frac{しく}{しく}\\frac{，}{，}\\frac{ほうふな}{ほう富な}\\frac{しゅ}{主}\\frac{，}{，}\\frac{　}{　}\\frac{　}{　}\\frac{いかに}{いかに}\\frac{あいす}{あいす}\\frac{べき}{べき}\\frac{。}{。}$\n",
    "\n",
    "$\\frac{（}{（}\\frac{ふく}{復}\\frac{）}{）}$\n",
    "\n",
    "$\\frac{ひつよう}{ひつよう}\\frac{みたす}{満たす}\\frac{しゅ}{主}\\frac{よ}{よ}\\frac{，}{，}\\frac{　}{　}\\frac{　}{　}\\frac{さんび}{賛美}\\frac{あふれ}{あふれ}\\frac{な}{な}\\frac{がる}{がる}\\frac{！}{！}$\n",
    "\n",
    "$\\frac{わが}{わが}\\frac{ねがい}{ねがい}\\frac{に}{に}\\frac{まさり}{まさり}\\frac{，}{，}\\frac{　}{　}\\frac{　}{　}\\frac{たえず}{絶えず}\\frac{しゅ}{主}\\frac{は}{は}\\frac{みたす}{満たす}\\frac{！}{！}$\n",
    "\n",
    "\n",
    "$\\frac{２．}{２．}\\frac{まこと}{まこと}\\frac{に}{に}\\frac{なれ}{なれ}\\frac{かみ}{かみ}\\frac{，}{，}\\frac{　}{　}\\frac{　}{　}\\frac{ひかり}{ひかり}\\frac{，}{，}\\frac{あい}{あい}\\frac{の}{の}\\frac{かみ}{かみ}\\frac{；}{；}$\n",
    "\n",
    "$\\frac{われ}{われ}\\frac{の}{の}\\frac{いのち}{いのち}\\frac{と}{と}\\frac{なり}{なり}\\frac{，}{，}\\frac{　}{　}\\frac{　}{　}\\frac{めぐみ}{めぐみ}\\frac{を}{を}\\frac{あたえる}{あたえる}\\frac{。}{。}$\n",
    "\n",
    "\n",
    "$\\frac{３．}{３．}\\frac{まことに}{まことに}\\frac{なれ}{なれ}\\frac{ひと}{ひと}\\frac{，}{，}\\frac{　}{　}\\frac{　}{　}\\frac{きよく}{きよく}\\frac{，}{，}\\frac{にゅうわな}{柔和な}\\frac{ひと}{ひと}\\frac{；}{；}$\n",
    "\n",
    "$\\frac{かみ}{かみ}\\frac{に}{に}\\frac{よろこば}{よろこば}\\frac{れて}{れて}\\frac{，}{，}\\frac{　}{　}\\frac{　}{　}\\frac{われ}{われ}\\frac{を}{を}\\frac{あいす}{あいす}\\frac{ひと}{ひと}\\frac{。}{。}$\n",
    "\n",
    "\n",
    "$\\frac{４．}{４．}\\frac{なれ}{なれ}\\frac{，}{，}\\frac{いやしく}{いやしく}\\frac{なり}{なり}\\frac{，}{，}\\frac{　}{　}\\frac{　}{　}\\frac{どれい}{奴れい}\\frac{と}{と}\\frac{さえ}{さえ}\\frac{なる}{なる}\\frac{；}{；}$\n",
    "\n",
    "$\\frac{しぬ}{死ぬ}\\frac{まで}{まで}\\frac{した}{した}\\frac{が}{が}\\frac{えり}{えり}\\frac{，}{，}\\frac{　}{　}\\frac{　}{　}\\frac{われ}{われ}\\frac{ら}{ら}\\frac{すくう}{すくう}\\frac{ため}{ため}\\frac{。}{。}$\n",
    "\n",
    "\n",
    "$\\frac{５．}{５．}\\frac{めぐみ}{めぐみ}\\frac{の}{の}\\frac{しゅ}{主}\\frac{，}{，}\\frac{また}{また}\\frac{おう}{王}\\frac{，}{，}\\frac{　}{　}\\frac{　}{　}\\frac{かみ}{かみ}\\frac{に}{に}\\frac{たて}{立て}\\frac{られる}{られる}\\frac{；}{；}$\n",
    "\n",
    "$\\frac{いのち}{いのち}\\frac{，}{，}\\frac{あい}{愛}\\frac{もて}{もて}\\frac{しはい}{支配}\\frac{し}{し}\\frac{，}{，}\\frac{　}{　}\\frac{　}{　}\\frac{われ}{われ}\\frac{ともに}{ともに}\\frac{おさむ}{おさむ}\\frac{。}{。}$\n",
    "\n",
    "\n",
    "$\\frac{６．}{６．}\\frac{なれ}{なれ}\\frac{を}{を}\\frac{おもう}{おもう}\\frac{たび}{たび}\\frac{，}{，}\\frac{　}{　}\\frac{　}{　}\\frac{なれ}{なれ}\\frac{を}{を}\\frac{きょうじゅ}{きょう受}\\frac{する}{する}\\frac{；}{；}$\n",
    "\n",
    "$\\frac{あい}{あい}\\frac{にて}{にて}\\frac{しゅ}{主}\\frac{ご}{ご}\\frac{じしん}{自身}\\frac{を}{を}\\frac{　}{　}\\frac{　}{　}\\frac{とわに}{とわに}\\frac{あたえ}{あたえ}\\frac{ませ}{ませ}\\frac{。}{。}$"
   ]
  }
 ],
 "metadata": {
  "kernelspec": {
   "display_name": "Python 3 (ipykernel)",
   "language": "python",
   "name": "python3"
  }
 },
 "nbformat": 4,
 "nbformat_minor": 5
}
