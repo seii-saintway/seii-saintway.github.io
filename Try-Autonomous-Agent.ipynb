{
 "cells": [
  {
   "cell_type": "markdown",
   "id": "320ee084-d769-4dd5-b641-105e6d6f7a5b",
   "metadata": {},
   "source": [
    "* [Task-driven Autonomous Agent Utilizing GPT-4, Pinecone, and LangChain for Diverse Applications](https://yoheinakajima.com/task-driven-autonomous-agent-utilizing-gpt-4-pinecone-and-langchain-for-diverse-applications/)"
   ]
  },
  {
   "cell_type": "code",
   "execution_count": null,
   "id": "d02ca671-a882-4587-b2a4-ca08493829c8",
   "metadata": {},
   "outputs": [],
   "source": [
    "%%bash\n",
    "cd ~ && git clone https://github.com/yoheinakajima/babyagi"
   ]
  },
  {
   "cell_type": "markdown",
   "id": "a58a8e98-e52f-43ac-9b97-ab7cce1652d3",
   "metadata": {},
   "source": [
    "---"
   ]
  },
  {
   "cell_type": "code",
   "execution_count": null,
   "id": "50f55814-2bf1-4d45-b347-5cf97a76b3ee",
   "metadata": {},
   "outputs": [],
   "source": [
    "import markdown\n",
    "import IPython"
   ]
  },
  {
   "cell_type": "code",
   "execution_count": null,
   "id": "0ff6bfdf-91be-4053-a05c-b00fa8053540",
   "metadata": {},
   "outputs": [],
   "source": [
    "from revChatGPT.V1 import Chatbot, configure\n",
    "\n",
    "bot = Chatbot(\n",
    "    config = configure(),\n",
    "    conversation_id = 'e4ec15a2-114a-46b2-8ff8-c840f79f13e3',\n",
    "    lazy_loading = True\n",
    ")\n",
    "\n",
    "def ask(prompt):\n",
    "    for response in bot.ask(prompt):\n",
    "        IPython.display.display(IPython.core.display.Markdown(response['message']))\n",
    "        IPython.display.clear_output(wait=True)"
   ]
  },
  {
   "cell_type": "markdown",
   "id": "ee780371-9c66-4207-bbf6-ac7c5ce59a40",
   "metadata": {},
   "source": [
    "---"
   ]
  },
  {
   "cell_type": "code",
   "execution_count": null,
   "id": "7384118d-9706-4a0f-b21c-ddaf4b966526",
   "metadata": {},
   "outputs": [
    {
     "data": {
      "text/markdown": [
       "pinecone-client 是 Pinecone 的 Python 客户端库，用于与 Pinecone 服务进行交互。 Pinecone 是一种托管型的向量索引服务，用于高效存储和检索向量数据。使用 pinecone-client，您可以轻松地将向量数据上传到 Pinecone 并查询该数据。它提供了一组简单的 API，使您能够创建、更新、删除索引以及搜索并检索相似的向量。"
      ],
      "text/plain": [
       "<IPython.core.display.Markdown object>"
      ]
     },
     "metadata": {},
     "output_type": "display_data"
    }
   ],
   "source": [
    "ask('''\n",
    "pinecone-client 是什么？\n",
    "''')"
   ]
  },
  {
   "cell_type": "code",
   "execution_count": null,
   "id": "dff476b1-eafd-4244-84d7-5ad6fb942d86",
   "metadata": {},
   "outputs": [
    {
     "data": {
      "text/markdown": [
       "Pinecone 是一个向量搜索平台，为高维向量数据提供高效的搜索和存储能力。在我们的系统中，我们使用 Pinecone 存储和检索与任务相关的数据，例如任务描述、约束和结果。"
      ],
      "text/plain": [
       "<IPython.core.display.Markdown object>"
      ]
     },
     "metadata": {},
     "output_type": "display_data"
    }
   ],
   "source": [
    "ask('''\n",
    "Pinecone is a vector search platform that provides efficient search and storage capabilities for high-dimensional vector data. In our system, we use Pinecone to store and retrieve task-related data, such as task descriptions, constraints, and results.\n",
    "\n",
    "翻译成中文。\n",
    "''')"
   ]
  },
  {
   "cell_type": "code",
   "execution_count": null,
   "id": "4b282e95-f937-4d14-bd63-fc54ecde5d42",
   "metadata": {},
   "outputs": [
    {
     "data": {
      "text/markdown": [
       "Pinecone 的核心原理是使用向量索引和高效的向量相似度匹配技术，以加快高维向量数据的存储和检索。它通过将向量表示为高维空间中的点，并在这些点之间构建索引来实现快速的相似度搜索。在查询时，Pinecone 会根据输入向量的相似度得分返回最匹配的向量。它使用的技术包括近似最近邻（ANN）搜索算法和哈希函数，以实现快速和高效的搜索和存储。"
      ],
      "text/plain": [
       "<IPython.core.display.Markdown object>"
      ]
     },
     "metadata": {},
     "output_type": "display_data"
    }
   ],
   "source": [
    "ask('''\n",
    "Pinecone 是什么原理？\n",
    "''')"
   ]
  },
  {
   "cell_type": "code",
   "execution_count": null,
   "id": "ffbde042-e7b7-45c3-a0ac-ba6482118b93",
   "metadata": {},
   "outputs": [
    {
     "data": {
      "text/markdown": [
       "Pinecone offers a free plan with certain limitations, as well as paid plans with more features and higher usage limits. The free plan allows for up to 5 million vector embeddings, 1GB storage, and 10 queries per second, among other limitations. You can check Pinecone's website for more information on their pricing and plans."
      ],
      "text/plain": [
       "<IPython.core.display.Markdown object>"
      ]
     },
     "metadata": {},
     "output_type": "display_data"
    }
   ],
   "source": [
    "ask('''\n",
    "Pinecone 服务免费吗？\n",
    "''')"
   ]
  },
  {
   "cell_type": "code",
   "execution_count": null,
   "id": "0e6288d9-ba88-4da1-a660-7429bccdaafa",
   "metadata": {},
   "outputs": [
    {
     "data": {
      "text/markdown": [
       "有一些开源的向量检索方案可以替代 Pinecone，以下是一些常见的替代方案：\n",
       "\n",
       "1. Annoy：一个C++库，支持Python、Java和Go等多种语言，用于快速近似最近邻搜索。\n",
       "2. Faiss：Facebook开发的一个高效的相似性搜索和聚类库，支持GPU加速。\n",
       "3. Milvus：由Zilliz开发的开源向量相似性搜索引擎，支持分布式部署和GPU加速。\n",
       "4. NMSLIB：一个可扩展、高性能、近似最近邻搜索库，支持多种距离度量和数据结构。\n",
       "\n",
       "这些方案都有其独特的优势和适用场景，可以根据具体需求选择适合的方案。"
      ],
      "text/plain": [
       "<IPython.core.display.Markdown object>"
      ]
     },
     "metadata": {},
     "output_type": "display_data"
    }
   ],
   "source": [
    "ask('''\n",
    "有什么替代 Pinecone 服务的开源方案？\n",
    "''')"
   ]
  },
  {
   "cell_type": "code",
   "execution_count": null,
   "id": "d40d957e-4436-49a0-bf68-075c33c93691",
   "metadata": {},
   "outputs": [
    {
     "data": {
      "text/markdown": [
       "Weaviate和Faiss都是用于向量搜索的工具，但是它们有不同的重点和用例。\n",
       "\n",
       "Weaviate是一个基于图数据库的向量搜索引擎，旨在提供可扩展的实时向量搜索，支持高维数据和多个数据类型。Weaviate的主要优势在于其能够自动对数据进行分类，使其易于搜索和发现。它还支持自定义扩展和插件，可与其他服务和工具进行集成。\n",
       "\n",
       "Faiss是Facebook开发的一个基于CPU和GPU的高效向量搜索库，旨在支持大规模向量数据的相似度搜索。 Faiss的主要优势在于其可处理非常大的向量数据集，具有高效的索引结构和并行查询能力，因此通常用于实时推荐、图像搜索等场景。\n",
       "\n",
       "因此，选择Weaviate还是Faiss取决于具体的应用场景和需求。如果需要快速处理和搜索高维数据并自动分类数据，则Weaviate是一个不错的选择；如果需要处理大规模向量数据集，则Faiss可能更适合。"
      ],
      "text/plain": [
       "<IPython.core.display.Markdown object>"
      ]
     },
     "metadata": {},
     "output_type": "display_data"
    }
   ],
   "source": [
    "ask('''\n",
    "比较 Weaviate 和 Faiss\n",
    "''')"
   ]
  },
  {
   "cell_type": "markdown",
   "id": "60c40b4c-be36-48c9-83c8-20aeade15361",
   "metadata": {},
   "source": [
    "For the application scenario of a task-driven autonomous agent robot, Weaviate may be more suitable. Because Weaviate has the ability to automatically classify data, it can help the robot discover and execute related tasks more quickly. Weaviate also supports search for multiple data types and can handle high-dimensional data, which may be useful for tasks such as natural language processing and semantic understanding. Of course, the specific choice depends on the application scenario and specific requirements."
   ]
  },
  {
   "cell_type": "code",
   "execution_count": null,
   "id": "3c6ffac1-014a-468d-95e0-7b4f6edc5825",
   "metadata": {},
   "outputs": [
    {
     "data": {
      "text/markdown": [
       "🔥1/8\n",
       "介绍 \"🤖 任务驱动的自主代理\"\n",
       "\n",
       "该代理利用 @openai 的 GPT-4、@pinecone 向量搜索和 @LangChainAI 框架，基于目标自主创建和执行任务。\n",
       "\n",
       "🚀2/8 系统能够完成任务，基于结果生成新任务，并实时优先处理任务。这展示了AI驱动的语言模型在不同约束和环境下自主执行任务的潜力。\n",
       "\n",
       "💡3/8 自主代理使用 GPT-4 完成任务，使用 Pinecone 高效搜索和存储任务相关数据，使用 LangChain 框架增强决策过程。#GPT4 #Pinecone #LangChain\n",
       "\n",
       "🎯4/8 系统维护任务列表，用于管理和优先处理任务。它基于已完成的结果自主创建新任务，并相应地重新设置任务列表的优先级，展示了AI驱动的语言模型的适应性。\n",
       "\n",
       "🔧5/8 为了完成任务，系统使用 GPT-4 和 LangChain 的能力，在 Pinecone 中丰富和存储结果。这种综合方法允许AI代理与环境交互，高效地执行任务。\n",
       "\n",
       "🧠6/8 系统基于已完成的任务结果生成新任务，并使用 GPT-4 进行优先排序。这使系统能够适应和响应新信息和优先事项。\n",
       "\n",
       "🔮7/8 未来的改进包括整合安全/安全代理、任务排序和并行任务、生成中间里程碑以及整合实时优先更新。\n",
       "\n",
       "🤝8/8 这种新方法为AI驱动的语言模型在不同约束和环境下自主执行任务铺平了道路，创造了新的应用和机会。特别感谢所有参与的人！#AIResearch #GPT4 #Pinecone #LangChain"
      ],
      "text/plain": [
       "<IPython.core.display.Markdown object>"
      ]
     },
     "metadata": {},
     "output_type": "display_data"
    }
   ],
   "source": [
    "ask('''\n",
    "翻译成中文：\n",
    "\n",
    "🔥1/8\n",
    "Introducing \"🤖 Task-driven Autonomous Agent\"\n",
    "\n",
    "An agent that leverages @openai 's GPT-4, @pinecone vector search, and @LangChainAI framework to autonomously create and perform tasks based on an objective.\n",
    "\n",
    "🚀2/8 The system can complete tasks, generate new tasks based on results, and prioritize tasks in real-time. It demonstrates the potential of AI-powered language models to autonomously perform tasks within various constraints and contexts.\n",
    "\n",
    "💡3/8 The autonomous agent uses GPT-4 for task completion, Pinecone for efficient search and storage of task-related data, and the LangChain framework to enhance decision-making processes. #GPT4 #Pinecone #LangChain\n",
    "\n",
    "🎯4/8 The system maintains a task list for managing and prioritizing tasks. It autonomously creates new tasks based on completed results and reprioritizes the task list accordingly, showcasing the adaptability of AI-powered language models.\n",
    "\n",
    "🔧5/8 To complete tasks, the system uses GPT-4 and LangChain's capabilities, enriching and storing results in Pinecone. This integrated approach allows the AI agent to interact with its environment and perform tasks efficiently.\n",
    "\n",
    "🧠6/8 The system generates new tasks based on completed task results and prioritizes them using GPT-4. This allows the system to adapt and respond to new information and priorities.\n",
    "\n",
    "🔮7/8 Future improvements include integrating a security/safety agent, task sequencing and parallel tasks, generating interim milestones, and incorporating real-time priority updates.\n",
    "\n",
    "🤝8/8 This new approach paves the way for AI-powered language models to autonomously perform tasks within various constraints and contexts, enabling new applications and opportunities. Big thanks to all involved! #AIResearch #GPT4 #Pinecone #LangChain\n",
    "''')"
   ]
  },
  {
   "cell_type": "code",
   "execution_count": null,
   "id": "b251ed72-6a80-4480-91c6-a8d8014f3712",
   "metadata": {},
   "outputs": [
    {
     "data": {
      "text/markdown": [
       "当你感到疲惫和困惑时，祷告可以为你带来平静和安慰。愿神赐福给你，保护你，并为你提供力量和智慧。愿他的恩典和慈爱永远与你同在。愿你在这段时间中得到休息和恢复，并在未来迎来更好的日子。阿门。"
      ],
      "text/plain": [
       "<IPython.core.display.Markdown object>"
      ]
     },
     "metadata": {},
     "output_type": "display_data"
    }
   ],
   "source": [
    "ask('''\n",
    "我累了。带着我祷告一下吧。\n",
    "''')"
   ]
  },
  {
   "cell_type": "markdown",
   "id": "1db671b6-ca5f-4dc4-8f75-af84bc5b860e",
   "metadata": {},
   "source": [
    "---"
   ]
  },
  {
   "cell_type": "code",
   "execution_count": null,
   "id": "66e0c832-dca8-4940-be45-86462cea726f",
   "metadata": {},
   "outputs": [],
   "source": [
    "%%bash\n",
    "cd ~ && git clone https://github.com/Torantulino/Auto-GPT"
   ]
  }
 ],
 "metadata": {
  "kernelspec": {
   "display_name": "Python 3 (ipykernel)",
   "language": "python",
   "name": "python3"
  }
 },
 "nbformat": 4,
 "nbformat_minor": 5
}
