{
 "cells": [
  {
   "cell_type": "code",
   "execution_count": null,
   "metadata": {},
   "outputs": [
    {
     "name": "stdout",
     "output_type": "stream",
     "text": [
      "Try_To_Import_Python.py\n"
     ]
    }
   ],
   "source": [
    "import Try_To_Import_Python"
   ]
  },
  {
   "cell_type": "markdown",
   "metadata": {},
   "source": [
    "https://jupyter-notebook.readthedocs.io/en/stable/examples/Notebook/Importing%20Notebooks.html"
   ]
  },
  {
   "cell_type": "markdown",
   "metadata": {},
   "source": [
    "Here is some simple code to display the contents of a notebook\n",
    "with syntax highlighting, etc."
   ]
  },
  {
   "cell_type": "code",
   "execution_count": null,
   "metadata": {},
   "outputs": [
    {
     "data": {
      "text/html": [
       "\n",
       "<style type='text/css'>\n",
       ".hll { background-color: #ffffcc }\n",
       ".c { color: #408080; font-style: italic } /* Comment */\n",
       ".err { border: 1px solid #FF0000 } /* Error */\n",
       ".k { color: #008000; font-weight: bold } /* Keyword */\n",
       ".o { color: #666666 } /* Operator */\n",
       ".ch { color: #408080; font-style: italic } /* Comment.Hashbang */\n",
       ".cm { color: #408080; font-style: italic } /* Comment.Multiline */\n",
       ".cp { color: #BC7A00 } /* Comment.Preproc */\n",
       ".cpf { color: #408080; font-style: italic } /* Comment.PreprocFile */\n",
       ".c1 { color: #408080; font-style: italic } /* Comment.Single */\n",
       ".cs { color: #408080; font-style: italic } /* Comment.Special */\n",
       ".gd { color: #A00000 } /* Generic.Deleted */\n",
       ".ge { font-style: italic } /* Generic.Emph */\n",
       ".gr { color: #FF0000 } /* Generic.Error */\n",
       ".gh { color: #000080; font-weight: bold } /* Generic.Heading */\n",
       ".gi { color: #00A000 } /* Generic.Inserted */\n",
       ".go { color: #888888 } /* Generic.Output */\n",
       ".gp { color: #000080; font-weight: bold } /* Generic.Prompt */\n",
       ".gs { font-weight: bold } /* Generic.Strong */\n",
       ".gu { color: #800080; font-weight: bold } /* Generic.Subheading */\n",
       ".gt { color: #0044DD } /* Generic.Traceback */\n",
       ".kc { color: #008000; font-weight: bold } /* Keyword.Constant */\n",
       ".kd { color: #008000; font-weight: bold } /* Keyword.Declaration */\n",
       ".kn { color: #008000; font-weight: bold } /* Keyword.Namespace */\n",
       ".kp { color: #008000 } /* Keyword.Pseudo */\n",
       ".kr { color: #008000; font-weight: bold } /* Keyword.Reserved */\n",
       ".kt { color: #B00040 } /* Keyword.Type */\n",
       ".m { color: #666666 } /* Literal.Number */\n",
       ".s { color: #BA2121 } /* Literal.String */\n",
       ".na { color: #7D9029 } /* Name.Attribute */\n",
       ".nb { color: #008000 } /* Name.Builtin */\n",
       ".nc { color: #0000FF; font-weight: bold } /* Name.Class */\n",
       ".no { color: #880000 } /* Name.Constant */\n",
       ".nd { color: #AA22FF } /* Name.Decorator */\n",
       ".ni { color: #999999; font-weight: bold } /* Name.Entity */\n",
       ".ne { color: #D2413A; font-weight: bold } /* Name.Exception */\n",
       ".nf { color: #0000FF } /* Name.Function */\n",
       ".nl { color: #A0A000 } /* Name.Label */\n",
       ".nn { color: #0000FF; font-weight: bold } /* Name.Namespace */\n",
       ".nt { color: #008000; font-weight: bold } /* Name.Tag */\n",
       ".nv { color: #19177C } /* Name.Variable */\n",
       ".ow { color: #AA22FF; font-weight: bold } /* Operator.Word */\n",
       ".w { color: #bbbbbb } /* Text.Whitespace */\n",
       ".mb { color: #666666 } /* Literal.Number.Bin */\n",
       ".mf { color: #666666 } /* Literal.Number.Float */\n",
       ".mh { color: #666666 } /* Literal.Number.Hex */\n",
       ".mi { color: #666666 } /* Literal.Number.Integer */\n",
       ".mo { color: #666666 } /* Literal.Number.Oct */\n",
       ".sa { color: #BA2121 } /* Literal.String.Affix */\n",
       ".sb { color: #BA2121 } /* Literal.String.Backtick */\n",
       ".sc { color: #BA2121 } /* Literal.String.Char */\n",
       ".dl { color: #BA2121 } /* Literal.String.Delimiter */\n",
       ".sd { color: #BA2121; font-style: italic } /* Literal.String.Doc */\n",
       ".s2 { color: #BA2121 } /* Literal.String.Double */\n",
       ".se { color: #BB6622; font-weight: bold } /* Literal.String.Escape */\n",
       ".sh { color: #BA2121 } /* Literal.String.Heredoc */\n",
       ".si { color: #BB6688; font-weight: bold } /* Literal.String.Interpol */\n",
       ".sx { color: #008000 } /* Literal.String.Other */\n",
       ".sr { color: #BB6688 } /* Literal.String.Regex */\n",
       ".s1 { color: #BA2121 } /* Literal.String.Single */\n",
       ".ss { color: #19177C } /* Literal.String.Symbol */\n",
       ".bp { color: #008000 } /* Name.Builtin.Pseudo */\n",
       ".fm { color: #0000FF } /* Name.Function.Magic */\n",
       ".vc { color: #19177C } /* Name.Variable.Class */\n",
       ".vg { color: #19177C } /* Name.Variable.Global */\n",
       ".vi { color: #19177C } /* Name.Variable.Instance */\n",
       ".vm { color: #19177C } /* Name.Variable.Magic */\n",
       ".il { color: #666666 } /* Literal.Number.Integer.Long */\n",
       "</style>\n"
      ],
      "text/plain": [
       "<IPython.core.display.HTML object>"
      ]
     },
     "metadata": {},
     "output_type": "display_data"
    }
   ],
   "source": [
    "from pygments import highlight\n",
    "from pygments.lexers import PythonLexer\n",
    "from pygments.formatters import HtmlFormatter\n",
    "\n",
    "from IPython.display import display, HTML\n",
    "\n",
    "formatter = HtmlFormatter()\n",
    "lexer = PythonLexer()\n",
    "\n",
    "# publish the CSS for pygments highlighting\n",
    "display(HTML(\"\"\"\n",
    "<style type='text/css'>\n",
    "%s\n",
    "</style>\n",
    "\"\"\" % formatter.get_style_defs()\n",
    "))"
   ]
  },
  {
   "cell_type": "code",
   "execution_count": null,
   "metadata": {},
   "outputs": [
    {
     "data": {
      "text/html": [
       "<h4>markdown cell</h4>\n",
       "<pre># Importing Jupyter Notebooks as Modules</pre>\n",
       "<h4>markdown cell</h4>\n",
       "<pre>It is a common problem that people want to import code from Jupyter Notebooks.\n",
       "This is made difficult by the fact that Notebooks are not plain Python files,\n",
       "and thus cannot be imported by the regular Python machinery.\n",
       "\n",
       "Fortunately, Python provides some fairly sophisticated [hooks](https://www.python.org/dev/peps/pep-0302/) into the import machinery,\n",
       "so we can actually make Jupyter notebooks importable without much difficulty,\n",
       "and only using public APIs.</pre>\n",
       "<h4>code cell</h4>\n",
       "<div class=\"highlight\"><pre><span></span><span class=\"kn\">import</span> <span class=\"nn\">io</span><span class=\"o\">,</span> <span class=\"nn\">os</span><span class=\"o\">,</span> <span class=\"nn\">sys</span><span class=\"o\">,</span> <span class=\"nn\">types</span>\n",
       "</pre></div>\n",
       "\n",
       "<h4>code cell</h4>\n",
       "<div class=\"highlight\"><pre><span></span><span class=\"kn\">from</span> <span class=\"nn\">IPython</span> <span class=\"kn\">import</span> <span class=\"n\">get_ipython</span>\n",
       "<span class=\"kn\">from</span> <span class=\"nn\">nbformat</span> <span class=\"kn\">import</span> <span class=\"n\">read</span>\n",
       "<span class=\"kn\">from</span> <span class=\"nn\">IPython.core.interactiveshell</span> <span class=\"kn\">import</span> <span class=\"n\">InteractiveShell</span>\n",
       "</pre></div>\n",
       "\n",
       "<h4>markdown cell</h4>\n",
       "<pre>Import hooks typically take the form of two objects:\n",
       "\n",
       "1. a Module **Loader**, which takes a module name (e.g. `'IPython.display'`), and returns a Module\n",
       "2. a Module **Finder**, which figures out whether a module might exist, and tells Python what **Loader** to use</pre>\n",
       "<h4>code cell</h4>\n",
       "<div class=\"highlight\"><pre><span></span><span class=\"k\">def</span> <span class=\"nf\">find_notebook</span><span class=\"p\">(</span><span class=\"n\">fullname</span><span class=\"p\">,</span> <span class=\"n\">path</span><span class=\"o\">=</span><span class=\"bp\">None</span><span class=\"p\">):</span>\n",
       "    <span class=\"sd\">&quot;&quot;&quot;find a notebook, given its fully qualified name and an optional path</span>\n",
       "<span class=\"sd\">    </span>\n",
       "<span class=\"sd\">    This turns &quot;foo.bar&quot; into &quot;foo/bar.ipynb&quot;</span>\n",
       "<span class=\"sd\">    and tries turning &quot;Foo_Bar&quot; into &quot;Foo Bar&quot; if Foo_Bar</span>\n",
       "<span class=\"sd\">    does not exist.</span>\n",
       "<span class=\"sd\">    &quot;&quot;&quot;</span>\n",
       "    <span class=\"n\">name</span> <span class=\"o\">=</span> <span class=\"n\">fullname</span><span class=\"o\">.</span><span class=\"n\">rsplit</span><span class=\"p\">(</span><span class=\"s1\">&#39;.&#39;</span><span class=\"p\">,</span> <span class=\"mi\">1</span><span class=\"p\">)[</span><span class=\"o\">-</span><span class=\"mi\">1</span><span class=\"p\">]</span>\n",
       "    <span class=\"k\">if</span> <span class=\"ow\">not</span> <span class=\"n\">path</span><span class=\"p\">:</span>\n",
       "        <span class=\"n\">path</span> <span class=\"o\">=</span> <span class=\"p\">[</span><span class=\"s1\">&#39;&#39;</span><span class=\"p\">]</span>\n",
       "    <span class=\"k\">for</span> <span class=\"n\">d</span> <span class=\"ow\">in</span> <span class=\"n\">path</span><span class=\"p\">:</span>\n",
       "        <span class=\"n\">nb_path</span> <span class=\"o\">=</span> <span class=\"n\">os</span><span class=\"o\">.</span><span class=\"n\">path</span><span class=\"o\">.</span><span class=\"n\">join</span><span class=\"p\">(</span><span class=\"n\">d</span><span class=\"p\">,</span> <span class=\"n\">name</span> <span class=\"o\">+</span> <span class=\"s2\">&quot;.ipynb&quot;</span><span class=\"p\">)</span>\n",
       "        <span class=\"k\">if</span> <span class=\"n\">os</span><span class=\"o\">.</span><span class=\"n\">path</span><span class=\"o\">.</span><span class=\"n\">isfile</span><span class=\"p\">(</span><span class=\"n\">nb_path</span><span class=\"p\">):</span>\n",
       "            <span class=\"k\">return</span> <span class=\"n\">nb_path</span>\n",
       "        <span class=\"c1\"># let import Notebook_Name find &quot;Notebook Name.ipynb&quot;</span>\n",
       "        <span class=\"n\">nb_path</span> <span class=\"o\">=</span> <span class=\"n\">nb_path</span><span class=\"o\">.</span><span class=\"n\">replace</span><span class=\"p\">(</span><span class=\"s2\">&quot;_&quot;</span><span class=\"p\">,</span> <span class=\"s2\">&quot; &quot;</span><span class=\"p\">)</span>\n",
       "        <span class=\"k\">if</span> <span class=\"n\">os</span><span class=\"o\">.</span><span class=\"n\">path</span><span class=\"o\">.</span><span class=\"n\">isfile</span><span class=\"p\">(</span><span class=\"n\">nb_path</span><span class=\"p\">):</span>\n",
       "            <span class=\"k\">return</span> <span class=\"n\">nb_path</span>\n",
       "            \n",
       "</pre></div>\n",
       "\n",
       "<h4>markdown cell</h4>\n",
       "<pre>## Notebook Loader</pre>\n",
       "<h4>markdown cell</h4>\n",
       "<pre>Here we have our Notebook Loader.\n",
       "It's actually quite simple - once we figure out the filename of the module,\n",
       "all it does is:\n",
       "\n",
       "1. load the notebook document into memory\n",
       "2. create an empty Module\n",
       "3. execute every cell in the Module namespace\n",
       "\n",
       "Since IPython cells can have extended syntax,\n",
       "the IPython transform is applied to turn each of these cells into their pure-Python counterparts before executing them.\n",
       "If all of your notebook cells are pure-Python,\n",
       "this step is unnecessary.</pre>\n",
       "<h4>code cell</h4>\n",
       "<div class=\"highlight\"><pre><span></span><span class=\"k\">class</span> <span class=\"nc\">NotebookLoader</span><span class=\"p\">(</span><span class=\"nb\">object</span><span class=\"p\">):</span>\n",
       "    <span class=\"sd\">&quot;&quot;&quot;Module Loader for Jupyter Notebooks&quot;&quot;&quot;</span>\n",
       "    <span class=\"k\">def</span> <span class=\"fm\">__init__</span><span class=\"p\">(</span><span class=\"bp\">self</span><span class=\"p\">,</span> <span class=\"n\">path</span><span class=\"o\">=</span><span class=\"bp\">None</span><span class=\"p\">):</span>\n",
       "        <span class=\"bp\">self</span><span class=\"o\">.</span><span class=\"n\">shell</span> <span class=\"o\">=</span> <span class=\"n\">InteractiveShell</span><span class=\"o\">.</span><span class=\"n\">instance</span><span class=\"p\">()</span>\n",
       "        <span class=\"bp\">self</span><span class=\"o\">.</span><span class=\"n\">path</span> <span class=\"o\">=</span> <span class=\"n\">path</span>\n",
       "    \n",
       "    <span class=\"k\">def</span> <span class=\"nf\">load_module</span><span class=\"p\">(</span><span class=\"bp\">self</span><span class=\"p\">,</span> <span class=\"n\">fullname</span><span class=\"p\">):</span>\n",
       "        <span class=\"sd\">&quot;&quot;&quot;import a notebook as a module&quot;&quot;&quot;</span>\n",
       "        <span class=\"n\">path</span> <span class=\"o\">=</span> <span class=\"n\">find_notebook</span><span class=\"p\">(</span><span class=\"n\">fullname</span><span class=\"p\">,</span> <span class=\"bp\">self</span><span class=\"o\">.</span><span class=\"n\">path</span><span class=\"p\">)</span>\n",
       "        \n",
       "        <span class=\"k\">print</span> <span class=\"p\">(</span><span class=\"s2\">&quot;importing Jupyter notebook from </span><span class=\"si\">%s</span><span class=\"s2\">&quot;</span> <span class=\"o\">%</span> <span class=\"n\">path</span><span class=\"p\">)</span>\n",
       "                                       \n",
       "        <span class=\"c1\"># load the notebook object</span>\n",
       "        <span class=\"k\">with</span> <span class=\"n\">io</span><span class=\"o\">.</span><span class=\"n\">open</span><span class=\"p\">(</span><span class=\"n\">path</span><span class=\"p\">,</span> <span class=\"s1\">&#39;r&#39;</span><span class=\"p\">,</span> <span class=\"n\">encoding</span><span class=\"o\">=</span><span class=\"s1\">&#39;utf-8&#39;</span><span class=\"p\">)</span> <span class=\"k\">as</span> <span class=\"n\">f</span><span class=\"p\">:</span>\n",
       "            <span class=\"n\">nb</span> <span class=\"o\">=</span> <span class=\"n\">read</span><span class=\"p\">(</span><span class=\"n\">f</span><span class=\"p\">,</span> <span class=\"mi\">4</span><span class=\"p\">)</span>\n",
       "        \n",
       "        \n",
       "        <span class=\"c1\"># create the module and add it to sys.modules</span>\n",
       "        <span class=\"c1\"># if name in sys.modules:</span>\n",
       "        <span class=\"c1\">#    return sys.modules[name]</span>\n",
       "        <span class=\"n\">mod</span> <span class=\"o\">=</span> <span class=\"n\">types</span><span class=\"o\">.</span><span class=\"n\">ModuleType</span><span class=\"p\">(</span><span class=\"n\">fullname</span><span class=\"p\">)</span>\n",
       "        <span class=\"n\">mod</span><span class=\"o\">.</span><span class=\"vm\">__file__</span> <span class=\"o\">=</span> <span class=\"n\">path</span>\n",
       "        <span class=\"n\">mod</span><span class=\"o\">.</span><span class=\"n\">__loader__</span> <span class=\"o\">=</span> <span class=\"bp\">self</span>\n",
       "        <span class=\"n\">mod</span><span class=\"o\">.</span><span class=\"vm\">__dict__</span><span class=\"p\">[</span><span class=\"s1\">&#39;get_ipython&#39;</span><span class=\"p\">]</span> <span class=\"o\">=</span> <span class=\"n\">get_ipython</span>\n",
       "        <span class=\"n\">sys</span><span class=\"o\">.</span><span class=\"n\">modules</span><span class=\"p\">[</span><span class=\"n\">fullname</span><span class=\"p\">]</span> <span class=\"o\">=</span> <span class=\"n\">mod</span>\n",
       "        \n",
       "        <span class=\"c1\"># extra work to ensure that magics that would affect the user_ns</span>\n",
       "        <span class=\"c1\"># actually affect the notebook module&#39;s ns</span>\n",
       "        <span class=\"n\">save_user_ns</span> <span class=\"o\">=</span> <span class=\"bp\">self</span><span class=\"o\">.</span><span class=\"n\">shell</span><span class=\"o\">.</span><span class=\"n\">user_ns</span>\n",
       "        <span class=\"bp\">self</span><span class=\"o\">.</span><span class=\"n\">shell</span><span class=\"o\">.</span><span class=\"n\">user_ns</span> <span class=\"o\">=</span> <span class=\"n\">mod</span><span class=\"o\">.</span><span class=\"vm\">__dict__</span>\n",
       "        \n",
       "        <span class=\"k\">try</span><span class=\"p\">:</span>\n",
       "          <span class=\"k\">for</span> <span class=\"n\">cell</span> <span class=\"ow\">in</span> <span class=\"n\">nb</span><span class=\"o\">.</span><span class=\"n\">cells</span><span class=\"p\">:</span>\n",
       "            <span class=\"k\">if</span> <span class=\"n\">cell</span><span class=\"o\">.</span><span class=\"n\">cell_type</span> <span class=\"o\">==</span> <span class=\"s1\">&#39;code&#39;</span><span class=\"p\">:</span>\n",
       "                <span class=\"c1\"># transform the input to executable Python</span>\n",
       "                <span class=\"n\">code</span> <span class=\"o\">=</span> <span class=\"bp\">self</span><span class=\"o\">.</span><span class=\"n\">shell</span><span class=\"o\">.</span><span class=\"n\">input_transformer_manager</span><span class=\"o\">.</span><span class=\"n\">transform_cell</span><span class=\"p\">(</span><span class=\"n\">cell</span><span class=\"o\">.</span><span class=\"n\">source</span><span class=\"p\">)</span>\n",
       "                <span class=\"c1\"># run the code in themodule</span>\n",
       "                <span class=\"k\">exec</span><span class=\"p\">(</span><span class=\"n\">code</span><span class=\"p\">,</span> <span class=\"n\">mod</span><span class=\"o\">.</span><span class=\"vm\">__dict__</span><span class=\"p\">)</span>\n",
       "        <span class=\"k\">finally</span><span class=\"p\">:</span>\n",
       "            <span class=\"bp\">self</span><span class=\"o\">.</span><span class=\"n\">shell</span><span class=\"o\">.</span><span class=\"n\">user_ns</span> <span class=\"o\">=</span> <span class=\"n\">save_user_ns</span>\n",
       "        <span class=\"k\">return</span> <span class=\"n\">mod</span>\n",
       "</pre></div>\n",
       "\n",
       "<h4>markdown cell</h4>\n",
       "<pre>## The Module Finder</pre>\n",
       "<h4>markdown cell</h4>\n",
       "<pre>The finder is a simple object that tells you whether a name can be imported,\n",
       "and returns the appropriate loader.\n",
       "All this one does is check, when you do:\n",
       "\n",
       "```python\n",
       "import mynotebook\n",
       "```\n",
       "\n",
       "it checks whether `mynotebook.ipynb` exists.\n",
       "If a notebook is found, then it returns a NotebookLoader.\n",
       "\n",
       "Any extra logic is just for resolving paths within packages.</pre>\n",
       "<h4>code cell</h4>\n",
       "<div class=\"highlight\"><pre><span></span><span class=\"k\">class</span> <span class=\"nc\">NotebookFinder</span><span class=\"p\">(</span><span class=\"nb\">object</span><span class=\"p\">):</span>\n",
       "    <span class=\"sd\">&quot;&quot;&quot;Module finder that locates Jupyter Notebooks&quot;&quot;&quot;</span>\n",
       "    <span class=\"k\">def</span> <span class=\"fm\">__init__</span><span class=\"p\">(</span><span class=\"bp\">self</span><span class=\"p\">):</span>\n",
       "        <span class=\"bp\">self</span><span class=\"o\">.</span><span class=\"n\">loaders</span> <span class=\"o\">=</span> <span class=\"p\">{}</span>\n",
       "    \n",
       "    <span class=\"k\">def</span> <span class=\"nf\">find_module</span><span class=\"p\">(</span><span class=\"bp\">self</span><span class=\"p\">,</span> <span class=\"n\">fullname</span><span class=\"p\">,</span> <span class=\"n\">path</span><span class=\"o\">=</span><span class=\"bp\">None</span><span class=\"p\">):</span>\n",
       "        <span class=\"n\">nb_path</span> <span class=\"o\">=</span> <span class=\"n\">find_notebook</span><span class=\"p\">(</span><span class=\"n\">fullname</span><span class=\"p\">,</span> <span class=\"n\">path</span><span class=\"p\">)</span>\n",
       "        <span class=\"k\">if</span> <span class=\"ow\">not</span> <span class=\"n\">nb_path</span><span class=\"p\">:</span>\n",
       "            <span class=\"k\">return</span>\n",
       "        \n",
       "        <span class=\"n\">key</span> <span class=\"o\">=</span> <span class=\"n\">path</span>\n",
       "        <span class=\"k\">if</span> <span class=\"n\">path</span><span class=\"p\">:</span>\n",
       "            <span class=\"c1\"># lists aren&#39;t hashable</span>\n",
       "            <span class=\"n\">key</span> <span class=\"o\">=</span> <span class=\"n\">os</span><span class=\"o\">.</span><span class=\"n\">path</span><span class=\"o\">.</span><span class=\"n\">sep</span><span class=\"o\">.</span><span class=\"n\">join</span><span class=\"p\">(</span><span class=\"n\">path</span><span class=\"p\">)</span>\n",
       "        \n",
       "        <span class=\"k\">if</span> <span class=\"n\">key</span> <span class=\"ow\">not</span> <span class=\"ow\">in</span> <span class=\"bp\">self</span><span class=\"o\">.</span><span class=\"n\">loaders</span><span class=\"p\">:</span>\n",
       "            <span class=\"bp\">self</span><span class=\"o\">.</span><span class=\"n\">loaders</span><span class=\"p\">[</span><span class=\"n\">key</span><span class=\"p\">]</span> <span class=\"o\">=</span> <span class=\"n\">NotebookLoader</span><span class=\"p\">(</span><span class=\"n\">path</span><span class=\"p\">)</span>\n",
       "        <span class=\"k\">return</span> <span class=\"bp\">self</span><span class=\"o\">.</span><span class=\"n\">loaders</span><span class=\"p\">[</span><span class=\"n\">key</span><span class=\"p\">]</span>\n",
       "</pre></div>\n",
       "\n",
       "<h4>markdown cell</h4>\n",
       "<pre>## Register the hook</pre>\n",
       "<h4>markdown cell</h4>\n",
       "<pre>Now we register the `NotebookFinder` with `sys.meta_path`</pre>\n",
       "<h4>code cell</h4>\n",
       "<div class=\"highlight\"><pre><span></span><span class=\"n\">sys</span><span class=\"o\">.</span><span class=\"n\">meta_path</span><span class=\"o\">.</span><span class=\"n\">append</span><span class=\"p\">(</span><span class=\"n\">NotebookFinder</span><span class=\"p\">())</span>\n",
       "</pre></div>\n",
       "\n",
       "<h4>markdown cell</h4>\n",
       "<pre>After this point, my notebooks should be importable.\n",
       "\n",
       "Let's look at what we have in the CWD:</pre>\n",
       "<h4>code cell</h4>\n",
       "<div class=\"highlight\"><pre><span></span><span class=\"n\">ls</span> <span class=\"n\">nbpackage</span>\n",
       "</pre></div>\n",
       "\n",
       "<h4>markdown cell</h4>\n",
       "<pre>So I should be able to `import nbpackage.mynotebook`.</pre>\n",
       "<h4>code cell</h4>\n",
       "<div class=\"highlight\"><pre><span></span><span class=\"kn\">import</span> <span class=\"nn\">nbpackage.mynotebook</span>\n",
       "</pre></div>\n",
       "\n",
       "<h4>markdown cell</h4>\n",
       "<pre>### Aside: displaying notebooks</pre>\n",
       "<h4>markdown cell</h4>\n",
       "<pre>Here is some simple code to display the contents of a notebook\n",
       "with syntax highlighting, etc.</pre>\n",
       "<h4>code cell</h4>\n",
       "<div class=\"highlight\"><pre><span></span><span class=\"kn\">from</span> <span class=\"nn\">pygments</span> <span class=\"kn\">import</span> <span class=\"n\">highlight</span>\n",
       "<span class=\"kn\">from</span> <span class=\"nn\">pygments.lexers</span> <span class=\"kn\">import</span> <span class=\"n\">PythonLexer</span>\n",
       "<span class=\"kn\">from</span> <span class=\"nn\">pygments.formatters</span> <span class=\"kn\">import</span> <span class=\"n\">HtmlFormatter</span>\n",
       "\n",
       "<span class=\"kn\">from</span> <span class=\"nn\">IPython.display</span> <span class=\"kn\">import</span> <span class=\"n\">display</span><span class=\"p\">,</span> <span class=\"n\">HTML</span>\n",
       "\n",
       "<span class=\"n\">formatter</span> <span class=\"o\">=</span> <span class=\"n\">HtmlFormatter</span><span class=\"p\">()</span>\n",
       "<span class=\"n\">lexer</span> <span class=\"o\">=</span> <span class=\"n\">PythonLexer</span><span class=\"p\">()</span>\n",
       "\n",
       "<span class=\"c1\"># publish the CSS for pygments highlighting</span>\n",
       "<span class=\"n\">display</span><span class=\"p\">(</span><span class=\"n\">HTML</span><span class=\"p\">(</span><span class=\"s2\">&quot;&quot;&quot;</span>\n",
       "<span class=\"s2\">&lt;style type=&#39;text/css&#39;&gt;</span>\n",
       "<span class=\"si\">%s</span><span class=\"s2\"></span>\n",
       "<span class=\"s2\">&lt;/style&gt;</span>\n",
       "<span class=\"s2\">&quot;&quot;&quot;</span> <span class=\"o\">%</span> <span class=\"n\">formatter</span><span class=\"o\">.</span><span class=\"n\">get_style_defs</span><span class=\"p\">()</span>\n",
       "<span class=\"p\">))</span>\n",
       "</pre></div>\n",
       "\n",
       "<h4>code cell</h4>\n",
       "<div class=\"highlight\"><pre><span></span><span class=\"k\">def</span> <span class=\"nf\">show_notebook</span><span class=\"p\">(</span><span class=\"n\">fname</span><span class=\"p\">):</span>\n",
       "    <span class=\"sd\">&quot;&quot;&quot;display a short summary of the cells of a notebook&quot;&quot;&quot;</span>\n",
       "    <span class=\"k\">with</span> <span class=\"n\">io</span><span class=\"o\">.</span><span class=\"n\">open</span><span class=\"p\">(</span><span class=\"n\">fname</span><span class=\"p\">,</span> <span class=\"s1\">&#39;r&#39;</span><span class=\"p\">,</span> <span class=\"n\">encoding</span><span class=\"o\">=</span><span class=\"s1\">&#39;utf-8&#39;</span><span class=\"p\">)</span> <span class=\"k\">as</span> <span class=\"n\">f</span><span class=\"p\">:</span>\n",
       "        <span class=\"n\">nb</span> <span class=\"o\">=</span> <span class=\"n\">read</span><span class=\"p\">(</span><span class=\"n\">f</span><span class=\"p\">,</span> <span class=\"mi\">4</span><span class=\"p\">)</span>\n",
       "    <span class=\"n\">html</span> <span class=\"o\">=</span> <span class=\"p\">[]</span>\n",
       "    <span class=\"k\">for</span> <span class=\"n\">cell</span> <span class=\"ow\">in</span> <span class=\"n\">nb</span><span class=\"o\">.</span><span class=\"n\">cells</span><span class=\"p\">:</span>\n",
       "        <span class=\"n\">html</span><span class=\"o\">.</span><span class=\"n\">append</span><span class=\"p\">(</span><span class=\"s2\">&quot;&lt;h4&gt;</span><span class=\"si\">%s</span><span class=\"s2\"> cell&lt;/h4&gt;&quot;</span> <span class=\"o\">%</span> <span class=\"n\">cell</span><span class=\"o\">.</span><span class=\"n\">cell_type</span><span class=\"p\">)</span>\n",
       "        <span class=\"k\">if</span> <span class=\"n\">cell</span><span class=\"o\">.</span><span class=\"n\">cell_type</span> <span class=\"o\">==</span> <span class=\"s1\">&#39;code&#39;</span><span class=\"p\">:</span>\n",
       "            <span class=\"n\">html</span><span class=\"o\">.</span><span class=\"n\">append</span><span class=\"p\">(</span><span class=\"n\">highlight</span><span class=\"p\">(</span><span class=\"n\">cell</span><span class=\"o\">.</span><span class=\"n\">source</span><span class=\"p\">,</span> <span class=\"n\">lexer</span><span class=\"p\">,</span> <span class=\"n\">formatter</span><span class=\"p\">))</span>\n",
       "        <span class=\"k\">else</span><span class=\"p\">:</span>\n",
       "            <span class=\"n\">html</span><span class=\"o\">.</span><span class=\"n\">append</span><span class=\"p\">(</span><span class=\"s2\">&quot;&lt;pre&gt;</span><span class=\"si\">%s</span><span class=\"s2\">&lt;/pre&gt;&quot;</span> <span class=\"o\">%</span> <span class=\"n\">cell</span><span class=\"o\">.</span><span class=\"n\">source</span><span class=\"p\">)</span>\n",
       "    <span class=\"n\">display</span><span class=\"p\">(</span><span class=\"n\">HTML</span><span class=\"p\">(</span><span class=\"s1\">&#39;</span><span class=\"se\">\\n</span><span class=\"s1\">&#39;</span><span class=\"o\">.</span><span class=\"n\">join</span><span class=\"p\">(</span><span class=\"n\">html</span><span class=\"p\">)))</span>\n",
       "\n",
       "<span class=\"n\">show_notebook</span><span class=\"p\">(</span><span class=\"n\">os</span><span class=\"o\">.</span><span class=\"n\">path</span><span class=\"o\">.</span><span class=\"n\">join</span><span class=\"p\">(</span><span class=\"s2\">&quot;nbpackage&quot;</span><span class=\"p\">,</span> <span class=\"s2\">&quot;mynotebook.ipynb&quot;</span><span class=\"p\">))</span>\n",
       "</pre></div>\n",
       "\n",
       "<h4>markdown cell</h4>\n",
       "<pre>So my notebook has some code cells,\n",
       "one of which contains some IPython syntax.\n",
       "\n",
       "Let's see what happens when we import it</pre>\n",
       "<h4>code cell</h4>\n",
       "<div class=\"highlight\"><pre><span></span><span class=\"kn\">from</span> <span class=\"nn\">nbpackage</span> <span class=\"kn\">import</span> <span class=\"n\">mynotebook</span>\n",
       "</pre></div>\n",
       "\n",
       "<h4>markdown cell</h4>\n",
       "<pre>Hooray, it imported!  Does it work?</pre>\n",
       "<h4>code cell</h4>\n",
       "<div class=\"highlight\"><pre><span></span><span class=\"n\">mynotebook</span><span class=\"o\">.</span><span class=\"n\">foo</span><span class=\"p\">()</span>\n",
       "</pre></div>\n",
       "\n",
       "<h4>markdown cell</h4>\n",
       "<pre>Hooray again!\n",
       "\n",
       "Even the function that contains IPython syntax works:</pre>\n",
       "<h4>code cell</h4>\n",
       "<div class=\"highlight\"><pre><span></span><span class=\"n\">mynotebook</span><span class=\"o\">.</span><span class=\"n\">has_ip_syntax</span><span class=\"p\">()</span>\n",
       "</pre></div>\n",
       "\n",
       "<h4>code cell</h4>\n",
       "<div class=\"highlight\"><pre><span></span><span class=\"n\">mynotebook</span><span class=\"o\">.</span><span class=\"n\">whatsmyname</span><span class=\"p\">()</span>\n",
       "</pre></div>\n",
       "\n",
       "<h4>markdown cell</h4>\n",
       "<pre>## Notebooks in packages</pre>\n",
       "<h4>markdown cell</h4>\n",
       "<pre>We also have a notebook inside the `nb` package,\n",
       "so let's make sure that works as well.</pre>\n",
       "<h4>code cell</h4>\n",
       "<div class=\"highlight\"><pre><span></span><span class=\"n\">ls</span> <span class=\"n\">nbpackage</span><span class=\"o\">/</span><span class=\"n\">nbs</span>\n",
       "</pre></div>\n",
       "\n",
       "<h4>markdown cell</h4>\n",
       "<pre>Note that the `__init__.py` is necessary for `nb` to be considered a package,\n",
       "just like usual.</pre>\n",
       "<h4>code cell</h4>\n",
       "<div class=\"highlight\"><pre><span></span><span class=\"n\">show_notebook</span><span class=\"p\">(</span><span class=\"n\">os</span><span class=\"o\">.</span><span class=\"n\">path</span><span class=\"o\">.</span><span class=\"n\">join</span><span class=\"p\">(</span><span class=\"s2\">&quot;nbpackage&quot;</span><span class=\"p\">,</span> <span class=\"s2\">&quot;nbs&quot;</span><span class=\"p\">,</span> <span class=\"s2\">&quot;other.ipynb&quot;</span><span class=\"p\">))</span>\n",
       "</pre></div>\n",
       "\n",
       "<h4>code cell</h4>\n",
       "<div class=\"highlight\"><pre><span></span><span class=\"kn\">from</span> <span class=\"nn\">nbpackage.nbs</span> <span class=\"kn\">import</span> <span class=\"n\">other</span>\n",
       "<span class=\"n\">other</span><span class=\"o\">.</span><span class=\"n\">bar</span><span class=\"p\">(</span><span class=\"mi\">5</span><span class=\"p\">)</span>\n",
       "</pre></div>\n",
       "\n",
       "<h4>markdown cell</h4>\n",
       "<pre>So now we have importable notebooks, from both the local directory and inside packages.\n",
       "\n",
       "I can even put a notebook inside IPython, to further demonstrate that this is working properly:</pre>\n",
       "<h4>code cell</h4>\n",
       "<div class=\"highlight\"><pre><span></span><span class=\"kn\">import</span> <span class=\"nn\">shutil</span>\n",
       "<span class=\"kn\">from</span> <span class=\"nn\">IPython.paths</span> <span class=\"kn\">import</span> <span class=\"n\">get_ipython_package_dir</span>\n",
       "\n",
       "<span class=\"n\">utils</span> <span class=\"o\">=</span> <span class=\"n\">os</span><span class=\"o\">.</span><span class=\"n\">path</span><span class=\"o\">.</span><span class=\"n\">join</span><span class=\"p\">(</span><span class=\"n\">get_ipython_package_dir</span><span class=\"p\">(),</span> <span class=\"s1\">&#39;utils&#39;</span><span class=\"p\">)</span>\n",
       "<span class=\"n\">shutil</span><span class=\"o\">.</span><span class=\"n\">copy</span><span class=\"p\">(</span><span class=\"n\">os</span><span class=\"o\">.</span><span class=\"n\">path</span><span class=\"o\">.</span><span class=\"n\">join</span><span class=\"p\">(</span><span class=\"s2\">&quot;nbpackage&quot;</span><span class=\"p\">,</span> <span class=\"s2\">&quot;mynotebook.ipynb&quot;</span><span class=\"p\">),</span>\n",
       "            <span class=\"n\">os</span><span class=\"o\">.</span><span class=\"n\">path</span><span class=\"o\">.</span><span class=\"n\">join</span><span class=\"p\">(</span><span class=\"n\">utils</span><span class=\"p\">,</span> <span class=\"s2\">&quot;inside_ipython.ipynb&quot;</span><span class=\"p\">)</span>\n",
       "<span class=\"p\">)</span>\n",
       "</pre></div>\n",
       "\n",
       "<h4>markdown cell</h4>\n",
       "<pre>and import the notebook from `IPython.utils`</pre>\n",
       "<h4>code cell</h4>\n",
       "<div class=\"highlight\"><pre><span></span><span class=\"kn\">from</span> <span class=\"nn\">IPython.utils</span> <span class=\"kn\">import</span> <span class=\"n\">inside_ipython</span>\n",
       "<span class=\"n\">inside_ipython</span><span class=\"o\">.</span><span class=\"n\">whatsmyname</span><span class=\"p\">()</span>\n",
       "</pre></div>\n",
       "\n",
       "<h4>markdown cell</h4>\n",
       "<pre>This approach can even import functions and classes that are defined in a notebook using the `%%cython` magic.</pre>"
      ],
      "text/plain": [
       "<IPython.core.display.HTML object>"
      ]
     },
     "metadata": {},
     "output_type": "display_data"
    }
   ],
   "source": [
    "def show_notebook(fname):\n",
    "    \"\"\"display a short summary of the cells of a notebook\"\"\"\n",
    "    import io\n",
    "    with io.open(fname, 'r', encoding='utf-8') as f:\n",
    "        from nbformat import read\n",
    "        nb = read(f, 4)\n",
    "    html = []\n",
    "    for cell in nb.cells:\n",
    "        html.append(\"<h4>%s cell</h4>\" % cell.cell_type)\n",
    "        if cell.cell_type == 'code':\n",
    "            html.append(highlight(cell.source, lexer, formatter))\n",
    "        else:\n",
    "            html.append(\"<pre>%s</pre>\" % cell.source)\n",
    "    display(HTML('\\n'.join(html)))\n",
    "\n",
    "show_notebook('Importing Notebooks.ipynb')"
   ]
  },
  {
   "cell_type": "markdown",
   "metadata": {},
   "source": [
    "# A simple way to import .ipynb files in jupyter notebook are as follows:"
   ]
  },
  {
   "cell_type": "markdown",
   "metadata": {},
   "source": [
    "1) Install `import-ipynb`"
   ]
  },
  {
   "cell_type": "code",
   "execution_count": null,
   "metadata": {},
   "outputs": [],
   "source": [
    "!sudo -E pip install import-ipynb"
   ]
  },
  {
   "cell_type": "markdown",
   "metadata": {},
   "source": [
    "2) Import `import_ipynb` in jupyter notebook. Then import .ipynb file as you import .py file."
   ]
  },
  {
   "cell_type": "code",
   "execution_count": null,
   "metadata": {},
   "outputs": [
    {
     "name": "stdout",
     "output_type": "stream",
     "text": [
      "importing Jupyter notebook from /home/jupyter-sheng_wei/hexo/source/notebooks/Try-Notebook-Import/nbpackage/mynotebook.ipynb\n"
     ]
    },
    {
     "data": {
      "text/plain": [
       "'nbpackage.mynotebook'"
      ]
     },
     "execution_count": null,
     "metadata": {},
     "output_type": "execute_result"
    }
   ],
   "source": [
    "import import_ipynb\n",
    "from nbpackage import mynotebook\n",
    "\n",
    "mynotebook.whatsmyname()"
   ]
  },
  {
   "cell_type": "code",
   "execution_count": null,
   "metadata": {},
   "outputs": [
    {
     "data": {
      "text/plain": [
       "'nbpackage.mynotebook'"
      ]
     },
     "execution_count": null,
     "metadata": {},
     "output_type": "execute_result"
    }
   ],
   "source": [
    "mynotebook.__name__"
   ]
  },
  {
   "cell_type": "code",
   "execution_count": null,
   "metadata": {},
   "outputs": [
    {
     "data": {
      "text/plain": [
       "'/home/jupyter-sheng_wei/hexo/source/notebooks/Try-Notebook-Import/nbpackage/mynotebook.ipynb'"
      ]
     },
     "execution_count": null,
     "metadata": {},
     "output_type": "execute_result"
    }
   ],
   "source": [
    "mynotebook.__file__"
   ]
  },
  {
   "cell_type": "code",
   "execution_count": null,
   "metadata": {},
   "outputs": [
    {
     "name": "stdout",
     "output_type": "stream",
     "text": [
      "importing Jupyter notebook from /home/jupyter-sheng_wei/hexo/source/notebooks/Try-Notebook-Import/nbpackage/nbs/other.ipynb\n"
     ]
    },
    {
     "data": {
      "text/plain": [
       "'barbarbarbarbarbarbarbarbarbar'"
      ]
     },
     "execution_count": null,
     "metadata": {},
     "output_type": "execute_result"
    }
   ],
   "source": [
    "import import_ipynb\n",
    "from nbpackage.nbs import other\n",
    "other.bar(10)"
   ]
  }
 ],
 "metadata": {
  "kernelspec": {
   "display_name": "Python 3",
   "language": "python",
   "name": "python3"
  }
 },
 "nbformat": 4,
 "nbformat_minor": 4
}
