{
 "cells": [
  {
   "cell_type": "markdown",
   "id": "065ff30a-dda6-4d52-a7b0-8abc2a16b865",
   "metadata": {},
   "source": [
    "---\n",
    "Bash"
   ]
  },
  {
   "cell_type": "code",
   "execution_count": null,
   "id": "e9625fa3-3ebd-4e4d-9f8d-c9cf0edd34b4",
   "metadata": {},
   "outputs": [
    {
     "name": "stdout",
     "output_type": "stream",
     "text": [
      "--2023-11-08 19:16:54--  https://amemoba.com/wpn/wp-content/themes/amemoba/images/favicon.ico\n",
      "Resolving amemoba.com (amemoba.com)... 183.90.231.153\n",
      "Connecting to amemoba.com (amemoba.com)|183.90.231.153|:443... connected.\n",
      "HTTP request sent, awaiting response... 200 OK\n",
      "Length: 4286 (4.2K) [image/vnd.microsoft.icon]\n",
      "Saving to: ‘/home/saintway/amemoba-kansai/themes/keep/source/images/amemoba-favicon.ico’\n",
      "\n",
      "/home/saintway/amem 100%[===================>]   4.19K  --.-KB/s    in 0s      \n",
      "\n",
      "2023-11-08 19:16:54 (889 MB/s) - ‘/home/saintway/amemoba-kansai/themes/keep/source/images/amemoba-favicon.ico’ saved [4286/4286]\n",
      "\n"
     ]
    }
   ],
   "source": [
    "wget https://amemoba.com/wpn/wp-content/themes/amemoba/images/favicon.ico -O ~/amemoba-kansai/themes/keep/source/images/amemoba-favicon.ico"
   ]
  },
  {
   "cell_type": "code",
   "execution_count": null,
   "id": "0b834c48-c43d-482e-8e0e-f447c9f99f78",
   "metadata": {},
   "outputs": [
    {
     "name": "stdout",
     "output_type": "stream",
     "text": [
      "Defaulting to user installation because normal site-packages is not writeable\n",
      "Collecting pillow\n",
      "  Downloading Pillow-10.1.0-cp310-cp310-manylinux_2_28_x86_64.whl (3.6 MB)\n",
      "\u001b[2K     \u001b[38;5;107m━━━━━━━━━━━━━━━━━━━━━━━━━━━━━━━━━━━━━━━━\u001b[0m \u001b[32m3.6/3.6 MB\u001b[0m \u001b[31m7.1 MB/s\u001b[0m eta \u001b[36m0:00:00\u001b[0m[36m0:00:01\u001b[0m[36m0:00:01\u001b[0m\n",
      "\u001b[?25hInstalling collected packages: pillow\n",
      "Successfully installed pillow-10.1.0\n"
     ]
    }
   ],
   "source": [
    "pip install pillow"
   ]
  },
  {
   "cell_type": "markdown",
   "id": "8f172226-3111-40b8-948b-4ae6575f0798",
   "metadata": {},
   "source": [
    "---\n",
    "Python"
   ]
  },
  {
   "cell_type": "code",
   "execution_count": null,
   "id": "84f39320-38a2-40df-8054-6cf455a06ddd",
   "metadata": {},
   "outputs": [],
   "source": [
    "from PIL import Image\n",
    "\n",
    "# 打开图片\n",
    "image = Image.open('/home/saintway/amemoba-kansai/themes/keep/source/images/amemoba-favicon.png')\n",
    "\n",
    "# 将图像转换为 RGBA 模式（如果尚未为 RGBA）\n",
    "image = image.convert('RGBA')\n",
    "\n",
    "# 获取图片的尺寸\n",
    "width, height = image.size\n",
    "\n",
    "# 处理每个像素\n",
    "for x in range(width):\n",
    "    for y in range(height):\n",
    "        r, g, b, a = image.getpixel((x, y))\n",
    "\n",
    "        # 判断像素是否为红色（根据具体情况来判断颜色）\n",
    "        if r > 150 and g < 100 and b < 100:\n",
    "            # 将红色部分替换为蓝色\n",
    "            image.putpixel((x, y), (b, g, r, a))  # 设置像素为蓝色并保持原透明度\n",
    "        else:\n",
    "            # 在新图像上复制原图的非红色部分\n",
    "            image.putpixel((x, y), (r, g, b, a))\n",
    "\n",
    "# 保存修改后的图片\n",
    "image.save('/home/saintway/amemoba-kansai/themes/keep/source/images/amemoba-favicon.png')"
   ]
  },
  {
   "cell_type": "markdown",
   "id": "f1f9abbd-b932-436a-9dd4-1aec392e4ebd",
   "metadata": {},
   "source": [
    "---\n",
    "Bash"
   ]
  },
  {
   "cell_type": "code",
   "execution_count": null,
   "id": "317d0c45-aae6-4575-bdd8-1eb26f76b399",
   "metadata": {},
   "outputs": [
    {
     "name": "stdout",
     "output_type": "stream",
     "text": [
      "--2023-11-08 17:25:09--  https://amemoba.com/wpn/wp-content/themes/amemoba/images/common/header-logo.png\n",
      "Resolving amemoba.com (amemoba.com)... 183.90.231.153\n",
      "Connecting to amemoba.com (amemoba.com)|183.90.231.153|:443... connected.\n",
      "HTTP request sent, awaiting response... 200 OK\n",
      "Length: 34002 (33K) [image/png]\n",
      "Saving to: ‘/home/saintway/amemoba-kansai/themes/keep/source/images/amemoba-avatar.png’\n",
      "\n",
      "/home/saintway/amem 100%[===================>]  33.21K  --.-KB/s    in 0s      \n",
      "\n",
      "2023-11-08 17:25:09 (84.7 MB/s) - ‘/home/saintway/amemoba-kansai/themes/keep/source/images/amemoba-avatar.png’ saved [34002/34002]\n",
      "\n"
     ]
    }
   ],
   "source": [
    "wget https://amemoba.com/wpn/wp-content/themes/amemoba/images/common/header-logo.png -O ~/amemoba-kansai/themes/keep/source/images/amemoba-avatar.png"
   ]
  },
  {
   "cell_type": "markdown",
   "id": "e1b60f04-63ea-4f4b-bcb0-d9bda5d9f717",
   "metadata": {},
   "source": [
    "---\n",
    "Python"
   ]
  },
  {
   "cell_type": "code",
   "execution_count": null,
   "id": "61ca721a-e3ee-45e5-a690-33c38c0ea503",
   "metadata": {},
   "outputs": [],
   "source": [
    "from PIL import Image\n",
    "\n",
    "# 打开图片\n",
    "image = Image.open('/home/saintway/amemoba-kansai/themes/keep/source/images/amemoba-avatar.png')\n",
    "\n",
    "# 将图像转换为 RGBA 模式（如果尚未为 RGBA）\n",
    "image = image.convert('RGBA')\n",
    "\n",
    "# 获取图片的尺寸\n",
    "width, height = image.size\n",
    "\n",
    "# 处理每个像素\n",
    "for x in range(width):\n",
    "    for y in range(height):\n",
    "        r, g, b, a = image.getpixel((x, y))\n",
    "\n",
    "        # 判断像素是否为红色（根据具体情况来判断颜色）\n",
    "        if r > 150 and g < 100 and b < 100:\n",
    "            # 将红色部分替换为蓝色\n",
    "            image.putpixel((x, y), (b, g, r, a))  # 设置像素为蓝色并保持原透明度\n",
    "        else:\n",
    "            # 在新图像上复制原图的非红色部分\n",
    "            image.putpixel((x, y), (r, g, b, a))\n",
    "\n",
    "# 保存修改后的图片\n",
    "image.save('/home/saintway/amemoba-kansai/themes/keep/source/images/amemoba-avatar.png')"
   ]
  },
  {
   "cell_type": "code",
   "execution_count": null,
   "id": "c3be7fbb-0a13-473c-a000-5fffa9ce17bf",
   "metadata": {},
   "outputs": [],
   "source": [
    "from PIL import Image\n",
    "\n",
    "# 打开图片\n",
    "image = Image.open('/home/saintway/amemoba-kansai/themes/keep/source/images/amemoba-avatar.png')\n",
    "\n",
    "# 将图像转换为 RGBA 模式（如果尚未为 RGBA）\n",
    "image = image.convert('RGBA')\n",
    "\n",
    "# 获取图片的尺寸\n",
    "width, height = image.size\n",
    "\n",
    "# 处理每个像素\n",
    "for x in range(width):\n",
    "    for y in range(height):\n",
    "        r, g, b, a = image.getpixel((x, y))\n",
    "\n",
    "        # 判断像素是否为蓝色（根据具体情况来判断颜色）\n",
    "        if r < 100 and g < 100 and b > 150:\n",
    "            # 将蓝色部分替换为红色\n",
    "            image.putpixel((x, y), (b, g, r, a))  # 设置像素为红色并保持原透明度\n",
    "        else:\n",
    "            # 在新图像上复制原图的非蓝色部分\n",
    "            image.putpixel((x, y), (r, g, b, a))\n",
    "\n",
    "# 保存修改后的图片\n",
    "image.save('/home/saintway/amemoba-kansai/themes/keep/source/images/amemoba-avatar.png')"
   ]
  }
 ],
 "metadata": {
  "kernelspec": {
   "display_name": "Python 3 (ipykernel)",
   "language": "python",
   "name": "python3"
  }
 },
 "nbformat": 4,
 "nbformat_minor": 5
}
