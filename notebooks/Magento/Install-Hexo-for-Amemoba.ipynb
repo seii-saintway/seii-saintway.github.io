{
 "cells": [
  {
   "cell_type": "code",
   "execution_count": null,
   "id": "7bd48736-0dfb-4641-998b-b8c08c4c1330",
   "metadata": {},
   "outputs": [],
   "source": [
    "sudo apt update\n",
    "sudo apt install nodejs\n",
    "sudo apt install npm"
   ]
  },
  {
   "cell_type": "code",
   "execution_count": null,
   "id": "40e52c45-a5cd-46f1-ac87-f728926e6361",
   "metadata": {},
   "outputs": [],
   "source": [
    "npm -v"
   ]
  },
  {
   "cell_type": "markdown",
   "id": "3d8d7eb7-2b20-4978-90f5-f2cca0407a88",
   "metadata": {},
   "source": [
    "https://github.com/nvm-sh/nvm"
   ]
  },
  {
   "cell_type": "code",
   "execution_count": null,
   "id": "706d9f64-6b6b-4951-9eea-fadb36f00bbc",
   "metadata": {},
   "outputs": [
    {
     "name": "stdout",
     "output_type": "stream",
     "text": [
      "  % Total    % Received % Xferd  Average Speed   Time    Time     Time  Current\n",
      "                                 Dload  Upload   Total   Spent    Left  Speed\n",
      "100 15916  100 15916    0     0  44046      0 --:--:-- --:--:-- --:--:-- 44088\n",
      "=> Downloading nvm from git to '/home/saintway/.nvm'\n",
      "=> Cloning into '/home/saintway/.nvm'...\n",
      "remote: Enumerating objects: 360, done.\u001b[K\n",
      "remote: Counting objects: 100% (360/360), done.\u001b[K\n",
      "remote: Compressing objects: 100% (306/306), done.\u001b[K\n",
      "remote: Total 360 (delta 41), reused 166 (delta 28), pack-reused 0\u001b[K\n",
      "Receiving objects: 100% (360/360), 220.81 KiB | 5.52 MiB/s, done.\n",
      "Resolving deltas: 100% (41/41), done.\n",
      "* \u001b[32m(HEAD detached at FETCH_HEAD)\u001b[m\n",
      "  master\u001b[m\n",
      "=> Compressing and cleaning up git repository\n",
      "\n",
      "=> Appending nvm source string to /home/saintway/.bashrc\n",
      "=> Appending bash_completion source string to /home/saintway/.bashrc\n",
      "=> Close and reopen your terminal to start using nvm or run the following to use it now:\n",
      "\n",
      "export NVM_DIR=\"$HOME/.nvm\"\n",
      "[ -s \"$NVM_DIR/nvm.sh\" ] && \\. \"$NVM_DIR/nvm.sh\"  # This loads nvm\n",
      "[ -s \"$NVM_DIR/bash_completion\" ] && \\. \"$NVM_DIR/bash_completion\"  # This loads nvm bash_completion\n"
     ]
    }
   ],
   "source": [
    "curl -o- https://raw.githubusercontent.com/nvm-sh/nvm/v0.39.5/install.sh | bash"
   ]
  },
  {
   "cell_type": "code",
   "execution_count": null,
   "id": "0692df93-3d63-4287-be5b-9db8aa1b8c5d",
   "metadata": {},
   "outputs": [
    {
     "name": "stdout",
     "output_type": "stream",
     "text": [
      "Downloading and installing node v14.21.3...\n",
      "Downloading https://nodejs.org/dist/v14.21.3/node-v14.21.3-linux-x64.tar.xz...\n",
      "######################################################################### 100.0%                                                                           0.1%\n",
      "Computing checksum with sha256sum\n",
      "Checksums matched!\n",
      "Now using node v14.21.3 (npm v6.14.18)\n",
      "Creating default alias: \u001b[0;32mdefault\u001b[0m \u001b[0;90m->\u001b[0m \u001b[0;32m14\u001b[0m (\u001b[0;90m->\u001b[0m \u001b[0;32mv14.21.3\u001b[0m)\n"
     ]
    }
   ],
   "source": [
    "nvm install 14"
   ]
  },
  {
   "cell_type": "code",
   "execution_count": null,
   "id": "0db850e7-38e9-4792-9f53-240b60350848",
   "metadata": {},
   "outputs": [
    {
     "name": "stdout",
     "output_type": "stream",
     "text": [
      "v14.21.3\n"
     ]
    }
   ],
   "source": [
    "node -v"
   ]
  },
  {
   "cell_type": "markdown",
   "id": "2608e0bd-51f5-4671-b0d8-75270c17c040",
   "metadata": {},
   "source": [
    "https://hexo.io/"
   ]
  },
  {
   "cell_type": "code",
   "execution_count": null,
   "id": "4423cd11-a5c6-44e4-afdd-7298bc31da94",
   "metadata": {},
   "outputs": [],
   "source": [
    "npm install hexo-cli -g"
   ]
  },
  {
   "cell_type": "code",
   "execution_count": null,
   "id": "c77d8585-90e2-4e08-aedc-310f5306e520",
   "metadata": {},
   "outputs": [],
   "source": [
    "hexo init ~/amemoba-kansai"
   ]
  },
  {
   "cell_type": "code",
   "execution_count": null,
   "id": "a417e58c-9a7f-4ff7-9e93-e64d79a88757",
   "metadata": {},
   "outputs": [],
   "source": [
    "cd ~/amemoba-kansai && npm install"
   ]
  },
  {
   "cell_type": "markdown",
   "id": "927d2e19-aecc-499c-bb3b-12b601f2f0c7",
   "metadata": {},
   "source": [
    "---\n",
    "* https://github.com/XPoet/hexo-theme-keep\n",
    "* https://keep-docs.xpoet.cn/"
   ]
  },
  {
   "cell_type": "code",
   "execution_count": null,
   "id": "e54cdba0-4a65-4730-a672-95f60350897b",
   "metadata": {},
   "outputs": [
    {
     "name": "stdout",
     "output_type": "stream",
     "text": [
      "Cloning into '/home/saintway/amemoba-kansai/themes/redefine'...\n",
      "remote: Enumerating objects: 5374, done.\u001b[K\n",
      "remote: Counting objects: 100% (1475/1475), done.\u001b[K\n",
      "remote: Compressing objects: 100% (443/443), done.\u001b[K\n",
      "remote: Total 5374 (delta 1118), reused 1219 (delta 1020), pack-reused 3899\u001b[K\n",
      "Receiving objects: 100% (5374/5374), 42.71 MiB | 12.94 MiB/s, done.\n",
      "Resolving deltas: 100% (3608/3608), done.\n"
     ]
    }
   ],
   "source": [
    "git clone https://github.com/EvanNotFound/hexo-theme-redefine.git ~/amemoba-kansai/themes/redefine"
   ]
  },
  {
   "cell_type": "code",
   "execution_count": null,
   "id": "1036bcdb-0e4a-409d-8f37-a513ec7069a2",
   "metadata": {},
   "outputs": [
    {
     "name": "stdout",
     "output_type": "stream",
     "text": [
      "--2023-10-22 14:15:55--  https://amemoba.com/wpn/wp-content/themes/amemoba/images/favicon.ico\n",
      "Resolving amemoba.com (amemoba.com)... 183.90.231.153\n",
      "Connecting to amemoba.com (amemoba.com)|183.90.231.153|:443... connected.\n",
      "HTTP request sent, awaiting response... 200 OK\n",
      "Length: 4286 (4.2K) [image/vnd.microsoft.icon]\n",
      "Saving to: ‘/home/saintway/amemoba-kansai/themes/redefine/source/images/amemoba-favicon.ico’\n",
      "\n",
      "/home/saintway/amem 100%[===================>]   4.19K  --.-KB/s    in 0s      \n",
      "\n",
      "2023-10-22 14:15:55 (1.25 GB/s) - ‘/home/saintway/amemoba-kansai/themes/redefine/source/images/amemoba-favicon.ico’ saved [4286/4286]\n",
      "\n"
     ]
    }
   ],
   "source": [
    "wget https://amemoba.com/wpn/wp-content/themes/amemoba/images/favicon.ico -O ~/amemoba-kansai/themes/redefine/source/images/amemoba-favicon.ico"
   ]
  },
  {
   "cell_type": "code",
   "execution_count": null,
   "id": "5aeaf0d5-83a8-43bd-9d1d-b3834d21e317",
   "metadata": {},
   "outputs": [
    {
     "name": "stdout",
     "output_type": "stream",
     "text": [
      "--2023-10-22 14:39:07--  https://amemoba.com/wpn/wp-content/themes/amemoba/images/common/header-logo.png\n",
      "Resolving amemoba.com (amemoba.com)... 183.90.231.153\n",
      "Connecting to amemoba.com (amemoba.com)|183.90.231.153|:443... connected.\n",
      "HTTP request sent, awaiting response... 200 OK\n",
      "Length: 34002 (33K) [image/png]\n",
      "Saving to: ‘/home/saintway/amemoba-kansai/themes/redefine/source/images/amemoba-avatar.png’\n",
      "\n",
      "/home/saintway/amem 100%[===================>]  33.21K  --.-KB/s    in 0.001s  \n",
      "\n",
      "2023-10-22 14:39:07 (21.7 MB/s) - ‘/home/saintway/amemoba-kansai/themes/redefine/source/images/amemoba-avatar.png’ saved [34002/34002]\n",
      "\n"
     ]
    }
   ],
   "source": [
    "wget https://amemoba.com/wpn/wp-content/themes/amemoba/images/common/header-logo.png -O ~/amemoba-kansai/themes/redefine/source/images/amemoba-avatar.png"
   ]
  },
  {
   "cell_type": "code",
   "execution_count": null,
   "id": "2b9480e8-aa97-46a3-b32b-f30a17339e9c",
   "metadata": {},
   "outputs": [
    {
     "name": "stdout",
     "output_type": "stream",
     "text": [
      "\u001b[32mINFO \u001b[39m Validating config\n",
      "\u001b[32mINFO \u001b[39m Start processing\n",
      "\u001b[32mINFO \u001b[39m Hexo is running at \u001b[4mhttp://localhost:4000/\u001b[24m . Press Ctrl+C to stop.\n",
      "\u001b[32mINFO \u001b[39m \n",
      "===================================================================\n",
      "      ______ __  __  ______  __    __  ______                       \n",
      "     /\\__  _/\\ \\_\\ \\/\\  ___\\/\\ \"-./  \\/\\  ___\\                      \n",
      "     \\/_/\\ \\\\ \\  __ \\ \\  __\\\\ \\ \\-./\\ \\ \\  __\\                      \n",
      "        \\ \\_\\\\ \\_\\ \\_\\ \\_____\\ \\_\\ \\ \\_\\ \\_____\\                    \n",
      "         \\/_/ \\/_/\\/_/\\/_____/\\/_/  \\/_/\\/_____/                    \n",
      "                                                               \n",
      " ______  ______  _____   ______  ______ __  __   __  ______    \n",
      "/\\  == \\/\\  ___\\/\\  __-./\\  ___\\/\\  ___/\\ \\/\\ \"-.\\ \\/\\  ___\\   \n",
      "\\ \\  __<\\ \\  __\\\\ \\ \\/\\ \\ \\  __\\\\ \\  __\\ \\ \\ \\ \\-.  \\ \\  __\\   \n",
      " \\ \\_\\ \\_\\ \\_____\\ \\____-\\ \\_____\\ \\_\\  \\ \\_\\ \\_\\\\\"\\_\\ \\_____\\ \n",
      "  \\/_/ /_/\\/_____/\\/____/ \\/_____/\\/_/   \\/_/\\/_/ \\/_/\\/_____/\n",
      "                                                               \n",
      "  Github: https://github.com/EvanNotFound/hexo-theme-redefine\n",
      "      current version is v2.5.0,latest version is v2.5.0\n",
      "===================================================================\n"
     ]
    }
   ],
   "source": [
    "cd ~/amemoba-kansai && hexo server"
   ]
  },
  {
   "cell_type": "code",
   "execution_count": null,
   "id": "6a9ae5b2-f3e0-4f04-b09c-d233fe3f45a2",
   "metadata": {},
   "outputs": [],
   "source": [
    "cd ~/amemoba-kansai && npm install hexo-deployer-git --save"
   ]
  }
 ],
 "metadata": {
  "kernelspec": {
   "display_name": "Bash",
   "language": "bash",
   "name": "bash"
  }
 },
 "nbformat": 4,
 "nbformat_minor": 5
}
