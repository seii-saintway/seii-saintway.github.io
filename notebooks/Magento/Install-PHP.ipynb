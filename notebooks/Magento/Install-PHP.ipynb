{
 "cells": [
  {
   "cell_type": "markdown",
   "id": "aa5365a1-fd45-4479-8cab-7fd0783cba57",
   "metadata": {},
   "source": [
    "---\n",
    "Debian 11"
   ]
  },
  {
   "cell_type": "code",
   "execution_count": null,
   "id": "6fce0dad-44c9-40cf-8a15-0fe5cf8bed6a",
   "metadata": {},
   "outputs": [],
   "source": [
    "sudo wget -O /etc/apt/trusted.gpg.d/php.gpg https://packages.sury.org/php/apt.gpg\n",
    "sudo sh -c 'echo \"deb https://packages.sury.org/php/ $(lsb_release -sc) main\" > /etc/apt/sources.list.d/php.list'"
   ]
  },
  {
   "cell_type": "code",
   "execution_count": null,
   "id": "da6bbf6c-c2ee-4d53-a646-1a5cbcd58daf",
   "metadata": {},
   "outputs": [],
   "source": [
    "sudo apt update"
   ]
  },
  {
   "cell_type": "code",
   "execution_count": null,
   "id": "4b44702e-e49a-44d2-bc14-8cb90158b25c",
   "metadata": {},
   "outputs": [],
   "source": [
    "sudo apt install php8.2"
   ]
  },
  {
   "cell_type": "code",
   "execution_count": null,
   "id": "a0406059-1172-422e-b723-7e89fd8c925f",
   "metadata": {},
   "outputs": [
    {
     "name": "stdout",
     "output_type": "stream",
     "text": [
      "PHP 8.2.12 (cli) (built: Oct 27 2023 13:01:32) (NTS)\n",
      "Copyright (c) The PHP Group\n",
      "Zend Engine v4.2.12, Copyright (c) Zend Technologies\n",
      "    with Zend OPcache v8.2.12, Copyright (c), by Zend Technologies\n"
     ]
    }
   ],
   "source": [
    "php -v"
   ]
  },
  {
   "cell_type": "code",
   "execution_count": null,
   "id": "6cd564d1-7d8f-44ba-a9f2-d644dafbe6f5",
   "metadata": {},
   "outputs": [
    {
     "name": "stdout",
     "output_type": "stream",
     "text": [
      "Configuration File (php.ini) Path: /etc/php/8.2/cli\n",
      "Loaded Configuration File:         /etc/php/8.2/cli/php.ini\n",
      "Scan for additional .ini files in: /etc/php/8.2/cli/conf.d\n",
      "Additional .ini files parsed:      /etc/php/8.2/cli/conf.d/10-mysqlnd.ini,\n",
      "/etc/php/8.2/cli/conf.d/10-opcache.ini,\n",
      "/etc/php/8.2/cli/conf.d/10-pdo.ini,\n",
      "/etc/php/8.2/cli/conf.d/15-xml.ini,\n",
      "/etc/php/8.2/cli/conf.d/20-bcmath.ini,\n",
      "/etc/php/8.2/cli/conf.d/20-calendar.ini,\n",
      "/etc/php/8.2/cli/conf.d/20-ctype.ini,\n",
      "/etc/php/8.2/cli/conf.d/20-curl.ini,\n",
      "/etc/php/8.2/cli/conf.d/20-dom.ini,\n",
      "/etc/php/8.2/cli/conf.d/20-exif.ini,\n",
      "/etc/php/8.2/cli/conf.d/20-ffi.ini,\n",
      "/etc/php/8.2/cli/conf.d/20-fileinfo.ini,\n",
      "/etc/php/8.2/cli/conf.d/20-ftp.ini,\n",
      "/etc/php/8.2/cli/conf.d/20-gd.ini,\n",
      "/etc/php/8.2/cli/conf.d/20-gettext.ini,\n",
      "/etc/php/8.2/cli/conf.d/20-iconv.ini,\n",
      "/etc/php/8.2/cli/conf.d/20-intl.ini,\n",
      "/etc/php/8.2/cli/conf.d/20-mbstring.ini,\n",
      "/etc/php/8.2/cli/conf.d/20-mysqli.ini,\n",
      "/etc/php/8.2/cli/conf.d/20-pdo_mysql.ini,\n",
      "/etc/php/8.2/cli/conf.d/20-phar.ini,\n",
      "/etc/php/8.2/cli/conf.d/20-posix.ini,\n",
      "/etc/php/8.2/cli/conf.d/20-readline.ini,\n",
      "/etc/php/8.2/cli/conf.d/20-shmop.ini,\n",
      "/etc/php/8.2/cli/conf.d/20-simplexml.ini,\n",
      "/etc/php/8.2/cli/conf.d/20-soap.ini,\n",
      "/etc/php/8.2/cli/conf.d/20-sockets.ini,\n",
      "/etc/php/8.2/cli/conf.d/20-sysvmsg.ini,\n",
      "/etc/php/8.2/cli/conf.d/20-sysvsem.ini,\n",
      "/etc/php/8.2/cli/conf.d/20-sysvshm.ini,\n",
      "/etc/php/8.2/cli/conf.d/20-tokenizer.ini,\n",
      "/etc/php/8.2/cli/conf.d/20-xmlreader.ini,\n",
      "/etc/php/8.2/cli/conf.d/20-xmlwriter.ini,\n",
      "/etc/php/8.2/cli/conf.d/20-xsl.ini,\n",
      "/etc/php/8.2/cli/conf.d/20-zip.ini\n",
      "\n"
     ]
    }
   ],
   "source": [
    "php --ini"
   ]
  },
  {
   "cell_type": "code",
   "execution_count": null,
   "id": "cf1d63ce-daf7-416d-a01c-f42c95fb9c62",
   "metadata": {},
   "outputs": [
    {
     "name": "stdout",
     "output_type": "stream",
     "text": [
      "[PHP Modules]\n",
      "bcmath\n",
      "calendar\n",
      "Core\n",
      "ctype\n",
      "curl\n",
      "date\n",
      "dom\n",
      "exif\n",
      "FFI\n",
      "fileinfo\n",
      "filter\n",
      "ftp\n",
      "gd\n",
      "gettext\n",
      "hash\n",
      "iconv\n",
      "intl\n",
      "json\n",
      "libxml\n",
      "mbstring\n",
      "mysqli\n",
      "mysqlnd\n",
      "openssl\n",
      "pcntl\n",
      "pcre\n",
      "PDO\n",
      "pdo_mysql\n",
      "Phar\n",
      "posix\n",
      "random\n",
      "readline\n",
      "Reflection\n",
      "session\n",
      "shmop\n",
      "SimpleXML\n",
      "soap\n",
      "sockets\n",
      "sodium\n",
      "SPL\n",
      "standard\n",
      "sysvmsg\n",
      "sysvsem\n",
      "sysvshm\n",
      "tokenizer\n",
      "xml\n",
      "xmlreader\n",
      "xmlwriter\n",
      "xsl\n",
      "Zend OPcache\n",
      "zip\n",
      "zlib\n",
      "\n",
      "[Zend Modules]\n",
      "Zend OPcache\n",
      "\n"
     ]
    }
   ],
   "source": [
    "php -m"
   ]
  },
  {
   "cell_type": "code",
   "execution_count": null,
   "id": "594acb1f-a916-4a0e-8632-e247be177851",
   "metadata": {},
   "outputs": [],
   "source": [
    "sudo apt install php8.2-bcmath\n",
    "sudo apt install php8.2-curl\n",
    "sudo apt install php8.2-dom\n",
    "sudo apt install php8.2-gd\n",
    "sudo apt install php8.2-intl\n",
    "sudo apt install php8.2-mysql\n",
    "sudo apt install php8.2-simplexml\n",
    "sudo apt install php8.2-soap\n",
    "sudo apt install php8.2-xsl\n",
    "sudo apt install php8.2-zip"
   ]
  },
  {
   "cell_type": "code",
   "execution_count": null,
   "id": "98985a8f-97e8-4c4e-817d-8ca1fe95b566",
   "metadata": {},
   "outputs": [],
   "source": [
    "sudo apt install php-mbstring"
   ]
  }
 ],
 "metadata": {
  "kernelspec": {
   "display_name": "Bash",
   "language": "bash",
   "name": "bash"
  }
 },
 "nbformat": 4,
 "nbformat_minor": 5
}
