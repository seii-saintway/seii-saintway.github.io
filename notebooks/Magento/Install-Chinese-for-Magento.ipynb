{
 "cells": [
  {
   "cell_type": "code",
   "execution_count": null,
   "id": "93d8d9cf-a951-45dd-a79b-2fcc54058649",
   "metadata": {},
   "outputs": [],
   "source": [
    "git clone https://github.com/amemoba/magento-i18n ~/amemoba-kobe/app/i18n/Magento"
   ]
  },
  {
   "cell_type": "code",
   "execution_count": null,
   "id": "c06c3522-d4da-41ac-aa1a-e87e9b4ba6c3",
   "metadata": {},
   "outputs": [],
   "source": [
    "cd ~/amemoba-kobe && bin/magento cache:clean"
   ]
  },
  {
   "cell_type": "code",
   "execution_count": null,
   "id": "24600436-9aa3-45c6-912a-af0cf0497dac",
   "metadata": {},
   "outputs": [],
   "source": [
    "rm ~/amemoba-kobe/pub/static/adminhtml/Magento/backend/zh_Hans_CN/js-translation.json\n",
    "rm ~/amemoba-kobe/pub/static/frontend/Magento/luma/zh_Hans_CN/js-translation.json"
   ]
  },
  {
   "cell_type": "code",
   "execution_count": null,
   "id": "e9ce71e5-b17b-44ce-b4b9-e42b72b94e29",
   "metadata": {},
   "outputs": [],
   "source": [
    "cd ~/amemoba-kobe && bin/magento setup:static-content:deploy -f zh_Hans_CN\n",
    "cd ~/amemoba-kobe && bin/magento cache:flush"
   ]
  }
 ],
 "metadata": {
  "kernelspec": {
   "display_name": "Bash",
   "language": "bash",
   "name": "bash"
  }
 },
 "nbformat": 4,
 "nbformat_minor": 5
}
