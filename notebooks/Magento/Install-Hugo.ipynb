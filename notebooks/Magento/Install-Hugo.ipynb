{
 "cells": [
  {
   "cell_type": "markdown",
   "id": "81722372-c0ba-4863-af93-32de59ba5f71",
   "metadata": {},
   "source": [
    "https://github.com/gohugoio/hugo"
   ]
  }
 ],
 "metadata": {
  "kernelspec": {
   "display_name": "Bash",
   "language": "bash",
   "name": "bash"
  }
 },
 "nbformat": 4,
 "nbformat_minor": 5
}
