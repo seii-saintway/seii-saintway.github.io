{
 "cells": [
  {
   "cell_type": "code",
   "execution_count": null,
   "id": "93d8d9cf-a951-45dd-a79b-2fcc54058649",
   "metadata": {},
   "outputs": [
    {
     "name": "stdout",
     "output_type": "stream",
     "text": [
      "Cloning into 'magento-ja'...\n",
      "remote: Enumerating objects: 114, done.\u001b[K\n",
      "remote: Counting objects: 100% (16/16), done.\u001b[K\n",
      "remote: Compressing objects: 100% (13/13), done.\u001b[K\n",
      "remote: Total 114 (delta 4), reused 9 (delta 3), pack-reused 98\u001b[K\n",
      "Receiving objects: 100% (114/114), 1.56 MiB | 5.37 MiB/s, done.\n",
      "Resolving deltas: 100% (53/53), done.\n"
     ]
    }
   ],
   "source": [
    "cd /mnt/d && git clone https://github.com/magentoj/language-ja_JP magento-ja"
   ]
  },
  {
   "cell_type": "code",
   "execution_count": null,
   "id": "bbc8de2c-e998-467f-a318-5a5c9849390d",
   "metadata": {},
   "outputs": [],
   "source": [
    "mkdir -p ~/amemoba-kobe/app/i18n/Magento/ja_JP/\n",
    "cp /mnt/d/magento-ja/composer.json ~/amemoba-kobe/app/i18n/Magento/ja_JP/\n",
    "cp /mnt/d/magento-ja/language.xml ~/amemoba-kobe/app/i18n/Magento/ja_JP/\n",
    "cp /mnt/d/magento-ja/LICENSE.txt ~/amemoba-kobe/app/i18n/Magento/ja_JP/\n",
    "cp /mnt/d/magento-ja/LICENSE_AFL.txt ~/amemoba-kobe/app/i18n/Magento/ja_JP/\n",
    "cp /mnt/d/magento-ja/registration.php ~/amemoba-kobe/app/i18n/Magento/ja_JP/"
   ]
  },
  {
   "cell_type": "code",
   "execution_count": null,
   "id": "8a15270c-2a57-4091-8b22-b2cf067c2d7b",
   "metadata": {},
   "outputs": [],
   "source": [
    "cp /mnt/d/magento-ja/ja_JP.csv ~/amemoba-kobe/app/i18n/Magento/ja_JP/"
   ]
  },
  {
   "cell_type": "code",
   "execution_count": null,
   "id": "c06c3522-d4da-41ac-aa1a-e87e9b4ba6c3",
   "metadata": {},
   "outputs": [],
   "source": [
    "cd ~/amemoba-kobe && bin/magento cache:clean"
   ]
  },
  {
   "cell_type": "code",
   "execution_count": null,
   "id": "24600436-9aa3-45c6-912a-af0cf0497dac",
   "metadata": {},
   "outputs": [],
   "source": [
    "rm ~/amemoba-kobe/pub/static/adminhtml/Magento/backend/ja_JP/js-translation.json\n",
    "rm ~/amemoba-kobe/pub/static/frontend/Magento/luma/ja_JP/js-translation.json"
   ]
  },
  {
   "cell_type": "code",
   "execution_count": null,
   "id": "e9ce71e5-b17b-44ce-b4b9-e42b72b94e29",
   "metadata": {},
   "outputs": [],
   "source": [
    "cd ~/amemoba-kobe && bin/magento setup:static-content:deploy -f ja_JP\n",
    "cd ~/amemoba-kobe && bin/magento cache:flush"
   ]
  }
 ],
 "metadata": {
  "kernelspec": {
   "display_name": "Bash",
   "language": "bash",
   "name": "bash"
  }
 },
 "nbformat": 4,
 "nbformat_minor": 5
}
