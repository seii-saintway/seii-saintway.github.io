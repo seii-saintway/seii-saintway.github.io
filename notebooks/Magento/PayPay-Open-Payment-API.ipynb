{
 "cells": [
  {
   "cell_type": "markdown",
   "id": "216c4b55-ec9f-4fc4-9b31-bbf8e25f5d3a",
   "metadata": {},
   "source": [
    "https://github.com/paypay/paypayopa-sdk-php"
   ]
  },
  {
   "cell_type": "markdown",
   "id": "c8146960-2bdf-4923-af4f-fe2bc8aaae3f",
   "metadata": {},
   "source": [
    "https://developer.paypay.ne.jp/products/docs/webpayment"
   ]
  },
  {
   "cell_type": "code",
   "execution_count": null,
   "id": "3b9b49ef-135b-49c4-8b2d-e7a572dc5c3d",
   "metadata": {},
   "outputs": [],
   "source": []
  }
 ],
 "metadata": {
  "kernelspec": {
   "display_name": "PHP",
   "language": "php",
   "name": "jupyter-php"
  }
 },
 "nbformat": 4,
 "nbformat_minor": 5
}
