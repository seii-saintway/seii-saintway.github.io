{
 "cells": [
  {
   "cell_type": "code",
   "execution_count": null,
   "id": "a6808f65-48d0-4aee-a08e-6025aa51aa2b",
   "metadata": {},
   "outputs": [],
   "source": [
    "composer global require psy/psysh"
   ]
  },
  {
   "cell_type": "code",
   "execution_count": null,
   "id": "a46b3ae8-eb03-4321-847e-203fb600feef",
   "metadata": {},
   "outputs": [],
   "source": [
    "~/.config/composer/vendor/bin/psysh"
   ]
  },
  {
   "cell_type": "markdown",
   "id": "5b6438cd-7015-43b2-8622-8ab39d772e07",
   "metadata": {},
   "source": [
    "---\n",
    "zmq"
   ]
  },
  {
   "cell_type": "code",
   "execution_count": null,
   "id": "c67ecc6a-6a35-4090-8124-763473d44ea3",
   "metadata": {},
   "outputs": [],
   "source": [
    "git clone https://github.com/zeromq/php-zmq.git"
   ]
  },
  {
   "cell_type": "code",
   "execution_count": null,
   "id": "522b1920-3c3d-44db-bbe0-c5140e6244ed",
   "metadata": {},
   "outputs": [],
   "source": [
    "cd ~/php-zmq && phpize && ./configure\n",
    "cd ~/php-zmq && make\n",
    "cd ~/php-zmq && sudo make install"
   ]
  },
  {
   "cell_type": "markdown",
   "id": "5ac3495b-a20f-4423-a239-c3856a4322cd",
   "metadata": {},
   "source": [
    "---\n",
    "jupyter-php-kernel"
   ]
  },
  {
   "cell_type": "code",
   "execution_count": null,
   "id": "aa3a0484-8ef7-47a3-bf06-16c4b65729ba",
   "metadata": {},
   "outputs": [],
   "source": [
    "git clone https://github.com/amemoba/jupyter-php-kernel.git ~/jupyter-php-kernel"
   ]
  },
  {
   "cell_type": "code",
   "execution_count": null,
   "id": "326f0457-4b5a-452f-bb6d-0d25f2fd13f4",
   "metadata": {},
   "outputs": [],
   "source": [
    "cd ~/jupyter-php-kernel && composer install"
   ]
  },
  {
   "cell_type": "markdown",
   "id": "c3bdbea5-ea5a-430d-b506-30320f74a8dd",
   "metadata": {},
   "source": [
    "---\n",
    "[jupyter-php-install](https://github.com/amemoba/jupyter-php-install)"
   ]
  },
  {
   "cell_type": "code",
   "execution_count": null,
   "id": "56145501-ca93-46a2-b66b-0a2904502833",
   "metadata": {},
   "outputs": [],
   "source": [
    "git clone https://github.com/amemoba/jupyter-php-install.git ~/jupyter-php-install"
   ]
  },
  {
   "cell_type": "code",
   "execution_count": null,
   "id": "244d2255-8198-4604-b567-7a4d1eb52ea2",
   "metadata": {},
   "outputs": [],
   "source": [
    "cd ~/jupyter-php-install && composer install"
   ]
  },
  {
   "cell_type": "code",
   "execution_count": null,
   "id": "508f5ce4-2fb9-485f-a1ec-9f314e5c74f1",
   "metadata": {},
   "outputs": [],
   "source": [
    "cd ~/jupyter-php-install && php src/EntryPoint/main.php -v install"
   ]
  }
 ],
 "metadata": {
  "kernelspec": {
   "display_name": "Bash",
   "language": "bash",
   "name": "bash"
  }
 },
 "nbformat": 4,
 "nbformat_minor": 5
}
