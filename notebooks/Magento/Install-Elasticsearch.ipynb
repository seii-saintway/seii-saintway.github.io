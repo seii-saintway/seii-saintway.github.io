{
 "cells": [
  {
   "cell_type": "code",
   "execution_count": null,
   "id": "715ef807-6c89-4df7-80ce-97c97426e863",
   "metadata": {},
   "outputs": [],
   "source": [
    "sudo apt install docker.io"
   ]
  },
  {
   "cell_type": "code",
   "execution_count": null,
   "id": "587a357e-46bc-4b55-b882-11c8ee79387d",
   "metadata": {},
   "outputs": [],
   "source": [
    "sudo usermod -aG docker saintway"
   ]
  },
  {
   "cell_type": "code",
   "execution_count": null,
   "id": "dec05df2-ccef-4780-a347-2a62fb8f811b",
   "metadata": {},
   "outputs": [
    {
     "name": "stdout",
     "output_type": "stream",
     "text": [
      "0c4dc0164ede8ec461c44d0e10dc522d1fea16de38298432c3ab1892c026869b\n"
     ]
    }
   ],
   "source": [
    "docker network create elastic"
   ]
  },
  {
   "cell_type": "markdown",
   "id": "29bd8c26-eea0-46d2-9cae-bf836415853c",
   "metadata": {},
   "source": [
    "---\n",
    "[Elasticsearch 8.10.2](https://www.elastic.co/guide/en/elasticsearch/reference/current/run-elasticsearch-locally.html)"
   ]
  },
  {
   "cell_type": "code",
   "execution_count": null,
   "id": "9b255e7b-7715-487c-9e9b-a00f7c8250b4",
   "metadata": {},
   "outputs": [],
   "source": [
    "docker pull docker.elastic.co/elasticsearch/elasticsearch:8.10.2"
   ]
  },
  {
   "cell_type": "code",
   "execution_count": null,
   "id": "7064e64f-1c6a-45c7-b6ad-0320995c2cd2",
   "metadata": {},
   "outputs": [],
   "source": [
    "docker run --name elasticsearch --net elastic -p 9200:9200 -p 9300:9300 -e \"discovery.type=single-node\" -t docker.elastic.co/elasticsearch/elasticsearch:8.10.2"
   ]
  },
  {
   "cell_type": "markdown",
   "id": "c561e843-9c2f-49d5-b323-ba2d35cc6dce",
   "metadata": {},
   "source": [
    "---\n",
    "[Elasticsearch 7.17.13](https://www.elastic.co/guide/en/elasticsearch/reference/7.17/getting-started.html)"
   ]
  },
  {
   "cell_type": "code",
   "execution_count": null,
   "id": "3b0d2df6-c4bb-4b87-adac-02cf05428b93",
   "metadata": {},
   "outputs": [
    {
     "name": "stdout",
     "output_type": "stream",
     "text": [
      "7.17.13: Pulling from elasticsearch/elasticsearch\n",
      "\n",
      "\u001b[1B5e7b73a4: Pulling fs layer \n",
      "\u001b[1B133c4766: Pulling fs layer \n",
      "\u001b[1Bff004a8c: Pulling fs layer \n",
      "\u001b[1B2bc75041: Pulling fs layer \n",
      "\u001b[1B4cd7d8ab: Pulling fs layer \n",
      "\u001b[1B59d44b65: Pulling fs layer \n",
      "\u001b[1Be327c328: Pulling fs layer \n",
      "\u001b[1B54e541f7: Pulling fs layer \n",
      "\u001b[1Bc4728702: Pulling fs layer \n",
      "\u001b[1BDigest: sha256:67b2d720621da7092ef18fe5ccca2eeb7b863b55d4bcee30108224520aebd92c\n",
      "Status: Downloaded newer image for docker.elastic.co/elasticsearch/elasticsearch:7.17.13\n",
      "docker.elastic.co/elasticsearch/elasticsearch:7.17.13\n"
     ]
    }
   ],
   "source": [
    "docker pull docker.elastic.co/elasticsearch/elasticsearch:7.17.13"
   ]
  },
  {
   "cell_type": "code",
   "execution_count": null,
   "id": "8343ff2d-4dc6-44d2-835c-61fb5e93951d",
   "metadata": {},
   "outputs": [],
   "source": [
    "docker run --name elasticsearch --net elastic -p 127.0.0.1:9200:9200 -p 127.0.0.1:9300:9300 -e \"discovery.type=single-node\" docker.elastic.co/elasticsearch/elasticsearch:7.17.13"
   ]
  },
  {
   "cell_type": "code",
   "execution_count": null,
   "id": "eecd2994-d9b2-4c52-8323-b875f080328d",
   "metadata": {},
   "outputs": [],
   "source": [
    "curl -X GET http://localhost:9200/"
   ]
  },
  {
   "cell_type": "code",
   "execution_count": null,
   "id": "487fbe7e-2655-45e2-a2d3-530ed436f10b",
   "metadata": {},
   "outputs": [],
   "source": [
    "docker start elasticsearch\n",
    "docker logs elasticsearch"
   ]
  }
 ],
 "metadata": {
  "kernelspec": {
   "display_name": "Bash",
   "language": "bash",
   "name": "bash"
  }
 },
 "nbformat": 4,
 "nbformat_minor": 5
}
