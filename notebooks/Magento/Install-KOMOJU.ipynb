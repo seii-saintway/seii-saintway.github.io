{
 "cells": [
  {
   "cell_type": "markdown",
   "id": "46f7a316-9883-4a10-a85d-f315a4db5412",
   "metadata": {},
   "source": [
    "[Magento with KOMOJU](https://ja.komoju.com/integrations/magento-integration/)\n",
    "* https://github.com/degica/komoju-magento/"
   ]
  },
  {
   "cell_type": "code",
   "execution_count": null,
   "id": "3a8c2d0f-3071-45ac-a6ad-184d4403df0f",
   "metadata": {},
   "outputs": [
    {
     "name": "stdout",
     "output_type": "stream",
     "text": [
      "Cloning into '/home/jupyter-saintway/komoju'...\n",
      "remote: Enumerating objects: 1991, done.        \n",
      "remote: Counting objects: 100% (1/1), done.        \n",
      "remote: Total 1991 (delta 0), reused 0 (delta 0), pack-reused 1990        \n",
      "Receiving objects: 100% (1991/1991), 2.53 MiB | 13.93 MiB/s, done.\n",
      "Resolving deltas: 100% (844/844), done.\n"
     ]
    }
   ],
   "source": [
    "git clone https://github.com/degica/komoju-magento.git ~/komoju"
   ]
  },
  {
   "cell_type": "code",
   "execution_count": null,
   "id": "8e5a10cb-b722-4c96-878d-6afdfd14ee72",
   "metadata": {},
   "outputs": [],
   "source": [
    "cp -r ~/komoju/src/app/code/Komoju ~/magento2/app/code"
   ]
  },
  {
   "cell_type": "code",
   "execution_count": null,
   "id": "5ab326e7-7eeb-491d-a9c4-9a66dcd7f6e6",
   "metadata": {},
   "outputs": [],
   "source": [
    "cd ~/magento2 && bin/magento setup:upgrade\n",
    "cd ~/magento2 && bin/magento setup:di:compile\n",
    "cd ~/magento2 && bin/magento cache:flush"
   ]
  },
  {
   "cell_type": "code",
   "execution_count": null,
   "id": "519338ff-f54c-46a0-bde3-93d12f8955e2",
   "metadata": {},
   "outputs": [],
   "source": [
    "cd ~/magento2 && bin/magento -f setup:static-content:deploy"
   ]
  }
 ],
 "metadata": {
  "kernelspec": {
   "display_name": "Bash",
   "language": "bash",
   "name": "bash"
  }
 },
 "nbformat": 4,
 "nbformat_minor": 5
}
