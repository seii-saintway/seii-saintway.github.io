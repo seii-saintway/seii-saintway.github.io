{
 "cells": [
  {
   "cell_type": "markdown",
   "id": "52b7b067-a0f0-45fc-a45c-e3a49fedd8f6",
   "metadata": {},
   "source": [
    "---\n",
    "Debian 12"
   ]
  },
  {
   "cell_type": "code",
   "execution_count": null,
   "id": "2f46c67e-e195-4529-b45f-3d3f0317b1f4",
   "metadata": {},
   "outputs": [],
   "source": [
    "sudo apt install docker.io"
   ]
  },
  {
   "cell_type": "code",
   "execution_count": null,
   "id": "e8ae841b-7bc7-46a8-84e7-23a524fb2a90",
   "metadata": {},
   "outputs": [],
   "source": [
    "sudo usermod -aG docker saintway"
   ]
  },
  {
   "cell_type": "code",
   "execution_count": null,
   "id": "1c9f14e0-e166-451d-9ea5-0c40880e72cf",
   "metadata": {},
   "outputs": [],
   "source": [
    "sudo service docker start"
   ]
  },
  {
   "cell_type": "code",
   "execution_count": null,
   "id": "a3e054f9-a5f4-4241-9b7d-ad0dbd8866cb",
   "metadata": {},
   "outputs": [],
   "source": [
    "sudo service docker status"
   ]
  },
  {
   "cell_type": "markdown",
   "id": "ed107b73-11e3-42e1-9ec9-8cc81dfb5344",
   "metadata": {},
   "source": [
    "[MySQL Docker](https://hub.docker.com/_/mysql)"
   ]
  },
  {
   "cell_type": "code",
   "execution_count": null,
   "id": "c33098a4-4cd6-45a1-9696-777733d2a60c",
   "metadata": {},
   "outputs": [
    {
     "name": "stdout",
     "output_type": "stream",
     "text": [
      "Using default tag: latest\n",
      "latest: Pulling from library/mysql\n",
      "Digest: sha256:1ee299bf9eb8d2218fcb4fad666a090c92caef48ce524e6edce35f2e2d55170d\n",
      "Status: Image is up to date for mysql:latest\n",
      "docker.io/library/mysql:latest\n"
     ]
    }
   ],
   "source": [
    "docker pull mysql"
   ]
  },
  {
   "cell_type": "code",
   "execution_count": null,
   "id": "920b8f54-5211-4fb0-9aee-8e1342798acd",
   "metadata": {},
   "outputs": [],
   "source": [
    "docker run --name mobaichi -p 127.0.0.1:3306:3306 -e MYSQL_ROOT_PASSWORD=mobaichi -d mysql:8.0-debian"
   ]
  },
  {
   "cell_type": "markdown",
   "id": "ff25ac34-274f-495c-b1fb-03e62bb64e20",
   "metadata": {},
   "source": [
    "``` mysql\n",
    "CREATE DATABASE mobaichi;\n",
    "CREATE USER 'ekp'@'172.17.0.1' IDENTIFIED BY 'ekp';\n",
    "GRANT ALL PRIVILEGES ON mobaichi.* TO 'ekp'@'172.17.0.1';\n",
    "FLUSH PRIVILEGES;\n",
    "EXIT;\n",
    "```"
   ]
  },
  {
   "cell_type": "markdown",
   "id": "b443ed48-1ca1-421c-9c91-c824ce57c380",
   "metadata": {},
   "source": [
    "---\n",
    "Debian 11"
   ]
  },
  {
   "cell_type": "code",
   "execution_count": null,
   "id": "10692d0f-c866-497a-83a2-2530b70dddd9",
   "metadata": {},
   "outputs": [],
   "source": [
    "sudo apt install wget"
   ]
  },
  {
   "cell_type": "code",
   "execution_count": null,
   "id": "e195fed8-5e67-4499-88d7-1965e8ff1155",
   "metadata": {},
   "outputs": [],
   "source": [
    "wget https://dev.mysql.com/get/mysql-apt-config_0.8.26-1_all.deb"
   ]
  },
  {
   "cell_type": "code",
   "execution_count": null,
   "id": "75806837-29e2-4d8e-8328-913958a6c317",
   "metadata": {},
   "outputs": [],
   "source": [
    "sudo apt install lsb-release"
   ]
  },
  {
   "cell_type": "code",
   "execution_count": null,
   "id": "4a31ee27-bcd5-4a3b-bc00-c767df2af4c8",
   "metadata": {},
   "outputs": [],
   "source": [
    "sudo dpkg -i ~/mysql-apt-config_0.8.26-1_all.deb"
   ]
  },
  {
   "cell_type": "code",
   "execution_count": null,
   "id": "3eb7640e-700c-4eca-b773-7d2b46551b21",
   "metadata": {},
   "outputs": [],
   "source": [
    "sudo apt update"
   ]
  },
  {
   "cell_type": "code",
   "execution_count": null,
   "id": "063c3a72-8ca0-4bdb-9001-b67a85955c3e",
   "metadata": {},
   "outputs": [],
   "source": [
    "sudo apt install mysql-server"
   ]
  },
  {
   "cell_type": "code",
   "execution_count": null,
   "id": "9bb4a1bb-1916-4d3f-8164-b0790117f3c3",
   "metadata": {},
   "outputs": [],
   "source": [
    "import random\n",
    "import string\n",
    "''.join(\n",
    "    random.choices(string.ascii_letters + string.digits, k=8)\n",
    ")\n",
    "\n",
    "# MySQL\n",
    "# KQaJ6rYR"
   ]
  },
  {
   "cell_type": "markdown",
   "id": "510abe69-f169-4543-833f-796230e92858",
   "metadata": {},
   "source": [
    "``` mysql\n",
    "CREATE DATABASE mobaichi;\n",
    "CREATE USER 'ekp'@'localhost' IDENTIFIED BY 'ekp';\n",
    "GRANT ALL PRIVILEGES ON mobaichi.* TO 'ekp'@'localhost';\n",
    "FLUSH PRIVILEGES;\n",
    "EXIT;\n",
    "```"
   ]
  },
  {
   "cell_type": "markdown",
   "id": "836796e5-6808-4daa-a7fc-d6a0a9acfa8a",
   "metadata": {},
   "source": [
    "---\n",
    "Ubuntu 22"
   ]
  },
  {
   "cell_type": "code",
   "execution_count": null,
   "id": "9ac8bb6e-cb2b-4604-a9d9-8ff2d628559f",
   "metadata": {},
   "outputs": [],
   "source": [
    "sudo apt install mysql-server"
   ]
  },
  {
   "cell_type": "code",
   "execution_count": null,
   "id": "8e8d9c85-685d-40d2-9583-bf1bad8a794f",
   "metadata": {},
   "outputs": [],
   "source": [
    "mysql --version"
   ]
  },
  {
   "cell_type": "code",
   "execution_count": null,
   "id": "531a8f1c-0b1f-4241-abe1-139511203d82",
   "metadata": {},
   "outputs": [],
   "source": [
    "sudo netstat -tunpl | grep mysql"
   ]
  },
  {
   "cell_type": "code",
   "execution_count": null,
   "id": "85660e2c-a07d-4262-9b76-7d20efd1b521",
   "metadata": {},
   "outputs": [],
   "source": [
    "sudo service mysql status"
   ]
  },
  {
   "cell_type": "markdown",
   "id": "2fe0abb3-a646-40af-8a17-21eddcc76804",
   "metadata": {},
   "source": [
    "``` mysql\n",
    "CREATE DATABASE mobaichi;\n",
    "CREATE USER 'ekp'@'localhost' IDENTIFIED BY 'ekp';\n",
    "GRANT ALL PRIVILEGES ON mobaichi.* TO 'ekp'@'localhost';\n",
    "FLUSH PRIVILEGES;\n",
    "EXIT;\n",
    "```"
   ]
  }
 ],
 "metadata": {
  "kernelspec": {
   "display_name": "Bash",
   "language": "bash",
   "name": "bash"
  }
 },
 "nbformat": 4,
 "nbformat_minor": 5
}
