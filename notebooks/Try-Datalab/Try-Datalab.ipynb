{
 "cells": [
  {
   "cell_type": "markdown",
   "metadata": {},
   "source": [
    "# try Datalab\n",
    "* https://github.com/googledatalab/datalab\n",
    "* https://cloud.google.com/datalab/docs/quickstart\n",
    "* https://cloud.google.com/blog/products/gcp/explore-stackdriver-monitoring-data-with-cloud-datalab\n",
    "* https://medium.com/@salmaan.rashid/using-google-cloud-logging-with-datalab-jupyter-notebooks-74217a085cf"
   ]
  },
  {
   "cell_type": "markdown",
   "metadata": {},
   "source": [
    "## launching Datalab on the Google Cloud Platform\n",
    "https://cloud.google.com/datalab/docs/quickstart"
   ]
  },
  {
   "cell_type": "markdown",
   "metadata": {},
   "source": [
    "## launching Datalab locally\n",
    "https://github.com/googledatalab/datalab/wiki/Getting-Started"
   ]
  },
  {
   "cell_type": "code",
   "execution_count": null,
   "metadata": {},
   "outputs": [],
   "source": [
    "!git clone https://github.com/GoogleCloudPlatform/datalab.git"
   ]
  },
  {
   "cell_type": "code",
   "execution_count": null,
   "metadata": {},
   "outputs": [],
   "source": [
    "!PROJECT_ID=sandbox-243014 datalab/containers/datalab/build.sh"
   ]
  },
  {
   "cell_type": "code",
   "execution_count": null,
   "metadata": {},
   "outputs": [],
   "source": [
    "!PROJECT_ID=sandbox-243014 datalab/containers/datalab/run.sh"
   ]
  },
  {
   "cell_type": "markdown",
   "metadata": {},
   "source": [
    "* https://console.cloud.google.com/gcr/images/cloud-datalab\n",
    "* https://qiita.com/yukotan/items/5d1977fcc7d461efdd43"
   ]
  },
  {
   "cell_type": "code",
   "execution_count": null,
   "metadata": {},
   "outputs": [],
   "source": [
    "!docker run --rm -it -p \"8081:8080\" -v \"${HOME}:/content\" -e \"PROJECT_ID=sandbox-243014\" gcr.io/cloud-datalab/datalab:local"
   ]
  },
  {
   "cell_type": "markdown",
   "metadata": {},
   "source": [
    "# try pydatalab\n",
    "* https://github.com/googledatalab/pydatalab\n",
    "* https://github.com/googledatalab/pydatalab/wiki/Jupyter-Kernel-and-Notebook-Extensions"
   ]
  },
  {
   "cell_type": "code",
   "execution_count": null,
   "metadata": {},
   "outputs": [],
   "source": [
    "!sudo -E pip install datalab\n",
    "!sudo -E jupyter nbextension install --py datalab.notebook --sys-prefix\n",
    "\n",
    "!sudo -E pip install google.cloud.monitoring"
   ]
  },
  {
   "cell_type": "code",
   "execution_count": null,
   "metadata": {},
   "outputs": [],
   "source": [
    "!jupyter nbextension list"
   ]
  },
  {
   "cell_type": "code",
   "execution_count": null,
   "metadata": {},
   "outputs": [],
   "source": [
    "%load_ext google.datalab.kernel\n",
    "%gcs read --object gs://fluentd_test/avro --variable t\n",
    "print(t)"
   ]
  },
  {
   "cell_type": "markdown",
   "metadata": {},
   "source": [
    "## samples of using pydatalab\n",
    "https://github.com/googledatalab/notebooks"
   ]
  },
  {
   "cell_type": "code",
   "execution_count": null,
   "metadata": {},
   "outputs": [],
   "source": [
    "!git clone https://github.com/googledatalab/notebooks.git"
   ]
  },
  {
   "cell_type": "code",
   "execution_count": null,
   "metadata": {},
   "outputs": [],
   "source": [
    "!ls 'notebooks/tutorials/BigQuery/Importing and Exporting Data.ipynb'\n",
    "!ls 'notebooks/tutorials/Storage/Storage Commands.ipynb'"
   ]
  },
  {
   "cell_type": "code",
   "execution_count": null,
   "metadata": {},
   "outputs": [],
   "source": [
    "?set_datalab_project_id"
   ]
  },
  {
   "cell_type": "code",
   "execution_count": null,
   "metadata": {},
   "outputs": [],
   "source": [
    "%load_ext google.datalab.kernel\n",
    "%gcs list --objects gs://fluentd_test"
   ]
  },
  {
   "cell_type": "code",
   "execution_count": null,
   "metadata": {},
   "outputs": [],
   "source": [
    "%load_ext google.datalab.kernel"
   ]
  },
  {
   "cell_type": "code",
   "execution_count": null,
   "metadata": {},
   "outputs": [],
   "source": [
    "%gcs list --project sandbox-243014 --objects gs://fluentd_test"
   ]
  },
  {
   "cell_type": "code",
   "execution_count": null,
   "metadata": {},
   "outputs": [],
   "source": [
    "%env PROJECT_ID=sandbox-243014"
   ]
  },
  {
   "cell_type": "markdown",
   "metadata": {},
   "source": [
    "https://cloud.google.com/bigquery/docs/datalab-migration"
   ]
  },
  {
   "cell_type": "markdown",
   "metadata": {},
   "source": [
    "# source control\n",
    "https://cloud.google.com/datalab/docs/how-to/working-with-notebooks"
   ]
  }
 ],
 "metadata": {
  "kernelspec": {
   "display_name": "Python 3",
   "language": "python",
   "name": "python3"
  }
 },
 "nbformat": 4,
 "nbformat_minor": 4
}
