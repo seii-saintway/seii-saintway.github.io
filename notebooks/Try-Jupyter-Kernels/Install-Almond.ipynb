{
 "cells": [
  {
   "cell_type": "markdown",
   "metadata": {},
   "source": [
    "* https://github.com/mattpap/IScala\n",
    "* https://github.com/apache/incubator-toree\n",
    "* https://github.com/jupyter-incubator/sparkmagic"
   ]
  },
  {
   "cell_type": "markdown",
   "metadata": {},
   "source": [
    "* https://github.com/almond-sh/almond\n",
    "* https://almond.sh/\n",
    "* https://ammonite.io/"
   ]
  }
 ],
 "metadata": {
  "kernelspec": {
   "display_name": "Python 3",
   "language": "python",
   "name": "python3"
  }
 },
 "nbformat": 4,
 "nbformat_minor": 4
}
