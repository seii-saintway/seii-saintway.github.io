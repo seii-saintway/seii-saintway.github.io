{
 "cells": [
  {
   "cell_type": "markdown",
   "metadata": {},
   "source": [
    "* https://ipyparallel.readthedocs.io\n",
    "* https://docs.python.org/3/library/asyncio-task.html\n",
    "* https://realpython.com/async-io-python/"
   ]
  },
  {
   "cell_type": "markdown",
   "metadata": {},
   "source": [
    "* https://jupyter-kernel-gateway.readthedocs.io/en/latest/\n",
    "* https://jupyter-client.readthedocs.io/en/latest/kernels.html\n",
    "* https://jupyter-client.readthedocs.io/en/latest/wrapperkernels.html\n",
    "* https://github.com/dsblank/simple_kernel\n",
    "* https://jupyter-core.readthedocs.io/en/latest/"
   ]
  },
  {
   "cell_type": "code",
   "execution_count": null,
   "metadata": {},
   "outputs": [],
   "source": [
    "!sudo -E pip install ipyparallel"
   ]
  }
 ],
 "metadata": {
  "kernelspec": {
   "display_name": "Python 3",
   "language": "python",
   "name": "python3"
  }
 },
 "nbformat": 4,
 "nbformat_minor": 4
}
