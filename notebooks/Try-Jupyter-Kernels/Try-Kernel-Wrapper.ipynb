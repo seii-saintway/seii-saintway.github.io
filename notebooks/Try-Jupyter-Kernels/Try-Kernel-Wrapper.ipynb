{
 "cells": [
  {
   "cell_type": "markdown",
   "metadata": {},
   "source": [
    "https://jupyter-client.readthedocs.io/en/latest/wrapperkernels.html"
   ]
  },
  {
   "cell_type": "markdown",
   "metadata": {},
   "source": [
    "https://github.com/jupyter/echo_kernel"
   ]
  },
  {
   "cell_type": "code",
   "execution_count": null,
   "metadata": {},
   "outputs": [
    {
     "name": "stdout",
     "output_type": "stream",
     "text": [
      "Collecting echo_kernel\n",
      "  Downloading https://files.pythonhosted.org/packages/37/b0/4a17d79183ca00c7f0c313ed4fbad1eae6800046a21e6ec5538d58feccab/echo_kernel-1.1-py3-none-any.whl\n",
      "Installing collected packages: echo-kernel\n",
      "Successfully installed echo-kernel-1.1\n",
      "Installing Jupyter kernel spec\n"
     ]
    }
   ],
   "source": [
    "!sudo -E pip install echo_kernel\n",
    "!sudo -E python -m echo_kernel.install"
   ]
  },
  {
   "cell_type": "code",
   "execution_count": null,
   "metadata": {},
   "outputs": [
    {
     "data": {
      "text/plain": [
       "'/opt/tljh/user/lib/python3.6/site-packages/echo_kernel/__init__.py'"
      ]
     },
     "execution_count": null,
     "metadata": {},
     "output_type": "execute_result"
    }
   ],
   "source": [
    "import echo_kernel\n",
    "echo_kernel.__file__"
   ]
  },
  {
   "cell_type": "code",
   "execution_count": null,
   "metadata": {},
   "outputs": [
    {
     "name": "stdout",
     "output_type": "stream",
     "text": [
      "total 36\n",
      "drwxr-xr-x   3 root root  4096 Oct 15 02:43 .\n",
      "drwxr-xr-x 192 root root 12288 Oct 15 02:43 ..\n",
      "-rw-r--r--   1 root root    85 Oct 15 02:43 __init__.py\n",
      "-rw-r--r--   1 root root   123 Oct 15 02:43 __main__.py\n",
      "drwxr-xr-x   2 root root  4096 Oct 15 02:43 __pycache__\n",
      "-rw-r--r--   1 root root  1648 Oct 15 02:43 install.py\n",
      "-rw-r--r--   1 root root   882 Oct 15 02:43 kernel.py\n"
     ]
    }
   ],
   "source": [
    "!ls -la /opt/tljh/user/lib/python3.6/site-packages/echo_kernel"
   ]
  },
  {
   "cell_type": "code",
   "execution_count": null,
   "metadata": {},
   "outputs": [],
   "source": [
    "!python -m echo_kernel"
   ]
  },
  {
   "cell_type": "markdown",
   "metadata": {},
   "source": [
    "https://jupyter-console.readthedocs.io/en/latest/"
   ]
  },
  {
   "cell_type": "code",
   "execution_count": null,
   "metadata": {},
   "outputs": [],
   "source": [
    "!sudo -E pip install jupyter-console"
   ]
  },
  {
   "cell_type": "code",
   "execution_count": null,
   "metadata": {},
   "outputs": [],
   "source": [
    "!jupyter console --kernel echo"
   ]
  }
 ],
 "metadata": {
  "kernelspec": {
   "display_name": "Python 3",
   "language": "python",
   "name": "python3"
  }
 },
 "nbformat": 4,
 "nbformat_minor": 4
}
