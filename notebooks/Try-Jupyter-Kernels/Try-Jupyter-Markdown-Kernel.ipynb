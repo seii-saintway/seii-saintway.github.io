{
 "cells": [
  {
   "cell_type": "markdown",
   "metadata": {},
   "source": [
    "https://github.com/vatlab/markdown-kernel"
   ]
  },
  {
   "cell_type": "code",
   "execution_count": null,
   "metadata": {},
   "outputs": [
    {
     "name": "stdout",
     "output_type": "stream",
     "text": [
      "Collecting markdown-kernel\n",
      "  Downloading https://files.pythonhosted.org/packages/80/90/a56772dedf2e78be34db33ba3225e349c6374a76e5639bd5eb768485cf33/markdown_kernel-0.2.1-py3-none-any.whl\n",
      "Requirement already satisfied: markdown in /opt/tljh/user/lib/python3.6/site-packages (from markdown-kernel) (2.6.11)\n",
      "Requirement already satisfied: notebook in /opt/tljh/user/lib/python3.6/site-packages (from markdown-kernel) (5.7.8)\n",
      "Requirement already satisfied: prometheus-client in /opt/tljh/user/lib/python3.6/site-packages (from notebook->markdown-kernel) (0.7.1)\n",
      "Requirement already satisfied: jupyter-client>=5.2.0 in /opt/tljh/user/lib/python3.6/site-packages (from notebook->markdown-kernel) (5.3.4)\n",
      "Requirement already satisfied: jupyter-core>=4.4.0 in /opt/tljh/user/lib/python3.6/site-packages (from notebook->markdown-kernel) (4.6.0)\n",
      "Requirement already satisfied: ipython-genutils in /opt/tljh/user/lib/python3.6/site-packages (from notebook->markdown-kernel) (0.2.0)\n",
      "Requirement already satisfied: nbformat in /opt/tljh/user/lib/python3.6/site-packages (from notebook->markdown-kernel) (4.4.0)\n",
      "Requirement already satisfied: pyzmq>=17 in /opt/tljh/user/lib/python3.6/site-packages (from notebook->markdown-kernel) (18.1.0)\n",
      "Requirement already satisfied: tornado<7,>=4.1 in /opt/tljh/user/lib/python3.6/site-packages (from notebook->markdown-kernel) (5.1.1)\n",
      "Requirement already satisfied: nbconvert in /opt/tljh/user/lib/python3.6/site-packages (from notebook->markdown-kernel) (5.6.0)\n",
      "Requirement already satisfied: ipykernel in /opt/tljh/user/lib/python3.6/site-packages (from notebook->markdown-kernel) (5.1.2)\n",
      "Requirement already satisfied: traitlets>=4.2.1 in /opt/tljh/user/lib/python3.6/site-packages (from notebook->markdown-kernel) (4.3.2)\n",
      "Requirement already satisfied: jinja2 in /opt/tljh/user/lib/python3.6/site-packages (from notebook->markdown-kernel) (2.10.1)\n",
      "Requirement already satisfied: Send2Trash in /opt/tljh/user/lib/python3.6/site-packages (from notebook->markdown-kernel) (1.5.0)\n",
      "Requirement already satisfied: terminado>=0.8.1 in /opt/tljh/user/lib/python3.6/site-packages (from notebook->markdown-kernel) (0.8.2)\n",
      "Requirement already satisfied: python-dateutil>=2.1 in /opt/tljh/user/lib/python3.6/site-packages (from jupyter-client>=5.2.0->notebook->markdown-kernel) (2.8.0)\n",
      "Requirement already satisfied: jsonschema!=2.5.0,>=2.4 in /opt/tljh/user/lib/python3.6/site-packages (from nbformat->notebook->markdown-kernel) (3.0.2)\n",
      "Requirement already satisfied: bleach in /opt/tljh/user/lib/python3.6/site-packages (from nbconvert->notebook->markdown-kernel) (3.1.0)\n",
      "Requirement already satisfied: defusedxml in /opt/tljh/user/lib/python3.6/site-packages (from nbconvert->notebook->markdown-kernel) (0.6.0)\n",
      "Requirement already satisfied: mistune<2,>=0.8.1 in /opt/tljh/user/lib/python3.6/site-packages (from nbconvert->notebook->markdown-kernel) (0.8.4)\n",
      "Requirement already satisfied: pygments in /opt/tljh/user/lib/python3.6/site-packages (from nbconvert->notebook->markdown-kernel) (2.4.2)\n",
      "Requirement already satisfied: pandocfilters>=1.4.1 in /opt/tljh/user/lib/python3.6/site-packages (from nbconvert->notebook->markdown-kernel) (1.4.2)\n",
      "Requirement already satisfied: testpath in /opt/tljh/user/lib/python3.6/site-packages (from nbconvert->notebook->markdown-kernel) (0.4.2)\n",
      "Requirement already satisfied: entrypoints>=0.2.2 in /opt/tljh/user/lib/python3.6/site-packages (from nbconvert->notebook->markdown-kernel) (0.3)\n",
      "Requirement already satisfied: ipython>=5.0.0 in /opt/tljh/user/lib/python3.6/site-packages (from ipykernel->notebook->markdown-kernel) (7.8.0)\n",
      "Requirement already satisfied: decorator in /opt/tljh/user/lib/python3.6/site-packages (from traitlets>=4.2.1->notebook->markdown-kernel) (4.4.0)\n",
      "Requirement already satisfied: six in /opt/tljh/user/lib/python3.6/site-packages (from traitlets>=4.2.1->notebook->markdown-kernel) (1.12.0)\n",
      "Requirement already satisfied: MarkupSafe>=0.23 in /opt/tljh/user/lib/python3.6/site-packages (from jinja2->notebook->markdown-kernel) (1.1.1)\n",
      "Requirement already satisfied: ptyprocess; os_name != \"nt\" in /opt/tljh/user/lib/python3.6/site-packages (from terminado>=0.8.1->notebook->markdown-kernel) (0.6.0)\n",
      "Requirement already satisfied: attrs>=17.4.0 in /opt/tljh/user/lib/python3.6/site-packages (from jsonschema!=2.5.0,>=2.4->nbformat->notebook->markdown-kernel) (19.1.0)\n",
      "Requirement already satisfied: setuptools in /opt/tljh/user/lib/python3.6/site-packages (from jsonschema!=2.5.0,>=2.4->nbformat->notebook->markdown-kernel) (41.4.0)\n",
      "Requirement already satisfied: pyrsistent>=0.14.0 in /opt/tljh/user/lib/python3.6/site-packages (from jsonschema!=2.5.0,>=2.4->nbformat->notebook->markdown-kernel) (0.15.4)\n",
      "Requirement already satisfied: webencodings in /opt/tljh/user/lib/python3.6/site-packages (from bleach->nbconvert->notebook->markdown-kernel) (0.5.1)\n",
      "Requirement already satisfied: jedi>=0.10 in /opt/tljh/user/lib/python3.6/site-packages (from ipython>=5.0.0->ipykernel->notebook->markdown-kernel) (0.15.1)\n",
      "Requirement already satisfied: backcall in /opt/tljh/user/lib/python3.6/site-packages (from ipython>=5.0.0->ipykernel->notebook->markdown-kernel) (0.1.0)\n",
      "Requirement already satisfied: prompt-toolkit<2.1.0,>=2.0.0 in /opt/tljh/user/lib/python3.6/site-packages (from ipython>=5.0.0->ipykernel->notebook->markdown-kernel) (2.0.9)\n",
      "Requirement already satisfied: pickleshare in /opt/tljh/user/lib/python3.6/site-packages (from ipython>=5.0.0->ipykernel->notebook->markdown-kernel) (0.7.5)\n",
      "Requirement already satisfied: pexpect; sys_platform != \"win32\" in /opt/tljh/user/lib/python3.6/site-packages (from ipython>=5.0.0->ipykernel->notebook->markdown-kernel) (4.7.0)\n",
      "Requirement already satisfied: parso>=0.5.0 in /opt/tljh/user/lib/python3.6/site-packages (from jedi>=0.10->ipython>=5.0.0->ipykernel->notebook->markdown-kernel) (0.5.1)\n",
      "Requirement already satisfied: wcwidth in /opt/tljh/user/lib/python3.6/site-packages (from prompt-toolkit<2.1.0,>=2.0.0->ipython>=5.0.0->ipykernel->notebook->markdown-kernel) (0.1.7)\n",
      "Installing collected packages: markdown-kernel\n",
      "Successfully installed markdown-kernel-0.2.1\n",
      "markdown jupyter kernel spec is installed\n"
     ]
    }
   ],
   "source": [
    "%%bash\n",
    "sudo -HE pip install markdown-kernel\n",
    "sudo -HE python -m markdown_kernel.install"
   ]
  }
 ],
 "metadata": {
  "kernelspec": {
   "display_name": "Python 3",
   "language": "python",
   "name": "python3"
  }
 },
 "nbformat": 4,
 "nbformat_minor": 4
}
