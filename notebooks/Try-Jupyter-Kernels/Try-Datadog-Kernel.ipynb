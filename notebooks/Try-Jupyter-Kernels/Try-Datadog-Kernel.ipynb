{
 "cells": [
  {
   "cell_type": "markdown",
   "metadata": {},
   "source": [
    "* https://www.datadoghq.com/blog/data-driven-notebooks/\n",
    "* https://docs.datadoghq.com/graphing/notebooks/"
   ]
  }
 ],
 "metadata": {
  "kernelspec": {
   "display_name": "Python 3",
   "language": "python",
   "name": "python3"
  }
 },
 "nbformat": 4,
 "nbformat_minor": 4
}
