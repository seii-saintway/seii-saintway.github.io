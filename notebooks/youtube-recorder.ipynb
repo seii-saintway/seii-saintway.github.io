{
 "cells": [
  {
   "cell_type": "code",
   "execution_count": null,
   "metadata": {},
   "outputs": [],
   "source": [
    "%%bash\n",
    "pip install pyaudio"
   ]
  },
  {
   "cell_type": "code",
   "execution_count": null,
   "metadata": {},
   "outputs": [],
   "source": [
    "import pyaudio\n",
    "\n",
    "# 查找设备索引\n",
    "p = pyaudio.PyAudio()\n",
    "for i in range(p.get_device_count()):\n",
    "    print(p.get_device_info_by_index(i))\n",
    "p.terminate()"
   ]
  },
  {
   "cell_type": "code",
   "execution_count": null,
   "metadata": {},
   "outputs": [],
   "source": [
    "import pyaudio\n",
    "\n",
    "# 查找设备索引\n",
    "p = pyaudio.PyAudio()\n",
    "for i in range(p.get_device_count()):\n",
    "    dev = p.get_device_info_by_index(i)\n",
    "    if dev['maxInputChannels'] == 0:\n",
    "        continue\n",
    "    print(f\"设备索引：{i}, 设备名称：{dev['name']}, 输入通道数：{dev['maxInputChannels']}\")\n",
    "p.terminate()"
   ]
  },
  {
   "cell_type": "code",
   "execution_count": null,
   "metadata": {},
   "outputs": [],
   "source": [
    "# ================================\n",
    "# 录音配置（录制为 WAV 文件，后面转换为 MP3）\n",
    "# ================================\n",
    "import pyaudio\n",
    "import wave\n",
    "\n",
    "def record_audio(filename='output.wav', duration=30):\n",
    "    chunk = 1024  # 每次读取的字节数\n",
    "    format = pyaudio.paInt16  # 16-bit 音频\n",
    "    channels = 2  # 立体声\n",
    "    rate = 44100  # 采样率\n",
    "\n",
    "    # 初始化 PyAudio\n",
    "    audio = pyaudio.PyAudio()\n",
    "    stream = audio.open(format=format, channels=channels, rate=rate, input=True, input_device_index=1, frames_per_buffer=chunk)\n",
    "\n",
    "    print('录音中……')\n",
    "    frames = []\n",
    "\n",
    "    for i in range(0, int(rate / chunk * duration)):\n",
    "        data = stream.read(chunk)\n",
    "        frames.append(data)\n",
    "\n",
    "    print('录音结束，保存文件……')\n",
    "    stream.stop_stream()\n",
    "    stream.close()\n",
    "    audio.terminate()\n",
    "\n",
    "    # 保存 WAV 文件\n",
    "    wf = wave.open(filename, 'wb')\n",
    "    wf.setnchannels(channels)\n",
    "    wf.setsampwidth(audio.get_sample_size(format))\n",
    "    wf.setframerate(rate)\n",
    "    wf.writeframes(b''.join(frames))\n",
    "    wf.close()\n",
    "\n",
    "# ================================\n",
    "# 使用 Selenium 加载 YouTube\n",
    "# ================================\n",
    "import time\n",
    "import undetected_chromedriver\n",
    "from selenium.webdriver.common.by import By\n",
    "from selenium.webdriver.chrome.options import Options\n",
    "from selenium.webdriver.common.keys import Keys\n",
    "\n",
    "def load_youtube_video(video_url):\n",
    "    options = Options()\n",
    "    # options.add_argument('--headless')  # 无界面模式\n",
    "    # options.add_argument('--mute-audio')  # 静音浏览器\n",
    "\n",
    "    driver = undetected_chromedriver.Chrome(options=options)\n",
    "    driver.maximize_window()\n",
    "    driver.get(video_url)\n",
    "\n",
    "    # 等待 YouTube 视频加载（确保已经进入播放器区域）\n",
    "    time.sleep(3)\n",
    "    print('YouTube 视频加载完成！')\n",
    "\n",
    "    return driver\n",
    "\n",
    "# ================================\n",
    "# 使用 ffmpeg 将 WAV 转换为 MP3\n",
    "# ================================\n",
    "import ffmpeg\n",
    "\n",
    "def convert_wav_to_mp3(input_file='output.wav', output_file='output.mp3'):\n",
    "    print(f'转换 {input_file} 到 {output_file} 中……')\n",
    "    try:\n",
    "        ffmpeg.input(input_file).output(output_file).run(cmd='./ffmpeg-7.1.1-essentials_build/bin/ffmpeg.exe')\n",
    "        print('转换完成！')\n",
    "    except Exception as e:\n",
    "        print(f'转换时出错：{e}')\n",
    "\n",
    "# ================================\n",
    "# 主函数\n",
    "# ================================\n",
    "import threading\n",
    "\n",
    "if __name__ == '__main__':\n",
    "    youtube_url = 'https://www.youtube.com/watch?v=XR4u4jQ4bmo'  # 替换为目标视频 URL\n",
    "    recording_time = 60 * 5  # 录音时长（秒）\n",
    "\n",
    "    # 加载 YouTube 视频\n",
    "    driver = load_youtube_video(youtube_url)\n",
    "\n",
    "    # 创建录音线程\n",
    "    audio_thread = threading.Thread(target=record_audio, args=('output.wav', recording_time))\n",
    "    audio_thread.start()\n",
    "\n",
    "    # 自动播放视频\n",
    "    driver.find_element(By.TAG_NAME, 'body').send_keys(Keys.SPACE)  # 模拟按下空格键播放视频\n",
    "    print('YouTube 视频开始播放……')\n",
    "\n",
    "    # 等待录音完成\n",
    "    audio_thread.join()\n",
    "    # 关闭浏览器\n",
    "    driver.quit()\n",
    "\n",
    "    # 转换录音为 MP3 格式\n",
    "    convert_wav_to_mp3('output.wav', 'output.mp3')\n",
    "    print('YouTube 音频保存完成！')"
   ]
  },
  {
   "cell_type": "code",
   "execution_count": null,
   "metadata": {},
   "outputs": [
    {
     "name": "stdout",
     "output_type": "stream",
     "text": [
      "正在从 202503211930.mp3 中截取前 270 秒...\n",
      "截取完成！输出文件：output_trimmed.mp3\n"
     ]
    }
   ],
   "source": [
    "import ffmpeg\n",
    "\n",
    "def trim_mp3(input_file, output_file, start_time=0, duration=270):\n",
    "    \"\"\"\n",
    "    截取 MP3 文件的前指定时长部分（默认 4 分 30 秒，270 秒）\n",
    "\n",
    "    参数:\n",
    "    input_file (str): 输入 MP3 文件路径\n",
    "    output_file (str): 输出截取后 MP3 文件路径\n",
    "    start_time (int): 起始时间（秒）\n",
    "    duration (int): 截取时长（秒）\n",
    "    \"\"\"\n",
    "    try:\n",
    "        print(f\"正在从 {input_file} 中截取前 {duration} 秒...\")\n",
    "        # FFmpeg 截取音频\n",
    "        ffmpeg.input(input_file, ss=start_time, t=duration).output(output_file).run(overwrite_output=True, cmd='./ffmpeg-7.1.1-essentials_build/bin/ffmpeg.exe')\n",
    "        print(f\"截取完成！输出文件：{output_file}\")\n",
    "    except Exception as e:\n",
    "        print(f\"截取音频时出错：{e}\")\n",
    "\n",
    "# 调用示例：截取前 4 分 30 秒\n",
    "trim_mp3(\"202503211930.mp3\", \"output_trimmed.mp3\")"
   ]
  },
  {
   "cell_type": "code",
   "execution_count": 1,
   "metadata": {},
   "outputs": [
    {
     "name": "stdout",
     "output_type": "stream",
     "text": [
      "正在将 output_trimmed.mp3 重复 100 次...\n",
      "重复完成！输出文件：output_repeated.mp3\n"
     ]
    }
   ],
   "source": [
    "import ffmpeg\n",
    "\n",
    "def repeat_mp3(input_file, output_file, repeat_count=100):\n",
    "    \"\"\"\n",
    "    将 MP3 文件重复多次并保存为新文件\n",
    "\n",
    "    参数:\n",
    "    input_file (str): 输入 MP3 文件路径\n",
    "    output_file (str): 输出重复后的 MP3 文件路径\n",
    "    repeat_count (int): 重复次数，默认为 100\n",
    "    \"\"\"\n",
    "    try:\n",
    "        print(f\"正在将 {input_file} 重复 {repeat_count} 次...\")\n",
    "\n",
    "        # 使用 FFmpeg 过滤器重复音频\n",
    "        ffmpeg.input(input_file, stream_loop=repeat_count - 1).output(output_file).run(overwrite_output=True, cmd='./ffmpeg-7.1.1-essentials_build/bin/ffmpeg.exe')\n",
    "\n",
    "        print(f\"重复完成！输出文件：{output_file}\")\n",
    "    except Exception as e:\n",
    "        print(f\"音频重复时出错：{e}\")\n",
    "\n",
    "# 调用示例：重复 100 遍并保存为 output_repeated.mp3\n",
    "repeat_mp3(\"output_trimmed.mp3\", \"output_repeated.mp3\")"
   ]
  },
  {
   "cell_type": "code",
   "execution_count": null,
   "metadata": {},
   "outputs": [],
   "source": [
    "%%bash\n",
    "pip install spleeter"
   ]
  },
  {
   "cell_type": "code",
   "execution_count": null,
   "metadata": {},
   "outputs": [],
   "source": [
    "import os\n",
    "\n",
    "# 手动指定 ffmpeg 路径\n",
    "os.environ['PATH'] += os.pathsep + os.path.abspath('./ffmpeg-7.1.1-essentials_build/bin')\n",
    "\n",
    "from spleeter.separator import Separator\n",
    "\n",
    "# 初始化 Spleeter 使用2stem模型（vocal + accompaniment）\n",
    "separator = Separator('spleeter:2stems')\n",
    "\n",
    "# 输入文件路径\n",
    "input_audio = 'output_trimmed.mp3'\n",
    "\n",
    "# 输出到当前目录的 'separated_audio' 文件夹\n",
    "separator.separate_to_file(input_audio, 'separated_audio')"
   ]
  }
 ],
 "metadata": {
  "kernelspec": {
   "display_name": "Python 3 (ipykernel)",
   "language": "python",
   "name": "python3"
  },
  "language_info": {
   "codemirror_mode": {
    "name": "ipython",
    "version": 3
   },
   "file_extension": ".py",
   "mimetype": "text/x-python",
   "name": "python",
   "nbconvert_exporter": "python",
   "pygments_lexer": "ipython3",
   "version": "3.9.7"
  }
 },
 "nbformat": 4,
 "nbformat_minor": 4
}
