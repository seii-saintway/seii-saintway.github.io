{
 "cells": [
  {
   "cell_type": "markdown",
   "id": "7769407a-7b75-4470-9afc-2e209ea800eb",
   "metadata": {},
   "source": [
    "下面是一个示例脚本，会生成 A4 大小的 PNG，并把你提供的正面和背面图片分别放在上部和下部的中央。"
   ]
  },
  {
   "cell_type": "code",
   "execution_count": 1,
   "id": "6d616b75-3e64-431b-9d03-d401f974b3ad",
   "metadata": {},
   "outputs": [
    {
     "name": "stdout",
     "output_type": "stream",
     "text": [
      "生成完成: /Users/saintway/Desktop/在留卡正反面.png\n"
     ]
    }
   ],
   "source": [
    "from PIL import Image\n",
    "\n",
    "# 文件路径\n",
    "front_path = '/Users/saintway/Library/CloudStorage/GoogleDrive-andrew.saintway@gmail.com/My Drive/みやか/在留卡正面.jpg'\n",
    "back_path = '/Users/saintway/Library/CloudStorage/GoogleDrive-andrew.saintway@gmail.com/My Drive/みやか/在留卡反面.jpg'\n",
    "\n",
    "# 输出路径\n",
    "output_path = '/Users/saintway/Desktop/在留卡正反面.png'\n",
    "\n",
    "# A4 尺寸（像素），假设 300 DPI\n",
    "dpi = 300\n",
    "a4_width_px = int(8.27 * dpi)   # 210mm\n",
    "a4_height_px = int(11.69 * dpi) # 297mm\n",
    "\n",
    "# 创建 A4 空白画布\n",
    "a4_image = Image.new('RGBA', (a4_width_px, a4_height_px), (255, 255, 255, 255))\n",
    "\n",
    "# 打开正反面图片\n",
    "front_image = Image.open(front_path)\n",
    "back_image = Image.open(back_path)\n",
    "\n",
    "# 计算位置：上部中央 & 下部中央\n",
    "front_x = (a4_width_px - front_image.width) // 2\n",
    "front_y = (a4_height_px - front_image.height * 2) // 3\n",
    "\n",
    "back_x = (a4_width_px - back_image.width) // 2\n",
    "back_y = front_y + front_image.height + front_y\n",
    "\n",
    "# 粘贴图片\n",
    "a4_image.paste(front_image, (front_x, front_y))\n",
    "a4_image.paste(back_image, (back_x, back_y))\n",
    "\n",
    "# 保存 PNG\n",
    "a4_image.save(output_path, dpi=(dpi, dpi))\n",
    "print(f'生成完成: {output_path}')"
   ]
  },
  {
   "cell_type": "markdown",
   "id": "41afb2cb-270c-42b8-8d19-7f72d825b1bf",
   "metadata": {},
   "source": [
    "说明\n",
    "\n",
    "1. A4 尺寸按 300 DPI 计算，得到像素尺寸 (2481, 3508)。\n",
    "\n",
    "2. 位置：\n",
    "   * 正面图片放在 A4 纸的上下 1/3 处左右居中的位置。\n",
    "   * 背面图片放在 A4 纸的上下 2/3 处左右居中的位置。\n",
    "\n",
    "3. 透明 PNG：使用 RGBA，如果图片有透明区域会保留。"
   ]
  }
 ],
 "metadata": {
  "kernelspec": {
   "display_name": "Python 3 (ipykernel)",
   "language": "python",
   "name": "python3"
  },
  "language_info": {
   "codemirror_mode": {
    "name": "ipython",
    "version": 3
   },
   "file_extension": ".py",
   "mimetype": "text/x-python",
   "name": "python",
   "nbconvert_exporter": "python",
   "pygments_lexer": "ipython3",
   "version": "3.9.13"
  }
 },
 "nbformat": 4,
 "nbformat_minor": 5
}
