{
 "cells": [
  {
   "cell_type": "markdown",
   "id": "7769407a-7b75-4470-9afc-2e209ea800eb",
   "metadata": {},
   "source": [
    "下面是一个示例脚本，会生成 A4 大小的 PNG，并把你提供的正面和背面图片分别放在上部和下部的中央。"
   ]
  },
  {
   "cell_type": "code",
   "execution_count": 1,
   "id": "6d616b75-3e64-431b-9d03-d401f974b3ad",
   "metadata": {},
   "outputs": [
    {
     "name": "stderr",
     "output_type": "stream",
     "text": [
      "/var/folders/xb/4kp1spnd1knbtnbxzn_2d8cr0000gn/T/ipykernel_74820/211242595.py:30: DeprecationWarning: LANCZOS is deprecated and will be removed in Pillow 10 (2023-07-01). Use Resampling.LANCZOS instead.\n",
      "  front_image = front_image.resize(front_new_size, Image.LANCZOS)\n",
      "/var/folders/xb/4kp1spnd1knbtnbxzn_2d8cr0000gn/T/ipykernel_74820/211242595.py:31: DeprecationWarning: LANCZOS is deprecated and will be removed in Pillow 10 (2023-07-01). Use Resampling.LANCZOS instead.\n",
      "  back_image = back_image.resize(back_new_size, Image.LANCZOS)\n"
     ]
    },
    {
     "name": "stdout",
     "output_type": "stream",
     "text": [
      "生成完成: /Users/saintway/Desktop/在留卡正反面.png\n"
     ]
    }
   ],
   "source": [
    "from PIL import Image\n",
    "\n",
    "# 文件路径\n",
    "front_path = '/Users/saintway/Library/CloudStorage/GoogleDrive-andrew.saintway@gmail.com/My Drive/在留資格/在留卡正面.png'\n",
    "back_path = '/Users/saintway/Library/CloudStorage/GoogleDrive-andrew.saintway@gmail.com/My Drive/在留資格/在留卡背面.png'\n",
    "\n",
    "# 输出路径\n",
    "output_path = '/Users/saintway/Desktop/在留卡正反面.png'\n",
    "\n",
    "# A4 尺寸（像素），假设 300 DPI\n",
    "dpi = 300\n",
    "a4_width_px = int(8.27 * dpi)   # 210mm\n",
    "a4_height_px = int(11.69 * dpi) # 297mm\n",
    "\n",
    "# 创建 A4 空白画布\n",
    "a4_image = Image.new('RGBA', (a4_width_px, a4_height_px), (255, 255, 255, 255))\n",
    "\n",
    "# 打开正反面图片\n",
    "front_image = Image.open(front_path)\n",
    "back_image = Image.open(back_path)\n",
    "\n",
    "# 可选：缩放图片，让它适应画布宽度\n",
    "max_width = int(a4_width_px * 0.9)  # 留边 10%\n",
    "front_ratio = max_width / front_image.width\n",
    "back_ratio = max_width / back_image.width\n",
    "\n",
    "front_new_size = (int(front_image.width * front_ratio), int(front_image.height * front_ratio))\n",
    "back_new_size = (int(back_image.width * back_ratio), int(back_image.height * back_ratio))\n",
    "\n",
    "front_image = front_image.resize(front_new_size, Image.LANCZOS)\n",
    "back_image = back_image.resize(back_new_size, Image.LANCZOS)\n",
    "\n",
    "# 计算位置：上部中央 & 下部中央\n",
    "front_x = (a4_width_px - front_image.width) // 2\n",
    "front_y = int(a4_height_px * 0.05)  # 顶部 5% 留白\n",
    "\n",
    "back_x = (a4_width_px - back_image.width) // 2\n",
    "back_y = a4_height_px - back_image.height - int(a4_height_px * 0.05)  # 底部 5% 留白\n",
    "\n",
    "# 粘贴图片\n",
    "a4_image.paste(front_image, (front_x, front_y), front_image.convert('RGBA'))\n",
    "a4_image.paste(back_image, (back_x, back_y), back_image.convert('RGBA'))\n",
    "\n",
    "# 保存 PNG\n",
    "a4_image.save(output_path, dpi=(dpi, dpi))\n",
    "print(f'生成完成: {output_path}')"
   ]
  },
  {
   "cell_type": "markdown",
   "id": "41afb2cb-270c-42b8-8d19-7f72d825b1bf",
   "metadata": {},
   "source": [
    "说明\n",
    "\n",
    "1. A4 尺寸按 300 DPI 计算，得到像素尺寸 (2481, 3508)。\n",
    "\n",
    "2. 缩放：正反面图片会缩放到画布宽度的 90%，保持纵横比。\n",
    "\n",
    "3. 位置：\n",
    "   * 正面图片放上部中央，顶部留 5% 空白。\n",
    "   * 背面图片放下部中央，底部留 5% 空白。\n",
    "\n",
    "4. 透明 PNG：使用 RGBA，如果图片有透明区域会保留。"
   ]
  }
 ],
 "metadata": {
  "kernelspec": {
   "display_name": "Python 3 (ipykernel)",
   "language": "python",
   "name": "python3"
  },
  "language_info": {
   "codemirror_mode": {
    "name": "ipython",
    "version": 3
   },
   "file_extension": ".py",
   "mimetype": "text/x-python",
   "name": "python",
   "nbconvert_exporter": "python",
   "pygments_lexer": "ipython3",
   "version": "3.9.13"
  }
 },
 "nbformat": 4,
 "nbformat_minor": 5
}
