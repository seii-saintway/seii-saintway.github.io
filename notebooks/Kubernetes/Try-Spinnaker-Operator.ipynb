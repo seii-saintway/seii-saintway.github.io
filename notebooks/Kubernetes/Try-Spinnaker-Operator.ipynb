{
 "cells": [
  {
   "cell_type": "markdown",
   "metadata": {},
   "source": [
    "# Try Spinnaker Operator\n",
    "https://operatorhub.io/operator/spinnaker-operator"
   ]
  },
  {
   "cell_type": "markdown",
   "metadata": {},
   "source": [
    "https://cloud.google.com/solutions/continuous-delivery-spinnaker-kubernetes-engine"
   ]
  }
 ],
 "metadata": {
  "kernelspec": {
   "display_name": "Python 3",
   "language": "python",
   "name": "python3"
  }
 },
 "nbformat": 4,
 "nbformat_minor": 4
}
