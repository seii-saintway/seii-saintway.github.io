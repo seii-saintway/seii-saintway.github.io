{
 "cells": [
  {
   "cell_type": "markdown",
   "metadata": {},
   "source": [
    "* https://itnext.io/why-should-you-build-your-own-kubernetes-operator-f60c25df0b1c\n",
    "* https://medium.com/flant-com/kubernetes-operator-in-python-451f2d2e33f3\n",
    "* https://mp.weixin.qq.com/s/cMlm0HrwRt1n5EApd0JsTw"
   ]
  },
  {
   "cell_type": "markdown",
   "metadata": {},
   "source": [
    "https://kubernetes.io/docs/tasks/access-kubernetes-api/custom-resources/custom-resource-definitions/"
   ]
  },
  {
   "cell_type": "markdown",
   "metadata": {},
   "source": [
    "https://github.com/operator-framework/operator-sdk"
   ]
  }
 ],
 "metadata": {
  "kernelspec": {
   "display_name": "Python 3",
   "language": "python",
   "name": "python3"
  }
 },
 "nbformat": 4,
 "nbformat_minor": 4
}
