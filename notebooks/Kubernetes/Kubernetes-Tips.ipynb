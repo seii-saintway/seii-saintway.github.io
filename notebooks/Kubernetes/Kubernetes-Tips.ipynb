{
 "cells": [
  {
   "cell_type": "markdown",
   "metadata": {},
   "source": [
    "# Jupyter Notebooks for Kubernetes\n",
    "https://github.com/kubernetes-client/python/tree/master/examples/notebooks"
   ]
  },
  {
   "cell_type": "markdown",
   "metadata": {},
   "source": [
    "# Kubernetes指南\n",
    "* https://kubernetes.io/docs/reference/generated/kubectl/kubectl-commands\n",
    "* https://github.com/feiskyer/kubernetes-handbook\n",
    "* https://kubernetes.feisky.xyz/"
   ]
  },
  {
   "cell_type": "markdown",
   "metadata": {},
   "source": [
    "## [Kubernetes Deployment 终极指南](https://blog.fleeto.us/post/kubernetes-deployments-the-ultimate-guide/)"
   ]
  },
  {
   "cell_type": "markdown",
   "metadata": {},
   "source": [
    "#### --force=true\n",
    "`kubectl delete pods search-page-app-api-65678567d-kgw7s --force=true`\n",
    "> 可能和 `Termination grace period 30 sec` 的设置有关。在 Terminating 的过程中，删除操作卡住了。"
   ]
  }
 ],
 "metadata": {
  "kernelspec": {
   "display_name": "Python 3",
   "language": "python",
   "name": "python3"
  }
 },
 "nbformat": 4,
 "nbformat_minor": 4
}
