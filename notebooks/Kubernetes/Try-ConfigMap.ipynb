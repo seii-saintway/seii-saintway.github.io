{
 "cells": [
  {
   "cell_type": "code",
   "execution_count": null,
   "metadata": {},
   "outputs": [
    {
     "name": "stdout",
     "output_type": "stream",
     "text": [
      "configmap/test-config-name created\n"
     ]
    }
   ],
   "source": [
    "%%bash\n",
    "cat << EOF > test-configmap.yaml\n",
    "apiVersion: v1\n",
    "data:\n",
    "  test-name: |\n",
    "    test-value\n",
    "kind: ConfigMap\n",
    "metadata:\n",
    "  creationTimestamp: null\n",
    "  name: test-config-name\n",
    "EOF\n",
    "kubectl apply -f test-configmap.yaml"
   ]
  },
  {
   "cell_type": "code",
   "execution_count": null,
   "metadata": {},
   "outputs": [
    {
     "name": "stdout",
     "output_type": "stream",
     "text": [
      "pod/test-pod created\n"
     ]
    }
   ],
   "source": [
    "%%bash\n",
    "cat << EOF > test-pod.yaml\n",
    "apiVersion: v1\n",
    "kind: Pod\n",
    "metadata:\n",
    "  name: test-pod\n",
    "spec:\n",
    "  containers:\n",
    "  - name: test-pod\n",
    "    image: busybox\n",
    "    command: [ \"/bin/sh\", \"-c\", \"while true; do cat /etc/test-config/test-name; sleep 1; done\" ]\n",
    "    volumeMounts:\n",
    "    - name: test-config\n",
    "      mountPath: \"/etc/test-config\"\n",
    "      readOnly: true\n",
    "  volumes:\n",
    "  - name: test-config\n",
    "    configMap:\n",
    "      name: test-config-name\n",
    "  restartPolicy: Never\n",
    "EOF\n",
    "kubectl apply -f test-pod.yaml"
   ]
  },
  {
   "cell_type": "code",
   "execution_count": null,
   "metadata": {},
   "outputs": [
    {
     "name": "stdout",
     "output_type": "stream",
     "text": [
      "test-value\n",
      "test-value\n",
      "test-value\n",
      "test-value\n",
      "test-value\n"
     ]
    }
   ],
   "source": [
    "%%bash\n",
    "kubectl logs --tail=5 test-pod"
   ]
  },
  {
   "cell_type": "code",
   "execution_count": null,
   "metadata": {},
   "outputs": [
    {
     "name": "stdout",
     "output_type": "stream",
     "text": [
      "configmap/test-config-name configured\n"
     ]
    }
   ],
   "source": [
    "%%bash\n",
    "cat << EOF > test-configmap.yaml\n",
    "apiVersion: v1\n",
    "data:\n",
    "  test-name: |\n",
    "    change-test-value\n",
    "kind: ConfigMap\n",
    "metadata:\n",
    "  creationTimestamp: null\n",
    "  name: test-config-name\n",
    "EOF\n",
    "kubectl apply -f test-configmap.yaml"
   ]
  },
  {
   "cell_type": "code",
   "execution_count": null,
   "metadata": {},
   "outputs": [
    {
     "name": "stdout",
     "output_type": "stream",
     "text": [
      "test-value\n",
      "change-test-value\n",
      "change-test-value\n",
      "change-test-value\n",
      "change-test-value\n"
     ]
    }
   ],
   "source": [
    "%%bash\n",
    "kubectl logs --tail=5 test-pod"
   ]
  }
 ],
 "metadata": {
  "kernelspec": {
   "display_name": "Python 3",
   "language": "python",
   "name": "python3"
  }
 },
 "nbformat": 4,
 "nbformat_minor": 4
}
