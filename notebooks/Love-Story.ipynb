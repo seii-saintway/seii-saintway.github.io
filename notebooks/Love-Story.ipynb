{
 "cells": [
  {
   "cell_type": "markdown",
   "metadata": {},
   "source": [
    "``` python\n",
    "from IPython.display import YouTubeVideo\n",
    "YouTubeVideo('8xg3vE8Ie_E', style='width: 90%; aspect-ratio: 16/9;')\n",
    "```"
   ]
  },
  {
   "cell_type": "code",
   "execution_count": null,
   "metadata": {},
   "outputs": [
    {
     "data": {
      "text/html": [
       "<iframe style=\"width: 90%; aspect-ratio: 16/9;\" src=\"https://www.youtube.com/embed/8xg3vE8Ie_E\" scrolling=\"no\" border=\"0\" frameborder=\"no\" framespacing=\"0\" allowfullscreen=\"true\" allow=\"accelerometer; autoplay; clipboard-write; encrypted-media; gyroscope; picture-in-picture\"></iframe>\n"
      ],
      "text/plain": [
       "<IPython.core.display.HTML object>"
      ]
     },
     "metadata": {},
     "output_type": "display_data"
    }
   ],
   "source": [
    "%%html\n",
    "<iframe style=\"width: 90%; aspect-ratio: 16/9;\" src=\"https://www.youtube.com/embed/8xg3vE8Ie_E\" scrolling=\"no\" border=\"0\" frameborder=\"no\" framespacing=\"0\" allowfullscreen=\"true\" allow=\"accelerometer; autoplay; clipboard-write; encrypted-media; gyroscope; picture-in-picture\"></iframe>"
   ]
  },
  {
   "cell_type": "markdown",
   "metadata": {},
   "source": [
    "## Taylor Swift - Love Story"
   ]
  },
  {
   "cell_type": "markdown",
   "metadata": {},
   "source": [
    "```\n",
    "We were both young when I first saw you\n",
    "I close my eyes and the flashback starts\n",
    "I'm standin' there\n",
    "On a balcony in summer air\n",
    "See the lights, see the party, the ball gowns\n",
    "See you make your way through the crowd\n",
    "And say, \"Hello\"\n",
    "Little did I know\n",
    "```"
   ]
  },
  {
   "cell_type": "markdown",
   "metadata": {},
   "source": [
    "```\n",
    "That you were Romeo, you were throwin' pebbles\n",
    "And my daddy said, \"Stay away from Juliet\"\n",
    "And I was cryin' on the staircase\n",
    "Beggin' you, \"Please don't go, \" and I said\n",
    "```"
   ]
  },
  {
   "cell_type": "markdown",
   "metadata": {},
   "source": [
    "```\n",
    "Romeo, take me somewhere we can be alone\n",
    "I'll be waiting, all there's left to do is run\n",
    "You'll be the prince and I'll be the princess\n",
    "It's a love story, baby, just say, \"Yes\"\n",
    "```"
   ]
  },
  {
   "cell_type": "markdown",
   "metadata": {},
   "source": [
    "```\n",
    "So I sneak out to the garden to see you\n",
    "We keep quiet, 'cause we're dead if they knew\n",
    "So close your eyes\n",
    "Escape this town for a little while, oh oh\n",
    "```"
   ]
  },
  {
   "cell_type": "markdown",
   "metadata": {},
   "source": [
    "```\n",
    "'Cause you were Romeo, I was a scarlet letter\n",
    "And my daddy said, \"Stay away from Juliet\"\n",
    "But you were everything to me\n",
    "I was beggin' you, \"Please don't go, \" and I said\n",
    "```"
   ]
  },
  {
   "cell_type": "markdown",
   "metadata": {},
   "source": [
    "```\n",
    "Romeo, take me somewhere we can be alone\n",
    "I'll be waiting, all there's left to do is run\n",
    "You'll be the prince and I'll be the princess\n",
    "It's a love story, baby, just say, \"Yes\"\n",
    "Romeo, save me, they're tryna tell me how to feel\n",
    "This love is difficult, but it's real\n",
    "Don't be afraid, we'll make it out of this mess\n",
    "It's a love story, baby, just say, \"Yes\"\n",
    "Oh, oh\n",
    "```"
   ]
  },
  {
   "cell_type": "markdown",
   "metadata": {},
   "source": [
    "```\n",
    "I got tired of waiting\n",
    "Wonderin' if you were ever comin' around\n",
    "My faith in you was fading\n",
    "When I met you on the outskirts of town, and I said\n",
    "```"
   ]
  },
  {
   "cell_type": "markdown",
   "metadata": {},
   "source": [
    "```\n",
    "Romeo, save me, I've been feeling so alone\n",
    "I keep waiting for you, but you never come\n",
    "Is this in my head? I don't know what to think\n",
    "He knelt to the ground and pulled out a ring\n",
    "And said, \"Marry me, Juliet\n",
    "You'll never have to be alone\n",
    "I love you and that's all I really know\n",
    "I talked to your dad, go pick out a white dress\n",
    "It's a love story, baby, just say, \"Yes\"\n",
    "Oh, oh, oh\n",
    "Oh, oh, oh, oh\n",
    "'Cause we were both young when I first saw you\n",
    "```"
   ]
  }
 ],
 "metadata": {
  "kernelspec": {
   "display_name": "Python 3",
   "language": "python",
   "name": "python3"
  }
 },
 "nbformat": 4,
 "nbformat_minor": 4
}
