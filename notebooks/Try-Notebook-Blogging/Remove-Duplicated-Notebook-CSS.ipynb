{
 "cells": [
  {
   "cell_type": "markdown",
   "metadata": {},
   "source": [
    "# Remove Duplicated Notebook CSS"
   ]
  },
  {
   "cell_type": "markdown",
   "metadata": {},
   "source": [
    "* Add Category and Tag to Notebooks\n",
    "* Move Notebook CSS to `<head></head>`"
   ]
  },
  {
   "cell_type": "markdown",
   "metadata": {},
   "source": [
    "## Add Category and Tag to Notebooks\n",
    "I find that the hexo layouts for Categories and Tags are almost the same, but it seems that the the usage of Tags is more casual.\n",
    "So I decide to add Tag \"Notebooks\" to my Notebook posts."
   ]
  },
  {
   "cell_type": "markdown",
   "metadata": {},
   "source": [
    "## Move Notebook CSS to `<head></head>`\n",
    "* https://github.com/seii-saintway/hexo-ipynb/blob/a7cf07cfdde16cab0f1aeed8922a7e9c70b8987e/generate-css/generator.ipynb\n",
    "* https://github.com/seii-saintway/hexo-ipynb/blob/a7cf07cfdde16cab0f1aeed8922a7e9c70b8987e/generate-css/hexo.tpl\n",
    "* https://github.com/seii-saintway/hexo-theme-freemind/blob/2d488b1b596ab908bf35bf5091076a9138271230/source/css/notebook.css"
   ]
  }
 ],
 "metadata": {
  "kernelspec": {
   "display_name": "Python 3",
   "language": "python",
   "name": "python3"
  }
 },
 "nbformat": 4,
 "nbformat_minor": 4
}
