{
 "cells": [
  {
   "cell_type": "markdown",
   "metadata": {},
   "source": [
    "* https://github.com/getnikola/nikola\n",
    "* https://getnikola.com/handbook.html\n",
    "* http://damianavila.github.io/blog/posts/one-line-deployment-of-your-site-to-gh-pages.html\n",
    "* http://damianavila.github.io/blog/posts/blogging-with-nikola-and-ipython.html\n",
    "* http://www.jaakkoluttinen.fi/blog/how-to-blog-with-jupyter-ipython-notebook-and-nikola/\n",
    "* https://jiaweizhuang.github.io/blog/nikola-guide/"
   ]
  }
 ],
 "metadata": {
  "kernelspec": {
   "display_name": "Python 3",
   "language": "python",
   "name": "python3"
  }
 },
 "nbformat": 4,
 "nbformat_minor": 4
}
