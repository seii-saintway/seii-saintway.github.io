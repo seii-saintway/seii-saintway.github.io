{
 "cells": [
  {
   "cell_type": "markdown",
   "metadata": {},
   "source": [
    "* https://www.dataquest.io/blog/jupyter-notebook-tips-tricks-shortcuts/\n",
    "* https://www.dataquest.io/blog/advanced-jupyter-notebooks-tutorial/"
   ]
  },
  {
   "cell_type": "markdown",
   "metadata": {},
   "source": [
    "* https://github.com/jupyterlab/jupyterlab-git\n",
    "* https://github.com/jupyterlab/jupyterlab-google-drive/blob/master/docs/setup.md"
   ]
  },
  {
   "cell_type": "markdown",
   "metadata": {},
   "source": [
    "* https://cloud.google.com/bigquery/docs/visualize-jupyter\n",
    "* https://plot.ly/python/ipython-notebook-tutorial/"
   ]
  },
  {
   "cell_type": "code",
   "execution_count": null,
   "metadata": {},
   "outputs": [],
   "source": [
    "!sudo -E apt install -y jq"
   ]
  },
  {
   "cell_type": "code",
   "execution_count": null,
   "metadata": {},
   "outputs": [],
   "source": [
    "# Show Workspaces of JupyterLab\n",
    "!cat ~/.jupyter/lab/workspaces/* | jq -r '.metadata.id'"
   ]
  },
  {
   "cell_type": "code",
   "execution_count": null,
   "metadata": {},
   "outputs": [],
   "source": [
    "%%bash\n",
    "sudo tljh-config set services.cull.timeout 3600\n",
    "sudo tljh-config set services.cull.every 60\n",
    "sudo tljh-config reload"
   ]
  },
  {
   "cell_type": "markdown",
   "metadata": {},
   "source": [
    "#### Today (2020/6/21), I got a problem.\n",
    "* I accessed https://jhub.name/. And then I was directed into my workspace https://jhub.name/user/sheng_wei/lab.\n",
    "  * But I just got a white screen. The page was not moving.\n",
    "* At last, I solved it by killing my JupyterLab's process and modifying Traefik configurations manually.\n",
    "* But I think I could just solve it by accessing https://jhub.name/hub/home, and clicking \"Stop My Server\" button."
   ]
  },
  {
   "cell_type": "markdown",
   "metadata": {},
   "source": [
    "#### Modify Environment Variables for TLJH globally"
   ]
  },
  {
   "cell_type": "code",
   "execution_count": null,
   "metadata": {},
   "outputs": [
    {
     "name": "stdout",
     "output_type": "stream",
     "text": [
      "c.Spawner.environment = {}\n",
      "#    'GOOGLE_APPLICATION_CREDENTIALS': '/home/jupyter-sheng_wei/sandbox-sheng.json'\n"
     ]
    }
   ],
   "source": [
    "%%bash\n",
    "sudo -HE cat /opt/tljh/config/jupyterhub_config.d/environment.py"
   ]
  },
  {
   "cell_type": "code",
   "execution_count": null,
   "metadata": {},
   "outputs": [],
   "source": [
    "%%bash\n",
    "sudo -HE tljh-config reload"
   ]
  },
  {
   "cell_type": "markdown",
   "metadata": {},
   "source": [
    "* https://jhub.name/hub/admin\n",
    "  * Stop All\n",
    "* https://jhub.name/hub/token\n",
    "  * revoke"
   ]
  },
  {
   "cell_type": "markdown",
   "metadata": {},
   "source": [
    "#### [Installing pandoc](https://nbconvert.readthedocs.io/en/latest/install.html#installing-pandoc)"
   ]
  },
  {
   "cell_type": "code",
   "execution_count": null,
   "metadata": {},
   "outputs": [],
   "source": [
    "%%bash\n",
    "cd ~\n",
    "wget https://github.com/jgm/pandoc/releases/download/2.9.2.1/pandoc-2.9.2.1-linux-amd64.tar.gz"
   ]
  },
  {
   "cell_type": "code",
   "execution_count": null,
   "metadata": {},
   "outputs": [
    {
     "name": "stdout",
     "output_type": "stream",
     "text": [
      "pandoc-2.9.2.1/\n",
      "pandoc-2.9.2.1/share/\n",
      "pandoc-2.9.2.1/share/man/\n",
      "pandoc-2.9.2.1/share/man/man1/\n",
      "pandoc-2.9.2.1/share/man/man1/pandoc.1.gz\n",
      "pandoc-2.9.2.1/share/man/man1/pandoc-citeproc.1.gz\n",
      "pandoc-2.9.2.1/bin/\n",
      "pandoc-2.9.2.1/bin/pandoc\n",
      "pandoc-2.9.2.1/bin/pandoc-citeproc\n"
     ]
    }
   ],
   "source": [
    "%%bash\n",
    "cd ~\n",
    "tar xvzf pandoc-2.9.2.1-linux-amd64.tar.gz"
   ]
  },
  {
   "cell_type": "code",
   "execution_count": null,
   "metadata": {},
   "outputs": [
    {
     "name": "stdout",
     "output_type": "stream",
     "text": [
      "total 75M\n",
      "drwxr-xr-x  2 root root 4.0K Jun 21 22:34 .\n",
      "drwxr-xr-x 10 root root 4.0K Feb 13  2019 ..\n",
      "lrwxrwxrwx  1 root root   55 Oct 19  2019 commuter -> ../share/.config/yarn/global/node_modules/.bin/commuter\n",
      "-rwxr-xr-x  1 root root  37M Oct 21  2019 helm\n",
      "lrwxrwxrwx  1 root root   49 Jun 21 22:34 pandoc -> /home/jupyter-sheng_wei/pandoc-2.9.2.1/bin/pandoc\n",
      "lrwxrwxrwx  1 root root   58 Jun 21 22:34 pandoc-citeproc -> /home/jupyter-sheng_wei/pandoc-2.9.2.1/bin/pandoc-citeproc\n",
      "-rwxr-xr-x  1 root root  215 Sep  8  2019 pip\n",
      "-rwxr-xr-x  1 root root  215 Sep  8  2019 pip3\n",
      "-rwxr-xr-x  1 root root  215 Sep  8  2019 pip3.7\n",
      "-rwxr-xr-x  1 root root  38M Oct 21  2019 tiller\n"
     ]
    }
   ],
   "source": [
    "%%bash\n",
    "sudo -HE ln -s ~/pandoc-2.9.2.1/bin/pandoc /usr/local/bin\n",
    "sudo -HE ln -s ~/pandoc-2.9.2.1/bin/pandoc-citeproc /usr/local/bin\n",
    "ls -lah /usr/local/bin"
   ]
  },
  {
   "cell_type": "code",
   "execution_count": null,
   "metadata": {},
   "outputs": [],
   "source": [
    "%%bash\n",
    "pandoc --version"
   ]
  },
  {
   "cell_type": "markdown",
   "metadata": {},
   "source": [
    "#### [Installing TeX](https://nbconvert.readthedocs.io/en/latest/install.html#installing-tex)"
   ]
  },
  {
   "cell_type": "code",
   "execution_count": null,
   "metadata": {},
   "outputs": [],
   "source": [
    "%%bash\n",
    "sudo apt-get --yes install texlive-xetex texlive-fonts-recommended texlive-generic-recommended"
   ]
  },
  {
   "cell_type": "markdown",
   "metadata": {},
   "source": [
    "#### Installing ttf-wqy-microhei"
   ]
  },
  {
   "cell_type": "code",
   "execution_count": null,
   "metadata": {},
   "outputs": [
    {
     "name": "stdout",
     "output_type": "stream",
     "text": [
      "total 5.0M\n",
      "drwxr-xr-x 2 root root 4.0K Jun 21 23:22 .\n",
      "drwxr-xr-x 7 root root 4.0K Jun 21 23:22 ..\n",
      "-rw-r--r-- 1 root root 5.0M Sep  7  2017 wqy-microhei.ttc\n"
     ]
    }
   ],
   "source": [
    "%%bash\n",
    "sudo apt-get --yes install ttf-wqy-microhei\n",
    "ls -lah /usr/share/fonts/truetype/wqy"
   ]
  },
  {
   "cell_type": "markdown",
   "metadata": {},
   "source": [
    "https://github.com/jupyter/nbconvert/blob/master/nbconvert/exporters/pdf.py"
   ]
  },
  {
   "cell_type": "code",
   "execution_count": null,
   "metadata": {},
   "outputs": [],
   "source": [
    "%%bash\n",
    "cd ~/hexo/source/_drafts/\n",
    "jupyter nbconvert Try-PostgreSQL.ipynb --to latex --log-level=DEBUG"
   ]
  },
  {
   "cell_type": "code",
   "execution_count": null,
   "metadata": {},
   "outputs": [
    {
     "name": "stdout",
     "output_type": "stream",
     "text": [
      "/usr/share/fonts/truetype/wqy/wqy-microhei.ttc: WenQuanYi Micro Hei,文泉驛微米黑,文泉驿微米黑:style=Regular\n",
      "/usr/share/fonts/truetype/wqy/wqy-microhei.ttc: WenQuanYi Micro Hei Mono,文泉驛等寬微米黑,文泉驿等宽微米黑:style=Regular\n",
      "text/x-tex; charset=utf-8\n"
     ]
    }
   ],
   "source": [
    "%%bash\n",
    "cd ~/hexo/source/_drafts/\n",
    "fc-list :lang=zh-cn\n",
    "file -bi Try-PostgreSQL.tex"
   ]
  },
  {
   "cell_type": "markdown",
   "metadata": {},
   "source": [
    "`vi Try-PostgreSQL.tex`\n",
    "```\n",
    "\\usepackage{fontspec}\n",
    "\\setmainfont{WenQuanYi Micro Hei}\n",
    "```"
   ]
  },
  {
   "cell_type": "code",
   "execution_count": null,
   "metadata": {},
   "outputs": [],
   "source": [
    "%%bash\n",
    "cd ~/hexo/source/_drafts/\n",
    "xelatex Try-PostgreSQL.tex"
   ]
  },
  {
   "cell_type": "markdown",
   "metadata": {},
   "source": [
    "#### Try some Markdown & Math\n",
    "* https://jupyter-notebook.readthedocs.io/en/stable/examples/Notebook/Typesetting%20Equations.html\n",
    "* https://www.jianshu.com/p/e74eb43960a1\n",
    "* https://csrgxtu.github.io/2015/03/20/Writing-Mathematic-Fomulars-in-Markdown/\n",
    "* https://towardsdatascience.com/write-markdown-latex-in-the-jupyter-notebook-10985edb91fd"
   ]
  },
  {
   "cell_type": "markdown",
   "metadata": {},
   "source": [
    "$P(A \\mid B) = \\frac{P(B \\mid A)P(A)}{P(B)}$"
   ]
  },
  {
   "cell_type": "markdown",
   "metadata": {},
   "source": [
    "#### Removing scala (2.11.12-4~18.04)"
   ]
  },
  {
   "cell_type": "code",
   "execution_count": null,
   "metadata": {},
   "outputs": [],
   "source": [
    "%%bash\n",
    "sudo apt-get remove scala-library scala\n",
    "sudo wget www.scala-lang.org/files/archive/scala-2.11.8.deb\n",
    "sudo dpkg -i scala-2.11.8.deb\n",
    "sudo cat /etc/apt/apt.conf.d/50unattended-upgrades | grep -i1 blacklist\n",
    "sudo unattended-upgrades --dry-run --debug"
   ]
  },
  {
   "cell_type": "markdown",
   "metadata": {},
   "source": [
    "#### Configure your JupyterHub to use the Google OAuthenticator (01.26.2021)"
   ]
  },
  {
   "cell_type": "raw",
   "metadata": {},
   "source": [
    "%%bash\n",
    "sudo bash -c '\n",
    "cat << EOF > /opt/tljh/config/config.yaml\n",
    "users:\n",
    "  admin:\n",
    "  - sheng_wei\n",
    "https:\n",
    "  enabled: true\n",
    "  letsencrypt:\n",
    "    email: saintway.sakaru@gmail.com\n",
    "    domains:\n",
    "    - jhub.name\n",
    "user_environment:\n",
    "  default_app: jupyterlab\n",
    "services:\n",
    "  cull:\n",
    "    timeout: 43200\n",
    "    every: 3600\n",
    "auth:\n",
    "  GoogleOAuthenticator:\n",
    "    client_id: 1234567890000-xxxxxxxxxxxxxxxxxxxxxxxxxxxxxxxx.apps.googleusercontent.com\n",
    "    client_secret: XxXxXxXxXxXxXxXxXxXxXxXx\n",
    "    oauth_callback_url: https://jhub.name/hub/oauth_callback\n",
    "    hosted_domain:\n",
    "    - jhub.name\n",
    "  type: oauthenticator.google.GoogleOAuthenticator\n",
    "EOF\n",
    "'"
   ]
  }
 ],
 "metadata": {
  "kernelspec": {
   "display_name": "Python 3 (ipykernel)",
   "language": "python",
   "name": "python3"
  }
 },
 "nbformat": 4,
 "nbformat_minor": 4
}
