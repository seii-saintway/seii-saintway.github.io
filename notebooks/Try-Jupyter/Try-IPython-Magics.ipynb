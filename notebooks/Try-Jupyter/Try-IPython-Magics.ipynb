{
 "cells": [
  {
   "cell_type": "markdown",
   "metadata": {},
   "source": [
    "https://ipython.readthedocs.io/en/stable/interactive/magics.html"
   ]
  },
  {
   "cell_type": "markdown",
   "metadata": {},
   "source": [
    "# IPython Magics for BigQuery\n",
    "* https://cloud.google.com/bigquery/docs/visualize-jupyter\n",
    "* https://googleapis.dev/python/bigquery/latest/magics.html"
   ]
  },
  {
   "cell_type": "code",
   "execution_count": null,
   "metadata": {},
   "outputs": [],
   "source": [
    "%load_ext google.cloud.bigquery"
   ]
  },
  {
   "cell_type": "code",
   "execution_count": null,
   "metadata": {},
   "outputs": [],
   "source": [
    "from datetime import datetime, timezone, timedelta\n",
    "# from 30 days ago to 29 days ago\n",
    "params = {\n",
    "    'start_date': (datetime.now(timezone(timedelta(hours=+9))) - timedelta(days=30)).strftime('%Y-%m-%d %H:%M:%S Asia/Tokyo'),\n",
    "    'end_date': (datetime.now(timezone(timedelta(hours=+9))) - timedelta(days=29)).strftime('%Y-%m-%d %H:%M:%S Asia/Tokyo')\n",
    "}"
   ]
  },
  {
   "cell_type": "code",
   "execution_count": null,
   "metadata": {},
   "outputs": [],
   "source": [
    "%%time\n",
    "%%bigquery df --param $params\n",
    "SELECT\n",
    "  *\n",
    "FROM\n",
    "  `sandbox-243014.fluentd.fluentd_test`\n",
    "WHERE\n",
    "  time >= @start_date\n",
    "  AND time < @end_date\n",
    "ORDER BY\n",
    "  time ASC"
   ]
  },
  {
   "cell_type": "code",
   "execution_count": null,
   "metadata": {},
   "outputs": [],
   "source": [
    "print(params['start_date'])\n",
    "print(params['end_date'])\n",
    "df"
   ]
  }
 ],
 "metadata": {
  "kernelspec": {
   "display_name": "Python 3",
   "language": "python",
   "name": "python3"
  }
 },
 "nbformat": 4,
 "nbformat_minor": 4
}
