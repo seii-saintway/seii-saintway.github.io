{
 "cells": [
  {
   "cell_type": "markdown",
   "metadata": {},
   "source": [
    "https://mybinder.org/v2/gh/jupyterhub/nbgitpuller/master?urlpath=apps/binder%2Flink_generator.ipynb"
   ]
  },
  {
   "cell_type": "markdown",
   "metadata": {},
   "source": [
    "* https://anvil.works/learn/tutorials/jupyter-notebook-to-web-app\n",
    "* https://hackernoon.com/making-web-apps-with-jupyter-notebook-75eab8bdb092\n",
    "* https://github.com/oschuett/appmode"
   ]
  },
  {
   "cell_type": "markdown",
   "metadata": {},
   "source": [
    "# Try Appmode"
   ]
  },
  {
   "cell_type": "code",
   "execution_count": null,
   "metadata": {},
   "outputs": [],
   "source": [
    "!sudo -E pip install appmode\n",
    "!sudo -E jupyter nbextension     enable --py --sys-prefix appmode\n",
    "!sudo -E jupyter serverextension enable --py --sys-prefix appmode"
   ]
  },
  {
   "cell_type": "markdown",
   "metadata": {},
   "source": [
    "# Try NBGitPuller"
   ]
  },
  {
   "cell_type": "code",
   "execution_count": null,
   "metadata": {},
   "outputs": [],
   "source": [
    "!sudo -E pip install -U nbgitpuller"
   ]
  },
  {
   "cell_type": "code",
   "execution_count": null,
   "metadata": {},
   "outputs": [],
   "source": [
    "from nbgitpuller import pull\n",
    "pull.__file__"
   ]
  },
  {
   "cell_type": "code",
   "execution_count": null,
   "metadata": {},
   "outputs": [],
   "source": [
    "from nbgitpuller import handlers\n",
    "handlers.__file__"
   ]
  },
  {
   "cell_type": "markdown",
   "metadata": {},
   "source": [
    "# Change `repo_url` to `clone_cmd`"
   ]
  },
  {
   "cell_type": "code",
   "execution_count": null,
   "metadata": {},
   "outputs": [],
   "source": [
    "!cd ~ && git clone --branch change-to-clone-command https://github.com/seii-saintway/nbgitpuller.git"
   ]
  },
  {
   "cell_type": "code",
   "execution_count": null,
   "metadata": {},
   "outputs": [],
   "source": [
    "!sudo cp ~/nbgitpuller/nbgitpuller/pull.py /opt/tljh/user/lib/python3.6/site-packages/nbgitpuller/pull.py\n",
    "!sudo cp ~/nbgitpuller/nbgitpuller/handlers.py /opt/tljh/user/lib/python3.6/site-packages/nbgitpuller/handlers.py"
   ]
  },
  {
   "cell_type": "markdown",
   "metadata": {},
   "source": [
    "* `https://jhub.name`\n",
    "* `git clone https://github.com/seii-saintway/nbgitpuller`\n",
    "* `change-to-clone-command`\n",
    "* `binder/link_generator.ipynb`\n",
    "* `app`\n",
    "\n",
    "https://jhub.name/hub/user-redirect/git-pull?repo=git+clone+https%3A%2F%2Fgithub.com%2Fseii-saintway%2Fnbgitpuller&branch=change-to-clone-command&subPath=binder%2Flink_generator.ipynb&app=app"
   ]
  },
  {
   "cell_type": "markdown",
   "metadata": {},
   "source": [
    "## Installation"
   ]
  },
  {
   "cell_type": "code",
   "execution_count": null,
   "metadata": {},
   "outputs": [],
   "source": [
    "!sudo -E pip install git+https://github.com/seii-saintway/nbgitpuller@change-to-clone-command"
   ]
  }
 ],
 "metadata": {
  "kernelspec": {
   "display_name": "Python 3",
   "language": "python",
   "name": "python3"
  }
 },
 "nbformat": 4,
 "nbformat_minor": 4
}
