{
 "cells": [
  {
   "cell_type": "markdown",
   "metadata": {},
   "source": [
    "* https://github.com/containous/traefik/\n",
    "* https://traefik.io/\n",
    "* https://docs.traefik.io/routing/overview/"
   ]
  },
  {
   "cell_type": "markdown",
   "metadata": {},
   "source": [
    "# Traefik Dashboard"
   ]
  },
  {
   "cell_type": "code",
   "execution_count": null,
   "metadata": {},
   "outputs": [],
   "source": [
    "!sudo apt install apache2-utils"
   ]
  },
  {
   "cell_type": "code",
   "execution_count": null,
   "metadata": {},
   "outputs": [],
   "source": [
    "!sudo sed -i 's/address = \"127.0.0.1:8099\"/address = \":8099\"/g' /opt/tljh/state/traefik.toml\n",
    "!sudo sed -i \"s/sourceRange = \\['127.0.0.1'\\]/sourceRange = \\['127.0.0.1', '110.3.247.172'\\]/g\" /opt/tljh/state/traefik.toml\n",
    "!sudo sed -i -e \"s/users = \\['api_admin:[^']*'\\]/users = \\['$(htpasswd -nb api_admin fdsa)'\\]/g\" /opt/tljh/state/traefik.toml"
   ]
  },
  {
   "cell_type": "code",
   "execution_count": null,
   "metadata": {},
   "outputs": [],
   "source": [
    "!sudo systemctl restart traefik"
   ]
  },
  {
   "cell_type": "code",
   "execution_count": null,
   "metadata": {},
   "outputs": [],
   "source": [
    "!sudo tljh-config reload hub"
   ]
  },
  {
   "cell_type": "code",
   "execution_count": null,
   "metadata": {},
   "outputs": [],
   "source": [
    "!curl -u api_admin:fdsa jhub.name:8099"
   ]
  },
  {
   "cell_type": "code",
   "execution_count": null,
   "metadata": {},
   "outputs": [],
   "source": [
    "!curl -u api_admin:fdsa localhost:8099"
   ]
  },
  {
   "cell_type": "code",
   "execution_count": null,
   "metadata": {},
   "outputs": [],
   "source": [
    "%%javascript\n",
    "const Http = new XMLHttpRequest();\n",
    "Http.withCredentials = true;\n",
    "Http.open('GET', 'http://jhub.name:8099');\n",
    "Http.send();\n",
    "if (Http.status != 200) {\n",
    "    alert(`Error: ${Http.status}`);\n",
    "} else {\n",
    "    alert(Http.responseText);\n",
    "}"
   ]
  },
  {
   "cell_type": "markdown",
   "metadata": {},
   "source": [
    "Rollback Settings"
   ]
  },
  {
   "cell_type": "code",
   "execution_count": null,
   "metadata": {},
   "outputs": [],
   "source": [
    "!sudo tljh-config reload proxy"
   ]
  },
  {
   "cell_type": "markdown",
   "metadata": {},
   "source": [
    "# Make isso HTTPS in TLJH"
   ]
  },
  {
   "cell_type": "markdown",
   "metadata": {},
   "source": [
    "* https://github.com/jupyterhub/the-littlest-jupyterhub/blob/master/tljh/jupyterhub_config.py\n",
    "* https://github.com/jupyterhub/traefik-proxy/blob/master/jupyterhub_traefik_proxy/toml.py\n",
    "* https://jupyterhub-traefik-proxy.readthedocs.io/en/latest/toml.html#traefik-configuration\n",
    "* https://docs.traefik.io/v1.7/basics/\n",
    "* https://posativ.org/isso/docs/setup/sub-uri/"
   ]
  },
  {
   "cell_type": "code",
   "execution_count": null,
   "metadata": {},
   "outputs": [],
   "source": [
    "%%bash\n",
    "cat << EOF | sudo tee -a /opt/tljh/state/rules.toml > /dev/null\n",
    "\n",
    "[frontends.isso]\n",
    "backend = \"isso\"\n",
    "passHostHeader = true\n",
    "\n",
    "[frontends.isso.routes.f1]\n",
    "rule = \"PathPrefixStrip:/isso/\"\n",
    "\n",
    "[backends.isso.servers.s1]\n",
    "url = \"http://127.0.0.1:8000\"\n",
    "weight = 1\n",
    "EOF"
   ]
  },
  {
   "cell_type": "code",
   "execution_count": null,
   "metadata": {},
   "outputs": [],
   "source": [
    "%env http=http:\\/\\/jhub.name:8000\\/\n",
    "%env https=https:\\/\\/jhub.name\\/isso\\/\n",
    "!sed -i -e \"s/$http/$https/g\" ~/hexo/themes/freemind/layout/_partial/post/comment.ejs"
   ]
  },
  {
   "cell_type": "markdown",
   "metadata": {},
   "source": [
    "## Commit Modifications\n",
    "https://github.com/seii-saintway/hexo-theme-freemind/commit/9568c3160d3c917a8a986beedafb7836e02c2bce"
   ]
  },
  {
   "cell_type": "markdown",
   "metadata": {},
   "source": [
    "# Change file-watch to directory in TLJH Traefik\n",
    "https://github.com/seii-saintway/the-littlest-jupyterhub/commit/e95d85e99187f9d65b748016807b28c256e77e39"
   ]
  },
  {
   "cell_type": "code",
   "execution_count": null,
   "metadata": {},
   "outputs": [],
   "source": [
    "%%bash\n",
    "cat << EOF | sudo tee /opt/tljh/state/dynamic/isso.toml > /dev/null\n",
    "\n",
    "[frontends.isso]\n",
    "backend = \"isso\"\n",
    "passHostHeader = true\n",
    "\n",
    "[frontends.isso.routes.f1]\n",
    "rule = \"PathPrefixStrip:/isso/\"\n",
    "\n",
    "[backends.isso.servers.s1]\n",
    "url = \"http://127.0.0.1:8000\"\n",
    "weight = 1\n",
    "EOF"
   ]
  },
  {
   "cell_type": "code",
   "execution_count": null,
   "metadata": {},
   "outputs": [
    {
     "name": "stdout",
     "output_type": "stream",
     "text": [
      "Granting passwordless sudo to JupyterHub admins...\n",
      "Setting up user environment...\n",
      "\n",
      "\n",
      "==> WARNING: A newer version of conda exists. <==\n",
      "  current version: 4.5.8\n",
      "  latest version: 4.7.12\n",
      "\n",
      "Please update conda by running\n",
      "\n",
      "    $ conda update -n base conda\n",
      "\n",
      "\n",
      "Setting up JupyterHub...\n"
     ]
    }
   ],
   "source": [
    "!sudo /opt/tljh/hub/bin/python -m tljh.installer"
   ]
  },
  {
   "cell_type": "code",
   "execution_count": null,
   "metadata": {},
   "outputs": [
    {
     "name": "stdout",
     "output_type": "stream",
     "text": [
      "2019-10-13 15:21:02,889 Granting passwordless sudo to JupyterHub admins...\n",
      "2019-10-13 15:21:02,890 Setting up user environment...\n",
      "2019-10-13 15:21:26,052 Setting up JupyterHub...\n"
     ]
    }
   ],
   "source": [
    "!sudo cat /opt/tljh/installer.log"
   ]
  },
  {
   "cell_type": "code",
   "execution_count": null,
   "metadata": {},
   "outputs": [],
   "source": [
    "!cd ~ && make restart-isso"
   ]
  }
 ],
 "metadata": {
  "kernelspec": {
   "display_name": "Python 3",
   "language": "python",
   "name": "python3"
  }
 },
 "nbformat": 4,
 "nbformat_minor": 4
}
