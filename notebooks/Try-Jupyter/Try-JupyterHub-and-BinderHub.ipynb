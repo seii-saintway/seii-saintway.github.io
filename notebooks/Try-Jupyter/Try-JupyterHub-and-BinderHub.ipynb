{
 "cells": [
  {
   "cell_type": "markdown",
   "metadata": {},
   "source": [
    "https://github.com/jupyterhub/jupyterhub-deploy-teaching"
   ]
  },
  {
   "cell_type": "markdown",
   "metadata": {},
   "source": [
    "# Authentication and User Basics\n",
    "https://jupyterhub.readthedocs.io/en/stable/getting-started/authenticators-users-basics.html"
   ]
  },
  {
   "cell_type": "markdown",
   "metadata": {},
   "source": [
    "# Zero to JupyterHub\n",
    "* https://github.com/jupyterhub/zero-to-jupyterhub-k8s\n",
    "* https://z2jh.jupyter.org/en/latest/optimization.html\n",
    "* https://z2jh.jupyter.org/en/latest/advanced.html\n",
    "* https://github.com/jupyterhub/oauthenticator\n",
    "* https://github.com/mogthesprog/jwtauthenticator\n",
    "* https://stackoverflow.com/questions/54636656/how-do-i-use-google-iap-for-authenticating-to-jupyterhub"
   ]
  },
  {
   "cell_type": "markdown",
   "metadata": {},
   "source": [
    "# JupyterLab on JupyterHub\n",
    "* https://jupyterlab.readthedocs.io/en/stable/user/jupyterhub.html\n",
    "* https://stackoverflow.com/questions/55132540/jupyterlab-on-jupyterhub"
   ]
  },
  {
   "cell_type": "markdown",
   "metadata": {},
   "source": [
    "# Add a custom login page and assignments directory for each user on a Jupyter Hub server\n",
    "https://pythonforundergradengineers.com/assignments-dir-and-custom-login-page-to-jupyterhub.html"
   ]
  },
  {
   "cell_type": "markdown",
   "metadata": {},
   "source": [
    "# Security in the Jupyter notebook server\n",
    "https://jupyter-notebook.readthedocs.io/en/stable/security.html#Our-security-model"
   ]
  },
  {
   "cell_type": "markdown",
   "metadata": {},
   "source": [
    "# Try BinderHub"
   ]
  },
  {
   "cell_type": "code",
   "execution_count": null,
   "metadata": {},
   "outputs": [],
   "source": [
    "!gcloud container clusters create \\\n",
    "  --machine-type n1-standard-1 \\\n",
    "  --num-nodes 1 --enable-autoscaling --min-nodes 0 --max-nodes 2 \\\n",
    "  --zone us-central1-b --cluster-version latest \\\n",
    "  jhub"
   ]
  },
  {
   "cell_type": "code",
   "execution_count": null,
   "metadata": {},
   "outputs": [],
   "source": [
    "!gcloud container clusters get-credentials jhub --zone us-central1-b --project sandbox-243014"
   ]
  },
  {
   "cell_type": "code",
   "execution_count": null,
   "metadata": {},
   "outputs": [],
   "source": [
    "!kubectl create clusterrolebinding cluster-admin-binding \\\n",
    "  --clusterrole=cluster-admin \\\n",
    "  --user=saintway.sakaru@gmail.com"
   ]
  },
  {
   "cell_type": "code",
   "execution_count": null,
   "metadata": {},
   "outputs": [],
   "source": [
    "!kubectl --namespace kube-system create serviceaccount tiller"
   ]
  },
  {
   "cell_type": "code",
   "execution_count": null,
   "metadata": {},
   "outputs": [],
   "source": [
    "!kubectl create clusterrolebinding tiller --clusterrole=cluster-admin --serviceaccount=kube-system:tiller"
   ]
  },
  {
   "cell_type": "code",
   "execution_count": null,
   "metadata": {},
   "outputs": [],
   "source": [
    "!helm init --service-account tiller --wait --upgrade"
   ]
  },
  {
   "cell_type": "code",
   "execution_count": null,
   "metadata": {},
   "outputs": [],
   "source": [
    "!kubectl create namespace kronhub"
   ]
  },
  {
   "cell_type": "markdown",
   "metadata": {},
   "source": [
    "## Install JupyterHub"
   ]
  },
  {
   "cell_type": "code",
   "execution_count": null,
   "metadata": {},
   "outputs": [],
   "source": [
    "%%bash\n",
    "helm repo add jupyterhub https://jupyterhub.github.io/helm-chart/\n",
    "helm repo update\n",
    "helm upgrade jupyterhub jupyterhub/jupyterhub --install --namespace kronhub --values config.yaml\n",
    "helm list"
   ]
  },
  {
   "cell_type": "code",
   "execution_count": null,
   "metadata": {},
   "outputs": [],
   "source": [
    "!kubectl get service --namespace kronhub"
   ]
  },
  {
   "cell_type": "code",
   "execution_count": null,
   "metadata": {},
   "outputs": [],
   "source": [
    "!kubectl describe service proxy-public --namespace kronhub"
   ]
  },
  {
   "cell_type": "markdown",
   "metadata": {},
   "source": [
    "## Install BinderHub"
   ]
  },
  {
   "cell_type": "code",
   "execution_count": null,
   "metadata": {},
   "outputs": [],
   "source": [
    "# Create Service Account kronhub-builder (groups can be set!)\n",
    "!mkdir ~/kronhub"
   ]
  },
  {
   "cell_type": "markdown",
   "metadata": {},
   "source": [
    "* one way for `secret.yaml`"
   ]
  },
  {
   "cell_type": "code",
   "execution_count": null,
   "metadata": {},
   "outputs": [],
   "source": [
    "%%bash\n",
    "cat << EOF > ~/kronhub/secret.yaml\n",
    "jupyterhub:\n",
    "  hub:\n",
    "    services:\n",
    "      binder:\n",
    "        apiToken: \"$(openssl rand -hex 32)\"\n",
    "  proxy:\n",
    "    secretToken: \"$(openssl rand -hex 32)\"\n",
    "registry:\n",
    "  url: https://gcr.io\n",
    "  password: |\n",
    "$(cat ~/sandbox-243014-09712d6ea91c.json | sed -r 's#[ ]*([^ ].*)#    \\1#g')\n",
    "EOF"
   ]
  },
  {
   "cell_type": "markdown",
   "metadata": {},
   "source": [
    "* another way for `secret.yaml`"
   ]
  },
  {
   "cell_type": "code",
   "execution_count": null,
   "metadata": {},
   "outputs": [],
   "source": [
    "%%bash\n",
    "echo \"\\\n",
    "jupyterhub:\n",
    "  hub:\n",
    "    services:\n",
    "      binder:\n",
    "        apiToken: \\\"$(openssl rand -hex 32)\\\"\n",
    "  proxy:\n",
    "    secretToken: \\\"$(openssl rand -hex 32)\\\"\n",
    "registry:\n",
    "  url: https://gcr.io\n",
    "  password: |\n",
    "$(cat ~/sandbox-243014-09712d6ea91c.json | sed -r 's#[ ]*([^ ].*)#    \\1#g')\\\n",
    "\" > ~/kronhub/secret.yaml"
   ]
  },
  {
   "cell_type": "markdown",
   "metadata": {},
   "source": [
    "* `config.yaml`"
   ]
  },
  {
   "cell_type": "code",
   "execution_count": null,
   "metadata": {},
   "outputs": [],
   "source": [
    "%%bash\n",
    "cat << EOF > ~/kronhub/config.yaml\n",
    "replicas: 1.0\n",
    "config:\n",
    "  BinderHub:\n",
    "    use_registry: true\n",
    "    image_prefix: gcr.io/$(\\\n",
    "      cat ~/sandbox-243014-09712d6ea91c.json \\\n",
    "    | grep -oe '\"project_id\": \"[^\"]*\",' \\\n",
    "    | sed -r 's#\"project_id\": \"([^\"]*)\",#\\1#g' \\\n",
    "    )/kronhub-\n",
    "EOF"
   ]
  },
  {
   "cell_type": "code",
   "execution_count": null,
   "metadata": {},
   "outputs": [],
   "source": [
    "# get project id in many ways\n",
    "!gcloud config get-value project\n",
    "!gcloud config list --format 'value(core.project)'\n",
    "!gcloud config configurations list --format 'value(PROJECT)'"
   ]
  },
  {
   "cell_type": "code",
   "execution_count": null,
   "metadata": {},
   "outputs": [],
   "source": [
    "%%bash\n",
    "helm repo add jupyterhub https://jupyterhub.github.io/helm-chart\n",
    "helm repo update"
   ]
  },
  {
   "cell_type": "markdown",
   "metadata": {},
   "source": [
    "### **helm install**"
   ]
  },
  {
   "cell_type": "code",
   "execution_count": null,
   "metadata": {},
   "outputs": [],
   "source": [
    "%%bash\n",
    "helm install jupyterhub/binderhub --version=0.2.0-29e7546 --name=binderhub --namespace=kronhub \\\n",
    "  -f ~/kronhub/secret.yaml -f ~/kronhub/config.yaml"
   ]
  },
  {
   "cell_type": "markdown",
   "metadata": {},
   "source": [
    "**[Securing your Helm Installation](https://helm.sh/docs/using_helm/#securing-your-helm-installation)**"
   ]
  },
  {
   "cell_type": "code",
   "execution_count": null,
   "metadata": {},
   "outputs": [],
   "source": [
    "!cd ~ && git clone https://github.com/jupyterhub/binderhub.git"
   ]
  },
  {
   "cell_type": "code",
   "execution_count": null,
   "metadata": {},
   "outputs": [],
   "source": [
    "!cd ~/binderhub/helm-chart/binderhub && helm dependency update"
   ]
  },
  {
   "cell_type": "code",
   "execution_count": null,
   "metadata": {},
   "outputs": [],
   "source": [
    "!cd ~/binderhub/helm-chart && helm dep up binderhub"
   ]
  },
  {
   "cell_type": "markdown",
   "metadata": {},
   "source": [
    "* https://helm.sh/docs/developing_charts/\n",
    "* https://helm.sh/docs/using_helm/#quickstart"
   ]
  },
  {
   "cell_type": "code",
   "execution_count": null,
   "metadata": {},
   "outputs": [],
   "source": [
    "!helm list"
   ]
  },
  {
   "cell_type": "code",
   "execution_count": null,
   "metadata": {},
   "outputs": [],
   "source": [
    "%%bash\n",
    "cat << EOF > ~/kronhub/config.yaml\n",
    "replicas: 1.0\n",
    "config:\n",
    "  BinderHub:\n",
    "    use_registry: true\n",
    "    image_prefix: gcr.io/$(\\\n",
    "      cat ~/sandbox-243014-09712d6ea91c.json \\\n",
    "    | grep -oe '\"project_id\": \"[^\"]*\",' \\\n",
    "    | sed -r 's#\"project_id\": \"([^\"]*)\",#\\1#g' \\\n",
    "    )/kronhub-\n",
    "    hub_url: $(kubectl --namespace=kronhub get svc proxy-public \\\n",
    "               -o custom-columns=':.status.loadBalancer.ingress[0].ip' \\\n",
    "             | grep -oe '[^\\n]*')\n",
    "EOF"
   ]
  },
  {
   "cell_type": "code",
   "execution_count": null,
   "metadata": {},
   "outputs": [],
   "source": [
    "!helm upgrade binderhub jupyterhub/binderhub --version=0.2.0-29e7546 -f ~/kronhub/secret.yaml -f ~/kronhub/config.yaml"
   ]
  },
  {
   "cell_type": "code",
   "execution_count": null,
   "metadata": {},
   "outputs": [],
   "source": [
    "!kubectl get svc --namespace kronhub proxy-public -o jsonpath='{.status.loadBalancer.ingress[0].ip}'"
   ]
  },
  {
   "cell_type": "code",
   "execution_count": null,
   "metadata": {},
   "outputs": [],
   "source": [
    "!kubectl --namespace=kronhub get svc binder"
   ]
  },
  {
   "cell_type": "markdown",
   "metadata": {},
   "source": [
    "## [BinderHub - Enabling Authentication](https://binderhub.readthedocs.io/en/latest/authentication.html)"
   ]
  },
  {
   "cell_type": "code",
   "execution_count": null,
   "metadata": {},
   "outputs": [],
   "source": [
    "%%bash\n",
    "cat << EOF > ~/kronhub/config.yaml\n",
    "replicas: 1.0\n",
    "config:\n",
    "  BinderHub:\n",
    "    use_registry: true\n",
    "    image_prefix: gcr.io/$(\\\n",
    "      cat ~/sandbox-243014-09712d6ea91c.json \\\n",
    "    | grep -oe '\"project_id\": \"[^\"]*\",' \\\n",
    "    | sed -r 's#\"project_id\": \"([^\"]*)\",#\\1#g' \\\n",
    "    )/kronhub-\n",
    "    hub_url: $(kubectl --namespace=kronhub get svc proxy-public \\\n",
    "               -o custom-columns=':.status.loadBalancer.ingress[0].ip' \\\n",
    "             | grep -oe '[^\\n]*')\n",
    "    auth_enabled: true\n",
    "\n",
    "jupyterhub:\n",
    "  cull:\n",
    "    # do cull authenticated users\n",
    "    users: True\n",
    "\n",
    "  hub:\n",
    "    redirectToServer: false\n",
    "    services:\n",
    "      binder:\n",
    "        oauth_redirect_uri: \"http://$(kubectl --namespace=kronhub get svc binder -o jsonpath='{.status.loadBalancer.ingress[0].ip}')/oauth_callback\"\n",
    "        oauth_client_id: \"binder-oauth-client-test\"\n",
    "    extraConfig:\n",
    "      binder: |\n",
    "        from kubespawner import KubeSpawner\n",
    "\n",
    "        class BinderSpawner(KubeSpawner):\n",
    "          def start(self):\n",
    "            if 'image' in self.user_options:\n",
    "              # binder service sets the image spec via user options\n",
    "              self.image = self.user_options['image']\n",
    "            return super().start()\n",
    "        c.JupyterHub.spawner_class = BinderSpawner\n",
    "\n",
    "  singleuser:\n",
    "    # to make notebook servers aware of hub\n",
    "    cmd: jupyterhub-singleuser\n",
    "\n",
    "  auth: {}\n",
    "EOF"
   ]
  }
 ],
 "metadata": {
  "kernelspec": {
   "display_name": "Python 3",
   "language": "python",
   "name": "python3"
  }
 },
 "nbformat": 4,
 "nbformat_minor": 4
}
