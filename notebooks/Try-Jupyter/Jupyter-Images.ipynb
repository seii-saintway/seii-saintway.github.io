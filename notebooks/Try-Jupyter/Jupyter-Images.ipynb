{
 "cells": [
  {
   "cell_type": "markdown",
   "metadata": {},
   "source": [
    "https://hub.docker.com/r/niicloudoperation/notebook/dockerfile"
   ]
  },
  {
   "cell_type": "markdown",
   "metadata": {},
   "source": [
    "https://hub.docker.com/u/jupyter/\n",
    "\n",
    "* https://hub.docker.com/r/jupyter/base-notebook/dockerfile\n",
    "* https://hub.docker.com/r/jupyter/minimal-notebook/dockerfile\n",
    "* https://hub.docker.com/r/jupyter/scipy-notebook/dockerfile\n",
    "* https://hub.docker.com/r/jupyter/datascience-notebook/dockerfile\n",
    "* https://hub.docker.com/r/jupyter/tensorflow-notebook/dockerfile\n",
    "\n",
    "https://hub.docker.com/r/jupyter/nbviewer/dockerfile"
   ]
  }
 ],
 "metadata": {
  "kernelspec": {
   "display_name": "Python 3",
   "language": "python",
   "name": "python3"
  }
 },
 "nbformat": 4,
 "nbformat_minor": 4
}
