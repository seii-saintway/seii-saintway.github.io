{
 "cells": [
  {
   "cell_type": "code",
   "execution_count": null,
   "metadata": {},
   "outputs": [
    {
     "data": {
      "application/json": {
       "cell": {
        "!": "OSMagics",
        "HTML": "Other",
        "SVG": "Other",
        "bash": "Other",
        "capture": "ExecutionMagics",
        "debug": "ExecutionMagics",
        "file": "Other",
        "html": "DisplayMagics",
        "javascript": "DisplayMagics",
        "js": "DisplayMagics",
        "latex": "DisplayMagics",
        "markdown": "DisplayMagics",
        "perl": "Other",
        "prun": "ExecutionMagics",
        "pypy": "Other",
        "python": "Other",
        "python2": "Other",
        "python3": "Other",
        "ruby": "Other",
        "script": "ScriptMagics",
        "sh": "Other",
        "svg": "DisplayMagics",
        "sx": "OSMagics",
        "system": "OSMagics",
        "time": "ExecutionMagics",
        "timeit": "ExecutionMagics",
        "writefile": "OSMagics"
       },
       "line": {
        "alias": "OSMagics",
        "alias_magic": "BasicMagics",
        "autoawait": "AsyncMagics",
        "autocall": "AutoMagics",
        "automagic": "AutoMagics",
        "autosave": "KernelMagics",
        "bookmark": "OSMagics",
        "cat": "Other",
        "cd": "OSMagics",
        "clear": "KernelMagics",
        "colors": "BasicMagics",
        "conda": "PackagingMagics",
        "config": "ConfigMagics",
        "connect_info": "KernelMagics",
        "cp": "Other",
        "debug": "ExecutionMagics",
        "dhist": "OSMagics",
        "dirs": "OSMagics",
        "doctest_mode": "BasicMagics",
        "ed": "Other",
        "edit": "KernelMagics",
        "env": "OSMagics",
        "gui": "BasicMagics",
        "hist": "Other",
        "history": "HistoryMagics",
        "killbgscripts": "ScriptMagics",
        "ldir": "Other",
        "less": "KernelMagics",
        "lf": "Other",
        "lk": "Other",
        "ll": "Other",
        "load": "CodeMagics",
        "load_ext": "ExtensionMagics",
        "loadpy": "CodeMagics",
        "logoff": "LoggingMagics",
        "logon": "LoggingMagics",
        "logstart": "LoggingMagics",
        "logstate": "LoggingMagics",
        "logstop": "LoggingMagics",
        "ls": "Other",
        "lsmagic": "BasicMagics",
        "lx": "Other",
        "macro": "ExecutionMagics",
        "magic": "BasicMagics",
        "man": "KernelMagics",
        "matplotlib": "PylabMagics",
        "mkdir": "Other",
        "more": "KernelMagics",
        "mv": "Other",
        "notebook": "BasicMagics",
        "page": "BasicMagics",
        "pastebin": "CodeMagics",
        "pdb": "ExecutionMagics",
        "pdef": "NamespaceMagics",
        "pdoc": "NamespaceMagics",
        "pfile": "NamespaceMagics",
        "pinfo": "NamespaceMagics",
        "pinfo2": "NamespaceMagics",
        "pip": "PackagingMagics",
        "popd": "OSMagics",
        "pprint": "BasicMagics",
        "precision": "BasicMagics",
        "prun": "ExecutionMagics",
        "psearch": "NamespaceMagics",
        "psource": "NamespaceMagics",
        "pushd": "OSMagics",
        "pwd": "OSMagics",
        "pycat": "OSMagics",
        "pylab": "PylabMagics",
        "qtconsole": "KernelMagics",
        "quickref": "BasicMagics",
        "recall": "HistoryMagics",
        "rehashx": "OSMagics",
        "reload_ext": "ExtensionMagics",
        "rep": "Other",
        "rerun": "HistoryMagics",
        "reset": "NamespaceMagics",
        "reset_selective": "NamespaceMagics",
        "rm": "Other",
        "rmdir": "Other",
        "run": "ExecutionMagics",
        "save": "CodeMagics",
        "sc": "OSMagics",
        "set_env": "OSMagics",
        "store": "StoreMagics",
        "sx": "OSMagics",
        "system": "OSMagics",
        "tb": "ExecutionMagics",
        "time": "ExecutionMagics",
        "timeit": "ExecutionMagics",
        "unalias": "OSMagics",
        "unload_ext": "ExtensionMagics",
        "who": "NamespaceMagics",
        "who_ls": "NamespaceMagics",
        "whos": "NamespaceMagics",
        "xdel": "NamespaceMagics",
        "xmode": "BasicMagics"
       }
      },
      "text/plain": [
       "Available line magics:\n",
       "%alias  %alias_magic  %autoawait  %autocall  %automagic  %autosave  %bookmark  %cat  %cd  %clear  %colors  %conda  %config  %connect_info  %cp  %debug  %dhist  %dirs  %doctest_mode  %ed  %edit  %env  %gui  %hist  %history  %killbgscripts  %ldir  %less  %lf  %lk  %ll  %load  %load_ext  %loadpy  %logoff  %logon  %logstart  %logstate  %logstop  %ls  %lsmagic  %lx  %macro  %magic  %man  %matplotlib  %mkdir  %more  %mv  %notebook  %page  %pastebin  %pdb  %pdef  %pdoc  %pfile  %pinfo  %pinfo2  %pip  %popd  %pprint  %precision  %prun  %psearch  %psource  %pushd  %pwd  %pycat  %pylab  %qtconsole  %quickref  %recall  %rehashx  %reload_ext  %rep  %rerun  %reset  %reset_selective  %rm  %rmdir  %run  %save  %sc  %set_env  %store  %sx  %system  %tb  %time  %timeit  %unalias  %unload_ext  %who  %who_ls  %whos  %xdel  %xmode\n",
       "\n",
       "Available cell magics:\n",
       "%%!  %%HTML  %%SVG  %%bash  %%capture  %%debug  %%file  %%html  %%javascript  %%js  %%latex  %%markdown  %%perl  %%prun  %%pypy  %%python  %%python2  %%python3  %%ruby  %%script  %%sh  %%svg  %%sx  %%system  %%time  %%timeit  %%writefile\n",
       "\n",
       "Automagic is ON, % prefix IS NOT needed for line magics."
      ]
     },
     "execution_count": null,
     "metadata": {},
     "output_type": "execute_result"
    }
   ],
   "source": [
    "%lsmagic"
   ]
  },
  {
   "cell_type": "code",
   "execution_count": null,
   "metadata": {},
   "outputs": [],
   "source": [
    "%%javascript\n",
    "alert('javascript');"
   ]
  },
  {
   "cell_type": "markdown",
   "metadata": {},
   "source": [
    "---"
   ]
  },
  {
   "cell_type": "code",
   "execution_count": null,
   "metadata": {},
   "outputs": [],
   "source": [
    "import IPython"
   ]
  },
  {
   "cell_type": "code",
   "execution_count": null,
   "metadata": {},
   "outputs": [],
   "source": [
    "from revChatGPT.V1 import Chatbot, configure\n",
    "\n",
    "\n",
    "bot = Chatbot(\n",
    "    config = configure(),\n",
    "    conversation_id = 'fdf52ab3-f8c1-450f-86f2-5a25d43fc48d',\n",
    "    lazy_loading = True\n",
    ")"
   ]
  },
  {
   "cell_type": "code",
   "execution_count": null,
   "metadata": {},
   "outputs": [
    {
     "data": {
      "text/markdown": [
       "JupyterLab 支持使用 `!` 前缀来执行命令，类似于在终端中执行命令。如果你想使用 zsh 的 magic command，可以在单元格中使用 `!zsh -c` 命令来执行，例如：\n",
       "\n",
       "```\n",
       "!zsh -c 'echo hello world'\n",
       "```\n",
       "\n",
       "这将会使用 zsh 来执行 `echo hello world` 命令。"
      ],
      "text/plain": [
       "<IPython.core.display.Markdown object>"
      ]
     },
     "metadata": {},
     "output_type": "display_data"
    }
   ],
   "source": [
    "for response in bot.ask('''\n",
    "Juypyter Lab 有没有 zsh 的 magic command？\n",
    "'''):\n",
    "    IPython.display.display(IPython.core.display.Markdown(response['message']))\n",
    "    IPython.display.clear_output(wait=True)"
   ]
  },
  {
   "cell_type": "code",
   "execution_count": null,
   "metadata": {},
   "outputs": [
    {
     "data": {
      "text/markdown": [
       "在 Jupyter Lab 中加载 zsh 的 magic command 时，如果发现没有加载 `~/.zshrc` 中的内容，可以尝试在 `~/.zshenv` 中添加以下内容：\n",
       "\n",
       "```bash\n",
       "# Load user's ~/.zshrc, but in non-interactive shell environments.\n",
       "if [[ -n \"$ZSH_VERSION\" ]]; then\n",
       "  if [[ -e \"$HOME/.zshrc\" ]]; then\n",
       "    source \"$HOME/.zshrc\"\n",
       "  fi\n",
       "fi\n",
       "```\n",
       "\n",
       "这样在 Jupyter Lab 中执行 zsh 的 magic command 时，应该就能加载 `~/.zshrc` 中的内容了。"
      ],
      "text/plain": [
       "<IPython.core.display.Markdown object>"
      ]
     },
     "metadata": {},
     "output_type": "display_data"
    }
   ],
   "source": [
    "for response in bot.ask('''\n",
    "Juypyter Lab 中 zsh 的 magic command 没有加载 ~/.zshrc，该怎么办呢？\n",
    "'''):\n",
    "    IPython.display.display(IPython.core.display.Markdown(response['message']))\n",
    "    IPython.display.clear_output(wait=True)"
   ]
  },
  {
   "cell_type": "code",
   "execution_count": null,
   "metadata": {},
   "outputs": [],
   "source": [
    "%%bash\n",
    "cat << EOF >> ~/.zshenv\n",
    "\n",
    "# Load \\`nvm\\` in non-interactive shell environments.\n",
    "if [[ -n \"$NVM_DIR\" ]]; then\n",
    "    export NVM_DIR=\"$HOME/.nvm\"\n",
    "    [ -s \"$NVM_DIR/nvm.sh\" ] && \\. \"$NVM_DIR/nvm.sh\"\n",
    "fi\n",
    "EOF"
   ]
  },
  {
   "cell_type": "code",
   "execution_count": null,
   "metadata": {},
   "outputs": [
    {
     "name": "stdout",
     "output_type": "stream",
     "text": [
      ". \"$HOME/.cargo/env\"\n",
      "\n",
      "# Load `nvm` in non-interactive shell environments.\n",
      "if [[ -n \"/Users/saintway/.nvm\" ]]; then\n",
      "    export NVM_DIR=\"/Users/saintway/.nvm\"\n",
      "    [ -s \"/Users/saintway/.nvm/nvm.sh\" ] && \\. \"/Users/saintway/.nvm/nvm.sh\"\n",
      "fi\n"
     ]
    }
   ],
   "source": [
    "!zsh -c 'cat ~/.zshenv'"
   ]
  },
  {
   "cell_type": "code",
   "execution_count": null,
   "metadata": {},
   "outputs": [
    {
     "name": "stdout",
     "output_type": "stream",
     "text": [
      "\u001b[0;34m    iojs-v1.0.4\u001b[0m\n",
      "\u001b[0;32m->      v19.7.0\u001b[0m\n",
      "\u001b[0;33m         system\u001b[0m\n",
      "\u001b[0;32mdefault\u001b[0m \u001b[0;90m->\u001b[0m \u001b[0;32mnode\u001b[0m (\u001b[0;90m->\u001b[0m \u001b[0;32mv19.7.0\u001b[0m)\n",
      "\u001b[0;31munstable\u001b[0m \u001b[0;90m->\u001b[0m \u001b[0;31mN/A\u001b[0m \u001b[0;37m(default)\u001b[0m\n",
      "\u001b[0;32mnode\u001b[0m \u001b[0;90m->\u001b[0m \u001b[0;32mstable\u001b[0m (\u001b[0;90m->\u001b[0m \u001b[0;32mv19.7.0\u001b[0m) \u001b[0;37m(default)\u001b[0m\n",
      "\u001b[0;32mstable\u001b[0m \u001b[0;90m->\u001b[0m \u001b[0;32m19.7\u001b[0m (\u001b[0;90m->\u001b[0m \u001b[0;32mv19.7.0\u001b[0m) \u001b[0;37m(default)\u001b[0m\n",
      "\u001b[0;34miojs\u001b[0m \u001b[0;90m->\u001b[0m \u001b[0;34miojs-v1.0\u001b[0m (\u001b[0;90m->\u001b[0m \u001b[0;34miojs-v1.0.4\u001b[0m) \u001b[0;37m(default)\u001b[0m\n",
      "\u001b[1;33mlts/*\u001b[0m \u001b[0;90m->\u001b[0m \u001b[1;33mlts/hydrogen\u001b[0m (\u001b[0;90m->\u001b[0m \u001b[0;31mN/A\u001b[0m)\n",
      "\u001b[1;33mlts/argon\u001b[0m \u001b[0;90m->\u001b[0m \u001b[0;31mv4.9.1\u001b[0m (\u001b[0;90m->\u001b[0m \u001b[0;31mN/A\u001b[0m)\n",
      "\u001b[1;33mlts/boron\u001b[0m \u001b[0;90m->\u001b[0m \u001b[0;31mv6.17.1\u001b[0m (\u001b[0;90m->\u001b[0m \u001b[0;31mN/A\u001b[0m)\n",
      "\u001b[1;33mlts/carbon\u001b[0m \u001b[0;90m->\u001b[0m \u001b[0;31mv8.17.0\u001b[0m (\u001b[0;90m->\u001b[0m \u001b[0;31mN/A\u001b[0m)\n",
      "\u001b[1;33mlts/dubnium\u001b[0m \u001b[0;90m->\u001b[0m \u001b[0;31mv10.24.1\u001b[0m (\u001b[0;90m->\u001b[0m \u001b[0;31mN/A\u001b[0m)\n",
      "\u001b[1;33mlts/erbium\u001b[0m \u001b[0;90m->\u001b[0m \u001b[0;31mv12.22.12\u001b[0m (\u001b[0;90m->\u001b[0m \u001b[0;31mN/A\u001b[0m)\n",
      "\u001b[1;33mlts/fermium\u001b[0m \u001b[0;90m->\u001b[0m \u001b[0;31mv14.21.3\u001b[0m (\u001b[0;90m->\u001b[0m \u001b[0;31mN/A\u001b[0m)\n",
      "\u001b[1;33mlts/gallium\u001b[0m \u001b[0;90m->\u001b[0m \u001b[0;31mv16.19.1\u001b[0m (\u001b[0;90m->\u001b[0m \u001b[0;31mN/A\u001b[0m)\n",
      "\u001b[1;33mlts/hydrogen\u001b[0m \u001b[0;90m->\u001b[0m \u001b[0;31mv18.15.0\u001b[0m (\u001b[0;90m->\u001b[0m \u001b[0;31mN/A\u001b[0m)\n"
     ]
    }
   ],
   "source": [
    "!zsh -c 'nvm ls'"
   ]
  }
 ],
 "metadata": {
  "kernelspec": {
   "display_name": "Python 3 (ipykernel)",
   "language": "python",
   "name": "python3"
  }
 },
 "nbformat": 4,
 "nbformat_minor": 4
}
