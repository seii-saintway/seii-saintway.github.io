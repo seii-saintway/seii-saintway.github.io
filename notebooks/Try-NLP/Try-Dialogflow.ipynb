{
 "cells": [
  {
   "cell_type": "markdown",
   "metadata": {},
   "source": [
    "* [Creating a Healthcare Chatbot in React Native using Dialogflow](https://medium.com/zenofai/creating-a-chatbot-for-healthcare-in-react-native-using-dialogflow-764c29cfed29)"
   ]
  },
  {
   "cell_type": "markdown",
   "metadata": {},
   "source": [
    "* [rasa github](https://github.com/RasaHQ/rasa)\n",
    "\n",
    "Open source machine learning framework to automate text- and voice-based conversations: NLU, dialogue management, connect to Slack, Facebook, and more - Create chatbots and voice assistants"
   ]
  },
  {
   "cell_type": "markdown",
   "metadata": {},
   "source": [
    "* https://rasa.com/docs/getting-started/\n",
    "* https://rasa.com/docs/rasa/migrate-from/google-dialogflow-to-rasa/"
   ]
  },
  {
   "cell_type": "markdown",
   "metadata": {},
   "source": [
    "* https://github.com/huggingface/transformers\n",
    "* https://github.com/karpathy/minGPT"
   ]
  },
  {
   "cell_type": "markdown",
   "metadata": {},
   "source": [
    "* [A large-scale dataset for building Conversational Question Answering systems](https://stanfordnlp.github.io/coqa/)"
   ]
  },
  {
   "cell_type": "markdown",
   "metadata": {},
   "source": [
    "---"
   ]
  },
  {
   "cell_type": "markdown",
   "metadata": {},
   "source": [
    "* [ColossalAI](https://mp.weixin.qq.com/s/C9b_oZu9jpw0oObEuDmd9w)\n",
    "  * https://github.com/hpcaitech/ColossalAI\n",
    "* [LMFlow](https://mp.weixin.qq.com/s/LCGQyNA6sHcdfIIARSNlww)\n",
    "  * https://github.com/OptimalScale/LMFlow"
   ]
  }
 ],
 "metadata": {
  "kernelspec": {
   "display_name": "Python 3 (ipykernel)",
   "language": "python",
   "name": "python3"
  }
 },
 "nbformat": 4,
 "nbformat_minor": 4
}
