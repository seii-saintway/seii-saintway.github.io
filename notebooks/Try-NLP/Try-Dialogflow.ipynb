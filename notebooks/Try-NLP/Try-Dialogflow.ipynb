{
 "cells": [
  {
   "cell_type": "markdown",
   "metadata": {},
   "source": [
    "* https://link.medium.com/y6bUPZ9XF1\n",
    "* https://rasa.com/docs/rasa/migrate-from/google-dialogflow-to-rasa/"
   ]
  },
  {
   "cell_type": "markdown",
   "metadata": {},
   "source": [
    "* https://rasa.com/docs/getting-started/\n",
    "* https://github.com/RasaHQ/rasa"
   ]
  }
 ],
 "metadata": {
  "kernelspec": {
   "display_name": "Python 3",
   "language": "python",
   "name": "python3"
  }
 },
 "nbformat": 4,
 "nbformat_minor": 4
}
