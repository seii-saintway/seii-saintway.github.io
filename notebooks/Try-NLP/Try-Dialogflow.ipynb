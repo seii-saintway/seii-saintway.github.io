{
 "cells": [
  {
   "cell_type": "markdown",
   "metadata": {},
   "source": [
    "* [Creating a Healthcare Chatbot in React Native using Dialogflow](https://medium.com/zenofai/creating-a-chatbot-for-healthcare-in-react-native-using-dialogflow-764c29cfed29)"
   ]
  },
  {
   "cell_type": "markdown",
   "metadata": {},
   "source": [
    "* [rasa github](https://github.com/RasaHQ/rasa)\n",
    "\n",
    "Open source machine learning framework to automate text- and voice-based conversations: NLU, dialogue management, connect to Slack, Facebook, and more - Create chatbots and voice assistants"
   ]
  },
  {
   "cell_type": "markdown",
   "metadata": {},
   "source": [
    "* https://rasa.com/docs/getting-started/\n",
    "* https://rasa.com/docs/rasa/migrate-from/google-dialogflow-to-rasa/"
   ]
  }
 ],
 "metadata": {
  "kernelspec": {
   "display_name": "Python 3",
   "language": "python",
   "name": "python3"
  }
 },
 "nbformat": 4,
 "nbformat_minor": 4
}
