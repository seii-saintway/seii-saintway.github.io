{
 "cells": [
  {
   "cell_type": "markdown",
   "metadata": {},
   "source": [
    "---\n",
    "jumanpp_train.cc"
   ]
  },
  {
   "cell_type": "code",
   "execution_count": null,
   "metadata": {},
   "outputs": [],
   "source": [
    "%%bash\n",
    "git clone https://github.com/ku-nlp/KyotoCorpus"
   ]
  },
  {
   "cell_type": "code",
   "execution_count": null,
   "metadata": {},
   "outputs": [],
   "source": [
    "%%bash\n",
    "git clone https://github.com/ku-nlp/jumanpp-jumandic"
   ]
  },
  {
   "cell_type": "code",
   "execution_count": null,
   "metadata": {},
   "outputs": [],
   "source": [
    "%%bash\n",
    "cd ~/nlp/jumanpp-jumandic/ && python3 configure.py"
   ]
  },
  {
   "cell_type": "code",
   "execution_count": null,
   "metadata": {},
   "outputs": [],
   "source": [
    "%%bash\n",
    "sudo apt-get update\n",
    "sudo apt-get install zsh"
   ]
  },
  {
   "cell_type": "code",
   "execution_count": null,
   "metadata": {},
   "outputs": [],
   "source": [
    "%%bash\n",
    "sudo apt-get update\n",
    "sudo apt-get install ruby-full"
   ]
  },
  {
   "cell_type": "code",
   "execution_count": null,
   "metadata": {},
   "outputs": [],
   "source": [
    "%%bash\n",
    "mkdir -p ~/nlp/jumanpp-jumandic/bld/corpora\n",
    "cd ~/nlp/jumanpp-jumandic/ && make corpora"
   ]
  },
  {
   "cell_type": "code",
   "execution_count": null,
   "metadata": {},
   "outputs": [],
   "source": [
    "%%bash\n",
    "cd ~/nlp/jumanpp-jumandic/ && make ~/nlp/jumanpp-jumandic/bld/models/jumandic.bin"
   ]
  },
  {
   "cell_type": "code",
   "execution_count": null,
   "metadata": {},
   "outputs": [],
   "source": [
    "%%bash\n",
    "sudo apt update\n",
    "sudo apt install cmake"
   ]
  },
  {
   "cell_type": "code",
   "execution_count": null,
   "metadata": {},
   "outputs": [],
   "source": [
    "%%bash\n",
    "rm -rf ~/nlp/jumanpp-jumandic/bld/jpp/"
   ]
  },
  {
   "cell_type": "code",
   "execution_count": null,
   "metadata": {},
   "outputs": [],
   "source": [
    "%%bash\n",
    "cd ~/nlp/jumanpp-jumandic/ && make rnn"
   ]
  },
  {
   "cell_type": "code",
   "execution_count": null,
   "metadata": {},
   "outputs": [],
   "source": [
    "%%bash\n",
    "cd ~/nlp/jumanpp-jumandic/bld/jpp && make install"
   ]
  },
  {
   "cell_type": "code",
   "execution_count": null,
   "metadata": {},
   "outputs": [],
   "source": [
    "%%bash\n",
    "mkdir -p /usr/local/libexec/jumanpp\n",
    "cat << EOF > /usr/local/libexec/jumanpp/jumandic.config\n",
    "--model=$HOME/nlp/jumanpp-jumandic/bld/models/jumandic-rnn.model\n",
    "--rnn-nce-bias=5.62844432562\n",
    "--rnn-unk-constant=-3.4748115191\n",
    "--rnn-unk-length=-2.92994951022\n",
    "--feature-weight-perceptron=1\n",
    "--feature-weight-rnn=0.0176\n",
    "EOF"
   ]
  },
  {
   "cell_type": "markdown",
   "metadata": {},
   "source": [
    "---\n",
    "jumanpp"
   ]
  },
  {
   "cell_type": "code",
   "execution_count": null,
   "metadata": {},
   "outputs": [],
   "source": [
    "from ipymock.nlp import annotate\n",
    "from IPython.display import display, HTML\n",
    "\n",
    "answser = ''\n",
    "line = ''\n",
    "\n",
    "for word in annotate('''\n",
    "兄弟姉妹、主の内で平安を祈ります！私たち信者は召されて、メシアを受け入れ、経験し、楽しむべきです。彼こそが私たちの王、主、頭、そして霊的な夫であるべきです。まず、私たちはメシアを王として迎え入れ、良心を清め、心を澄ませて、彼の御座が私たちの中で支配することを許すべきです。次に、私たちの主として、彼の愛が私たちを古い自分のために生きることをやめさせ、完全に彼の支配に従い、すべてのことにおいて彼を喜ばせるように動機付けます。また、教会の生活の中でメシアを頭として経験し、彼の権威を体験し、彼から命の供給を受け、メシアの体を建て上げていきます。最終的に、私たちはメシアを霊的な夫として楽しみ、彼との親密な関係を築き、新しいエルサレムの栄光の完成を迎える準備をします。私たちがこのような経験の中に入って、神が喜ばれる道を歩むことができますように。アーメン！\n",
    "'''):\n",
    "    answser += word\n",
    "    if word == '\\n':\n",
    "        display(HTML(line))\n",
    "        line = ''\n",
    "    else:\n",
    "        line += word"
   ]
  },
  {
   "cell_type": "code",
   "execution_count": null,
   "metadata": {},
   "outputs": [],
   "source": [
    "from ipymock.nlp import annotate\n",
    "from IPython.display import display, HTML\n",
    "answser = ''\n",
    "line = ''\n",
    "for word in annotate('Ｅ．わたしたちが他の人をどの程度、神へともたらすことができるかは常に、わたしたちが神との関係においてどこにいるかによって測られます。わたしたちは神の中にいればいるほど、ますます他の人を和解させて、神の中へともたらすことができます。パウロは至聖所の中にいた人であったので、信者たちに、至聖所に「進み出（る）（come forward）」ように命じることができました（「出て行く（go forward）」ではない）―Ⅱコリント12:2前半．5:20．ヘブル10:22：'):\n",
    "    answser += word\n",
    "    if word == '\\n':\n",
    "        display(HTML(line))\n",
    "        line = ''\n",
    "    else:\n",
    "        line += word\n",
    "answser"
   ]
  },
  {
   "cell_type": "code",
   "execution_count": null,
   "metadata": {},
   "outputs": [],
   "source": [
    "from ipymock.nlp import annotate, halfwidth_to_fullwidth\n",
    "from IPython.display import display, HTML\n",
    "answser = ''\n",
    "line = ''\n",
    "for word in annotate(halfwidth_to_fullwidth('Ｅ．わたしたちが他の人をどの程度、神へともたらすことができるかは常に、わたしたちが神との関係においてどこにいるかによって測られます。わたしたちは神の中にいればいるほど、ますます他の人を和解させて、神の中へともたらすことができます。パウロは至聖所の中にいた人であったので、信者たちに、至聖所に「進み出（る）（come forward）」ように命じることができました（「出て行く（go forward）」ではない）―Ⅱコリント12:2前半．5:20．ヘブル10:22：')):\n",
    "    answser += word\n",
    "    if word == '\\n':\n",
    "        display(HTML(line))\n",
    "        line = ''\n",
    "    else:\n",
    "        line += word\n",
    "answser"
   ]
  },
  {
   "cell_type": "code",
   "execution_count": null,
   "metadata": {},
   "outputs": [],
   "source": [
    "filename = '朝202409月全国特別集会'"
   ]
  },
  {
   "cell_type": "code",
   "execution_count": null,
   "metadata": {},
   "outputs": [],
   "source": [
    "import os\n",
    "import shutil\n",
    "import zipfile\n",
    "\n",
    "def unzip_epub(epub_file_path):\n",
    "    # Get the absolute path and name of the file\n",
    "    epub_file_path = os.path.abspath(epub_file_path)\n",
    "    # Generate a folder path with the same name\n",
    "    output_dir = os.path.splitext(epub_file_path)[0]\n",
    "\n",
    "    if os.path.exists(output_dir):\n",
    "        shutil.rmtree(output_dir)  # Delete a non-empty directory\n",
    "\n",
    "    # Ensure the output directory exists\n",
    "    os.makedirs(output_dir)\n",
    "\n",
    "    # Open and extract the .epub file\n",
    "    with zipfile.ZipFile(epub_file_path, 'r') as zip_ref:\n",
    "        zip_ref.extractall(output_dir)\n",
    "        print(f'The .epub file has been extracted to: {output_dir}')\n",
    "\n",
    "# Replace with your .epub file path\n",
    "unzip_epub(f'{filename}.epub')"
   ]
  },
  {
   "cell_type": "markdown",
   "metadata": {},
   "source": [
    "```bash\n",
    "pip install beautifulsoup4\n",
    "pip install lxml\n",
    "```"
   ]
  },
  {
   "cell_type": "code",
   "execution_count": null,
   "metadata": {},
   "outputs": [],
   "source": [
    "import glob\n",
    "from ipymock.nlp import annotate_html\n",
    "\n",
    "# Define file path patterns\n",
    "file_pattern = f'{filename}/OEBPS/Text/[0-9]*Week_*.xhtml'\n",
    "\n",
    "# Get a list of files that meet the conditions\n",
    "file_list = glob.glob(file_pattern)\n",
    "\n",
    "results = []\n",
    "# Iterate through the files and read their contents\n",
    "for file_path in file_list:\n",
    "    # Read the file contents\n",
    "    with open(file_path, 'r', encoding='utf-8') as file:\n",
    "        content = file.read()\n",
    "\n",
    "    result = annotate_html(content.replace('イエス', 'ミヤス').replace('キリスト', 'メシア'))\n",
    "    print(f'Result for {file_path}:\\n\\n', result)\n",
    "    results.append(result)\n",
    "\n",
    "    # Write the modified content back to the file\n",
    "    with open(file_path, 'w', encoding='utf-8') as file:\n",
    "        file.write(result)"
   ]
  },
  {
   "cell_type": "code",
   "execution_count": null,
   "metadata": {},
   "outputs": [],
   "source": [
    "import os\n",
    "import zipfile\n",
    "\n",
    "def folder_to_epub(folder_path):\n",
    "    # Get the absolute path and name of the folder\n",
    "    folder_path = os.path.abspath(folder_path)\n",
    "    folder_name = os.path.splitext(folder_path)[0]\n",
    "\n",
    "    # Generate a .zip file path with the same name\n",
    "    zip_path = f'{folder_name}.zip'\n",
    "\n",
    "    # Create a .zip file\n",
    "    with zipfile.ZipFile(zip_path, 'w', zipfile.ZIP_DEFLATED) as zipf:\n",
    "        for root, _, files in os.walk(folder_path):\n",
    "            for file in files:\n",
    "                file_path = os.path.join(root, file)\n",
    "                # Ensure the relative path structure is preserved inside the .zip file\n",
    "                arcname = os.path.relpath(file_path, folder_path)\n",
    "                zipf.write(file_path, arcname)\n",
    "\n",
    "    # Generate the .epub file path\n",
    "    epub_path = f'{folder_name}メシア.epub'\n",
    "\n",
    "    # Rename the .zip file to an .epub file\n",
    "    os.rename(zip_path, epub_path)\n",
    "    print(f'The .epub file has been created: {epub_path}')\n",
    "\n",
    "# Replace with the folder path you want to compress\n",
    "folder_to_epub(f'{filename}')"
   ]
  }
 ],
 "metadata": {
  "kernelspec": {
   "display_name": "Python 3 (ipykernel)",
   "language": "python",
   "name": "python3"
  },
  "language_info": {
   "codemirror_mode": {
    "name": "ipython",
    "version": 3
   },
   "file_extension": ".py",
   "mimetype": "text/x-python",
   "name": "python",
   "nbconvert_exporter": "python",
   "pygments_lexer": "ipython3",
   "version": "3.9.7"
  }
 },
 "nbformat": 4,
 "nbformat_minor": 4
}
