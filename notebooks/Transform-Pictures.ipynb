{
 "cells": [
  {
   "cell_type": "code",
   "execution_count": null,
   "id": "01504c51",
   "metadata": {},
   "outputs": [],
   "source": [
    "%%bash\n",
    "pip3 install pillow pillow-heif"
   ]
  },
  {
   "cell_type": "code",
   "execution_count": null,
   "id": "5b5f9acc",
   "metadata": {},
   "outputs": [],
   "source": [
    "import os\n",
    "from PIL import Image\n",
    "import pillow_heif\n",
    "\n",
    "# 输入 HEIC 文件\n",
    "input_path = os.path.expanduser(\"~/Downloads/IMG_6846.HEIC\")\n",
    "\n",
    "# 输出 PNG 文件\n",
    "output_path = os.path.expanduser(\n",
    "    \"~/Library/CloudStorage/GoogleDrive-andrew.saintway@gmail.com/My Drive/在留資格/us-nonimmigrant-visa.png\"\n",
    ")\n",
    "\n",
    "# 确保输出目录存在\n",
    "os.makedirs(os.path.dirname(output_path), exist_ok=True)\n",
    "\n",
    "# 注册 HEIF 插件\n",
    "pillow_heif.register_heif_opener()\n",
    "\n",
    "# 打开 HEIC 并保存为 PNG\n",
    "with Image.open(input_path) as img:\n",
    "    img.save(output_path, format=\"PNG\")\n",
    "\n",
    "print(f\"Converted {input_path} → {output_path}\")"
   ]
  },
  {
   "cell_type": "code",
   "execution_count": null,
   "id": "558d2933",
   "metadata": {},
   "outputs": [],
   "source": [
    "import os\n",
    "from PIL import Image\n",
    "import pillow_heif\n",
    "\n",
    "# 输入 HEIC 文件\n",
    "input_path = os.path.expanduser(\"~/Downloads/IMG_6849.HEIC\")\n",
    "\n",
    "# 输出 PNG 文件\n",
    "output_path = os.path.expanduser(\n",
    "    \"~/Library/CloudStorage/GoogleDrive-andrew.saintway@gmail.com/My Drive/みやか/us-nonimmigrant-visa.png\"\n",
    ")\n",
    "\n",
    "# 确保输出目录存在\n",
    "os.makedirs(os.path.dirname(output_path), exist_ok=True)\n",
    "\n",
    "# 注册 HEIF 插件\n",
    "pillow_heif.register_heif_opener()\n",
    "\n",
    "# 打开 HEIC 并保存为 PNG\n",
    "with Image.open(input_path) as img:\n",
    "    img.save(output_path, format=\"PNG\")\n",
    "\n",
    "print(f\"Converted {input_path} → {output_path}\")"
   ]
  }
 ],
 "metadata": {
  "kernelspec": {
   "display_name": "ipymock",
   "language": "python",
   "name": "python3"
  },
  "language_info": {
   "codemirror_mode": {
    "name": "ipython",
    "version": 3
   },
   "file_extension": ".py",
   "mimetype": "text/x-python",
   "name": "python",
   "nbconvert_exporter": "python",
   "pygments_lexer": "ipython3",
   "version": "3.10.9"
  }
 },
 "nbformat": 4,
 "nbformat_minor": 5
}
