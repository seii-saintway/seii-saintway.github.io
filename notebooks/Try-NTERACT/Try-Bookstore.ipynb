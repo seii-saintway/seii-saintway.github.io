{
 "cells": [
  {
   "cell_type": "markdown",
   "metadata": {},
   "source": [
    "* https://github.com/nteract/bookstore\n",
    "* https://bookstore.readthedocs.io/en/latest/"
   ]
  },
  {
   "cell_type": "code",
   "execution_count": null,
   "metadata": {},
   "outputs": [
    {
     "name": "stdout",
     "output_type": "stream",
     "text": [
      "\u001b[33mWARNING: The directory '/home/jupyter-sheng_wei/.cache/pip/http' or its parent directory is not owned by the current user and the cache has been disabled. Please check the permissions and owner of that directory. If executing pip with sudo, you may want sudo's -H flag.\u001b[0m\n",
      "\u001b[33mWARNING: The directory '/home/jupyter-sheng_wei/.cache/pip' or its parent directory is not owned by the current user and caching wheels has been disabled. check the permissions and owner of that directory. If executing pip with sudo, you may want sudo's -H flag.\u001b[0m\n",
      "Collecting bookstore\n",
      "  Downloading https://files.pythonhosted.org/packages/bf/71/ecb60831eef8cbdaeec2281e09454baa045601dc80f554cba71d80a15e96/bookstore-2.4.1-py2.py3-none-any.whl\n",
      "Requirement already satisfied: tornado>=5.1.1 in /opt/tljh/user/lib/python3.6/site-packages (from bookstore) (5.1.1)\n",
      "Requirement already satisfied: future in /home/jupyter-sheng_wei/.local/lib/python3.6/site-packages (from bookstore) (0.17.1)\n",
      "Requirement already satisfied: ipython>=5.0 in /opt/tljh/user/lib/python3.6/site-packages (from bookstore) (7.8.0)\n",
      "Requirement already satisfied: notebook in /opt/tljh/user/lib/python3.6/site-packages (from bookstore) (5.7.8)\n",
      "Collecting aioboto3 (from bookstore)\n",
      "  Downloading https://files.pythonhosted.org/packages/ba/ed/3ecd0a36e9698fcd84e08a25c75b2c23c7b400df6cf816064571e450304b/aioboto3-6.4.1-py2.py3-none-any.whl\n",
      "Collecting aiobotocore (from bookstore)\n",
      "  Downloading https://files.pythonhosted.org/packages/ea/d5/54c0a0498f9e0825bbefc2169f560788dc3b1bac27602ad463d1d733718c/aiobotocore-0.10.3-py3-none-any.whl\n",
      "Requirement already satisfied: backcall in /opt/tljh/user/lib/python3.6/site-packages (from ipython>=5.0->bookstore) (0.1.0)\n",
      "Requirement already satisfied: setuptools>=18.5 in /opt/tljh/user/lib/python3.6/site-packages (from ipython>=5.0->bookstore) (41.2.0)\n",
      "Requirement already satisfied: traitlets>=4.2 in /opt/tljh/user/lib/python3.6/site-packages (from ipython>=5.0->bookstore) (4.3.2)\n",
      "Requirement already satisfied: jedi>=0.10 in /opt/tljh/user/lib/python3.6/site-packages (from ipython>=5.0->bookstore) (0.15.1)\n",
      "Requirement already satisfied: pickleshare in /opt/tljh/user/lib/python3.6/site-packages (from ipython>=5.0->bookstore) (0.7.5)\n",
      "Requirement already satisfied: decorator in /opt/tljh/user/lib/python3.6/site-packages (from ipython>=5.0->bookstore) (4.4.0)\n",
      "Requirement already satisfied: prompt-toolkit<2.1.0,>=2.0.0 in /opt/tljh/user/lib/python3.6/site-packages (from ipython>=5.0->bookstore) (2.0.9)\n",
      "Requirement already satisfied: pexpect; sys_platform != \"win32\" in /opt/tljh/user/lib/python3.6/site-packages (from ipython>=5.0->bookstore) (4.7.0)\n",
      "Requirement already satisfied: pygments in /opt/tljh/user/lib/python3.6/site-packages (from ipython>=5.0->bookstore) (2.4.2)\n",
      "Requirement already satisfied: pyzmq>=17 in /opt/tljh/user/lib/python3.6/site-packages (from notebook->bookstore) (18.1.0)\n",
      "Requirement already satisfied: jupyter-core>=4.4.0 in /opt/tljh/user/lib/python3.6/site-packages (from notebook->bookstore) (4.6.0)\n",
      "Requirement already satisfied: nbconvert in /opt/tljh/user/lib/python3.6/site-packages (from notebook->bookstore) (5.6.0)\n",
      "Requirement already satisfied: terminado>=0.8.1 in /opt/tljh/user/lib/python3.6/site-packages (from notebook->bookstore) (0.8.2)\n",
      "Requirement already satisfied: Send2Trash in /opt/tljh/user/lib/python3.6/site-packages (from notebook->bookstore) (1.5.0)\n",
      "Requirement already satisfied: jupyter-client>=5.2.0 in /opt/tljh/user/lib/python3.6/site-packages (from notebook->bookstore) (5.3.4)\n",
      "Requirement already satisfied: nbformat in /opt/tljh/user/lib/python3.6/site-packages (from notebook->bookstore) (4.4.0)\n",
      "Requirement already satisfied: ipython-genutils in /opt/tljh/user/lib/python3.6/site-packages (from notebook->bookstore) (0.2.0)\n",
      "Requirement already satisfied: jinja2 in /opt/tljh/user/lib/python3.6/site-packages (from notebook->bookstore) (2.10.1)\n",
      "Requirement already satisfied: ipykernel in /opt/tljh/user/lib/python3.6/site-packages (from notebook->bookstore) (5.1.2)\n",
      "Requirement already satisfied: prometheus-client in /opt/tljh/user/lib/python3.6/site-packages (from notebook->bookstore) (0.7.1)\n",
      "Requirement already satisfied: async-generator>=1.10 in /opt/tljh/user/lib/python3.6/site-packages (from aiobotocore->bookstore) (1.10)\n",
      "Collecting wrapt>=1.10.10 (from aiobotocore->bookstore)\n",
      "  Downloading https://files.pythonhosted.org/packages/23/84/323c2415280bc4fc880ac5050dddfb3c8062c2552b34c2e512eb4aa68f79/wrapt-1.11.2.tar.gz\n",
      "Collecting botocore<1.12.190,>=1.12.189 (from aiobotocore->bookstore)\n",
      "\u001b[?25l  Downloading https://files.pythonhosted.org/packages/28/70/14538f32e8d48d2429bee0112c180bf9cf89e5725cd7da4205d6ba5b10c7/botocore-1.12.189-py2.py3-none-any.whl (5.6MB)\n",
      "\u001b[K     |████████████████████████████████| 5.6MB 25.9MB/s eta 0:00:01\n",
      "\u001b[?25hCollecting aiohttp>=3.3.1 (from aiobotocore->bookstore)\n",
      "\u001b[?25l  Downloading https://files.pythonhosted.org/packages/7c/39/7eb5f98d24904e0f6d3edb505d4aa60e3ef83c0a58d6fe18244a51757247/aiohttp-3.6.2-cp36-cp36m-manylinux1_x86_64.whl (1.2MB)\n",
      "\u001b[K     |████████████████████████████████| 1.2MB 17.5MB/s eta 0:00:01     |█████████████████████▊          | 788kB 17.5MB/s eta 0:00:01\n",
      "\u001b[?25hRequirement already satisfied: six in /opt/tljh/user/lib/python3.6/site-packages (from traitlets>=4.2->ipython>=5.0->bookstore) (1.12.0)\n",
      "Requirement already satisfied: parso>=0.5.0 in /opt/tljh/user/lib/python3.6/site-packages (from jedi>=0.10->ipython>=5.0->bookstore) (0.5.1)\n",
      "Requirement already satisfied: wcwidth in /opt/tljh/user/lib/python3.6/site-packages (from prompt-toolkit<2.1.0,>=2.0.0->ipython>=5.0->bookstore) (0.1.7)\n",
      "Requirement already satisfied: ptyprocess>=0.5 in /opt/tljh/user/lib/python3.6/site-packages (from pexpect; sys_platform != \"win32\"->ipython>=5.0->bookstore) (0.6.0)\n",
      "Requirement already satisfied: mistune<2,>=0.8.1 in /opt/tljh/user/lib/python3.6/site-packages (from nbconvert->notebook->bookstore) (0.8.4)\n",
      "Requirement already satisfied: entrypoints>=0.2.2 in /opt/tljh/user/lib/python3.6/site-packages (from nbconvert->notebook->bookstore) (0.3)\n",
      "Requirement already satisfied: testpath in /opt/tljh/user/lib/python3.6/site-packages (from nbconvert->notebook->bookstore) (0.4.2)\n",
      "Requirement already satisfied: defusedxml in /opt/tljh/user/lib/python3.6/site-packages (from nbconvert->notebook->bookstore) (0.6.0)\n",
      "Requirement already satisfied: bleach in /opt/tljh/user/lib/python3.6/site-packages (from nbconvert->notebook->bookstore) (3.1.0)\n",
      "Requirement already satisfied: pandocfilters>=1.4.1 in /opt/tljh/user/lib/python3.6/site-packages (from nbconvert->notebook->bookstore) (1.4.2)\n",
      "Requirement already satisfied: python-dateutil>=2.1 in /opt/tljh/user/lib/python3.6/site-packages (from jupyter-client>=5.2.0->notebook->bookstore) (2.8.0)\n",
      "Requirement already satisfied: jsonschema!=2.5.0,>=2.4 in /opt/tljh/user/lib/python3.6/site-packages (from nbformat->notebook->bookstore) (3.0.2)\n",
      "Requirement already satisfied: MarkupSafe>=0.23 in /opt/tljh/user/lib/python3.6/site-packages (from jinja2->notebook->bookstore) (1.1.1)\n",
      "Requirement already satisfied: urllib3<1.26,>=1.20; python_version >= \"3.4\" in /opt/tljh/user/lib/python3.6/site-packages (from botocore<1.12.190,>=1.12.189->aiobotocore->bookstore) (1.25.3)\n",
      "Collecting jmespath<1.0.0,>=0.7.1 (from botocore<1.12.190,>=1.12.189->aiobotocore->bookstore)\n",
      "  Downloading https://files.pythonhosted.org/packages/83/94/7179c3832a6d45b266ddb2aac329e101367fbdb11f425f13771d27f225bb/jmespath-0.9.4-py2.py3-none-any.whl\n",
      "Requirement already satisfied: docutils>=0.10 in /opt/tljh/user/lib/python3.6/site-packages (from botocore<1.12.190,>=1.12.189->aiobotocore->bookstore) (0.15.2)\n",
      "Collecting idna-ssl>=1.0; python_version < \"3.7\" (from aiohttp>=3.3.1->aiobotocore->bookstore)\n",
      "  Downloading https://files.pythonhosted.org/packages/46/03/07c4894aae38b0de52b52586b24bf189bb83e4ddabfe2e2c8f2419eec6f4/idna-ssl-1.1.0.tar.gz\n",
      "Requirement already satisfied: chardet<4.0,>=2.0 in /opt/tljh/user/lib/python3.6/site-packages (from aiohttp>=3.3.1->aiobotocore->bookstore) (3.0.4)\n",
      "Collecting typing-extensions>=3.6.5; python_version < \"3.7\" (from aiohttp>=3.3.1->aiobotocore->bookstore)\n",
      "  Downloading https://files.pythonhosted.org/packages/27/aa/bd1442cfb0224da1b671ab334d3b0a4302e4161ea916e28904ff9618d471/typing_extensions-3.7.4-py3-none-any.whl\n",
      "Requirement already satisfied: attrs>=17.3.0 in /opt/tljh/user/lib/python3.6/site-packages (from aiohttp>=3.3.1->aiobotocore->bookstore) (19.1.0)\n",
      "Collecting multidict<5.0,>=4.5 (from aiohttp>=3.3.1->aiobotocore->bookstore)\n",
      "\u001b[?25l  Downloading https://files.pythonhosted.org/packages/71/cc/ceb5b8c76e7a23212b9e0353053cc35a9d86c763d852a76d9b941fe81fbc/multidict-4.5.2-cp36-cp36m-manylinux1_x86_64.whl (309kB)\n",
      "\u001b[K     |████████████████████████████████| 317kB 20.1MB/s eta 0:00:01\n",
      "\u001b[?25hCollecting yarl<2.0,>=1.0 (from aiohttp>=3.3.1->aiobotocore->bookstore)\n",
      "\u001b[?25l  Downloading https://files.pythonhosted.org/packages/fa/c0/9a73968a9f4e4dac8dffb0ba35f932dd7798fe97901f4942c2d38667862c/yarl-1.3.0-cp36-cp36m-manylinux1_x86_64.whl (251kB)\n",
      "\u001b[K     |████████████████████████████████| 256kB 23.6MB/s eta 0:00:01\n",
      "\u001b[?25hCollecting async-timeout<4.0,>=3.0 (from aiohttp>=3.3.1->aiobotocore->bookstore)\n",
      "  Downloading https://files.pythonhosted.org/packages/e1/1e/5a4441be21b0726c4464f3f23c8b19628372f606755a9d2e46c187e65ec4/async_timeout-3.0.1-py3-none-any.whl\n",
      "Requirement already satisfied: webencodings in /opt/tljh/user/lib/python3.6/site-packages (from bleach->nbconvert->notebook->bookstore) (0.5.1)\n",
      "Requirement already satisfied: pyrsistent>=0.14.0 in /opt/tljh/user/lib/python3.6/site-packages (from jsonschema!=2.5.0,>=2.4->nbformat->notebook->bookstore) (0.15.4)\n",
      "Requirement already satisfied: idna>=2.0 in /opt/tljh/user/lib/python3.6/site-packages (from idna-ssl>=1.0; python_version < \"3.7\"->aiohttp>=3.3.1->aiobotocore->bookstore) (2.8)\n",
      "Building wheels for collected packages: wrapt, idna-ssl\n",
      "  Building wheel for wrapt (setup.py) ... \u001b[?25ldone\n",
      "\u001b[?25h  Created wheel for wrapt: filename=wrapt-1.11.2-cp36-cp36m-linux_x86_64.whl size=69740 sha256=6d4ed21840a0cfb784f83652c3d3603b355ff815eae08986fe691fdcc922d9e8\n",
      "  Stored in directory: /home/jupyter-sheng_wei/.cache/pip/wheels/d7/de/2e/efa132238792efb6459a96e85916ef8597fcb3d2ae51590dfd\n",
      "  Building wheel for idna-ssl (setup.py) ... \u001b[?25ldone\n",
      "\u001b[?25h  Created wheel for idna-ssl: filename=idna_ssl-1.1.0-cp36-none-any.whl size=3163 sha256=5f5ff03bff0a1374e6187070718e0a0d76c576fd7b399c17fdce745e34e9fb36\n",
      "  Stored in directory: /home/jupyter-sheng_wei/.cache/pip/wheels/d3/00/b3/32d613e19e08a739751dd6bf998cfed277728f8b2127ad4eb7\n",
      "Successfully built wrapt idna-ssl\n",
      "Installing collected packages: wrapt, jmespath, botocore, idna-ssl, typing-extensions, multidict, yarl, async-timeout, aiohttp, aiobotocore, aioboto3, bookstore\n",
      "Successfully installed aioboto3-6.4.1 aiobotocore-0.10.3 aiohttp-3.6.2 async-timeout-3.0.1 bookstore-2.4.1 botocore-1.12.189 idna-ssl-1.1.0 jmespath-0.9.4 multidict-4.5.2 typing-extensions-3.7.4 wrapt-1.11.2 yarl-1.3.0\n"
     ]
    }
   ],
   "source": [
    "!sudo -E pip install bookstore"
   ]
  },
  {
   "cell_type": "code",
   "execution_count": null,
   "metadata": {},
   "outputs": [
    {
     "name": "stdout",
     "output_type": "stream",
     "text": [
      "Enable a serverextension in configuration.\n",
      "\n",
      "Usage\n",
      "    jupyter serverextension enable [--system|--sys-prefix]\n",
      "\n",
      "Options\n",
      "-------\n",
      "\n",
      "Arguments that take values are actually convenience aliases to full\n",
      "Configurables, whose aliases are listed on the help line. For more information\n",
      "on full configurables, see '--help-all'.\n",
      "\n",
      "--debug\n",
      "    set log level to logging.DEBUG (maximize logging output)\n",
      "--user\n",
      "    Perform the operation for the current user\n",
      "--system\n",
      "    Perform the operation system-wide\n",
      "--sys-prefix\n",
      "    Use sys.prefix as the prefix for installing server extensions\n",
      "--py\n",
      "    Install from a Python package\n",
      "--python\n",
      "    Install from a Python package\n",
      "--log-level=<Enum> (Application.log_level)\n",
      "    Default: 30\n",
      "    Choices: (0, 10, 20, 30, 40, 50, 'DEBUG', 'INFO', 'WARN', 'ERROR', 'CRITICAL')\n",
      "    Set the log level by value or name.\n",
      "--config=<Unicode> (JupyterApp.config_file)\n",
      "    Default: ''\n",
      "    Full path of a config file.\n",
      "\n",
      "To see all available configurables, use `--help-all`\n",
      "\n"
     ]
    }
   ],
   "source": [
    "!jupyter serverextension enable --help"
   ]
  },
  {
   "cell_type": "code",
   "execution_count": null,
   "metadata": {},
   "outputs": [
    {
     "data": {
      "text/plain": [
       "'/opt/tljh/user'"
      ]
     },
     "execution_count": null,
     "metadata": {},
     "output_type": "execute_result"
    }
   ],
   "source": [
    "import sys\n",
    "sys.prefix"
   ]
  },
  {
   "cell_type": "code",
   "execution_count": null,
   "metadata": {},
   "outputs": [
    {
     "name": "stdout",
     "output_type": "stream",
     "text": [
      "Enabling: bookstore\n",
      "- Writing config: /opt/tljh/user/etc/jupyter\n",
      "    - Validating...\n",
      "      bookstore 2.4.1 \u001b[32mOK\u001b[0m\n"
     ]
    }
   ],
   "source": [
    "!sudo -E jupyter serverextension enable --py bookstore --sys-prefix"
   ]
  },
  {
   "cell_type": "markdown",
   "metadata": {},
   "source": [
    "# Bucket Versioning"
   ]
  },
  {
   "cell_type": "markdown",
   "metadata": {},
   "source": [
    "* https://docs.aws.amazon.com/AmazonS3/latest/dev/Versioning.html\n",
    "* https://docs.aws.amazon.com/zh_cn/AmazonS3/latest/dev/Versioning.html"
   ]
  },
  {
   "cell_type": "markdown",
   "metadata": {},
   "source": [
    "* https://cloud.google.com/storage/docs/object-versioning\n",
    "* https://cloud.google.com/storage/docs/using-object-versioning"
   ]
  }
 ],
 "metadata": {
  "kernelspec": {
   "display_name": "Python 3",
   "language": "python",
   "name": "python3"
  }
 },
 "nbformat": 4,
 "nbformat_minor": 4
}
