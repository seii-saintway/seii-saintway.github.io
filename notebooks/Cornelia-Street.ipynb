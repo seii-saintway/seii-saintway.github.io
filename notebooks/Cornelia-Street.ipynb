{
 "cells": [
  {
   "cell_type": "markdown",
   "metadata": {},
   "source": [
    "# Taylor Swift - Cornelia Street"
   ]
  },
  {
   "cell_type": "code",
   "execution_count": null,
   "metadata": {},
   "outputs": [
    {
     "data": {
      "image/jpeg": "[encoded data removed]",
      "text/html": [
       "\n",
       "        <iframe\n",
       "            width=\"600\"\n",
       "            height=\"400\"\n",
       "            src=\"https://www.youtube.com/embed/I7CcVgw4_KE\"\n",
       "            frameborder=\"0\"\n",
       "            allowfullscreen\n",
       "        ></iframe>\n",
       "        "
      ],
      "text/plain": [
       "<IPython.lib.display.YouTubeVideo at 0x10cba64f0>"
      ]
     },
     "execution_count": null,
     "metadata": {},
     "output_type": "execute_result"
    }
   ],
   "source": [
    "from IPython.display import YouTubeVideo\n",
    "YouTubeVideo('I7CcVgw4_KE', width=600, height=400)"
   ]
  },
  {
   "cell_type": "markdown",
   "metadata": {},
   "source": [
    "```\n",
    "We were in the backseat\n",
    "drunk on something stronger\n",
    "than the drinks in the bar\n",
    "```"
   ]
  },
  {
   "cell_type": "markdown",
   "metadata": {},
   "source": [
    "```\n",
    "I rent a place on Cornelia Street,\n",
    "I say casually in the car\n",
    "```"
   ]
  },
  {
   "cell_type": "markdown",
   "metadata": {},
   "source": [
    "```\n",
    "We were a fresh page on the desk\n",
    "ﬁlling in the blanks as we go\n",
    "```"
   ]
  },
  {
   "cell_type": "markdown",
   "metadata": {},
   "source": [
    "```\n",
    "As if the streetlights pointed in an arrowhead\n",
    "leading us home\n",
    "```"
   ]
  },
  {
   "cell_type": "markdown",
   "metadata": {},
   "source": [
    "---"
   ]
  },
  {
   "cell_type": "markdown",
   "metadata": {},
   "source": [
    "```\n",
    "And I hope I never lose you\n",
    "Hope it never ends\n",
    "I’d never walk Cornelia Street again\n",
    "```"
   ]
  },
  {
   "cell_type": "markdown",
   "metadata": {},
   "source": [
    "```\n",
    "That’s the kind of heartbreak\n",
    "Time could never mend\n",
    "I’d never walk Cornelia Street again\n",
    "```"
   ]
  },
  {
   "cell_type": "markdown",
   "metadata": {},
   "source": [
    "```\n",
    "And baby I get mystiﬁed by how\n",
    "this city screams your name\n",
    "```"
   ]
  },
  {
   "cell_type": "markdown",
   "metadata": {},
   "source": [
    "```\n",
    "And baby I’m so terriﬁed of if you ever walk away\n",
    "I’d never walk Cornelia Street again\n",
    "I’d never walk Cornelia Street again\n",
    "```"
   ]
  },
  {
   "cell_type": "markdown",
   "metadata": {},
   "source": [
    "---"
   ]
  },
  {
   "cell_type": "markdown",
   "metadata": {},
   "source": [
    "```\n",
    "Windows ﬂung right open\n",
    "Autumn air, jacket round my shoulders is yours\n",
    "```"
   ]
  },
  {
   "cell_type": "markdown",
   "metadata": {},
   "source": [
    "```\n",
    "We bless the rains on Cornelia Street\n",
    "Memorize the creaks in the ﬂoor\n",
    "```"
   ]
  },
  {
   "cell_type": "markdown",
   "metadata": {},
   "source": [
    "```\n",
    "Back when we were card sharks\n",
    "Playing games\n",
    "I thought you were leading me on\n",
    "```"
   ]
  },
  {
   "cell_type": "markdown",
   "metadata": {},
   "source": [
    "```\n",
    "I packed my bags, left Cornelia Street\n",
    "Before you even knew I was gone\n",
    "```"
   ]
  },
  {
   "cell_type": "markdown",
   "metadata": {},
   "source": [
    "```\n",
    "But then you called\n",
    "Showed your hand\n",
    "I turned around before I hit the tunnel\n",
    "Sat on the roof, you and I\n",
    "```"
   ]
  },
  {
   "cell_type": "markdown",
   "metadata": {},
   "source": [
    "---"
   ]
  },
  {
   "cell_type": "markdown",
   "metadata": {},
   "source": [
    "```\n",
    "You hold my hand\n",
    "On the street\n",
    "Walk me back to that apartment\n",
    "Years ago we were just inside\n",
    "```"
   ]
  },
  {
   "cell_type": "markdown",
   "metadata": {},
   "source": [
    "```\n",
    "Barefoot in the kitchen\n",
    "Sacred new beginnings\n",
    "That became my religion\n",
    "Listen...\n",
    "```"
   ]
  },
  {
   "cell_type": "markdown",
   "metadata": {},
   "source": [
    "```\n",
    "I hope I never lose you \n",
    "I’d never walk Cornelia Street again \n",
    "```"
   ]
  },
  {
   "cell_type": "markdown",
   "metadata": {},
   "source": [
    "```\n",
    "Never again\n",
    "```"
   ]
  },
  {
   "cell_type": "markdown",
   "metadata": {},
   "source": [
    "```\n",
    "And baby I get mystiﬁed by how\n",
    "this city screams your name\n",
    "```"
   ]
  },
  {
   "cell_type": "markdown",
   "metadata": {},
   "source": [
    "```\n",
    "And baby I’m so terriﬁed of if you ever walk away\n",
    "I’d never walk Cornelia Street again\n",
    "I’d never walk Cornelia Street again\n",
    "I’d never walk Cornelia Street again\n",
    "```"
   ]
  },
  {
   "cell_type": "markdown",
   "metadata": {},
   "source": [
    "```\n",
    "I rent a place on Cornelia Street,\n",
    "I say casually in the car\n",
    "```"
   ]
  }
 ],
 "metadata": {
  "kernelspec": {
   "display_name": "Python 3",
   "language": "python",
   "name": "python3"
  }
 },
 "nbformat": 4,
 "nbformat_minor": 4
}
