{
 "cells": [
  {
   "cell_type": "markdown",
   "metadata": {},
   "source": [
    "``` python\n",
    "from IPython.display import YouTubeVideo\n",
    "YouTubeVideo('I7CcVgw4_KE', style='width: 90%; aspect-ratio: 16/9;')\n",
    "```"
   ]
  },
  {
   "cell_type": "code",
   "execution_count": null,
   "metadata": {},
   "outputs": [
    {
     "data": {
      "text/html": [
       "<iframe style=\"width: 90%; aspect-ratio: 16/9;\" src=\"https://www.youtube.com/embed/I7CcVgw4_KE\" scrolling=\"no\" border=\"0\" frameborder=\"no\" framespacing=\"0\" allowfullscreen=\"true\" allow=\"accelerometer; autoplay; clipboard-write; encrypted-media; gyroscope; picture-in-picture\"></iframe>\n"
      ],
      "text/plain": [
       "<IPython.core.display.HTML object>"
      ]
     },
     "metadata": {},
     "output_type": "display_data"
    }
   ],
   "source": [
    "%%html\n",
    "<iframe style=\"width: 90%; aspect-ratio: 16/9;\" src=\"https://www.youtube.com/embed/I7CcVgw4_KE\" scrolling=\"no\" border=\"0\" frameborder=\"no\" framespacing=\"0\" allowfullscreen=\"true\" allow=\"accelerometer; autoplay; clipboard-write; encrypted-media; gyroscope; picture-in-picture\"></iframe>"
   ]
  },
  {
   "cell_type": "markdown",
   "metadata": {},
   "source": [
    "## Taylor Swift - Cornelia Street"
   ]
  },
  {
   "cell_type": "markdown",
   "metadata": {},
   "source": [
    "```\n",
    "We were in the backseat\n",
    "drunk on something stronger\n",
    "than the drinks in the bar\n",
    "```"
   ]
  },
  {
   "cell_type": "markdown",
   "metadata": {},
   "source": [
    "```\n",
    "I rent a place on Cornelia Street,\n",
    "I say casually in the car\n",
    "```"
   ]
  },
  {
   "cell_type": "markdown",
   "metadata": {},
   "source": [
    "```\n",
    "We were a fresh page on the desk\n",
    "ﬁlling in the blanks as we go\n",
    "```"
   ]
  },
  {
   "cell_type": "markdown",
   "metadata": {},
   "source": [
    "```\n",
    "As if the streetlights pointed in an arrowhead\n",
    "leading us home\n",
    "```"
   ]
  },
  {
   "cell_type": "markdown",
   "metadata": {},
   "source": [
    "---"
   ]
  },
  {
   "cell_type": "markdown",
   "metadata": {},
   "source": [
    "```\n",
    "And I hope I never lose you\n",
    "Hope it never ends\n",
    "I’d never walk Cornelia Street again\n",
    "```"
   ]
  },
  {
   "cell_type": "markdown",
   "metadata": {},
   "source": [
    "```\n",
    "That’s the kind of heartbreak\n",
    "Time could never mend\n",
    "I’d never walk Cornelia Street again\n",
    "```"
   ]
  },
  {
   "cell_type": "markdown",
   "metadata": {},
   "source": [
    "```\n",
    "And baby I get mystiﬁed by how\n",
    "this city screams your name\n",
    "```"
   ]
  },
  {
   "cell_type": "markdown",
   "metadata": {},
   "source": [
    "```\n",
    "And baby I’m so terriﬁed of if you ever walk away\n",
    "I’d never walk Cornelia Street again\n",
    "I’d never walk Cornelia Street again\n",
    "```"
   ]
  },
  {
   "cell_type": "markdown",
   "metadata": {},
   "source": [
    "---"
   ]
  },
  {
   "cell_type": "markdown",
   "metadata": {},
   "source": [
    "```\n",
    "Windows ﬂung right open\n",
    "Autumn air, jacket round my shoulders is yours\n",
    "```"
   ]
  },
  {
   "cell_type": "markdown",
   "metadata": {},
   "source": [
    "```\n",
    "We bless the rains on Cornelia Street\n",
    "Memorize the creaks in the ﬂoor\n",
    "```"
   ]
  },
  {
   "cell_type": "markdown",
   "metadata": {},
   "source": [
    "```\n",
    "Back when we were card sharks\n",
    "Playing games\n",
    "I thought you were leading me on\n",
    "```"
   ]
  },
  {
   "cell_type": "markdown",
   "metadata": {},
   "source": [
    "```\n",
    "I packed my bags, left Cornelia Street\n",
    "Before you even knew I was gone\n",
    "```"
   ]
  },
  {
   "cell_type": "markdown",
   "metadata": {},
   "source": [
    "```\n",
    "But then you called\n",
    "Showed your hand\n",
    "I turned around before I hit the tunnel\n",
    "Sat on the roof, you and I\n",
    "```"
   ]
  },
  {
   "cell_type": "markdown",
   "metadata": {},
   "source": [
    "---"
   ]
  },
  {
   "cell_type": "markdown",
   "metadata": {},
   "source": [
    "```\n",
    "You hold my hand\n",
    "On the street\n",
    "Walk me back to that apartment\n",
    "Years ago we were just inside\n",
    "```"
   ]
  },
  {
   "cell_type": "markdown",
   "metadata": {},
   "source": [
    "```\n",
    "Barefoot in the kitchen\n",
    "Sacred new beginnings\n",
    "That became my religion\n",
    "Listen...\n",
    "```"
   ]
  },
  {
   "cell_type": "markdown",
   "metadata": {},
   "source": [
    "```\n",
    "I hope I never lose you \n",
    "I’d never walk Cornelia Street again \n",
    "```"
   ]
  },
  {
   "cell_type": "markdown",
   "metadata": {},
   "source": [
    "```\n",
    "Never again\n",
    "```"
   ]
  },
  {
   "cell_type": "markdown",
   "metadata": {},
   "source": [
    "```\n",
    "And baby I get mystiﬁed by how\n",
    "this city screams your name\n",
    "```"
   ]
  },
  {
   "cell_type": "markdown",
   "metadata": {},
   "source": [
    "```\n",
    "And baby I’m so terriﬁed of if you ever walk away\n",
    "I’d never walk Cornelia Street again\n",
    "I’d never walk Cornelia Street again\n",
    "I’d never walk Cornelia Street again\n",
    "```"
   ]
  },
  {
   "cell_type": "markdown",
   "metadata": {},
   "source": [
    "```\n",
    "I rent a place on Cornelia Street,\n",
    "I say casually in the car\n",
    "```"
   ]
  }
 ],
 "metadata": {
  "kernelspec": {
   "display_name": "Python 3",
   "language": "python",
   "name": "python3"
  }
 },
 "nbformat": 4,
 "nbformat_minor": 4
}
