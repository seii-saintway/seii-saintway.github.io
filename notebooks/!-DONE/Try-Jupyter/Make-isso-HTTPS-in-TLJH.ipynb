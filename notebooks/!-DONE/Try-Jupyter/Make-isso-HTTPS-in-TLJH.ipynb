{
 "cells": [
  {
   "cell_type": "markdown",
   "metadata": {},
   "source": [
    "## Make Isso HTTPS in TLJH"
   ]
  },
  {
   "cell_type": "code",
   "execution_count": null,
   "metadata": {},
   "outputs": [],
   "source": [
    "%%bash\n",
    "/opt/tljh/hub/bin/traefik version"
   ]
  },
  {
   "cell_type": "markdown",
   "metadata": {},
   "source": [
    "* https://github.com/jupyterhub/the-littlest-jupyterhub/blob/master/tljh/jupyterhub_config.py\n",
    "* https://github.com/jupyterhub/traefik-proxy/blob/master/jupyterhub_traefik_proxy/toml.py\n",
    "* https://jupyterhub-traefik-proxy.readthedocs.io/en/latest/toml.html#traefik-configuration\n",
    "* https://docs.traefik.io/v1.7/basics/\n",
    "* https://posativ.org/isso/docs/setup/sub-uri/"
   ]
  },
  {
   "cell_type": "markdown",
   "metadata": {},
   "source": [
    "for traefik v1.7"
   ]
  },
  {
   "cell_type": "code",
   "execution_count": null,
   "metadata": {},
   "outputs": [],
   "source": [
    "%%bash\n",
    "cat << EOF | sudo tee -a /opt/tljh/state/rules.toml > /dev/null\n",
    "\n",
    "[frontends.isso]\n",
    "backend = \"isso\"\n",
    "passHostHeader = true\n",
    "\n",
    "[frontends.isso.routes.f1]\n",
    "rule = \"PathPrefixStrip:/isso/\"\n",
    "\n",
    "[backends.isso.servers.s1]\n",
    "url = \"http://127.0.0.1:8000\"\n",
    "weight = 1\n",
    "EOF"
   ]
  },
  {
   "cell_type": "code",
   "execution_count": null,
   "metadata": {},
   "outputs": [],
   "source": [
    "%env http=http:\\/\\/jhub.name:8000\\/\n",
    "%env https=https:\\/\\/jhub.name\\/isso\\/\n",
    "!sed -i -e \"s/$http/$https/g\" ~/hexo/themes/freemind/layout/_partial/post/comment.ejs"
   ]
  },
  {
   "cell_type": "markdown",
   "metadata": {},
   "source": [
    "for traefik v2.10 [StripPrefix](https://doc.traefik.io/traefik/v2.10/middlewares/http/stripprefix/)"
   ]
  },
  {
   "cell_type": "code",
   "execution_count": 1,
   "metadata": {
    "tags": []
   },
   "outputs": [],
   "source": [
    "%%bash\n",
    "cat << EOF | sudo tee /opt/tljh/state/rules/isso.toml > /dev/null\n",
    "[http.routers.isso]\n",
    "service = \"isso\"\n",
    "rule = \"PathPrefix(\\`/isso/\\`)\"\n",
    "entryPoints = [ \"https\",]\n",
    "middlewares = [\"isso\"]\n",
    "\n",
    "[http.middlewares]\n",
    "  [http.middlewares.isso.stripPrefix]\n",
    "    prefixes = [\"/isso\"]\n",
    "\n",
    "[http.services.isso.loadBalancer]\n",
    "passHostHeader = true\n",
    "[[http.services.isso.loadBalancer.servers]]\n",
    "url = \"http://127.0.0.1:8000\"\n",
    "EOF"
   ]
  },
  {
   "cell_type": "markdown",
   "metadata": {},
   "source": [
    "## Commit Modifications\n",
    "https://github.com/seii-saintway/hexo-theme-freemind/commit/9568c3160d3c917a8a986beedafb7836e02c2bce"
   ]
  },
  {
   "cell_type": "markdown",
   "metadata": {},
   "source": [
    "### Change file-watch to directory in TLJH Traefik\n",
    "https://github.com/seii-saintway/the-littlest-jupyterhub/commit/e95d85e99187f9d65b748016807b28c256e77e39"
   ]
  },
  {
   "cell_type": "code",
   "execution_count": null,
   "metadata": {},
   "outputs": [],
   "source": [
    "%%bash\n",
    "cat << EOF | sudo tee /opt/tljh/state/dynamic/isso.toml > /dev/null\n",
    "[frontends.isso]\n",
    "backend = \"isso\"\n",
    "passHostHeader = true\n",
    "\n",
    "[frontends.isso.routes.f1]\n",
    "rule = \"PathPrefixStrip:/isso/\"\n",
    "\n",
    "[backends.isso.servers.s1]\n",
    "url = \"http://127.0.0.1:8000\"\n",
    "weight = 1\n",
    "EOF"
   ]
  },
  {
   "cell_type": "code",
   "execution_count": null,
   "metadata": {},
   "outputs": [
    {
     "name": "stdout",
     "output_type": "stream",
     "text": [
      "Granting passwordless sudo to JupyterHub admins...\n",
      "Setting up user environment...\n",
      "\n",
      "\n",
      "==> WARNING: A newer version of conda exists. <==\n",
      "  current version: 4.5.8\n",
      "  latest version: 4.7.12\n",
      "\n",
      "Please update conda by running\n",
      "\n",
      "    $ conda update -n base conda\n",
      "\n",
      "\n",
      "Setting up JupyterHub...\n"
     ]
    }
   ],
   "source": [
    "!sudo /opt/tljh/hub/bin/python -m tljh.installer"
   ]
  },
  {
   "cell_type": "code",
   "execution_count": null,
   "metadata": {},
   "outputs": [
    {
     "name": "stdout",
     "output_type": "stream",
     "text": [
      "2019-10-13 15:21:02,889 Granting passwordless sudo to JupyterHub admins...\n",
      "2019-10-13 15:21:02,890 Setting up user environment...\n",
      "2019-10-13 15:21:26,052 Setting up JupyterHub...\n"
     ]
    }
   ],
   "source": [
    "!sudo cat /opt/tljh/installer.log"
   ]
  },
  {
   "cell_type": "code",
   "execution_count": null,
   "metadata": {},
   "outputs": [],
   "source": [
    "!cd ~ && make restart-isso"
   ]
  },
  {
   "cell_type": "markdown",
   "metadata": {},
   "source": [
    "## Isso SQLite"
   ]
  },
  {
   "cell_type": "code",
   "execution_count": null,
   "metadata": {},
   "outputs": [],
   "source": [
    "%%bash\n",
    "cat << EOF | sudo tee /etc/isso.conf > /dev/null\n",
    "\n",
    "[general]\n",
    "\n",
    "dbpath = /var/lib/isso/comments.db\n",
    "\n",
    "host =\n",
    "    http://seii-saintway.github.io\n",
    "    https://seii-saintway.github.io\n",
    "    http://digitypography.xyz\n",
    "    https://digitypography.xyz\n",
    "\n",
    "EOF"
   ]
  },
  {
   "cell_type": "markdown",
   "metadata": {},
   "source": [
    "### Open SQLite database\n",
    "``` bash\n",
    "sqlite3 /var/lib/isso/comments.db\n",
    "```"
   ]
  },
  {
   "cell_type": "code",
   "execution_count": null,
   "metadata": {},
   "outputs": [],
   "source": [
    "import sqlite3\n",
    "conn = sqlite3.connect('/var/lib/isso/comments.db')"
   ]
  },
  {
   "cell_type": "code",
   "execution_count": null,
   "metadata": {},
   "outputs": [
    {
     "data": {
      "text/plain": [
       "[('110.3.247.0', '# Privacy Policy'),\n",
       " ('113.38.215.0', '# Continuous Purification'),\n",
       " ('110.3.247.0',\n",
       "  '### 3.11.4 隐秘通道\\n\\n隐秘通道（covert channel）的意思是说使用难以预料或不会引起注意的方式来发送信息。假设有一天系统管理员Sally觉得自己的那些用户花太多时间来玩了，因此她决定关闭email和即时消息，这样他们就不能聊天了。要解决这个问题，你和你的朋友都同意使用主目录中的一个你们都可以读取的文件来交流信息，你每隔一会儿就得检查一下该文件来查看新消息。这种超出乎预料的通信方式就是一个隐秘通道。\\n\\n隐秘通道很难取消。如果系统管理员Sally发现了你们这种基于文件的通信技术，她可以修改目录的权限，使得只有目录的属主才具有读取和搜索的权限，并限定目录属主也不能修改这种权限。在这样做的同时，她还可以确认你不能在其他地方（例如，/tmp）创建文件。（你的大部分程序都不能运行了，但是不要因此而责怪Sally。）即使是这样，你和你的朋友仍然可以相互显示其他用户士目录中的内容，这可以显示目录的修改日期和文件个数，这样你就可以根据这些可见的参数设计一种密码，并通过修改这些参数而进行通信。这是一种更复杂的隐秘通道，如果Sally对你们进行了更严格的限制，你们可以想出更古怪的法子来。\\n\\nSSH不能防止隐秘通道。对隐秘通道的分析和控制通常都是安全性很高的计算机系统的一部分，例如设计用来在同一个系统中的不同安全层次上安全地处理信息的系统。顺便说一下，SSH数据流本身就可以很好地用作一种隐秘通道：SSH会话的内容可能是一个巧克力馅饼的配方，而隐含的内容则可能是用Morse码表示这两个公司即将合并，只需要使用报文长度是奇数还是偶数来分别表示Morse码的短横线和点号即可。'),\n",
       " ('126.158.192.0', 'Try to build with Cosmos SDK'),\n",
       " ('126.158.192.0', 'Try to build with Cosmos SDK')]"
      ]
     },
     "execution_count": null,
     "metadata": {},
     "output_type": "execute_result"
    }
   ],
   "source": [
    "[(row[6], row[7]) for row in conn.cursor().execute('SELECT * from comments')]"
   ]
  },
  {
   "cell_type": "code",
   "execution_count": null,
   "metadata": {},
   "outputs": [],
   "source": [
    "[row for row in conn.cursor().execute('SELECT * from preferences')]"
   ]
  },
  {
   "cell_type": "code",
   "execution_count": null,
   "metadata": {},
   "outputs": [
    {
     "data": {
      "text/plain": [
       "[(1, '/2019/07/17/%E5%BF%83%E6%83%85%E7%B3%9F%E9%80%8F%E4%BA%86/', None),\n",
       " (2, '/2022/02/25/Declaration-of-the-Independence-of-Cyberspace/', None),\n",
       " (3, '/2022/02/28/An-Independent-Stablecoin-of-Cyberspace/', None)]"
      ]
     },
     "execution_count": null,
     "metadata": {},
     "output_type": "execute_result"
    }
   ],
   "source": [
    "[row for row in conn.cursor().execute('SELECT * from threads')]"
   ]
  },
  {
   "cell_type": "code",
   "execution_count": null,
   "metadata": {},
   "outputs": [],
   "source": [
    "conn.close()"
   ]
  }
 ],
 "metadata": {
  "kernelspec": {
   "display_name": "Python 3 (ipykernel)",
   "language": "python",
   "name": "python3"
  },
  "language_info": {
   "codemirror_mode": {
    "name": "ipython",
    "version": 3
   },
   "file_extension": ".py",
   "mimetype": "text/x-python",
   "name": "python",
   "nbconvert_exporter": "python",
   "pygments_lexer": "ipython3",
   "version": "3.9.7"
  }
 },
 "nbformat": 4,
 "nbformat_minor": 4
}
