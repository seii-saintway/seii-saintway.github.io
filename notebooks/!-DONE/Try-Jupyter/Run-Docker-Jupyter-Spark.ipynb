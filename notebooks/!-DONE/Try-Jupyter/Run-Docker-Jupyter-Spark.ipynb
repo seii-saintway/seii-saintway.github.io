{
 "cells": [
  {
   "cell_type": "markdown",
   "metadata": {},
   "source": [
    "## Run jupyter/all-spark-notebook:latest"
   ]
  },
  {
   "cell_type": "code",
   "execution_count": null,
   "metadata": {},
   "outputs": [],
   "source": [
    "docker run --name jupyter --hostname $hostname -p 8888:8888 -e http_proxy=$http_proxy -e https_proxy=$https_proxy -e JUPYTER_ENABLE_LAB=yes \\\n",
    "-v /workspace/jhub:/home/jovyan/jhub jupyter/all-spark-notebook:latest"
   ]
  },
  {
   "cell_type": "code",
   "execution_count": null,
   "metadata": {},
   "outputs": [],
   "source": [
    "docker run --name jupyter --hostname $hostname -p 8888:8888 -e http_proxy=$http_proxy -e https_proxy=$https_proxy -e JUPYTER_ENABLE_LAB=yes -e GRANT_SUDO=yes \\\n",
    "-v /workspace/jhub:/home/jovyan/jhub jupyter/all-spark-notebook:latest"
   ]
  },
  {
   "cell_type": "code",
   "execution_count": null,
   "metadata": {},
   "outputs": [],
   "source": [
    "docker start jupyter"
   ]
  },
  {
   "cell_type": "code",
   "execution_count": null,
   "metadata": {},
   "outputs": [],
   "source": [
    "docker stop jupyter"
   ]
  },
  {
   "cell_type": "code",
   "execution_count": null,
   "metadata": {},
   "outputs": [],
   "source": [
    "docker restart jupyter"
   ]
  },
  {
   "cell_type": "code",
   "execution_count": null,
   "metadata": {},
   "outputs": [],
   "source": [
    "docker exec -it -u root jupyter bash"
   ]
  },
  {
   "cell_type": "markdown",
   "metadata": {},
   "source": [
    "### [Installing Cloud SDK](https://cloud.google.com/sdk/docs/install#linux)"
   ]
  },
  {
   "cell_type": "code",
   "execution_count": null,
   "metadata": {},
   "outputs": [],
   "source": [
    "curl -O https://dl.google.com/dl/cloudsdk/channels/rapid/downloads/google-cloud-sdk-365.0.1-linux-x86_64.tar.gz\n",
    "tar xzf google-cloud-sdk-365.0.1-linux-x86_64.tar.gz\n",
    "./google-cloud-sdk/install.sh\n",
    "chown -R jovyan:users google-cloud-sdk-365.0.1-linux-x86_64.tar.gz google-cloud-sdk/ .config/\n",
    "exit"
   ]
  },
  {
   "cell_type": "code",
   "execution_count": null,
   "metadata": {},
   "outputs": [],
   "source": [
    "gcloud init\n",
    "gcloud auth application-default login"
   ]
  }
 ],
 "metadata": {
  "kernelspec": {
   "display_name": "Bash",
   "language": "bash",
   "name": "bash"
  }
 },
 "nbformat": 4,
 "nbformat_minor": 4
}
