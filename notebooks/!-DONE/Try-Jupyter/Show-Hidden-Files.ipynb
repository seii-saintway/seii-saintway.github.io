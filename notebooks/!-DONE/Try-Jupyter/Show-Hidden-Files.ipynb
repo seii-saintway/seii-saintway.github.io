{
 "cells": [
  {
   "cell_type": "code",
   "execution_count": null,
   "id": "64becc8c-3f88-498a-b1e1-806580bd8189",
   "metadata": {},
   "outputs": [],
   "source": [
    "jupyter server --generate-config"
   ]
  },
  {
   "cell_type": "code",
   "execution_count": null,
   "id": "5ef298bb-0442-4e8e-8c6f-b0f048c9c7a8",
   "metadata": {},
   "outputs": [],
   "source": [
    "cat << EOF > ~/.jupyter/jupyter_server_config.py\n",
    "# Configuration file for jupyter-server.\n",
    "\n",
    "c = get_config()\n",
    "\n",
    "## Allow access to hidden files\n",
    "#  Default: False\n",
    "c.ContentsManager.allow_hidden = True\n",
    "EOF"
   ]
  }
 ],
 "metadata": {
  "kernelspec": {
   "display_name": "Bash",
   "language": "bash",
   "name": "bash"
  }
 },
 "nbformat": 4,
 "nbformat_minor": 5
}
