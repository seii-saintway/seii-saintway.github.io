{
 "cells": [
  {
   "cell_type": "code",
   "execution_count": null,
   "metadata": {},
   "outputs": [],
   "source": [
    "%%bash\n",
    "git clone git://github.com/robbyrussell/oh-my-zsh.git ~/.oh-my-zsh"
   ]
  },
  {
   "cell_type": "code",
   "execution_count": null,
   "metadata": {},
   "outputs": [],
   "source": [
    "%%bash\n",
    "brew install autojump"
   ]
  },
  {
   "cell_type": "code",
   "execution_count": null,
   "metadata": {},
   "outputs": [],
   "source": [
    "%%bash\n",
    "ZSH_CUSTOM=~/.oh-my-zsh/custom git clone git://github.com/zsh-users/zsh-autosuggestions $ZSH_CUSTOM/plugins/zsh-autosuggestions"
   ]
  },
  {
   "cell_type": "code",
   "execution_count": null,
   "metadata": {},
   "outputs": [],
   "source": [
    "%%bash\n",
    "ZSH_CUSTOM=~/.oh-my-zsh/custom git clone git://github.com/zsh-users/zsh-syntax-highlighting $ZSH_CUSTOM/plugins/zsh-syntax-highlighting"
   ]
  },
  {
   "cell_type": "code",
   "execution_count": null,
   "metadata": {},
   "outputs": [
    {
     "name": "stdout",
     "output_type": "stream",
     "text": [
      "Overwriting /Users/saintway/.zshrc\n"
     ]
    }
   ],
   "source": [
    "%%writefile ~/.zshrc\n",
    "alias ll='ls -lah'\n",
    "alias python=/usr/local/bin/python3\n",
    "alias pip=/usr/local/bin/pip3\n",
    "alias jhub='cd ~/JHub && jupyter-lab'\n",
    "\n",
    "ZSH=~/.oh-my-zsh\n",
    "ZSH_THEME='ys'\n",
    "ZSH_CUSTOM=$ZSH/custom\n",
    "\n",
    "plugins=(\n",
    "  autojump\n",
    "  zsh-autosuggestions\n",
    "  zsh-syntax-highlighting\n",
    ")\n",
    "\n",
    "[[ -s $(brew --prefix)/etc/profile.d/autojump.sh ]] && . $(brew --prefix)/etc/profile.d/autojump.sh\n",
    "source $ZSH/oh-my-zsh.sh"
   ]
  }
 ],
 "metadata": {
  "kernelspec": {
   "display_name": "Python 3",
   "language": "python",
   "name": "python3"
  }
 },
 "nbformat": 4,
 "nbformat_minor": 4
}
