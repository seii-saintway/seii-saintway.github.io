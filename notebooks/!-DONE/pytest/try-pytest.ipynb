{
 "cells": [
  {
   "cell_type": "markdown",
   "metadata": {},
   "source": [
    "https://docs.pytest.org/en/stable/getting-started.html"
   ]
  },
  {
   "cell_type": "code",
   "execution_count": null,
   "metadata": {},
   "outputs": [],
   "source": [
    "pip install -U pytest"
   ]
  },
  {
   "cell_type": "code",
   "execution_count": null,
   "metadata": {},
   "outputs": [],
   "source": [
    "pytest --version"
   ]
  },
  {
   "cell_type": "code",
   "execution_count": null,
   "metadata": {},
   "outputs": [],
   "source": [
    "python -c '\n",
    "import logging\n",
    "print(logging.root.manager.loggerDict)\n",
    "'"
   ]
  },
  {
   "cell_type": "code",
   "execution_count": null,
   "metadata": {},
   "outputs": [],
   "source": [
    "python -c '\n",
    "import pytest\n",
    "print(pytest.__file__)\n",
    "'"
   ]
  },
  {
   "cell_type": "code",
   "execution_count": null,
   "metadata": {},
   "outputs": [],
   "source": [
    "cat /usr/local/lib/python3.9/site-packages/_pytest/logging.py"
   ]
  },
  {
   "cell_type": "code",
   "execution_count": null,
   "metadata": {},
   "outputs": [],
   "source": [
    "cat /usr/local/lib/python3.9/site-packages/_pytest/config/__init__.py"
   ]
  },
  {
   "cell_type": "code",
   "execution_count": null,
   "metadata": {},
   "outputs": [],
   "source": [
    "grep -r PluginManager /usr/local/lib/python3.9/site-packages/_pytest"
   ]
  },
  {
   "cell_type": "code",
   "execution_count": null,
   "metadata": {},
   "outputs": [],
   "source": [
    "grep -r HookspecMarker /usr/local/lib/python3.9/site-packages/_pytest"
   ]
  },
  {
   "cell_type": "code",
   "execution_count": null,
   "metadata": {},
   "outputs": [],
   "source": [
    "grep -r1 '@hookspec' /usr/local/lib/python3.9/site-packages/_pytest"
   ]
  },
  {
   "cell_type": "code",
   "execution_count": null,
   "metadata": {},
   "outputs": [],
   "source": [
    "grep -rw _pytest.runner /usr/local/lib/python3.9/site-packages/_pytest"
   ]
  },
  {
   "cell_type": "code",
   "execution_count": null,
   "metadata": {},
   "outputs": [],
   "source": [
    "grep -rw1 pytest_collect_file /usr/local/lib/python3.9/site-packages/_pytest/*.py"
   ]
  },
  {
   "cell_type": "code",
   "execution_count": null,
   "metadata": {},
   "outputs": [],
   "source": [
    "grep -rw1 pytest_runtest_protocol /usr/local/lib/python3.9/site-packages/_pytest/*.py"
   ]
  },
  {
   "cell_type": "code",
   "execution_count": null,
   "metadata": {},
   "outputs": [],
   "source": [
    "grep -rw1 pytest_runtest_makereport /usr/local/lib/python3.9/site-packages/_pytest"
   ]
  },
  {
   "cell_type": "code",
   "execution_count": null,
   "metadata": {},
   "outputs": [],
   "source": [
    "grep -rw1 pytest_runtest_setup /usr/local/lib/python3.9/site-packages/_pytest"
   ]
  },
  {
   "cell_type": "code",
   "execution_count": null,
   "metadata": {},
   "outputs": [],
   "source": [
    "grep -rw1 pytest_runtest_call /usr/local/lib/python3.9/site-packages/_pytest"
   ]
  },
  {
   "cell_type": "code",
   "execution_count": null,
   "metadata": {},
   "outputs": [],
   "source": [
    "grep -rw1 pytest_pyfunc_call /usr/local/lib/python3.9/site-packages/_pytest"
   ]
  },
  {
   "cell_type": "code",
   "execution_count": null,
   "metadata": {},
   "outputs": [],
   "source": [
    "grep -rw2 runtest /opt/tljh/user/lib/python3.6/site-packages/_pytest/python.py"
   ]
  },
  {
   "cell_type": "code",
   "execution_count": null,
   "metadata": {},
   "outputs": [],
   "source": [
    "grep -rw1 funcargs /opt/tljh/user/lib/python3.6/site-packages/_pytest"
   ]
  },
  {
   "cell_type": "code",
   "execution_count": null,
   "metadata": {},
   "outputs": [],
   "source": [
    "grep -rw1 _fillfixtures /opt/tljh/user/lib/python3.6/site-packages/_pytest/*.py"
   ]
  },
  {
   "cell_type": "code",
   "execution_count": null,
   "metadata": {},
   "outputs": [],
   "source": [
    "grep -rw1 _fillfixtures /opt/tljh/user/lib/python3.6/site-packages/_pytest/*.py"
   ]
  },
  {
   "cell_type": "code",
   "execution_count": null,
   "metadata": {},
   "outputs": [],
   "source": [
    "grep -rw1 pytest_cmdline_main /usr/local/lib/python3.9/site-packages/_pytest"
   ]
  },
  {
   "cell_type": "code",
   "execution_count": null,
   "metadata": {},
   "outputs": [],
   "source": [
    "grep -rw1 add_hookspecs /usr/local/lib/python3.9/site-packages/_pytest"
   ]
  },
  {
   "cell_type": "code",
   "execution_count": null,
   "metadata": {},
   "outputs": [],
   "source": [
    "grep -rw1 pytest_addhooks /usr/local/lib/python3.9/site-packages/_pytest"
   ]
  },
  {
   "cell_type": "code",
   "execution_count": null,
   "metadata": {},
   "outputs": [],
   "source": [
    "grep -rw1 pytest_plugin_registered /usr/local/lib/python3.9/site-packages/_pytest"
   ]
  },
  {
   "cell_type": "code",
   "execution_count": null,
   "metadata": {},
   "outputs": [],
   "source": [
    "grep -rw1 register /usr/local/lib/python3.9/site-packages/_pytest"
   ]
  },
  {
   "cell_type": "code",
   "execution_count": null,
   "metadata": {},
   "outputs": [],
   "source": [
    "grep -rw1 pytestmark /usr/local/lib/python3.9/site-packages/_pytest"
   ]
  },
  {
   "cell_type": "code",
   "execution_count": null,
   "metadata": {},
   "outputs": [],
   "source": [
    "grep -rw1 pytest_cmdline_parse /usr/local/lib/python3.9/site-packages/_pytest"
   ]
  }
 ],
 "metadata": {
  "kernelspec": {
   "display_name": "Bash",
   "language": "bash",
   "name": "bash"
  }
 },
 "nbformat": 4,
 "nbformat_minor": 4
}
