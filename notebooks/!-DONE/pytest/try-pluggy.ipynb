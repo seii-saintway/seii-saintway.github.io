{
 "cells": [
  {
   "cell_type": "code",
   "execution_count": null,
   "metadata": {},
   "outputs": [],
   "source": [
    "import pytest\n",
    "pytest.main(['-s'])"
   ]
  },
  {
   "cell_type": "code",
   "execution_count": null,
   "metadata": {},
   "outputs": [],
   "source": [
    "from _pytest.compat import final\n",
    "help(final)"
   ]
  },
  {
   "cell_type": "markdown",
   "metadata": {},
   "source": [
    "https://docs.pytest.org/en/reorganize-docs/plugins.html#builtin-plugins"
   ]
  },
  {
   "cell_type": "code",
   "execution_count": null,
   "metadata": {},
   "outputs": [],
   "source": [
    "from _pytest import config\n",
    "help(config.get_plugin_manager())"
   ]
  },
  {
   "cell_type": "code",
   "execution_count": null,
   "metadata": {},
   "outputs": [],
   "source": [
    "from _pytest import config\n",
    "config.get_plugin_manager().get_plugins()"
   ]
  },
  {
   "cell_type": "code",
   "execution_count": null,
   "metadata": {},
   "outputs": [],
   "source": [
    "from _pytest import config\n",
    "dict(config.get_plugin_manager().list_name_plugin())"
   ]
  },
  {
   "cell_type": "code",
   "execution_count": null,
   "metadata": {},
   "outputs": [],
   "source": [
    "from _pytest import config\n",
    "dir(config.get_plugin_manager().hook)"
   ]
  },
  {
   "cell_type": "markdown",
   "metadata": {},
   "source": [
    "https://pluggy.readthedocs.io/en/latest/"
   ]
  },
  {
   "cell_type": "code",
   "execution_count": null,
   "metadata": {},
   "outputs": [],
   "source": [
    "import pluggy\n",
    "pm = pluggy.PluginManager('pytest', implprefix='pytest_')\n",
    "\n",
    "import _pytest.hookspec\n",
    "pm.add_hookspecs(_pytest.hookspec)\n",
    "\n",
    "import _pytest.mark\n",
    "pm.register(_pytest.mark, 'mark')\n",
    "\n",
    "import _pytest.python\n",
    "pm.register(_pytest.python, 'python')\n",
    "\n",
    "import _pytest.main\n",
    "pm.register(_pytest.main, 'main')\n",
    "\n",
    "import _pytest.config\n",
    "pm.hook.pytest_cmdline_main(config=_pytest.config._prepareconfig(args=[]))"
   ]
  },
  {
   "cell_type": "code",
   "execution_count": null,
   "metadata": {},
   "outputs": [],
   "source": [
    "import pluggy\n",
    "pm = pluggy.PluginManager('pytest', implprefix='pytest_')\n",
    "\n",
    "import _pytest.hookspec\n",
    "pm.add_hookspecs(_pytest.hookspec)\n",
    "\n",
    "import _pytest.mark\n",
    "pm.register(_pytest.mark, 'mark')\n",
    "\n",
    "import _pytest.python\n",
    "pm.register(_pytest.python, 'python')\n",
    "\n",
    "import _pytest.main\n",
    "pm.register(_pytest.main, 'main')\n",
    "\n",
    "import _pytest.config\n",
    "cfg = _pytest.config.get_config()\n",
    "cfg.parse(args=[])\n",
    "pm.hook.pytest_cmdline_main(config=cfg)"
   ]
  },
  {
   "cell_type": "code",
   "execution_count": null,
   "metadata": {},
   "outputs": [],
   "source": [
    "import pluggy\n",
    "pm = pluggy.PluginManager('pytest', implprefix='pytest_')\n",
    "\n",
    "import _pytest.hookspec\n",
    "pm.add_hookspecs(_pytest.hookspec)\n",
    "\n",
    "import _pytest.main\n",
    "pm.register(_pytest.main, 'main')\n",
    "\n",
    "import _pytest.config\n",
    "cfg = _pytest.config.get_config()\n",
    "cfg.parse(args=[])\n",
    "pm.hook.pytest_cmdline_main(config=cfg)"
   ]
  },
  {
   "cell_type": "code",
   "execution_count": null,
   "metadata": {},
   "outputs": [],
   "source": [
    "import _pytest.config\n",
    "cfg = _pytest.config.get_config()\n",
    "cfg.parse(args=[])\n",
    "cfg.pluginmanager.hook.pytest_cmdline_main(config=cfg)"
   ]
  },
  {
   "cell_type": "code",
   "execution_count": null,
   "metadata": {},
   "outputs": [],
   "source": [
    "cfg.pluginmanager.unregister(name='session')\n",
    "cfg.pluginmanager.unregister(name='funcmanage')"
   ]
  },
  {
   "cell_type": "code",
   "execution_count": null,
   "metadata": {},
   "outputs": [],
   "source": [
    "import _pytest.config\n",
    "cfg = _pytest.config.get_config()\n",
    "cfg.parse(args=[])\n",
    "\n",
    "import _pytest.main\n",
    "ss = _pytest.main.Session.from_config(cfg)\n",
    "\n",
    "import _pytest.python\n",
    "import py\n",
    "pc = _pytest.python.PyCollector.from_parent(parent=ss, name='()')"
   ]
  },
  {
   "cell_type": "code",
   "execution_count": null,
   "metadata": {},
   "outputs": [],
   "source": [
    "import _pytest.config\n",
    "cfg = _pytest.config.get_config()\n",
    "cfg.parse(args=[])\n",
    "\n",
    "import _pytest.main\n",
    "ss = _pytest.main.Session.from_config(cfg)\n",
    "import _pytest.fixtures\n",
    "ss._fixturemanager = _pytest.fixtures.FixtureManager(ss)\n",
    "\n",
    "import _pytest.python\n",
    "import py\n",
    "ins = _pytest.python.Instance.from_parent(parent=ss, name='()')"
   ]
  },
  {
   "cell_type": "code",
   "execution_count": null,
   "metadata": {},
   "outputs": [],
   "source": [
    "import _pytest.config\n",
    "cfg = _pytest.config.get_config()\n",
    "cfg.parse(args=[])\n",
    "\n",
    "import _pytest.main\n",
    "ss = _pytest.main.Session.from_config(cfg)\n",
    "import _pytest.runner\n",
    "ss._setupstate = _pytest.runner.SetupState()\n",
    "import _pytest.fixtures\n",
    "ss._fixturemanager = _pytest.fixtures.FixtureManager(ss)\n",
    "\n",
    "import _pytest.python\n",
    "import py\n",
    "m = _pytest.python.Module.from_parent(parent=ss, fspath=py.path.local())"
   ]
  },
  {
   "cell_type": "code",
   "execution_count": null,
   "metadata": {},
   "outputs": [],
   "source": [
    "class Object(object):\n",
    "    def __init__(self, **entries):\n",
    "        self.__dict__.update(entries)\n",
    "m.obj = Object(**globals())"
   ]
  },
  {
   "cell_type": "code",
   "execution_count": null,
   "metadata": {},
   "outputs": [],
   "source": [
    "ss.items = m.collect()\n",
    "_pytest.main.pytest_runtestloop(ss)"
   ]
  },
  {
   "cell_type": "code",
   "execution_count": null,
   "metadata": {},
   "outputs": [],
   "source": [
    "# content of test_time.py\n",
    "\n",
    "import pytest\n",
    "\n",
    "from datetime import datetime, timedelta\n",
    "\n",
    "\n",
    "testdata = [\n",
    "    (datetime(2001, 12, 12), datetime(2001, 12, 11), timedelta(1)),\n",
    "    (datetime(2001, 12, 11), datetime(2001, 12, 12), timedelta(-1)),\n",
    "]\n",
    "\n",
    "\n",
    "def idfn(val):\n",
    "    if isinstance(val, (datetime,)):\n",
    "        # note this wouldn't show any hours/minutes/seconds\n",
    "        return val.strftime(\"%Y%m%d\")\n",
    "\n",
    "\n",
    "@pytest.mark.parametrize(\"a,b,expected\", testdata)\n",
    "def test_timedistance_v0(a, b, expected):\n",
    "    diff = a - b\n",
    "    assert diff == expected\n",
    "\n",
    "\n",
    "@pytest.mark.parametrize(\"a,b,expected\", testdata, ids=[\"forward\", \"backward\"])\n",
    "def test_timedistance_v1(a, b, expected):\n",
    "    diff = a - b\n",
    "    assert diff == expected\n",
    "\n",
    "\n",
    "@pytest.mark.parametrize(\"a,b,expected\", testdata, ids=idfn)\n",
    "def test_timedistance_v2(a, b, expected):\n",
    "    diff = a - b\n",
    "    assert diff == expected\n",
    "\n",
    "\n",
    "@pytest.mark.parametrize(\n",
    "    \"a,b,expected\",\n",
    "    [\n",
    "        pytest.param(\n",
    "            datetime(2001, 12, 12), datetime(2001, 12, 11), timedelta(1), id=\"forward\"\n",
    "        ),\n",
    "        pytest.param(\n",
    "            datetime(2001, 12, 11), datetime(2001, 12, 12), timedelta(-1), id=\"backward\"\n",
    "        ),\n",
    "    ],\n",
    ")\n",
    "def test_timedistance_v3(a, b, expected):\n",
    "    diff = a - b\n",
    "    assert diff != expected"
   ]
  },
  {
   "cell_type": "code",
   "execution_count": null,
   "metadata": {},
   "outputs": [],
   "source": [
    "import _pytest.config\n",
    "cfg = _pytest.config.get_config()\n",
    "cfg.parse(args=[])\n",
    "\n",
    "import _pytest.main\n",
    "ss = _pytest.main.Session.from_config(cfg)\n",
    "import _pytest.runner\n",
    "ss._setupstate = _pytest.runner.SetupState()\n",
    "import _pytest.fixtures\n",
    "ss._fixturemanager = _pytest.fixtures.FixtureManager(ss)\n",
    "\n",
    "import _pytest.python\n",
    "import py\n",
    "m = _pytest.python.Module.from_parent(parent=ss, fspath=py.path.local())"
   ]
  },
  {
   "cell_type": "code",
   "execution_count": null,
   "metadata": {},
   "outputs": [],
   "source": [
    "class Object(object):\n",
    "    def __init__(self, **entries):\n",
    "        self.__dict__.update(entries)\n",
    "m.obj = Object(**globals())"
   ]
  },
  {
   "cell_type": "code",
   "execution_count": null,
   "metadata": {},
   "outputs": [],
   "source": [
    "import _pytest.runner\n",
    "c = dict(enumerate(m.collect()))\n",
    "for i in c:\n",
    "    print(f'idx = {i}')\n",
    "    print(_pytest.runner.call_and_report(c[i], 'setup'))\n",
    "    print(_pytest.runner.call_and_report(c[i], 'call'))\n",
    "    print(_pytest.runner.call_and_report(c[i], 'teardown', nextitem=c.get(i+1)))"
   ]
  },
  {
   "cell_type": "code",
   "execution_count": null,
   "metadata": {},
   "outputs": [],
   "source": [
    "for i, f in enumerate(m.collect()):\n",
    "    print(f'idx = {i}')\n",
    "    f.setup()\n",
    "    f.runtest()"
   ]
  }
 ],
 "metadata": {
  "kernelspec": {
   "display_name": "Python 3",
   "language": "python",
   "name": "python3"
  }
 },
 "nbformat": 4,
 "nbformat_minor": 4
}
