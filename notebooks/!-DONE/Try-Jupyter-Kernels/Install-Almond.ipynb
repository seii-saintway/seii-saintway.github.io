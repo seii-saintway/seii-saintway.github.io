{
 "cells": [
  {
   "cell_type": "markdown",
   "metadata": {},
   "source": [
    "* https://github.com/almond-sh/almond\n",
    "* https://almond.sh/"
   ]
  },
  {
   "cell_type": "markdown",
   "metadata": {},
   "source": [
    "* https://almond.sh/docs/quick-start-install"
   ]
  },
  {
   "cell_type": "code",
   "execution_count": null,
   "metadata": {},
   "outputs": [
    {
     "name": "stdout",
     "output_type": "stream",
     "text": [
      "openjdk version \"1.8.0_312\"\n",
      "OpenJDK Runtime Environment (Temurin)(build 1.8.0_312-b07)\n",
      "OpenJDK 64-Bit Server VM (Temurin)(build 25.312-b07, mixed mode)\n"
     ]
    }
   ],
   "source": [
    "java -version"
   ]
  },
  {
   "cell_type": "code",
   "execution_count": null,
   "metadata": {},
   "outputs": [],
   "source": [
    "curl -Lo coursier https://git.io/coursier-cli\n",
    "chmod +x coursier\n",
    "./coursier launch -v -v almond -- --install\n",
    "./coursier launch --fork --main-class almond.ScalaKernel almond -- --install"
   ]
  },
  {
   "cell_type": "markdown",
   "metadata": {},
   "source": [
    "```\n",
    "<fork>true</fork>\n",
    "```\n",
    "* `true` means it will create (fork) a new JVM to run the compiler. This is a bit slower but the isolation is better.\n",
    "* `false` means it is startign the compiler directly in the JVM you have run **maven** with, this makes the build less repeatable."
   ]
  },
  {
   "cell_type": "code",
   "execution_count": null,
   "metadata": {},
   "outputs": [],
   "source": [
    "rm -f coursier"
   ]
  },
  {
   "cell_type": "markdown",
   "metadata": {},
   "source": [
    "* https://ammonite.io/\n",
    "* https://github.com/almond-sh/examples"
   ]
  },
  {
   "cell_type": "markdown",
   "metadata": {},
   "source": [
    "* https://github.com/mattpap/IScala\n",
    "* https://github.com/apache/incubator-toree\n",
    "* https://github.com/jupyter-incubator/sparkmagic"
   ]
  }
 ],
 "metadata": {
  "kernelspec": {
   "display_name": "Z shell",
   "language": "zsh",
   "name": "zsh"
  }
 },
 "nbformat": 4,
 "nbformat_minor": 4
}
