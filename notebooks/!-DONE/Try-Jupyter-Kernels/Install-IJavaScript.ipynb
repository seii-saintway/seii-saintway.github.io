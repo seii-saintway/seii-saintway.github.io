{
 "cells": [
  {
   "cell_type": "code",
   "execution_count": null,
   "id": "42819727-644d-4f10-a594-208951e05169",
   "metadata": {},
   "outputs": [],
   "source": [
    "import IPython"
   ]
  },
  {
   "cell_type": "code",
   "execution_count": null,
   "id": "907d53ce-6dcc-4100-bc7c-e967a2538eb4",
   "metadata": {},
   "outputs": [],
   "source": [
    "from revChatGPT.V1 import Chatbot, configure\n",
    "\n",
    "\n",
    "bot = Chatbot(\n",
    "    config = configure(),\n",
    "    conversation_id = 'fdf52ab3-f8c1-450f-86f2-5a25d43fc48d',\n",
    "    lazy_loading = True\n",
    ")"
   ]
  },
  {
   "cell_type": "markdown",
   "id": "d3e9afdf-7ff4-49ec-8739-2073b7396763",
   "metadata": {},
   "source": [
    "---"
   ]
  },
  {
   "cell_type": "code",
   "execution_count": null,
   "id": "1f5b226b-34bf-4b01-94d3-5390818953e7",
   "metadata": {},
   "outputs": [
    {
     "data": {
      "text/markdown": [
       "IJavaScript 是一种在 Jupyter Notebook 中运行 JavaScript 的内核。它基于 Node.js，并提供了一个 REPL（交互式解释器）界面，可以在 Jupyter Notebook 中运行 JavaScript 代码。\n",
       "\n",
       "使用 IJavaScript 内核，您可以在 Jupyter Notebook 中使用 JavaScript 编写代码，以及使用其他内核（如 Python、R、Julia 等）进行交互。这样，您就可以在同一个环境中使用不同的编程语言，同时享受到 Jupyter Notebook 提供的许多强大功能，如实时编辑、代码补全、图表绘制等。\n",
       "\n",
       "安装 IJavaScript 内核需要先安装 Node.js，然后通过 npm（Node.js 包管理器）安装 ijavascript 包。具体步骤如下：\n",
       "\n",
       "1. 安装 Node.js：在 Node.js 官网（ https://nodejs.org/ ）下载并安装Node.js，安装完成后打开终端（或命令行）并输入以下命令检查是否安装成功：\n",
       "\n",
       "```\n",
       "node -v\n",
       "```\n",
       "\n",
       "如果输出了 Node.js 版本号，则说明安装成功。\n",
       "\n",
       "2. 安装 ijavascript 包：在终端中输入以下命令安装 ijavascript 包：\n",
       "\n",
       "```\n",
       "npm install -g ijavascript\n",
       "```\n",
       "\n",
       "3. 安装完毕后，运行以下命令启动 Jupyter Notebook 服务器：\n",
       "\n",
       "```\n",
       "jupyter notebook\n",
       "```\n",
       "\n",
       "4. 在 Jupyter Notebook 中新建一个 Notebook，选择 IJavaScript 内核，即可开始编写 JavaScript 代码并运行。\n",
       "\n",
       "需要注意的是，IJavaScript 目前只支持 Node.js 中的 JavaScript 语法和功能，不支持浏览器中的 DOM 操作等特性。"
      ],
      "text/plain": [
       "<IPython.core.display.Markdown object>"
      ]
     },
     "metadata": {},
     "output_type": "display_data"
    }
   ],
   "source": [
    "for response in bot.ask(\n",
    "    '介绍 IJavaScript'\n",
    "):\n",
    "    IPython.display.display(IPython.core.display.Markdown(response['message']))\n",
    "    IPython.display.clear_output(wait=True)"
   ]
  },
  {
   "cell_type": "markdown",
   "id": "e8090990-8778-4cae-9bfb-200b1669ba9a",
   "metadata": {},
   "source": [
    "---\n",
    "Z shell"
   ]
  },
  {
   "cell_type": "code",
   "execution_count": null,
   "id": "9d4bf572-b72d-4ef5-a38a-092f0c52cbd1",
   "metadata": {},
   "outputs": [],
   "source": [
    "nvm install node --lts"
   ]
  },
  {
   "cell_type": "code",
   "execution_count": null,
   "id": "c840eb2c-b203-4354-812d-ded42215d6a7",
   "metadata": {},
   "outputs": [],
   "source": [
    "nvm alias default node"
   ]
  },
  {
   "cell_type": "code",
   "execution_count": null,
   "id": "836529f1-2ec7-446f-aebd-7c20a3193265",
   "metadata": {},
   "outputs": [],
   "source": [
    "nvm use v19.7.0"
   ]
  },
  {
   "cell_type": "code",
   "execution_count": null,
   "id": "84220613-f8ce-48a5-8af7-51ca88e610f8",
   "metadata": {},
   "outputs": [
    {
     "name": "stdout",
     "output_type": "stream",
     "text": [
      "\u001b[0;34m    iojs-v1.0.4\u001b[0m\n",
      "\u001b[0;32m->      v19.7.0\u001b[0m\n",
      "\u001b[0;33m         system\u001b[0m\n",
      "\u001b[0;32mdefault\u001b[0m \u001b[0;90m->\u001b[0m \u001b[0;32mnode\u001b[0m (\u001b[0;90m->\u001b[0m \u001b[0;32mv19.7.0\u001b[0m)\n",
      "\u001b[0;31munstable\u001b[0m \u001b[0;90m->\u001b[0m \u001b[0;31mN/A\u001b[0m \u001b[0;37m(default)\u001b[0m\n",
      "\u001b[0;32mnode\u001b[0m \u001b[0;90m->\u001b[0m \u001b[0;32mstable\u001b[0m (\u001b[0;90m->\u001b[0m \u001b[0;32mv19.7.0\u001b[0m) \u001b[0;37m(default)\u001b[0m\n",
      "\u001b[0;32mstable\u001b[0m \u001b[0;90m->\u001b[0m \u001b[0;32m19.7\u001b[0m (\u001b[0;90m->\u001b[0m \u001b[0;32mv19.7.0\u001b[0m) \u001b[0;37m(default)\u001b[0m\n",
      "\u001b[0;34miojs\u001b[0m \u001b[0;90m->\u001b[0m \u001b[0;34miojs-v1.0\u001b[0m (\u001b[0;90m->\u001b[0m \u001b[0;34miojs-v1.0.4\u001b[0m) \u001b[0;37m(default)\u001b[0m\n",
      "\u001b[1;33mlts/*\u001b[0m \u001b[0;90m->\u001b[0m \u001b[1;33mlts/hydrogen\u001b[0m (\u001b[0;90m->\u001b[0m \u001b[0;31mN/A\u001b[0m)\n",
      "\u001b[1;33mlts/argon\u001b[0m \u001b[0;90m->\u001b[0m \u001b[0;31mv4.9.1\u001b[0m (\u001b[0;90m->\u001b[0m \u001b[0;31mN/A\u001b[0m)\n",
      "\u001b[1;33mlts/boron\u001b[0m \u001b[0;90m->\u001b[0m \u001b[0;31mv6.17.1\u001b[0m (\u001b[0;90m->\u001b[0m \u001b[0;31mN/A\u001b[0m)\n",
      "\u001b[1;33mlts/carbon\u001b[0m \u001b[0;90m->\u001b[0m \u001b[0;31mv8.17.0\u001b[0m (\u001b[0;90m->\u001b[0m \u001b[0;31mN/A\u001b[0m)\n",
      "\u001b[1;33mlts/dubnium\u001b[0m \u001b[0;90m->\u001b[0m \u001b[0;31mv10.24.1\u001b[0m (\u001b[0;90m->\u001b[0m \u001b[0;31mN/A\u001b[0m)\n",
      "\u001b[1;33mlts/erbium\u001b[0m \u001b[0;90m->\u001b[0m \u001b[0;31mv12.22.12\u001b[0m (\u001b[0;90m->\u001b[0m \u001b[0;31mN/A\u001b[0m)\n",
      "\u001b[1;33mlts/fermium\u001b[0m \u001b[0;90m->\u001b[0m \u001b[0;31mv14.21.3\u001b[0m (\u001b[0;90m->\u001b[0m \u001b[0;31mN/A\u001b[0m)\n",
      "\u001b[1;33mlts/gallium\u001b[0m \u001b[0;90m->\u001b[0m \u001b[0;31mv16.19.1\u001b[0m (\u001b[0;90m->\u001b[0m \u001b[0;31mN/A\u001b[0m)\n",
      "\u001b[1;33mlts/hydrogen\u001b[0m \u001b[0;90m->\u001b[0m \u001b[0;31mv18.15.0\u001b[0m (\u001b[0;90m->\u001b[0m \u001b[0;31mN/A\u001b[0m)\n"
     ]
    }
   ],
   "source": [
    "nvm ls"
   ]
  },
  {
   "cell_type": "code",
   "execution_count": null,
   "id": "a9d1e2a2-2d18-4782-bfe2-faac147c2151",
   "metadata": {},
   "outputs": [],
   "source": [
    "npm install -g ijavascript"
   ]
  },
  {
   "cell_type": "code",
   "execution_count": null,
   "id": "66254221-42c3-421a-ba1f-94587a80dd97",
   "metadata": {},
   "outputs": [],
   "source": [
    "npm install -g uuid@latest"
   ]
  },
  {
   "cell_type": "code",
   "execution_count": null,
   "id": "0bbd0459-9ab9-4d10-b605-a337290287b3",
   "metadata": {},
   "outputs": [],
   "source": [
    "ijsinstall --install=global"
   ]
  }
 ],
 "metadata": {
  "kernelspec": {
   "display_name": "Python 3 (ipykernel)",
   "language": "python",
   "name": "python3"
  }
 },
 "nbformat": 4,
 "nbformat_minor": 5
}
