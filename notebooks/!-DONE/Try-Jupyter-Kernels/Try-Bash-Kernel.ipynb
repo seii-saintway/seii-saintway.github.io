{
 "cells": [
  {
   "cell_type": "markdown",
   "metadata": {},
   "source": [
    "* https://github.com/jupyter/jupyter/wiki/Jupyter-kernels\n",
    "* https://jupyter-client.readthedocs.io/en/latest/wrapperkernels.html"
   ]
  },
  {
   "cell_type": "markdown",
   "metadata": {},
   "source": [
    "https://github.com/takluyver/bash_kernel"
   ]
  },
  {
   "cell_type": "code",
   "execution_count": null,
   "metadata": {},
   "outputs": [],
   "source": [
    "%%bash\n",
    "pip3 install bash_kernel"
   ]
  },
  {
   "cell_type": "code",
   "execution_count": null,
   "metadata": {},
   "outputs": [],
   "source": [
    "%%bash\n",
    "python3 -m bash_kernel.install"
   ]
  },
  {
   "cell_type": "markdown",
   "metadata": {},
   "source": [
    "https://github.com/dan-oak/zsh-jupyter-kernel"
   ]
  },
  {
   "cell_type": "code",
   "execution_count": null,
   "metadata": {},
   "outputs": [
    {
     "name": "stdout",
     "output_type": "stream",
     "text": [
      "Requirement already satisfied: notebook in /usr/local/lib/python3.9/site-packages (6.1.4)\n",
      "Collecting zsh_jupyter_kernel\n",
      "  Downloading zsh_jupyter_kernel-3.2-py3-none-any.whl (14 kB)\n",
      "Requirement already satisfied: jupyter-client>=5.3.4 in /usr/local/lib/python3.9/site-packages (from notebook) (6.1.7)\n",
      "Requirement already satisfied: pyzmq>=17 in /usr/local/lib/python3.9/site-packages (from notebook) (19.0.2)\n",
      "Requirement already satisfied: jinja2 in /usr/local/lib/python3.9/site-packages (from notebook) (2.11.2)\n",
      "Requirement already satisfied: nbconvert in /usr/local/lib/python3.9/site-packages (from notebook) (6.0.7)\n",
      "Requirement already satisfied: ipykernel in /usr/local/lib/python3.9/site-packages (from notebook) (5.3.4)\n",
      "Requirement already satisfied: terminado>=0.8.3 in /usr/local/lib/python3.9/site-packages (from notebook) (0.9.1)\n",
      "Requirement already satisfied: Send2Trash in /usr/local/lib/python3.9/site-packages (from notebook) (1.5.0)\n",
      "Requirement already satisfied: argon2-cffi in /usr/local/lib/python3.9/site-packages (from notebook) (20.1.0)\n",
      "Requirement already satisfied: tornado>=5.0 in /usr/local/lib/python3.9/site-packages (from notebook) (6.1)\n",
      "Requirement already satisfied: traitlets>=4.2.1 in /usr/local/lib/python3.9/site-packages (from notebook) (5.0.5)\n",
      "Requirement already satisfied: jupyter-core>=4.6.1 in /usr/local/lib/python3.9/site-packages (from notebook) (4.6.3)\n",
      "Requirement already satisfied: nbformat in /usr/local/lib/python3.9/site-packages (from notebook) (5.0.8)\n",
      "Requirement already satisfied: ipython-genutils in /usr/local/lib/python3.9/site-packages (from notebook) (0.2.0)\n",
      "Requirement already satisfied: prometheus-client in /usr/local/lib/python3.9/site-packages (from notebook) (0.8.0)\n",
      "Requirement already satisfied: python-dateutil>=2.1 in /usr/local/lib/python3.9/site-packages (from jupyter-client>=5.3.4->notebook) (2.8.1)\n",
      "Requirement already satisfied: six>=1.5 in /usr/local/lib/python3.9/site-packages (from python-dateutil>=2.1->jupyter-client>=5.3.4->notebook) (1.15.0)\n",
      "Requirement already satisfied: ptyprocess in /usr/local/lib/python3.9/site-packages (from terminado>=0.8.3->notebook) (0.6.0)\n",
      "Requirement already satisfied: IPython in /usr/local/lib/python3.9/site-packages (from zsh_jupyter_kernel) (7.19.0)\n",
      "Requirement already satisfied: pexpect in /usr/local/lib/python3.9/site-packages (from zsh_jupyter_kernel) (4.8.0)\n",
      "Requirement already satisfied: cffi>=1.0.0 in /usr/local/lib/python3.9/site-packages (from argon2-cffi->notebook) (1.14.3)\n",
      "Requirement already satisfied: pycparser in /usr/local/lib/python3.9/site-packages (from cffi>=1.0.0->argon2-cffi->notebook) (2.20)\n",
      "Requirement already satisfied: appnope in /usr/local/lib/python3.9/site-packages (from ipykernel->notebook) (0.1.0)\n",
      "Requirement already satisfied: jedi>=0.10 in /usr/local/lib/python3.9/site-packages (from IPython->zsh_jupyter_kernel) (0.17.2)\n",
      "Requirement already satisfied: setuptools>=18.5 in /usr/local/lib/python3.9/site-packages (from IPython->zsh_jupyter_kernel) (52.0.0)\n",
      "Requirement already satisfied: prompt-toolkit!=3.0.0,!=3.0.1,<3.1.0,>=2.0.0 in /usr/local/lib/python3.9/site-packages (from IPython->zsh_jupyter_kernel) (3.0.8)\n",
      "Requirement already satisfied: decorator in /usr/local/lib/python3.9/site-packages (from IPython->zsh_jupyter_kernel) (4.4.2)\n",
      "Requirement already satisfied: pickleshare in /usr/local/lib/python3.9/site-packages (from IPython->zsh_jupyter_kernel) (0.7.5)\n",
      "Requirement already satisfied: backcall in /usr/local/lib/python3.9/site-packages (from IPython->zsh_jupyter_kernel) (0.2.0)\n",
      "Requirement already satisfied: pygments in /usr/local/lib/python3.9/site-packages (from IPython->zsh_jupyter_kernel) (2.7.2)\n",
      "Requirement already satisfied: parso<0.8.0,>=0.7.0 in /usr/local/lib/python3.9/site-packages (from jedi>=0.10->IPython->zsh_jupyter_kernel) (0.7.1)\n",
      "Requirement already satisfied: wcwidth in /usr/local/lib/python3.9/site-packages (from prompt-toolkit!=3.0.0,!=3.0.1,<3.1.0,>=2.0.0->IPython->zsh_jupyter_kernel) (0.2.5)\n",
      "Requirement already satisfied: MarkupSafe>=0.23 in /usr/local/lib/python3.9/site-packages (from jinja2->notebook) (1.1.1)\n",
      "Requirement already satisfied: pandocfilters>=1.4.1 in /usr/local/lib/python3.9/site-packages (from nbconvert->notebook) (1.4.3)\n",
      "Requirement already satisfied: bleach in /usr/local/lib/python3.9/site-packages (from nbconvert->notebook) (3.2.1)\n",
      "Requirement already satisfied: defusedxml in /usr/local/lib/python3.9/site-packages (from nbconvert->notebook) (0.6.0)\n",
      "Requirement already satisfied: nbclient<0.6.0,>=0.5.0 in /usr/local/lib/python3.9/site-packages (from nbconvert->notebook) (0.5.1)\n",
      "Requirement already satisfied: jupyterlab-pygments in /usr/local/lib/python3.9/site-packages (from nbconvert->notebook) (0.1.2)\n",
      "Requirement already satisfied: entrypoints>=0.2.2 in /usr/local/lib/python3.9/site-packages (from nbconvert->notebook) (0.3)\n",
      "Requirement already satisfied: mistune<2,>=0.8.1 in /usr/local/lib/python3.9/site-packages (from nbconvert->notebook) (0.8.4)\n",
      "Requirement already satisfied: testpath in /usr/local/lib/python3.9/site-packages (from nbconvert->notebook) (0.4.4)\n",
      "Requirement already satisfied: async-generator in /usr/local/lib/python3.9/site-packages (from nbclient<0.6.0,>=0.5.0->nbconvert->notebook) (1.10)\n",
      "Requirement already satisfied: nest-asyncio in /usr/local/lib/python3.9/site-packages (from nbclient<0.6.0,>=0.5.0->nbconvert->notebook) (1.4.2)\n",
      "Requirement already satisfied: jsonschema!=2.5.0,>=2.4 in /usr/local/lib/python3.9/site-packages (from nbformat->notebook) (3.2.0)\n",
      "Requirement already satisfied: attrs>=17.4.0 in /usr/local/lib/python3.9/site-packages (from jsonschema!=2.5.0,>=2.4->nbformat->notebook) (20.2.0)\n",
      "Requirement already satisfied: pyrsistent>=0.14.0 in /usr/local/lib/python3.9/site-packages (from jsonschema!=2.5.0,>=2.4->nbformat->notebook) (0.17.3)\n",
      "Requirement already satisfied: webencodings in /usr/local/lib/python3.9/site-packages (from bleach->nbconvert->notebook) (0.5.1)\n",
      "Requirement already satisfied: packaging in /usr/local/lib/python3.9/site-packages (from bleach->nbconvert->notebook) (20.4)\n",
      "Requirement already satisfied: pyparsing>=2.0.2 in /usr/local/lib/python3.9/site-packages (from packaging->bleach->nbconvert->notebook) (2.4.7)\n",
      "Installing collected packages: zsh-jupyter-kernel\n",
      "Successfully installed zsh-jupyter-kernel-3.2\n"
     ]
    }
   ],
   "source": [
    "%%bash\n",
    "python3 -m pip install notebook zsh_jupyter_kernel"
   ]
  },
  {
   "cell_type": "code",
   "execution_count": null,
   "metadata": {},
   "outputs": [],
   "source": [
    "%%bash\n",
    "python3 -m zsh_jupyter_kernel.install --sys-prefix"
   ]
  },
  {
   "cell_type": "markdown",
   "metadata": {},
   "source": [
    "#### How to uninstall Zsh Jupyter Kernel?"
   ]
  },
  {
   "cell_type": "code",
   "execution_count": null,
   "metadata": {},
   "outputs": [],
   "source": [
    "import zsh_jupyter_kernel\n",
    "print(zsh_jupyter_kernel.__file__)"
   ]
  },
  {
   "cell_type": "code",
   "execution_count": null,
   "metadata": {},
   "outputs": [],
   "source": [
    "%%bash\n",
    "ls -lah /usr/local/lib/python3.9/site-packages/zsh_jupyter_kernel"
   ]
  },
  {
   "cell_type": "code",
   "execution_count": null,
   "metadata": {},
   "outputs": [],
   "source": [
    "%%bash\n",
    "cat /usr/local/lib/python3.9/site-packages/zsh_jupyter_kernel/install.py"
   ]
  },
  {
   "cell_type": "markdown",
   "metadata": {},
   "source": [
    "#### Try to uninstall Zsh Jupyter Kernel"
   ]
  },
  {
   "cell_type": "code",
   "execution_count": null,
   "metadata": {},
   "outputs": [],
   "source": [
    "%%bash\n",
    "python3 -m pip uninstall zsh_jupyter_kernel"
   ]
  },
  {
   "cell_type": "code",
   "execution_count": null,
   "metadata": {},
   "outputs": [],
   "source": [
    "%%bash\n",
    "jupyter kernelspec list"
   ]
  },
  {
   "cell_type": "code",
   "execution_count": null,
   "metadata": {},
   "outputs": [],
   "source": [
    "%%bash\n",
    "jupyter kernelspec uninstall zsh"
   ]
  }
 ],
 "metadata": {
  "kernelspec": {
   "display_name": "Python 3",
   "language": "python",
   "name": "python3"
  }
 },
 "nbformat": 4,
 "nbformat_minor": 4
}
