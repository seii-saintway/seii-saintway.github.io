{
 "cells": [
  {
   "cell_type": "markdown",
   "metadata": {},
   "source": [
    "# I can not delete Untitled.ipynb in Carnets Recents\n",
    "https://github.com/holzschu/Carnets\n",
    "\n",
    "I can delete the files in Files Recents."
   ]
  }
 ],
 "metadata": {
  "kernelspec": {
   "display_name": "Python 3",
   "language": "python",
   "name": "python3"
  }
 },
 "nbformat": 4,
 "nbformat_minor": 4
}
