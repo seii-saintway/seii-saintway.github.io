{
 "cells": [
  {
   "cell_type": "markdown",
   "metadata": {},
   "source": [
    "* https://github.com/libfuse/sshfs\n",
    "* https://osxfuse.github.io"
   ]
  },
  {
   "cell_type": "markdown",
   "metadata": {},
   "source": [
    "# SSHFS"
   ]
  },
  {
   "cell_type": "markdown",
   "metadata": {},
   "source": [
    "## macOS"
   ]
  },
  {
   "cell_type": "code",
   "execution_count": null,
   "metadata": {},
   "outputs": [],
   "source": [
    "%%bash\n",
    "/bin/bash -c \"$(curl -fsSL https://raw.githubusercontent.com/Homebrew/install/master/install.sh)\""
   ]
  },
  {
   "cell_type": "code",
   "execution_count": null,
   "metadata": {},
   "outputs": [],
   "source": [
    "%%bash\n",
    "brew tap homebrew/cask\n",
    "brew cask install osxfuse"
   ]
  },
  {
   "cell_type": "code",
   "execution_count": null,
   "metadata": {},
   "outputs": [],
   "source": [
    "%%bash\n",
    "brew install sshfs"
   ]
  },
  {
   "cell_type": "code",
   "execution_count": null,
   "metadata": {},
   "outputs": [],
   "source": [
    "%%bash\n",
    "sshfs jhub.name: JHub -o auto_cache -o reconnect -o defer_permissions -o Ciphers=aes128-ctr -o Compression=no"
   ]
  },
  {
   "cell_type": "markdown",
   "metadata": {},
   "source": [
    "# OpenVPN + NFS"
   ]
  },
  {
   "cell_type": "markdown",
   "metadata": {},
   "source": [
    "## Ubuntu"
   ]
  },
  {
   "cell_type": "markdown",
   "metadata": {},
   "source": [
    "* https://www.tecmint.com/install-nfs-server-on-ubuntu/\n",
    "* https://blog.natetodd.com/mount-linux-nfs-share-from-macos-10-13-high-sierra/"
   ]
  },
  {
   "cell_type": "code",
   "execution_count": null,
   "metadata": {},
   "outputs": [],
   "source": [
    "%%bash\n",
    "sudo apt update"
   ]
  },
  {
   "cell_type": "code",
   "execution_count": null,
   "metadata": {},
   "outputs": [],
   "source": [
    "%%bash\n",
    "sudo apt install --yes nfs-kernel-server"
   ]
  },
  {
   "cell_type": "markdown",
   "metadata": {},
   "source": [
    "https://openvpn.net/community-resources/how-to/#connecting-to-a-samba-share-over-openvpn"
   ]
  },
  {
   "cell_type": "code",
   "execution_count": null,
   "metadata": {},
   "outputs": [],
   "source": [
    "%%bash\n",
    "sudo bash -c 'cat << EOF >> /etc/exports\n",
    "/home/jupyter-sheng_wei  10.8.0.0/24(rw,sync,no_subtree_check,all_squash,anonuid=1001,anongid=1002)\n",
    "EOF'"
   ]
  },
  {
   "cell_type": "code",
   "execution_count": null,
   "metadata": {},
   "outputs": [],
   "source": [
    "%%bash\n",
    "sudo exportfs -a\n",
    "sudo systemctl restart nfs-kernel-server"
   ]
  },
  {
   "cell_type": "code",
   "execution_count": null,
   "metadata": {},
   "outputs": [],
   "source": [
    "%%bash\n",
    "sudo su -\n",
    "echo Y > /sys/module/nfsd/parameters/nfs4_disable_idmapping\n",
    "nfsidmap -c\n",
    "systemctl restart nfs-idmapd.service"
   ]
  },
  {
   "cell_type": "markdown",
   "metadata": {},
   "source": [
    "## macOS"
   ]
  },
  {
   "cell_type": "code",
   "execution_count": null,
   "metadata": {},
   "outputs": [],
   "source": [
    "%%bash\n",
    "showmount -e 10.8.0.1"
   ]
  },
  {
   "cell_type": "code",
   "execution_count": null,
   "metadata": {},
   "outputs": [],
   "source": [
    "%%bash\n",
    "sudo mount -o resvport,rw,noowners -t nfs 10.8.0.1:/home/jupyter-sheng_wei JHub"
   ]
  },
  {
   "cell_type": "markdown",
   "metadata": {},
   "source": [
    "# Unison"
   ]
  },
  {
   "cell_type": "markdown",
   "metadata": {},
   "source": [
    "https://github.com/bcpierce00/unison"
   ]
  },
  {
   "cell_type": "markdown",
   "metadata": {},
   "source": [
    "## Ubuntu"
   ]
  },
  {
   "cell_type": "code",
   "execution_count": null,
   "metadata": {},
   "outputs": [],
   "source": [
    "%%bash\n",
    "sudo apt install --yes unison"
   ]
  },
  {
   "cell_type": "markdown",
   "metadata": {},
   "source": [
    "https://github.com/bcpierce00/unison/releases"
   ]
  },
  {
   "cell_type": "code",
   "execution_count": null,
   "metadata": {},
   "outputs": [],
   "source": [
    "%%bash\n",
    "mkdir unison && cd unison\n",
    "wget https://github.com/bcpierce00/unison/releases/download/v2.51.3/unison-v2.51.3+ocaml-4.10.0+x86_64.linux.static.tar.gz\n",
    "tar -xzf unison-v2.51.3+ocaml-4.10.0+x86_64.linux.static.tar.gz\n",
    "sudo cp bin/unison /usr/bin/unison-2.51.3\n",
    "sudo ln -sf /usr/bin/unison-2.51.3 /usr/bin/unison-latest-stable"
   ]
  },
  {
   "cell_type": "markdown",
   "metadata": {},
   "source": [
    "## macOS"
   ]
  },
  {
   "cell_type": "code",
   "execution_count": null,
   "metadata": {},
   "outputs": [],
   "source": [
    "%%bash\n",
    "brew install unison"
   ]
  },
  {
   "cell_type": "code",
   "execution_count": null,
   "metadata": {},
   "outputs": [],
   "source": [
    "%%bash\n",
    "cd ~ && unison JHub ssh://jhub.name//home/jupyter-sheng_wei -ignore 'Path .unison/*'"
   ]
  },
  {
   "cell_type": "code",
   "execution_count": null,
   "metadata": {},
   "outputs": [],
   "source": [
    "%%writefile ~/.unison/default.prf\n",
    "# Roots of the synchronization\n",
    "root = /Users/saintway/JHub\n",
    "root = ssh://jhub.name//home/jupyter-sheng_wei\n",
    "\n",
    "# Paths to synchronize\n",
    "#path = current\n",
    "#path = common\n",
    "#path = .netscape/bookmarks.html\n",
    "\n",
    "# Some regexps specifying names and paths to ignore\n",
    "ignore = Path .unison/*\n",
    "ignore = Path .jupyter/lab/workspaces/*.jupyterlab-workspace\n",
    "ignore = Path .local/share/jupyter/nbsignatures.db\n",
    "ignore = Path .local/share/jupyter/runtime/kernel-*.json\n",
    "ignore = Path .npm/_cacache/*\n",
    "ignore = Name geth.ipc\n",
    "ignore = Name *robot-status.yaml\n",
    "ignore = Name *sample-history.txt\n",
    "#ignore = Path stats    ## ignores /var/www/stats\n",
    "#ignore = Path stats/*  ## ignores /var/www/stats/*\n",
    "#ignore = Path */stats  ## ignores /var/www/somedir/stats, but not /var/www/a/b/c/stats\n",
    "#ignore = Name *stats   ## ignores all files/directories that end with \"stats\"\n",
    "#ignore = Name stats*   ## ignores all files/directories that begin with \"stats\"\n",
    "#ignore = Name *.tmp    ## ignores all files with the extension .tmp\n",
    "\n",
    "#          When set to true, this flag causes the user interface to skip\n",
    "#          asking for confirmations on non-conflicting changes. (More\n",
    "#          precisely, when the user interface is done setting the\n",
    "#          propagation direction for one entry and is about to move to the\n",
    "#          next, it will skip over all non-conflicting entries and go\n",
    "#          directly to the next conflict.)\n",
    "auto=true\n",
    "\n",
    "#          When this is set to true, the user interface will ask no\n",
    "#          questions at all. Non-conflicting changes will be propagated;\n",
    "#          conflicts will be skipped.\n",
    "batch=true\n",
    "\n",
    "#          !When this is set to true, Unison will request an extra\n",
    "#          confirmation if it appears that the entire replica has been\n",
    "#          deleted, before propagating the change. If the batch flag is\n",
    "#          also set, synchronization will be aborted. When the path\n",
    "#          preference is used, the same confirmation will be requested for\n",
    "#          top-level paths. (At the moment, this flag only affects the\n",
    "#          text user interface.) See also the mountpoint preference.\n",
    "confirmbigdel=true\n",
    "\n",
    "#          When this preference is set to true, Unison will use the\n",
    "#          modification time and length of a file as a `pseudo inode\n",
    "#          number' when scanning replicas for updates, instead of reading\n",
    "#          the full contents of every file. Under Windows, this may cause\n",
    "#          Unison to miss propagating an update if the modification time\n",
    "#          and length of the file are both unchanged by the update.\n",
    "#          However, Unison will never overwrite such an update with a\n",
    "#          change from the other replica, since it always does a safe\n",
    "#          check for updates just before propagating a change. Thus, it is\n",
    "#          reasonable to use this switch under Windows most of the time\n",
    "#          and occasionally run Unison once with fastcheck set to false,\n",
    "#          if you are worried that Unison may have overlooked an update.\n",
    "#          The default value of the preference is auto, which causes\n",
    "#          Unison to use fast checking on Unix replicas (where it is safe)\n",
    "#          and slow checking on Windows replicas. For backward\n",
    "#          compatibility, yes, no, and default can be used in place of\n",
    "#          true, false, and auto. See the section \"Fast Checking\" for more\n",
    "#          information.\n",
    "fastcheck=true\n",
    "\n",
    "#          When this flag is set to true, the group attributes of the\n",
    "#          files are synchronized. Whether the group names or the group\n",
    "#          identifiers are synchronizeddepends on the preference numerids.\n",
    "group=false\n",
    "\n",
    "#          When this flag is set to true, the owner attributes of the\n",
    "#          files are synchronized. Whether the owner names or the owner\n",
    "#          identifiers are synchronizeddepends on the preference\n",
    "#          extttnumerids.\n",
    "owner=false\n",
    "\n",
    "#          Including the preference -prefer root causes Unison always to\n",
    "#          resolve conflicts in favor of root, rather than asking for\n",
    "#          guidance from the user. (The syntax of root is the same as for\n",
    "#          the root preference, plus the special values newer and older.)\n",
    "#          This preference is overridden by the preferpartial preference.\n",
    "#          This preference should be used only if you are sure you know\n",
    "#          what you are doing!\n",
    "prefer=newer\n",
    "\n",
    "#          When this preference is set to true, the textual user interface\n",
    "#          will print nothing at all, except in the case of errors.\n",
    "#          Setting silent to true automatically sets the batch preference\n",
    "#          to true.\n",
    "silent=false\n",
    "\n",
    "#          When this flag is set to true, file modification times (but not\n",
    "#          directory modtimes) are propagated.\n",
    "times=false"
   ]
  },
  {
   "cell_type": "code",
   "execution_count": null,
   "metadata": {},
   "outputs": [],
   "source": [
    "%%bash\n",
    "# Not Recommend\n",
    "crontab -e"
   ]
  },
  {
   "cell_type": "markdown",
   "metadata": {},
   "source": [
    "```\n",
    "# Not Recommend\n",
    "*/10 * * * * /usr/local/bin/unison &> /dev/null\n",
    "```"
   ]
  }
 ],
 "metadata": {
  "kernelspec": {
   "display_name": "Python 3 (ipykernel)",
   "language": "python",
   "name": "python3"
  }
 },
 "nbformat": 4,
 "nbformat_minor": 4
}
