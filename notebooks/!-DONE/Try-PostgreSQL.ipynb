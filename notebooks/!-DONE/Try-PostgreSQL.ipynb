{
 "cells": [
  {
   "cell_type": "markdown",
   "metadata": {},
   "source": [
    "# [PostgreSQL is Turing Complete.](http://assets.en.oreilly.com/1/event/27/High%20Performance%20SQL%20with%20PostgreSQL%20Presentation.pdf)"
   ]
  },
  {
   "cell_type": "markdown",
   "metadata": {},
   "source": [
    "# http://www.postgres.cn/v2/document"
   ]
  },
  {
   "cell_type": "markdown",
   "metadata": {},
   "source": [
    "## [I found an answer from Google. And I quite agree with that.](https://www.sisense.com/ja/blog/8-ways-fine-tune-sql-queries-production-databases/)"
   ]
  },
  {
   "cell_type": "markdown",
   "metadata": {},
   "source": [
    "1. Define business requirements first\n",
    "2. SELECT fields instead of using SELECT *\n",
    "3. Avoid SELECT DISTINCT\n",
    "4. Create joins with INNER JOIN (not WHERE)\n",
    "   Some SQL developers prefer to make joins with WHERE clauses. This type of join creates a Cartesian Join, also called a Cartesian Product or CROSS JOIN. Cartesian Joins are especially problematic in large-scale databases, because a Cartesian Join of two large tables could create billions or trillions of results. To prevent creating a Cartesian Join, use INNER JOIN instead.\n",
    "5. Use WHERE instead of HAVING to define filters\n",
    "6. Use wildcards at the end of a phrase only\n",
    "   When searching plaintext data, such as cities or names, wildcards create the widest search possible. However, the widest search is also the most inefficient search. When a leading wildcard is used, especially in combination with an ending wildcard, the database is tasked with searching all records for a match anywhere within the selected field.\n",
    "7. Use LIMIT to sample query results\n",
    "8. Run your query during off-peak hours\n",
    "\n",
    "There are also many other advices on Google. By understanding the mechanism of SQL Query, the efficiency of specific cases can be analyzed and compared."
   ]
  },
  {
   "cell_type": "markdown",
   "metadata": {},
   "source": [
    "> 在做最后一道关于 SQL 的题目的时候，其实剩下的时间蛮多的。可是我却没有写完。\n",
    "> 现在想想其实蛮简单的。不需要什么 PostgreSQL 的高级用法。\n",
    "> 以前做这种题太少了，经验不足。所以，没能把握好思考的方向。\n",
    "> 在之前备考的时候，我有略略浏览过 PostgreSQL 的文档。\n",
    "> 由于时间紧迫，对于文档里面的各种高级用法的应用场景，我理解得很不充分。\n",
    "> 机试的时候，我就在想文档里面的各种高级用法。想不到好的思路，人就慌了。\n",
    "> 还有就是，做到后面的时候，我感觉自己体力有点不支了。\n",
    "> 我感觉这次机试要死在 SQL 上。"
   ]
  },
  {
   "cell_type": "code",
   "execution_count": null,
   "metadata": {},
   "outputs": [
    {
     "name": "stdout",
     "output_type": "stream",
     "text": [
      "The google.cloud.bigquery extension is already loaded. To reload it, use:\n",
      "  %reload_ext google.cloud.bigquery\n"
     ]
    }
   ],
   "source": [
    "%load_ext google.cloud.bigquery"
   ]
  },
  {
   "cell_type": "code",
   "execution_count": null,
   "metadata": {},
   "outputs": [
    {
     "data": {
      "text/html": [
       "<div>\n",
       "<style scoped>\n",
       "    .dataframe tbody tr th:only-of-type {\n",
       "        vertical-align: middle;\n",
       "    }\n",
       "\n",
       "    .dataframe tbody tr th {\n",
       "        vertical-align: top;\n",
       "    }\n",
       "\n",
       "    .dataframe thead th {\n",
       "        text-align: right;\n",
       "    }\n",
       "</style>\n",
       "<table border=\"1\" class=\"dataframe\">\n",
       "  <thead>\n",
       "    <tr style=\"text-align: right;\">\n",
       "      <th></th>\n",
       "    </tr>\n",
       "  </thead>\n",
       "  <tbody>\n",
       "  </tbody>\n",
       "</table>\n",
       "</div>"
      ],
      "text/plain": [
       "Empty DataFrame\n",
       "Columns: []\n",
       "Index: []"
      ]
     },
     "execution_count": null,
     "metadata": {},
     "output_type": "execute_result"
    }
   ],
   "source": [
    "%%bigquery\n",
    "CREATE TABLE\n",
    "  dataset.buses ( id INT64,\n",
    "    origin STRING,\n",
    "    destination STRING,\n",
    "    time STRING )"
   ]
  },
  {
   "cell_type": "code",
   "execution_count": null,
   "metadata": {},
   "outputs": [
    {
     "data": {
      "text/html": [
       "<div>\n",
       "<style scoped>\n",
       "    .dataframe tbody tr th:only-of-type {\n",
       "        vertical-align: middle;\n",
       "    }\n",
       "\n",
       "    .dataframe tbody tr th {\n",
       "        vertical-align: top;\n",
       "    }\n",
       "\n",
       "    .dataframe thead th {\n",
       "        text-align: right;\n",
       "    }\n",
       "</style>\n",
       "<table border=\"1\" class=\"dataframe\">\n",
       "  <thead>\n",
       "    <tr style=\"text-align: right;\">\n",
       "      <th></th>\n",
       "    </tr>\n",
       "  </thead>\n",
       "  <tbody>\n",
       "  </tbody>\n",
       "</table>\n",
       "</div>"
      ],
      "text/plain": [
       "Empty DataFrame\n",
       "Columns: []\n",
       "Index: []"
      ]
     },
     "execution_count": null,
     "metadata": {},
     "output_type": "execute_result"
    }
   ],
   "source": [
    "%%bigquery\n",
    "INSERT\n",
    "  dataset.buses (id,\n",
    "    origin,\n",
    "    destination,\n",
    "    time)\n",
    "VALUES\n",
    "  (10, 'Wuhan', 'Beijing', '10:00'),\n",
    "  (20, 'Hangzhou', 'Shanghai', '12:00'),\n",
    "  (21, 'Hangzhou', 'Shanghai', '12:30'),\n",
    "  (22, 'Hangzhou', 'Shanghai', '13:00'),\n",
    "  (30, 'Beijing', 'Tokyo', '23:59')"
   ]
  },
  {
   "cell_type": "code",
   "execution_count": null,
   "metadata": {},
   "outputs": [
    {
     "data": {
      "text/html": [
       "<div>\n",
       "<style scoped>\n",
       "    .dataframe tbody tr th:only-of-type {\n",
       "        vertical-align: middle;\n",
       "    }\n",
       "\n",
       "    .dataframe tbody tr th {\n",
       "        vertical-align: top;\n",
       "    }\n",
       "\n",
       "    .dataframe thead th {\n",
       "        text-align: right;\n",
       "    }\n",
       "</style>\n",
       "<table border=\"1\" class=\"dataframe\">\n",
       "  <thead>\n",
       "    <tr style=\"text-align: right;\">\n",
       "      <th></th>\n",
       "      <th>id</th>\n",
       "      <th>origin</th>\n",
       "      <th>destination</th>\n",
       "      <th>time</th>\n",
       "    </tr>\n",
       "  </thead>\n",
       "  <tbody>\n",
       "    <tr>\n",
       "      <td>0</td>\n",
       "      <td>10</td>\n",
       "      <td>Wuhan</td>\n",
       "      <td>Beijing</td>\n",
       "      <td>10:00</td>\n",
       "    </tr>\n",
       "    <tr>\n",
       "      <td>1</td>\n",
       "      <td>20</td>\n",
       "      <td>Hangzhou</td>\n",
       "      <td>Shanghai</td>\n",
       "      <td>12:00</td>\n",
       "    </tr>\n",
       "    <tr>\n",
       "      <td>2</td>\n",
       "      <td>21</td>\n",
       "      <td>Hangzhou</td>\n",
       "      <td>Shanghai</td>\n",
       "      <td>12:30</td>\n",
       "    </tr>\n",
       "    <tr>\n",
       "      <td>3</td>\n",
       "      <td>22</td>\n",
       "      <td>Hangzhou</td>\n",
       "      <td>Shanghai</td>\n",
       "      <td>13:00</td>\n",
       "    </tr>\n",
       "    <tr>\n",
       "      <td>4</td>\n",
       "      <td>30</td>\n",
       "      <td>Beijing</td>\n",
       "      <td>Tokyo</td>\n",
       "      <td>23:59</td>\n",
       "    </tr>\n",
       "  </tbody>\n",
       "</table>\n",
       "</div>"
      ],
      "text/plain": [
       "   id    origin destination   time\n",
       "0  10     Wuhan     Beijing  10:00\n",
       "1  20  Hangzhou    Shanghai  12:00\n",
       "2  21  Hangzhou    Shanghai  12:30\n",
       "3  22  Hangzhou    Shanghai  13:00\n",
       "4  30   Beijing       Tokyo  23:59"
      ]
     },
     "execution_count": null,
     "metadata": {},
     "output_type": "execute_result"
    }
   ],
   "source": [
    "%%bigquery\n",
    "SELECT\n",
    "  *\n",
    "FROM\n",
    "  dataset.buses\n",
    "ORDER BY\n",
    "  id"
   ]
  },
  {
   "cell_type": "code",
   "execution_count": null,
   "metadata": {},
   "outputs": [
    {
     "data": {
      "text/html": [
       "<div>\n",
       "<style scoped>\n",
       "    .dataframe tbody tr th:only-of-type {\n",
       "        vertical-align: middle;\n",
       "    }\n",
       "\n",
       "    .dataframe tbody tr th {\n",
       "        vertical-align: top;\n",
       "    }\n",
       "\n",
       "    .dataframe thead th {\n",
       "        text-align: right;\n",
       "    }\n",
       "</style>\n",
       "<table border=\"1\" class=\"dataframe\">\n",
       "  <thead>\n",
       "    <tr style=\"text-align: right;\">\n",
       "      <th></th>\n",
       "    </tr>\n",
       "  </thead>\n",
       "  <tbody>\n",
       "  </tbody>\n",
       "</table>\n",
       "</div>"
      ],
      "text/plain": [
       "Empty DataFrame\n",
       "Columns: []\n",
       "Index: []"
      ]
     },
     "execution_count": null,
     "metadata": {},
     "output_type": "execute_result"
    }
   ],
   "source": [
    "%%bigquery\n",
    "CREATE TABLE\n",
    "  dataset.passengers ( id INT64,\n",
    "    origin STRING,\n",
    "    destination STRING,\n",
    "    time STRING )"
   ]
  },
  {
   "cell_type": "code",
   "execution_count": null,
   "metadata": {},
   "outputs": [
    {
     "data": {
      "text/html": [
       "<div>\n",
       "<style scoped>\n",
       "    .dataframe tbody tr th:only-of-type {\n",
       "        vertical-align: middle;\n",
       "    }\n",
       "\n",
       "    .dataframe tbody tr th {\n",
       "        vertical-align: top;\n",
       "    }\n",
       "\n",
       "    .dataframe thead th {\n",
       "        text-align: right;\n",
       "    }\n",
       "</style>\n",
       "<table border=\"1\" class=\"dataframe\">\n",
       "  <thead>\n",
       "    <tr style=\"text-align: right;\">\n",
       "      <th></th>\n",
       "    </tr>\n",
       "  </thead>\n",
       "  <tbody>\n",
       "  </tbody>\n",
       "</table>\n",
       "</div>"
      ],
      "text/plain": [
       "Empty DataFrame\n",
       "Columns: []\n",
       "Index: []"
      ]
     },
     "execution_count": null,
     "metadata": {},
     "output_type": "execute_result"
    }
   ],
   "source": [
    "%%bigquery\n",
    "INSERT\n",
    "  dataset.passengers (id,\n",
    "    origin,\n",
    "    destination,\n",
    "    time)\n",
    "VALUES\n",
    "  (1, 'Beijing', 'Tokyo', '23:59'),\n",
    "  (2, 'Hangzhou', 'Tokyo', '09:00'),\n",
    "  (10, 'Wuhan', 'Tokyo', '00:30'),\n",
    "  (11, 'Hangzhou', 'Shanghai', '13:30'),\n",
    "  (40, 'Hangzhou', 'Shanghai', '12:00'),\n",
    "  (41, 'Hangzhou', 'Shanghai', '12:15'),\n",
    "  (42, 'Hangzhou', 'Shanghai', '12:15'),\n",
    "  (43, 'Hangzhou', 'Shanghai', '12:30'),\n",
    "  (44, 'Hangzhou', 'Shanghai', '12:35')"
   ]
  },
  {
   "cell_type": "code",
   "execution_count": null,
   "metadata": {},
   "outputs": [
    {
     "data": {
      "text/html": [
       "<div>\n",
       "<style scoped>\n",
       "    .dataframe tbody tr th:only-of-type {\n",
       "        vertical-align: middle;\n",
       "    }\n",
       "\n",
       "    .dataframe tbody tr th {\n",
       "        vertical-align: top;\n",
       "    }\n",
       "\n",
       "    .dataframe thead th {\n",
       "        text-align: right;\n",
       "    }\n",
       "</style>\n",
       "<table border=\"1\" class=\"dataframe\">\n",
       "  <thead>\n",
       "    <tr style=\"text-align: right;\">\n",
       "      <th></th>\n",
       "      <th>id</th>\n",
       "      <th>origin</th>\n",
       "      <th>destination</th>\n",
       "      <th>time</th>\n",
       "    </tr>\n",
       "  </thead>\n",
       "  <tbody>\n",
       "    <tr>\n",
       "      <td>0</td>\n",
       "      <td>1</td>\n",
       "      <td>Beijing</td>\n",
       "      <td>Tokyo</td>\n",
       "      <td>23:59</td>\n",
       "    </tr>\n",
       "    <tr>\n",
       "      <td>1</td>\n",
       "      <td>2</td>\n",
       "      <td>Hangzhou</td>\n",
       "      <td>Tokyo</td>\n",
       "      <td>09:00</td>\n",
       "    </tr>\n",
       "    <tr>\n",
       "      <td>2</td>\n",
       "      <td>10</td>\n",
       "      <td>Wuhan</td>\n",
       "      <td>Tokyo</td>\n",
       "      <td>00:30</td>\n",
       "    </tr>\n",
       "    <tr>\n",
       "      <td>3</td>\n",
       "      <td>11</td>\n",
       "      <td>Hangzhou</td>\n",
       "      <td>Shanghai</td>\n",
       "      <td>13:30</td>\n",
       "    </tr>\n",
       "    <tr>\n",
       "      <td>4</td>\n",
       "      <td>40</td>\n",
       "      <td>Hangzhou</td>\n",
       "      <td>Shanghai</td>\n",
       "      <td>12:00</td>\n",
       "    </tr>\n",
       "    <tr>\n",
       "      <td>5</td>\n",
       "      <td>41</td>\n",
       "      <td>Hangzhou</td>\n",
       "      <td>Shanghai</td>\n",
       "      <td>12:15</td>\n",
       "    </tr>\n",
       "    <tr>\n",
       "      <td>6</td>\n",
       "      <td>42</td>\n",
       "      <td>Hangzhou</td>\n",
       "      <td>Shanghai</td>\n",
       "      <td>12:15</td>\n",
       "    </tr>\n",
       "    <tr>\n",
       "      <td>7</td>\n",
       "      <td>43</td>\n",
       "      <td>Hangzhou</td>\n",
       "      <td>Shanghai</td>\n",
       "      <td>12:30</td>\n",
       "    </tr>\n",
       "    <tr>\n",
       "      <td>8</td>\n",
       "      <td>44</td>\n",
       "      <td>Hangzhou</td>\n",
       "      <td>Shanghai</td>\n",
       "      <td>12:35</td>\n",
       "    </tr>\n",
       "  </tbody>\n",
       "</table>\n",
       "</div>"
      ],
      "text/plain": [
       "   id    origin destination   time\n",
       "0   1   Beijing       Tokyo  23:59\n",
       "1   2  Hangzhou       Tokyo  09:00\n",
       "2  10     Wuhan       Tokyo  00:30\n",
       "3  11  Hangzhou    Shanghai  13:30\n",
       "4  40  Hangzhou    Shanghai  12:00\n",
       "5  41  Hangzhou    Shanghai  12:15\n",
       "6  42  Hangzhou    Shanghai  12:15\n",
       "7  43  Hangzhou    Shanghai  12:30\n",
       "8  44  Hangzhou    Shanghai  12:35"
      ]
     },
     "execution_count": null,
     "metadata": {},
     "output_type": "execute_result"
    }
   ],
   "source": [
    "%%bigquery\n",
    "SELECT\n",
    "  *\n",
    "FROM\n",
    "  dataset.passengers\n",
    "ORDER BY\n",
    "  id"
   ]
  },
  {
   "cell_type": "code",
   "execution_count": null,
   "metadata": {},
   "outputs": [],
   "source": [
    "%%bigquery\n",
    "WITH\n",
    "  buses_ranked AS (\n",
    "  SELECT\n",
    "    id,\n",
    "    origin,\n",
    "    destination,\n",
    "    time,\n",
    "    RANK() OVER (PARTITION BY origin, destination ORDER BY time) AS rank\n",
    "  FROM\n",
    "    dataset.buses)\n",
    "SELECT\n",
    "  bus_latter.*,\n",
    "  bus_former.time AS time_former,\n",
    "  passengers.id AS passengers_id,\n",
    "  passengers.time AS passengers_time\n",
    "FROM\n",
    "  buses_ranked AS bus_latter\n",
    "LEFT OUTER JOIN\n",
    "  buses_ranked AS bus_former\n",
    "ON\n",
    "  bus_latter.origin = bus_former.origin\n",
    "  AND bus_latter.destination = bus_former.destination\n",
    "  AND bus_latter.rank = bus_former.rank + 1\n",
    "LEFT OUTER JOIN\n",
    "  dataset.passengers AS passengers\n",
    "ON\n",
    "  bus_latter.origin = passengers.origin\n",
    "  AND bus_latter.destination = passengers.destination\n",
    "  AND (bus_former.time IS NULL\n",
    "    OR bus_former.time < passengers.time)\n",
    "  AND passengers.time <= bus_latter.time\n",
    "ORDER BY\n",
    "  id,\n",
    "  passengers_id"
   ]
  },
  {
   "cell_type": "code",
   "execution_count": null,
   "metadata": {},
   "outputs": [
    {
     "data": {
      "text/html": [
       "<div>\n",
       "<style scoped>\n",
       "    .dataframe tbody tr th:only-of-type {\n",
       "        vertical-align: middle;\n",
       "    }\n",
       "\n",
       "    .dataframe tbody tr th {\n",
       "        vertical-align: top;\n",
       "    }\n",
       "\n",
       "    .dataframe thead th {\n",
       "        text-align: right;\n",
       "    }\n",
       "</style>\n",
       "<table border=\"1\" class=\"dataframe\">\n",
       "  <thead>\n",
       "    <tr style=\"text-align: right;\">\n",
       "      <th></th>\n",
       "      <th>id</th>\n",
       "      <th>passengers_count</th>\n",
       "    </tr>\n",
       "  </thead>\n",
       "  <tbody>\n",
       "    <tr>\n",
       "      <td>0</td>\n",
       "      <td>10</td>\n",
       "      <td>0</td>\n",
       "    </tr>\n",
       "    <tr>\n",
       "      <td>1</td>\n",
       "      <td>20</td>\n",
       "      <td>1</td>\n",
       "    </tr>\n",
       "    <tr>\n",
       "      <td>2</td>\n",
       "      <td>21</td>\n",
       "      <td>3</td>\n",
       "    </tr>\n",
       "    <tr>\n",
       "      <td>3</td>\n",
       "      <td>22</td>\n",
       "      <td>1</td>\n",
       "    </tr>\n",
       "    <tr>\n",
       "      <td>4</td>\n",
       "      <td>30</td>\n",
       "      <td>1</td>\n",
       "    </tr>\n",
       "  </tbody>\n",
       "</table>\n",
       "</div>"
      ],
      "text/plain": [
       "   id  passengers_count\n",
       "0  10                 0\n",
       "1  20                 1\n",
       "2  21                 3\n",
       "3  22                 1\n",
       "4  30                 1"
      ]
     },
     "execution_count": null,
     "metadata": {},
     "output_type": "execute_result"
    }
   ],
   "source": [
    "%%bigquery\n",
    "WITH\n",
    "  buses_ranked AS (\n",
    "  SELECT\n",
    "    id,\n",
    "    origin,\n",
    "    destination,\n",
    "    time,\n",
    "    RANK() OVER (PARTITION BY origin, destination ORDER BY time) AS rank\n",
    "  FROM\n",
    "    dataset.buses)\n",
    "SELECT\n",
    "  bus_latter.id,\n",
    "  COUNT(passengers.id) AS passengers_count\n",
    "FROM\n",
    "  buses_ranked AS bus_latter\n",
    "LEFT OUTER JOIN\n",
    "  buses_ranked AS bus_former\n",
    "ON\n",
    "  bus_latter.origin = bus_former.origin\n",
    "  AND bus_latter.destination = bus_former.destination\n",
    "  AND bus_latter.rank = bus_former.rank + 1\n",
    "LEFT OUTER JOIN\n",
    "  dataset.passengers AS passengers\n",
    "ON\n",
    "  bus_latter.origin = passengers.origin\n",
    "  AND bus_latter.destination = passengers.destination\n",
    "  AND (bus_former.time IS NULL\n",
    "    OR bus_former.time < passengers.time)\n",
    "  AND passengers.time <= bus_latter.time\n",
    "GROUP BY\n",
    "  bus_latter.id\n",
    "ORDER BY\n",
    "  id"
   ]
  },
  {
   "cell_type": "markdown",
   "metadata": {},
   "source": [
    "https://medium.com/analytics-vidhya/postgresql-integration-with-jupyter-notebook-deb97579a38d"
   ]
  },
  {
   "cell_type": "code",
   "execution_count": null,
   "metadata": {},
   "outputs": [],
   "source": []
  }
 ],
 "metadata": {
  "kernelspec": {
   "display_name": "Python 3",
   "language": "python",
   "name": "python3"
  }
 },
 "nbformat": 4,
 "nbformat_minor": 4
}
