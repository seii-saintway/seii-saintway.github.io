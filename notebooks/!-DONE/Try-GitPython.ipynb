{
 "cells": [
  {
   "cell_type": "markdown",
   "metadata": {},
   "source": [
    "https://gitpython.readthedocs.io/en/stable/tutorial.html"
   ]
  },
  {
   "cell_type": "code",
   "execution_count": null,
   "metadata": {},
   "outputs": [],
   "source": [
    "import pip._internal"
   ]
  },
  {
   "cell_type": "code",
   "execution_count": null,
   "metadata": {},
   "outputs": [
    {
     "name": "stdout",
     "output_type": "stream",
     "text": [
      "#!/usr/bin/env python\n",
      "from __future__ import absolute_import\n",
      "\n",
      "import locale\n",
      "import logging\n",
      "import os\n",
      "import warnings\n",
      "\n",
      "import sys\n",
      "\n",
      "# 2016-06-17 barry@debian.org: urllib3 1.14 added optional support for socks,\n",
      "# but if invoked (i.e. imported), it will issue a warning to stderr if socks\n",
      "# isn't available.  requests unconditionally imports urllib3's socks contrib\n",
      "# module, triggering this warning.  The warning breaks DEP-8 tests (because of\n",
      "# the stderr output) and is just plain annoying in normal usage.  I don't want\n",
      "# to add socks as yet another dependency for pip, nor do I want to allow-stderr\n",
      "# in the DEP-8 tests, so just suppress the warning.  pdb tells me this has to\n",
      "# be done before the import of pip.vcs.\n",
      "from pip._vendor.urllib3.exceptions import DependencyWarning\n",
      "warnings.filterwarnings(\"ignore\", category=DependencyWarning)  # noqa\n",
      "\n",
      "# We want to inject the use of SecureTransport as early as possible so that any\n",
      "# references or sessions or what have you are ensured to have it, however we\n",
      "# only want to do this in the case that we're running on macOS and the linked\n",
      "# OpenSSL is too old to handle TLSv1.2\n",
      "try:\n",
      "    import ssl\n",
      "except ImportError:\n",
      "    pass\n",
      "else:\n",
      "    # Checks for OpenSSL 1.0.1 on MacOS\n",
      "    if sys.platform == \"darwin\" and ssl.OPENSSL_VERSION_NUMBER < 0x1000100f:\n",
      "        try:\n",
      "            from pip._vendor.urllib3.contrib import securetransport\n",
      "        except (ImportError, OSError):\n",
      "            pass\n",
      "        else:\n",
      "            securetransport.inject_into_urllib3()\n",
      "\n",
      "from pip._internal.cli.autocompletion import autocomplete\n",
      "from pip._internal.cli.main_parser import parse_command\n",
      "from pip._internal.commands import commands_dict\n",
      "from pip._internal.exceptions import PipError\n",
      "from pip._internal.utils import deprecation\n",
      "from pip._vendor.urllib3.exceptions import InsecureRequestWarning\n",
      "\n",
      "logger = logging.getLogger(__name__)\n",
      "\n",
      "# Hide the InsecureRequestWarning from urllib3\n",
      "warnings.filterwarnings(\"ignore\", category=InsecureRequestWarning)\n",
      "\n",
      "\n",
      "def main(args=None):\n",
      "    if args is None:\n",
      "        args = sys.argv[1:]\n",
      "\n",
      "    # Configure our deprecation warnings to be sent through loggers\n",
      "    deprecation.install_warning_logger()\n",
      "\n",
      "    autocomplete()\n",
      "\n",
      "    try:\n",
      "        cmd_name, cmd_args = parse_command(args)\n",
      "    except PipError as exc:\n",
      "        sys.stderr.write(\"ERROR: %s\" % exc)\n",
      "        sys.stderr.write(os.linesep)\n",
      "        sys.exit(1)\n",
      "\n",
      "    # Needed for locale.getpreferredencoding(False) to work\n",
      "    # in pip._internal.utils.encoding.auto_decode\n",
      "    try:\n",
      "        locale.setlocale(locale.LC_ALL, '')\n",
      "    except locale.Error as e:\n",
      "        # setlocale can apparently crash if locale are uninitialized\n",
      "        logger.debug(\"Ignoring error %s when setting locale\", e)\n",
      "    command = commands_dict[cmd_name](isolated=(\"--isolated\" in cmd_args))\n",
      "    return command.main(cmd_args)\n",
      "\n"
     ]
    }
   ],
   "source": [
    "with open(pip._internal.__file__) as f: print(f.read())"
   ]
  },
  {
   "cell_type": "code",
   "execution_count": null,
   "metadata": {},
   "outputs": [
    {
     "name": "stdout",
     "output_type": "stream",
     "text": [
      "Requirement already satisfied: gitpython in /opt/tljh/user/lib/python3.6/site-packages (3.0.3)\n",
      "Requirement already satisfied: gitdb2>=2.0.0 in /opt/tljh/user/lib/python3.6/site-packages (from gitpython) (2.0.6)\n",
      "Requirement already satisfied: smmap2>=2.0.0 in /opt/tljh/user/lib/python3.6/site-packages (from gitdb2>=2.0.0->gitpython) (2.0.5)\n"
     ]
    },
    {
     "data": {
      "text/plain": [
       "0"
      ]
     },
     "execution_count": null,
     "metadata": {},
     "output_type": "execute_result"
    }
   ],
   "source": [
    "pip._internal.main(['install', 'gitpython'])"
   ]
  },
  {
   "cell_type": "code",
   "execution_count": null,
   "metadata": {},
   "outputs": [],
   "source": [
    "import os"
   ]
  },
  {
   "cell_type": "code",
   "execution_count": null,
   "metadata": {},
   "outputs": [
    {
     "data": {
      "text/plain": [
       "['Try-PostgreSQL.ipynb',\n",
       " 'Try-Zeppelin.ipynb',\n",
       " '.ipynb_checkpoints',\n",
       " 'Try-GitPython.ipynb',\n",
       " 'Fix-Carnets-Untitled-Deleting.ipynb']"
      ]
     },
     "execution_count": null,
     "metadata": {},
     "output_type": "execute_result"
    }
   ],
   "source": [
    "os.listdir()"
   ]
  },
  {
   "cell_type": "code",
   "execution_count": null,
   "metadata": {},
   "outputs": [],
   "source": [
    "from git import Repo\n",
    "repo = Repo(os.path.expanduser('~/DataEngineerChallenge'))"
   ]
  },
  {
   "cell_type": "code",
   "execution_count": null,
   "metadata": {},
   "outputs": [
    {
     "data": {
      "text/plain": [
       "False"
      ]
     },
     "execution_count": null,
     "metadata": {},
     "output_type": "execute_result"
    }
   ],
   "source": [
    "repo.bare"
   ]
  },
  {
   "cell_type": "code",
   "execution_count": null,
   "metadata": {},
   "outputs": [
    {
     "data": {
      "text/plain": [
       "<git.Head \"refs/heads/master\">"
      ]
     },
     "execution_count": null,
     "metadata": {},
     "output_type": "execute_result"
    }
   ],
   "source": [
    "repo.active_branch"
   ]
  },
  {
   "cell_type": "code",
   "execution_count": null,
   "metadata": {},
   "outputs": [
    {
     "data": {
      "text/plain": [
       "'/home/jupyter-sheng_wei/hexo/source/notebooks/!-DONE'"
      ]
     },
     "execution_count": null,
     "metadata": {},
     "output_type": "execute_result"
    }
   ],
   "source": [
    "os.getcwd()"
   ]
  },
  {
   "cell_type": "code",
   "execution_count": null,
   "metadata": {},
   "outputs": [
    {
     "data": {
      "text/plain": [
       "'/home/jupyter-sheng_wei/DataEngineerChallenge'"
      ]
     },
     "execution_count": null,
     "metadata": {},
     "output_type": "execute_result"
    }
   ],
   "source": [
    "repo.working_dir"
   ]
  },
  {
   "cell_type": "code",
   "execution_count": null,
   "metadata": {},
   "outputs": [
    {
     "data": {
      "text/plain": [
       "'/home/jupyter-sheng_wei/DataEngineerChallenge'"
      ]
     },
     "execution_count": null,
     "metadata": {},
     "output_type": "execute_result"
    }
   ],
   "source": [
    "repo.working_tree_dir"
   ]
  },
  {
   "cell_type": "code",
   "execution_count": null,
   "metadata": {},
   "outputs": [
    {
     "data": {
      "text/plain": [
       "'/home/jupyter-sheng_wei/DataEngineerChallenge/.git'"
      ]
     },
     "execution_count": null,
     "metadata": {},
     "output_type": "execute_result"
    }
   ],
   "source": [
    "repo.git_dir"
   ]
  },
  {
   "cell_type": "code",
   "execution_count": null,
   "metadata": {},
   "outputs": [
    {
     "data": {
      "text/plain": [
       "True"
      ]
     },
     "execution_count": null,
     "metadata": {},
     "output_type": "execute_result"
    }
   ],
   "source": [
    "repo.is_dirty()"
   ]
  },
  {
   "cell_type": "code",
   "execution_count": null,
   "metadata": {},
   "outputs": [
    {
     "name": "stdout",
     "output_type": "stream",
     "text": [
      "Help on class Repo in module git.repo.base:\n",
      "\n",
      "class Repo(builtins.object)\n",
      " |  Represents a git repository and allows you to query references,\n",
      " |  gather commit information, generate diffs, create and clone repositories query\n",
      " |  the log.\n",
      " |  \n",
      " |  The following attributes are worth using:\n",
      " |  \n",
      " |  'working_dir' is the working directory of the git command, which is the working tree\n",
      " |  directory if available or the .git directory in case of bare repositories\n",
      " |  \n",
      " |  'working_tree_dir' is the working tree directory, but will raise AssertionError\n",
      " |  if we are a bare repository.\n",
      " |  \n",
      " |  'git_dir' is the .git repository directory, which is always set.\n",
      " |  \n",
      " |  Methods defined here:\n",
      " |  \n",
      " |  __del__(self)\n",
      " |  \n",
      " |  __enter__(self)\n",
      " |  \n",
      " |  __eq__(self, rhs)\n",
      " |      Return self==value.\n",
      " |  \n",
      " |  __exit__(self, exc_type, exc_value, traceback)\n",
      " |  \n",
      " |  __hash__(self)\n",
      " |      Return hash(self).\n",
      " |  \n",
      " |  __init__(self, path=None, odbt=<class 'git.db.GitCmdObjectDB'>, search_parent_directories=False, expand_vars=True)\n",
      " |      Create a new Repo instance\n",
      " |      \n",
      " |      :param path:\n",
      " |          the path to either the root git directory or the bare git repo::\n",
      " |      \n",
      " |              repo = Repo(\"/Users/mtrier/Development/git-python\")\n",
      " |              repo = Repo(\"/Users/mtrier/Development/git-python.git\")\n",
      " |              repo = Repo(\"~/Development/git-python.git\")\n",
      " |              repo = Repo(\"$REPOSITORIES/Development/git-python.git\")\n",
      " |              repo = Repo(\"C:\\Users\\mtrier\\Development\\git-python\\.git\")\n",
      " |      \n",
      " |          - In *Cygwin*, path may be a `'cygdrive/...'` prefixed path.\n",
      " |          - If it evaluates to false, :envvar:`GIT_DIR` is used, and if this also evals to false,\n",
      " |            the current-directory is used.\n",
      " |      :param odbt:\n",
      " |          Object DataBase type - a type which is constructed by providing\n",
      " |          the directory containing the database objects, i.e. .git/objects. It will\n",
      " |          be used to access all object data\n",
      " |      :param search_parent_directories:\n",
      " |          if True, all parent directories will be searched for a valid repo as well.\n",
      " |      \n",
      " |          Please note that this was the default behaviour in older versions of GitPython,\n",
      " |          which is considered a bug though.\n",
      " |      :raise InvalidGitRepositoryError:\n",
      " |      :raise NoSuchPathError:\n",
      " |      :return: git.Repo\n",
      " |  \n",
      " |  __ne__(self, rhs)\n",
      " |      Return self!=value.\n",
      " |  \n",
      " |  __repr__(self)\n",
      " |      Return repr(self).\n",
      " |  \n",
      " |  archive(self, ostream, treeish=None, prefix=None, **kwargs)\n",
      " |      Archive the tree at the given revision.\n",
      " |      \n",
      " |      :param ostream: file compatible stream object to which the archive will be written as bytes\n",
      " |      :param treeish: is the treeish name/id, defaults to active branch\n",
      " |      :param prefix: is the optional prefix to prepend to each filename in the archive\n",
      " |      :param kwargs: Additional arguments passed to git-archive\n",
      " |      \n",
      " |          * Use the 'format' argument to define the kind of format. Use\n",
      " |            specialized ostreams to write any format supported by python.\n",
      " |          * You may specify the special **path** keyword, which may either be a repository-relative\n",
      " |            path to a directory or file to place into the archive, or a list or tuple of multiple paths.\n",
      " |      \n",
      " |      :raise GitCommandError: in case something went wrong\n",
      " |      :return: self\n",
      " |  \n",
      " |  blame(self, rev, file, incremental=False, **kwargs)\n",
      " |      The blame information for the given file at the given revision.\n",
      " |      \n",
      " |      :param rev: revision specifier, see git-rev-parse for viable options.\n",
      " |      :return:\n",
      " |          list: [git.Commit, list: [<line>]]\n",
      " |          A list of tuples associating a Commit object with a list of lines that\n",
      " |          changed within the given commit. The Commit objects will be given in order\n",
      " |          of appearance.\n",
      " |  \n",
      " |  blame_incremental(self, rev, file, **kwargs)\n",
      " |      Iterator for blame information for the given file at the given revision.\n",
      " |      \n",
      " |      Unlike .blame(), this does not return the actual file's contents, only\n",
      " |      a stream of BlameEntry tuples.\n",
      " |      \n",
      " |      :param rev: revision specifier, see git-rev-parse for viable options.\n",
      " |      :return: lazy iterator of BlameEntry tuples, where the commit\n",
      " |               indicates the commit to blame for the line, and range\n",
      " |               indicates a span of line numbers in the resulting file.\n",
      " |      \n",
      " |      If you combine all line number ranges outputted by this command, you\n",
      " |      should get a continuous range spanning all line numbers in the file.\n",
      " |  \n",
      " |  clone(self, path, progress=None, multi_options=None, **kwargs)\n",
      " |      Create a clone from this repository.\n",
      " |      \n",
      " |      :param path: is the full path of the new repo (traditionally ends with ./<name>.git).\n",
      " |      :param progress: See 'git.remote.Remote.push'.\n",
      " |      :param multi_options: A list of Clone options that can be provided multiple times.  One\n",
      " |          option per list item which is passed exactly as specified to clone.\n",
      " |          For example ['--config core.filemode=false', '--config core.ignorecase',\n",
      " |                       '--recurse-submodule=repo1_path', '--recurse-submodule=repo2_path']\n",
      " |      :param kwargs:\n",
      " |          * odbt = ObjectDatabase Type, allowing to determine the object database\n",
      " |            implementation used by the returned Repo instance\n",
      " |          * All remaining keyword arguments are given to the git-clone command\n",
      " |      \n",
      " |      :return: ``git.Repo`` (the newly cloned repo)\n",
      " |  \n",
      " |  close(self)\n",
      " |  \n",
      " |  commit(self, rev=None)\n",
      " |      The Commit object for the specified revision\n",
      " |      :param rev: revision specifier, see git-rev-parse for viable options.\n",
      " |      :return: ``git.Commit``\n",
      " |  \n",
      " |  config_reader(self, config_level=None)\n",
      " |      :return:\n",
      " |          GitConfigParser allowing to read the full git configuration, but not to write it\n",
      " |      \n",
      " |          The configuration will include values from the system, user and repository\n",
      " |          configuration files.\n",
      " |      \n",
      " |      :param config_level:\n",
      " |          For possible values, see config_writer method\n",
      " |          If None, all applicable levels will be used. Specify a level in case\n",
      " |          you know which file you wish to read to prevent reading multiple files.\n",
      " |      :note: On windows, system configuration cannot currently be read as the path is\n",
      " |          unknown, instead the global path will be used.\n",
      " |  \n",
      " |  config_writer(self, config_level='repository')\n",
      " |      :return:\n",
      " |          GitConfigParser allowing to write values of the specified configuration file level.\n",
      " |          Config writers should be retrieved, used to change the configuration, and written\n",
      " |          right away as they will lock the configuration file in question and prevent other's\n",
      " |          to write it.\n",
      " |      \n",
      " |      :param config_level:\n",
      " |          One of the following values\n",
      " |          system = system wide configuration file\n",
      " |          global = user level configuration file\n",
      " |          repository = configuration file for this repostory only\n",
      " |  \n",
      " |  create_head(self, path, commit='HEAD', force=False, logmsg=None)\n",
      " |      Create a new head within the repository.\n",
      " |      For more documentation, please see the Head.create method.\n",
      " |      \n",
      " |      :return: newly created Head Reference\n",
      " |  \n",
      " |  create_remote(self, name, url, **kwargs)\n",
      " |      Create a new remote.\n",
      " |      \n",
      " |      For more information, please see the documentation of the Remote.create\n",
      " |      methods\n",
      " |      \n",
      " |      :return: Remote reference\n",
      " |  \n",
      " |  create_submodule(self, *args, **kwargs)\n",
      " |      Create a new submodule\n",
      " |      \n",
      " |      :note: See the documentation of Submodule.add for a description of the\n",
      " |          applicable parameters\n",
      " |      :return: created submodules\n",
      " |  \n",
      " |  create_tag(self, path, ref='HEAD', message=None, force=False, **kwargs)\n",
      " |      Create a new tag reference.\n",
      " |      For more documentation, please see the TagReference.create method.\n",
      " |      \n",
      " |      :return: TagReference object\n",
      " |  \n",
      " |  currently_rebasing_on(self)\n",
      " |      :return: The commit which is currently being replayed while rebasing.\n",
      " |      \n",
      " |      None if we are not currently rebasing.\n",
      " |  \n",
      " |  delete_head(self, *heads, **kwargs)\n",
      " |      Delete the given heads\n",
      " |      \n",
      " |      :param kwargs: Additional keyword arguments to be passed to git-branch\n",
      " |  \n",
      " |  delete_remote(self, remote)\n",
      " |      Delete the given remote.\n",
      " |  \n",
      " |  delete_tag(self, *tags)\n",
      " |      Delete the given tag references\n",
      " |  \n",
      " |  has_separate_working_tree(self)\n",
      " |      :return: True if our git_dir is not at the root of our working_tree_dir, but a .git file with a\n",
      " |          platform agnositic symbolic link. Our git_dir will be wherever the .git file points to\n",
      " |      :note: bare repositories will always return False here\n",
      " |  \n",
      " |  is_ancestor(self, ancestor_rev, rev)\n",
      " |      Check if a commit is an ancestor of another\n",
      " |      \n",
      " |      :param ancestor_rev: Rev which should be an ancestor\n",
      " |      :param rev: Rev to test against ancestor_rev\n",
      " |      :return: ``True``, ancestor_rev is an ancestor to rev.\n",
      " |  \n",
      " |  is_dirty(self, index=True, working_tree=True, untracked_files=False, submodules=True, path=None)\n",
      " |      :return:\n",
      " |          ``True``, the repository is considered dirty. By default it will react\n",
      " |          like a git-status without untracked files, hence it is dirty if the\n",
      " |          index or the working copy have changes.\n",
      " |  \n",
      " |  iter_commits(self, rev=None, paths='', **kwargs)\n",
      " |      A list of Commit objects representing the history of a given ref/commit\n",
      " |      \n",
      " |      :param rev:\n",
      " |          revision specifier, see git-rev-parse for viable options.\n",
      " |          If None, the active branch will be used.\n",
      " |      \n",
      " |      :param paths:\n",
      " |          is an optional path or a list of paths to limit the returned commits to\n",
      " |          Commits that do not contain that path or the paths will not be returned.\n",
      " |      \n",
      " |      :param kwargs:\n",
      " |          Arguments to be passed to git-rev-list - common ones are\n",
      " |          max_count and skip\n",
      " |      \n",
      " |      :note: to receive only commits between two named revisions, use the\n",
      " |          \"revA...revB\" revision specifier\n",
      " |      \n",
      " |      :return: ``git.Commit[]``\n",
      " |  \n",
      " |  iter_submodules(self, *args, **kwargs)\n",
      " |      An iterator yielding Submodule instances, see Traversable interface\n",
      " |      for a description of args and kwargs\n",
      " |      :return: Iterator\n",
      " |  \n",
      " |  iter_trees(self, *args, **kwargs)\n",
      " |      :return: Iterator yielding Tree objects\n",
      " |      :note: Takes all arguments known to iter_commits method\n",
      " |  \n",
      " |  merge_base(self, *rev, **kwargs)\n",
      " |      Find the closest common ancestor for the given revision (e.g. Commits, Tags, References, etc)\n",
      " |      \n",
      " |      :param rev: At least two revs to find the common ancestor for.\n",
      " |      :param kwargs: Additional arguments to be passed to the repo.git.merge_base() command which does all the work.\n",
      " |      :return: A list of Commit objects. If --all was not specified as kwarg, the list will have at max one Commit,\n",
      " |          or is empty if no common merge base exists.\n",
      " |      :raises ValueError: If not at least two revs are provided\n",
      " |  \n",
      " |  remote(self, name='origin')\n",
      " |      :return: Remote with the specified name\n",
      " |      :raise ValueError:  if no remote with such a name exists\n",
      " |  \n",
      " |  rev_parse(repo, rev)\n",
      " |      :return: Object at the given revision, either Commit, Tag, Tree or Blob\n",
      " |      :param rev: git-rev-parse compatible revision specification as string, please see\n",
      " |          http://www.kernel.org/pub/software/scm/git/docs/git-rev-parse.html\n",
      " |          for details\n",
      " |      :raise BadObject: if the given revision could not be found\n",
      " |      :raise ValueError: If rev couldn't be parsed\n",
      " |      :raise IndexError: If invalid reflog index is specified\n",
      " |  \n",
      " |  submodule(self, name)\n",
      " |      :return: Submodule with the given name\n",
      " |      :raise ValueError: If no such submodule exists\n",
      " |  \n",
      " |  submodule_update(self, *args, **kwargs)\n",
      " |      Update the submodules, keeping the repository consistent as it will\n",
      " |      take the previous state into consideration. For more information, please\n",
      " |      see the documentation of RootModule.update\n",
      " |  \n",
      " |  tag(self, path)\n",
      " |      :return: TagReference Object, reference pointing to a Commit or Tag\n",
      " |      :param path: path to the tag reference, i.e. 0.1.5 or tags/0.1.5\n",
      " |  \n",
      " |  tree(self, rev=None)\n",
      " |      The Tree object for the given treeish revision\n",
      " |      Examples::\n",
      " |      \n",
      " |            repo.tree(repo.heads[0])\n",
      " |      \n",
      " |      :param rev: is a revision pointing to a Treeish ( being a commit or tree )\n",
      " |      :return: ``git.Tree``\n",
      " |      \n",
      " |      :note:\n",
      " |          If you need a non-root level tree, find it by iterating the root tree. Otherwise\n",
      " |          it cannot know about its path relative to the repository root and subsequent\n",
      " |          operations might have unexpected results.\n",
      " |  \n",
      " |  ----------------------------------------------------------------------\n",
      " |  Class methods defined here:\n",
      " |  \n",
      " |  clone_from(url, to_path, progress=None, env=None, multi_options=None, **kwargs) from builtins.type\n",
      " |      Create a clone from the given URL\n",
      " |      \n",
      " |      :param url: valid git url, see http://www.kernel.org/pub/software/scm/git/docs/git-clone.html#URLS\n",
      " |      :param to_path: Path to which the repository should be cloned to\n",
      " |      :param progress: See 'git.remote.Remote.push'.\n",
      " |      :param env: Optional dictionary containing the desired environment variables.\n",
      " |          Note: Provided variables will be used to update the execution\n",
      " |          environment for `git`. If some variable is not specified in `env`\n",
      " |          and is defined in `os.environ`, value from `os.environ` will be used.\n",
      " |          If you want to unset some variable, consider providing empty string\n",
      " |          as its value.\n",
      " |      :param multi_options: See ``clone`` method\n",
      " |      :param kwargs: see the ``clone`` method\n",
      " |      :return: Repo instance pointing to the cloned directory\n",
      " |  \n",
      " |  init(path=None, mkdir=True, odbt=<class 'git.db.GitCmdObjectDB'>, expand_vars=True, **kwargs) from builtins.type\n",
      " |      Initialize a git repository at the given path if specified\n",
      " |      \n",
      " |      :param path:\n",
      " |          is the full path to the repo (traditionally ends with /<name>.git)\n",
      " |          or None in which case the repository will be created in the current\n",
      " |          working directory\n",
      " |      \n",
      " |      :param mkdir:\n",
      " |          if specified will create the repository directory if it doesn't\n",
      " |          already exists. Creates the directory with a mode=0755.\n",
      " |          Only effective if a path is explicitly given\n",
      " |      \n",
      " |      :param odbt:\n",
      " |          Object DataBase type - a type which is constructed by providing\n",
      " |          the directory containing the database objects, i.e. .git/objects.\n",
      " |          It will be used to access all object data\n",
      " |      \n",
      " |      :param expand_vars:\n",
      " |          if specified, environment variables will not be escaped. This\n",
      " |          can lead to information disclosure, allowing attackers to\n",
      " |          access the contents of environment variables\n",
      " |      \n",
      " |      :param kwargs:\n",
      " |          keyword arguments serving as additional options to the git-init command\n",
      " |      \n",
      " |      :return: ``git.Repo`` (the newly created repo)\n",
      " |  \n",
      " |  ----------------------------------------------------------------------\n",
      " |  Data descriptors defined here:\n",
      " |  \n",
      " |  __dict__\n",
      " |      dictionary for instance variables (if defined)\n",
      " |  \n",
      " |  __weakref__\n",
      " |      list of weak references to the object (if defined)\n",
      " |  \n",
      " |  active_branch\n",
      " |      The name of the currently active branch.\n",
      " |      \n",
      " |      :return: Head to the active branch\n",
      " |  \n",
      " |  alternates\n",
      " |      Retrieve a list of alternates paths or set a list paths to be used as alternates\n",
      " |  \n",
      " |  bare\n",
      " |      :return: True if the repository is bare\n",
      " |  \n",
      " |  branches\n",
      " |      A list of ``Head`` objects representing the branch heads in\n",
      " |      this repo\n",
      " |      \n",
      " |      :return: ``git.IterableList(Head, ...)``\n",
      " |  \n",
      " |  common_dir\n",
      " |      :return: The git dir that holds everything except possibly HEAD,\n",
      " |      FETCH_HEAD, ORIG_HEAD, COMMIT_EDITMSG, index, and logs/ .\n",
      " |  \n",
      " |  daemon_export\n",
      " |      If True, git-daemon may export this repository\n",
      " |  \n",
      " |  description\n",
      " |      the project's description\n",
      " |  \n",
      " |  head\n",
      " |      :return: HEAD Object pointing to the current head reference\n",
      " |  \n",
      " |  heads\n",
      " |      A list of ``Head`` objects representing the branch heads in\n",
      " |      this repo\n",
      " |      \n",
      " |      :return: ``git.IterableList(Head, ...)``\n",
      " |  \n",
      " |  index\n",
      " |      :return: IndexFile representing this repository's index.\n",
      " |      :note: This property can be expensive, as the returned ``IndexFile`` will be\n",
      " |       reinitialized. It's recommended to re-use the object.\n",
      " |  \n",
      " |  references\n",
      " |      A list of Reference objects representing tags, heads and remote references.\n",
      " |      \n",
      " |      :return: IterableList(Reference, ...)\n",
      " |  \n",
      " |  refs\n",
      " |      A list of Reference objects representing tags, heads and remote references.\n",
      " |      \n",
      " |      :return: IterableList(Reference, ...)\n",
      " |  \n",
      " |  remotes\n",
      " |      A list of Remote objects allowing to access and manipulate remotes\n",
      " |      :return: ``git.IterableList(Remote, ...)``\n",
      " |  \n",
      " |  submodules\n",
      " |      :return: git.IterableList(Submodule, ...) of direct submodules\n",
      " |          available from the current head\n",
      " |  \n",
      " |  tags\n",
      " |      A list of ``Tag`` objects that are available in this repo\n",
      " |      :return: ``git.IterableList(TagReference, ...)``\n",
      " |  \n",
      " |  untracked_files\n",
      " |      :return:\n",
      " |          list(str,...)\n",
      " |      \n",
      " |          Files currently untracked as they have not been staged yet. Paths\n",
      " |          are relative to the current working directory of the git command.\n",
      " |      \n",
      " |      :note:\n",
      " |          ignored files will not appear here, i.e. files mentioned in .gitignore\n",
      " |      :note:\n",
      " |          This property is expensive, as no cache is involved. To process the result, please\n",
      " |          consider caching it yourself.\n",
      " |  \n",
      " |  working_tree_dir\n",
      " |      :return: The working tree directory of our git repository. If this is a bare repository, None is returned.\n",
      " |  \n",
      " |  ----------------------------------------------------------------------\n",
      " |  Data and other attributes defined here:\n",
      " |  \n",
      " |  DAEMON_EXPORT_FILE = 'git-daemon-export-ok'\n",
      " |  \n",
      " |  GitCommandWrapperType = <class 'git.cmd.Git'>\n",
      " |      The Git class manages communication with the Git binary.\n",
      " |      \n",
      " |      It provides a convenient interface to calling the Git binary, such as in::\n",
      " |      \n",
      " |       g = Git( git_dir )\n",
      " |       g.init()                   # calls 'git init' program\n",
      " |       rval = g.ls_files()        # calls 'git ls-files' program\n",
      " |      \n",
      " |      ``Debugging``\n",
      " |          Set the GIT_PYTHON_TRACE environment variable print each invocation\n",
      " |          of the command to stdout.\n",
      " |          Set its value to 'full' to see details about the returned values.\n",
      " |  \n",
      " |  config_level = ('system', 'user', 'global', 'repository')\n",
      " |  \n",
      " |  git = None\n",
      " |  \n",
      " |  git_dir = None\n",
      " |  \n",
      " |  re_author_committer_start = re.compile('^(author|committer)')\n",
      " |  \n",
      " |  re_hexsha_only = re.compile('^[0-9A-Fa-f]{40}$')\n",
      " |  \n",
      " |  re_hexsha_shortened = re.compile('^[0-9A-Fa-f]{4,40}$')\n",
      " |  \n",
      " |  re_tab_full_line = re.compile('^\\\\t(.*)$')\n",
      " |  \n",
      " |  re_whitespace = re.compile('\\\\s+')\n",
      " |  \n",
      " |  working_dir = None\n",
      "\n"
     ]
    }
   ],
   "source": [
    "help(Repo)"
   ]
  },
  {
   "cell_type": "code",
   "execution_count": null,
   "metadata": {},
   "outputs": [
    {
     "ename": "FileNotFoundError",
     "evalue": "[Errno 2] No such file or directory: '/home/jupyter-sheng_wei/a-git-python-repo'",
     "output_type": "error",
     "traceback": [
      "\u001b[0;31m---------------------------------------------------------------------------\u001b[0m",
      "\u001b[0;31mFileNotFoundError\u001b[0m                         Traceback (most recent call last)",
      "\u001b[0;32m<ipython-input-15-5edaeaf7489e>\u001b[0m in \u001b[0;36m<module>\u001b[0;34m\u001b[0m\n\u001b[1;32m      1\u001b[0m \u001b[0;32mimport\u001b[0m \u001b[0mshutil\u001b[0m\u001b[0;34m\u001b[0m\u001b[0;34m\u001b[0m\u001b[0m\n\u001b[0;32m----> 2\u001b[0;31m \u001b[0mshutil\u001b[0m\u001b[0;34m.\u001b[0m\u001b[0mrmtree\u001b[0m\u001b[0;34m(\u001b[0m\u001b[0mos\u001b[0m\u001b[0;34m.\u001b[0m\u001b[0mpath\u001b[0m\u001b[0;34m.\u001b[0m\u001b[0mexpanduser\u001b[0m\u001b[0;34m(\u001b[0m\u001b[0;34m'~/a-git-python-repo'\u001b[0m\u001b[0;34m)\u001b[0m\u001b[0;34m)\u001b[0m\u001b[0;34m\u001b[0m\u001b[0;34m\u001b[0m\u001b[0m\n\u001b[0m",
      "\u001b[0;32m/opt/tljh/user/lib/python3.6/shutil.py\u001b[0m in \u001b[0;36mrmtree\u001b[0;34m(path, ignore_errors, onerror)\u001b[0m\n\u001b[1;32m    469\u001b[0m             \u001b[0morig_st\u001b[0m \u001b[0;34m=\u001b[0m \u001b[0mos\u001b[0m\u001b[0;34m.\u001b[0m\u001b[0mlstat\u001b[0m\u001b[0;34m(\u001b[0m\u001b[0mpath\u001b[0m\u001b[0;34m)\u001b[0m\u001b[0;34m\u001b[0m\u001b[0;34m\u001b[0m\u001b[0m\n\u001b[1;32m    470\u001b[0m         \u001b[0;32mexcept\u001b[0m \u001b[0mException\u001b[0m\u001b[0;34m:\u001b[0m\u001b[0;34m\u001b[0m\u001b[0;34m\u001b[0m\u001b[0m\n\u001b[0;32m--> 471\u001b[0;31m             \u001b[0monerror\u001b[0m\u001b[0;34m(\u001b[0m\u001b[0mos\u001b[0m\u001b[0;34m.\u001b[0m\u001b[0mlstat\u001b[0m\u001b[0;34m,\u001b[0m \u001b[0mpath\u001b[0m\u001b[0;34m,\u001b[0m \u001b[0msys\u001b[0m\u001b[0;34m.\u001b[0m\u001b[0mexc_info\u001b[0m\u001b[0;34m(\u001b[0m\u001b[0;34m)\u001b[0m\u001b[0;34m)\u001b[0m\u001b[0;34m\u001b[0m\u001b[0;34m\u001b[0m\u001b[0m\n\u001b[0m\u001b[1;32m    472\u001b[0m             \u001b[0;32mreturn\u001b[0m\u001b[0;34m\u001b[0m\u001b[0;34m\u001b[0m\u001b[0m\n\u001b[1;32m    473\u001b[0m         \u001b[0;32mtry\u001b[0m\u001b[0;34m:\u001b[0m\u001b[0;34m\u001b[0m\u001b[0;34m\u001b[0m\u001b[0m\n",
      "\u001b[0;32m/opt/tljh/user/lib/python3.6/shutil.py\u001b[0m in \u001b[0;36mrmtree\u001b[0;34m(path, ignore_errors, onerror)\u001b[0m\n\u001b[1;32m    467\u001b[0m         \u001b[0;31m# lstat()/open()/fstat() trick.\u001b[0m\u001b[0;34m\u001b[0m\u001b[0;34m\u001b[0m\u001b[0;34m\u001b[0m\u001b[0m\n\u001b[1;32m    468\u001b[0m         \u001b[0;32mtry\u001b[0m\u001b[0;34m:\u001b[0m\u001b[0;34m\u001b[0m\u001b[0;34m\u001b[0m\u001b[0m\n\u001b[0;32m--> 469\u001b[0;31m             \u001b[0morig_st\u001b[0m \u001b[0;34m=\u001b[0m \u001b[0mos\u001b[0m\u001b[0;34m.\u001b[0m\u001b[0mlstat\u001b[0m\u001b[0;34m(\u001b[0m\u001b[0mpath\u001b[0m\u001b[0;34m)\u001b[0m\u001b[0;34m\u001b[0m\u001b[0;34m\u001b[0m\u001b[0m\n\u001b[0m\u001b[1;32m    470\u001b[0m         \u001b[0;32mexcept\u001b[0m \u001b[0mException\u001b[0m\u001b[0;34m:\u001b[0m\u001b[0;34m\u001b[0m\u001b[0;34m\u001b[0m\u001b[0m\n\u001b[1;32m    471\u001b[0m             \u001b[0monerror\u001b[0m\u001b[0;34m(\u001b[0m\u001b[0mos\u001b[0m\u001b[0;34m.\u001b[0m\u001b[0mlstat\u001b[0m\u001b[0;34m,\u001b[0m \u001b[0mpath\u001b[0m\u001b[0;34m,\u001b[0m \u001b[0msys\u001b[0m\u001b[0;34m.\u001b[0m\u001b[0mexc_info\u001b[0m\u001b[0;34m(\u001b[0m\u001b[0;34m)\u001b[0m\u001b[0;34m)\u001b[0m\u001b[0;34m\u001b[0m\u001b[0;34m\u001b[0m\u001b[0m\n",
      "\u001b[0;31mFileNotFoundError\u001b[0m: [Errno 2] No such file or directory: '/home/jupyter-sheng_wei/a-git-python-repo'"
     ]
    }
   ],
   "source": [
    "import shutil\n",
    "shutil.rmtree(os.path.expanduser('~/a-git-python-repo'))"
   ]
  },
  {
   "cell_type": "code",
   "execution_count": null,
   "metadata": {},
   "outputs": [],
   "source": [
    "os.mkdir(os.path.expanduser('~/a-git-python-repo'))"
   ]
  },
  {
   "cell_type": "code",
   "execution_count": null,
   "metadata": {},
   "outputs": [],
   "source": [
    "os.chdir(os.path.expanduser('~/a-git-python-repo'))"
   ]
  },
  {
   "cell_type": "code",
   "execution_count": null,
   "metadata": {},
   "outputs": [
    {
     "data": {
      "text/plain": [
       "[]"
      ]
     },
     "execution_count": null,
     "metadata": {},
     "output_type": "execute_result"
    }
   ],
   "source": [
    "os.listdir()"
   ]
  },
  {
   "cell_type": "code",
   "execution_count": null,
   "metadata": {},
   "outputs": [],
   "source": [
    "test_repo = Repo.init()"
   ]
  },
  {
   "cell_type": "code",
   "execution_count": null,
   "metadata": {},
   "outputs": [
    {
     "data": {
      "text/plain": [
       "False"
      ]
     },
     "execution_count": null,
     "metadata": {},
     "output_type": "execute_result"
    }
   ],
   "source": [
    "test_repo.bare"
   ]
  },
  {
   "cell_type": "code",
   "execution_count": null,
   "metadata": {},
   "outputs": [
    {
     "data": {
      "text/plain": [
       "'/home/jupyter-sheng_wei/a-git-python-repo'"
      ]
     },
     "execution_count": null,
     "metadata": {},
     "output_type": "execute_result"
    }
   ],
   "source": [
    "test_repo.working_dir"
   ]
  },
  {
   "cell_type": "code",
   "execution_count": null,
   "metadata": {},
   "outputs": [
    {
     "data": {
      "text/plain": [
       "'/home/jupyter-sheng_wei/a-git-python-repo'"
      ]
     },
     "execution_count": null,
     "metadata": {},
     "output_type": "execute_result"
    }
   ],
   "source": [
    "test_repo.working_tree_dir"
   ]
  },
  {
   "cell_type": "code",
   "execution_count": null,
   "metadata": {},
   "outputs": [
    {
     "data": {
      "text/plain": [
       "'/home/jupyter-sheng_wei/a-git-python-repo/.git'"
      ]
     },
     "execution_count": null,
     "metadata": {},
     "output_type": "execute_result"
    }
   ],
   "source": [
    "test_repo.git_dir"
   ]
  },
  {
   "cell_type": "code",
   "execution_count": null,
   "metadata": {},
   "outputs": [
    {
     "data": {
      "text/plain": [
       "['.git']"
      ]
     },
     "execution_count": null,
     "metadata": {},
     "output_type": "execute_result"
    }
   ],
   "source": [
    "os.listdir()"
   ]
  },
  {
   "cell_type": "code",
   "execution_count": null,
   "metadata": {},
   "outputs": [],
   "source": [
    "test_repo = Repo.init(os.path.expanduser('~/a-git-python-repo'))"
   ]
  },
  {
   "cell_type": "code",
   "execution_count": null,
   "metadata": {},
   "outputs": [
    {
     "data": {
      "text/plain": [
       "False"
      ]
     },
     "execution_count": null,
     "metadata": {},
     "output_type": "execute_result"
    }
   ],
   "source": [
    "test_repo.bare"
   ]
  },
  {
   "cell_type": "code",
   "execution_count": null,
   "metadata": {},
   "outputs": [
    {
     "data": {
      "text/plain": [
       "'/home/jupyter-sheng_wei/a-git-python-repo'"
      ]
     },
     "execution_count": null,
     "metadata": {},
     "output_type": "execute_result"
    }
   ],
   "source": [
    "test_repo.working_dir"
   ]
  },
  {
   "cell_type": "code",
   "execution_count": null,
   "metadata": {},
   "outputs": [
    {
     "data": {
      "text/plain": [
       "'/home/jupyter-sheng_wei/a-git-python-repo'"
      ]
     },
     "execution_count": null,
     "metadata": {},
     "output_type": "execute_result"
    }
   ],
   "source": [
    "test_repo.working_tree_dir"
   ]
  },
  {
   "cell_type": "code",
   "execution_count": null,
   "metadata": {},
   "outputs": [
    {
     "data": {
      "text/plain": [
       "'/home/jupyter-sheng_wei/a-git-python-repo/.git'"
      ]
     },
     "execution_count": null,
     "metadata": {},
     "output_type": "execute_result"
    }
   ],
   "source": [
    "test_repo.git_dir"
   ]
  },
  {
   "cell_type": "code",
   "execution_count": null,
   "metadata": {},
   "outputs": [
    {
     "data": {
      "text/plain": [
       "['.git']"
      ]
     },
     "execution_count": null,
     "metadata": {},
     "output_type": "execute_result"
    }
   ],
   "source": [
    "os.listdir()"
   ]
  },
  {
   "cell_type": "code",
   "execution_count": null,
   "metadata": {},
   "outputs": [],
   "source": [
    "with open('test', 'w'): pass"
   ]
  },
  {
   "cell_type": "code",
   "execution_count": null,
   "metadata": {},
   "outputs": [
    {
     "data": {
      "text/plain": [
       "['test', '.git']"
      ]
     },
     "execution_count": null,
     "metadata": {},
     "output_type": "execute_result"
    }
   ],
   "source": [
    "os.listdir()"
   ]
  },
  {
   "cell_type": "code",
   "execution_count": null,
   "metadata": {},
   "outputs": [
    {
     "data": {
      "text/plain": [
       "False"
      ]
     },
     "execution_count": null,
     "metadata": {},
     "output_type": "execute_result"
    }
   ],
   "source": [
    "test_repo.is_dirty()"
   ]
  },
  {
   "cell_type": "code",
   "execution_count": null,
   "metadata": {},
   "outputs": [
    {
     "data": {
      "text/plain": [
       "<git.Repo \"/home/jupyter-sheng_wei/a-git-python-repo/.git\">"
      ]
     },
     "execution_count": null,
     "metadata": {},
     "output_type": "execute_result"
    }
   ],
   "source": [
    "Repo.init(os.path.expanduser('~/a-git-python-repo'))"
   ]
  },
  {
   "cell_type": "code",
   "execution_count": null,
   "metadata": {},
   "outputs": [
    {
     "data": {
      "text/plain": [
       "['test', '.git']"
      ]
     },
     "execution_count": null,
     "metadata": {},
     "output_type": "execute_result"
    }
   ],
   "source": [
    "os.listdir()"
   ]
  },
  {
   "cell_type": "code",
   "execution_count": null,
   "metadata": {},
   "outputs": [],
   "source": [
    "shutil.rmtree(os.path.expanduser('~/a-git-python-repo'))"
   ]
  },
  {
   "cell_type": "code",
   "execution_count": null,
   "metadata": {},
   "outputs": [
    {
     "data": {
      "text/plain": [
       "<git.Repo \"/home/jupyter-sheng_wei/a-git-python-repo/.git\">"
      ]
     },
     "execution_count": null,
     "metadata": {},
     "output_type": "execute_result"
    }
   ],
   "source": [
    "Repo.init(os.path.expanduser('~/a-git-python-repo'))"
   ]
  },
  {
   "cell_type": "code",
   "execution_count": null,
   "metadata": {},
   "outputs": [
    {
     "data": {
      "text/plain": [
       "'/home/jupyter-sheng_wei/a-git-python-repo'"
      ]
     },
     "execution_count": null,
     "metadata": {},
     "output_type": "execute_result"
    }
   ],
   "source": [
    "os.chdir(os.path.expanduser('~/a-git-python-repo'))\n",
    "os.getcwd()"
   ]
  },
  {
   "cell_type": "code",
   "execution_count": null,
   "metadata": {},
   "outputs": [
    {
     "data": {
      "text/plain": [
       "['.git']"
      ]
     },
     "execution_count": null,
     "metadata": {},
     "output_type": "execute_result"
    }
   ],
   "source": [
    "os.listdir()"
   ]
  },
  {
   "cell_type": "code",
   "execution_count": null,
   "metadata": {},
   "outputs": [
    {
     "data": {
      "text/plain": [
       "['.git']"
      ]
     },
     "execution_count": null,
     "metadata": {},
     "output_type": "execute_result"
    }
   ],
   "source": [
    "os.listdir(os.path.expanduser('~/a-git-python-repo'))"
   ]
  },
  {
   "cell_type": "code",
   "execution_count": null,
   "metadata": {},
   "outputs": [],
   "source": [
    "shutil.rmtree(os.path.expanduser('~/a-git-python-repo'))"
   ]
  },
  {
   "cell_type": "code",
   "execution_count": null,
   "metadata": {},
   "outputs": [
    {
     "name": "stderr",
     "output_type": "stream",
     "text": [
      "ERROR: Internal Python error in the inspect module.\n",
      "Below is the traceback from this internal error.\n",
      "\n"
     ]
    },
    {
     "name": "stdout",
     "output_type": "stream",
     "text": [
      "Traceback (most recent call last):\n",
      "  File \"/opt/tljh/user/lib/python3.6/site-packages/IPython/core/interactiveshell.py\", line 3326, in run_code\n",
      "    exec(code_obj, self.user_global_ns, self.user_ns)\n",
      "  File \"<ipython-input-42-a78b1fb2bab9>\", line 1, in <module>\n",
      "    os.getcwd()\n",
      "FileNotFoundError: [Errno 2] No such file or directory\n",
      "\n",
      "During handling of the above exception, another exception occurred:\n",
      "\n",
      "Traceback (most recent call last):\n",
      "  File \"/opt/tljh/user/lib/python3.6/site-packages/IPython/core/interactiveshell.py\", line 2040, in showtraceback\n",
      "    stb = value._render_traceback_()\n",
      "AttributeError: 'FileNotFoundError' object has no attribute '_render_traceback_'\n",
      "\n",
      "During handling of the above exception, another exception occurred:\n",
      "\n",
      "Traceback (most recent call last):\n",
      "  File \"/opt/tljh/user/lib/python3.6/site-packages/IPython/core/ultratb.py\", line 1101, in get_records\n",
      "    return _fixed_getinnerframes(etb, number_of_lines_of_context, tb_offset)\n",
      "  File \"/opt/tljh/user/lib/python3.6/site-packages/IPython/core/ultratb.py\", line 319, in wrapped\n",
      "    return f(*args, **kwargs)\n",
      "  File \"/opt/tljh/user/lib/python3.6/site-packages/IPython/core/ultratb.py\", line 353, in _fixed_getinnerframes\n",
      "    records = fix_frame_records_filenames(inspect.getinnerframes(etb, context))\n",
      "  File \"/opt/tljh/user/lib/python3.6/inspect.py\", line 1488, in getinnerframes\n",
      "    frameinfo = (tb.tb_frame,) + getframeinfo(tb, context)\n",
      "  File \"/opt/tljh/user/lib/python3.6/inspect.py\", line 1446, in getframeinfo\n",
      "    filename = getsourcefile(frame) or getfile(frame)\n",
      "  File \"/opt/tljh/user/lib/python3.6/inspect.py\", line 696, in getsourcefile\n",
      "    if getattr(getmodule(object, filename), '__loader__', None) is not None:\n",
      "  File \"/opt/tljh/user/lib/python3.6/inspect.py\", line 725, in getmodule\n",
      "    file = getabsfile(object, _filename)\n",
      "  File \"/opt/tljh/user/lib/python3.6/inspect.py\", line 709, in getabsfile\n",
      "    return os.path.normcase(os.path.abspath(_filename))\n",
      "  File \"/opt/tljh/user/lib/python3.6/posixpath.py\", line 376, in abspath\n",
      "    cwd = os.getcwd()\n",
      "FileNotFoundError: [Errno 2] No such file or directory\n",
      "\n",
      "Unfortunately, your original traceback can not be constructed.\n",
      "\n"
     ]
    },
    {
     "ename": "FileNotFoundError",
     "evalue": "[Errno 2] No such file or directory",
     "output_type": "error",
     "traceback": [
      "\u001b[0;31m---------------------------------------------------------------------------\u001b[0m"
     ]
    }
   ],
   "source": [
    "os.getcwd()"
   ]
  },
  {
   "cell_type": "code",
   "execution_count": null,
   "metadata": {},
   "outputs": [
    {
     "data": {
      "text/plain": [
       "<git.Repo \"/home/jupyter-sheng_wei/a-git-python-repo/.git\">"
      ]
     },
     "execution_count": null,
     "metadata": {},
     "output_type": "execute_result"
    }
   ],
   "source": [
    "Repo.init(os.path.expanduser('~/a-git-python-repo'))"
   ]
  },
  {
   "cell_type": "code",
   "execution_count": null,
   "metadata": {},
   "outputs": [
    {
     "name": "stderr",
     "output_type": "stream",
     "text": [
      "ERROR: Internal Python error in the inspect module.\n",
      "Below is the traceback from this internal error.\n",
      "\n"
     ]
    },
    {
     "name": "stdout",
     "output_type": "stream",
     "text": [
      "Traceback (most recent call last):\n",
      "  File \"/opt/tljh/user/lib/python3.6/site-packages/IPython/core/interactiveshell.py\", line 3326, in run_code\n",
      "    exec(code_obj, self.user_global_ns, self.user_ns)\n",
      "  File \"<ipython-input-44-a78b1fb2bab9>\", line 1, in <module>\n",
      "    os.getcwd()\n",
      "FileNotFoundError: [Errno 2] No such file or directory\n",
      "\n",
      "During handling of the above exception, another exception occurred:\n",
      "\n",
      "Traceback (most recent call last):\n",
      "  File \"/opt/tljh/user/lib/python3.6/site-packages/IPython/core/interactiveshell.py\", line 2040, in showtraceback\n",
      "    stb = value._render_traceback_()\n",
      "AttributeError: 'FileNotFoundError' object has no attribute '_render_traceback_'\n",
      "\n",
      "During handling of the above exception, another exception occurred:\n",
      "\n",
      "Traceback (most recent call last):\n",
      "  File \"/opt/tljh/user/lib/python3.6/site-packages/IPython/core/ultratb.py\", line 1101, in get_records\n",
      "    return _fixed_getinnerframes(etb, number_of_lines_of_context, tb_offset)\n",
      "  File \"/opt/tljh/user/lib/python3.6/site-packages/IPython/core/ultratb.py\", line 319, in wrapped\n",
      "    return f(*args, **kwargs)\n",
      "  File \"/opt/tljh/user/lib/python3.6/site-packages/IPython/core/ultratb.py\", line 353, in _fixed_getinnerframes\n",
      "    records = fix_frame_records_filenames(inspect.getinnerframes(etb, context))\n",
      "  File \"/opt/tljh/user/lib/python3.6/inspect.py\", line 1488, in getinnerframes\n",
      "    frameinfo = (tb.tb_frame,) + getframeinfo(tb, context)\n",
      "  File \"/opt/tljh/user/lib/python3.6/inspect.py\", line 1446, in getframeinfo\n",
      "    filename = getsourcefile(frame) or getfile(frame)\n",
      "  File \"/opt/tljh/user/lib/python3.6/inspect.py\", line 696, in getsourcefile\n",
      "    if getattr(getmodule(object, filename), '__loader__', None) is not None:\n",
      "  File \"/opt/tljh/user/lib/python3.6/inspect.py\", line 725, in getmodule\n",
      "    file = getabsfile(object, _filename)\n",
      "  File \"/opt/tljh/user/lib/python3.6/inspect.py\", line 709, in getabsfile\n",
      "    return os.path.normcase(os.path.abspath(_filename))\n",
      "  File \"/opt/tljh/user/lib/python3.6/posixpath.py\", line 376, in abspath\n",
      "    cwd = os.getcwd()\n",
      "FileNotFoundError: [Errno 2] No such file or directory\n",
      "\n",
      "Unfortunately, your original traceback can not be constructed.\n",
      "\n"
     ]
    },
    {
     "ename": "FileNotFoundError",
     "evalue": "[Errno 2] No such file or directory",
     "output_type": "error",
     "traceback": [
      "\u001b[0;31m---------------------------------------------------------------------------\u001b[0m"
     ]
    }
   ],
   "source": [
    "os.getcwd()"
   ]
  },
  {
   "cell_type": "code",
   "execution_count": null,
   "metadata": {},
   "outputs": [
    {
     "data": {
      "text/plain": [
       "'/home/jupyter-sheng_wei/a-git-python-repo'"
      ]
     },
     "execution_count": null,
     "metadata": {},
     "output_type": "execute_result"
    }
   ],
   "source": [
    "os.chdir(os.path.expanduser('~/a-git-python-repo'))\n",
    "os.getcwd()"
   ]
  },
  {
   "cell_type": "code",
   "execution_count": null,
   "metadata": {},
   "outputs": [
    {
     "data": {
      "text/plain": [
       "['.git']"
      ]
     },
     "execution_count": null,
     "metadata": {},
     "output_type": "execute_result"
    }
   ],
   "source": [
    "os.listdir()"
   ]
  },
  {
   "cell_type": "code",
   "execution_count": null,
   "metadata": {},
   "outputs": [],
   "source": [
    "with open('test', 'w'): pass"
   ]
  },
  {
   "cell_type": "code",
   "execution_count": null,
   "metadata": {},
   "outputs": [
    {
     "data": {
      "text/plain": [
       "['test', '.git']"
      ]
     },
     "execution_count": null,
     "metadata": {},
     "output_type": "execute_result"
    }
   ],
   "source": [
    "os.listdir()"
   ]
  },
  {
   "cell_type": "code",
   "execution_count": null,
   "metadata": {},
   "outputs": [
    {
     "data": {
      "text/plain": [
       "<git.Repo \"/home/jupyter-sheng_wei/a-git-python-repo/.git\">"
      ]
     },
     "execution_count": null,
     "metadata": {},
     "output_type": "execute_result"
    }
   ],
   "source": [
    "Repo.init()"
   ]
  },
  {
   "cell_type": "code",
   "execution_count": null,
   "metadata": {},
   "outputs": [
    {
     "data": {
      "text/plain": [
       "['test', '.git']"
      ]
     },
     "execution_count": null,
     "metadata": {},
     "output_type": "execute_result"
    }
   ],
   "source": [
    "os.listdir()"
   ]
  },
  {
   "cell_type": "code",
   "execution_count": null,
   "metadata": {},
   "outputs": [
    {
     "data": {
      "text/plain": [
       "<git.Repo \"/home/jupyter-sheng_wei/a-git-python-repo/.git\">"
      ]
     },
     "execution_count": null,
     "metadata": {},
     "output_type": "execute_result"
    }
   ],
   "source": [
    "Repo.init(os.path.expanduser('~/a-git-python-repo'))"
   ]
  },
  {
   "cell_type": "code",
   "execution_count": null,
   "metadata": {},
   "outputs": [
    {
     "data": {
      "text/plain": [
       "['test', '.git']"
      ]
     },
     "execution_count": null,
     "metadata": {},
     "output_type": "execute_result"
    }
   ],
   "source": [
    "os.listdir()"
   ]
  },
  {
   "cell_type": "code",
   "execution_count": null,
   "metadata": {},
   "outputs": [],
   "source": [
    "shutil.rmtree(os.path.expanduser('~/a-git-python-repo'))"
   ]
  },
  {
   "cell_type": "code",
   "execution_count": null,
   "metadata": {},
   "outputs": [
    {
     "name": "stderr",
     "output_type": "stream",
     "text": [
      "ERROR: Internal Python error in the inspect module.\n",
      "Below is the traceback from this internal error.\n",
      "\n"
     ]
    },
    {
     "name": "stdout",
     "output_type": "stream",
     "text": [
      "Traceback (most recent call last):\n",
      "  File \"/opt/tljh/user/lib/python3.6/site-packages/IPython/core/interactiveshell.py\", line 3326, in run_code\n",
      "    exec(code_obj, self.user_global_ns, self.user_ns)\n",
      "  File \"<ipython-input-54-fa8e4de28622>\", line 1, in <module>\n",
      "    Repo(os.path.expanduser('~/a-git-python-repo'))\n",
      "  File \"/opt/tljh/user/lib/python3.6/site-packages/git/repo/base.py\", line 133, in __init__\n",
      "    raise NoSuchPathError(epath)\n",
      "git.exc.NoSuchPathError: /home/jupyter-sheng_wei/a-git-python-repo\n",
      "\n",
      "During handling of the above exception, another exception occurred:\n",
      "\n",
      "Traceback (most recent call last):\n",
      "  File \"/opt/tljh/user/lib/python3.6/site-packages/IPython/core/interactiveshell.py\", line 2040, in showtraceback\n",
      "    stb = value._render_traceback_()\n",
      "AttributeError: 'NoSuchPathError' object has no attribute '_render_traceback_'\n",
      "\n",
      "During handling of the above exception, another exception occurred:\n",
      "\n",
      "Traceback (most recent call last):\n",
      "  File \"/opt/tljh/user/lib/python3.6/site-packages/IPython/core/ultratb.py\", line 1101, in get_records\n",
      "    return _fixed_getinnerframes(etb, number_of_lines_of_context, tb_offset)\n",
      "  File \"/opt/tljh/user/lib/python3.6/site-packages/IPython/core/ultratb.py\", line 319, in wrapped\n",
      "    return f(*args, **kwargs)\n",
      "  File \"/opt/tljh/user/lib/python3.6/site-packages/IPython/core/ultratb.py\", line 353, in _fixed_getinnerframes\n",
      "    records = fix_frame_records_filenames(inspect.getinnerframes(etb, context))\n",
      "  File \"/opt/tljh/user/lib/python3.6/inspect.py\", line 1488, in getinnerframes\n",
      "    frameinfo = (tb.tb_frame,) + getframeinfo(tb, context)\n",
      "  File \"/opt/tljh/user/lib/python3.6/inspect.py\", line 1446, in getframeinfo\n",
      "    filename = getsourcefile(frame) or getfile(frame)\n",
      "  File \"/opt/tljh/user/lib/python3.6/inspect.py\", line 696, in getsourcefile\n",
      "    if getattr(getmodule(object, filename), '__loader__', None) is not None:\n",
      "  File \"/opt/tljh/user/lib/python3.6/inspect.py\", line 725, in getmodule\n",
      "    file = getabsfile(object, _filename)\n",
      "  File \"/opt/tljh/user/lib/python3.6/inspect.py\", line 709, in getabsfile\n",
      "    return os.path.normcase(os.path.abspath(_filename))\n",
      "  File \"/opt/tljh/user/lib/python3.6/posixpath.py\", line 376, in abspath\n",
      "    cwd = os.getcwd()\n",
      "FileNotFoundError: [Errno 2] No such file or directory\n",
      "\n",
      "Unfortunately, your original traceback can not be constructed.\n",
      "\n"
     ]
    },
    {
     "ename": "NoSuchPathError",
     "evalue": "/home/jupyter-sheng_wei/a-git-python-repo",
     "output_type": "error",
     "traceback": [
      "\u001b[0;31m---------------------------------------------------------------------------\u001b[0m"
     ]
    }
   ],
   "source": [
    "Repo(os.path.expanduser('~/a-git-python-repo'))"
   ]
  },
  {
   "cell_type": "code",
   "execution_count": null,
   "metadata": {},
   "outputs": [],
   "source": [
    "os.chdir(os.path.expanduser('~'))"
   ]
  },
  {
   "cell_type": "code",
   "execution_count": null,
   "metadata": {},
   "outputs": [],
   "source": [
    "os.mkdir('a-git-python-repo')"
   ]
  },
  {
   "cell_type": "code",
   "execution_count": null,
   "metadata": {},
   "outputs": [],
   "source": [
    "os.chdir('a-git-python-repo')"
   ]
  },
  {
   "cell_type": "code",
   "execution_count": null,
   "metadata": {},
   "outputs": [
    {
     "data": {
      "text/plain": [
       "'/home/jupyter-sheng_wei/a-git-python-repo'"
      ]
     },
     "execution_count": null,
     "metadata": {},
     "output_type": "execute_result"
    }
   ],
   "source": [
    "os.getcwd()"
   ]
  },
  {
   "cell_type": "code",
   "execution_count": null,
   "metadata": {},
   "outputs": [],
   "source": [
    "os.chdir(os.path.expanduser('~'))"
   ]
  },
  {
   "cell_type": "code",
   "execution_count": null,
   "metadata": {},
   "outputs": [
    {
     "ename": "InvalidGitRepositoryError",
     "evalue": "/home/jupyter-sheng_wei/a-git-python-repo",
     "output_type": "error",
     "traceback": [
      "\u001b[0;31m---------------------------------------------------------------------------\u001b[0m",
      "\u001b[0;31mInvalidGitRepositoryError\u001b[0m                 Traceback (most recent call last)",
      "\u001b[0;32m<ipython-input-60-4f6b7cbd37aa>\u001b[0m in \u001b[0;36m<module>\u001b[0;34m\u001b[0m\n\u001b[0;32m----> 1\u001b[0;31m \u001b[0mRepo\u001b[0m\u001b[0;34m(\u001b[0m\u001b[0;34m'a-git-python-repo'\u001b[0m\u001b[0;34m)\u001b[0m\u001b[0;34m\u001b[0m\u001b[0;34m\u001b[0m\u001b[0m\n\u001b[0m",
      "\u001b[0;32m/opt/tljh/user/lib/python3.6/site-packages/git/repo/base.py\u001b[0m in \u001b[0;36m__init__\u001b[0;34m(self, path, odbt, search_parent_directories, expand_vars)\u001b[0m\n\u001b[1;32m    182\u001b[0m \u001b[0;34m\u001b[0m\u001b[0m\n\u001b[1;32m    183\u001b[0m         \u001b[0;32mif\u001b[0m \u001b[0mself\u001b[0m\u001b[0;34m.\u001b[0m\u001b[0mgit_dir\u001b[0m \u001b[0;32mis\u001b[0m \u001b[0;32mNone\u001b[0m\u001b[0;34m:\u001b[0m\u001b[0;34m\u001b[0m\u001b[0;34m\u001b[0m\u001b[0m\n\u001b[0;32m--> 184\u001b[0;31m             \u001b[0;32mraise\u001b[0m \u001b[0mInvalidGitRepositoryError\u001b[0m\u001b[0;34m(\u001b[0m\u001b[0mepath\u001b[0m\u001b[0;34m)\u001b[0m\u001b[0;34m\u001b[0m\u001b[0;34m\u001b[0m\u001b[0m\n\u001b[0m\u001b[1;32m    185\u001b[0m \u001b[0;34m\u001b[0m\u001b[0m\n\u001b[1;32m    186\u001b[0m         \u001b[0mself\u001b[0m\u001b[0;34m.\u001b[0m\u001b[0m_bare\u001b[0m \u001b[0;34m=\u001b[0m \u001b[0;32mFalse\u001b[0m\u001b[0;34m\u001b[0m\u001b[0;34m\u001b[0m\u001b[0m\n",
      "\u001b[0;31mInvalidGitRepositoryError\u001b[0m: /home/jupyter-sheng_wei/a-git-python-repo"
     ]
    }
   ],
   "source": [
    "Repo('a-git-python-repo')"
   ]
  },
  {
   "cell_type": "code",
   "execution_count": null,
   "metadata": {},
   "outputs": [
    {
     "ename": "InvalidGitRepositoryError",
     "evalue": "/home/jupyter-sheng_wei/a-git-python-repo",
     "output_type": "error",
     "traceback": [
      "\u001b[0;31m---------------------------------------------------------------------------\u001b[0m",
      "\u001b[0;31mInvalidGitRepositoryError\u001b[0m                 Traceback (most recent call last)",
      "\u001b[0;32m<ipython-input-61-fa8e4de28622>\u001b[0m in \u001b[0;36m<module>\u001b[0;34m\u001b[0m\n\u001b[0;32m----> 1\u001b[0;31m \u001b[0mRepo\u001b[0m\u001b[0;34m(\u001b[0m\u001b[0mos\u001b[0m\u001b[0;34m.\u001b[0m\u001b[0mpath\u001b[0m\u001b[0;34m.\u001b[0m\u001b[0mexpanduser\u001b[0m\u001b[0;34m(\u001b[0m\u001b[0;34m'~/a-git-python-repo'\u001b[0m\u001b[0;34m)\u001b[0m\u001b[0;34m)\u001b[0m\u001b[0;34m\u001b[0m\u001b[0;34m\u001b[0m\u001b[0m\n\u001b[0m",
      "\u001b[0;32m/opt/tljh/user/lib/python3.6/site-packages/git/repo/base.py\u001b[0m in \u001b[0;36m__init__\u001b[0;34m(self, path, odbt, search_parent_directories, expand_vars)\u001b[0m\n\u001b[1;32m    182\u001b[0m \u001b[0;34m\u001b[0m\u001b[0m\n\u001b[1;32m    183\u001b[0m         \u001b[0;32mif\u001b[0m \u001b[0mself\u001b[0m\u001b[0;34m.\u001b[0m\u001b[0mgit_dir\u001b[0m \u001b[0;32mis\u001b[0m \u001b[0;32mNone\u001b[0m\u001b[0;34m:\u001b[0m\u001b[0;34m\u001b[0m\u001b[0;34m\u001b[0m\u001b[0m\n\u001b[0;32m--> 184\u001b[0;31m             \u001b[0;32mraise\u001b[0m \u001b[0mInvalidGitRepositoryError\u001b[0m\u001b[0;34m(\u001b[0m\u001b[0mepath\u001b[0m\u001b[0;34m)\u001b[0m\u001b[0;34m\u001b[0m\u001b[0;34m\u001b[0m\u001b[0m\n\u001b[0m\u001b[1;32m    185\u001b[0m \u001b[0;34m\u001b[0m\u001b[0m\n\u001b[1;32m    186\u001b[0m         \u001b[0mself\u001b[0m\u001b[0;34m.\u001b[0m\u001b[0m_bare\u001b[0m \u001b[0;34m=\u001b[0m \u001b[0;32mFalse\u001b[0m\u001b[0;34m\u001b[0m\u001b[0;34m\u001b[0m\u001b[0m\n",
      "\u001b[0;31mInvalidGitRepositoryError\u001b[0m: /home/jupyter-sheng_wei/a-git-python-repo"
     ]
    }
   ],
   "source": [
    "Repo(os.path.expanduser('~/a-git-python-repo'))"
   ]
  },
  {
   "cell_type": "code",
   "execution_count": null,
   "metadata": {},
   "outputs": [
    {
     "data": {
      "text/plain": [
       "<git.Repo \"/home/jupyter-sheng_wei/a-git-python-repo/.git\">"
      ]
     },
     "execution_count": null,
     "metadata": {},
     "output_type": "execute_result"
    }
   ],
   "source": [
    "Repo.init('a-git-python-repo')"
   ]
  },
  {
   "cell_type": "code",
   "execution_count": null,
   "metadata": {},
   "outputs": [
    {
     "data": {
      "text/plain": [
       "<git.Repo \"/home/jupyter-sheng_wei/a-git-python-repo/.git\">"
      ]
     },
     "execution_count": null,
     "metadata": {},
     "output_type": "execute_result"
    }
   ],
   "source": [
    "Repo('a-git-python-repo')"
   ]
  },
  {
   "cell_type": "code",
   "execution_count": null,
   "metadata": {},
   "outputs": [
    {
     "ename": "GitCommandError",
     "evalue": "Cmd('git') failed due to: exit code(128)\n  cmdline: git clone -v https://github.com/seii-saintway/book-sales.git a-git-python-repo\n  stderr: 'fatal: destination path 'a-git-python-repo' already exists and is not an empty directory.\n'",
     "output_type": "error",
     "traceback": [
      "\u001b[0;31m---------------------------------------------------------------------------\u001b[0m",
      "\u001b[0;31mGitCommandError\u001b[0m                           Traceback (most recent call last)",
      "\u001b[0;32m<ipython-input-64-880ff043af51>\u001b[0m in \u001b[0;36m<module>\u001b[0;34m\u001b[0m\n\u001b[0;32m----> 1\u001b[0;31m \u001b[0mRepo\u001b[0m\u001b[0;34m.\u001b[0m\u001b[0mclone_from\u001b[0m\u001b[0;34m(\u001b[0m\u001b[0;34m'https://github.com/seii-saintway/book-sales.git'\u001b[0m\u001b[0;34m,\u001b[0m \u001b[0;34m'a-git-python-repo'\u001b[0m\u001b[0;34m)\u001b[0m\u001b[0;34m\u001b[0m\u001b[0;34m\u001b[0m\u001b[0m\n\u001b[0m",
      "\u001b[0;32m/opt/tljh/user/lib/python3.6/site-packages/git/repo/base.py\u001b[0m in \u001b[0;36mclone_from\u001b[0;34m(cls, url, to_path, progress, env, multi_options, **kwargs)\u001b[0m\n\u001b[1;32m   1024\u001b[0m         \u001b[0;32mif\u001b[0m \u001b[0menv\u001b[0m \u001b[0;32mis\u001b[0m \u001b[0;32mnot\u001b[0m \u001b[0;32mNone\u001b[0m\u001b[0;34m:\u001b[0m\u001b[0;34m\u001b[0m\u001b[0;34m\u001b[0m\u001b[0m\n\u001b[1;32m   1025\u001b[0m             \u001b[0mgit\u001b[0m\u001b[0;34m.\u001b[0m\u001b[0mupdate_environment\u001b[0m\u001b[0;34m(\u001b[0m\u001b[0;34m**\u001b[0m\u001b[0menv\u001b[0m\u001b[0;34m)\u001b[0m\u001b[0;34m\u001b[0m\u001b[0;34m\u001b[0m\u001b[0m\n\u001b[0;32m-> 1026\u001b[0;31m         \u001b[0;32mreturn\u001b[0m \u001b[0mcls\u001b[0m\u001b[0;34m.\u001b[0m\u001b[0m_clone\u001b[0m\u001b[0;34m(\u001b[0m\u001b[0mgit\u001b[0m\u001b[0;34m,\u001b[0m \u001b[0murl\u001b[0m\u001b[0;34m,\u001b[0m \u001b[0mto_path\u001b[0m\u001b[0;34m,\u001b[0m \u001b[0mGitCmdObjectDB\u001b[0m\u001b[0;34m,\u001b[0m \u001b[0mprogress\u001b[0m\u001b[0;34m,\u001b[0m \u001b[0mmulti_options\u001b[0m\u001b[0;34m,\u001b[0m \u001b[0;34m**\u001b[0m\u001b[0mkwargs\u001b[0m\u001b[0;34m)\u001b[0m\u001b[0;34m\u001b[0m\u001b[0;34m\u001b[0m\u001b[0m\n\u001b[0m\u001b[1;32m   1027\u001b[0m \u001b[0;34m\u001b[0m\u001b[0m\n\u001b[1;32m   1028\u001b[0m     \u001b[0;32mdef\u001b[0m \u001b[0marchive\u001b[0m\u001b[0;34m(\u001b[0m\u001b[0mself\u001b[0m\u001b[0;34m,\u001b[0m \u001b[0mostream\u001b[0m\u001b[0;34m,\u001b[0m \u001b[0mtreeish\u001b[0m\u001b[0;34m=\u001b[0m\u001b[0;32mNone\u001b[0m\u001b[0;34m,\u001b[0m \u001b[0mprefix\u001b[0m\u001b[0;34m=\u001b[0m\u001b[0;32mNone\u001b[0m\u001b[0;34m,\u001b[0m \u001b[0;34m**\u001b[0m\u001b[0mkwargs\u001b[0m\u001b[0;34m)\u001b[0m\u001b[0;34m:\u001b[0m\u001b[0;34m\u001b[0m\u001b[0;34m\u001b[0m\u001b[0m\n",
      "\u001b[0;32m/opt/tljh/user/lib/python3.6/site-packages/git/repo/base.py\u001b[0m in \u001b[0;36m_clone\u001b[0;34m(cls, git, url, path, odb_default_type, progress, multi_options, **kwargs)\u001b[0m\n\u001b[1;32m    965\u001b[0m             \u001b[0;34m(\u001b[0m\u001b[0mstdout\u001b[0m\u001b[0;34m,\u001b[0m \u001b[0mstderr\u001b[0m\u001b[0;34m)\u001b[0m \u001b[0;34m=\u001b[0m \u001b[0mproc\u001b[0m\u001b[0;34m.\u001b[0m\u001b[0mcommunicate\u001b[0m\u001b[0;34m(\u001b[0m\u001b[0;34m)\u001b[0m\u001b[0;34m\u001b[0m\u001b[0;34m\u001b[0m\u001b[0m\n\u001b[1;32m    966\u001b[0m             \u001b[0mlog\u001b[0m\u001b[0;34m.\u001b[0m\u001b[0mdebug\u001b[0m\u001b[0;34m(\u001b[0m\u001b[0;34m\"Cmd(%s)'s unused stdout: %s\"\u001b[0m\u001b[0;34m,\u001b[0m \u001b[0mgetattr\u001b[0m\u001b[0;34m(\u001b[0m\u001b[0mproc\u001b[0m\u001b[0;34m,\u001b[0m \u001b[0;34m'args'\u001b[0m\u001b[0;34m,\u001b[0m \u001b[0;34m''\u001b[0m\u001b[0;34m)\u001b[0m\u001b[0;34m,\u001b[0m \u001b[0mstdout\u001b[0m\u001b[0;34m)\u001b[0m\u001b[0;34m\u001b[0m\u001b[0;34m\u001b[0m\u001b[0m\n\u001b[0;32m--> 967\u001b[0;31m             \u001b[0mfinalize_process\u001b[0m\u001b[0;34m(\u001b[0m\u001b[0mproc\u001b[0m\u001b[0;34m,\u001b[0m \u001b[0mstderr\u001b[0m\u001b[0;34m=\u001b[0m\u001b[0mstderr\u001b[0m\u001b[0;34m)\u001b[0m\u001b[0;34m\u001b[0m\u001b[0;34m\u001b[0m\u001b[0m\n\u001b[0m\u001b[1;32m    968\u001b[0m \u001b[0;34m\u001b[0m\u001b[0m\n\u001b[1;32m    969\u001b[0m         \u001b[0;31m# our git command could have a different working dir than our actual\u001b[0m\u001b[0;34m\u001b[0m\u001b[0;34m\u001b[0m\u001b[0;34m\u001b[0m\u001b[0m\n",
      "\u001b[0;32m/opt/tljh/user/lib/python3.6/site-packages/git/util.py\u001b[0m in \u001b[0;36mfinalize_process\u001b[0;34m(proc, **kwargs)\u001b[0m\n\u001b[1;32m    330\u001b[0m     \u001b[0;34m\"\"\"Wait for the process (clone, fetch, pull or push) and handle its errors accordingly\"\"\"\u001b[0m\u001b[0;34m\u001b[0m\u001b[0;34m\u001b[0m\u001b[0m\n\u001b[1;32m    331\u001b[0m     \u001b[0;31m## TODO: No close proc-streams??\u001b[0m\u001b[0;34m\u001b[0m\u001b[0;34m\u001b[0m\u001b[0;34m\u001b[0m\u001b[0m\n\u001b[0;32m--> 332\u001b[0;31m     \u001b[0mproc\u001b[0m\u001b[0;34m.\u001b[0m\u001b[0mwait\u001b[0m\u001b[0;34m(\u001b[0m\u001b[0;34m**\u001b[0m\u001b[0mkwargs\u001b[0m\u001b[0;34m)\u001b[0m\u001b[0;34m\u001b[0m\u001b[0;34m\u001b[0m\u001b[0m\n\u001b[0m\u001b[1;32m    333\u001b[0m \u001b[0;34m\u001b[0m\u001b[0m\n\u001b[1;32m    334\u001b[0m \u001b[0;34m\u001b[0m\u001b[0m\n",
      "\u001b[0;32m/opt/tljh/user/lib/python3.6/site-packages/git/cmd.py\u001b[0m in \u001b[0;36mwait\u001b[0;34m(self, stderr)\u001b[0m\n\u001b[1;32m    410\u001b[0m                 \u001b[0merrstr\u001b[0m \u001b[0;34m=\u001b[0m \u001b[0mread_all_from_possibly_closed_stream\u001b[0m\u001b[0;34m(\u001b[0m\u001b[0mself\u001b[0m\u001b[0;34m.\u001b[0m\u001b[0mproc\u001b[0m\u001b[0;34m.\u001b[0m\u001b[0mstderr\u001b[0m\u001b[0;34m)\u001b[0m\u001b[0;34m\u001b[0m\u001b[0;34m\u001b[0m\u001b[0m\n\u001b[1;32m    411\u001b[0m                 \u001b[0mlog\u001b[0m\u001b[0;34m.\u001b[0m\u001b[0mdebug\u001b[0m\u001b[0;34m(\u001b[0m\u001b[0;34m'AutoInterrupt wait stderr: %r'\u001b[0m \u001b[0;34m%\u001b[0m \u001b[0;34m(\u001b[0m\u001b[0merrstr\u001b[0m\u001b[0;34m,\u001b[0m\u001b[0;34m)\u001b[0m\u001b[0;34m)\u001b[0m\u001b[0;34m\u001b[0m\u001b[0;34m\u001b[0m\u001b[0m\n\u001b[0;32m--> 412\u001b[0;31m                 \u001b[0;32mraise\u001b[0m \u001b[0mGitCommandError\u001b[0m\u001b[0;34m(\u001b[0m\u001b[0mself\u001b[0m\u001b[0;34m.\u001b[0m\u001b[0margs\u001b[0m\u001b[0;34m,\u001b[0m \u001b[0mstatus\u001b[0m\u001b[0;34m,\u001b[0m \u001b[0merrstr\u001b[0m\u001b[0;34m)\u001b[0m\u001b[0;34m\u001b[0m\u001b[0;34m\u001b[0m\u001b[0m\n\u001b[0m\u001b[1;32m    413\u001b[0m             \u001b[0;31m# END status handling\u001b[0m\u001b[0;34m\u001b[0m\u001b[0;34m\u001b[0m\u001b[0;34m\u001b[0m\u001b[0m\n\u001b[1;32m    414\u001b[0m             \u001b[0;32mreturn\u001b[0m \u001b[0mstatus\u001b[0m\u001b[0;34m\u001b[0m\u001b[0;34m\u001b[0m\u001b[0m\n",
      "\u001b[0;31mGitCommandError\u001b[0m: Cmd('git') failed due to: exit code(128)\n  cmdline: git clone -v https://github.com/seii-saintway/book-sales.git a-git-python-repo\n  stderr: 'fatal: destination path 'a-git-python-repo' already exists and is not an empty directory.\n'"
     ]
    }
   ],
   "source": [
    "Repo.clone_from('https://github.com/seii-saintway/book-sales.git', 'a-git-python-repo')"
   ]
  },
  {
   "cell_type": "code",
   "execution_count": null,
   "metadata": {},
   "outputs": [],
   "source": [
    "shutil.rmtree('a-git-python-repo')"
   ]
  },
  {
   "cell_type": "code",
   "execution_count": null,
   "metadata": {},
   "outputs": [
    {
     "data": {
      "text/plain": [
       "<git.Repo \"/home/jupyter-sheng_wei/a-git-python-repo/.git\">"
      ]
     },
     "execution_count": null,
     "metadata": {},
     "output_type": "execute_result"
    }
   ],
   "source": [
    "Repo.clone_from('https://github.com/seii-saintway/book-sales.git', 'a-git-python-repo')"
   ]
  },
  {
   "cell_type": "code",
   "execution_count": null,
   "metadata": {},
   "outputs": [
    {
     "data": {
      "text/plain": [
       "['Java程序设计试题.doc',\n",
       " 'jar-files',\n",
       " 'docs',\n",
       " 'generate-jar.sh',\n",
       " 'Makefile',\n",
       " 'src',\n",
       " '.git',\n",
       " 'pom.xml',\n",
       " 'manifest',\n",
       " 'examples',\n",
       " 'books.txt',\n",
       " 'README.md']"
      ]
     },
     "execution_count": null,
     "metadata": {},
     "output_type": "execute_result"
    }
   ],
   "source": [
    "os.listdir('a-git-python-repo')"
   ]
  },
  {
   "cell_type": "code",
   "execution_count": null,
   "metadata": {},
   "outputs": [
    {
     "data": {
      "text/plain": [
       "<git.Repo \"/home/jupyter-sheng_wei/a-git-python-repo/.git\">"
      ]
     },
     "execution_count": null,
     "metadata": {},
     "output_type": "execute_result"
    }
   ],
   "source": [
    "Repo.init('a-git-python-repo')"
   ]
  },
  {
   "cell_type": "code",
   "execution_count": null,
   "metadata": {},
   "outputs": [
    {
     "data": {
      "text/plain": [
       "['Java程序设计试题.doc',\n",
       " 'jar-files',\n",
       " 'docs',\n",
       " 'generate-jar.sh',\n",
       " 'Makefile',\n",
       " 'src',\n",
       " '.git',\n",
       " 'pom.xml',\n",
       " 'manifest',\n",
       " 'examples',\n",
       " 'books.txt',\n",
       " 'README.md']"
      ]
     },
     "execution_count": null,
     "metadata": {},
     "output_type": "execute_result"
    }
   ],
   "source": [
    "os.listdir('a-git-python-repo')"
   ]
  },
  {
   "cell_type": "markdown",
   "metadata": {},
   "source": [
    "#### New Session"
   ]
  },
  {
   "cell_type": "code",
   "execution_count": null,
   "metadata": {},
   "outputs": [],
   "source": [
    "import os\n",
    "os.chdir(os.path.expanduser('~'))"
   ]
  },
  {
   "cell_type": "code",
   "execution_count": null,
   "metadata": {},
   "outputs": [
    {
     "data": {
      "text/plain": [
       "[<git.Head \"refs/heads/master\">]"
      ]
     },
     "execution_count": null,
     "metadata": {},
     "output_type": "execute_result"
    }
   ],
   "source": [
    "from git import Repo\n",
    "Repo('a-git-python-repo').branches"
   ]
  },
  {
   "cell_type": "code",
   "execution_count": null,
   "metadata": {},
   "outputs": [
    {
     "data": {
      "text/plain": [
       "[<git.remote.FetchInfo at 0x7f207f636d18>]"
      ]
     },
     "execution_count": null,
     "metadata": {},
     "output_type": "execute_result"
    }
   ],
   "source": [
    "Repo('a-git-python-repo').remote().fetch()"
   ]
  },
  {
   "cell_type": "code",
   "execution_count": null,
   "metadata": {},
   "outputs": [],
   "source": []
  }
 ],
 "metadata": {
  "kernelspec": {
   "display_name": "Python 3",
   "language": "python",
   "name": "python3"
  }
 },
 "nbformat": 4,
 "nbformat_minor": 4
}
