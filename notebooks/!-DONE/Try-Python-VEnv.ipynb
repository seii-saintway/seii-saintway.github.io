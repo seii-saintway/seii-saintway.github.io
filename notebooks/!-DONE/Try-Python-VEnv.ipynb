{
 "cells": [
  {
   "cell_type": "code",
   "execution_count": null,
   "metadata": {},
   "outputs": [],
   "source": [
    "!python -m venv --help"
   ]
  },
  {
   "cell_type": "markdown",
   "metadata": {},
   "source": [
    "## Install NBDev with [venv](https://docs.python.org/3/tutorial/venv.html)"
   ]
  },
  {
   "cell_type": "code",
   "execution_count": null,
   "metadata": {},
   "outputs": [],
   "source": [
    "%%bash\n",
    "cd ~ && python3 -m venv nbdev-env"
   ]
  },
  {
   "cell_type": "code",
   "execution_count": null,
   "metadata": {},
   "outputs": [
    {
     "name": "stdout",
     "output_type": "stream",
     "text": [
      "Requirement already satisfied: pip in /Users/saintway/nbdev-env/lib/python3.10/site-packages (22.3.1)\n",
      "Collecting pip\n",
      "  Downloading pip-23.0-py3-none-any.whl (2.1 MB)\n",
      "     ━━━━━━━━━━━━━━━━━━━━━━━━━━━━━━━━━━━━━━━━ 2.1/2.1 MB 1.4 MB/s eta 0:00:00\n",
      "Installing collected packages: pip\n",
      "  Attempting uninstall: pip\n",
      "    Found existing installation: pip 22.3.1\n",
      "    Uninstalling pip-22.3.1:\n",
      "      Successfully uninstalled pip-22.3.1\n",
      "Successfully installed pip-23.0\n",
      "Collecting nbdev\n",
      "  Downloading nbdev-2.3.11-py3-none-any.whl (64 kB)\n",
      "     ━━━━━━━━━━━━━━━━━━━━━━━━━━━━━━━━━━━━━━━ 64.5/64.5 kB 559.9 kB/s eta 0:00:00\n",
      "Collecting PyYAML\n",
      "  Downloading PyYAML-6.0-cp310-cp310-macosx_10_9_x86_64.whl (197 kB)\n",
      "     ━━━━━━━━━━━━━━━━━━━━━━━━━━━━━━━━━━━━━━━ 197.6/197.6 kB 1.6 MB/s eta 0:00:00\n",
      "Collecting execnb>=0.1.4\n",
      "  Downloading execnb-0.1.4-py3-none-any.whl (13 kB)\n",
      "Collecting watchdog\n",
      "  Downloading watchdog-2.2.1-cp310-cp310-macosx_10_9_x86_64.whl (88 kB)\n",
      "     ━━━━━━━━━━━━━━━━━━━━━━━━━━━━━━━━━━━━━━━━ 88.2/88.2 kB 1.4 MB/s eta 0:00:00\n",
      "Collecting asttokens\n",
      "  Downloading asttokens-2.2.1-py2.py3-none-any.whl (26 kB)\n",
      "Collecting astunparse\n",
      "  Downloading astunparse-1.6.3-py2.py3-none-any.whl (12 kB)\n",
      "Collecting fastcore>=1.5.27\n",
      "  Downloading fastcore-1.5.28-py3-none-any.whl (67 kB)\n",
      "     ━━━━━━━━━━━━━━━━━━━━━━━━━━━━━━━━━━━━━━━━ 67.6/67.6 kB 1.2 MB/s eta 0:00:00\n",
      "Collecting ghapi>=1.0.3\n",
      "  Downloading ghapi-1.0.3-py3-none-any.whl (58 kB)\n",
      "     ━━━━━━━━━━━━━━━━━━━━━━━━━━━━━━━━━━━━━━━━ 58.1/58.1 kB 1.1 MB/s eta 0:00:00\n",
      "Collecting ipython\n",
      "  Downloading ipython-8.9.0-py3-none-any.whl (783 kB)\n",
      "     ━━━━━━━━━━━━━━━━━━━━━━━━━━━━━━━━━━━━━━━ 783.1/783.1 kB 2.0 MB/s eta 0:00:00\n",
      "Requirement already satisfied: pip in /Users/saintway/nbdev-env/lib/python3.10/site-packages (from fastcore>=1.5.27->nbdev) (23.0)\n",
      "Collecting packaging\n",
      "  Downloading packaging-23.0-py3-none-any.whl (42 kB)\n",
      "     ━━━━━━━━━━━━━━━━━━━━━━━━━━━━━━━━━━━━━━━ 42.7/42.7 kB 880.5 kB/s eta 0:00:00\n",
      "Collecting six\n",
      "  Using cached six-1.16.0-py2.py3-none-any.whl (11 kB)\n",
      "Collecting wheel<1.0,>=0.23.0\n",
      "  Downloading wheel-0.38.4-py3-none-any.whl (36 kB)\n",
      "Collecting matplotlib-inline\n",
      "  Downloading matplotlib_inline-0.1.6-py3-none-any.whl (9.4 kB)\n",
      "Collecting prompt-toolkit<3.1.0,>=3.0.30\n",
      "  Downloading prompt_toolkit-3.0.36-py3-none-any.whl (386 kB)\n",
      "     ━━━━━━━━━━━━━━━━━━━━━━━━━━━━━━━━━━━━━━━ 386.4/386.4 kB 2.4 MB/s eta 0:00:00\n",
      "Collecting stack-data\n",
      "  Downloading stack_data-0.6.2-py3-none-any.whl (24 kB)\n",
      "Collecting jedi>=0.16\n",
      "  Downloading jedi-0.18.2-py2.py3-none-any.whl (1.6 MB)\n",
      "     ━━━━━━━━━━━━━━━━━━━━━━━━━━━━━━━━━━━━━━━━ 1.6/1.6 MB 2.6 MB/s eta 0:00:00\n",
      "Collecting pygments>=2.4.0\n",
      "  Downloading Pygments-2.14.0-py3-none-any.whl (1.1 MB)\n",
      "     ━━━━━━━━━━━━━━━━━━━━━━━━━━━━━━━━━━━━━━━━ 1.1/1.1 MB 3.7 MB/s eta 0:00:00\n",
      "Collecting appnope\n",
      "  Downloading appnope-0.1.3-py2.py3-none-any.whl (4.4 kB)\n",
      "Collecting decorator\n",
      "  Downloading decorator-5.1.1-py3-none-any.whl (9.1 kB)\n",
      "Collecting pexpect>4.3\n",
      "  Using cached pexpect-4.8.0-py2.py3-none-any.whl (59 kB)\n",
      "Collecting pickleshare\n",
      "  Using cached pickleshare-0.7.5-py2.py3-none-any.whl (6.9 kB)\n",
      "Collecting traitlets>=5\n",
      "  Downloading traitlets-5.9.0-py3-none-any.whl (117 kB)\n",
      "     ━━━━━━━━━━━━━━━━━━━━━━━━━━━━━━━━━━━━━━━ 117.4/117.4 kB 2.7 MB/s eta 0:00:00\n",
      "Collecting backcall\n",
      "  Using cached backcall-0.2.0-py2.py3-none-any.whl (11 kB)\n",
      "Collecting parso<0.9.0,>=0.8.0\n",
      "  Downloading parso-0.8.3-py2.py3-none-any.whl (100 kB)\n",
      "     ━━━━━━━━━━━━━━━━━━━━━━━━━━━━━━━━━━━━━━━ 100.8/100.8 kB 2.2 MB/s eta 0:00:00\n",
      "Collecting ptyprocess>=0.5\n",
      "  Using cached ptyprocess-0.7.0-py2.py3-none-any.whl (13 kB)\n",
      "Collecting wcwidth\n",
      "  Downloading wcwidth-0.2.6-py2.py3-none-any.whl (29 kB)\n",
      "Collecting executing>=1.2.0\n",
      "  Downloading executing-1.2.0-py2.py3-none-any.whl (24 kB)\n",
      "Collecting pure-eval\n",
      "  Downloading pure_eval-0.2.2-py3-none-any.whl (11 kB)\n",
      "Installing collected packages: wcwidth, pure-eval, ptyprocess, pickleshare, executing, backcall, appnope, wheel, watchdog, traitlets, six, PyYAML, pygments, prompt-toolkit, pexpect, parso, packaging, decorator, matplotlib-inline, jedi, fastcore, astunparse, asttokens, stack-data, ghapi, ipython, execnb, nbdev\n",
      "Successfully installed PyYAML-6.0 appnope-0.1.3 asttokens-2.2.1 astunparse-1.6.3 backcall-0.2.0 decorator-5.1.1 execnb-0.1.4 executing-1.2.0 fastcore-1.5.28 ghapi-1.0.3 ipython-8.9.0 jedi-0.18.2 matplotlib-inline-0.1.6 nbdev-2.3.11 packaging-23.0 parso-0.8.3 pexpect-4.8.0 pickleshare-0.7.5 prompt-toolkit-3.0.36 ptyprocess-0.7.0 pure-eval-0.2.2 pygments-2.14.0 six-1.16.0 stack-data-0.6.2 traitlets-5.9.0 watchdog-2.2.1 wcwidth-0.2.6 wheel-0.38.4\n"
     ]
    }
   ],
   "source": [
    "%%bash\n",
    "source ~/nbdev-env/bin/activate\n",
    "pip3 install --upgrade pip\n",
    "pip3 install nbdev\n",
    "deactivate"
   ]
  },
  {
   "cell_type": "code",
   "execution_count": null,
   "metadata": {},
   "outputs": [],
   "source": [
    "%%bash\n",
    "pip3 install nbdev==1.1.14"
   ]
  }
 ],
 "metadata": {
  "kernelspec": {
   "display_name": "Python 3",
   "language": "python",
   "name": "python3"
  }
 },
 "nbformat": 4,
 "nbformat_minor": 4
}
