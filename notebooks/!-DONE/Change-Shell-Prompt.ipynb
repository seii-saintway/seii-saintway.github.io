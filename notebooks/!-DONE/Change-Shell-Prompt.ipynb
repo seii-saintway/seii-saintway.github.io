{
 "cells": [
  {
   "cell_type": "code",
   "execution_count": null,
   "metadata": {},
   "outputs": [],
   "source": [
    "%%bash\n",
    "PS1='\\[\\e[32m\\][\\[\\e[m\\]\\[\\e[31m\\]\\u \\[\\e[m\\]\\[\\e[33m\\]@ \\[\\e[m\\]\\[\\e[32m\\]\\h\\[\\e[m\\]: \\[\\e[36m\\]\\w\\[\\e[m\\]\\[\\e[32m\\]] \\[\\e[m\\]\\[\\e[32m\\]\\\\$\\[\\e[m\\] '"
   ]
  }
 ],
 "metadata": {
  "kernelspec": {
   "display_name": "Python 3",
   "language": "python",
   "name": "python3"
  }
 },
 "nbformat": 4,
 "nbformat_minor": 4
}
