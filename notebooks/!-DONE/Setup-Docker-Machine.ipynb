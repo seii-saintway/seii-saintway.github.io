{
 "cells": [
  {
   "cell_type": "markdown",
   "metadata": {},
   "source": [
    "## Setup Docker Machine"
   ]
  },
  {
   "cell_type": "code",
   "execution_count": null,
   "metadata": {},
   "outputs": [],
   "source": [
    "docker-machine restart default\n",
    "docker-machine ssh default"
   ]
  },
  {
   "cell_type": "code",
   "execution_count": null,
   "metadata": {},
   "outputs": [],
   "source": [
    "touch /var/lib/boot2docker/bootlocal.sh\n",
    "chmod 755 /var/lib/boot2docker/bootlocal.sh"
   ]
  },
  {
   "cell_type": "code",
   "execution_count": null,
   "metadata": {},
   "outputs": [],
   "source": [
    "cat <<EOF > /var/lib/boot2docker/bootlocal.sh\n",
    "\n",
    "touch /var/lib/boot2docker/bash_history\n",
    "chmod 666 /var/lib/boot2docker/bash_history\n",
    "ln -sf /var/lib/boot2docker/bash_history  /home/docker/.bash_history\n",
    "\n",
    "export WORK_DIR=/workspace\n",
    "mkdir -p $WORK_DIR\n",
    "mount -t vboxsf -o uid=1000,gid=50 workspace $WORK_DIR\n",
    "echo \"export WORK_DIR=$WORK_DIR\" >> /home/docker/.profile\n",
    "\n",
    "echo 'export http_proxy=http://cf-01:3128' >> /home/docker/.profile\n",
    "echo 'export https_proxy=http://cf-01:3128' >> /home/docker/.profile\n",
    "\n",
    "echo \"alias ll='ls -lah'\" >> /home/docker/.profile\n",
    "\n",
    "EOF"
   ]
  },
  {
   "cell_type": "code",
   "execution_count": null,
   "metadata": {},
   "outputs": [],
   "source": [
    "curl -L https://github.com/docker/compose/releases/download/1.24.0/docker-compose-`uname -s`-`uname -m` -o /var/lib/boot2docker/docker-compose\n",
    "chmod 755 /var/lib/boot2docker/docker-compose\n",
    "echo 'ln -s /var/lib/boot2docker/docker-compose /usr/local/bin/docker-compose' >> /var/lib/boot2docker/bootlocal.sh"
   ]
  },
  {
   "cell_type": "code",
   "execution_count": null,
   "metadata": {},
   "outputs": [],
   "source": [
    "reboot"
   ]
  }
 ],
 "metadata": {
  "kernelspec": {
   "display_name": "Bash",
   "language": "bash",
   "name": "bash"
  }
 },
 "nbformat": 4,
 "nbformat_minor": 4
}
