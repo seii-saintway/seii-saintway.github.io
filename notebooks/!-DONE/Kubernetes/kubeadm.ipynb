{
 "cells": [
  {
   "cell_type": "markdown",
   "id": "0d96b8ab-0174-4480-9c38-a2e4b61f6286",
   "metadata": {},
   "source": [
    "[Kubernetes IN Docker](https://github.com/kubernetes-sigs/kind)"
   ]
  },
  {
   "cell_type": "markdown",
   "id": "3ce163b9-9cfa-418b-b6a6-b3fdd6108c6c",
   "metadata": {},
   "source": [
    "[Kubeadm](https://kubernetes.io/docs/reference/setup-tools/kubeadm/)"
   ]
  },
  {
   "cell_type": "markdown",
   "id": "d47505bb-d468-4ab4-8827-b38c9daf6ef3",
   "metadata": {},
   "source": [
    "---\n",
    "[Installing kubeadm](https://kubernetes.io/docs/setup/production-environment/tools/kubeadm/install-kubeadm/)"
   ]
  },
  {
   "cell_type": "code",
   "execution_count": null,
   "id": "d3157155-8099-4b2b-ad6f-5313d0b924c3",
   "metadata": {},
   "outputs": [],
   "source": [
    "curl -fsSL https://pkgs.k8s.io/core:/stable:/v1.29/deb/Release.key | sudo gpg --dearmor -o /etc/apt/keyrings/kubernetes-apt-keyring.gpg\n",
    "echo 'deb [signed-by=/etc/apt/keyrings/kubernetes-apt-keyring.gpg] https://pkgs.k8s.io/core:/stable:/v1.29/deb/ /' | sudo tee /etc/apt/sources.list.d/kubernetes.list\n",
    "sudo apt-get update\n",
    "sudo apt-get install -y kubelet kubeadm kubectl\n",
    "sudo apt-mark hold kubelet kubeadm kubectl"
   ]
  },
  {
   "cell_type": "markdown",
   "id": "6dd0b9d9-eb2f-4cb7-9a0a-0b0e78929c69",
   "metadata": {},
   "source": [
    "---\n",
    "on control-plane node"
   ]
  },
  {
   "cell_type": "code",
   "execution_count": null,
   "id": "7462a1cf-5cb8-49fa-9fe7-66bdb78f124c",
   "metadata": {},
   "outputs": [],
   "source": [
    "sudo swapoff -a"
   ]
  },
  {
   "cell_type": "code",
   "execution_count": null,
   "id": "6f804ca9-62b6-47b5-8b10-b3c3556c7634",
   "metadata": {},
   "outputs": [],
   "source": [
    "sudo swapon --show"
   ]
  },
  {
   "cell_type": "code",
   "execution_count": null,
   "id": "47e36f69-9695-4c37-8459-58ded2620646",
   "metadata": {},
   "outputs": [],
   "source": [
    "sudo cat << EOF | sudo tee /etc/sysctl.d/k8s.conf\n",
    "vm.swappiness=0\n",
    "EOF"
   ]
  },
  {
   "cell_type": "code",
   "execution_count": null,
   "id": "3813b22b-9b06-4d82-b24f-9fc604b45618",
   "metadata": {},
   "outputs": [],
   "source": [
    "sudo sysctl -p /etc/sysctl.d/k8s.conf"
   ]
  },
  {
   "cell_type": "code",
   "execution_count": null,
   "id": "55d437a0-8f6a-4441-9958-0c7e9f3097b6",
   "metadata": {},
   "outputs": [],
   "source": [
    "sudo systemctl restart kubelet"
   ]
  },
  {
   "cell_type": "code",
   "execution_count": null,
   "id": "8a7fa78f-2086-47a6-bab1-e23fef639138",
   "metadata": {},
   "outputs": [],
   "source": [
    "systemctl status kubelet"
   ]
  },
  {
   "cell_type": "markdown",
   "id": "b34f2bb0-3446-4f4e-b61b-f41295783628",
   "metadata": {},
   "source": [
    "---\n",
    "[Creating a cluster with kubeadm](https://kubernetes.io/docs/setup/production-environment/tools/kubeadm/create-cluster-kubeadm/)"
   ]
  },
  {
   "cell_type": "code",
   "execution_count": null,
   "id": "fd633e3f-0506-4acf-8439-e48bc817157e",
   "metadata": {},
   "outputs": [],
   "source": [
    "sudo kubeadm init --control-plane-endpoint=jhub.dtype.info:6443 --apiserver-advertise-address=10.8.0.1 --pod-network-cidr=10.244.0.0/16"
   ]
  },
  {
   "cell_type": "raw",
   "id": "5ead96c3-2b6f-4194-a117-df47a4a87bc1",
   "metadata": {},
   "source": [
    " --service-cidr=10.96.0.0/12"
   ]
  },
  {
   "cell_type": "code",
   "execution_count": null,
   "id": "afa7791d-59a3-4efa-a66d-8395a1383831",
   "metadata": {},
   "outputs": [],
   "source": [
    "mkdir -p ~/.kube\n",
    "sudo cp -f /etc/kubernetes/admin.conf ~/.kube/config\n",
    "sudo chown $(id -u):$(id -g) ~/.kube/config"
   ]
  },
  {
   "cell_type": "code",
   "execution_count": null,
   "id": "1878e5a4-d5e5-4493-9288-50b45038cc4a",
   "metadata": {},
   "outputs": [
    {
     "name": "stdout",
     "output_type": "stream",
     "text": [
      "                            \"--service-cluster-ip-range=10.96.0.0/12\",\n",
      "                            \"--cluster-cidr=10.244.0.0/16\",\n",
      "                            \"--service-cluster-ip-range=10.96.0.0/12\",\n"
     ]
    }
   ],
   "source": [
    "kubectl cluster-info dump | grep -E 'cluster-cidr|service-cluster-ip-range'"
   ]
  },
  {
   "cell_type": "markdown",
   "id": "6010debe-eaf7-4f09-8193-a5d26052de43",
   "metadata": {},
   "source": [
    "---\n",
    "cni"
   ]
  },
  {
   "cell_type": "markdown",
   "id": "af29597f-04e9-48ce-ae6e-fe400b77b58c",
   "metadata": {},
   "source": [
    "[Installing containerd](https://github.com/containerd/containerd/blob/main/docs/getting-started.md)"
   ]
  },
  {
   "cell_type": "raw",
   "id": "9895fedf-2d6e-459c-be63-6c64206668ab",
   "metadata": {},
   "source": [
    "sudo apt update\n",
    "sudo apt install -y golang-go"
   ]
  },
  {
   "cell_type": "raw",
   "id": "712d7cab-11e4-4fa2-9f06-d3cf51de26a5",
   "metadata": {},
   "source": [
    "wget https://raw.githubusercontent.com/containerd/containerd/main/script/setup/install-cni\n",
    "chmod +x install-cni"
   ]
  },
  {
   "cell_type": "code",
   "execution_count": null,
   "id": "68bc20b6-cc5f-4f5f-9aee-25d16d46b904",
   "metadata": {},
   "outputs": [],
   "source": [
    "wget https://github.com/containernetworking/plugins/releases/download/v1.4.1/cni-plugins-linux-amd64-v1.4.1.tgz"
   ]
  },
  {
   "cell_type": "code",
   "execution_count": null,
   "id": "fa4f7256-f05d-4d12-b686-ce3a7def5127",
   "metadata": {},
   "outputs": [],
   "source": [
    "tar -tvzf cni-plugins-linux-amd64-v1.4.1.tgz"
   ]
  },
  {
   "cell_type": "code",
   "execution_count": null,
   "id": "81f15cfa-344a-4e2c-9e0d-c46d06d28a9d",
   "metadata": {},
   "outputs": [],
   "source": [
    "mkdir -p ~/containerd-plugins"
   ]
  },
  {
   "cell_type": "code",
   "execution_count": null,
   "id": "792346d9-8f90-44aa-95cf-a5a041c92f25",
   "metadata": {},
   "outputs": [],
   "source": [
    "tar -xvzf cni-plugins-linux-amd64-v1.4.1.tgz -C ~/containerd-plugins/bin"
   ]
  },
  {
   "cell_type": "code",
   "execution_count": null,
   "id": "8ba10f62-9b76-4b8d-8066-7ffe628789c9",
   "metadata": {},
   "outputs": [],
   "source": [
    "sudo cp -r ~/containerd-plugins/bin /opt/cni"
   ]
  },
  {
   "cell_type": "code",
   "execution_count": null,
   "id": "dd43bdf8-7657-4e99-954b-e69195a548bb",
   "metadata": {},
   "outputs": [],
   "source": [
    "sudo cat << EOF | sudo tee /etc/cni/net.d/10-containerd-net.conflist\n",
    "{\n",
    "  \"cniVersion\": \"1.0.0\",\n",
    "  \"name\": \"containerd-net\",\n",
    "  \"plugins\": [\n",
    "    {\n",
    "      \"type\": \"bridge\",\n",
    "      \"bridge\": \"cni0\",\n",
    "      \"isGateway\": true,\n",
    "      \"ipMasq\": true,\n",
    "      \"promiscMode\": true,\n",
    "      \"ipam\": {\n",
    "        \"type\": \"host-local\",\n",
    "        \"ranges\": [\n",
    "          [{\n",
    "            \"subnet\": \"10.88.0.0/16\"\n",
    "          }],\n",
    "          [{\n",
    "            \"subnet\": \"2001:4860:4860::/64\"\n",
    "          }]\n",
    "        ],\n",
    "        \"routes\": [\n",
    "          { \"dst\": \"0.0.0.0/0\" },\n",
    "          { \"dst\": \"::/0\" }\n",
    "        ]\n",
    "      }\n",
    "    },\n",
    "    {\n",
    "      \"type\": \"portmap\",\n",
    "      \"capabilities\": {\"portMappings\": true}\n",
    "    }\n",
    "  ]\n",
    "}\n",
    "EOF"
   ]
  },
  {
   "cell_type": "code",
   "execution_count": null,
   "id": "9fa1d5d0-fc13-4a17-8dbc-9a1cc0d90958",
   "metadata": {},
   "outputs": [],
   "source": [
    "sudo systemctl restart containerd"
   ]
  },
  {
   "cell_type": "markdown",
   "id": "2d59a3f6-5558-401d-bd2c-0b261f0fc46e",
   "metadata": {},
   "source": [
    "---\n",
    "calico"
   ]
  },
  {
   "cell_type": "markdown",
   "id": "629e4892-48ea-4b53-87cb-f607d0b28edc",
   "metadata": {},
   "source": [
    "[Install Calico on Kubernetes](https://docs.tigera.io/calico/latest/getting-started/kubernetes/quickstart)"
   ]
  },
  {
   "cell_type": "raw",
   "id": "be12bd91-1b2c-43ba-aa26-a1317592f5b7",
   "metadata": {},
   "source": [
    "kubectl create -f https://raw.githubusercontent.com/projectcalico/calico/v3.27.3/manifests/tigera-operator.yaml"
   ]
  },
  {
   "cell_type": "raw",
   "id": "b3b7858d-4970-4d64-9a32-531ea2690f91",
   "metadata": {},
   "source": [
    "kubectl create -f https://raw.githubusercontent.com/projectcalico/calico/v3.27.3/manifests/custom-resources.yaml"
   ]
  },
  {
   "cell_type": "raw",
   "id": "74089b8a-7883-4afb-af1d-1907451bd6cf",
   "metadata": {},
   "source": [
    "cat << EOF > calico-custom-resources.yaml\n",
    "# This section includes base Calico installation configuration.\n",
    "# For more information, see: https://docs.tigera.io/calico/latest/reference/installation/api#operator.tigera.io/v1.Installation\n",
    "apiVersion: operator.tigera.io/v1\n",
    "kind: Installation\n",
    "metadata:\n",
    "  name: default\n",
    "spec:\n",
    "  # Configures Calico networking.\n",
    "  calicoNetwork:\n",
    "    # Note: The ipPools section cannot be modified post-install.\n",
    "    ipPools:\n",
    "    - blockSize: 26\n",
    "      cidr: 10.112.0.0/12\n",
    "      encapsulation: VXLANCrossSubnet\n",
    "      natOutgoing: Enabled\n",
    "      nodeSelector: all()\n",
    "\n",
    "---\n",
    "\n",
    "# This section configures the Calico API server.\n",
    "# For more information, see: https://docs.tigera.io/calico/latest/reference/installation/api#operator.tigera.io/v1.APIServer\n",
    "apiVersion: operator.tigera.io/v1\n",
    "kind: APIServer\n",
    "metadata:\n",
    "  name: default\n",
    "spec: {}\n",
    "EOF"
   ]
  },
  {
   "cell_type": "raw",
   "id": "8c1abab0-9c0a-4c0d-8933-ae50a9ce8a5d",
   "metadata": {},
   "source": [
    "kubectl replace -f calico-custom-resources.yaml"
   ]
  },
  {
   "cell_type": "raw",
   "id": "32aea530-abb8-4933-8393-fbbe645b33b0",
   "metadata": {},
   "source": [
    "watch kubectl get pods -n calico-system"
   ]
  },
  {
   "cell_type": "raw",
   "id": "5c592373-6eda-4be9-b322-5bd0d24059de",
   "metadata": {},
   "source": [
    "wget https://github.com/projectcalico/calico/releases/download/v3.27.3/calicoctl-linux-amd64\n",
    "sudo mv calicoctl-linux-amd64 /usr/local/bin/calicoctl\n",
    "sudo chmod +x /usr/local/bin/calicoctl"
   ]
  },
  {
   "cell_type": "markdown",
   "id": "d7aacde9-ab88-49e8-939a-6fb9552ce841",
   "metadata": {},
   "source": [
    "---\n",
    "flannel"
   ]
  },
  {
   "cell_type": "raw",
   "id": "08383d66-ce1e-43bf-ac1c-913548db4246",
   "metadata": {},
   "source": [
    "wget https://raw.githubusercontent.com/coreos/flannel/master/Documentation/kube-flannel.yml"
   ]
  },
  {
   "cell_type": "markdown",
   "id": "3f306d07-4a1f-4a9f-8354-4ae0e7489a5c",
   "metadata": {},
   "source": [
    "``` yaml\n",
    "apiVersion: apps/v1\n",
    "kind: DaemonSet\n",
    "metadata:\n",
    "  name: kube-flannel-ds\n",
    "  namespace: kube-flannel\n",
    "  labels:\n",
    "    tier: node\n",
    "    app: flannel\n",
    "    k8s-app: flannel\n",
    "spec:\n",
    "  template:\n",
    "    spec:\n",
    "      containers:\n",
    "      - name: kube-flannel\n",
    "        args:\n",
    "        - --ip-masq\n",
    "        - --kube-subnet-mgr\n",
    "        - --iface=tun0\n",
    "```"
   ]
  },
  {
   "cell_type": "code",
   "execution_count": null,
   "id": "1decfc7b-7664-41ea-a8ea-9b5e03647207",
   "metadata": {},
   "outputs": [],
   "source": [
    "cat << EOF > kube-flannel.yaml\n",
    "---\n",
    "kind: Namespace\n",
    "apiVersion: v1\n",
    "metadata:\n",
    "  name: kube-flannel\n",
    "  labels:\n",
    "    k8s-app: flannel\n",
    "    pod-security.kubernetes.io/enforce: privileged\n",
    "---\n",
    "kind: ClusterRole\n",
    "apiVersion: rbac.authorization.k8s.io/v1\n",
    "metadata:\n",
    "  labels:\n",
    "    k8s-app: flannel\n",
    "  name: flannel\n",
    "rules:\n",
    "- apiGroups:\n",
    "  - \"\"\n",
    "  resources:\n",
    "  - pods\n",
    "  verbs:\n",
    "  - get\n",
    "- apiGroups:\n",
    "  - \"\"\n",
    "  resources:\n",
    "  - nodes\n",
    "  verbs:\n",
    "  - get\n",
    "  - list\n",
    "  - watch\n",
    "- apiGroups:\n",
    "  - \"\"\n",
    "  resources:\n",
    "  - nodes/status\n",
    "  verbs:\n",
    "  - patch\n",
    "---\n",
    "kind: ClusterRoleBinding\n",
    "apiVersion: rbac.authorization.k8s.io/v1\n",
    "metadata:\n",
    "  labels:\n",
    "    k8s-app: flannel\n",
    "  name: flannel\n",
    "roleRef:\n",
    "  apiGroup: rbac.authorization.k8s.io\n",
    "  kind: ClusterRole\n",
    "  name: flannel\n",
    "subjects:\n",
    "- kind: ServiceAccount\n",
    "  name: flannel\n",
    "  namespace: kube-flannel\n",
    "---\n",
    "apiVersion: v1\n",
    "kind: ServiceAccount\n",
    "metadata:\n",
    "  labels:\n",
    "    k8s-app: flannel\n",
    "  name: flannel\n",
    "  namespace: kube-flannel\n",
    "---\n",
    "kind: ConfigMap\n",
    "apiVersion: v1\n",
    "metadata:\n",
    "  name: kube-flannel-cfg\n",
    "  namespace: kube-flannel\n",
    "  labels:\n",
    "    tier: node\n",
    "    k8s-app: flannel\n",
    "    app: flannel\n",
    "data:\n",
    "  cni-conf.json: |\n",
    "    {\n",
    "      \"name\": \"cbr0\",\n",
    "      \"cniVersion\": \"0.3.1\",\n",
    "      \"plugins\": [\n",
    "        {\n",
    "          \"type\": \"flannel\",\n",
    "          \"delegate\": {\n",
    "            \"hairpinMode\": true,\n",
    "            \"isDefaultGateway\": true\n",
    "          }\n",
    "        },\n",
    "        {\n",
    "          \"type\": \"portmap\",\n",
    "          \"capabilities\": {\n",
    "            \"portMappings\": true\n",
    "          }\n",
    "        }\n",
    "      ]\n",
    "    }\n",
    "  net-conf.json: |\n",
    "    {\n",
    "      \"Network\": \"10.244.0.0/16\",\n",
    "      \"EnableNFTables\": false,\n",
    "      \"Backend\": {\n",
    "        \"Type\": \"vxlan\"\n",
    "      }\n",
    "    }\n",
    "---\n",
    "apiVersion: apps/v1\n",
    "kind: DaemonSet\n",
    "metadata:\n",
    "  name: kube-flannel-ds\n",
    "  namespace: kube-flannel\n",
    "  labels:\n",
    "    tier: node\n",
    "    app: flannel\n",
    "    k8s-app: flannel\n",
    "spec:\n",
    "  selector:\n",
    "    matchLabels:\n",
    "      app: flannel\n",
    "  template:\n",
    "    metadata:\n",
    "      labels:\n",
    "        tier: node\n",
    "        app: flannel\n",
    "    spec:\n",
    "      affinity:\n",
    "        nodeAffinity:\n",
    "          requiredDuringSchedulingIgnoredDuringExecution:\n",
    "            nodeSelectorTerms:\n",
    "            - matchExpressions:\n",
    "              - key: kubernetes.io/os\n",
    "                operator: In\n",
    "                values:\n",
    "                - linux\n",
    "      hostNetwork: true\n",
    "      priorityClassName: system-node-critical\n",
    "      tolerations:\n",
    "      - operator: Exists\n",
    "        effect: NoSchedule\n",
    "      serviceAccountName: flannel\n",
    "      initContainers:\n",
    "      - name: install-cni-plugin\n",
    "        image: docker.io/flannel/flannel-cni-plugin:v1.4.0-flannel1\n",
    "        command:\n",
    "        - cp\n",
    "        args:\n",
    "        - -f\n",
    "        - /flannel\n",
    "        - /opt/cni/bin/flannel\n",
    "        volumeMounts:\n",
    "        - name: cni-plugin\n",
    "          mountPath: /opt/cni/bin\n",
    "      - name: install-cni\n",
    "        image: docker.io/flannel/flannel:v0.25.1\n",
    "        command:\n",
    "        - cp\n",
    "        args:\n",
    "        - -f\n",
    "        - /etc/kube-flannel/cni-conf.json\n",
    "        - /etc/cni/net.d/10-flannel.conflist\n",
    "        volumeMounts:\n",
    "        - name: cni\n",
    "          mountPath: /etc/cni/net.d\n",
    "        - name: flannel-cfg\n",
    "          mountPath: /etc/kube-flannel/\n",
    "      containers:\n",
    "      - name: kube-flannel\n",
    "        image: docker.io/flannel/flannel:v0.25.1\n",
    "        command:\n",
    "        - /opt/bin/flanneld\n",
    "        args:\n",
    "        - --ip-masq\n",
    "        - --kube-subnet-mgr\n",
    "        - --iface=tun0\n",
    "        resources:\n",
    "          requests:\n",
    "            cpu: \"100m\"\n",
    "            memory: \"50Mi\"\n",
    "        securityContext:\n",
    "          privileged: false\n",
    "          capabilities:\n",
    "            add: [\"NET_ADMIN\", \"NET_RAW\"]\n",
    "        env:\n",
    "        - name: POD_NAME\n",
    "          valueFrom:\n",
    "            fieldRef:\n",
    "              fieldPath: metadata.name\n",
    "        - name: POD_NAMESPACE\n",
    "          valueFrom:\n",
    "            fieldRef:\n",
    "              fieldPath: metadata.namespace\n",
    "        - name: EVENT_QUEUE_DEPTH\n",
    "          value: \"5000\"\n",
    "        volumeMounts:\n",
    "        - name: run\n",
    "          mountPath: /run/flannel\n",
    "        - name: flannel-cfg\n",
    "          mountPath: /etc/kube-flannel/\n",
    "        - name: xtables-lock\n",
    "          mountPath: /run/xtables.lock\n",
    "      volumes:\n",
    "      - name: run\n",
    "        hostPath:\n",
    "          path: /run/flannel\n",
    "      - name: cni-plugin\n",
    "        hostPath:\n",
    "          path: /opt/cni/bin\n",
    "      - name: cni\n",
    "        hostPath:\n",
    "          path: /etc/cni/net.d\n",
    "      - name: flannel-cfg\n",
    "        configMap:\n",
    "          name: kube-flannel-cfg\n",
    "      - name: xtables-lock\n",
    "        hostPath:\n",
    "          path: /run/xtables.lock\n",
    "          type: FileOrCreate\n",
    "EOF"
   ]
  },
  {
   "cell_type": "code",
   "execution_count": null,
   "id": "477f43cb-699e-4206-9f46-87aded0e390a",
   "metadata": {},
   "outputs": [
    {
     "name": "stdout",
     "output_type": "stream",
     "text": [
      "namespace/kube-flannel created\n",
      "clusterrole.rbac.authorization.k8s.io/flannel created\n",
      "clusterrolebinding.rbac.authorization.k8s.io/flannel created\n",
      "serviceaccount/flannel created\n",
      "configmap/kube-flannel-cfg created\n",
      "daemonset.apps/kube-flannel-ds created\n"
     ]
    }
   ],
   "source": [
    "kubectl apply -f kube-flannel.yaml"
   ]
  },
  {
   "cell_type": "markdown",
   "id": "4b99da4c-355a-4994-90bd-3aec30fbcbbc",
   "metadata": {},
   "source": [
    "---\n",
    "taints"
   ]
  },
  {
   "cell_type": "code",
   "execution_count": null,
   "id": "6064b733-5b8b-4205-9e6a-35d5ac3d57ac",
   "metadata": {},
   "outputs": [],
   "source": [
    "kubectl taint nodes --all node-role.kubernetes.io/control-plane-\n",
    "kubectl taint nodes --all node.kubernetes.io/disk-pressure-\n",
    "kubectl taint nodes --all node.kubernetes.io/not-ready-"
   ]
  },
  {
   "cell_type": "code",
   "execution_count": null,
   "id": "9de91b7a-626a-44a5-89d1-ec09133853cc",
   "metadata": {},
   "outputs": [],
   "source": [
    "kubectl describe node free-vpn | grep -i8 taints"
   ]
  },
  {
   "cell_type": "code",
   "execution_count": null,
   "id": "d558aff5-33c0-462e-9c83-02448de78d5d",
   "metadata": {},
   "outputs": [
    {
     "name": "stdout",
     "output_type": "stream",
     "text": [
      "NAME         STATUS   ROLES           AGE     VERSION   INTERNAL-IP   EXTERNAL-IP   OS-IMAGE                         KERNEL-VERSION                       CONTAINER-RUNTIME\n",
      "free-vpn     Ready    control-plane   24m     v1.29.3   10.146.0.3    <none>        Debian GNU/Linux 11 (bullseye)   5.10.0-26-cloud-amd64                containerd://1.6.24\n",
      "msd-npc112   Ready    <none>          7m24s   v1.29.3   10.8.0.2      <none>        Ubuntu 22.04.3 LTS               5.15.146.1-microsoft-standard-WSL2   containerd://1.7.2\n"
     ]
    }
   ],
   "source": [
    "kubectl get nodes -o wide"
   ]
  },
  {
   "cell_type": "markdown",
   "id": "52ac7a77-01d9-4390-8e7a-d1291113c8d5",
   "metadata": {},
   "source": [
    "---\n",
    "on another worker node"
   ]
  },
  {
   "cell_type": "code",
   "execution_count": null,
   "id": "4176e3f5-561a-43b2-8805-bc6a6458317b",
   "metadata": {},
   "outputs": [],
   "source": [
    "sudo apt-get update\n",
    "sudo apt-get install containerd\n",
    "sudo containerd --version"
   ]
  },
  {
   "cell_type": "code",
   "execution_count": null,
   "id": "10017cf0-fdbe-4e25-b571-70e76d54b5de",
   "metadata": {},
   "outputs": [],
   "source": [
    "sudo sysctl net.ipv4.ip_forward=1"
   ]
  },
  {
   "cell_type": "code",
   "execution_count": null,
   "id": "0073bc33-8354-4c71-bed5-7fe1100909dc",
   "metadata": {},
   "outputs": [],
   "source": [
    "cat /proc/sys/net/ipv4/ip_forward"
   ]
  },
  {
   "cell_type": "code",
   "execution_count": null,
   "id": "6ec85d98-08c1-48d1-968b-4968fc40d5c3",
   "metadata": {},
   "outputs": [],
   "source": [
    "sudo kubeadm join jhub.dtype.info:6443 --token secret.secretsecretsecr \\\n",
    "--discovery-token-ca-cert-hash sha256:secretsecretsecretsecretsecretsecretsecretsecretsecretsecretsecr"
   ]
  },
  {
   "cell_type": "markdown",
   "id": "d7a8c231-a229-48a9-940d-e24d0de2a36b",
   "metadata": {},
   "source": [
    "---\n",
    "on control-plane node"
   ]
  },
  {
   "cell_type": "code",
   "execution_count": null,
   "id": "e7948423-f1d5-46e0-a804-917cb8773c69",
   "metadata": {},
   "outputs": [
    {
     "name": "stdout",
     "output_type": "stream",
     "text": [
      "                    volumes.kubernetes.io/controller-managed-attach-detach: true\n",
      "CreationTimestamp:  Sat, 13 Apr 2024 01:25:39 +0900\n",
      "Taints:             <none>\n",
      "Unschedulable:      false\n",
      "Lease:\n"
     ]
    }
   ],
   "source": [
    "kubectl describe node msd-npc112 | grep -i2 taints"
   ]
  },
  {
   "cell_type": "code",
   "execution_count": null,
   "id": "985910b8-6a75-46ca-94fc-23a505dcb5b2",
   "metadata": {},
   "outputs": [],
   "source": [
    "kubectl describe node msd-npc112"
   ]
  },
  {
   "cell_type": "code",
   "execution_count": null,
   "id": "57595d43-afd9-47c3-84d3-cef712f99ff3",
   "metadata": {},
   "outputs": [
    {
     "name": "stdout",
     "output_type": "stream",
     "text": [
      "NAME         STATUS   ROLES           AGE   VERSION\n",
      "free-vpn     Ready    control-plane   28m   v1.29.3\n",
      "msd-npc112   Ready    <none>          13m   v1.29.3\n"
     ]
    }
   ],
   "source": [
    "kubectl get nodes"
   ]
  },
  {
   "cell_type": "code",
   "execution_count": null,
   "id": "a119ff06-405e-4d9f-8cc1-b040ccea48f9",
   "metadata": {},
   "outputs": [
    {
     "name": "stdout",
     "output_type": "stream",
     "text": [
      "NAMESPACE     NAME                               READY   STATUS    RESTARTS   AGE\n",
      "kube-system   coredns-76f75df574-nn6nb           1/1     Running   0          27m\n",
      "kube-system   coredns-76f75df574-pz6k4           1/1     Running   0          27m\n",
      "kube-system   etcd-free-vpn                      1/1     Running   8          27m\n",
      "kube-system   kube-apiserver-free-vpn            1/1     Running   8          27m\n",
      "kube-system   kube-controller-manager-free-vpn   1/1     Running   50         27m\n",
      "kube-system   kube-proxy-6zj7x                   1/1     Running   0          12m\n",
      "kube-system   kube-proxy-8sms9                   1/1     Running   0          27m\n",
      "kube-system   kube-scheduler-free-vpn            1/1     Running   53         27m\n"
     ]
    }
   ],
   "source": [
    "kubectl get pods --all-namespaces"
   ]
  },
  {
   "cell_type": "markdown",
   "id": "113b5cfa-f391-4ff9-be25-3ad344e71424",
   "metadata": {},
   "source": [
    "---\n",
    "[Dashboard by Helm](https://github.com/kubernetes/dashboard)"
   ]
  },
  {
   "cell_type": "code",
   "execution_count": null,
   "id": "8140c18c-8d7d-409a-9f1d-e5c6493121ee",
   "metadata": {},
   "outputs": [
    {
     "name": "stdout",
     "output_type": "stream",
     "text": [
      "release \"kubernetes-dashboard\" uninstalled\n"
     ]
    }
   ],
   "source": [
    "helm uninstall kubernetes-dashboard -n kubernetes-dashboard"
   ]
  },
  {
   "cell_type": "code",
   "execution_count": null,
   "id": "1162326f",
   "metadata": {},
   "outputs": [
    {
     "name": "stdout",
     "output_type": "stream",
     "text": [
      "namespace \"kubernetes-dashboard\" deleted\n"
     ]
    }
   ],
   "source": [
    "kubectl delete namespace kubernetes-dashboard"
   ]
  },
  {
   "cell_type": "code",
   "execution_count": null,
   "id": "ce3bb086",
   "metadata": {},
   "outputs": [
    {
     "name": "stdout",
     "output_type": "stream",
     "text": [
      "Release \"kubernetes-dashboard\" does not exist. Installing it now.\n",
      "NAME: kubernetes-dashboard\n",
      "LAST DEPLOYED: Thu Apr 18 10:04:55 2024\n",
      "NAMESPACE: kubernetes-dashboard\n",
      "STATUS: deployed\n",
      "REVISION: 1\n",
      "TEST SUITE: None\n",
      "NOTES:\n",
      "*************************************************************************************************\n",
      "*** PLEASE BE PATIENT: Kubernetes Dashboard may need a few minutes to get up and become ready ***\n",
      "*************************************************************************************************\n",
      "\n",
      "Congratulations! You have just installed Kubernetes Dashboard in your cluster.\n",
      "\n",
      "To access Dashboard run:\n",
      "  kubectl -n kubernetes-dashboard port-forward svc/kubernetes-dashboard-kong-proxy 8443:443\n",
      "\n",
      "NOTE: In case port-forward command does not work, make sure that kong service name is correct.\n",
      "      Check the services in Kubernetes Dashboard namespace using:\n",
      "        kubectl -n kubernetes-dashboard get svc\n",
      "\n",
      "Dashboard will be available at:\n",
      "  https://localhost:8443\n"
     ]
    }
   ],
   "source": [
    "helm upgrade --install --repo https://kubernetes.github.io/dashboard/ kubernetes-dashboard kubernetes-dashboard \\\n",
    "--create-namespace --namespace kubernetes-dashboard \\\n",
    "--set web.containers.args[0]='--insecure-bind-address=0.0.0.0'"
   ]
  },
  {
   "cell_type": "code",
   "execution_count": null,
   "id": "6f56c06f-e09a-4242-9385-cd8540d370c7",
   "metadata": {},
   "outputs": [],
   "source": [
    "kubectl get pods -n kubernetes-dashboard -o wide"
   ]
  },
  {
   "cell_type": "code",
   "execution_count": null,
   "id": "865f6e92-1010-4c83-bfe4-4f57d745b555",
   "metadata": {},
   "outputs": [],
   "source": [
    "kubectl get svc -n kubernetes-dashboard -o wide"
   ]
  },
  {
   "cell_type": "code",
   "execution_count": null,
   "id": "004c50d2-9e59-47cb-95a3-0f78478105b1",
   "metadata": {},
   "outputs": [],
   "source": [
    "export POD_NAME=$(\n",
    "  kubectl get pods -n kubernetes-dashboard -l 'app=kubernetes-dashboard-kong' -o jsonpath='{.items[0].metadata.name}'\n",
    ")"
   ]
  },
  {
   "cell_type": "code",
   "execution_count": null,
   "id": "3607c2d3-fbcf-4a2f-98ed-24099012d576",
   "metadata": {},
   "outputs": [
    {
     "name": "stdout",
     "output_type": "stream",
     "text": [
      "Forwarding from 127.0.0.1:8443 -> 8443\n",
      "Forwarding from [::1]:8443 -> 8443\n",
      "Handling connection for 8443\n"
     ]
    }
   ],
   "source": [
    "kubectl port-forward $POD_NAME -n kubernetes-dashboard 8443:8443"
   ]
  },
  {
   "cell_type": "code",
   "execution_count": null,
   "id": "05ad9f2f-731f-40c8-9aef-7aa4475df0e9",
   "metadata": {},
   "outputs": [
    {
     "name": "stdout",
     "output_type": "stream",
     "text": [
      "Forwarding from 127.0.0.1:8443 -> 8443\n",
      "Forwarding from [::1]:8443 -> 8443\n",
      "Handling connection for 8443\n",
      "Handling connection for 8443\n"
     ]
    }
   ],
   "source": [
    "kubectl port-forward svc/kubernetes-dashboard-kong-proxy -n kubernetes-dashboard 8443:443"
   ]
  },
  {
   "cell_type": "code",
   "execution_count": null,
   "id": "d79a584a-16e2-468f-bff3-6d38faeb8c0a",
   "metadata": {},
   "outputs": [],
   "source": [
    "echo 'Visit https://localhost:8443 to use your application'"
   ]
  },
  {
   "cell_type": "code",
   "execution_count": null,
   "id": "5ae0d3a2-aa96-46e3-b060-1e8e666f2f4a",
   "metadata": {},
   "outputs": [],
   "source": [
    "export POD_NAME=$(\n",
    "  kubectl get pods -n kubernetes-dashboard -l 'app.kubernetes.io/name=kubernetes-dashboard-web' -o jsonpath='{.items[0].metadata.name}'\n",
    ")"
   ]
  },
  {
   "cell_type": "code",
   "execution_count": null,
   "id": "f19cc786-084b-4e1d-8c43-0613ec4749e0",
   "metadata": {},
   "outputs": [],
   "source": [
    "kubectl port-forward $POD_NAME -n kubernetes-dashboard 8443:8443"
   ]
  },
  {
   "cell_type": "code",
   "execution_count": null,
   "id": "e5f02706-90b2-4fc3-b788-a0a33bda712f",
   "metadata": {},
   "outputs": [
    {
     "name": "stdout",
     "output_type": "stream",
     "text": [
      "Forwarding from 127.0.0.1:8443 -> 8000\n",
      "Forwarding from [::1]:8443 -> 8000\n",
      "Handling connection for 8443\n",
      "Handling connection for 8443\n"
     ]
    }
   ],
   "source": [
    "kubectl port-forward svc/kubernetes-dashboard-web -n kubernetes-dashboard 8443:8000"
   ]
  },
  {
   "cell_type": "code",
   "execution_count": null,
   "id": "be2bcca7-2f73-4a44-ab2f-db8f3eba1018",
   "metadata": {},
   "outputs": [],
   "source": [
    "echo 'Visit http://localhost:8443 to use your application'"
   ]
  },
  {
   "cell_type": "markdown",
   "id": "6e75183c-882d-44f1-85e3-c5ada24bed62",
   "metadata": {},
   "source": [
    "---\n",
    "[Dashboard by Manifest-based YAML](https://kubernetes.io/zh-cn/docs/tasks/access-application-cluster/web-ui-dashboard/)"
   ]
  },
  {
   "cell_type": "code",
   "execution_count": null,
   "id": "9d41996c-a9ec-4525-9d83-1ccb4fd5030c",
   "metadata": {},
   "outputs": [],
   "source": [
    "wget https://raw.githubusercontent.com/kubernetes/dashboard/v2.7.0/aio/deploy/recommended.yaml -O kube-dashboard.yaml"
   ]
  },
  {
   "cell_type": "markdown",
   "id": "377487c6-9ad4-41ed-a0c2-d2af28b52060",
   "metadata": {},
   "source": [
    "``` yaml\n",
    "kind: Deployment\n",
    "apiVersion: apps/v1\n",
    "metadata:\n",
    "  labels:\n",
    "    k8s-app: dashboard-metrics-scraper\n",
    "  name: dashboard-metrics-scraper\n",
    "  namespace: kubernetes-dashboard\n",
    "spec:\n",
    "  template:\n",
    "    metadata:\n",
    "      labels:\n",
    "        k8s-app: dashboard-metrics-scraper\n",
    "      annotations:\n",
    "        seccompProfile: 'runtime/default'\n",
    "```"
   ]
  },
  {
   "cell_type": "code",
   "execution_count": null,
   "id": "7d9f5ba0-5570-4f4e-95d9-d16415ce6ee8",
   "metadata": {},
   "outputs": [
    {
     "name": "stdout",
     "output_type": "stream",
     "text": [
      "namespace/kubernetes-dashboard unchanged\n",
      "serviceaccount/kubernetes-dashboard unchanged\n",
      "service/kubernetes-dashboard unchanged\n",
      "secret/kubernetes-dashboard-certs unchanged\n",
      "secret/kubernetes-dashboard-csrf configured\n",
      "secret/kubernetes-dashboard-key-holder unchanged\n",
      "configmap/kubernetes-dashboard-settings unchanged\n",
      "role.rbac.authorization.k8s.io/kubernetes-dashboard unchanged\n",
      "clusterrole.rbac.authorization.k8s.io/kubernetes-dashboard unchanged\n",
      "rolebinding.rbac.authorization.k8s.io/kubernetes-dashboard unchanged\n",
      "clusterrolebinding.rbac.authorization.k8s.io/kubernetes-dashboard unchanged\n",
      "deployment.apps/kubernetes-dashboard configured\n",
      "service/dashboard-metrics-scraper unchanged\n",
      "deployment.apps/dashboard-metrics-scraper configured\n"
     ]
    }
   ],
   "source": [
    "kubectl apply -f kube-dashboard.yaml"
   ]
  },
  {
   "cell_type": "code",
   "execution_count": null,
   "id": "0e3b5b85-bbbd-446e-b7ba-6bce55b62b37",
   "metadata": {},
   "outputs": [
    {
     "name": "stdout",
     "output_type": "stream",
     "text": [
      "Forwarding from 127.0.0.1:8443 -> 8443\n",
      "Forwarding from [::1]:8443 -> 8443\n"
     ]
    }
   ],
   "source": [
    "kubectl port-forward svc/kubernetes-dashboard -n kubernetes-dashboard 8443:443"
   ]
  },
  {
   "cell_type": "code",
   "execution_count": null,
   "id": "612ac416-5531-48e4-bfcc-e9535084b758",
   "metadata": {},
   "outputs": [],
   "source": [
    "echo 'Visit https://localhost:8443 to use your application'"
   ]
  },
  {
   "cell_type": "markdown",
   "id": "67de7d58-3ea0-495e-b2c7-2b7efa353cb8",
   "metadata": {},
   "source": [
    "---\n",
    "service account"
   ]
  },
  {
   "cell_type": "code",
   "execution_count": null,
   "id": "0590d64b-3579-444e-9e4f-44b8100744ab",
   "metadata": {},
   "outputs": [
    {
     "name": "stdout",
     "output_type": "stream",
     "text": [
      "serviceaccount/saintway created\n"
     ]
    }
   ],
   "source": [
    "kubectl create serviceaccount saintway -n kubernetes-dashboard"
   ]
  },
  {
   "cell_type": "code",
   "execution_count": null,
   "id": "66f85c1f-ebb3-436f-9dfb-59a366d60997",
   "metadata": {},
   "outputs": [],
   "source": [
    "kubectl create clusterrolebinding dashboard-admin-binding --clusterrole=cluster-admin --serviceaccount=kubernetes-dashboard:saintway"
   ]
  },
  {
   "cell_type": "code",
   "execution_count": null,
   "id": "77c59254-4ab6-4996-a5b6-ef679b0f42e3",
   "metadata": {},
   "outputs": [],
   "source": [
    "kubectl create token saintway -n kubernetes-dashboard"
   ]
  },
  {
   "cell_type": "markdown",
   "id": "2aed1c0a-357b-445d-bc42-0881cacc12a4",
   "metadata": {},
   "source": [
    "---\n",
    "ingress tls secret"
   ]
  },
  {
   "cell_type": "code",
   "execution_count": null,
   "id": "56efe86f-f007-4310-82f8-491e4e625136",
   "metadata": {},
   "outputs": [
    {
     "name": "stdout",
     "output_type": "stream",
     "text": [
      "secret/dashboard-tls created\n"
     ]
    }
   ],
   "source": [
    "kubectl apply -f - << EOF\n",
    "apiVersion: v1\n",
    "kind: Secret\n",
    "metadata:\n",
    "  name: dashboard-tls\n",
    "  namespace: kubernetes-dashboard\n",
    "data:\n",
    "  tls.crt: $(sudo base64 -w 0 /etc/letsencrypt/live/registry.dtype.info/fullchain.pem)\n",
    "  tls.key: $(sudo base64 -w 0 /etc/letsencrypt/live/registry.dtype.info/privkey.pem)\n",
    "type: kubernetes.io/tls\n",
    "EOF"
   ]
  },
  {
   "cell_type": "markdown",
   "id": "8089685d-a00f-4dbc-aa76-9beba598aa48",
   "metadata": {},
   "source": [
    "---\n",
    "ingress"
   ]
  },
  {
   "cell_type": "code",
   "execution_count": null,
   "id": "10b7f596-97c5-4cea-a6f2-4b0d839c5ffe",
   "metadata": {},
   "outputs": [],
   "source": [
    "kubectl apply -f - << EOF\n",
    "apiVersion: traefik.containo.us/v1alpha1\n",
    "kind: Middleware\n",
    "metadata:\n",
    "  name: prefix\n",
    "  namespace: kubernetes-dashboard\n",
    "spec:\n",
    "  stripPrefix:\n",
    "    forceSlash: false\n",
    "    prefixes:\n",
    "    - /kubernetes\n",
    "EOF"
   ]
  },
  {
   "cell_type": "code",
   "execution_count": null,
   "id": "06592c0a-d0b2-46dd-8122-4d920cccc04f",
   "metadata": {},
   "outputs": [
    {
     "name": "stdout",
     "output_type": "stream",
     "text": [
      "ingress.networking.k8s.io/kubernetes-dashboard configured\n"
     ]
    }
   ],
   "source": [
    "kubectl apply -f - << EOF\n",
    "apiVersion: networking.k8s.io/v1\n",
    "kind: Ingress\n",
    "metadata:\n",
    "  annotations:\n",
    "    kubernetes.io/tls-acme: 'true'\n",
    "    traefik.ingress.kubernetes.io/router.middlewares: kubernetes-dashboard-prefix@kubernetes\n",
    "  name: kubernetes-dashboard\n",
    "  namespace: kubernetes-dashboard\n",
    "spec:\n",
    "  tls:\n",
    "  - hosts:\n",
    "    - registry.dtype.info\n",
    "    secretName: dashboard-tls\n",
    "  rules:\n",
    "  - host: registry.dtype.info\n",
    "    http:\n",
    "      paths:\n",
    "      - path: /kubernetes\n",
    "        pathType: Prefix\n",
    "        backend:\n",
    "          service:\n",
    "            name: kubernetes-dashboard-kong-proxy\n",
    "            port:\n",
    "              number: 443\n",
    "EOF"
   ]
  },
  {
   "cell_type": "code",
   "execution_count": null,
   "id": "2725be62-56a1-4e00-bf25-fa8d4dce60eb",
   "metadata": {},
   "outputs": [
    {
     "name": "stdout",
     "output_type": "stream",
     "text": [
      "ingress.networking.k8s.io \"kubernetes-dashboard\" deleted\n"
     ]
    }
   ],
   "source": [
    "kubectl delete ingress kubernetes-dashboard -n kubernetes-dashboard"
   ]
  },
  {
   "cell_type": "markdown",
   "id": "37d4d906-0ab7-4fde-ab1c-f65f114e30ce",
   "metadata": {},
   "source": [
    "---\n",
    "ingress"
   ]
  },
  {
   "cell_type": "code",
   "execution_count": null,
   "id": "9e5c763f",
   "metadata": {},
   "outputs": [],
   "source": [
    "cat << EOF | sudo tee /opt/tljh/state/rules/kubernetes.toml\n",
    "[http.middlewares]\n",
    "  [http.middlewares.prefix.stripPrefix]\n",
    "    prefixes = [\"/kubernetes\"]\n",
    "    forceSlash = false\n",
    "EOF"
   ]
  },
  {
   "cell_type": "code",
   "execution_count": null,
   "id": "5bb00a37-1d66-4287-9bdb-4d17262bcdd9",
   "metadata": {},
   "outputs": [
    {
     "name": "stdout",
     "output_type": "stream",
     "text": [
      "ingress.networking.k8s.io/kubernetes-dashboard created\n"
     ]
    }
   ],
   "source": [
    "kubectl apply -f - << EOF\n",
    "apiVersion: networking.k8s.io/v1\n",
    "kind: Ingress\n",
    "metadata:\n",
    "  annotations:\n",
    "    kubernetes.io/tls-acme: 'true'\n",
    "    traefik.ingress.kubernetes.io/router.middlewares: prefix@file\n",
    "  name: kubernetes-dashboard\n",
    "  namespace: kubernetes-dashboard\n",
    "spec:\n",
    "  tls:\n",
    "  - hosts:\n",
    "    - registry.dtype.info\n",
    "    secretName: dashboard-tls\n",
    "  rules:\n",
    "  - host: registry.dtype.info\n",
    "    http:\n",
    "      paths:\n",
    "      - path: /kubernetes\n",
    "        pathType: Prefix\n",
    "        backend:\n",
    "          service:\n",
    "            name: kubernetes-dashboard-web\n",
    "            port:\n",
    "              number: 8000\n",
    "EOF"
   ]
  },
  {
   "cell_type": "markdown",
   "id": "425d7be5-384a-4b46-a236-5a5f86cd11b5",
   "metadata": {},
   "source": [
    "---\n",
    "shutdown"
   ]
  },
  {
   "cell_type": "code",
   "execution_count": null,
   "id": "d1d65f76-444b-4484-a3dc-606c8050ed9f",
   "metadata": {},
   "outputs": [],
   "source": [
    "sudo systemctl stop kubelet"
   ]
  },
  {
   "cell_type": "code",
   "execution_count": null,
   "id": "e6ccd6f6-6f8f-4902-bb82-9bd35aea97b9",
   "metadata": {},
   "outputs": [],
   "source": [
    "sudo systemctl disable kubelet"
   ]
  }
 ],
 "metadata": {
  "kernelspec": {
   "display_name": "Bash",
   "language": "bash",
   "name": "bash"
  }
 },
 "nbformat": 4,
 "nbformat_minor": 5
}
