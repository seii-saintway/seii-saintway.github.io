{
 "cells": [
  {
   "cell_type": "markdown",
   "id": "955a46fc-6fff-48d4-99ca-068711055855",
   "metadata": {},
   "source": [
    "* https://github.com/containous/traefik/\n",
    "* https://traefik.io/\n",
    "* https://docs.traefik.io/routing/overview/"
   ]
  },
  {
   "cell_type": "markdown",
   "id": "248a1a09-888d-4efa-bf55-1cb55f67a2fd",
   "metadata": {},
   "source": [
    "## Traefik Dashboard"
   ]
  },
  {
   "cell_type": "code",
   "execution_count": null,
   "id": "7ae0c2bb-4d2c-4386-8663-939e72052d8a",
   "metadata": {},
   "outputs": [],
   "source": [
    "sudo apt install apache2-utils"
   ]
  },
  {
   "cell_type": "code",
   "execution_count": 4,
   "id": "58b0e9fd-7bc4-419f-b934-f28b52a9e21f",
   "metadata": {
    "tags": []
   },
   "outputs": [],
   "source": [
    "cat << EOF > /opt/tljh/state/rules/dashboard.toml\n",
    "[api]\n",
    "  # Dashboard\n",
    "  #\n",
    "  # Optional\n",
    "  # Default: true\n",
    "  #\n",
    "  dashboard = true\n",
    "\n",
    "[http.routers.route-dashboard]\n",
    "  rule = \"Host(\\`jhub.dtype.info\\`) && PathPrefix(\\`/api\\`, \\`/dashboard\\`)\"\n",
    "  service = \"api@internal\"\n",
    "  middlewares = [\"dashboard\"]\n",
    "\n",
    "[http.middlewares.dashboard.basicAuth]\n",
    "  users = [\n",
    "    \"$(htpasswd -nb api_admin fdsa)\",\n",
    "  ]\n",
    "EOF"
   ]
  },
  {
   "cell_type": "code",
   "execution_count": 9,
   "id": "9efda0ac-550c-40e0-a80e-975523ea452d",
   "metadata": {
    "tags": []
   },
   "outputs": [],
   "source": [
    "sudo systemctl restart traefik"
   ]
  },
  {
   "cell_type": "code",
   "execution_count": null,
   "id": "fecf9cd0-a510-47c4-8e07-247ee9d816d8",
   "metadata": {
    "tags": []
   },
   "outputs": [],
   "source": [
    "sudo tljh-config reload hub"
   ]
  },
  {
   "cell_type": "code",
   "execution_count": null,
   "id": "1f350983-75df-4b29-8ed8-0b9015f69bf7",
   "metadata": {},
   "outputs": [],
   "source": [
    "curl -u api_admin:fdsa jhub.name:8099"
   ]
  },
  {
   "cell_type": "code",
   "execution_count": null,
   "id": "3bc2f0ac-93b3-4700-8b7f-5986a0757922",
   "metadata": {},
   "outputs": [],
   "source": [
    "curl -u api_admin:fdsa localhost:8099"
   ]
  },
  {
   "cell_type": "code",
   "execution_count": null,
   "id": "b250bc89-f2c1-482f-bb7b-b6ca512a7611",
   "metadata": {},
   "outputs": [],
   "source": [
    "%%javascript\n",
    "const Http = new XMLHttpRequest();\n",
    "Http.withCredentials = true;\n",
    "Http.open('GET', 'http://jhub.name:8099');\n",
    "Http.send();\n",
    "if (Http.status != 200) {\n",
    "    alert(`Error: ${Http.status}`);\n",
    "} else {\n",
    "    alert(Http.responseText);\n",
    "}"
   ]
  },
  {
   "cell_type": "markdown",
   "id": "5f861826-cd6c-40b6-ad4a-77bd915b25b9",
   "metadata": {},
   "source": [
    "### Rollback Settings"
   ]
  },
  {
   "cell_type": "code",
   "execution_count": null,
   "id": "a20e7615-d69a-434b-8db9-893c22bce4de",
   "metadata": {
    "tags": []
   },
   "outputs": [],
   "source": [
    "sudo tljh-config reload proxy"
   ]
  },
  {
   "cell_type": "markdown",
   "id": "deefeee7-0bc4-4f44-a0c5-d4736ddf1d45",
   "metadata": {},
   "source": [
    "---\n",
    "[Kubernetes Ingress Provider for Traefik v2.10](https://doc.traefik.io/traefik/v2.10/providers/kubernetes-ingress/)"
   ]
  },
  {
   "cell_type": "code",
   "execution_count": null,
   "id": "1fbf8940-3adf-4dd2-920d-0b50493ed097",
   "metadata": {},
   "outputs": [
    {
     "name": "stdout",
     "output_type": "stream",
     "text": [
      "secret/traefik-token created\n"
     ]
    }
   ],
   "source": [
    "kubectl apply -f - << EOF\n",
    "apiVersion: v1\n",
    "kind: Secret\n",
    "metadata:\n",
    "  name: traefik-token\n",
    "  namespace: traefik\n",
    "  annotations:\n",
    "    kubernetes.io/service-account.name: default\n",
    "type: kubernetes.io/service-account-token\n",
    "EOF"
   ]
  },
  {
   "cell_type": "code",
   "execution_count": 5,
   "id": "a441b13e-6419-44ef-bb18-fffee43dd1d6",
   "metadata": {},
   "outputs": [
    {
     "name": "stdout",
     "output_type": "stream",
     "text": [
      "{\n",
      "  \"kind\": \"APIVersions\",\n",
      "  \"versions\": [\n",
      "    \"v1\"\n",
      "  ],\n",
      "  \"serverAddressByClientCIDRs\": [\n",
      "    {\n",
      "      \"clientCIDR\": \"0.0.0.0/0\",\n",
      "      \"serverAddress\": \"10.8.0.1:6443\"\n",
      "    }\n",
      "  ]\n",
      "}\n"
     ]
    }
   ],
   "source": [
    "APISERVER=$(kubectl config view --minify | grep server | cut -f 2- -d \":\" | tr -d \" \")\n",
    "TOKEN=$(kubectl describe secret traefik-token -n traefik | grep -E '^token' | cut -f2 -d':' | tr -d \" \")\n",
    "curl $APISERVER/api --header \"Authorization: Bearer $TOKEN\" --insecure"
   ]
  },
  {
   "cell_type": "code",
   "execution_count": null,
   "id": "0cda831e-2204-44b5-850e-2c876523039f",
   "metadata": {},
   "outputs": [],
   "source": [
    "kubectl get configmaps kube-root-ca.crt -o jsonpath='{.data.ca\\.crt}' > /opt/tljh/state/ca.crt"
   ]
  },
  {
   "cell_type": "code",
   "execution_count": null,
   "id": "587c4a04-1e89-4b03-b9cb-8c160f90720f",
   "metadata": {
    "tags": []
   },
   "outputs": [],
   "source": [
    "cat << EOF | sudo tee /opt/tljh/state/traefik.toml\n",
    "[api]\n",
    "\n",
    "[log]\n",
    "level = \"INFO\"\n",
    "\n",
    "[accessLog]\n",
    "format = \"json\"\n",
    "\n",
    "[providers]\n",
    "providersThrottleDuration = \"0s\"\n",
    "\n",
    "[accessLog.filters]\n",
    "statusCodes = [ \"500-999\",]\n",
    "\n",
    "[entryPoints.http]\n",
    "address = \":80\"\n",
    "\n",
    "[entryPoints.https]\n",
    "address = \":443\"\n",
    "\n",
    "[entryPoints.auth_api]\n",
    "address = \"localhost:8099\"\n",
    "\n",
    "[providers.file]\n",
    "directory = \"/opt/tljh/state/rules\"\n",
    "watch = true\n",
    "\n",
    "[certificatesResolvers.letsencrypt.acme]\n",
    "email = \"saintway.sakaru@gmail.com\"\n",
    "storage = \"acme.json\"\n",
    "\n",
    "[accessLog.fields.headers.names]\n",
    "Authorization = \"redact\"\n",
    "Cookie = \"redact\"\n",
    "Set-Cookie = \"redact\"\n",
    "X-Xsrftoken = \"redact\"\n",
    "\n",
    "[entryPoints.http.transport.respondingTimeouts]\n",
    "idleTimeout = \"10m\"\n",
    "\n",
    "[entryPoints.https.http.tls]\n",
    "options = \"default\"\n",
    "\n",
    "[entryPoints.https.transport.respondingTimeouts]\n",
    "idleTimeout = \"10m\"\n",
    "\n",
    "[certificatesResolvers.letsencrypt.acme.tlsChallenge]\n",
    "\n",
    "[entryPoints.http.http.redirections.entryPoint]\n",
    "to = \"https\"\n",
    "scheme = \"https\"\n",
    "\n",
    "[providers.kubernetesIngress]\n",
    "  endpoint = \"$APISERVER\"\n",
    "  token = \"$TOKEN\"\n",
    "  certAuthFilePath = \"/opt/tljh/state/ca.crt\"\n",
    "\n",
    "[providers.kubernetesIngress.ingressEndpoint]\n",
    "  hostname = \"jhub.dtype.info\"\n",
    "EOF"
   ]
  },
  {
   "cell_type": "markdown",
   "id": "9a3e9f4c-6d4a-4906-80ac-81a63b67ea36",
   "metadata": {},
   "source": [
    "---\n",
    "[MetalLB for bare metal Kubernetes clusters](https://metallb.org/)"
   ]
  }
 ],
 "metadata": {
  "kernelspec": {
   "display_name": "Bash",
   "language": "bash",
   "name": "bash"
  },
  "language_info": {
   "codemirror_mode": "shell",
   "file_extension": ".sh",
   "mimetype": "text/x-sh",
   "name": "bash"
  }
 },
 "nbformat": 4,
 "nbformat_minor": 5
}
