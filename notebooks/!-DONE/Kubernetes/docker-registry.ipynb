{
 "cells": [
  {
   "cell_type": "markdown",
   "id": "d3dbcc37-5022-47cd-ba3a-af80121d7089",
   "metadata": {},
   "source": [
    "---\n",
    "Docker Registry by Helm"
   ]
  },
  {
   "cell_type": "code",
   "execution_count": null,
   "id": "b0f03c54-5ac6-41f2-8664-11484c3ead0a",
   "metadata": {},
   "outputs": [
    {
     "name": "stdout",
     "output_type": "stream",
     "text": [
      "--2024-04-11 16:19:34--  https://get.helm.sh/helm-v3.14.4-linux-amd64.tar.gz\n",
      "Resolving get.helm.sh (get.helm.sh)... 152.199.39.108, 2606:2800:247:1cb7:261b:1f9c:2074:3c\n",
      "Connecting to get.helm.sh (get.helm.sh)|152.199.39.108|:443... connected.\n",
      "HTTP request sent, awaiting response... 200 OK\n",
      "Length: 16162235 (15M) [application/x-tar]\n",
      "Saving to: ‘helm-v3.14.4-linux-amd64.tar.gz’\n",
      "\n",
      "helm-v3.14.4-linux- 100%[===================>]  15.41M  2.74MB/s    in 5.1s    \n",
      "\n",
      "2024-04-11 16:19:40 (3.01 MB/s) - ‘helm-v3.14.4-linux-amd64.tar.gz’ saved [16162235/16162235]\n",
      "\n"
     ]
    }
   ],
   "source": [
    "wget https://get.helm.sh/helm-v3.14.4-linux-amd64.tar.gz"
   ]
  },
  {
   "cell_type": "code",
   "execution_count": null,
   "id": "1c192d0d-c17b-409b-88ff-a7bcdaf1abb9",
   "metadata": {},
   "outputs": [
    {
     "name": "stdout",
     "output_type": "stream",
     "text": [
      "linux-amd64/\n",
      "linux-amd64/README.md\n",
      "linux-amd64/LICENSE\n",
      "linux-amd64/helm\n"
     ]
    }
   ],
   "source": [
    "tar -xvzf helm-v3.14.4-linux-amd64.tar.gz"
   ]
  },
  {
   "cell_type": "code",
   "execution_count": null,
   "id": "ca959054-ce07-402d-803f-632ad7a84dd2",
   "metadata": {},
   "outputs": [],
   "source": [
    "sudo mv linux-amd64/helm /usr/local/bin/helm"
   ]
  },
  {
   "cell_type": "code",
   "execution_count": null,
   "id": "5d41db51-569a-42d7-9eab-f93bd31d5d5c",
   "metadata": {},
   "outputs": [],
   "source": [
    "rm -rf linux-amd64"
   ]
  },
  {
   "cell_type": "markdown",
   "id": "28ff1bb7-473b-4fb9-953d-fd7e4bf1c139",
   "metadata": {},
   "source": [
    "---\n",
    "deploy"
   ]
  },
  {
   "cell_type": "code",
   "execution_count": null,
   "id": "e431130c-d62b-404c-8996-b7e1e4fb883c",
   "metadata": {},
   "outputs": [],
   "source": [
    "helm repo add stable https://charts.helm.sh/stable\n",
    "helm repo update"
   ]
  },
  {
   "cell_type": "code",
   "execution_count": null,
   "id": "df1db786-eeab-4cd1-bc3d-5c5b21a53311",
   "metadata": {},
   "outputs": [
    {
     "name": "stdout",
     "output_type": "stream",
     "text": [
      "NAME                \tURL                                    \n",
      "stable              \thttps://charts.helm.sh/stable          \n",
      "kubernetes-dashboard\thttps://kubernetes.github.io/dashboard/\n"
     ]
    }
   ],
   "source": [
    "helm repo list"
   ]
  },
  {
   "cell_type": "code",
   "execution_count": null,
   "id": "465d2704-6327-4f01-a36d-2c0cf6344f5f",
   "metadata": {},
   "outputs": [
    {
     "name": "stdout",
     "output_type": "stream",
     "text": [
      "NAME: docker-registry\n",
      "LAST DEPLOYED: Sat Apr 13 21:23:45 2024\n",
      "NAMESPACE: default\n",
      "STATUS: deployed\n",
      "REVISION: 1\n",
      "TEST SUITE: None\n",
      "NOTES:\n",
      "1. Get the application URL by running these commands:\n",
      "  export POD_NAME=$(kubectl get pods --namespace default -l \"app=docker-registry,release=docker-registry\" -o jsonpath=\"{.items[0].metadata.name}\")\n",
      "  echo \"Visit http://127.0.0.1:8080 to use your application\"\n",
      "  kubectl -n default port-forward $POD_NAME 8080:5000\n"
     ]
    }
   ],
   "source": [
    "helm upgrade --install docker-registry docker-registry --repo https://helm.twun.io --namespace docker-registry --create-namespace"
   ]
  },
  {
   "cell_type": "code",
   "execution_count": null,
   "id": "30eaadee-a9d9-48fe-8d41-c4d8f06d5a0f",
   "metadata": {},
   "outputs": [],
   "source": [
    "helm list -A"
   ]
  },
  {
   "cell_type": "code",
   "execution_count": null,
   "id": "f32bb839-b992-47a5-aeb6-f31edec7f8ec",
   "metadata": {},
   "outputs": [],
   "source": [
    "export POD_NAME=$(\n",
    "  kubectl get pods --namespace docker-registry -l \"app=docker-registry,release=docker-registry\" -o jsonpath=\"{.items[0].metadata.name}\"\n",
    ")"
   ]
  },
  {
   "cell_type": "code",
   "execution_count": null,
   "id": "1f9cc40b-f7f6-4929-b4c7-392ce84d706e",
   "metadata": {},
   "outputs": [],
   "source": [
    "kubectl get pod $POD_NAME -n docker-registry -o wide"
   ]
  },
  {
   "cell_type": "code",
   "execution_count": null,
   "id": "012009f7-436a-424a-b70f-3b1c28a7ac51",
   "metadata": {},
   "outputs": [],
   "source": [
    "kubectl logs $POD_NAME --namespace docker-registry"
   ]
  },
  {
   "cell_type": "code",
   "execution_count": null,
   "id": "fb6e41c6-71fe-4b2d-9ebb-bfa3a3abbfae",
   "metadata": {},
   "outputs": [],
   "source": [
    "kubectl describe pod $POD_NAME --namespace docker-registry"
   ]
  },
  {
   "cell_type": "code",
   "execution_count": null,
   "id": "b24e6111-8a7e-49ae-a526-02be6cf419d7",
   "metadata": {},
   "outputs": [
    {
     "name": "stdout",
     "output_type": "stream",
     "text": [
      "release \"docker-registry\" uninstalled\n"
     ]
    }
   ],
   "source": [
    "helm uninstall docker-registry -n docker-registry"
   ]
  },
  {
   "cell_type": "code",
   "execution_count": 1,
   "id": "06e12d23-7186-4f6d-b546-0683050614ef",
   "metadata": {
    "tags": []
   },
   "outputs": [
    {
     "name": "stdout",
     "output_type": "stream",
     "text": [
      "namespace \"docker-registry\" deleted\n"
     ]
    }
   ],
   "source": [
    "kubectl delete namespace docker-registry"
   ]
  },
  {
   "cell_type": "markdown",
   "id": "ba7f6696-bcd6-4003-8ac4-11f271f5c5e8",
   "metadata": {},
   "source": [
    "---\n",
    "deploy"
   ]
  },
  {
   "cell_type": "markdown",
   "id": "4d5d4e4d-124f-4883-8855-980fc63a9a03",
   "metadata": {},
   "source": [
    "https://kubernetes.github.io/ingress-nginx/examples/docker-registry/"
   ]
  },
  {
   "cell_type": "code",
   "execution_count": 2,
   "id": "5ca82dc3-f0c8-4125-a6cc-40ce0c20c8bb",
   "metadata": {
    "tags": []
   },
   "outputs": [
    {
     "name": "stdout",
     "output_type": "stream",
     "text": [
      "namespace/docker-registry created\n",
      "deployment.apps/docker-registry created\n",
      "service/docker-registry created\n"
     ]
    }
   ],
   "source": [
    "kubectl apply -f https://raw.githubusercontent.com/kubernetes/ingress-nginx/main/docs/examples/docker-registry/deployment.yaml"
   ]
  },
  {
   "cell_type": "code",
   "execution_count": null,
   "id": "e7fc34e3-2e40-4073-a009-713cfbf407e7",
   "metadata": {},
   "outputs": [
    {
     "name": "stdout",
     "output_type": "stream",
     "text": [
      "NAMESPACE              NAME                                                   READY   STATUS      RESTARTS   AGE\n",
      "docker-registry        docker-registry-68f8d8dc67-qkp57                       1/1     Running     0          26s\n",
      "ingress-nginx          ingress-nginx-admission-create-qskjp                   0/1     Completed   0          57m\n",
      "ingress-nginx          ingress-nginx-admission-patch-dbg69                    0/1     Completed   1          57m\n",
      "ingress-nginx          ingress-nginx-controller-7dcdbcff84-jrccz              1/1     Running     0          57m\n",
      "kube-flannel           kube-flannel-ds-lcndk                                  1/1     Running     0          7h22m\n",
      "kube-flannel           kube-flannel-ds-lpr4m                                  1/1     Running     0          7h27m\n",
      "kube-system            coredns-76f75df574-7sbbl                               1/1     Running     0          7h17m\n",
      "kube-system            coredns-76f75df574-zmsv2                               1/1     Running     0          7h16m\n",
      "kube-system            etcd-free-vpn                                          1/1     Running     1          7h39m\n",
      "kube-system            kube-apiserver-free-vpn                                1/1     Running     1          7h39m\n",
      "kube-system            kube-controller-manager-free-vpn                       1/1     Running     0          7h39m\n",
      "kube-system            kube-proxy-cpvfc                                       1/1     Running     0          7h39m\n",
      "kube-system            kube-proxy-j96n6                                       1/1     Running     0          7h22m\n",
      "kube-system            kube-scheduler-free-vpn                                1/1     Running     56         7h39m\n",
      "kubernetes-dashboard   kubernetes-dashboard-api-66856c6445-98fgb              1/1     Running     0          4h9m\n",
      "kubernetes-dashboard   kubernetes-dashboard-auth-6849975756-98mc9             1/1     Running     0          4h9m\n",
      "kubernetes-dashboard   kubernetes-dashboard-kong-75bb76dd5f-564cb             1/1     Running     0          4h9m\n",
      "kubernetes-dashboard   kubernetes-dashboard-metrics-scraper-6485f66c7-l8wll   1/1     Running     0          4h9m\n",
      "kubernetes-dashboard   kubernetes-dashboard-web-6fc6cd548-spf6n               1/1     Running     0          4h9m\n"
     ]
    }
   ],
   "source": [
    "kubectl get pods -A"
   ]
  },
  {
   "cell_type": "code",
   "execution_count": null,
   "id": "b7254247-a841-48e0-94cb-0ab9a177cb9a",
   "metadata": {},
   "outputs": [],
   "source": [
    "export POD_NAME=$(\n",
    "  kubectl get pods -A -l 'app=docker-registry' -o jsonpath='{.items[0].metadata.name}'\n",
    ")"
   ]
  },
  {
   "cell_type": "code",
   "execution_count": null,
   "id": "bf266ef6-7c20-421c-8ea7-044106dfcf7c",
   "metadata": {},
   "outputs": [
    {
     "name": "stdout",
     "output_type": "stream",
     "text": [
      "NAME                               READY   STATUS    RESTARTS   AGE    IP            NODE         NOMINATED NODE   READINESS GATES\n",
      "docker-registry-68f8d8dc67-pcbbr   1/1     Running   0          100m   10.244.1.25   msd-npc112   <none>           <none>\n"
     ]
    }
   ],
   "source": [
    "kubectl get pod $POD_NAME -n docker-registry -o wide"
   ]
  },
  {
   "cell_type": "code",
   "execution_count": null,
   "id": "5e437bb2-bef2-4759-9ea5-0a03186ceeef",
   "metadata": {},
   "outputs": [],
   "source": [
    "echo 'Visit http://127.0.0.1:5200 to use your application'"
   ]
  },
  {
   "cell_type": "code",
   "execution_count": null,
   "id": "1c47f5eb-bc73-4d3f-8599-7541fc605bf9",
   "metadata": {},
   "outputs": [],
   "source": [
    "kubectl port-forward $POD_NAME -n docker-registry 5200:5000"
   ]
  },
  {
   "cell_type": "code",
   "execution_count": 3,
   "id": "6ce01ff4-9576-4fd1-9798-a7244627571b",
   "metadata": {},
   "outputs": [
    {
     "name": "stdout",
     "output_type": "stream",
     "text": [
      "NAME              TYPE        CLUSTER-IP      EXTERNAL-IP   PORT(S)    AGE\n",
      "docker-registry   ClusterIP   10.110.50.247   <none>        5000/TCP   71s\n"
     ]
    }
   ],
   "source": [
    "kubectl get service docker-registry -n docker-registry"
   ]
  },
  {
   "cell_type": "code",
   "execution_count": null,
   "id": "54af6b93-b530-417c-8054-09dcb8ce22b3",
   "metadata": {
    "tags": []
   },
   "outputs": [
    {
     "name": "stdout",
     "output_type": "stream",
     "text": [
      "Forwarding from 127.0.0.1:5200 -> 5000\n",
      "Forwarding from [::1]:5200 -> 5000\n"
     ]
    }
   ],
   "source": [
    "kubectl port-forward service/docker-registry -n docker-registry 5200:5000"
   ]
  },
  {
   "cell_type": "markdown",
   "id": "4377a8f3-6436-497c-a192-fc63b2bbb5b1",
   "metadata": {},
   "source": [
    "---\n",
    "service"
   ]
  },
  {
   "cell_type": "code",
   "execution_count": null,
   "id": "6f1233af-808c-46f6-a240-cbaa54a61800",
   "metadata": {},
   "outputs": [],
   "source": [
    "kubectl get service docker-registry -n default -o yaml > docker-registry-service.yaml"
   ]
  },
  {
   "cell_type": "code",
   "execution_count": null,
   "id": "e887fa43-a26a-4c8e-ade6-659740ac48cc",
   "metadata": {},
   "outputs": [],
   "source": [
    "cat << EOF > docker-registry-service.yaml\n",
    "apiVersion: v1\n",
    "kind: Service\n",
    "metadata:\n",
    "  annotations:\n",
    "    meta.helm.sh/release-name: docker-registry\n",
    "    meta.helm.sh/release-namespace: default\n",
    "  name: docker-registry\n",
    "  namespace: docker-registry\n",
    "spec:\n",
    "  type: ClusterIP\n",
    "  ports:\n",
    "  - port: 5000\n",
    "    targetPort: 5000\n",
    "EOF"
   ]
  },
  {
   "cell_type": "code",
   "execution_count": null,
   "id": "33430a3b-87e7-40cb-9a23-78d218d61666",
   "metadata": {},
   "outputs": [],
   "source": [
    "kubectl apply -f docker-registry-service.yaml"
   ]
  },
  {
   "cell_type": "code",
   "execution_count": null,
   "id": "09e90aa9-e4a2-474f-a0d1-aff8cec5c86f",
   "metadata": {},
   "outputs": [],
   "source": [
    "kubectl get service docker-registry -n docker-registry"
   ]
  },
  {
   "cell_type": "markdown",
   "id": "e6a30944-5b6e-488c-8e8e-13bf9a0de0fd",
   "metadata": {},
   "source": [
    "---\n",
    "service"
   ]
  },
  {
   "cell_type": "code",
   "execution_count": null,
   "id": "f0db6610-d154-49c0-b502-3a53ebcfeeb4",
   "metadata": {},
   "outputs": [],
   "source": [
    "cat << EOF > docker-registry-service.yaml\n",
    "apiVersion: v1\n",
    "kind: Service\n",
    "metadata:\n",
    "  annotations:\n",
    "    meta.helm.sh/release-name: docker-registry\n",
    "    meta.helm.sh/release-namespace: default\n",
    "  name: docker-registry\n",
    "  namespace: docker-registry\n",
    "spec:\n",
    "  type: NodePort\n",
    "  ports:\n",
    "  - port: 5000\n",
    "    targetPort: 5000\n",
    "    nodePort: 32500\n",
    "EOF"
   ]
  },
  {
   "cell_type": "code",
   "execution_count": null,
   "id": "5d5345fc-b3cf-4f7c-94a4-a36c08700973",
   "metadata": {},
   "outputs": [
    {
     "name": "stdout",
     "output_type": "stream",
     "text": [
      "service/docker-registry configured\n"
     ]
    }
   ],
   "source": [
    "kubectl apply -f docker-registry-service.yaml"
   ]
  },
  {
   "cell_type": "code",
   "execution_count": null,
   "id": "376971a3-fd86-43c0-9d1d-4ee0ee94cd1e",
   "metadata": {},
   "outputs": [
    {
     "name": "stdout",
     "output_type": "stream",
     "text": [
      "NAME              TYPE       CLUSTER-IP     EXTERNAL-IP   PORT(S)          AGE\n",
      "docker-registry   NodePort   10.98.106.37   <none>        5000:32500/TCP   36m\n"
     ]
    }
   ],
   "source": [
    "kubectl get service docker-registry -n docker-registry"
   ]
  },
  {
   "cell_type": "markdown",
   "id": "edfb7e1d-efe9-43de-a044-e823f5cfad87",
   "metadata": {},
   "source": [
    "---\n",
    "service"
   ]
  },
  {
   "cell_type": "code",
   "execution_count": null,
   "id": "dad08521-b303-4023-ab59-6ce4c0d1753e",
   "metadata": {},
   "outputs": [],
   "source": [
    "cat << EOF > docker-registry-service.yaml\n",
    "apiVersion: v1\n",
    "kind: Service\n",
    "metadata:\n",
    "  annotations:\n",
    "    meta.helm.sh/release-name: docker-registry\n",
    "    meta.helm.sh/release-namespace: default\n",
    "  name: docker-registry\n",
    "  namespace: docker-registry\n",
    "spec:\n",
    "  externalIPs:\n",
    "    - 172.28.242.11\n",
    "  ports:\n",
    "  - port: 5000\n",
    "    targetPort: 5000\n",
    "EOF"
   ]
  },
  {
   "cell_type": "code",
   "execution_count": null,
   "id": "05076e56-fe99-41f4-b64d-c5d34fce1372",
   "metadata": {},
   "outputs": [
    {
     "name": "stdout",
     "output_type": "stream",
     "text": [
      "service/docker-registry configured\n"
     ]
    }
   ],
   "source": [
    "kubectl apply -f docker-registry-service.yaml"
   ]
  },
  {
   "cell_type": "code",
   "execution_count": null,
   "id": "543e33d1-6eeb-46f4-b403-c56af469328d",
   "metadata": {},
   "outputs": [
    {
     "name": "stdout",
     "output_type": "stream",
     "text": [
      "NAME              TYPE        CLUSTER-IP     EXTERNAL-IP     PORT(S)    AGE\n",
      "docker-registry   ClusterIP   10.98.106.37   172.28.242.11   5000/TCP   137m\n"
     ]
    }
   ],
   "source": [
    "kubectl get service docker-registry -n docker-registry"
   ]
  },
  {
   "cell_type": "markdown",
   "id": "3709de27-71d5-4dd1-bca8-60d8d7ad3e61",
   "metadata": {},
   "source": [
    "---\n",
    "ingress controller"
   ]
  },
  {
   "cell_type": "markdown",
   "id": "f0e06e5c-d845-4043-a2c9-ec184ef33e67",
   "metadata": {},
   "source": [
    "https://kubernetes.github.io/ingress-nginx/deploy/"
   ]
  },
  {
   "cell_type": "code",
   "execution_count": null,
   "id": "9648688d-ff63-4db6-a080-1f6da4702617",
   "metadata": {},
   "outputs": [],
   "source": [
    "helm upgrade --install ingress-nginx ingress-nginx --repo https://kubernetes.github.io/ingress-nginx \\\n",
    "--namespace ingress-nginx --create-namespace"
   ]
  },
  {
   "cell_type": "markdown",
   "id": "aeaf554c-8c34-4c0f-a238-9a506b05c9ce",
   "metadata": {},
   "source": [
    "---\n",
    "ingress controller"
   ]
  },
  {
   "cell_type": "raw",
   "id": "d2f24a5e-43d3-42e1-8651-5a03faa4934c",
   "metadata": {},
   "source": [
    "wget https://raw.githubusercontent.com/kubernetes/ingress-nginx/controller-v1.10.0/deploy/static/provider/cloud/deploy.yaml"
   ]
  },
  {
   "cell_type": "code",
   "execution_count": null,
   "id": "cee21c21-13e8-4e3d-9fc0-2161e7da7577",
   "metadata": {},
   "outputs": [],
   "source": [
    "kubectl apply -f https://raw.githubusercontent.com/kubernetes/ingress-nginx/controller-v1.10.0/deploy/static/provider/cloud/deploy.yaml"
   ]
  },
  {
   "cell_type": "markdown",
   "id": "bf3b4de8-2134-4e72-816e-e92ec6b9180c",
   "metadata": {},
   "source": [
    "---\n",
    "ingress"
   ]
  },
  {
   "cell_type": "code",
   "execution_count": 1,
   "id": "2a41db5b-0dbe-4762-ac37-973526e17a81",
   "metadata": {
    "tags": []
   },
   "outputs": [],
   "source": [
    "cat << EOF > docker-registry-ingress.yaml\n",
    "apiVersion: networking.k8s.io/v1\n",
    "kind: Ingress\n",
    "metadata:\n",
    "  name: docker-registry\n",
    "  namespace: docker-registry\n",
    "spec:\n",
    "  defaultBackend:\n",
    "    service:\n",
    "      name: docker-registry\n",
    "      port:\n",
    "        number: 5000\n",
    "EOF"
   ]
  },
  {
   "cell_type": "markdown",
   "id": "4ff66771-623d-4132-9d79-7707d751ba7e",
   "metadata": {},
   "source": [
    "---\n",
    "ingress tls secret"
   ]
  },
  {
   "cell_type": "code",
   "execution_count": null,
   "id": "50a8f3df-efbf-4a1c-b2b8-e3d4fe8748cf",
   "metadata": {
    "tags": []
   },
   "outputs": [],
   "source": [
    "sudo systemctl stop traefik\n",
    "sudo certbot certonly --standalone --agree-tos --email saintway.sakaru@gmail.com -d registry.dtype.info -d jhub.dtype.info --renew-by-default"
   ]
  },
  {
   "cell_type": "markdown",
   "id": "f0d192ac-ce8a-46fe-a4fb-0e4c9a1640a6",
   "metadata": {},
   "source": [
    "```\n",
    "Saving debug log to /var/log/letsencrypt/letsencrypt.log\n",
    "Plugins selected: Authenticator standalone, Installer None\n",
    "Renewing an existing certificate for registry.dtype.info and jhub.dtype.info\n",
    "\n",
    "IMPORTANT NOTES:\n",
    " - Congratulations! Your certificate and chain have been saved at:\n",
    "   /etc/letsencrypt/live/registry.dtype.info/fullchain.pem\n",
    "   Your key file has been saved at:\n",
    "   /etc/letsencrypt/live/registry.dtype.info/privkey.pem\n",
    "   Your certificate will expire on 2024-07-15. To obtain a new or\n",
    "   tweaked version of this certificate in the future, simply run\n",
    "   certbot again. To non-interactively renew *all* of your\n",
    "   certificates, run \"certbot renew\"\n",
    " - If you like Certbot, please consider supporting our work by:\n",
    "\n",
    "   Donating to ISRG / Let's Encrypt:   https://letsencrypt.org/donate\n",
    "   Donating to EFF:                    https://eff.org/donate-le\n",
    "```"
   ]
  },
  {
   "cell_type": "code",
   "execution_count": null,
   "id": "814f125d-bc9a-48b0-b34b-231b83895f2f",
   "metadata": {},
   "outputs": [],
   "source": [
    "sudo systemctl start traefik\n",
    "sudo tljh-config reload hub"
   ]
  },
  {
   "cell_type": "code",
   "execution_count": 8,
   "id": "575f83b2-cbde-4a5d-8f77-6ee2ff0662e1",
   "metadata": {
    "tags": []
   },
   "outputs": [
    {
     "name": "stdout",
     "output_type": "stream",
     "text": [
      "secret/registry-tls created\n"
     ]
    }
   ],
   "source": [
    "kubectl apply -f - << EOF\n",
    "apiVersion: v1\n",
    "kind: Secret\n",
    "metadata:\n",
    "  name: registry-tls\n",
    "  namespace: docker-registry\n",
    "data:\n",
    "  tls.crt: $(sudo base64 -w 0 /etc/letsencrypt/live/registry.dtype.info/fullchain.pem)\n",
    "  tls.key: $(sudo base64 -w 0 /etc/letsencrypt/live/registry.dtype.info/privkey.pem)\n",
    "type: kubernetes.io/tls\n",
    "EOF"
   ]
  },
  {
   "cell_type": "markdown",
   "id": "21be98e0-f60c-480e-8228-ae9bc668a9aa",
   "metadata": {},
   "source": [
    "---\n",
    "ingress"
   ]
  },
  {
   "cell_type": "raw",
   "id": "b748ff15-0c94-4b51-98f2-d2627b9beb9e",
   "metadata": {},
   "source": [
    "wget https://raw.githubusercontent.com/kubernetes/ingress-nginx/main/docs/examples/docker-registry/ingress-with-tls.yaml"
   ]
  },
  {
   "cell_type": "code",
   "execution_count": 1,
   "id": "3035c733-e7b0-4662-ab4c-8c8790f85449",
   "metadata": {},
   "outputs": [],
   "source": [
    "cat << EOF > docker-registry-ingress.yaml\n",
    "apiVersion: networking.k8s.io/v1\n",
    "kind: Ingress\n",
    "metadata:\n",
    "  annotations:\n",
    "    kubernetes.io/tls-acme: 'true'\n",
    "  name: docker-registry\n",
    "  namespace: docker-registry\n",
    "spec:\n",
    "  tls:\n",
    "  - hosts:\n",
    "    - registry.dtype.info\n",
    "    secretName: registry-tls\n",
    "  rules:\n",
    "  - host: registry.dtype.info\n",
    "    http:\n",
    "      paths:\n",
    "      - path: /\n",
    "        pathType: Prefix\n",
    "        backend:\n",
    "          service:\n",
    "            name: docker-registry\n",
    "            port:\n",
    "              number: 5000\n",
    "EOF"
   ]
  },
  {
   "cell_type": "code",
   "execution_count": 2,
   "id": "8ed59f4d-937a-41af-a2b1-ac1523eff468",
   "metadata": {
    "tags": []
   },
   "outputs": [
    {
     "name": "stdout",
     "output_type": "stream",
     "text": [
      "ingress.networking.k8s.io/docker-registry configured\n"
     ]
    }
   ],
   "source": [
    "kubectl apply -f docker-registry-ingress.yaml"
   ]
  },
  {
   "cell_type": "code",
   "execution_count": null,
   "id": "9b1e69d0-2b63-4078-a6d4-b54e86c1b091",
   "metadata": {},
   "outputs": [
    {
     "name": "stdout",
     "output_type": "stream",
     "text": [
      "NAMESPACE              NAME                                                   READY   STATUS    RESTARTS   AGE\n",
      "docker-registry        docker-registry-68f8d8dc67-qkp57                       1/1     Running   0          25m\n",
      "kube-flannel           kube-flannel-ds-lcndk                                  1/1     Running   0          7h47m\n",
      "kube-flannel           kube-flannel-ds-lpr4m                                  1/1     Running   0          7h52m\n",
      "kube-system            coredns-76f75df574-7sbbl                               1/1     Running   0          7h42m\n",
      "kube-system            coredns-76f75df574-zmsv2                               1/1     Running   0          7h42m\n",
      "kube-system            etcd-free-vpn                                          1/1     Running   1          8h\n",
      "kube-system            kube-apiserver-free-vpn                                1/1     Running   1          8h\n",
      "kube-system            kube-controller-manager-free-vpn                       1/1     Running   0          8h\n",
      "kube-system            kube-proxy-cpvfc                                       1/1     Running   0          8h\n",
      "kube-system            kube-proxy-j96n6                                       1/1     Running   0          7h47m\n",
      "kube-system            kube-scheduler-free-vpn                                1/1     Running   56         8h\n",
      "kubernetes-dashboard   kubernetes-dashboard-api-66856c6445-98fgb              1/1     Running   0          4h34m\n",
      "kubernetes-dashboard   kubernetes-dashboard-auth-6849975756-98mc9             1/1     Running   0          4h34m\n",
      "kubernetes-dashboard   kubernetes-dashboard-kong-75bb76dd5f-564cb             1/1     Running   0          4h34m\n",
      "kubernetes-dashboard   kubernetes-dashboard-metrics-scraper-6485f66c7-l8wll   1/1     Running   0          4h34m\n",
      "kubernetes-dashboard   kubernetes-dashboard-web-6fc6cd548-spf6n               1/1     Running   0          4h34m\n"
     ]
    }
   ],
   "source": [
    "kubectl get pods -A"
   ]
  },
  {
   "cell_type": "code",
   "execution_count": 1,
   "id": "3a26a994-2d1f-448a-836c-72ec9ee2301a",
   "metadata": {},
   "outputs": [
    {
     "name": "stdout",
     "output_type": "stream",
     "text": [
      "NAMESPACE         NAME              CLASS    HOSTS                 ADDRESS           PORTS     AGE\n",
      "docker-registry   docker-registry   <none>   registry.dtype.info   jhub.dtype.info   80, 443   29h\n"
     ]
    }
   ],
   "source": [
    "kubectl get ingress -A"
   ]
  },
  {
   "cell_type": "code",
   "execution_count": 2,
   "id": "8dd87a73-6dfd-4932-9c80-978ca9e6cb14",
   "metadata": {
    "tags": []
   },
   "outputs": [],
   "source": [
    "curl https://registry.dtype.info"
   ]
  },
  {
   "cell_type": "markdown",
   "id": "637ca0e6-e798-4cca-91b5-4ea98b77b32e",
   "metadata": {},
   "source": [
    "---\n",
    "https://cert-manager.io/docs/tutorials/acme/nginx-ingress/"
   ]
  },
  {
   "cell_type": "code",
   "execution_count": null,
   "id": "88ef15ce-8848-4634-9d1f-3e43c5a15cec",
   "metadata": {},
   "outputs": [],
   "source": [
    "kubectl apply -f https://github.com/cert-manager/cert-manager/releases/download/v1.14.4/cert-manager.yaml"
   ]
  },
  {
   "cell_type": "code",
   "execution_count": null,
   "id": "0824bd46-7c11-487d-a84d-1c0f79e528f7",
   "metadata": {
    "tags": []
   },
   "outputs": [],
   "source": [
    "cat << EOF > letsencrypt-staging.yaml\n",
    "apiVersion: cert-manager.io/v1\n",
    "kind: ClusterIssuer\n",
    "metadata:\n",
    "  name: letsencrypt-staging\n",
    "spec:\n",
    "  acme:\n",
    "    # The ACME server URL\n",
    "    server: https://acme-staging-v02.api.letsencrypt.org/directory\n",
    "    # Email address used for ACME registration\n",
    "    email: saintway.sakaru@gmail.com\n",
    "    # Name of a secret used to store the ACME account private key\n",
    "    privateKeySecretRef:\n",
    "      name: letsencrypt-staging\n",
    "    # Enable the HTTP-01 challenge provider\n",
    "    solvers:\n",
    "    - http01:\n",
    "        ingress:\n",
    "            ingressClassName: nginx\n",
    "EOF"
   ]
  },
  {
   "cell_type": "code",
   "execution_count": null,
   "id": "d8802e0e-f609-4b84-a57f-5d47081f55c5",
   "metadata": {
    "tags": []
   },
   "outputs": [],
   "source": [
    "kubectl apply -f letsencrypt-staging.yaml"
   ]
  },
  {
   "cell_type": "code",
   "execution_count": null,
   "id": "f12205cf-cee6-4b3b-a99a-927bc255a17e",
   "metadata": {},
   "outputs": [],
   "source": [
    "kubectl apply -f - << EOF\n",
    "apiVersion: cert-manager.io/v1\n",
    "kind: ClusterIssuer\n",
    "metadata:\n",
    "  name: letsencrypt-prod\n",
    "spec:\n",
    "  acme:\n",
    "    # The ACME server URL\n",
    "    server: https://acme-v02.api.letsencrypt.org/directory\n",
    "    # Email address used for ACME registration\n",
    "    email: saintway.sakaru@gmail.com\n",
    "    # Name of a secret used to store the ACME account private key\n",
    "    privateKeySecretRef:\n",
    "      name: letsencrypt-prod\n",
    "    # Enable the HTTP-01 challenge provider\n",
    "    solvers:\n",
    "      - http01:\n",
    "          ingress:\n",
    "            ingressClassName: nginx\n",
    "EOF"
   ]
  },
  {
   "cell_type": "markdown",
   "id": "3f0b1da7-0d79-4c0a-83cd-87a0b66a2ddb",
   "metadata": {},
   "source": [
    "---\n",
    "https://cert-manager.io/docs/configuration/acme/"
   ]
  },
  {
   "cell_type": "code",
   "execution_count": 1,
   "id": "21958fa4-cbdb-4e7e-8cda-022a50609df9",
   "metadata": {},
   "outputs": [
    {
     "name": "stdout",
     "output_type": "stream",
     "text": [
      "Created service account [dns01-solver].\n"
     ]
    }
   ],
   "source": [
    "PROJECT_ID=sandbox-sheng\n",
    "gcloud iam service-accounts create dns01-solver --display-name 'dns01-solver'"
   ]
  },
  {
   "cell_type": "code",
   "execution_count": 2,
   "id": "6417310e-115e-417a-9768-999bcf30d877",
   "metadata": {},
   "outputs": [
    {
     "name": "stdout",
     "output_type": "stream",
     "text": [
      "Updated IAM policy for project [sandbox-sheng].\n",
      "bindings:\n",
      "- members:\n",
      "  - serviceAccount:agi-chat@sandbox-sheng.iam.gserviceaccount.com\n",
      "  - serviceAccount:service-139287821772@compute-system.iam.gserviceaccount.com\n",
      "  role: roles/compute.serviceAgent\n",
      "- members:\n",
      "  - serviceAccount:service-139287821772@container-engine-robot.iam.gserviceaccount.com\n",
      "  role: roles/container.serviceAgent\n",
      "- members:\n",
      "  - serviceAccount:service-139287821772@dataflow-service-producer-prod.iam.gserviceaccount.com\n",
      "  role: roles/dataflow.serviceAgent\n",
      "- members:\n",
      "  - serviceAccount:dns01-solver@sandbox-sheng.iam.gserviceaccount.com\n",
      "  role: roles/dns.admin\n",
      "- members:\n",
      "  - serviceAccount:139287821772-compute@developer.gserviceaccount.com\n",
      "  - serviceAccount:139287821772@cloudservices.gserviceaccount.com\n",
      "  - serviceAccount:service-139287821772@containerregistry.iam.gserviceaccount.com\n",
      "  role: roles/editor\n",
      "- members:\n",
      "  - user:andrew.saintway@gmail.com\n",
      "  - user:saintway@jhub.name\n",
      "  role: roles/owner\n",
      "etag: BwYWK48ruTk=\n",
      "version: 1\n"
     ]
    }
   ],
   "source": [
    "gcloud projects add-iam-policy-binding $PROJECT_ID \\\n",
    "   --member serviceAccount:dns01-solver@$PROJECT_ID.iam.gserviceaccount.com \\\n",
    "   --role roles/dns.admin"
   ]
  },
  {
   "cell_type": "code",
   "execution_count": 3,
   "id": "a369ec81-7c68-4a60-b65c-2c76ebb68da7",
   "metadata": {},
   "outputs": [
    {
     "name": "stdout",
     "output_type": "stream",
     "text": [
      "created key [1cf8a588be1f2eb35acabab6384fb78b475990b9] of type [json] as [key.json] for [dns01-solver@sandbox-sheng.iam.gserviceaccount.com]\n"
     ]
    }
   ],
   "source": [
    "gcloud iam service-accounts keys create key.json \\\n",
    "   --iam-account dns01-solver@$PROJECT_ID.iam.gserviceaccount.com"
   ]
  },
  {
   "cell_type": "code",
   "execution_count": 4,
   "id": "ede17aba-cf38-4053-b425-fcb163402bd6",
   "metadata": {},
   "outputs": [
    {
     "name": "stdout",
     "output_type": "stream",
     "text": [
      "secret/clouddns-dns01-solver-svc-acct created\n"
     ]
    }
   ],
   "source": [
    "kubectl create secret generic clouddns-dns01-solver-svc-acct \\\n",
    "   --from-file=key.json"
   ]
  },
  {
   "cell_type": "code",
   "execution_count": null,
   "id": "43b6010a-32b8-455e-8446-132e7a97508b",
   "metadata": {
    "tags": []
   },
   "outputs": [],
   "source": [
    "kubectl apply -f - << EOF\n",
    "apiVersion: cert-manager.io/v1\n",
    "kind: ClusterIssuer\n",
    "metadata:\n",
    "  name: letsencrypt-prod\n",
    "spec:\n",
    "  acme:\n",
    "    server: https://acme-v02.api.letsencrypt.org/directory\n",
    "    email: saintway.sakaru@gmail.com\n",
    "    privateKeySecretRef:\n",
    "      name: letsencrypt-prod\n",
    "    solvers:\n",
    "    - dns01:\n",
    "        cloudDNS:\n",
    "          # The ID of the GCP project\n",
    "          project: $PROJECT_ID\n",
    "          # This is the secret used to access the service account\n",
    "          serviceAccountSecretRef:\n",
    "            name: clouddns-dns01-solver-svc-acct\n",
    "            key: key.json\n",
    "EOF"
   ]
  }
 ],
 "metadata": {
  "kernelspec": {
   "display_name": "Bash",
   "language": "bash",
   "name": "bash"
  },
  "language_info": {
   "codemirror_mode": "shell",
   "file_extension": ".sh",
   "mimetype": "text/x-sh",
   "name": "bash"
  }
 },
 "nbformat": 4,
 "nbformat_minor": 5
}
