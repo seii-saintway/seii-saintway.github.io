{
 "cells": [
  {
   "cell_type": "markdown",
   "id": "8f002760-4ecd-40db-aed9-af2d4b2ae7d4",
   "metadata": {},
   "source": [
    "在裸机 Ubuntu 上部署 NFS 服务器并共享根目录。"
   ]
  },
  {
   "cell_type": "code",
   "execution_count": null,
   "id": "33d00823-f345-4746-90dc-34fc3d11905c",
   "metadata": {},
   "outputs": [],
   "source": [
    "sudo apt update"
   ]
  },
  {
   "cell_type": "code",
   "execution_count": null,
   "id": "9d96fb3b-abca-4545-8f83-27aa2ad68248",
   "metadata": {},
   "outputs": [],
   "source": [
    "sudo apt install nfs-kernel-server"
   ]
  },
  {
   "cell_type": "markdown",
   "id": "c56e24f6-2612-48e4-86db-53e59e646b3d",
   "metadata": {},
   "source": [
    "NFS 默认的权限规则是：\n",
    "* root 用户被映射成 nfsnobody 用户；\n",
    "* 对于客户端上和 NFS 服务器上 UID 相同的用户会对应映射；\n",
    "* 其它非 root 用户被映射成 nobody 用户。"
   ]
  },
  {
   "cell_type": "code",
   "execution_count": null,
   "id": "e2bf454c-6b74-4c33-b1c3-66da461b7bb7",
   "metadata": {},
   "outputs": [],
   "source": [
    "cat << EOF | sudo tee /etc/exports\n",
    "# /etc/exports: the access control list for filesystems which may be exported\n",
    "#    to NFS clients.  See exports(5).\n",
    "#\n",
    "# Example for NFSv2 and NFSv3:\n",
    "# /srv/homes       hostname1(rw,sync,no_subtree_check) hostname2(ro,sync,no_subtree_check)\n",
    "#\n",
    "# Example for NFSv4:\n",
    "# /srv/nfs4        gss/krb5i(rw,sync,fsid=0,crossmnt,no_subtree_check)\n",
    "# /srv/nfs4/homes  gss/krb5i(rw,sync,no_subtree_check)\n",
    "#\n",
    "/  *(rw,sync,no_subtree_check,no_root_squash,insecure)\n",
    "EOF"
   ]
  },
  {
   "cell_type": "markdown",
   "id": "e884ba8b-3259-4c36-b6bd-465ad9ee8e0e",
   "metadata": {},
   "source": [
    "[分配 NFS 权限](https://kb.synology.cn/zh-cn/DSM/help/DSM/AdminCenter/file_share_privilege_nfs)\n",
    "* anonuid：指定匿名用户的 UID。\n",
    "* anongid：指定匿名用户所属的组的 GID。"
   ]
  },
  {
   "cell_type": "code",
   "execution_count": null,
   "id": "6d0ad106-7e40-4ccf-a622-bc3c243d5556",
   "metadata": {},
   "outputs": [
    {
     "name": "stdout",
     "output_type": "stream",
     "text": [
      "uid=1000(saintway) gid=1000(saintway) groups=1000(saintway),4(adm),20(dialout),24(cdrom),25(floppy),27(sudo),29(audio),30(dip),44(video),46(plugdev),116(netdev),117(docker)\n"
     ]
    }
   ],
   "source": [
    "id $(whoami)"
   ]
  },
  {
   "cell_type": "code",
   "execution_count": null,
   "id": "3811b993-9e61-4242-a0c0-0a7dbcf4ad74",
   "metadata": {},
   "outputs": [],
   "source": [
    "cat << EOF | sudo tee /etc/exports\n",
    "# /etc/exports: the access control list for filesystems which may be exported\n",
    "#    to NFS clients.  See exports(5).\n",
    "#\n",
    "# Example for NFSv2 and NFSv3:\n",
    "# /srv/homes       hostname1(rw,sync,no_subtree_check) hostname2(ro,sync,no_subtree_check)\n",
    "#\n",
    "# Example for NFSv4:\n",
    "# /srv/nfs4        gss/krb5i(rw,sync,fsid=0,crossmnt,no_subtree_check)\n",
    "# /srv/nfs4/homes  gss/krb5i(rw,sync,no_subtree_check)\n",
    "#\n",
    "/  10.8.0.0/24(rw,sync,no_subtree_check,all_squash,anonuid=1000,anongid=1000)\n",
    "EOF"
   ]
  },
  {
   "cell_type": "code",
   "execution_count": null,
   "id": "9fdc86a0-64f2-4b0f-97ba-544b74cdfafa",
   "metadata": {},
   "outputs": [],
   "source": [
    "cat << EOF | sudo tee /etc/exports\n",
    "# /etc/exports: the access control list for filesystems which may be exported\n",
    "#    to NFS clients.  See exports(5).\n",
    "#\n",
    "# Example for NFSv2 and NFSv3:\n",
    "# /srv/homes       hostname1(rw,sync,no_subtree_check) hostname2(ro,sync,no_subtree_check)\n",
    "#\n",
    "# Example for NFSv4:\n",
    "# /srv/nfs4        gss/krb5i(rw,sync,fsid=0,crossmnt,no_subtree_check)\n",
    "# /srv/nfs4/homes  gss/krb5i(rw,sync,no_subtree_check)\n",
    "#\n",
    "/  10.244.0.0/16(rw,sync,no_subtree_check,all_squash,anonuid=1000,anongid=1000)\n",
    "EOF"
   ]
  },
  {
   "cell_type": "code",
   "execution_count": null,
   "id": "271a2477-b5f2-4e4d-a8de-408a91f70e54",
   "metadata": {},
   "outputs": [],
   "source": [
    "cat << EOF | sudo tee /etc/exports\n",
    "# /etc/exports: the access control list for filesystems which may be exported\n",
    "#    to NFS clients.  See exports(5).\n",
    "#\n",
    "# Example for NFSv2 and NFSv3:\n",
    "# /srv/homes       hostname1(rw,sync,no_subtree_check) hostname2(ro,sync,no_subtree_check)\n",
    "#\n",
    "# Example for NFSv4:\n",
    "# /srv/nfs4        gss/krb5i(rw,sync,fsid=0,crossmnt,no_subtree_check)\n",
    "# /srv/nfs4/homes  gss/krb5i(rw,sync,no_subtree_check)\n",
    "#\n",
    "/  *(rw,sync,no_subtree_check,all_squash,anonuid=1000,anongid=1000)\n",
    "EOF"
   ]
  },
  {
   "cell_type": "code",
   "execution_count": null,
   "id": "af6fa4bf-8469-4e82-b701-2669aa27d274",
   "metadata": {},
   "outputs": [],
   "source": [
    "sudo exportfs -ra"
   ]
  },
  {
   "cell_type": "code",
   "execution_count": null,
   "id": "5ad99812-89ec-4489-b05c-e1c94d23d1fd",
   "metadata": {},
   "outputs": [],
   "source": [
    "sudo systemctl restart nfs-kernel-server"
   ]
  },
  {
   "cell_type": "markdown",
   "id": "3d0706b5-0880-4e4b-90c6-3ef17f46a05a",
   "metadata": {},
   "source": [
    "在客户端上挂载共享来验证 NFS 配置是否成功。"
   ]
  },
  {
   "cell_type": "code",
   "execution_count": null,
   "id": "4776d6c9-30eb-44fe-8b3e-edd3b7456524",
   "metadata": {},
   "outputs": [],
   "source": [
    "sudo apt update\n",
    "sudo apt install nfs-common"
   ]
  },
  {
   "cell_type": "code",
   "execution_count": null,
   "id": "44b9c474-5140-41b4-b46c-7eeaa616969c",
   "metadata": {},
   "outputs": [],
   "source": [
    "sudo mount -t nfs 10.8.0.2:/ ~/npc112"
   ]
  },
  {
   "cell_type": "code",
   "execution_count": null,
   "id": "b82115e1-e994-4cf0-a72d-cbd1bc842bab",
   "metadata": {},
   "outputs": [],
   "source": [
    "sudo mount -t nfs 10.244.1.0:/ ~/npc112"
   ]
  },
  {
   "cell_type": "code",
   "execution_count": null,
   "id": "dcf90c86-b2d7-4d7d-bff0-56db48c4b798",
   "metadata": {},
   "outputs": [],
   "source": [
    "sudo umount ~/npc112"
   ]
  }
 ],
 "metadata": {
  "kernelspec": {
   "display_name": "Bash",
   "language": "bash",
   "name": "bash"
  }
 },
 "nbformat": 4,
 "nbformat_minor": 5
}
