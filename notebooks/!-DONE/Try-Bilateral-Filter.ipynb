{
 "cells": [
  {
   "cell_type": "markdown",
   "metadata": {},
   "source": [
    "美颜磨皮是一种常见的图像处理技术，可以使人物肌肤更加光滑细腻。下面是一个简单的 Python 脚本，演示如何使用 OpenCV 库实现美颜磨皮效果。"
   ]
  },
  {
   "cell_type": "markdown",
   "metadata": {},
   "source": [
    "首先，需要安装 OpenCV 库。可以使用 pip 命令进行安装："
   ]
  },
  {
   "cell_type": "code",
   "execution_count": null,
   "metadata": {},
   "outputs": [
    {
     "name": "stdout",
     "output_type": "stream",
     "text": [
      "Collecting opencv-python\n",
      "  Downloading opencv_python-4.7.0.72-cp37-abi3-macosx_10_16_x86_64.whl (53.9 MB)\n",
      "     ━━━━━━━━━━━━━━━━━━━━━━━━━━━━━━━━━━━━━━━━ 53.9/53.9 MB 5.0 MB/s eta 0:00:00\n",
      "Requirement already satisfied: numpy>=1.17.3 in /usr/local/lib/python3.9/site-packages (from opencv-python) (1.24.2)\n",
      "Installing collected packages: opencv-python\n",
      "Successfully installed opencv-python-4.7.0.72\n"
     ]
    }
   ],
   "source": [
    "%%bash\n",
    "/usr/local/opt/python@3.9/bin/python3.9 -m pip install opencv-python"
   ]
  },
  {
   "cell_type": "markdown",
   "metadata": {},
   "source": [
    "接下来，可以编写代码实现美颜磨皮特效。以下是一个简单的脚本示例："
   ]
  },
  {
   "cell_type": "code",
   "execution_count": null,
   "metadata": {},
   "outputs": [
    {
     "data": {
      "text/plain": [
       "True"
      ]
     },
     "execution_count": null,
     "metadata": {},
     "output_type": "execute_result"
    }
   ],
   "source": [
    "import cv2\n",
    "\n",
    "# 加载图像\n",
    "img = cv2.imread('Try-Bilateral-Filter_input.png')\n",
    "\n",
    "# 磨皮效果\n",
    "img = cv2.bilateralFilter(img, 3, 200, 75)\n",
    "\n",
    "# 美白效果\n",
    "# img = cv2.cvtColor(img, cv2.COLOR_BGR2YCrCb)\n",
    "# y, cr, cb = cv2.split(img)\n",
    "# y = cv2.equalizeHist(y)\n",
    "# img = cv2.merge((y, cr, cb))\n",
    "# img = cv2.cvtColor(img, cv2.COLOR_YCrCb2BGR)\n",
    "\n",
    "# 保存图像\n",
    "cv2.imwrite('Try-Bilateral-Filter_output.png', img)"
   ]
  },
  {
   "cell_type": "markdown",
   "metadata": {},
   "source": [
    "该脚本首先使用 `cv2.imread` 函数加载图像，然后使用 `cv2.bilateralFilter` 函数实现磨皮效果。该函数采用双边滤波器，可以在平滑图像的同时保留边缘信息，从而避免图像模糊。该函数有三个参数，分别是卷积核的大小、空间高斯函数的标准差和灰度值相似性高斯函数的标准差。这些参数的值可以根据具体需求进行调整。"
   ]
  },
  {
   "cell_type": "markdown",
   "metadata": {},
   "source": [
    "接下来，该脚本使用 `cv2.cvtColor` 函数将图像转换为 YCrCb 颜色空间，然后分离亮度、色度和饱和度三个通道。使用 `cv2.equalizeHist` 函数对亮度通道进行直方图均衡化，从而实现美白效果。最后，将三个通道重新合并，并使用 `cv2.cvtColor` 函数将图像转换回 BGR 颜色空间。"
   ]
  },
  {
   "cell_type": "markdown",
   "metadata": {},
   "source": [
    "最后，可以使用 `cv2.imwrite` 函数将处理后的图像保存到文件中。"
   ]
  },
  {
   "cell_type": "markdown",
   "metadata": {},
   "source": [
    "需要注意的是，该脚本仅是一个简单的示例，实际上美颜磨皮特效有很多不同的实现方法和参数设置，可以根据具体需求进行调整。"
   ]
  },
  {
   "cell_type": "code",
   "execution_count": null,
   "metadata": {},
   "outputs": [
    {
     "data": {
      "text/plain": [
       "True"
      ]
     },
     "execution_count": null,
     "metadata": {},
     "output_type": "execute_result"
    }
   ],
   "source": [
    "import cv2\n",
    "import numpy as np\n",
    "\n",
    "def skin_detection(img):\n",
    "    # 将图像从 BGR 转换为 YCrCb 颜色空间\n",
    "    img_ycrcb = cv2.cvtColor(img, cv2.COLOR_BGR2YCrCb)\n",
    "\n",
    "    # 利用肤色区域的特点，得到肤色掩模\n",
    "    mask = cv2.inRange(img_ycrcb, (0, 135, 85), (255, 180, 135))\n",
    "\n",
    "    return mask\n",
    "\n",
    "def skin_smoothing(img):\n",
    "    # 对原图像进行肤色检测\n",
    "    mask = skin_detection(img)\n",
    "\n",
    "    # 进行双边滤波\n",
    "    smooth = cv2.bilateralFilter(img, 9, 75, 75)\n",
    "\n",
    "    # 将磨皮后的图像与原图像的肤色区域进行加权合并\n",
    "    output = np.zeros_like(img)\n",
    "    output[mask == 255] = smooth[mask == 255]\n",
    "    output[mask == 0] = img[mask == 0]\n",
    "\n",
    "    return output\n",
    "\n",
    "# 加载图像\n",
    "img = cv2.imread('Try-Bilateral-Filter_input.png')\n",
    "\n",
    "# 进行磨皮处理\n",
    "output = skin_smoothing(img)\n",
    "\n",
    "# 保存图像\n",
    "cv2.imwrite('Try-Bilateral-Filter_output.png', output)"
   ]
  }
 ],
 "metadata": {
  "kernelspec": {
   "display_name": "Python 3",
   "language": "python",
   "name": "python3"
  }
 },
 "nbformat": 4,
 "nbformat_minor": 4
}
