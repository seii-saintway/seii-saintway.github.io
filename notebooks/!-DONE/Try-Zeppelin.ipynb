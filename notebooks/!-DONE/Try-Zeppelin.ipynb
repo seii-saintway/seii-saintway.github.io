{
 "cells": [
  {
   "cell_type": "markdown",
   "metadata": {},
   "source": [
    "* https://medium.com/data-collective/apache-zeppelin-oauth-integration-using-apache-knox-dea2362e3dda\n",
    "* https://qiita.com/ojima-h/items/b72601004c039130fae7"
   ]
  },
  {
   "cell_type": "markdown",
   "metadata": {},
   "source": [
    "# https://github.com/apache/zeppelin"
   ]
  },
  {
   "cell_type": "code",
   "execution_count": null,
   "metadata": {},
   "outputs": [],
   "source": [
    "%%bash\n",
    "cd ~ && wget https://ftp.riken.jp/net/apache/zeppelin/zeppelin-0.8.2/zeppelin-0.8.2-bin-all.tgz\n",
    "tar zxvf zeppelin-0.8.2-bin-all.tgz"
   ]
  },
  {
   "cell_type": "code",
   "execution_count": null,
   "metadata": {},
   "outputs": [
    {
     "name": "stdout",
     "output_type": "stream",
     "text": [
      "total 29M\n",
      "drwxr-xr-x  8 jupyter-sheng_wei jupyter-sheng_wei 4.0K Sep 26  2019 .\n",
      "drwxr-x--- 33 jupyter-sheng_wei jupyterhub-users  4.0K Jun 19 22:04 ..\n",
      "-rw-r--r--  1 jupyter-sheng_wei jupyter-sheng_wei  61K Sep 26  2019 LICENSE\n",
      "-rw-r--r--  1 jupyter-sheng_wei jupyter-sheng_wei 5.5K Sep 26  2019 NOTICE\n",
      "-rw-r--r--  1 jupyter-sheng_wei jupyter-sheng_wei 1.3K Sep 26  2019 README.md\n",
      "drwxr-xr-x  2 jupyter-sheng_wei jupyter-sheng_wei 4.0K Jun 19 22:04 bin\n",
      "drwxr-xr-x  2 jupyter-sheng_wei jupyter-sheng_wei 4.0K Jun 19 22:04 conf\n",
      "drwxr-xr-x 26 jupyter-sheng_wei jupyter-sheng_wei 4.0K Jun 19 22:04 interpreter\n",
      "drwxr-xr-x  4 jupyter-sheng_wei jupyter-sheng_wei  12K Jun 19 22:04 lib\n",
      "drwxr-xr-x  2 jupyter-sheng_wei jupyter-sheng_wei 4.0K Jun 19 22:04 licenses\n",
      "drwxr-xr-x  8 jupyter-sheng_wei jupyter-sheng_wei 4.0K Jun 19 22:04 notebook\n",
      "-rw-r--r--  1 jupyter-sheng_wei jupyter-sheng_wei  29M Sep 26  2019 zeppelin-web-0.8.2.war\n"
     ]
    }
   ],
   "source": [
    "%%bash\n",
    "ls -lah ~/zeppelin-0.8.2-bin-all"
   ]
  },
  {
   "cell_type": "markdown",
   "metadata": {},
   "source": [
    "## https://issues.apache.org/jira/browse/ZEPPELIN-621"
   ]
  },
  {
   "cell_type": "code",
   "execution_count": null,
   "metadata": {},
   "outputs": [],
   "source": [
    "%%bash\n",
    "sudo -HE apt-get --yes install openjdk-8-jdk"
   ]
  },
  {
   "cell_type": "code",
   "execution_count": null,
   "metadata": {},
   "outputs": [
    {
     "name": "stdout",
     "output_type": "stream",
     "text": [
      "Zeppelin start \u001b[60G[\u001b[1;32m  OK  \u001b[0;39m]\n"
     ]
    }
   ],
   "source": [
    "%%bash\n",
    "~/zeppelin-0.8.2-bin-all/bin/zeppelin-daemon.sh start"
   ]
  },
  {
   "cell_type": "markdown",
   "metadata": {},
   "source": [
    "# [Multi-user Support](https://zeppelin.apache.org/docs/latest/setup/basics/multi_user_support.html)\n",
    "## [multiple users login / logout using Shiro Authentication](https://zeppelin.apache.org/docs/latest/setup/security/shiro_authentication.html)\n",
    "## Make Zeppelin HTTPS with Traefik\n",
    "https://github.com/seii-saintway/the-littlest-jupyterhub/commit/756ce4c7978c3f95f35499d2d4adfd4b2270985f"
   ]
  },
  {
   "cell_type": "code",
   "execution_count": null,
   "metadata": {},
   "outputs": [],
   "source": [
    "%%bash\n",
    "cat << EOF | sudo tee /opt/tljh/state/dynamic/zeppelin.toml > /dev/null\n",
    "\n",
    "[frontends.zeppelin]\n",
    "backend = \"zeppelin\"\n",
    "passHostHeader = true\n",
    "\n",
    "[frontends.zeppelin.routes.f1]\n",
    "rule = \"PathPrefixStrip:/zeppelin/\"\n",
    "\n",
    "[backends.zeppelin.servers.s1]\n",
    "url = \"http://127.0.0.1:8080\"\n",
    "weight = 1\n",
    "EOF"
   ]
  },
  {
   "cell_type": "code",
   "execution_count": null,
   "metadata": {},
   "outputs": [
    {
     "name": "stdout",
     "output_type": "stream",
     "text": [
      "Granting passwordless sudo to JupyterHub admins...\n",
      "Setting up user environment...\n",
      "\n",
      "\n",
      "==> WARNING: A newer version of conda exists. <==\n",
      "  current version: 4.5.8\n",
      "  latest version: 4.8.3\n",
      "\n",
      "Please update conda by running\n",
      "\n",
      "    $ conda update -n base conda\n",
      "\n",
      "\n",
      "Setting up JupyterHub...\n",
      "Waiting for JupyterHub to come up (1/20 tries)\n",
      "Waiting for JupyterHub to come up (2/20 tries)\n",
      "Done!\n"
     ]
    }
   ],
   "source": [
    "!sudo /opt/tljh/hub/bin/python -m tljh.installer"
   ]
  },
  {
   "cell_type": "code",
   "execution_count": null,
   "metadata": {},
   "outputs": [
    {
     "name": "stdout",
     "output_type": "stream",
     "text": [
      "2019-10-13 15:21:02,889 Granting passwordless sudo to JupyterHub admins...\n",
      "2019-10-13 15:21:02,890 Setting up user environment...\n",
      "2019-10-13 15:21:26,052 Setting up JupyterHub...\n",
      "2020-06-20 21:30:49,996 Granting passwordless sudo to JupyterHub admins...\n",
      "2020-06-20 21:30:49,996 Setting up user environment...\n",
      "2020-06-20 21:32:15,388 Setting up JupyterHub...\n",
      "2020-06-20 21:33:48,646 Waiting for JupyterHub to come up (1/20 tries)\n",
      "2020-06-20 21:33:49,656 Waiting for JupyterHub to come up (2/20 tries)\n",
      "2020-06-20 21:33:49,678 Done!\n"
     ]
    }
   ],
   "source": [
    "!sudo cat /opt/tljh/installer.log"
   ]
  },
  {
   "cell_type": "markdown",
   "metadata": {},
   "source": [
    "## [It seems that TLJH is updated to support loading multiple traefik.toml snippets.](http://tljh.jupyter.org/en/latest/topic/escape-hatch.html#extending-traefik-toml)"
   ]
  }
 ],
 "metadata": {
  "kernelspec": {
   "display_name": "Python 3",
   "language": "python",
   "name": "python3"
  }
 },
 "nbformat": 4,
 "nbformat_minor": 4
}
