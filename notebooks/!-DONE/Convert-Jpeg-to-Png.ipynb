{
 "cells": [
  {
   "cell_type": "code",
   "execution_count": null,
   "metadata": {},
   "outputs": [],
   "source": [
    "%%bash\n",
    "/usr/local/opt/python@3.9/bin/python3.9 -m pip install Pillow"
   ]
  },
  {
   "cell_type": "code",
   "execution_count": null,
   "metadata": {},
   "outputs": [],
   "source": [
    "from PIL import Image\n",
    "import os\n",
    "\n",
    "# 设置 JPEG 图像文件的路径和 PNG 图像文件的保存路径\n",
    "jpeg_path = 'Try-Bilateral-Filter_input.jpeg'\n",
    "png_path = 'Try-Bilateral-Filter_input.png'\n",
    "\n",
    "# 打开 JPEG 图像文件\n",
    "with Image.open(jpeg_path) as im:\n",
    "    # 将 JPEG 图像转换为 RGB 模式\n",
    "    im = im.convert('RGB')\n",
    "    # 保存 PNG 图像文件\n",
    "    im.save(png_path, 'PNG')\n",
    "    \n",
    "# 删除原 JPEG 文件\n",
    "os.remove(jpeg_path)"
   ]
  },
  {
   "cell_type": "code",
   "execution_count": null,
   "metadata": {},
   "outputs": [],
   "source": [
    "%%bash\n",
    "source ~/nbdev-env/bin/activate\n",
    "nbdev_clean_nbs"
   ]
  }
 ],
 "metadata": {
  "kernelspec": {
   "display_name": "Python 3",
   "language": "python",
   "name": "python3"
  }
 },
 "nbformat": 4,
 "nbformat_minor": 4
}
