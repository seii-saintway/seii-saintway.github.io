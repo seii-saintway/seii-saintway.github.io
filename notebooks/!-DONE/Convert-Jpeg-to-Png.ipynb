{
 "cells": [
  {
   "cell_type": "code",
   "execution_count": null,
   "metadata": {},
   "outputs": [],
   "source": [
    "%%bash\n",
    "/usr/local/opt/python@3.9/bin/python3.9 -m pip install Pillow"
   ]
  },
  {
   "cell_type": "code",
   "execution_count": 1,
   "metadata": {
    "tags": []
   },
   "outputs": [],
   "source": [
    "import os\n",
    "from PIL import Image"
   ]
  },
  {
   "cell_type": "code",
   "execution_count": null,
   "metadata": {},
   "outputs": [],
   "source": [
    "# 设置 JPEG 图像文件的路径和 PNG 图像文件的保存路径\n",
    "jpeg_path = 'Try-Bilateral-Filter_input.jpeg'\n",
    "png_path = 'Try-Bilateral-Filter_input.png'\n",
    "\n",
    "# 打开 JPEG 图像文件\n",
    "with Image.open(jpeg_path) as im:\n",
    "    # 将 JPEG 图像转换为 RGB 模式\n",
    "    im = im.convert('RGB')\n",
    "    # 保存 PNG 图像文件\n",
    "    im.save(png_path, 'PNG')\n",
    "\n",
    "# 删除原 JPEG 文件\n",
    "os.remove(jpeg_path)"
   ]
  },
  {
   "cell_type": "code",
   "execution_count": 2,
   "metadata": {
    "tags": []
   },
   "outputs": [],
   "source": [
    "# 设置 JPEG 图像文件的路径和 PNG 图像文件的保存路径\n",
    "jpeg_path = os.path.expanduser('~/hexo/source/angelica.jpeg')\n",
    "png_path = os.path.expanduser('~/hexo/source/angelica.png')\n",
    "\n",
    "# 打开 JPEG 图像文件\n",
    "with Image.open(jpeg_path) as im:\n",
    "    # 将 JPEG 图像转换为 RGB 模式\n",
    "    im = im.convert('RGB')\n",
    "    # 保存 PNG 图像文件\n",
    "    im.save(png_path, 'PNG')\n",
    "\n",
    "# 删除原 JPEG 文件\n",
    "os.remove(jpeg_path)"
   ]
  },
  {
   "cell_type": "code",
   "execution_count": null,
   "metadata": {},
   "outputs": [],
   "source": [
    "%%bash\n",
    "source ~/nbdev-env/bin/activate\n",
    "nbdev_clean_nbs"
   ]
  }
 ],
 "metadata": {
  "kernelspec": {
   "display_name": "Python 3 (ipykernel)",
   "language": "python",
   "name": "python3"
  },
  "language_info": {
   "codemirror_mode": {
    "name": "ipython",
    "version": 3
   },
   "file_extension": ".py",
   "mimetype": "text/x-python",
   "name": "python",
   "nbconvert_exporter": "python",
   "pygments_lexer": "ipython3",
   "version": "3.9.7"
  }
 },
 "nbformat": 4,
 "nbformat_minor": 4
}
