{
 "cells": [
  {
   "cell_type": "markdown",
   "metadata": {},
   "source": [
    "## [Host a Git-style repo](https://docs.ipfs.io/how-to/host-git-style-repo/)\n",
    "* [高效开发：深入理解Git底层原理](https://blog.51cto.com/u_15287666/3020740)\n",
    "* [git: A stupid content tracker](https://medium.com/gitopia/git-a-stupid-content-tracker-d0ef5b86865f)"
   ]
  },
  {
   "cell_type": "code",
   "execution_count": null,
   "metadata": {},
   "outputs": [],
   "source": [
    "cd ~ && git clone --bare https://github.com/seii-saintway/demo-ga"
   ]
  },
  {
   "cell_type": "code",
   "execution_count": null,
   "metadata": {},
   "outputs": [],
   "source": [
    "cd ~/demo-ga && git update-server-info"
   ]
  },
  {
   "cell_type": "code",
   "execution_count": null,
   "metadata": {},
   "outputs": [],
   "source": [
    "git unpack-objects < objects/pack/*.pack"
   ]
  },
  {
   "cell_type": "code",
   "execution_count": null,
   "metadata": {},
   "outputs": [],
   "source": [
    "rm -f objects/pack/*"
   ]
  },
  {
   "cell_type": "markdown",
   "metadata": {},
   "source": [
    "## Decentralized Version Control System\n",
    "* https://github.com/martindbp/ipvc\n",
    "* https://github.com/multiverse-vcs/go-multiverse"
   ]
  }
 ],
 "metadata": {
  "kernelspec": {
   "display_name": "Bash",
   "language": "bash",
   "name": "bash"
  },
  "language_info": {
   "codemirror_mode": "shell",
   "file_extension": ".sh",
   "mimetype": "text/x-sh",
   "name": "bash"
  }
 },
 "nbformat": 4,
 "nbformat_minor": 4
}
