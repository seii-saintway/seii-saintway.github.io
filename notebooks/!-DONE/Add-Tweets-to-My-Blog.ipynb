{
 "cells": [
  {
   "cell_type": "markdown",
   "metadata": {},
   "source": [
    "## Browser Side"
   ]
  },
  {
   "cell_type": "code",
   "execution_count": null,
   "metadata": {},
   "outputs": [],
   "source": [
    "cat hexo/themes/freemind/_config.yml"
   ]
  },
  {
   "cell_type": "code",
   "execution_count": null,
   "metadata": {},
   "outputs": [],
   "source": [
    "cat hexo/themes/freemind/layout/_widget/links.ejs"
   ]
  },
  {
   "cell_type": "code",
   "execution_count": null,
   "metadata": {},
   "outputs": [
    {
     "name": "stdout",
     "output_type": "stream",
     "text": [
      "var twitter = (function() {\n",
      "  function escapeHtml(str) {\n",
      "    return $('<div/>').text(str).html();\n",
      "  }\n",
      "  function render(target, tweets) {\n",
      "    var i = 0, fragment = '', t = $(target)[0];\n",
      "\n",
      "    for(i = 0; i < tweets.length; ++i) {\n",
      "      fragment += '<li><i class=\"fa fa-star\"></i><a href=\"https://twitter.com/seii_saintway/status/' + tweets[i].id + '\">'\n",
      "          + tweets[i].created_at.replace('T', '　').replace('.000Z', '') + '</a><p>' + escapeHtml(tweets[i].text||'') + '</p></li>';\n",
      "    }\n",
      "    t.innerHTML = fragment;\n",
      "  }\n",
      "  return {\n",
      "    showTweets: function(options) {\n",
      "      options.blacklist = options.blacklist.split(',');\n",
      "      $.ajax({\n",
      "          url: 'https://jhub.name/tweets/?tweet.fields=created_at&max_results=' + options.count\n",
      "        , dataType: 'json'\n",
      "        , error: function (err) { $(options.target + ' li.loading').addClass('error').text('Error loading feed'); }\n",
      "        , success: function (data) {\n",
      "          if (!data ) { return; }\n",
      "          var tweets = [];\n",
      "          for (var i = 0; i < data.data.length; ++i) {\n",
      "            if (options.blacklist instanceof Array && options.blacklist.indexOf(data.data[i].id) !== -1) { continue; }\n",
      "            tweets.push(data.data[i]);\n",
      "          }\n",
      "          render(options.target, tweets);\n",
      "        }\n",
      "      });\n",
      "    }\n",
      "  };\n",
      "})();\n"
     ]
    }
   ],
   "source": [
    "cat hexo/themes/freemind/source/js/twitter.js"
   ]
  },
  {
   "cell_type": "markdown",
   "metadata": {},
   "source": [
    "* [Here](https://github.com/seii-saintway/hexo-theme-freemind/commit/420f1d9c1eda38b000f0b3d3f93b4b143f39ed93) is all the changes at the browser side."
   ]
  },
  {
   "cell_type": "markdown",
   "metadata": {},
   "source": [
    "## Server Side"
   ]
  },
  {
   "cell_type": "markdown",
   "metadata": {},
   "source": [
    "* [Here](https://github.com/zldobbs/alert-mizzou) is a solution using Flask to proxy Tweets API."
   ]
  },
  {
   "cell_type": "code",
   "execution_count": null,
   "metadata": {},
   "outputs": [],
   "source": [
    "BEARER_TOKEN=''"
   ]
  },
  {
   "cell_type": "markdown",
   "metadata": {},
   "source": [
    "* https://developer.twitter.com/en/docs/twitter-api/v1/tweets/timelines/api-reference/get-statuses-user_timeline"
   ]
  },
  {
   "cell_type": "code",
   "execution_count": null,
   "metadata": {},
   "outputs": [],
   "source": [
    "curl -H \"Authorization: Bearer ${BEARER_TOKEN}\" 'https://api.twitter.com/1.1/statuses/user_timeline.json?screen_name=seii_saintway&count=20'"
   ]
  },
  {
   "cell_type": "markdown",
   "metadata": {},
   "source": [
    "* https://developer.twitter.com/en/docs/twitter-api/tweets/timelines/api-reference/get-users-id-tweets"
   ]
  },
  {
   "cell_type": "code",
   "execution_count": null,
   "metadata": {},
   "outputs": [],
   "source": [
    "curl -H \"Authorization: Bearer ${BEARER_TOKEN}\" 'https://api.twitter.com/2/users/807092313298112512/tweets?tweet.fields=created_at&max_results=10'"
   ]
  },
  {
   "cell_type": "markdown",
   "metadata": {},
   "source": [
    "* My solution using [Traefik](https://doc.traefik.io/traefik/v1.7/basics/#custom-headers) to proxy Tweets API"
   ]
  },
  {
   "cell_type": "code",
   "execution_count": null,
   "metadata": {},
   "outputs": [],
   "source": [
    "cat << EOF | sudo tee /opt/tljh/state/dynamic/tweets.toml > /dev/null\n",
    "\n",
    "[frontends.tweets]\n",
    "backend = \"tweets\"\n",
    "\n",
    "[frontends.tweets.routes.r1]\n",
    "rule = \"PathPrefix:/tweets/\"\n",
    "\n",
    "[frontends.tweets.routes.r2]\n",
    "rule = \"ReplacePath:/2/users/807092313298112512/tweets\"\n",
    "\n",
    "[frontends.tweets.headers.customrequestheaders]\n",
    "Authorization = \"Bearer ${BEARER_TOKEN}\"\n",
    "\n",
    "[frontends.tweets.headers.customresponseheaders]\n",
    "Access-Control-Allow-Origin = \"*\"\n",
    "\n",
    "[backends.tweets.servers.s1]\n",
    "url = \"https://api.twitter.com\"\n",
    "weight = 1\n",
    "\n",
    "EOF"
   ]
  },
  {
   "cell_type": "code",
   "execution_count": null,
   "metadata": {},
   "outputs": [],
   "source": [
    "sudo systemctl restart traefik"
   ]
  },
  {
   "cell_type": "code",
   "execution_count": null,
   "metadata": {},
   "outputs": [],
   "source": [
    "curl 'https://jhub.name/tweets/?tweet.fields=created_at&max_results=10'"
   ]
  }
 ],
 "metadata": {
  "kernelspec": {
   "display_name": "Z shell",
   "language": "zsh",
   "name": "zsh"
  }
 },
 "nbformat": 4,
 "nbformat_minor": 4
}
