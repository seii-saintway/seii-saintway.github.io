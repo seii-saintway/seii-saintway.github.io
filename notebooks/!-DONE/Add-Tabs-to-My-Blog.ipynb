{
 "cells": [
  {
   "cell_type": "markdown",
   "metadata": {},
   "source": [
    "* [NexT](https://theme-next.js.org/)\n",
    "* [NexT Installation](https://theme-next.js.org/docs/getting-started/)"
   ]
  },
  {
   "cell_type": "code",
   "execution_count": null,
   "metadata": {},
   "outputs": [],
   "source": [
    "cd hexo"
   ]
  },
  {
   "cell_type": "code",
   "execution_count": null,
   "metadata": {},
   "outputs": [
    {
     "name": "stdout",
     "output_type": "stream",
     "text": [
      "Cloning into 'themes/next'...\n",
      "remote: Enumerating objects: 6276, done.\u001b[K\n",
      "remote: Counting objects: 100% (187/187), done.\u001b[K\n",
      "remote: Compressing objects: 100% (114/114), done.\u001b[K\n",
      "remote: Total 6276 (delta 76), reused 156 (delta 68), pack-reused 6089\u001b[K\n",
      "Receiving objects: 100% (6276/6276), 1.31 MiB | 949.00 KiB/s, done.\n",
      "Resolving deltas: 100% (4051/4051), done.\n"
     ]
    }
   ],
   "source": [
    "git clone https://github.com/next-theme/hexo-theme-next themes/next"
   ]
  },
  {
   "cell_type": "markdown",
   "metadata": {},
   "source": [
    "* [Tabs](https://theme-next.js.org/docs/tag-plugins/tabs)"
   ]
  },
  {
   "cell_type": "code",
   "execution_count": null,
   "metadata": {},
   "outputs": [],
   "source": [
    "mkdir -p themes/freemind/scripts/tags"
   ]
  },
  {
   "cell_type": "code",
   "execution_count": null,
   "metadata": {},
   "outputs": [],
   "source": [
    "cat << EOF > themes/freemind/scripts/tags/index.js\n",
    "/* global hexo */\n",
    "\n",
    "'use strict';\n",
    "\n",
    "const postTabs = require('./tabs')(hexo);\n",
    "\n",
    "hexo.extend.tag.register('tabs', postTabs, true);\n",
    "hexo.extend.tag.register('subtabs', postTabs, true);\n",
    "hexo.extend.tag.register('subsubtabs', postTabs, true);\n",
    "EOF"
   ]
  },
  {
   "cell_type": "code",
   "execution_count": null,
   "metadata": {},
   "outputs": [],
   "source": [
    "touch themes/freemind/scripts/tags/tabs.js"
   ]
  },
  {
   "cell_type": "code",
   "execution_count": null,
   "metadata": {},
   "outputs": [
    {
     "name": "stdout",
     "output_type": "stream",
     "text": [
      "/**\n",
      " * tabs.js | https://theme-next.js.org/docs/tag-plugins/tabs\n",
      " */\n",
      "\n",
      "'use strict';\n",
      "\n",
      "module.exports = ctx => function(args, content = '') {\n",
      "  const tabBlock = /<!--\\s*tab (.*?)\\s*-->\\n([\\w\\W\\s\\S]*?)<!--\\s*endtab\\s*-->/g;\n",
      "\n",
      "  args = args.join(' ').split(',');\n",
      "  const tabName = args[0];\n",
      "  const tabActive = Number(args[1]) || 0;\n",
      "\n",
      "  let tabId = 0;\n",
      "  let tabNav = '';\n",
      "  let tabContent = '';\n",
      "\n",
      "  if (!tabName) ctx.log.warn('Tabs block must have unique name!');\n",
      "  const matches = content.matchAll(tabBlock);\n",
      "\n",
      "  for (const match of matches) {\n",
      "    let [caption = '', icon = ''] = match[1].split('@');\n",
      "    let postContent = match[2];\n",
      "\n",
      "    postContent = ctx.render.renderSync({ text: postContent, engine: 'markdown' }).trim();\n",
      "\n",
      "    const abbr = tabName + ' ' + ++tabId;\n",
      "    const href = abbr.toLowerCase().split(' ').join('-');\n",
      "\n",
      "    icon = icon.trim();\n",
      "    if (icon.length > 0) {\n",
      "      if (!icon.startsWith('fa')) icon = 'fa fa-' + icon;\n",
      "      icon = `<i class=\"${icon}\"></i>`;\n",
      "    }\n",
      "\n",
      "    caption = icon + caption.trim();\n",
      "\n",
      "    const isActive = (tabActive > 0 && tabActive === tabId) || (tabActive === 0 && tabId === 1) ? ' active' : '';\n",
      "    tabNav += `<li class=\"tab${isActive}\"><a href=\"#${href}\">${caption || abbr}</a></li>`;\n",
      "    tabContent += `<div class=\"tab-pane${isActive}\" id=\"${href}\">${postContent}</div>`;\n",
      "  }\n",
      "\n",
      "  tabNav = `<ul class=\"nav-tabs\">${tabNav}</ul>`;\n",
      "  tabContent = `<div class=\"tab-content\">${tabContent}</div>`;\n",
      "\n",
      "  return `<div class=\"tabs\" id=\"${tabName.toLowerCase().split(' ').join('-')}\">${tabNav + tabContent}</div>`;\n",
      "};\n"
     ]
    }
   ],
   "source": [
    "cat themes/freemind/scripts/tags/tabs.js"
   ]
  }
 ],
 "metadata": {
  "kernelspec": {
   "display_name": "Z shell",
   "language": "zsh",
   "name": "zsh"
  },
  "language_info": {
   "codemirror_mode": "shell",
   "file_extension": ".zsh",
   "mimetype": "text/x-zsh",
   "name": "zsh",
   "pygments_lexer": "shell",
   "version": "5.7.1"
  }
 },
 "nbformat": 4,
 "nbformat_minor": 4
}
