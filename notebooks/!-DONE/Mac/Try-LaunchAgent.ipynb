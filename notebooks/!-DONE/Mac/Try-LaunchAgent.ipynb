{
 "cells": [
  {
   "cell_type": "code",
   "execution_count": null,
   "id": "a9b0a91d-e466-4ae7-a7fc-0e303c0815f5",
   "metadata": {},
   "outputs": [],
   "source": [
    "cat << EOF > /Users/saintway/start-jupyter-lab.sh\n",
    "cd /Users/saintway/JHub && /usr/local/anaconda3/bin/jupyter-lab --ip=127.0.0.1 --port=8888 --no-browser --allow-root --ContentsManager.allow_hidden=True\n",
    "EOF"
   ]
  },
  {
   "cell_type": "code",
   "execution_count": null,
   "id": "395c6952-b3cf-4a13-b675-0876175ededc",
   "metadata": {},
   "outputs": [],
   "source": [
    "cat << EOF > ~/Library/LaunchAgents/com.quantum.jupyter-lab.plist\n",
    "<?xml version=\"1.0\" encoding=\"UTF-8\"?>\n",
    "<!DOCTYPE plist PUBLIC \"-//Apple//DTD PLIST 1.0//EN\" \"http://www.apple.com/DTDs/PropertyList-1.0.dtd\">\n",
    "<plist version=\"1.0\">\n",
    "<dict>\n",
    "    <key>Label</key>\n",
    "    <string>com.quantum.jupyter-lab</string>\n",
    "    <key>ProgramArguments</key>\n",
    "    <array>\n",
    "        <string>/bin/sh</string>\n",
    "        <string>/Users/saintway/start-jupyter-lab.sh</string>\n",
    "    </array>\n",
    "    <key>RunAtLoad</key>\n",
    "    <true/>\n",
    "    <key>StandardOutPath</key>\n",
    "    <string>/Users/saintway/start-jupyter-lab.log</string>\n",
    "    <key>StandardErrorPath</key>\n",
    "    <string>/Users/saintway/start-jupyter-lab.log</string>\n",
    "</dict>\n",
    "</plist>\n",
    "EOF"
   ]
  },
  {
   "cell_type": "code",
   "execution_count": null,
   "id": "d0903be6-2b45-4b40-9025-8adcfca36d95",
   "metadata": {},
   "outputs": [],
   "source": [
    "launchctl unload ~/Library/LaunchAgents/com.quantum.jupyter-lab.plist"
   ]
  },
  {
   "cell_type": "code",
   "execution_count": null,
   "id": "fb5da41a-e7a3-42aa-81b5-e2c67f379dcd",
   "metadata": {},
   "outputs": [],
   "source": [
    "launchctl load ~/Library/LaunchAgents/com.quantum.jupyter-lab.plist"
   ]
  },
  {
   "cell_type": "code",
   "execution_count": null,
   "id": "8e28ebb2-2eec-49a8-ac2c-4878a3494e5b",
   "metadata": {},
   "outputs": [],
   "source": [
    "launchctl list | grep com.quantum.jupyter-lab"
   ]
  },
  {
   "cell_type": "code",
   "execution_count": null,
   "id": "b2e28921-2892-4daf-8f20-ce6302fd0dca",
   "metadata": {},
   "outputs": [],
   "source": [
    "launchctl start com.quantum.jupyter-lab"
   ]
  },
  {
   "cell_type": "code",
   "execution_count": null,
   "id": "afbe5102-65a5-4ede-a40d-3be583bf524c",
   "metadata": {},
   "outputs": [],
   "source": [
    "launchctl stop com.quantum.jupyter-lab"
   ]
  }
 ],
 "metadata": {
  "kernelspec": {
   "display_name": "Bash",
   "language": "bash",
   "name": "bash"
  },
  "language_info": {
   "codemirror_mode": "shell",
   "file_extension": ".sh",
   "mimetype": "text/x-sh",
   "name": "bash"
  }
 },
 "nbformat": 4,
 "nbformat_minor": 5
}
