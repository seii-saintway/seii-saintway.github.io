{
 "cells": [
  {
   "cell_type": "markdown",
   "id": "93fb7e6d-18e7-4a06-b7d2-8e0727aca7e0",
   "metadata": {},
   "source": [
    "https://github.com/haddocking/pdb-tools"
   ]
  },
  {
   "cell_type": "code",
   "execution_count": null,
   "id": "acadc25a-1db4-491b-b91d-14bed38d05e1",
   "metadata": {},
   "outputs": [],
   "source": [
    "%%bash\n",
    "pip3 install pdb-tools"
   ]
  },
  {
   "cell_type": "code",
   "execution_count": null,
   "id": "4471f6b8-d600-45b0-8730-27edbd6baa73",
   "metadata": {},
   "outputs": [],
   "source": [
    "%%bash\n",
    "echo 'export PATH=\"$PATH:/Users/saintway/Library/Python/3.9/bin\"' >> ~/.zshrc\n",
    "source ~/.zshrc"
   ]
  },
  {
   "cell_type": "code",
   "execution_count": null,
   "id": "24e986e1-4320-4c2d-88fd-3d3f580e9734",
   "metadata": {},
   "outputs": [],
   "source": [
    "%%bash\n",
    "echo 'export PATH=\"$PATH:/Users/saintway/Library/Python/3.9/bin\"' >> ~/.bash_profile\n",
    "source ~/.bash_profile"
   ]
  },
  {
   "cell_type": "markdown",
   "id": "b5391627-1fd6-47c7-916b-9c17dcfec58e",
   "metadata": {},
   "source": [
    "https://www.isilox.com/download/index.htm"
   ]
  },
  {
   "cell_type": "code",
   "execution_count": 1,
   "id": "293036fe-60de-45f0-846e-71ef96a4ffbf",
   "metadata": {},
   "outputs": [
    {
     "name": "stdout",
     "output_type": "stream",
     "text": [
      "3生命读经.pdb\n",
      "5新约总论.pdb\n",
      "All Ministry Books_2020.pdb\n",
      "All Ministry books_1.pdb\n",
      "All Ministry books_2.pdb\n",
      "Bible ENG.pdb\n",
      "Bible-Chinese&English.pdb\n",
      "Chinese Holy Bible Recovery Version.pdb\n",
      "Liederbuch v.1.0.pdb\n",
      "RCV Bible Old _ New.pdb\n",
      "RcV Bible Concordance.pdb\n",
      "watchman_nee_collections.pdb\n",
      "书报合集.pdb\n",
      "属灵书报 107M 版 UTF8 XSH4-NOML-RSZU-4WXJ.pdb\n"
     ]
    }
   ],
   "source": [
    "%%bash\n",
    "ls '/Users/saintway/Library/CloudStorage/GoogleDrive-andrew.saintway@gmail.com/.shortcut-targets-by-id/1-0KMypQINRT37y8fK9tYtBYu_chqciQw/Bible iSilo 材料'"
   ]
  },
  {
   "cell_type": "code",
   "execution_count": null,
   "id": "deaf1ec5-407c-461f-bd3a-194ce0e24a9d",
   "metadata": {},
   "outputs": [],
   "source": [
    "iSiloXC -h"
   ]
  }
 ],
 "metadata": {
  "kernelspec": {
   "display_name": "Z shell",
   "language": "zsh",
   "name": "zsh"
  },
  "language_info": {
   "codemirror_mode": "shell",
   "file_extension": ".zsh",
   "mimetype": "text/x-zsh",
   "name": "zsh",
   "pygments_lexer": "shell",
   "version": "5.7.1"
  }
 },
 "nbformat": 4,
 "nbformat_minor": 5
}
