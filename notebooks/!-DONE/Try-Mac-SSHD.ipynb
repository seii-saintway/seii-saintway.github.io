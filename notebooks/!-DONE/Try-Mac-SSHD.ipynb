{
 "cells": [
  {
   "cell_type": "markdown",
   "metadata": {},
   "source": [
    "-> `System Preferences` -> `Sharing` -> enable -> `Remote Login`"
   ]
  },
  {
   "cell_type": "code",
   "execution_count": null,
   "metadata": {},
   "outputs": [],
   "source": [
    "cat /private/etc/ssh/sshd_config"
   ]
  },
  {
   "cell_type": "code",
   "execution_count": null,
   "metadata": {},
   "outputs": [],
   "source": [
    "sudo launchctl stop com.openssh.sshd"
   ]
  },
  {
   "cell_type": "code",
   "execution_count": null,
   "metadata": {},
   "outputs": [],
   "source": [
    "sudo launchctl start com.openssh.sshd"
   ]
  },
  {
   "cell_type": "markdown",
   "metadata": {},
   "source": [
    "#### Disable SSH Password Authentication\n",
    "> [challenge–response authentication](https://en.wikipedia.org/wiki/Challenge–response_authentication)"
   ]
  },
  {
   "cell_type": "markdown",
   "metadata": {},
   "source": [
    "`cat /etc/ssh/sshd_config`\n",
    "\n",
    "```\n",
    "...\n",
    "PasswordAuthentication no\n",
    "ChallengeResponseAuthentication no\n",
    "...\n",
    "```"
   ]
  }
 ],
 "metadata": {
  "kernelspec": {
   "display_name": "Bash",
   "language": "bash",
   "name": "bash"
  }
 },
 "nbformat": 4,
 "nbformat_minor": 4
}
