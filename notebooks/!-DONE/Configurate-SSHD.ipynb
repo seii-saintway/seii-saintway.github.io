{
 "cells": [
  {
   "cell_type": "markdown",
   "metadata": {},
   "source": [
    "## For Mac"
   ]
  },
  {
   "cell_type": "markdown",
   "metadata": {},
   "source": [
    "-> `System Preferences` -> `Sharing` -> enable -> `Remote Login`"
   ]
  },
  {
   "cell_type": "code",
   "execution_count": null,
   "metadata": {},
   "outputs": [],
   "source": [
    "cat /private/etc/ssh/sshd_config"
   ]
  },
  {
   "cell_type": "code",
   "execution_count": null,
   "metadata": {},
   "outputs": [],
   "source": [
    "sudo launchctl stop com.openssh.sshd"
   ]
  },
  {
   "cell_type": "code",
   "execution_count": null,
   "metadata": {},
   "outputs": [],
   "source": [
    "sudo launchctl start com.openssh.sshd"
   ]
  },
  {
   "cell_type": "markdown",
   "metadata": {},
   "source": [
    "## For Linux"
   ]
  },
  {
   "cell_type": "markdown",
   "metadata": {},
   "source": [
    "### Disable SSH Password Authentication\n",
    "> [challenge–response authentication](https://en.wikipedia.org/wiki/Challenge–response_authentication)"
   ]
  },
  {
   "cell_type": "markdown",
   "metadata": {},
   "source": [
    "`cat /etc/ssh/sshd_config`\n",
    "\n",
    "```\n",
    "...\n",
    "PasswordAuthentication no\n",
    "ChallengeResponseAuthentication no\n",
    "...\n",
    "```"
   ]
  },
  {
   "cell_type": "markdown",
   "metadata": {},
   "source": [
    "### Enable Multiple Ports"
   ]
  },
  {
   "cell_type": "markdown",
   "metadata": {},
   "source": [
    "`cat /etc/ssh/sshd_config`\n",
    "\n",
    "```\n",
    "...\n",
    "Port 22\n",
    "Port 2222\n",
    "...\n",
    "```"
   ]
  },
  {
   "cell_type": "markdown",
   "metadata": {},
   "source": [
    "### Generate Public Key from Private Key"
   ]
  },
  {
   "cell_type": "code",
   "execution_count": null,
   "metadata": {},
   "outputs": [],
   "source": [
    "openssl rsa -in ~/.ssh/$private_key_file -pubout > $public_key_file"
   ]
  },
  {
   "cell_type": "markdown",
   "metadata": {},
   "source": [
    "### SSH through HTTP Proxy"
   ]
  },
  {
   "cell_type": "code",
   "execution_count": null,
   "metadata": {},
   "outputs": [],
   "source": [
    "ssh -p $server_port -o ProxyCommand=\"nc -X connect -x $proxy_domain:$proxy_port %h %p\" -i ~/.ssh/$private_key_file $user_name@$server_domain"
   ]
  },
  {
   "cell_type": "code",
   "execution_count": null,
   "metadata": {},
   "outputs": [],
   "source": [
    "cat << EOF >> ~/.ssh/config\n",
    "Host $ssh_name\n",
    "  HostName $server_domain\n",
    "  Port $server_port\n",
    "  User $user_name\n",
    "  IdentityFile ~/.ssh/$private_key_file\n",
    "  ProxyCommand nc -X connect -x $proxy_domain:$proxy_port %h %p\n",
    "EOF"
   ]
  }
 ],
 "metadata": {
  "kernelspec": {
   "display_name": "Bash",
   "language": "bash",
   "name": "bash"
  }
 },
 "nbformat": 4,
 "nbformat_minor": 4
}
