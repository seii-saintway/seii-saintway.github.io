{
 "cells": [
  {
   "cell_type": "code",
   "execution_count": null,
   "metadata": {},
   "outputs": [],
   "source": [
    "git filter-branch --env-filter '\n",
    "WRONG_EMAIL=\"jupyter-sheng_wei@jhub.name\"\n",
    "NEW_NAME=\"saintway @ jhub.name\"\n",
    "NEW_EMAIL=\"saintway.sakaru@gmail.com\"\n",
    "\n",
    "if [ \"$GIT_COMMITTER_EMAIL\" = \"$WRONG_EMAIL\" ]\n",
    "then\n",
    "    export GIT_COMMITTER_NAME=\"$NEW_NAME\"\n",
    "    export GIT_COMMITTER_EMAIL=\"$NEW_EMAIL\"\n",
    "fi\n",
    "if [ \"$GIT_AUTHOR_EMAIL\" = \"$WRONG_EMAIL\" ]\n",
    "then\n",
    "    export GIT_AUTHOR_NAME=\"$NEW_NAME\"\n",
    "    export GIT_AUTHOR_EMAIL=\"$NEW_EMAIL\"\n",
    "fi\n",
    "' --tag-name-filter cat -- --branches --tags"
   ]
  }
 ],
 "metadata": {
  "kernelspec": {
   "display_name": "Bash",
   "language": "bash",
   "name": "bash"
  }
 },
 "nbformat": 4,
 "nbformat_minor": 4
}
