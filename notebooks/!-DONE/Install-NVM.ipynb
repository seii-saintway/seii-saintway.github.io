{
 "cells": [
  {
   "cell_type": "markdown",
   "metadata": {},
   "source": [
    "# https://github.com/nvm-sh/nvm"
   ]
  },
  {
   "cell_type": "code",
   "execution_count": null,
   "metadata": {},
   "outputs": [
    {
     "name": "stdout",
     "output_type": "stream",
     "text": [
      "  % Total    % Received % Xferd  Average Speed   Time    Time     Time  Current\n",
      "                                 Dload  Upload   Total   Spent    Left  Speed\n",
      "100 14926  100 14926    0     0  34792      0 --:--:-- --:--:-- --:--:-- 34711\n",
      "=> Downloading nvm from git to '/Users/saintway/.nvm'\n",
      "=> Cloning into '/Users/saintway/.nvm'...\n",
      "remote: Enumerating objects: 348, done.\u001b[K\n",
      "remote: Counting objects: 100% (348/348), done.\u001b[K\n",
      "remote: Compressing objects: 100% (297/297), done.\u001b[K\n",
      "remote: Total 348 (delta 39), reused 163 (delta 26), pack-reused 0\u001b[K\n",
      "Receiving objects: 100% (348/348), 208.92 KiB | 2.11 MiB/s, done.\n",
      "Resolving deltas: 100% (39/39), done.\n",
      "* \u001b[32m(HEAD detached at FETCH_HEAD)\u001b[m\u001b[m\n",
      "  master\u001b[m\u001b[m\n"
     ]
    }
   ],
   "source": [
    "curl -o- https://raw.githubusercontent.com/nvm-sh/nvm/v0.38.0/install.sh | bash"
   ]
  },
  {
   "cell_type": "code",
   "execution_count": null,
   "metadata": {},
   "outputs": [],
   "source": [
    "nvm ls-remote"
   ]
  },
  {
   "cell_type": "code",
   "execution_count": 2,
   "metadata": {},
   "outputs": [
    {
     "name": "stdout",
     "output_type": "stream",
     "text": [
      "Downloading and installing node v13.14.0...\n",
      "Downloading https://nodejs.org/dist/v13.14.0/node-v13.14.0-darwin-x64.tar.xz...\n",
      "######################################################################### 100.0%\n",
      "Computing checksum with shasum -a 256\n",
      "Checksums matched!\n",
      "Now using node v13.14.0 (npm v6.14.4)\n",
      "Creating default alias: \u001b[0;32mdefault\u001b[0m \u001b[0;90m->\u001b[0m \u001b[0;32m13.14.0\u001b[0m (\u001b[0;90m->\u001b[0m \u001b[0;32mv13.14.0\u001b[0m)\n"
     ]
    }
   ],
   "source": [
    "nvm install 13.14.0"
   ]
  },
  {
   "cell_type": "code",
   "execution_count": 3,
   "metadata": {},
   "outputs": [
    {
     "name": "stdout",
     "output_type": "stream",
     "text": [
      "Now using node v13.14.0 (npm v6.14.4)\n"
     ]
    }
   ],
   "source": [
    "nvm use 13.14.0"
   ]
  },
  {
   "cell_type": "code",
   "execution_count": 4,
   "metadata": {},
   "outputs": [
    {
     "name": "stdout",
     "output_type": "stream",
     "text": [
      "v13.14.0\n"
     ]
    }
   ],
   "source": [
    "node --version"
   ]
  }
 ],
 "metadata": {
  "kernelspec": {
   "display_name": "Z shell",
   "language": "zsh",
   "name": "zsh"
  },
  "language_info": {
   "codemirror_mode": "shell",
   "file_extension": ".zsh",
   "mimetype": "text/x-zsh",
   "name": "zsh",
   "pygments_lexer": "shell",
   "version": "5.7.1"
  }
 },
 "nbformat": 4,
 "nbformat_minor": 4
}
