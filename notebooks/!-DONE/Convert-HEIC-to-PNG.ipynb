{
 "cells": [
  {
   "cell_type": "markdown",
   "id": "b4849787-177a-412d-934e-a2e4278463d9",
   "metadata": {},
   "source": [
    "---\n",
    "Bash for Ubuntu"
   ]
  },
  {
   "cell_type": "code",
   "execution_count": null,
   "id": "9da396a3-489b-4cb2-8316-72a44f987314",
   "metadata": {},
   "outputs": [
    {
     "name": "stdout",
     "output_type": "stream",
     "text": [
      "Collecting pyheif\n",
      "  Downloading pyheif-0.7.1.tar.gz (22 kB)\n",
      "  Preparing metadata (setup.py) ... \u001b[?25ldone\n",
      "\u001b[?25hRequirement already satisfied: cffi>=1.0.0 in /usr/local/anaconda3/envs/ipymock/lib/python3.10/site-packages (from pyheif) (1.15.1)\n",
      "Requirement already satisfied: pycparser in /usr/local/anaconda3/envs/ipymock/lib/python3.10/site-packages (from cffi>=1.0.0->pyheif) (2.21)\n",
      "Building wheels for collected packages: pyheif\n",
      "  Building wheel for pyheif (setup.py) ... \u001b[?25ldone\n",
      "\u001b[?25h  Created wheel for pyheif: filename=pyheif-0.7.1-cp310-cp310-macosx_10_9_x86_64.whl size=33864 sha256=7e85e2e48ef6d3d103390a6e818a7b5e2d6e057da90a82cbe7e6ed5ad44cdb36\n",
      "  Stored in directory: /Users/saintway/Library/Caches/pip/wheels/76/b8/35/85c180b1707a8594bfc6c0b7da9eb0f5b08e055ef546c461a3\n",
      "Successfully built pyheif\n",
      "Installing collected packages: pyheif\n",
      "Successfully installed pyheif-0.7.1\n"
     ]
    }
   ],
   "source": [
    "pip install pyheif"
   ]
  },
  {
   "cell_type": "markdown",
   "id": "8c4bafca-dfb1-481b-9f5e-9d50d62a8351",
   "metadata": {},
   "source": [
    "---\n",
    "Python for Ubuntu"
   ]
  },
  {
   "cell_type": "code",
   "execution_count": null,
   "id": "fd344300-2f15-4304-8128-616aec24ee72",
   "metadata": {},
   "outputs": [],
   "source": [
    "import pyheif\n",
    "from PIL import Image\n",
    "\n",
    "def heic_to_png(heic_path, png_path):\n",
    "    heif_file = pyheif.read(heic_path)\n",
    "    image = Image.frombytes(\n",
    "        heif_file.mode, \n",
    "        heif_file.size, \n",
    "        heif_file.data,\n",
    "        'raw',\n",
    "        heif_file.mode,\n",
    "        heif_file.stride,\n",
    "    )\n",
    "    image.save(png_path, format='PNG')\n",
    "\n",
    "# 使用示例\n",
    "heic_file_path = '/Users/saintway/Downloads/IMG_5619.heic'\n",
    "png_file_path = '/Users/saintway/Downloads/IMG_5619.png'\n",
    "\n",
    "heic_to_png(heic_file_path, png_file_path)"
   ]
  },
  {
   "cell_type": "markdown",
   "id": "4b9033ca-6d8c-4ca1-bf5b-1b9fea387cad",
   "metadata": {},
   "source": [
    "---\n",
    "Bash for Windows 11"
   ]
  },
  {
   "cell_type": "code",
   "execution_count": null,
   "id": "ee32c735-092d-44bc-949c-27dc2aece24d",
   "metadata": {},
   "outputs": [],
   "source": [
    "pip install pillow-heif"
   ]
  },
  {
   "cell_type": "markdown",
   "id": "e7c85137-c536-4a39-b10f-ff54d6b8efc9",
   "metadata": {},
   "source": [
    "---\n",
    "Python for Windows 11"
   ]
  },
  {
   "cell_type": "code",
   "execution_count": null,
   "id": "25f2e147-38b6-4f78-a1a9-25de9dbadc83",
   "metadata": {},
   "outputs": [],
   "source": [
    "import pillow_heif\n",
    "\n",
    "def heic_to_png(heic_path, png_path):\n",
    "    heif_file = pillow_heif.open_heif(heic_path)\n",
    "    image = heif_file.to_pillow()\n",
    "    image.save(png_path, format='PNG')\n",
    "\n",
    "# 使用示例\n",
    "heic_file_path = 'c:/Users/msduser/Downloads/IMG_6340.heic'\n",
    "png_file_path = 'c:/Users/msduser/Downloads/IMG_6340.png'\n",
    "\n",
    "heic_to_png(heic_file_path, png_file_path)"
   ]
  }
 ],
 "metadata": {
  "kernelspec": {
   "display_name": "Python 3 (ipykernel)",
   "language": "python",
   "name": "python3"
  },
  "language_info": {
   "codemirror_mode": {
    "name": "ipython",
    "version": 3
   },
   "file_extension": ".py",
   "mimetype": "text/x-python",
   "name": "python",
   "nbconvert_exporter": "python",
   "pygments_lexer": "ipython3",
   "version": "3.9.7"
  }
 },
 "nbformat": 4,
 "nbformat_minor": 5
}
