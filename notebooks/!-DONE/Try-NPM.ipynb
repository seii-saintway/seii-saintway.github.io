{
 "cells": [
  {
   "cell_type": "code",
   "execution_count": null,
   "metadata": {},
   "outputs": [
    {
     "name": "stdout",
     "output_type": "stream",
     "text": [
      "7.0.8\n"
     ]
    }
   ],
   "source": [
    "npm -v"
   ]
  },
  {
   "cell_type": "code",
   "execution_count": null,
   "metadata": {},
   "outputs": [
    {
     "name": "stdout",
     "output_type": "stream",
     "text": [
      "Password:\n"
     ]
    }
   ],
   "source": [
    "sudo npm install npm -g"
   ]
  },
  {
   "cell_type": "code",
   "execution_count": null,
   "metadata": {},
   "outputs": [
    {
     "name": "stdout",
     "output_type": "stream",
     "text": [
      "\u001b[K\u001b[?25h              \u001b[27m⸩ ⠙ reify:npm: \u001b[32;40mhttp\u001b[0m \u001b[35mfetch\u001b[0m GET 200 https://registry.npmjs.org\u001b[0m\u001b[K[0m\u001b[K\n",
      "removed 51 packages, changed 196 packages, and audited 434 packages in 4s\n",
      "\n",
      "2 packages are looking for funding\n",
      "  run `npm fund` for details\n",
      "\n",
      "2 \u001b[1mlow\u001b[22m severity vulnerabilities\n",
      "\n",
      "To address all issues, run:\n",
      "  npm audit fix\n",
      "\n",
      "Run `npm audit` for details.\n"
     ]
    }
   ],
   "source": [
    "npm install npm -g"
   ]
  },
  {
   "cell_type": "code",
   "execution_count": null,
   "metadata": {},
   "outputs": [],
   "source": [
    "# 本地安装\n",
    "npm install express\n",
    "# 全局安装\n",
    "npm install express -g"
   ]
  },
  {
   "cell_type": "code",
   "execution_count": null,
   "metadata": {},
   "outputs": [],
   "source": [
    "npm list -g"
   ]
  },
  {
   "cell_type": "code",
   "execution_count": null,
   "metadata": {},
   "outputs": [],
   "source": [
    "npm list grunt"
   ]
  },
  {
   "cell_type": "code",
   "execution_count": null,
   "metadata": {},
   "outputs": [],
   "source": [
    "npm uninstall express"
   ]
  },
  {
   "cell_type": "code",
   "execution_count": null,
   "metadata": {},
   "outputs": [],
   "source": [
    "npm ls"
   ]
  },
  {
   "cell_type": "code",
   "execution_count": null,
   "metadata": {},
   "outputs": [],
   "source": [
    "npm update express"
   ]
  },
  {
   "cell_type": "code",
   "execution_count": null,
   "metadata": {},
   "outputs": [],
   "source": [
    "npm search express"
   ]
  },
  {
   "cell_type": "code",
   "execution_count": null,
   "metadata": {},
   "outputs": [
    {
     "name": "stdout",
     "output_type": "stream",
     "text": [
      "This utility will walk you through creating a package.json file.\n",
      "It only covers the most common items, and tries to guess sensible defaults.\n",
      "\n",
      "See `npm help init` for definitive documentation on these fields\n",
      "and exactly what they do.\n",
      "\n",
      "Use `npm install <pkg>` afterwards to install a package and\n",
      "save it as a dependency in the package.json file.\n",
      "\n",
      "Press ^C at any time to quit.\n",
      "\u001b[1G\u001b[0Jpackage name: (!-done) \u001b[24G\u001b[37;40mnpm\u001b[0m \u001b[0m\u001b[30;43mWARN\u001b[0m \u001b[0m\u001b[35minit\u001b[0m canceled\n",
      "\u001b[0m"
     ]
    }
   ],
   "source": [
    "npm init"
   ]
  }
 ],
 "metadata": {
  "kernelspec": {
   "display_name": "Bash",
   "language": "bash",
   "name": "bash"
  }
 },
 "nbformat": 4,
 "nbformat_minor": 4
}
