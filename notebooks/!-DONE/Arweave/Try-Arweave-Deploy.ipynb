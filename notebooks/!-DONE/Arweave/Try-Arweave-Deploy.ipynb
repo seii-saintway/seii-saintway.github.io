{
 "cells": [
  {
   "cell_type": "markdown",
   "metadata": {},
   "source": [
    "https://docs.arweave.org/developers/tools/arweave-deploy"
   ]
  },
  {
   "cell_type": "code",
   "execution_count": null,
   "metadata": {},
   "outputs": [
    {
     "name": "stdout",
     "output_type": "stream",
     "text": [
      "6.14.4\n"
     ]
    }
   ],
   "source": [
    "npm --version"
   ]
  },
  {
   "cell_type": "code",
   "execution_count": null,
   "metadata": {},
   "outputs": [
    {
     "name": "stdout",
     "output_type": "stream",
     "text": [
      "v10.21.0\n"
     ]
    }
   ],
   "source": [
    "node --version"
   ]
  },
  {
   "cell_type": "code",
   "execution_count": null,
   "metadata": {},
   "outputs": [],
   "source": [
    "cd ~ && wget -O arweave-deploy https://github.com/ArweaveTeam/arweave-deploy/raw/latest/dist/linux/arweave"
   ]
  },
  {
   "cell_type": "code",
   "execution_count": null,
   "metadata": {},
   "outputs": [],
   "source": [
    "chmod +x ~/arweave-deploy"
   ]
  },
  {
   "cell_type": "code",
   "execution_count": null,
   "metadata": {},
   "outputs": [
    {
     "name": "stdout",
     "output_type": "stream",
     "text": [
      "1.8.2\n"
     ]
    }
   ],
   "source": [
    "~/arweave-deploy --version"
   ]
  },
  {
   "cell_type": "code",
   "execution_count": null,
   "metadata": {},
   "outputs": [
    {
     "name": "stdout",
     "output_type": "stream",
     "text": [
      "Address: pNSLjwnGeETHlcEa3-45kEfZnpHCidpup4APMc7G4jY\n",
      "\u001b[1G\u001b[0JSet an encryption passphrase \u001b[30Gcanceled\n"
     ]
    }
   ],
   "source": [
    "~/arweave-deploy key-save ~/arweave-keyfile-pNSLjwnGeETHlcEa3-45kEfZnpHCidpup4APMc7G4jY.json"
   ]
  },
  {
   "cell_type": "code",
   "execution_count": null,
   "metadata": {},
   "outputs": [
    {
     "name": "stdout",
     "output_type": "stream",
     "text": [
      "\n",
      "File\n",
      "\n",
      "Path: bq.ipynb\n",
      "Size: 1.19 kB\n",
      "\n",
      "Transaction\n",
      "\n",
      "ID: 9vhDHkcmTus8IEl2eAXGXWmiAVlhdLDw-Cc47GV31Fw\n",
      "Price: 0.000002420864 AR\n",
      "\n",
      "Tags:\n",
      "\n",
      " - Content-Type:application/octet-stream\n",
      " - User-Agent:ArweaveDeploy/1.8.2\n",
      "\n",
      "Wallet\n",
      "\n",
      "Address: pNSLjwnGeETHlcEa3-45kEfZnpHCidpup4APMc7G4jY\n",
      "Current balance: 77.129213391162 AR\n",
      "Balance after uploading: 77.129210970298 AR\n",
      "\n",
      "\u001b[1G\u001b[0JCarefully check the above details are correct, then Type CONFIRM to complete this upload \u001b[10GCONFIRM\n",
      "Your file is deploying! 🚀\n",
      "Once your file is mined into a block it'll be available on the following URL\n",
      "\n",
      "https://arweave.net/9vhDHkcmTus8IEl2eAXGXWmiAVlhdLDw-Cc47GV31Fw\n",
      "\n",
      "You can check its status using 'arweave status 9vhDHkcmTus8IEl2eAXGXWmiAVlhdLDw-Cc47GV31Fw'\n",
      "        \n"
     ]
    }
   ],
   "source": [
    "echo CONFIRM | ~/arweave-deploy deploy bq.ipynb --key-file ~/arweave-keyfile-pNSLjwnGeETHlcEa3-45kEfZnpHCidpup4APMc7G4jY.json"
   ]
  },
  {
   "cell_type": "code",
   "execution_count": null,
   "metadata": {},
   "outputs": [
    {
     "name": "stdout",
     "output_type": "stream",
     "text": [
      "Trasaction ID: 9vhDHkcmTus8IEl2eAXGXWmiAVlhdLDw-Cc47GV31Fw\n",
      "\n",
      "Status: 200 Accepted 🚀\n",
      "\n",
      " - Block: 506753\n",
      " - Block hash: Er6vekxt4ROaCT_KdQ4TpU4W7eyKXZ7GfYwnrZbNVKc5it5iqgXRzAC3cR5EHXdl\n",
      " - Confirmations: 1\n",
      "\n",
      "URL: https://arweave.net/9vhDHkcmTus8IEl2eAXGXWmiAVlhdLDw-Cc47GV31Fw\n",
      "Block URL: https://arweave.net/block/hash/Er6vekxt4ROaCT_KdQ4TpU4W7eyKXZ7GfYwnrZbNVKc5it5iqgXRzAC3cR5EHXdl\n",
      "\n",
      "Block explorer URL: https://viewblock.io/arweave/block/506753\n",
      "\n"
     ]
    }
   ],
   "source": [
    "~/arweave-deploy status 9vhDHkcmTus8IEl2eAXGXWmiAVlhdLDw-Cc47GV31Fw"
   ]
  },
  {
   "cell_type": "code",
   "execution_count": null,
   "metadata": {},
   "outputs": [
    {
     "name": "stdout",
     "output_type": "stream",
     "text": [
      "ENOENT: no such file or directory, open '/home/jupyter-sheng_wei/custom.css'\n",
      "\n",
      "File\n",
      "\n",
      "Path: bq.html\n",
      "Size: 369.74 kB\n",
      "Optimisations\n",
      " - HTML/JS/CSS bundling and packaging\n",
      "\n",
      "Transaction\n",
      "\n",
      "ID: D3aERTDFlNtY83eKNNKDE2l60sIqlJYKcjFE9k_oaX0\n",
      "Price: 0.000208797602 AR\n",
      "\n",
      "Tags:\n",
      "\n",
      " - Content-Type:text/html\n",
      " - User-Agent:ArweaveDeploy/1.8.2\n",
      "\n",
      "Wallet\n",
      "\n",
      "Address: pNSLjwnGeETHlcEa3-45kEfZnpHCidpup4APMc7G4jY\n",
      "Current balance: 77.129213391162 AR\n",
      "Balance after uploading: 77.129004593560 AR\n",
      "\n",
      "Carefully check the above details are correct, then Type CONFIRM to complete this upload CONFIRM\n",
      "Your file is deploying! 🚀\n",
      "Once your file is mined into a block it'll be available on the following URL\n",
      "\n",
      "https://arweave.net/D3aERTDFlNtY83eKNNKDE2l60sIqlJYKcjFE9k_oaX0\n",
      "\n",
      "You can check its status using 'arweave status D3aERTDFlNtY83eKNNKDE2l60sIqlJYKcjFE9k_oaX0'\n",
      "\n"
     ]
    }
   ],
   "source": [
    "echo CONFIRM | ~/arweave-deploy deploy bq.html --key-file ~/arweave-keyfile-pNSLjwnGeETHlcEa3-45kEfZnpHCidpup4APMc7G4jY.json --package"
   ]
  },
  {
   "cell_type": "code",
   "execution_count": null,
   "metadata": {},
   "outputs": [
    {
     "name": "stdout",
     "output_type": "stream",
     "text": [
      "Trasaction ID: D3aERTDFlNtY83eKNNKDE2l60sIqlJYKcjFE9k_oaX0\n",
      "\n",
      "Status: 200 Accepted 🚀\n",
      "\n",
      " - Block: 506751\n",
      " - Block hash: dSs2Uw0NRzRK3pwfmDXdKSE9oV4gfvVgZ0cK7LfPLpZO77kOZ3fjny1G2YK5k-Eq\n",
      " - Confirmations: 3\n",
      "\n",
      "URL: https://arweave.net/D3aERTDFlNtY83eKNNKDE2l60sIqlJYKcjFE9k_oaX0\n",
      "Block URL: https://arweave.net/block/hash/dSs2Uw0NRzRK3pwfmDXdKSE9oV4gfvVgZ0cK7LfPLpZO77kOZ3fjny1G2YK5k-Eq\n",
      "\n",
      "Block explorer URL: https://viewblock.io/arweave/block/506751\n",
      "\n"
     ]
    }
   ],
   "source": [
    "~/arweave-deploy status D3aERTDFlNtY83eKNNKDE2l60sIqlJYKcjFE9k_oaX0"
   ]
  },
  {
   "cell_type": "code",
   "execution_count": null,
   "metadata": {},
   "outputs": [
    {
     "name": "stdout",
     "output_type": "stream",
     "text": [
      "Trasaction ID: qMc8jmEdU7y1IQCecf90ASl_zYNxFXm6BLB6Cxpm5kU\n",
      "\n",
      "Status: 200 Accepted 🚀\n",
      "\n",
      " - Block: 515463\n",
      " - Block hash: pZPMKiejlKgsLwprUMMkKvg04--skN3Hs2q8wvDM-sYYNjg3vMA4syLVxjU9ylzS\n",
      " - Confirmations: 503\n",
      "\n",
      "URL: https://arweave.net/qMc8jmEdU7y1IQCecf90ASl_zYNxFXm6BLB6Cxpm5kU\n",
      "Block URL: https://arweave.net/block/hash/pZPMKiejlKgsLwprUMMkKvg04--skN3Hs2q8wvDM-sYYNjg3vMA4syLVxjU9ylzS\n",
      "\n",
      "Block explorer URL: https://viewblock.io/arweave/block/515463\n",
      "\n"
     ]
    }
   ],
   "source": [
    "arweave status qMc8jmEdU7y1IQCecf90ASl_zYNxFXm6BLB6Cxpm5kU"
   ]
  },
  {
   "cell_type": "code",
   "execution_count": null,
   "metadata": {},
   "outputs": [
    {
     "name": "stdout",
     "output_type": "stream",
     "text": [
      "Trasaction ID: -sb8lKu9Vz7BUFshSl_rCyd5sk5feLnxq4f1pzDLHQc\n",
      "\n",
      "Status: 200 Accepted 🚀\n",
      "\n",
      " - Block: 514830\n",
      " - Block hash: DLQ7ynbj0SWWww29WLygjc-CVUS9gdff4UDORx3QyOUOZrH23Dv7-4py_qnjgXma\n",
      " - Confirmations: 1279\n",
      "\n",
      "URL: https://arweave.net/-sb8lKu9Vz7BUFshSl_rCyd5sk5feLnxq4f1pzDLHQc\n",
      "Block URL: https://arweave.net/block/hash/DLQ7ynbj0SWWww29WLygjc-CVUS9gdff4UDORx3QyOUOZrH23Dv7-4py_qnjgXma\n",
      "\n",
      "Block explorer URL: https://viewblock.io/arweave/block/514830\n",
      "\n"
     ]
    }
   ],
   "source": [
    "arweave status -- -sb8lKu9Vz7BUFshSl_rCyd5sk5feLnxq4f1pzDLHQc"
   ]
  },
  {
   "cell_type": "markdown",
   "metadata": {},
   "source": [
    "https://viewblock.io/arweave/tx/-sb8lKu9Vz7BUFshSl_rCyd5sk5feLnxq4f1pzDLHQc"
   ]
  }
 ],
 "metadata": {
  "kernelspec": {
   "display_name": "Bash",
   "language": "bash",
   "name": "bash"
  }
 },
 "nbformat": 4,
 "nbformat_minor": 4
}
