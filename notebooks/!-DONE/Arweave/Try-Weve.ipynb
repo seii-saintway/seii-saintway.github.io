{
 "cells": [
  {
   "cell_type": "markdown",
   "metadata": {},
   "source": [
    "# Weavemail\n",
    "* https://weavemail.app/\n",
    "* https://github.com/ArweaveTeam/weavemail"
   ]
  },
  {
   "cell_type": "code",
   "execution_count": null,
   "metadata": {},
   "outputs": [
    {
     "name": "stdout",
     "output_type": "stream",
     "text": [
      "Cloning into 'weavemail'...\n",
      "remote: Enumerating objects: 83, done.        \n",
      "remote: Total 83 (delta 0), reused 0 (delta 0), pack-reused 83        \n",
      "Unpacking objects: 100% (83/83), done.\n"
     ]
    }
   ],
   "source": [
    "cd ~ && git clone https://github.com/ArweaveTeam/weavemail.git"
   ]
  },
  {
   "cell_type": "code",
   "execution_count": null,
   "metadata": {},
   "outputs": [
    {
     "name": "stdout",
     "output_type": "stream",
     "text": [
      "(node:28495) [DEP0066] DeprecationWarning: OutgoingMessage.prototype._headers is deprecated\n",
      "\n",
      "File\n",
      "\n",
      "Path: permamail.html\n",
      "Size: 109.18 kB\n",
      "Optimisations\n",
      " - HTML/JS/CSS bundling and packaging\n",
      "\n",
      "Transaction\n",
      "\n",
      "ID: yc-OsTnxU_7ZaQ3fBT_h89uba5-FQLf9xrNI6ArqI-Y\n",
      "Price: 0.000062891371 AR\n",
      "\n",
      "Tags:\n",
      "\n",
      " - Content-Type:text/html\n",
      " - User-Agent:ArweaveDeploy/1.8.2\n",
      "\n",
      "Wallet\n",
      "\n",
      "Address: pNSLjwnGeETHlcEa3-45kEfZnpHCidpup4APMc7G4jY\n",
      "Current balance: 77.129002172696 AR\n",
      "Balance after uploading: 77.128939281325 AR\n",
      "\n",
      "\u001b[1G\u001b[0JCarefully check the above details are correct, then Type CONFIRM to complete this upload \u001b[10GCONFIRM\n",
      "Your file is deploying! 🚀\n",
      "Once your file is mined into a block it'll be available on the following URL\n",
      "\n",
      "https://arweave.net/yc-OsTnxU_7ZaQ3fBT_h89uba5-FQLf9xrNI6ArqI-Y\n",
      "\n",
      "You can check its status using 'arweave status yc-OsTnxU_7ZaQ3fBT_h89uba5-FQLf9xrNI6ArqI-Y'\n",
      "        \n"
     ]
    }
   ],
   "source": [
    "cd ~/weavemail\n",
    "echo CONFIRM | arweave deploy permamail.html --key-file ~/arweave-keyfile-pNSLjwnGeETHlcEa3-45kEfZnpHCidpup4APMc7G4jY.json --package"
   ]
  },
  {
   "cell_type": "code",
   "execution_count": null,
   "metadata": {},
   "outputs": [
    {
     "name": "stdout",
     "output_type": "stream",
     "text": [
      "Trasaction ID: yc-OsTnxU_7ZaQ3fBT_h89uba5-FQLf9xrNI6ArqI-Y\n",
      "Status: 202 Pending ⛏\n"
     ]
    }
   ],
   "source": [
    "arweave status yc-OsTnxU_7ZaQ3fBT_h89uba5-FQLf9xrNI6ArqI-Y"
   ]
  },
  {
   "cell_type": "code",
   "execution_count": null,
   "metadata": {},
   "outputs": [
    {
     "name": "stdout",
     "output_type": "stream",
     "text": [
      "Trasaction ID: yc-OsTnxU_7ZaQ3fBT_h89uba5-FQLf9xrNI6ArqI-Y\n",
      "\n",
      "Status: 200 Accepted 🚀\n",
      "\n",
      " - Block: 506772\n",
      " - Block hash: RP_2y6L9mKYWyT3RSBZkdrRkP0jJfrDt3hpQ7pRpwJiWkmuMFJKEXhnU5qX4sLju\n",
      " - Confirmations: 1\n",
      "\n",
      "URL: https://arweave.net/yc-OsTnxU_7ZaQ3fBT_h89uba5-FQLf9xrNI6ArqI-Y\n",
      "Block URL: https://arweave.net/block/hash/RP_2y6L9mKYWyT3RSBZkdrRkP0jJfrDt3hpQ7pRpwJiWkmuMFJKEXhnU5qX4sLju\n",
      "\n",
      "Block explorer URL: https://viewblock.io/arweave/block/506772\n",
      "\n"
     ]
    }
   ],
   "source": [
    "arweave status yc-OsTnxU_7ZaQ3fBT_h89uba5-FQLf9xrNI6ArqI-Y"
   ]
  },
  {
   "cell_type": "markdown",
   "metadata": {},
   "source": [
    "# Weve\n",
    "* http://weve.email/\n",
    "* https://github.com/Anish-Agnihotri/weve"
   ]
  },
  {
   "cell_type": "code",
   "execution_count": null,
   "metadata": {},
   "outputs": [
    {
     "name": "stdout",
     "output_type": "stream",
     "text": [
      "Trasaction ID: CikNeeJibRjrRnDgyxDzH1ji66RoqXR_jkbgfcbI56w\n",
      "\n",
      "Status: 200 Accepted 🚀\n",
      "\n",
      " - Block: 466969\n",
      " - Block hash: 9rLve_h4MWLqpnqw0jGh86yqmVsl2XUb_k7hqHOYxzPwwZIfG5Hyhh0ZH7ZCwHYn\n",
      " - Confirmations: 39806\n",
      "\n",
      "URL: https://arweave.net/CikNeeJibRjrRnDgyxDzH1ji66RoqXR_jkbgfcbI56w\n",
      "Block URL: https://arweave.net/block/hash/9rLve_h4MWLqpnqw0jGh86yqmVsl2XUb_k7hqHOYxzPwwZIfG5Hyhh0ZH7ZCwHYn\n",
      "\n",
      "Block explorer URL: https://viewblock.io/arweave/block/466969\n",
      "\n"
     ]
    }
   ],
   "source": [
    "arweave status CikNeeJibRjrRnDgyxDzH1ji66RoqXR_jkbgfcbI56w"
   ]
  },
  {
   "cell_type": "code",
   "execution_count": null,
   "metadata": {},
   "outputs": [
    {
     "name": "stdout",
     "output_type": "stream",
     "text": [
      "Cloning into 'weve'...\n",
      "remote: Enumerating objects: 423, done.        \n",
      "remote: Counting objects: 100% (423/423), done.        \n",
      "remote: Compressing objects: 100% (244/244), done.        \n",
      "remote: Total 850 (delta 223), reused 351 (delta 168), pack-reused 427        \n",
      "Receiving objects: 100% (850/850), 2.98 MiB | 8.02 MiB/s, done.\n",
      "Resolving deltas: 100% (405/405), done.\n"
     ]
    }
   ],
   "source": [
    "cd ~ && git clone https://github.com/Anish-Agnihotri/weve"
   ]
  },
  {
   "cell_type": "code",
   "execution_count": null,
   "metadata": {},
   "outputs": [
    {
     "name": "stdout",
     "output_type": "stream",
     "text": [
      "\u001b[K\u001b[?25h\u001b[37;40mnpm\u001b[0m \u001b[0m\u001b[30;43mWARN\u001b[0m \u001b[0m\u001b[35mdeprecated\u001b[0m core-js@2.6.11: core-js@<3 is no longer maintained and not recommended for usage due to the number of issues. Please, upgrade your dependencies to the actual version of core-js@3.\n",
      "\u001b[K\u001b[?25h\u001b[37;40mnpm\u001b[0m \u001b[0m\u001b[30;43mWARN\u001b[0m \u001b[0m\u001b[35mdeprecated\u001b[0m request-promise-native@1.0.9: request-promise-native has been deprecated because it extends the now deprecated request package, see https://github.com/request/request/issues/3142\n",
      "\u001b[K\u001b[?25h\u001b[37;40mnpm\u001b[0m \u001b[0m\u001b[30;43mWARN\u001b[0m \u001b[0m\u001b[35mdeprecated\u001b[0m request@2.88.2: request has been deprecated, see https://github.com/request/request/issues/3142\n",
      "\u001b[K\u001b[?25h\u001b[37;40mnpm\u001b[0m \u001b[0m\u001b[30;43mWARN\u001b[0m \u001b[0m\u001b[35mdeprecated\u001b[0m fsevents@1.2.13: fsevents 1 will break on node v14+ and could be using insecure binaries. Upgrade to fsevents 2.\n",
      "\u001b[K\u001b[?25h\u001b[37;40mnpm\u001b[0m \u001b[0m\u001b[30;43mWARN\u001b[0m \u001b[0m\u001b[35mdeprecated\u001b[0m @hapi/joi@15.1.1: joi is leaving the @hapi organization and moving back to 'joi' (https://github.com/sideway/joi/issues/2411)\n",
      "\u001b[K\u001b[?25h\u001b[37;40mnpm\u001b[0m \u001b[0m\u001b[30;43mWARN\u001b[0m \u001b[0m\u001b[35mdeprecated\u001b[0m har-validator@5.1.5: this library is no longer supporteds\u001b[0m\u001b[K\n",
      "\u001b[K\u001b[?25h\u001b[37;40mnpm\u001b[0m \u001b[0m\u001b[30;43mWARN\u001b[0m \u001b[0m\u001b[35mdeprecated\u001b[0m @hapi/bourne@1.3.2: This version has been deprecated and is no longer supported or maintained\n",
      "\u001b[K\u001b[?25h\u001b[37;40mnpm\u001b[0m \u001b[0m\u001b[30;43mWARN\u001b[0m \u001b[0m\u001b[35mdeprecated\u001b[0m @hapi/topo@3.1.6: This version has been deprecated and is no longer supported or maintained\n",
      "\u001b[K\u001b[?25h\u001b[37;40mnpm\u001b[0m \u001b[0m\u001b[30;43mWARN\u001b[0m \u001b[0m\u001b[35mdeprecated\u001b[0m @hapi/hoek@8.5.1: This version has been deprecated and is no longer supported or maintained\n",
      "\u001b[K\u001b[?25h\u001b[37;40mnpm\u001b[0m \u001b[0m\u001b[30;43mWARN\u001b[0m \u001b[0m\u001b[35mdeprecated\u001b[0m @hapi/address@2.1.4: This version has been deprecated and is no longer supported or maintained\n",
      "\u001b[K\u001b[?25h\u001b[37;40mnpm\u001b[0m \u001b[0m\u001b[30;43mWARN\u001b[0m \u001b[0m\u001b[35mdeprecated\u001b[0m left-pad@1.3.0: use String.prototype.padStart()m\u001b[Km\u001b[K[0m\u001b[K\n",
      "\u001b[K\u001b[?25h        \u001b[27m\u001b[90m......\u001b[0m] / postinstall:co: \u001b[32minfo\u001b[0m \u001b[35mlifecycle\u001b[0m co@4.6.0~postinstall: co@\u001b[0m\u001b[K\u001b[Krin\u001b[0m\u001b[K\n",
      "> core-js@2.6.11 postinstall /home/jupyter-sheng_wei/weve/node_modules/core-js\n",
      "> node -e \"try{require('./postinstall')}catch(e){}\"\n",
      "\n",
      "\u001b[96mThank you for using core-js (\u001b[94m https://github.com/zloirock/core-js \u001b[96m) for polyfilling JavaScript standard library!\u001b[0m\n",
      "\n",
      "\u001b[96mThe project needs your help! Please consider supporting of core-js on Open Collective or Patreon: \u001b[0m\n",
      "\u001b[96m>\u001b[94m https://opencollective.com/core-js \u001b[0m\n",
      "\u001b[96m>\u001b[94m https://www.patreon.com/zloirock \u001b[0m\n",
      "\n",
      "\u001b[96mAlso, the author of core-js (\u001b[94m https://github.com/zloirock \u001b[96m) is looking for a good job -)\u001b[0m\n",
      "\n",
      "\n",
      "> core-js-pure@3.6.5 postinstall /home/jupyter-sheng_wei/weve/node_modules/core-js-pure\n",
      "> node -e \"try{require('./postinstall')}catch(e){}\"\n",
      "\n",
      "\u001b[K\u001b[?25h        \u001b[27m\u001b[90m......\u001b[0m] / postinstall:cssesc: \u001b[32minfo\u001b[0m \u001b[35mlifecycle\u001b[0m cssesc@2.0.0~postinst\u001b[0m\u001b[K[0m\u001b[K\n",
      "> core-js@3.6.5 postinstall /home/jupyter-sheng_wei/weve/node_modules/react-app-polyfill/node_modules/core-js\n",
      "> node -e \"try{require('./postinstall')}catch(e){}\"\n",
      "\n",
      "\u001b[K\u001b[?25h\u001b[37;40mnpm\u001b[0m \u001b[0m\u001b[34;40mnotice\u001b[0m\u001b[35m\u001b[0m created a lockfile as package-lock.json. You should commit this file.K\n",
      "\u001b[0m\u001b[37;40mnpm\u001b[0m \u001b[0m\u001b[30;43mWARN\u001b[0m \u001b[0m\u001b[35moptional\u001b[0m SKIPPING OPTIONAL DEPENDENCY: fsevents@2.1.2 (node_modules/react-scripts/node_modules/fsevents):\n",
      "\u001b[0m\u001b[37;40mnpm\u001b[0m \u001b[0m\u001b[30;43mWARN\u001b[0m \u001b[0m\u001b[35mnotsup\u001b[0m SKIPPING OPTIONAL DEPENDENCY: Unsupported platform for fsevents@2.1.2: wanted {\"os\":\"darwin\",\"arch\":\"any\"} (current: {\"os\":\"linux\",\"arch\":\"x64\"})\n",
      "\u001b[0m\u001b[37;40mnpm\u001b[0m \u001b[0m\u001b[30;43mWARN\u001b[0m \u001b[0m\u001b[35moptional\u001b[0m SKIPPING OPTIONAL DEPENDENCY: fsevents@^1.2.7 (node_modules/jest-haste-map/node_modules/fsevents):\n",
      "\u001b[0m\u001b[37;40mnpm\u001b[0m \u001b[0m\u001b[30;43mWARN\u001b[0m \u001b[0m\u001b[35mnotsup\u001b[0m SKIPPING OPTIONAL DEPENDENCY: Unsupported platform for fsevents@1.2.13: wanted {\"os\":\"darwin\",\"arch\":\"any\"} (current: {\"os\":\"linux\",\"arch\":\"x64\"})\n",
      "\u001b[0m\u001b[37;40mnpm\u001b[0m \u001b[0m\u001b[30;43mWARN\u001b[0m \u001b[0m\u001b[35mnotsup\u001b[0m Unsupported engine for watchpack-chokidar2@2.0.0: wanted: {\"node\":\"<8.10.0\"} (current: {\"node\":\"10.21.0\",\"npm\":\"6.14.4\"})\n",
      "\u001b[0m\u001b[37;40mnpm\u001b[0m \u001b[0m\u001b[30;43mWARN\u001b[0m \u001b[0m\u001b[35mnotsup\u001b[0m Not compatible with your version of node/npm: watchpack-chokidar2@2.0.0\n",
      "\u001b[0m\u001b[37;40mnpm\u001b[0m \u001b[0m\u001b[30;43mWARN\u001b[0m \u001b[0m\u001b[35moptional\u001b[0m SKIPPING OPTIONAL DEPENDENCY: fsevents@^1.2.7 (node_modules/watchpack-chokidar2/node_modules/chokidar/node_modules/fsevents):\n",
      "\u001b[0m\u001b[37;40mnpm\u001b[0m \u001b[0m\u001b[30;43mWARN\u001b[0m \u001b[0m\u001b[35mnotsup\u001b[0m SKIPPING OPTIONAL DEPENDENCY: Unsupported platform for fsevents@1.2.13: wanted {\"os\":\"darwin\",\"arch\":\"any\"} (current: {\"os\":\"linux\",\"arch\":\"x64\"})\n",
      "\u001b[0m\u001b[37;40mnpm\u001b[0m \u001b[0m\u001b[30;43mWARN\u001b[0m \u001b[0m\u001b[35moptional\u001b[0m SKIPPING OPTIONAL DEPENDENCY: fsevents@^1.2.7 (node_modules/webpack-dev-server/node_modules/chokidar/node_modules/fsevents):\n",
      "\u001b[0m\u001b[37;40mnpm\u001b[0m \u001b[0m\u001b[30;43mWARN\u001b[0m \u001b[0m\u001b[35mnotsup\u001b[0m SKIPPING OPTIONAL DEPENDENCY: Unsupported platform for fsevents@1.2.13: wanted {\"os\":\"darwin\",\"arch\":\"any\"} (current: {\"os\":\"linux\",\"arch\":\"x64\"})\n",
      "\u001b[0m\u001b[37;40mnpm\u001b[0m \u001b[0m\u001b[30;43mWARN\u001b[0m\u001b[35m\u001b[0m react-hamburger-button@0.0.1 requires a peer of react@^15.3.0 but none is installed. You must install peer dependencies yourself.\n",
      "\u001b[0m\u001b[37;40mnpm\u001b[0m \u001b[0m\u001b[30;43mWARN\u001b[0m\u001b[35m\u001b[0m tsutils@3.17.1 requires a peer of typescript@>=2.8.0 || >= 3.2.0-dev || >= 3.3.0-dev || >= 3.4.0-dev || >= 3.5.0-dev || >= 3.6.0-dev || >= 3.6.0-beta || >= 3.7.0-dev || >= 3.7.0-beta but none is installed. You must install peer dependencies yourself.\n",
      "\u001b[0m\n",
      "added 1772 packages from 958 contributors and audited 1776 packages in 55.599s\n",
      "\n",
      "84 packages are looking for funding\n",
      "  run `npm fund` for details\n",
      "\n",
      "found \u001b[91m2\u001b[0m vulnerabilities (1 \u001b[1mlow\u001b[0m, 1 \u001b[91mhigh\u001b[0m)\n",
      "  run `npm audit fix` to fix them, or `npm audit` for details\n",
      "\u001b[K\u001b[?25h7m             \u001b[27m\u001b[90m.....\u001b[0m] - prepare:weve: \u001b[7msill\u001b[0m \u001b[35minstall\u001b[0m printInstalled\u001b[0m\u001b[K"
     ]
    }
   ],
   "source": [
    "cd ~/weve && npm install"
   ]
  },
  {
   "cell_type": "code",
   "execution_count": null,
   "metadata": {},
   "outputs": [
    {
     "name": "stdout",
     "output_type": "stream",
     "text": [
      "\n",
      "> weve@0.1.0 start /home/jupyter-sheng_wei/weve\n",
      "> react-scripts start\n",
      "\n",
      "\u001b[34mℹ\u001b[39m \u001b[90m｢wds｣\u001b[39m: Project is running at http://172.31.27.138/\n",
      "\u001b[34mℹ\u001b[39m \u001b[90m｢wds｣\u001b[39m: webpack output is served from \n",
      "\u001b[34mℹ\u001b[39m \u001b[90m｢wds｣\u001b[39m: Content not from webpack is served from /home/jupyter-sheng_wei/weve/public\n",
      "\u001b[34mℹ\u001b[39m \u001b[90m｢wds｣\u001b[39m: 404s will fallback to /\n",
      "\u001b[2J\u001b[3J\u001b[HStarting the development server...\n",
      "\n",
      "\u001b[2J\u001b[3J\u001b[HCompiled with warnings.\n",
      "\n",
      "./src/utils/pst.js\n",
      "  Line 93:28:   Expected '===' and instead saw '=='  eqeqeq\n",
      "  Line 106:24:  Expected '===' and instead saw '=='  eqeqeq\n",
      "  Line 116:58:  Expected '===' and instead saw '=='  eqeqeq\n",
      "\n",
      "Search for the keywords to learn more about each warning.\n",
      "To ignore, add // eslint-disable-next-line to the line before.\n",
      "\n"
     ]
    }
   ],
   "source": [
    "npm run start"
   ]
  },
  {
   "cell_type": "markdown",
   "metadata": {},
   "source": [
    "https://create-react-app.dev/docs/getting-started/"
   ]
  },
  {
   "cell_type": "code",
   "execution_count": null,
   "metadata": {},
   "outputs": [
    {
     "name": "stdout",
     "output_type": "stream",
     "text": [
      "<!DOCTYPE html>\n",
      "<html lang=\"en\">\n",
      "  <head>\n",
      "    <meta charset=\"utf-8\" />\n",
      "    <meta name=\"viewport\" content=\"width=device-width, initial-scale=1\" />\n",
      "    <link rel=\"apple-touch-icon\" sizes=\"57x57\" href=\"https://tpqwnjdib2t5.arweave.net/n3GzVCBLqmwtGJPZ6bIErkjUkgNuJQOUluImnw-fYow/apple-icon-57x57.png\">\n",
      "    <link rel=\"apple-touch-icon\" sizes=\"60x60\" href=\"https://tpqwnjdib2t5.arweave.net/n3GzVCBLqmwtGJPZ6bIErkjUkgNuJQOUluImnw-fYow/apple-icon-60x60.png\">\n",
      "    <link rel=\"apple-touch-icon\" sizes=\"72x72\" href=\"https://tpqwnjdib2t5.arweave.net/n3GzVCBLqmwtGJPZ6bIErkjUkgNuJQOUluImnw-fYow/apple-icon-72x72.png\">\n",
      "    <link rel=\"apple-touch-icon\" sizes=\"76x76\" href=\"https://tpqwnjdib2t5.arweave.net/n3GzVCBLqmwtGJPZ6bIErkjUkgNuJQOUluImnw-fYow/apple-icon-76x76.png\">\n",
      "    <link rel=\"apple-touch-icon\" sizes=\"114x114\" href=\"https://tpqwnjdib2t5.arweave.net/n3GzVCBLqmwtGJPZ6bIErkjUkgNuJQOUluImnw-fYow/apple-icon-114x114.png\">\n",
      "    <link rel=\"apple-touch-icon\" sizes=\"120x120\" href=\"https://tpqwnjdib2t5.arweave.net/n3GzVCBLqmwtGJPZ6bIErkjUkgNuJQOUluImnw-fYow/apple-icon-120x120.png\">\n",
      "    <link rel=\"apple-touch-icon\" sizes=\"144x144\" href=\"https://tpqwnjdib2t5.arweave.net/n3GzVCBLqmwtGJPZ6bIErkjUkgNuJQOUluImnw-fYow/apple-icon-144x144.png\">\n",
      "    <link rel=\"apple-touch-icon\" sizes=\"152x152\" href=\"https://tpqwnjdib2t5.arweave.net/n3GzVCBLqmwtGJPZ6bIErkjUkgNuJQOUluImnw-fYow/apple-icon-152x152.png\">\n",
      "    <link rel=\"apple-touch-icon\" sizes=\"180x180\" href=\"https://tpqwnjdib2t5.arweave.net/n3GzVCBLqmwtGJPZ6bIErkjUkgNuJQOUluImnw-fYow/apple-icon-180x180.png\">\n",
      "    <link rel=\"icon\" type=\"image/png\" sizes=\"192x192\"  href=\"https://tpqwnjdib2t5.arweave.net/n3GzVCBLqmwtGJPZ6bIErkjUkgNuJQOUluImnw-fYow/android-icon-192x192.png\">\n",
      "    <link rel=\"icon\" type=\"image/png\" sizes=\"32x32\" href=\"https://tpqwnjdib2t5.arweave.net/n3GzVCBLqmwtGJPZ6bIErkjUkgNuJQOUluImnw-fYow/favicon-32x32.png\">\n",
      "    <link rel=\"icon\" type=\"image/png\" sizes=\"96x96\" href=\"https://tpqwnjdib2t5.arweave.net/n3GzVCBLqmwtGJPZ6bIErkjUkgNuJQOUluImnw-fYow/favicon-96x96.png\">\n",
      "    <link rel=\"icon\" type=\"image/png\" sizes=\"16x16\" href=\"https://tpqwnjdib2t5.arweave.net/n3GzVCBLqmwtGJPZ6bIErkjUkgNuJQOUluImnw-fYow/favicon-16x16.png\">\n",
      "    <link rel=\"manifest\" href=\"/manifest.json\">\n",
      "    <meta name=\"msapplication-TileColor\" content=\"#ffffff\">\n",
      "    <meta name=\"msapplication-TileImage\" content=\"https://tpqwnjdib2t5.arweave.net/n3GzVCBLqmwtGJPZ6bIErkjUkgNuJQOUluImnw-fYow/ms-icon-144x144.png\">\n",
      "    <meta name=\"theme-color\" content=\"#ffffff\">\n",
      "    <meta\n",
      "      name=\"Weve\"\n",
      "      content=\"Uncensorable mail client built on Arweave\"\n",
      "    />\n",
      "    <meta name=\"description\" content=\"Weve is the first mail network with an immutable privacy policy. It can never sell your data, read your mail, or be taken down.\">\n",
      "    <title>Weve</title>\n",
      "    <link rel=\"preload\" href=\"https://stackpath.bootstrapcdn.com/font-awesome/4.7.0/css/font-awesome.min.css\" as=\"style\" onload=\"this.onload=null;this.rel='stylesheet'\">\n",
      "    <link href=\"https://fonts.googleapis.com/css2?family=Inter:wght@400;500;600;700&display=swap\" rel=\"stylesheet\">\n",
      "  </head>\n",
      "  <body>\n",
      "    <noscript>You need to enable JavaScript to run this app.</noscript>\n",
      "    <div id=\"root\"></div>\n",
      "  <script src=\"/static/js/bundle.js\"></script><script src=\"/static/js/0.chunk.js\"></script><script src=\"/static/js/main.chunk.js\"></script></body>\n",
      "</html>\n"
     ]
    }
   ],
   "source": [
    "curl http://jhub.name:3000/"
   ]
  },
  {
   "cell_type": "code",
   "execution_count": null,
   "metadata": {},
   "outputs": [
    {
     "name": "stdout",
     "output_type": "stream",
     "text": [
      "\n",
      "> weve@0.1.0 build /home/jupyter-sheng_wei/weve\n",
      "> react-scripts build\n",
      "\n",
      "Creating an optimized production build...\n",
      "Compiled with warnings.\n",
      "\n",
      "./src/utils/pst.js\n",
      "  Line 93:28:   Expected '===' and instead saw '=='  eqeqeq\n",
      "  Line 106:24:  Expected '===' and instead saw '=='  eqeqeq\n",
      "  Line 116:58:  Expected '===' and instead saw '=='  eqeqeq\n",
      "\n",
      "Search for the keywords to learn more about each warning.\n",
      "To ignore, add // eslint-disable-next-line to the line before.\n",
      "\n",
      "File sizes after gzip:\n",
      "\n",
      "  299.06 KB  build/static/js/2.4e749e13.chunk.js\n",
      "  11.68 KB   build/static/js/main.6f137fe2.chunk.js\n",
      "  7.92 KB    build/static/css/main.2fcdafd8.chunk.css\n",
      "  4.71 KB    build/static/css/2.f700bec7.chunk.css\n",
      "  771 B      build/static/js/runtime-main.65404bf4.js\n",
      "\n",
      "The project was built assuming it is hosted at ./.\n",
      "You can control this with the homepage field in your package.json.\n",
      "\n",
      "The build folder is ready to be deployed.\n",
      "\n",
      "Find out more about deployment here:\n",
      "\n",
      "  bit.ly/CRA-deploy\n",
      "\n"
     ]
    }
   ],
   "source": [
    "npm run build"
   ]
  },
  {
   "cell_type": "code",
   "execution_count": null,
   "metadata": {},
   "outputs": [
    {
     "name": "stdout",
     "output_type": "stream",
     "text": [
      "\n",
      "Preparing files from /home/jupyter-sheng_wei/weve/build\n",
      "\n",
      "ID                                          Size         Fee             Type                 Path\n",
      "2hU97RWtYhR-CiPUhBmbYyht4rEHFE4BsJZd_tknB4E 6.71 kB      0.000003463624  image/png            apple-icon-152x152.png\n",
      "ZRZLidWbU9h6D2sNgG0qXsFungCrBhkDbAcdKSskByg 281.00 Bytes 0.000001200031  application/xml      browserconfig.xml\n",
      "H3F28yeZaAGp-gr_1RQSd_uzM_z6YF0Gizs4Au3lTl4 2.07 kB      0.000001831500  image/png            android-icon-36x36.png\n",
      "_PF7D06Rtip7gGLn_2hXj6OTheJblJhuQobJT7gW-Ok 1.12 kB      0.000001498749  image/vnd.microsoft.icon favicon.ico\n",
      "8UK04q2Pdpx-_c-mKcntGxjDi2XWbymH0SuYpC1ElVE 1.16 kB      0.000001510780  application/javascript service-worker.js\n",
      "Z-JWhuBbdG3UwG39HIxEXygQ_kMFKvxRHmwn2Icl7cU 6.34 kB      0.000003335406  image/png            android-icon-144x144.png\n",
      "tQHdDOt3fLc3ruKNMybL0HaR3sOf8CIjym6vmjB0TWs 8.16 kB      0.000003974780  image/png            apple-icon-precomposed.png\n",
      "sXlDrrT9H90zqrqoGLW3uQwhfCv3S21dVGUmf82c5Ak 4.16 kB      0.000002567811  image/png            android-icon-96x96.png\n",
      "h3euKEYv2VpVCH2AofyjZNV5cu_1Wdh6TfEtBlxxHBE 1.23 kB      0.000001535874  image/png            favicon-16x16.png\n",
      "lFMw8f9YAarZ9yhQFAzjg2UDKM8-7LjxVPfU6SbOrhY 5.23 kB      0.000002944218  image/png            apple-icon-120x120.png\n",
      "UJLQd_7MkdzfrY48A2SxZs1w6YlGXQ7PUoZ2Qdgb8Pk 1.51 kB      0.000001636249  application/javascript static/js/runtime-main.65404bf4.js\n",
      "SV1jy8mAeBJwMEuaVEIn2j1hT0k07gn5xuFzZEiKoV4 1.22 kB      0.000001531749  application/json     asset-manifest.json\n",
      "Xu5p77VtZlLQBsZYT8Kg7slshS_vvr8GFJ0RkzovjMA 3.15 kB      0.000002212374  image/png            android-icon-72x72.png\n",
      "Z-JWhuBbdG3UwG39HIxEXygQ_kMFKvxRHmwn2Icl7cU 6.34 kB      0.000003335406  image/png            apple-icon-144x144.png\n",
      "tbv4k0ZUit8WaV4Nd2Q5MlYbT9hYsHyzTz0Qs-uzhQM 8.40 kB      0.000004060718  image/png            apple-icon-180x180.png\n",
      "FPhBjgRTdSsvE3wzcSdnzvBPk5MwXY8GmBtyMEsj1nU 8.08 kB      0.000003945906  application/json     static/js/runtime-main.65404bf4.js.map\n",
      "oI0_-TPFR4A2Wj-IWQICL3ozQMqJIqGEyjHZI7nrvpM 3.32 kB      0.000002272186  image/png            apple-icon-76x76.png\n",
      "vM1z1VW6w8BbTJ4Q9hJNeXijXv1uU5T5ZVAKJ2ic3j8 24.50 kB     0.000009728125  application/json     static/css/main.2fcdafd8.chunk.css.map\n",
      "m9o6m7GWYeLjwqc9HQyNwNzPfG4n0v1J3AeMN88_tH4 1.88 kB      0.000001766530  image/png            favicon-32x32.png\n",
      "S7YM_FnFpf-jPb9j8hQGo7TQvFBtbRfacxhDOgk8PnY 2.48 kB      0.000001975874  image/png            android-icon-48x48.png\n",
      "tQHdDOt3fLc3ruKNMybL0HaR3sOf8CIjym6vmjB0TWs 8.16 kB      0.000003974780  image/png            apple-icon.png\n",
      "QKZJCBpOh7AvhgwxpUFr-MwAPFqoUHOntfCVcmYCbFU 67.00 Bytes  0.000001126467  text/plain           robots.txt\n",
      "aQHCKxDq0ISllZ5QFyRtWxZi1ZqeGYiKbgVVLuZ6dgQ 6.64 kB      0.000003441968  image/png            ms-icon-150x150.png\n",
      "7QrisuFeMK8685EBHTFQuqnzj1snZ7cst0RKo_g6xU0 59.62 kB     0.000022090406  application/javascript static/js/main.6f137fe2.chunk.js\n",
      "r_8cg9wLmRMWubuLA2MGKJMXBouRU6wuZrPwbq-MJ8g 4.67 kB      0.000002745530  text/html            index.html*\n",
      "XGCIuDuVJ8BDIsIM1teL2N7TwuArKblN-hX8k_cURxk 120.69 kB    0.000043586469  application/json     static/js/main.6f137fe2.chunk.js.map\n",
      "UxzA3WDWx0pOJVYzj_xTn1r9Lrh3ZvVW87TMYcJBdyc 3.67 MB      0.001322313810  application/json     static/js/2.4e749e13.chunk.js.map\n",
      "yfhN1BRbwzTLOGi5WkY6FdcHnOo2UaJeUaAjPyEbeAs 3.08 kB      0.000002189343  image/png            ms-icon-70x70.png\n",
      "d8VLs8TtV0b74hmEQVYQvhsEQCcUVdQJyvbeJhgKFG0 759.00 Bytes 0.000001364343  application/javascript precache-manifest.213a76cad144c13509e6a6c035fc037f.js\n",
      "B6i-Uo7o4OPW_xux4rzFfRyZWp8otf4z_-RVzMMEYuQ 2.73 kB      0.000002064906  image/png            apple-icon-60x60.png\n",
      "xHugi5qU25f4HtzK8odL9gCY_XPLeMK_VeDn-7EoZUU 2.25 kB      0.000001895437  text/plain           static/js/2.4e749e13.chunk.js.LICENSE.txt\n",
      "Xu5p77VtZlLQBsZYT8Kg7slshS_vvr8GFJ0RkzovjMA 3.15 kB      0.000002212374  image/png            apple-icon-72x72.png\n",
      "nPdF5jsV4D2MmWmZEdDQb_dW_Jc3wt5d5kwn0xP-Juo 45.83 kB     0.000017234250  application/json     static/css/2.f700bec7.chunk.css.map\n",
      "0K3GECi07DgL4ro2Hr7-m4Kk5xdRjaJV49klWsqO6Gs 4.90 kB      0.000002829405  image/png            apple-icon-114x114.png\n",
      "sXlDrrT9H90zqrqoGLW3uQwhfCv3S21dVGUmf82c5Ak 4.16 kB      0.000002567811  image/png            favicon-96x96.png\n",
      "si4wOKNTr6-_nuPZHq5Tir3a465ofC6GbYkj5PfgtbA 720.00 Bytes 0.000001350937  application/json     manifest.json\n",
      "Z-JWhuBbdG3UwG39HIxEXygQ_kMFKvxRHmwn2Icl7cU 6.34 kB      0.000003335406  image/png            ms-icon-144x144.png\n",
      "LKB0PTZvxAPWhoV_V04ml73_AFWdDxG84jlEiv9WtVQ 46.49 kB     0.000017467656  text/css             static/css/main.2fcdafd8.chunk.css\n",
      "LRzQ2zTX6B-2zJL0a0kads06qIBH7HiySGa9VUKEYGw 1.05 MB      0.000380228757  application/javascript static/js/2.4e749e13.chunk.js\n",
      "CJsIUziHtV4Kyz4YMsiF7X_W-YcHlnT3HE0KTAWqw8c 18.29 kB     0.000007542906  image/png            ms-icon-310x310.png\n",
      "nXVhPSB80YUOK_y0JoflCXjBqTnQ9ksq-_3nou5_TYg 7.60 kB      0.000003777468  image/png            android-icon-192x192.png\n",
      "YnIywIVL7f3CNO-zBzOAkh1bxZ-R2GExqoWgTcuHr6A 26.02 kB     0.000010261968  text/css             static/css/2.f700bec7.chunk.css\n",
      "4z2-NLt_DLdOBiONhqlUzNJR0NsPWFDCZ1w_3LcjKX4 2.59 kB      0.000002013686  image/png            apple-icon-57x57.png\n",
      "\n",
      "h0C-s3GLYwmjSZ42ZN4ocKJW700bSnsXeRfynuiH6sk 3.43 kB      0.000002312061  application/x.arweave-manifest+json\n",
      "\n",
      "Summary\n",
      "\n",
      "Index: index.html\n",
      "Number of files: 43 + 1 manifest\n",
      "Total size: 5.18 MB\n",
      "Total price: 0.001916256034 AR\n",
      "\n",
      "Wallet\n",
      "\n",
      "Address: pNSLjwnGeETHlcEa3-45kEfZnpHCidpup4APMc7G4jY\n",
      "Current balance: 77.128939281325 AR\n",
      "Balance after uploading: 77.127023025291 AR\n",
      "\n",
      "\u001b[1G\u001b[0JCarefully check the above details are correct, then Type CONFIRM to complete this upload \u001b[10GCONFIRM\n",
      "\n",
      "Uploading...\n",
      "\n",
      "████████████████████████████████████████ 44/44 100% | 27s\n",
      "\n",
      "Your files are being deployed! 🚀\n",
      "Once your files are mined into blocks they'll be available on the following URL\n",
      "\n",
      "https://arweave.net/h0C-s3GLYwmjSZ42ZN4ocKJW700bSnsXeRfynuiH6sk\n"
     ]
    }
   ],
   "source": [
    "echo CONFIRM | \\\n",
    "arweave deploy-dir ~/weve/build --key-file ~/arweave-keyfile-pNSLjwnGeETHlcEa3-45kEfZnpHCidpup4APMc7G4jY.json"
   ]
  },
  {
   "cell_type": "code",
   "execution_count": null,
   "metadata": {},
   "outputs": [
    {
     "name": "stdout",
     "output_type": "stream",
     "text": [
      "Trasaction ID: h0C-s3GLYwmjSZ42ZN4ocKJW700bSnsXeRfynuiH6sk\n",
      "Status: 202 Pending ⛏\n"
     ]
    }
   ],
   "source": [
    "arweave status h0C-s3GLYwmjSZ42ZN4ocKJW700bSnsXeRfynuiH6sk"
   ]
  },
  {
   "cell_type": "code",
   "execution_count": null,
   "metadata": {},
   "outputs": [
    {
     "name": "stdout",
     "output_type": "stream",
     "text": [
      "Trasaction ID: h0C-s3GLYwmjSZ42ZN4ocKJW700bSnsXeRfynuiH6sk\n",
      "\n",
      "Status: 200 Accepted 🚀\n",
      "\n",
      " - Block: 506799\n",
      " - Block hash: Ob15gTAuhh732pdugHXvn2MfFN0mT3A4XGgOfe2bnwxh8q9ZciZ6oq4ZJzGJUF6k\n",
      " - Confirmations: 1\n",
      "\n",
      "URL: https://arweave.net/h0C-s3GLYwmjSZ42ZN4ocKJW700bSnsXeRfynuiH6sk\n",
      "Block URL: https://arweave.net/block/hash/Ob15gTAuhh732pdugHXvn2MfFN0mT3A4XGgOfe2bnwxh8q9ZciZ6oq4ZJzGJUF6k\n",
      "\n",
      "Block explorer URL: https://viewblock.io/arweave/block/506799\n",
      "\n"
     ]
    }
   ],
   "source": [
    "arweave status h0C-s3GLYwmjSZ42ZN4ocKJW700bSnsXeRfynuiH6sk"
   ]
  },
  {
   "cell_type": "markdown",
   "metadata": {},
   "source": [
    "https://viewblock.io/arweave/tx/h0C-s3GLYwmjSZ42ZN4ocKJW700bSnsXeRfynuiH6sk"
   ]
  },
  {
   "cell_type": "markdown",
   "metadata": {},
   "source": [
    "* https://gitcoin.co/issue/ArweaveTeam/Bounties/26/4294\n",
    "* https://github.com/aliceasuna94/AEClient"
   ]
  }
 ],
 "metadata": {
  "kernelspec": {
   "display_name": "Bash",
   "language": "bash",
   "name": "bash"
  }
 },
 "nbformat": 4,
 "nbformat_minor": 4
}
