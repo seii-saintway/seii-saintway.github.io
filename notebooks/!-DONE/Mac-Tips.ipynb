{
 "cells": [
  {
   "cell_type": "markdown",
   "metadata": {},
   "source": [
    "#### macOS Launching Settings"
   ]
  },
  {
   "cell_type": "markdown",
   "metadata": {},
   "source": [
    "`cat /Library/LaunchAgents/net.eaacloop.eaaclient.plist`\n",
    "```\n",
    "    <key>RunAtLoad</key>\n",
    "    <true/>\n",
    "        <key>KeepAlive</key>\n",
    "        <false/>\n",
    "```"
   ]
  },
  {
   "cell_type": "markdown",
   "metadata": {},
   "source": [
    "`cat /Library/LaunchAgents/net.eaacloop.uninstall.plist`\n",
    "```\n",
    "    <key>RunAtLoad</key>\n",
    "    <true/>\n",
    "        <key>KeepAlive</key>\n",
    "        <true/>\n",
    "```"
   ]
  },
  {
   "cell_type": "markdown",
   "metadata": {},
   "source": [
    "`cat /Library/LaunchDaemons/net.eaacloop.wapptunneld.plist`\n",
    "```\n",
    "    <key>RunAtLoad</key>\n",
    "    <true/>\n",
    "        <key>KeepAlive</key>\n",
    "        <true/>\n",
    "```"
   ]
  },
  {
   "cell_type": "markdown",
   "metadata": {},
   "source": [
    "#### Upgrading macOS: Fix Invalid Active Developer Path\n",
    "`xcrun: error: invalid active developer path (/Library/Developer/CommandLineTools), missing xcrun at: /Library/Developer/CommandLineTools/usr/bin/xcrun`"
   ]
  },
  {
   "cell_type": "markdown",
   "metadata": {},
   "source": [
    "You can select the version you want with:\n",
    "```bash\n",
    "xcode-select --install\n",
    "```"
   ]
  },
  {
   "cell_type": "markdown",
   "metadata": {},
   "source": [
    "Or if you want to run command line tools without Xcode:\n",
    "```bash\n",
    "xcode-select --switch /Applications/Xcode.app\n",
    "```"
   ]
  }
 ],
 "metadata": {
  "kernelspec": {
   "display_name": "Bash",
   "language": "bash",
   "name": "bash"
  }
 },
 "nbformat": 4,
 "nbformat_minor": 4
}
