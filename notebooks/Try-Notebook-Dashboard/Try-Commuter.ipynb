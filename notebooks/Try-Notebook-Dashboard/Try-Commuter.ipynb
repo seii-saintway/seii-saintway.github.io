{
 "cells": [
  {
   "cell_type": "markdown",
   "metadata": {},
   "source": [
    "https://github.com/nteract/commuter"
   ]
  },
  {
   "cell_type": "code",
   "execution_count": null,
   "metadata": {},
   "outputs": [],
   "source": [
    "!sudo -E npm install @nteract/commuter -g"
   ]
  },
  {
   "cell_type": "code",
   "execution_count": null,
   "metadata": {},
   "outputs": [],
   "source": [
    "!sudo -E npm install --build-from-source canvas@2.6.0 -g --unsafe-perm=true --allow-root --verbose"
   ]
  },
  {
   "cell_type": "markdown",
   "metadata": {},
   "source": [
    "# Turn to `yarn`"
   ]
  },
  {
   "cell_type": "code",
   "execution_count": null,
   "metadata": {},
   "outputs": [],
   "source": [
    "%%bash\n",
    "curl -sS https://dl.yarnpkg.com/debian/pubkey.gpg | sudo apt-key add -\n",
    "echo \"deb https://dl.yarnpkg.com/debian/ stable main\" | sudo tee /etc/apt/sources.list.d/yarn.list\n",
    "\n",
    "sudo apt-get update && sudo apt-get install --no-install-recommends yarn"
   ]
  },
  {
   "cell_type": "code",
   "execution_count": null,
   "metadata": {},
   "outputs": [],
   "source": [
    "!sudo -E yarn global add @nteract/commuter"
   ]
  },
  {
   "cell_type": "markdown",
   "metadata": {},
   "source": [
    "# Check Install Result"
   ]
  },
  {
   "cell_type": "code",
   "execution_count": null,
   "metadata": {},
   "outputs": [],
   "source": [
    "!cat /usr/local/share/.config/yarn/global/node_modules/@nteract/commuter/package.json"
   ]
  },
  {
   "cell_type": "markdown",
   "metadata": {},
   "source": [
    "## Concerning `commuter`"
   ]
  },
  {
   "cell_type": "code",
   "execution_count": null,
   "metadata": {},
   "outputs": [
    {
     "name": "stdout",
     "output_type": "stream",
     "text": [
      "{\n",
      "  \"name\": \"@nteract/\u001b[01;31m\u001b[Kcommuter\u001b[m\u001b[K\",\n",
      "  \"version\": \"5.9.0\",\n",
      "\u001b[36m\u001b[K--\u001b[m\u001b[K\n",
      "  \"bin\": {\n",
      "    \"\u001b[01;31m\u001b[Kcommuter\u001b[m\u001b[K\": \"bin.js\"\n",
      "  },\n",
      "\u001b[36m\u001b[K--\u001b[m\u001b[K\n",
      "  },\n",
      "  \"homepage\": \"https://github.com/nteract/nteract/tree/master/applications/\u001b[01;31m\u001b[Kcommuter\u001b[m\u001b[K#readme\",\n",
      "  \"publishConfig\": {\n"
     ]
    }
   ],
   "source": [
    "!cat /usr/local/share/.config/yarn/global/node_modules/@nteract/commuter/package.json | grep -1 --color commuter"
   ]
  },
  {
   "cell_type": "markdown",
   "metadata": {},
   "source": [
    "## Concerning `bin.js`"
   ]
  },
  {
   "cell_type": "code",
   "execution_count": null,
   "metadata": {},
   "outputs": [
    {
     "name": "stdout",
     "output_type": "stream",
     "text": [
      "#!/usr/bin/env node\n",
      "\n",
      "process.env.NODE_ENV = \"production\";\n",
      "\n",
      "require(\"./lib/index.js\");\n"
     ]
    }
   ],
   "source": [
    "!cat /usr/local/share/.config/yarn/global/node_modules/@nteract/commuter/bin.js"
   ]
  },
  {
   "cell_type": "markdown",
   "metadata": {},
   "source": [
    "## Concerning `backend`"
   ]
  },
  {
   "cell_type": "code",
   "execution_count": null,
   "metadata": {},
   "outputs": [
    {
     "name": "stdout",
     "output_type": "stream",
     "text": [
      "    \"build:frontend-for-production\": \"next build\",\n",
      "    \"build:server\": \"babel \u001b[01;31m\u001b[Kbackend\u001b[m\u001b[K -d lib\",\n",
      "    \"build:all\": \"npm run build:server && npm run build:frontend-for-production\",\n"
     ]
    }
   ],
   "source": [
    "!cat /usr/local/share/.config/yarn/global/node_modules/@nteract/commuter/package.json | grep -1 --color backend"
   ]
  },
  {
   "cell_type": "code",
   "execution_count": null,
   "metadata": {},
   "outputs": [
    {
     "name": "stdout",
     "output_type": "stream",
     "text": [
      "  \"scripts\": {\n",
      "    \"predev\": \"npm run build:server\",\n",
      "    \"dev\": \"NODE_ENV=development node lib/index.js\",\n",
      "    \"prestart\": \"npm run build:all\",\n",
      "    \"start\": \"NODE_ENV=production node lib/index.js\",\n",
      "    \"build\": \"npm run build:all\",\n",
      "    \"build:frontend-for-production\": \"next build\",\n",
      "    \"build:server\": \"babel backend -d lib\",\n",
      "    \"build:all\": \"npm run build:server && npm run build:frontend-for-production\",\n",
      "    \"prepublishOnly\": \"npm run build:all\",\n",
      "    \"test\": \"jest\"\n",
      "  },\n"
     ]
    }
   ],
   "source": [
    "!sed -n '6,17p' /usr/local/share/.config/yarn/global/node_modules/@nteract/commuter/package.json"
   ]
  },
  {
   "cell_type": "markdown",
   "metadata": {},
   "source": [
    "## Concerning `index.js`"
   ]
  },
  {
   "cell_type": "code",
   "execution_count": null,
   "metadata": {},
   "outputs": [
    {
     "name": "stdout",
     "output_type": "stream",
     "text": [
      "\"use strict\";\n",
      "\n",
      "var log = require(\"log\");\n",
      "\n",
      "var createServer = require(\"./server\");\n",
      "\n",
      "createServer().then(function (server) {\n",
      "  var port = server.address().port;\n",
      "  console.log(log);\n",
      "  log.info(\"Commuter server listening on port \" + port);\n",
      "})[\"catch\"](function (e) {\n",
      "  console.error(e);\n",
      "  console.error(e.stack);\n",
      "  process.exit(-10);\n",
      "});"
     ]
    }
   ],
   "source": [
    "!cat /usr/local/share/.config/yarn/global/node_modules/@nteract/commuter/lib/index.js"
   ]
  },
  {
   "cell_type": "markdown",
   "metadata": {},
   "source": [
    "## Concerning `port`"
   ]
  },
  {
   "cell_type": "code",
   "execution_count": null,
   "metadata": {},
   "outputs": [
    {
     "name": "stdout",
     "output_type": "stream",
     "text": [
      "      // Server side, communicate with our local API\n",
      "      const \u001b[01;31m\u001b[Kport\u001b[m\u001b[K = process.env.COMMUTER_PORT || 4000;\n",
      "      BASE_PATH = `http://127.0.0.1:${\u001b[01;31m\u001b[Kport\u001b[m\u001b[K}/`;\n",
      "    } else {\n"
     ]
    }
   ],
   "source": [
    "!cat /usr/local/share/.config/yarn/global/node_modules/@nteract/commuter/pages/discover.js | grep -w1 --color port"
   ]
  },
  {
   "cell_type": "markdown",
   "metadata": {},
   "source": [
    "# Run Commuter"
   ]
  },
  {
   "cell_type": "code",
   "execution_count": null,
   "metadata": {},
   "outputs": [],
   "source": [
    "!commuter"
   ]
  }
 ],
 "metadata": {
  "kernelspec": {
   "display_name": "Python 3",
   "language": "python",
   "name": "python3"
  }
 },
 "nbformat": 4,
 "nbformat_minor": 4
}
