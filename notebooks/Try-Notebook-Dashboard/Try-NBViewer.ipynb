{
 "cells": [
  {
   "cell_type": "markdown",
   "metadata": {},
   "source": [
    "# Try NBViewer\n",
    "https://github.com/jupyter/nbviewer"
   ]
  },
  {
   "cell_type": "code",
   "execution_count": null,
   "metadata": {},
   "outputs": [],
   "source": [
    "!sudo chown jupyter-sheng_wei:docker /var/run/docker.sock\n",
    "!docker run -p 8080:8080 jupyter/nbviewer"
   ]
  },
  {
   "cell_type": "code",
   "execution_count": null,
   "metadata": {},
   "outputs": [],
   "source": [
    "!sudo -HE pip install nbviewer\n",
    "!sudo -E python -m nbviewer --help"
   ]
  },
  {
   "cell_type": "code",
   "execution_count": null,
   "metadata": {},
   "outputs": [
    {
     "name": "stdout",
     "output_type": "stream",
     "text": [
      "JUPYTERHUB_SERVICE_PREFIX=/user/sheng_wei/\n"
     ]
    }
   ],
   "source": [
    "!echo JUPYTERHUB_SERVICE_PREFIX=$JUPYTERHUB_SERVICE_PREFIX"
   ]
  },
  {
   "cell_type": "code",
   "execution_count": null,
   "metadata": {},
   "outputs": [
    {
     "name": "stdout",
     "output_type": "stream",
     "text": [
      "JUPYTERHUB_SERVICE_PREFIX=\n"
     ]
    }
   ],
   "source": [
    "!sudo bash -c 'echo JUPYTERHUB_SERVICE_PREFIX=$JUPYTERHUB_SERVICE_PREFIX'"
   ]
  },
  {
   "cell_type": "code",
   "execution_count": null,
   "metadata": {},
   "outputs": [
    {
     "name": "stdout",
     "output_type": "stream",
     "text": [
      "drwxr-x--- 24 jupyter-sheng_wei jupyterhub-users 4.0K Oct 20 21:06 /home/jupyter-sheng_wei\n",
      "drwxr-xr-x 13 jupyter-sheng_wei jupyterhub-users 4.0K Oct 20 18:58 /home/jupyter-sheng_wei/hexo\n",
      "\n",
      "\u001b[32m[I 191020 22:23:36 app:124]\u001b[m Not indexing notebooks\n",
      "\u001b[32m[I 191020 22:23:36 app:128]\u001b[m Not using cache\n",
      "fatal: not a git repository (or any of the parent directories): .git\n",
      "\u001b[31m[E 191020 22:23:36 app:166]\u001b[m Failed to get git info: Command '['git', 'log', '-1', '--format=%H\\n%s\\n%cD']' returned non-zero exit status 128.\n",
      "\u001b[34m[D 191020 22:23:36 selector_events:65]\u001b[m Using selector: EpollSelector\n",
      "\u001b[33m[W 191020 22:23:36 app:250]\u001b[m Serving local notebooks in /home/jupyter-sheng_wei/hexo, this can be a security risk\n",
      "\u001b[32m[I 191020 22:23:36 app:330]\u001b[m Listening on 0.0.0.0:5000, path /\n",
      "\u001b[31m[E 191020 22:23:40 web:1670]\u001b[m Uncaught exception GET /faq (110.3.247.172)\n",
      "    HTTPServerRequest(protocol='http', host='jhub.name:5000', method='GET', uri='/faq', version='HTTP/1.1', remote_ip='110.3.247.172')\n",
      "    Traceback (most recent call last):\n",
      "      File \"/opt/tljh/user/lib/python3.6/site-packages/tornado/web.py\", line 1590, in _execute\n",
      "        result = method(*self.path_args, **self.path_kwargs)\n",
      "      File \"/opt/tljh/user/lib/python3.6/site-packages/nbviewer/handlers.py\", line 44, in get\n",
      "        self.finish(self.render_template('faq.md'))\n",
      "      File \"/opt/tljh/user/lib/python3.6/site-packages/nbviewer/providers/base.py\", line 249, in render_template\n",
      "        return template.render(**ns)\n",
      "      File \"/opt/tljh/user/lib/python3.6/site-packages/jinja2/asyncsupport.py\", line 76, in render\n",
      "        return original_render(self, *args, **kwargs)\n",
      "      File \"/opt/tljh/user/lib/python3.6/site-packages/jinja2/environment.py\", line 1008, in render\n",
      "        return self.environment.handle_exception(exc_info, True)\n",
      "      File \"/opt/tljh/user/lib/python3.6/site-packages/jinja2/environment.py\", line 780, in handle_exception\n",
      "        reraise(exc_type, exc_value, tb)\n",
      "      File \"/opt/tljh/user/lib/python3.6/site-packages/jinja2/_compat.py\", line 37, in reraise\n",
      "        raise value.with_traceback(tb)\n",
      "      File \"/opt/tljh/user/lib/python3.6/site-packages/nbviewer/templates/faq.md\", line 1, in top-level template code\n",
      "        {% extends \"layout.html\" %}\n",
      "      File \"/opt/tljh/user/lib/python3.6/site-packages/nbviewer/templates/layout.html\", line 118, in top-level template code\n",
      "        {% block container %}<div class=\"container container-main\">\n",
      "      File \"/opt/tljh/user/lib/python3.6/site-packages/nbviewer/templates/layout.html\", line 119, in block \"container\"\n",
      "        {% block body %}{% endblock %}\n",
      "      File \"/opt/tljh/user/lib/python3.6/site-packages/nbviewer/templates/faq.md\", line 5, in block \"body\"\n",
      "        {% filter markdown(extensions=['headerid(level=3)','toc'], extension_configs= {'toc' : [('anchorlink', True)]}) %}\n",
      "      File \"/opt/tljh/user/lib/python3.6/site-packages/markdown/core.py\", line 390, in markdown\n",
      "        md = Markdown(**kwargs)\n",
      "      File \"/opt/tljh/user/lib/python3.6/site-packages/markdown/core.py\", line 100, in __init__\n",
      "        configs=kwargs.get('extension_configs', {}))\n",
      "      File \"/opt/tljh/user/lib/python3.6/site-packages/markdown/core.py\", line 126, in registerExtensions\n",
      "        ext = self.build_extension(ext, configs.get(ext, {}))\n",
      "      File \"/opt/tljh/user/lib/python3.6/site-packages/markdown/core.py\", line 166, in build_extension\n",
      "        module = importlib.import_module(ext_name)\n",
      "      File \"/opt/tljh/user/lib/python3.6/importlib/__init__.py\", line 126, in import_module\n",
      "        return _bootstrap._gcd_import(name[level:], package, level)\n",
      "      File \"<frozen importlib._bootstrap>\", line 994, in _gcd_import\n",
      "      File \"<frozen importlib._bootstrap>\", line 971, in _find_and_load\n",
      "      File \"<frozen importlib._bootstrap>\", line 953, in _find_and_load_unlocked\n",
      "    ModuleNotFoundError: No module named 'headerid(level=3)'\n",
      "\u001b[31m[E 191020 22:23:40 log:52]\u001b[m {\n",
      "      \"Host\": \"jhub.name:5000\",\n",
      "      \"Connection\": \"keep-alive\",\n",
      "      \"Pragma\": \"no-cache\",\n",
      "      \"Cache-Control\": \"no-cache\",\n",
      "      \"Upgrade-Insecure-Requests\": \"1\",\n",
      "      \"User-Agent\": \"Mozilla/5.0 (Macintosh; Intel Mac OS X 10_14_4) AppleWebKit/537.36 (KHTML, like Gecko) Chrome/77.0.3865.120 Safari/537.36\",\n",
      "      \"Accept\": \"text/html,application/xhtml+xml,application/xml;q=0.9,image/webp,image/apng,*/*;q=0.8,application/signed-exchange;v=b3\",\n",
      "      \"Referer\": \"http://jhub.name:5000/localfile/source/notebooks/Try-Plotly-Dash.ipynb\",\n",
      "      \"Accept-Encoding\": \"gzip, deflate\",\n",
      "      \"Accept-Language\": \"ja,en-US;q=0.9,en;q=0.8,zh-CN;q=0.7,zh;q=0.6\",\n",
      "      \"Cookie\": \"_xsrf=2|a81713c9|4a10b65ad1b4264e0b304a10743350a3|1570958079; G_ENABLED_IDPS=google; mjx.latest=2.7.6\"\n",
      "    }\n",
      "\u001b[31m[E 191020 22:23:40 log:53]\u001b[m 500 GET /faq (110.3.247.172) 143.11ms referer=\"http://jhub.name:5000/localfile/source/notebooks/Try-Plotly-Dash.ipynb\" user-agent=\"Mozilla/5.0 (Macintosh; Intel Mac OS X 10_14_4) AppleWebKit/537.36 (KHTML, like Gecko) Chrome/77.0.3865.120 Safari/537.36\"\n",
      "\u001b[34m[D 191020 22:23:40 log:53]\u001b[m 200 GET /static/build/styles.css?v=20d08094b44c75ee15fd5045973d36e5 (110.3.247.172) 7.74ms\n",
      "\u001b[34m[D 191020 22:23:40 log:53]\u001b[m 200 GET /static/components/requirejs/require.js?v=6da8be361b9ee26c5e721e76c6d4afce (110.3.247.172) 4.48ms\n",
      "\u001b[34m[D 191020 22:23:40 log:53]\u001b[m 200 GET /static/components/moment/min/moment.min.js?v=89f87298ad94aa1e6b92f42eb66da043 (110.3.247.172) 2.21ms\n",
      "\u001b[34m[D 191020 22:23:40 log:53]\u001b[m 200 GET /static/components/bootstrap/js/bootstrap.min.js?v=5869c96cc8f19086aee625d670d741f9 (110.3.247.172) 2.07ms\n",
      "\u001b[34m[D 191020 22:23:40 log:53]\u001b[m 200 GET /static/img/nav_logo.svg?v=479cefe8d932fb14a67b93911b97d70f (110.3.247.172) 0.97ms\n",
      "\u001b[34m[D 191020 22:23:40 log:53]\u001b[m 200 GET /static/components/jquery/dist/jquery.min.js?v=e071abda8fe61194711cfc2ab99fe104 (110.3.247.172) 13.51ms\n",
      "\u001b[34m[D 191020 22:23:40 log:53]\u001b[m 200 GET /static/components/headroom.js/dist/headroom.min.js?v=b0a311ea668f8e768ea375f4a7abb81c (110.3.247.172) 1.11ms\n",
      "\u001b[34m[D 191020 22:23:41 log:53]\u001b[m 200 GET /static/components/headroom.js/dist/jQuery.headroom.min.js?v=f3a1bae118315d0c234afc74dc6aab71 (110.3.247.172) 1.01ms\n",
      "\u001b[34m[D 191020 22:23:52 log:53]\u001b[m 200 GET /static/ico/ipynb_icon_16x16.png (110.3.247.172) 0.77ms\n",
      "^C\n",
      "Traceback (most recent call last):\n",
      "  File \"/opt/tljh/user/lib/python3.6/runpy.py\", line 193, in _run_module_as_main\n",
      "    \"__main__\", mod_spec)\n",
      "  File \"/opt/tljh/user/lib/python3.6/runpy.py\", line 85, in _run_code\n",
      "    exec(code, run_globals)\n",
      "  File \"/opt/tljh/user/lib/python3.6/site-packages/nbviewer/__main__.py\", line 2, in <module>\n",
      "    main()\n",
      "  File \"/opt/tljh/user/lib/python3.6/site-packages/nbviewer/app.py\", line 332, in main\n",
      "    ioloop.IOLoop.current().start()\n",
      "  File \"/opt/tljh/user/lib/python3.6/site-packages/tornado/platform/asyncio.py\", line 132, in start\n",
      "    self.asyncio_loop.run_forever()\n",
      "  File \"/opt/tljh/user/lib/python3.6/asyncio/base_events.py\", line 427, in run_forever\n",
      "    self._run_once()\n",
      "  File \"/opt/tljh/user/lib/python3.6/asyncio/base_events.py\", line 1404, in _run_once\n",
      "    event_list = self._selector.select(timeout)\n",
      "  File \"/opt/tljh/user/lib/python3.6/selectors.py\", line 445, in select\n",
      "    fd_event_list = self._epoll.poll(timeout, max_ev)\n",
      "KeyboardInterrupt\n"
     ]
    }
   ],
   "source": [
    "!ls -lahd /home/jupyter-sheng_wei\n",
    "!ls -lahd /home/jupyter-sheng_wei/hexo && echo\n",
    "!sudo python -m nbviewer --base-url=/ --localfiles=/home/jupyter-sheng_wei/hexo --no-cache --logging=debug"
   ]
  },
  {
   "cell_type": "markdown",
   "metadata": {},
   "source": [
    "> ↑ Just skip the problem of `ModuleNotFoundError: No module named 'headerid(level=3)'` at `/faq`."
   ]
  },
  {
   "cell_type": "code",
   "execution_count": null,
   "metadata": {},
   "outputs": [],
   "source": [
    "!docker run -p 5000:5000 jupyter/nbviewer python -m nbviewer --base-url=/ --localfiles=/ --logging=debug"
   ]
  },
  {
   "cell_type": "markdown",
   "metadata": {},
   "source": [
    "# Try to Understand the Mechanism of NBViewer.\n",
    "https://github.com/jupyter/nbviewer/blob/master/nbviewer/app.py"
   ]
  },
  {
   "cell_type": "markdown",
   "metadata": {},
   "source": [
    "# Try this Sharing Way\n",
    "https://github.com/gclouduniverse/gcp-notebook-share-dlvm-extension"
   ]
  }
 ],
 "metadata": {
  "kernelspec": {
   "display_name": "Python 3",
   "language": "python",
   "name": "python3"
  }
 },
 "nbformat": 4,
 "nbformat_minor": 4
}
