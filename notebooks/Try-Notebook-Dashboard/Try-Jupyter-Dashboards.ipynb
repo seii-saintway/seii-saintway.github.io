{
 "cells": [
  {
   "cell_type": "markdown",
   "metadata": {},
   "source": [
    "# Jupyter Dashboards\n",
    "https://github.com/jupyter/dashboards"
   ]
  },
  {
   "cell_type": "markdown",
   "metadata": {},
   "source": [
    "I think it is a bit like `appmode`.\n",
    "> https://github.com/oschuett/appmode"
   ]
  },
  {
   "cell_type": "code",
   "execution_count": null,
   "metadata": {},
   "outputs": [],
   "source": [
    "!sudo -E pip install jupyter_dashboards\n",
    "!sudo -E jupyter dashboards quick-setup --sys-prefix"
   ]
  },
  {
   "cell_type": "markdown",
   "metadata": {},
   "source": [
    "## [Jupyter Dashboards Demos](https://jhub.name/hub/user-redirect/git-pull?repo=https%3A%2F%2Fgithub.com%2Fjupyter%2Fdashboards.git&subPath=etc%2Fnotebooks&app=notebook)"
   ]
  },
  {
   "cell_type": "code",
   "execution_count": null,
   "metadata": {},
   "outputs": [],
   "source": [
    "!sudo -HE pip install -r ~/dashboards.git/requirements-demo.txt"
   ]
  },
  {
   "cell_type": "markdown",
   "metadata": {},
   "source": [
    "Notebooks can not be well shown in Grid Layout with my Jupyter Dashboards."
   ]
  },
  {
   "cell_type": "code",
   "execution_count": null,
   "metadata": {},
   "outputs": [],
   "source": [
    "!sudo -E jupyter dashboards quick-remove --sys-prefix"
   ]
  }
 ],
 "metadata": {
  "kernelspec": {
   "display_name": "Python 3",
   "language": "python",
   "name": "python3"
  }
 },
 "nbformat": 4,
 "nbformat_minor": 4
}
