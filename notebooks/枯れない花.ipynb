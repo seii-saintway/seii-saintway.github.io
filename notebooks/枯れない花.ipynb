{
 "cells": [
  {
   "cell_type": "markdown",
   "metadata": {},
   "source": [
    "## 枯れない花"
   ]
  },
  {
   "cell_type": "markdown",
   "metadata": {},
   "source": [
    "```\n",
    "心に 小さな花が 咲いてる\n",
    "こころに ちいさなはなが さいてる\n",
    "心中盛开着一朵小小的花。\n",
    "```"
   ]
  },
  {
   "cell_type": "markdown",
   "metadata": {},
   "source": [
    "```\n",
    "君から もらった 枯れない花が\n",
    "きみから もらった かれないはなが\n",
    "是你给我的永不凋谢的花朵。\n",
    "```"
   ]
  },
  {
   "cell_type": "markdown",
   "metadata": {},
   "source": [
    "```\n",
    "信じることを もう 怖がらないくらい\n",
    "しんじることを もう こわがらないくらい\n",
    "已经不怎么害怕自己所相信的，\n",
    "```"
   ]
  },
  {
   "cell_type": "markdown",
   "metadata": {},
   "source": [
    "```\n",
    "强くなれたから\n",
    "つよくなれたから\n",
    "因为我变得坚强了。\n",
    "```"
   ]
  },
  {
   "cell_type": "markdown",
   "metadata": {},
   "source": [
    "```\n",
    "君に逢えて うれしかった\n",
    "きみにあえて うれしかった\n",
    "能遇见你，我很高兴。\n",
    "```"
   ]
  },
  {
   "cell_type": "markdown",
   "metadata": {},
   "source": [
    "```\n",
    "つないだ手が 夸りだった\n",
    "つないだてが ほこりだった\n",
    "能牵着手，是我的荣幸。\n",
    "```"
   ]
  },
  {
   "cell_type": "markdown",
   "metadata": {},
   "source": [
    "```\n",
    "今は 别々の空 见上げていても\n",
    "いまは べつべつのそら みあげていても\n",
    "尽管我们现在正仰望着不同的天空。\n",
    "```"
   ]
  },
  {
   "cell_type": "markdown",
   "metadata": {},
   "source": [
    "```\n",
    "ほら 歩ける ひとりでも\n",
    "ほら あるける ひとりでも\n",
    "我一个人也能继续走下去。\n",
    "```"
   ]
  },
  {
   "cell_type": "markdown",
   "metadata": {},
   "source": [
    "```\n",
    "悲しい時ほど 笑う私を\n",
    "かなしいときほど わらうわたしを\n",
    "在悲伤的时候却仍然绽放笑容的我\n",
    "```"
   ]
  },
  {
   "cell_type": "markdown",
   "metadata": {},
   "source": [
    "```\n",
    "何にも 言わないで 抱いてくれたね\n",
    "なんにも いわないで だいてくれたね\n",
    "一言不发地被你抱住了。\n",
    "```"
   ]
  },
  {
   "cell_type": "markdown",
   "metadata": {},
   "source": [
    "```\n",
    "冻りついたドアが そっと开くような\n",
    "こおりついたドアが そっとひらくような\n",
    "仿佛冰冻的门扉渐渐地融化。\n",
    "```"
   ]
  },
  {
   "cell_type": "markdown",
   "metadata": {},
   "source": [
    "```\n",
    "そんな気がしたよ\n",
    "そんなきがしたよ\n",
    "我有这样的感觉。\n",
    "```"
   ]
  },
  {
   "cell_type": "markdown",
   "metadata": {},
   "source": [
    "```\n",
    "君に逢えてうれしかった\n",
    "きみにあえてうれしかった\n",
    "能与你相遇我真的很高兴。\n",
    "```"
   ]
  },
  {
   "cell_type": "markdown",
   "metadata": {},
   "source": [
    "```\n",
    "孤独さえも 分かち合えた\n",
    "こどくさえも わかちあえた\n",
    "连孤独都能一起分享。\n",
    "```"
   ]
  },
  {
   "cell_type": "markdown",
   "metadata": {},
   "source": [
    "```\n",
    "今も この空の下 つながっていると\n",
    "いまも このそらのした つながっていると\n",
    "现在，我们仍在这片天空下紧紧相连。\n",
    "```"
   ]
  },
  {
   "cell_type": "markdown",
   "metadata": {},
   "source": [
    "```\n",
    "そう思える 离れても\n",
    "そうおもえる はなれても\n",
    "是的，我仍这样认为，即便是分离两地。\n",
    "```"
   ]
  },
  {
   "cell_type": "markdown",
   "metadata": {},
   "source": [
    "```\n",
    "「ありがとう。」も 言えなかった\n",
    "「ありがとう。」も いえなかった\n",
    "还没能说出感谢的话语。\n",
    "```"
   ]
  },
  {
   "cell_type": "markdown",
   "metadata": {},
   "source": [
    "```\n",
    "约束さえ できなかった\n",
    "やくそくさえ できなかった\n",
    "甚至连约定也没有做出。\n",
    "```"
   ]
  },
  {
   "cell_type": "markdown",
   "metadata": {},
   "source": [
    "```\n",
    "だけど あの日と 同じ风がふいたら\n",
    "だけど あのひと おなじかぜがふいたら\n",
    "但我仍相信，当被和那天一样的风吹拂的时候，\n",
    "```"
   ]
  },
  {
   "cell_type": "markdown",
   "metadata": {},
   "source": [
    "```\n",
    "また 必ず 逢えるよね\n",
    "また かならず あえるよね\n",
    "我们一定可以再度相见。\n",
    "```"
   ]
  },
  {
   "cell_type": "markdown",
   "metadata": {},
   "source": [
    "```\n",
    "君に 逢えて うれしかった\n",
    "きみに あえて うれしかった\n",
    "能与你相遇我真的很高兴。\n",
    "```"
   ]
  },
  {
   "cell_type": "markdown",
   "metadata": {},
   "source": [
    "```\n",
    "つないだ手が 夸りだった\n",
    "つないだてが ほこりだった\n",
    "能与你牵手是我的骄傲。\n",
    "```"
   ]
  },
  {
   "cell_type": "markdown",
   "metadata": {},
   "source": [
    "```\n",
    "今は 别々の空 见上げていても\n",
    "いまは べつべつのそら みあげていても\n",
    "尽管我们现在正仰望着不同的天空。\n",
    "```"
   ]
  },
  {
   "cell_type": "markdown",
   "metadata": {},
   "source": [
    "```\n",
    "ほら 歩ける ひとりでも\n",
    "ほら あるける ひとりでも\n",
    "我一个人也能继续走下去。\n",
    "```"
   ]
  },
  {
   "cell_type": "markdown",
   "metadata": {},
   "source": [
    "```\n",
    "A small flower is blooming inside my heart,\n",
    "The undying flower you gave to me,\n",
    "I was able to believe strongly enough in myself,\n",
    "So I’m not afraid anymore…\n",
    "\n",
    "※ I was happy meeting you,\n",
    "And proud of our holding hands,\n",
    "Even though we look up to different skies now,\n",
    "See? I can walk on my own now…\n",
    "\n",
    "I laugh more during sad times,\n",
    "To hide the pain I feel inside,\n",
    "But you hugged me gently without saying a thing\n",
    "I felt as if it were like opening a door frozen in ice…\n",
    "\n",
    "I was happy meeting you,\n",
    "Even though I could only share my loneliness,\n",
    "Even though we’re separated now,\n",
    "I still feel that we’re somehow connected under this sky…\n",
    "\n",
    "I didn’t say thank you…\n",
    "I couldn’t even promise…\n",
    "However, like on that day, if the wind blows\n",
    "Then I know we will surely meet again…\n",
    "\n",
    "(Repeat ※)\n",
    "```"
   ]
  }
 ],
 "metadata": {
  "kernelspec": {
   "display_name": "Python 3",
   "language": "python",
   "name": "python3"
  },
  "language_info": {
   "codemirror_mode": {
    "name": "ipython",
    "version": 3
   },
   "file_extension": ".py",
   "mimetype": "text/x-python",
   "name": "python",
   "nbconvert_exporter": "python",
   "pygments_lexer": "ipython3",
   "version": "3.9.9"
  }
 },
 "nbformat": 4,
 "nbformat_minor": 4
}
