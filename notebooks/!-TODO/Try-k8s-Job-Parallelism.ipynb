{
 "cells": [
  {
   "cell_type": "markdown",
   "metadata": {},
   "source": [
    "* https://kubernetes.io/docs/tasks/job/parallel-processing-expansion/\n",
    "* https://kubernetes.io/docs/tasks/job/coarse-parallel-processing-work-queue/\n",
    "* https://kubernetes.io/docs/tasks/job/fine-parallel-processing-work-queue/"
   ]
  },
  {
   "cell_type": "markdown",
   "metadata": {},
   "source": [
    "# Coarse Parallel Processing Using a Work Queue"
   ]
  },
  {
   "cell_type": "markdown",
   "metadata": {},
   "source": [
    "# Fine Parallel Processing Using a Work Queue"
   ]
  },
  {
   "cell_type": "markdown",
   "metadata": {},
   "source": [
    "# kubectl references\n",
    "https://www.cnblogs.com/hongdada/p/11327979.html"
   ]
  }
 ],
 "metadata": {
  "kernelspec": {
   "display_name": "Python 3",
   "language": "python",
   "name": "python3"
  }
 },
 "nbformat": 4,
 "nbformat_minor": 4
}
