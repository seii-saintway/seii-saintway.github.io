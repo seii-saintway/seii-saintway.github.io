{
 "cells": [
  {
   "cell_type": "markdown",
   "metadata": {},
   "source": [
    "* https://cloud.google.com/storage/docs/gcs-fuse\n",
    "* https://gcsfs.readthedocs.io/en/latest/fuse.html\n",
    "* https://github.com/libfuse/libfuse\n",
    "* https://github.com/GoogleCloudPlatform/gcsfuse\n",
    "* https://github.com/maciekrb/gcs-fuse-sample\n",
    "* https://stackoverflow.com/questions/48222871/i-am-trying-to-use-gcs-bucket-as-the-volume-in-gke-pod\n",
    "* https://qiita.com/h-sakano/items/f82713347eb192586489"
   ]
  },
  {
   "cell_type": "markdown",
   "metadata": {},
   "source": [
    "https://github.com/src-d/jgscm"
   ]
  }
 ],
 "metadata": {
  "kernelspec": {
   "display_name": "Python 3",
   "language": "python",
   "name": "python3"
  }
 },
 "nbformat": 4,
 "nbformat_minor": 4
}
