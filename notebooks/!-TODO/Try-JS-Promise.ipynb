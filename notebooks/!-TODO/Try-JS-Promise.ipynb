{
 "cells": [
  {
   "cell_type": "markdown",
   "metadata": {},
   "source": [
    "* http://bluebirdjs.com/docs/getting-started.html\n",
    "* http://bluebirdjs.com/docs/why-promises.html\n",
    "* http://bluebirdjs.com/docs/why-bluebird.html\n",
    "* https://www.liaoxuefeng.com/wiki/1022910821149312/1023024413276544\n",
    "* https://www.jianshu.com/p/82237a7ca6e5\n",
    "* https://www.jb51.net/article/134310.htm"
   ]
  },
  {
   "cell_type": "markdown",
   "metadata": {},
   "source": [
    "https://docs.python.org/3/library/threading.html#event-objects"
   ]
  }
 ],
 "metadata": {
  "kernelspec": {
   "display_name": "Python 3",
   "language": "python",
   "name": "python3"
  }
 },
 "nbformat": 4,
 "nbformat_minor": 4
}
