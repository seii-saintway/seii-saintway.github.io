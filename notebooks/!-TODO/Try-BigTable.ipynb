{
 "cells": [
  {
   "cell_type": "markdown",
   "metadata": {},
   "source": [
    "* https://cloud.google.com/bigtable/docs/overview\n",
    "* https://cloud.google.com/bigtable/docs/quickstarts\n",
    "\n",
    "https://static.googleusercontent.com/media/research.google.com///archive/bigtable-osdi06.pdf"
   ]
  },
  {
   "cell_type": "markdown",
   "metadata": {},
   "source": [
    "* HBase\n",
    "* HDFS"
   ]
  }
 ],
 "metadata": {
  "kernelspec": {
   "display_name": "Python 3",
   "language": "python",
   "name": "python3"
  }
 },
 "nbformat": 4,
 "nbformat_minor": 4
}
