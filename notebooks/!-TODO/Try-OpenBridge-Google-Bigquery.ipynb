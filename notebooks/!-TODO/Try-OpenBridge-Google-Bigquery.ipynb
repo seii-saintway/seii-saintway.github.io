{
 "cells": [
  {
   "cell_type": "markdown",
   "metadata": {},
   "source": [
    "https://github.com/openbridge/ob_google-bigquery\n",
    "\n",
    "* Delivering Exports To Google Cloud Storage\n",
    "* Transferring Exports To Amazon S3\n",
    "* Run Google Cloud SDK As Daemon"
   ]
  }
 ],
 "metadata": {
  "kernelspec": {
   "display_name": "Python 3",
   "language": "python",
   "name": "python3"
  }
 },
 "nbformat": 4,
 "nbformat_minor": 4
}
