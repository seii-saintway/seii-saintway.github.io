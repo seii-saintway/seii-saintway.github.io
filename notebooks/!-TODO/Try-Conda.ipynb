{
 "cells": [
  {
   "cell_type": "markdown",
   "metadata": {},
   "source": [
    "# [Overview](https://docs.conda.io/projects/conda/en/latest/index.html)"
   ]
  },
  {
   "cell_type": "markdown",
   "metadata": {},
   "source": [
    "# [Conda for Data Scientists](https://docs.conda.io/projects/conda/en/latest/user-guide/concepts/data-science.html)"
   ]
  },
  {
   "cell_type": "markdown",
   "metadata": {},
   "source": [
    "# [Getting Started with Conda](https://docs.conda.io/projects/conda/en/latest/user-guide/getting-started.html)"
   ]
  }
 ],
 "metadata": {
  "kernelspec": {
   "display_name": "Python 3",
   "language": "python",
   "name": "python3"
  }
 },
 "nbformat": 4,
 "nbformat_minor": 4
}
