{
 "cells": [
  {
   "cell_type": "markdown",
   "metadata": {},
   "source": [
    "* https://l2dwidget.js.org/docs/index.html\n",
    "* https://techstay.github.io/my-static-blog/2018/09/15/在Hexo博客上添加可爱的Live-2D模型/"
   ]
  }
 ],
 "metadata": {
  "kernelspec": {
   "display_name": "Python 3",
   "language": "python",
   "name": "python3"
  }
 },
 "nbformat": 4,
 "nbformat_minor": 4
}
