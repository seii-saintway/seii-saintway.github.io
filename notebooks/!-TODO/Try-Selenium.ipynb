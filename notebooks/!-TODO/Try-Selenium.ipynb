{
 "cells": [
  {
   "cell_type": "markdown",
   "metadata": {},
   "source": [
    "* https://github.com/SeleniumHQ/selenium\n",
    "* https://selenium.dev/documentation/en/"
   ]
  },
  {
   "cell_type": "markdown",
   "metadata": {},
   "source": [
    "---"
   ]
  },
  {
   "cell_type": "code",
   "execution_count": null,
   "metadata": {},
   "outputs": [],
   "source": [
    "import os\n",
    "from EdgeGPT import Chatbot as Bing, ConversationStyle\n",
    "\n",
    "bing = Bing(cookiePath = os.path.expanduser('~/.config/EdgeGPT/cookies.json'))\n",
    "\n",
    "async def ask(prompt):\n",
    "    res = (await bing.ask(\n",
    "        prompt = prompt,\n",
    "        conversation_style = ConversationStyle.balanced,\n",
    "    ))['item']['messages'][1]\n",
    "\n",
    "    print(res['text'])\n",
    "    print('\\n---\\n')\n",
    "    print(res['adaptiveCards'][0]['body'][0]['text'])"
   ]
  },
  {
   "cell_type": "markdown",
   "metadata": {},
   "source": [
    "---"
   ]
  },
  {
   "cell_type": "code",
   "execution_count": null,
   "metadata": {},
   "outputs": [
    {
     "name": "stdout",
     "output_type": "stream",
     "text": [
      "Puppeteer 和 Selenium 都是用于浏览器自动化的工具。Puppeteer 是由 Google 开发的，它在 Chromium 上运行脚本。Selenium 是用于自动化 Chrome 的 node.js 库。这个库是开源的，并提供了一个高级 API 来控制 Chrome。Puppeteer 更适合单元测试，而 Selenium 更适合跨平台测试效果。[^1^]\n",
      "\n",
      "从以上比较中可以明显看出：当我们需要对 web 应用程序进行单元级测试时，并需要快速灵活的解决方案时，Puppeteer 将是最佳选择。当我们需要对 web 和移动应用程序进行测试，并关注跨平台测试效果时，Selenium 将是更好的选择。[^1^]\n",
      "\n",
      "---\n",
      "\n",
      "[1]: https://www.dilatoit.com/zh/2021/05/12/selenium-vs-puppeteer-2.html \"Selenium 与 Puppeteer 在测试自动化中的使用对比 - 迪原创新网站\"\n",
      "[2]: https://zhuanlan.zhihu.com/p/78867961 \"为什么puppeteer比selenium好? - 知乎 - 知乎专栏\"\n",
      "[3]: https://blog.csdn.net/Memory_and_Dream/article/details/121770569 \"自动化测试 selenium还是puppeteer？_pyppeteer和selenium哪个好_Memory_and_Dream的博客-CSDN博客\"\n",
      "[4]: https://www.browserstack.com/guide/puppeteer-vs-selenium \"Puppeteer vs Selenium: Core Differences | BrowserStack\"\n",
      "[5]: https://zhuanlan.zhihu.com/p/455590173 \"开源爬虫神器，Playwright vs Puppeteer 对比，你应该选择哪个？ - 知乎\"\n",
      "[6]: https://zhuanlan.zhihu.com/p/516095953 \"Puppeteer vs Selenium的主要区别 - 知乎 - 知乎专栏\"\n",
      "\n",
      "Puppeteer 和 Selenium 都是用于浏览器自动化的工具。Puppeteer 是由 Google 开发的，它在 Chromium 上运行脚本。Selenium 是用于自动化 Chrome 的 node.js 库。这个库是开源的，并提供了一个高级 API 来控制 Chrome。Puppeteer 更适合单元测试，而 Selenium 更适合跨平台测试效果。[^1^][1]\n",
      "\n",
      "从以上比较中可以明显看出：当我们需要对 web 应用程序进行单元级测试时，并需要快速灵活的解决方案时，Puppeteer 将是最佳选择。当我们需要对 web 和移动应用程序进行测试，并关注跨平台测试效果时，Selenium 将是更好的选择。[^1^][1]\n",
      "\n"
     ]
    }
   ],
   "source": [
    "await ask('''\n",
    "比较 Puppeteer 和 Selenium\n",
    "''')"
   ]
  }
 ],
 "metadata": {
  "kernelspec": {
   "display_name": "Python 3 (ipykernel)",
   "language": "python",
   "name": "python3"
  }
 },
 "nbformat": 4,
 "nbformat_minor": 4
}
