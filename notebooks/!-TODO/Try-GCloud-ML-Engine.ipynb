{
 "cells": [
  {
   "cell_type": "markdown",
   "metadata": {},
   "source": [
    "[Google Cloud ML Engine を Jupyter から簡単に使える Magic](https://qiita.com/hayatoy/items/5f44e28278931c2d60b7)"
   ]
  }
 ],
 "metadata": {
  "kernelspec": {
   "display_name": "Python 3 (ipykernel)",
   "language": "python",
   "name": "python3"
  }
 },
 "nbformat": 4,
 "nbformat_minor": 4
}
