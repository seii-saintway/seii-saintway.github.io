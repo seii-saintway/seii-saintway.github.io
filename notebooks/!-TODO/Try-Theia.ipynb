{
 "cells": [
  {
   "cell_type": "markdown",
   "metadata": {},
   "source": [
    "* https://theia-ide.org/\n",
    "* https://jupyter-server-proxy.readthedocs.io/en/latest/convenience/packages/theia.html"
   ]
  }
 ],
 "metadata": {
  "kernelspec": {
   "display_name": "Python 3",
   "language": "python",
   "name": "python3"
  }
 },
 "nbformat": 4,
 "nbformat_minor": 4
}
