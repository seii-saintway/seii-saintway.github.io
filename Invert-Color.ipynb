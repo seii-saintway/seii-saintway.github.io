{
 "cells": [
  {
   "cell_type": "code",
   "execution_count": null,
   "metadata": {},
   "outputs": [],
   "source": [
    "from PIL import Image\n",
    "import PIL.ImageOps\n",
    "# 读入图片\n",
    "image = Image.open('typography.png')\n",
    "# 反转\n",
    "inverted_image = PIL.ImageOps.invert(image)\n",
    "# 保存图片\n",
    "inverted_image.save('typography-inverted.png')"
   ]
  }
 ],
 "metadata": {
  "kernelspec": {
   "display_name": "Python 3",
   "language": "python",
   "name": "python3"
  }
 },
 "nbformat": 4,
 "nbformat_minor": 5
}
