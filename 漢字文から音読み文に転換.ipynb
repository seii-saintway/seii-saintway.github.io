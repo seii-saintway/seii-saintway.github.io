{
 "cells": [
  {
   "cell_type": "markdown",
   "id": "b471b1ab-18ec-4942-a763-edea908ce0e3",
   "metadata": {},
   "source": [
    "#### Python で、漢字文から音読み文に転換します。"
   ]
  },
  {
   "cell_type": "code",
   "execution_count": null,
   "id": "bcd8e3ab-1ee4-4f71-b0b6-f094ca4e8b0c",
   "metadata": {},
   "outputs": [
    {
     "name": "stdout",
     "output_type": "stream",
     "text": [
      "シンゼシンジツテキ，ジモンナイゼイタショショウ，シンニュウリョウタジンスガモンシュヤソキトクテキコウツウ。\n"
     ]
    }
   ],
   "source": [
    "# 漢字から音読みに変換する対応表\n",
    "kanji_to_onyomi = {\n",
    "    '神': 'シン',\n",
    "    '是': 'ゼ',\n",
    "    '信': 'シン',\n",
    "    '実': 'ジツ',\n",
    "    '的': 'テキ',\n",
    "    '你': 'ジ',\n",
    "    '們': 'モン',\n",
    "    '乃': 'ナイ',\n",
    "    '是': 'ゼ',\n",
    "    '爲': 'イ',\n",
    "    '他': 'タ',\n",
    "    '所': 'ショ',\n",
    "    '召': 'ショウ',\n",
    "    '進': 'シン',\n",
    "    '入': 'ニュウ',\n",
    "    '了': 'リョウ',\n",
    "    '儿': 'ジン',\n",
    "    '子': 'ス',\n",
    "    '我': 'ガ',\n",
    "    '主': 'シュ',\n",
    "    '耶': 'ヤ',\n",
    "    '穌': 'ソ',\n",
    "    '基': 'キ',\n",
    "    '督': 'トク',\n",
    "    '的': 'テキ',\n",
    "    '交': 'コウ',\n",
    "    '通': 'ツウ',\n",
    "    # 他の漢字と音読みの対応を追加\n",
    "}\n",
    "\n",
    "def convert_to_onyomi_sentence(input_sentence):\n",
    "    # 入力された漢字文を音読み文に変換する関数\n",
    "    words = list(input_sentence)  # 文を単語に分割\n",
    "    onyomi_sentence = []\n",
    "\n",
    "    for word in words:\n",
    "        onyomi = kanji_to_onyomi.get(word, word)  # 辞書から音読みを取得、なければそのまま単語を使用\n",
    "        onyomi_sentence.append(onyomi)\n",
    "\n",
    "    return ''.join(onyomi_sentence)\n",
    "\n",
    "# 漢字文を入力\n",
    "input_sentence = '神是信実的，你們乃是爲他所召，進入了他儿子我們主耶穌基督的交通。'\n",
    "# 音読み文に変換\n",
    "result = convert_to_onyomi_sentence(input_sentence)\n",
    "print(result)  # 出力: \"シンゼシンジツテキ，ジモンナイゼイタショショウ，シンニュウリョウタジンスガモンシュヤソキトクテキコウツウ。\""
   ]
  },
  {
   "cell_type": "markdown",
   "id": "8e0ee804-c292-4af7-b536-8f8ce2fca2bb",
   "metadata": {},
   "source": [
    "#### Python で、Janome で、漢字文から音読み文に転換します。"
   ]
  },
  {
   "cell_type": "markdown",
   "id": "a27ee70a-c6db-435b-b19a-af3b4868405a",
   "metadata": {},
   "source": [
    "Janome を使って漢字文から音読み文に変換するには、まず漢字を形態素に分割し、それぞれの形態素に対応する音読みを取得する必要があります。ただし、Janome 自体は音読みを直接提供する機能はありません。そのため、別途辞書や API などから音読みを取得する必要があります。\n",
    "\n",
    "以下は、辞書を使用して漢字文から音読み文に変換するサンプルコードです。このコードでは、kanji_to_onyomi という辞書に漢字と対応する音読みを登録し、入力された漢字文を音読み文に変換します。"
   ]
  },
  {
   "cell_type": "code",
   "execution_count": null,
   "id": "61db905f-306e-4e2c-8c2e-2423ade6cf66",
   "metadata": {},
   "outputs": [
    {
     "name": "stdout",
     "output_type": "stream",
     "text": [
      "Defaulting to user installation because normal site-packages is not writeable\n",
      "Requirement already satisfied: janome in /home/jupyter-saintway/.local/lib/python3.9/site-packages (0.5.0)\n"
     ]
    }
   ],
   "source": [
    "%%bash\n",
    "pip install janome"
   ]
  },
  {
   "cell_type": "code",
   "execution_count": null,
   "id": "cff5a19b-1835-42a0-9a01-bae9fd1574a5",
   "metadata": {},
   "outputs": [
    {
     "name": "stdout",
     "output_type": "stream",
     "text": [
      "['シン', 'ゼ', 'シンジツ', 'テキ', '，', '你們乃', 'ゼ', '爲他所', 'ショウ', '，', 'シンニュウ', 'リョウ', 'タ', '儿子我', '們主耶', '穌基督', 'テキ', 'コウツウ', '。']\n",
      "シンゼシンジツテキ，你們乃ゼ爲他所ショウ，シンニュウリョウタ儿子我們主耶穌基督テキコウツウ。\n"
     ]
    }
   ],
   "source": [
    "from janome.tokenizer import Tokenizer\n",
    "\n",
    "# 漢字から音読みに変換する対応表（例としていくつかの漢字と音読みを登録）\n",
    "kanji_to_onyomi = {\n",
    "    '神': 'シン',\n",
    "    '是': 'ゼ',\n",
    "    '信': 'シン',\n",
    "    '実': 'ジツ',\n",
    "    '的': 'テキ',\n",
    "    '你': 'ジ',\n",
    "    '們': 'モン',\n",
    "    '乃': 'ナイ',\n",
    "    '是': 'ゼ',\n",
    "    '爲': 'イ',\n",
    "    '他': 'タ',\n",
    "    '所': 'ショ',\n",
    "    '召': 'ショウ',\n",
    "    '進': 'シン',\n",
    "    '入': 'ニュウ',\n",
    "    '了': 'リョウ',\n",
    "    '儿': 'ジン',\n",
    "    '子': 'ス',\n",
    "    '我': 'ガ',\n",
    "    '主': 'シュ',\n",
    "    '耶': 'ヤ',\n",
    "    '穌': 'ソ',\n",
    "    '基': 'キ',\n",
    "    '督': 'トク',\n",
    "    '的': 'テキ',\n",
    "    '交': 'コウ',\n",
    "    '通': 'ツウ',\n",
    "    '信実': 'シンジツ',\n",
    "    '進入': 'シンニュウ',\n",
    "    '交通': 'コウツウ',\n",
    "    # 他の漢字と音読みの対応を追加\n",
    "}\n",
    "\n",
    "def get_onyomi(token):\n",
    "    # 漢字を対応表から検索し、音読みを取得する関数\n",
    "    return kanji_to_onyomi.get(token.surface, token.surface)\n",
    "\n",
    "def convert_to_onyomi_sentence(input_sentence):\n",
    "    # 入力された漢字文を音読み文に変換する関数\n",
    "    t = Tokenizer()\n",
    "    tokens = t.tokenize(input_sentence)\n",
    "    # print([token.surface for token in tokens])\n",
    "    onyomi_sentence = []\n",
    "\n",
    "    for token in tokens:\n",
    "        onyomi = get_onyomi(token)\n",
    "        onyomi_sentence.append(onyomi)\n",
    "    print(onyomi_sentence)\n",
    "\n",
    "    return ''.join(onyomi_sentence)\n",
    "\n",
    "# 漢字文を入力\n",
    "input_sentence = '神是信実的，你們乃是爲他所召，進入了他儿子我們主耶穌基督的交通。'\n",
    "# 音読み文に変換\n",
    "result = convert_to_onyomi_sentence(input_sentence)\n",
    "print(result)  # 出力: 'シンゼシンジツテキ，ジモンナイゼイタショショウ，シンニュウリョウタジンスガモンシュヤソキトクテキコウツウ。'"
   ]
  },
  {
   "cell_type": "markdown",
   "id": "57132845-ed63-49cd-bcf9-bd396e18bd20",
   "metadata": {},
   "source": [
    "このコードでは、Janome の Tokenizer を使って日本語の形態素解析を行い、文を形態素に分割しています。それぞれの形態素には、表層形（原形）と品詞などの情報が含まれています。\n",
    "\n",
    "上記のコードを実行すると、入力した日本語の文が形態素に分割されて、表層形と品詞の情報が表示されるでしょう。Janome はシンプルで使いやすいライブラリなので、日本語の形態素解析に便利です。"
   ]
  },
  {
   "cell_type": "markdown",
   "id": "d0488e89-6b0b-421e-a4b7-63cd34fdce60",
   "metadata": {},
   "source": [
    "#### Python で、MeCab で、UniDic で、漢字文から音読み文に転換します。"
   ]
  },
  {
   "cell_type": "markdown",
   "id": "b032e33d-82b6-4696-b562-0f45b273ab0e",
   "metadata": {},
   "source": [
    "MeCab を使用して UniDic 辞書を利用し、漢字文から音読み文に変換するためには、以下の手順に従ってください。まず、Python で MeCab を使えるようにしてから、サンプルコードを提供します。"
   ]
  },
  {
   "cell_type": "markdown",
   "id": "cbc2aece-f33c-4261-bf06-5713b3028211",
   "metadata": {},
   "source": [
    "---\n",
    "MeCab と unidic のインストール："
   ]
  },
  {
   "cell_type": "code",
   "execution_count": null,
   "id": "247e09ac-af2d-4b5a-87cf-12323735c104",
   "metadata": {},
   "outputs": [
    {
     "name": "stdout",
     "output_type": "stream",
     "text": [
      "Defaulting to user installation because normal site-packages is not writeable\n",
      "Collecting unidic-lite\n",
      "  Downloading unidic-lite-1.0.8.tar.gz (47.4 MB)\n",
      "  Preparing metadata (setup.py): started\n",
      "  Preparing metadata (setup.py): finished with status 'done'\n",
      "Building wheels for collected packages: unidic-lite\n",
      "  Building wheel for unidic-lite (setup.py): started\n",
      "  Building wheel for unidic-lite (setup.py): finished with status 'done'\n",
      "  Created wheel for unidic-lite: filename=unidic_lite-1.0.8-py3-none-any.whl size=47658836 sha256=d354e3491cb194fab1fab224d3595dfa0419a6d75edec0bdd76fad8f60ec4d3a\n",
      "  Stored in directory: /home/jupyter-saintway/.cache/pip/wheels/56/9c/4f/2c115e896b4b6c584039ca19de3581d333856782ef108cdc5c\n",
      "Successfully built unidic-lite\n",
      "Installing collected packages: unidic-lite\n",
      "Successfully installed unidic-lite-1.0.8\n",
      "Defaulting to user installation because normal site-packages is not writeable\n",
      "Collecting mecab-python3\n",
      "  Downloading mecab_python3-1.0.6-cp39-cp39-manylinux_2_17_x86_64.manylinux2014_x86_64.whl (581 kB)\n",
      "Installing collected packages: mecab-python3\n"
     ]
    },
    {
     "name": "stderr",
     "output_type": "stream",
     "text": [
      "  WARNING: The scripts mecab-py and mecab-py-info are installed in '/home/jupyter-saintway/.local/bin' which is not on PATH.\n",
      "  Consider adding this directory to PATH or, if you prefer to suppress this warning, use --no-warn-script-location.\n"
     ]
    },
    {
     "name": "stdout",
     "output_type": "stream",
     "text": [
      "Successfully installed mecab-python3-1.0.6\n"
     ]
    }
   ],
   "source": [
    "%%bash\n",
    "pip install unidic-lite\n",
    "pip install mecab-python3"
   ]
  },
  {
   "cell_type": "markdown",
   "id": "c76d58b2-bc73-4c08-ba19-7564b00ce2c9",
   "metadata": {},
   "source": [
    "---\n",
    "このコードでは、MeCab の Tagger に UniDic のパスを指定して、日本語の形態素解析を行い、漢字文を音読み文に変換しています。漢字の音読みは UniDic の「名詞固有名詞」のフィーチャー情報の7番目に格納されているため、それを取得しています。\n",
    "\n",
    "注意：/path/to/unidic の部分は、UniDic 辞書の実際のインストールパスに置き換えてください。\n",
    "\n",
    "また、UniDic に登録されていない単語や未知の単語に対しては、'\\*'として示されることがあります。その場合は元の漢字をそのまま使用します。さらに、Juman++ などの他の形態素解析エンジンや辞書を利用することも検討してください。"
   ]
  },
  {
   "cell_type": "code",
   "execution_count": null,
   "id": "53de1554-319d-47af-80a3-9c2fc604fd82",
   "metadata": {},
   "outputs": [],
   "source": [
    "import MeCab\n",
    "\n",
    "# MeCab + UniDicを使って漢字文から音読みを取得する関数\n",
    "def get_onyomi(text):\n",
    "    try:\n",
    "        mecab = MeCab.Tagger('-d /path/to/unidic')  # UniDicのパスを指定してください\n",
    "        node = mecab.parse(text)\n",
    "        onyomi_text = ''\n",
    "        \n",
    "        while node:\n",
    "            features = node.feature.split(',')\n",
    "            if len(features) > 7 and features[0] == '名詞' and features[1] == '固有名詞':\n",
    "                onyomi_text += features[7] if features[7] != '*' else node.surface\n",
    "            else:\n",
    "                onyomi_text += node.surface\n",
    "\n",
    "            node = node.next\n",
    "\n",
    "        return onyomi_text\n",
    "\n",
    "    except Exception as e:\n",
    "        print('エラー:', e)\n",
    "        return None\n",
    "\n",
    "# 漢字文を入力\n",
    "input_text = '漢字文を入力してください。'\n",
    "# 音読みに変換\n",
    "result = get_onyomi(input_text)\n",
    "print(result)  # 出力例: '漢字文をニュウリョクシテクダサイ。'"
   ]
  }
 ],
 "metadata": {
  "kernelspec": {
   "display_name": "Python 3 (ipykernel)",
   "language": "python",
   "name": "python3"
  }
 },
 "nbformat": 4,
 "nbformat_minor": 5
}
