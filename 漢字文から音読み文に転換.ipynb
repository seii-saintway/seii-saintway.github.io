{
 "cells": [
  {
   "cell_type": "markdown",
   "id": "b471b1ab-18ec-4942-a763-edea908ce0e3",
   "metadata": {},
   "source": [
    "#### Python で、漢字文から音読み文に転換します。"
   ]
  },
  {
   "cell_type": "code",
   "execution_count": null,
   "id": "bcd8e3ab-1ee4-4f71-b0b6-f094ca4e8b0c",
   "metadata": {},
   "outputs": [
    {
     "name": "stdout",
     "output_type": "stream",
     "text": [
      "シンゼシンジツテキ，ジモンナイゼイタショショウ，シンニュウリョウタジンスガモンシュヤソキトクテキコウツウ。\n"
     ]
    }
   ],
   "source": [
    "# 漢字から音読みに変換する対応表\n",
    "kanji_to_onyomi = {\n",
    "    '神': 'シン',\n",
    "    '是': 'ゼ',\n",
    "    '信': 'シン',\n",
    "    '実': 'ジツ',\n",
    "    '的': 'テキ',\n",
    "    '你': 'ジ',\n",
    "    '們': 'モン',\n",
    "    '乃': 'ナイ',\n",
    "    '是': 'ゼ',\n",
    "    '爲': 'イ',\n",
    "    '他': 'タ',\n",
    "    '所': 'ショ',\n",
    "    '召': 'ショウ',\n",
    "    '進': 'シン',\n",
    "    '入': 'ニュウ',\n",
    "    '了': 'リョウ',\n",
    "    '儿': 'ジン',\n",
    "    '子': 'ス',\n",
    "    '我': 'ガ',\n",
    "    '主': 'シュ',\n",
    "    '耶': 'ヤ',\n",
    "    '穌': 'ソ',\n",
    "    '基': 'キ',\n",
    "    '督': 'トク',\n",
    "    '的': 'テキ',\n",
    "    '交': 'コウ',\n",
    "    '通': 'ツウ',\n",
    "    # 他の漢字と音読みの対応を追加\n",
    "}\n",
    "\n",
    "def convert_to_onyomi_sentence(input_sentence):\n",
    "    # 入力された漢字文を音読み文に変換する関数\n",
    "    words = list(input_sentence)  # 文を単語に分割\n",
    "    onyomi_sentence = []\n",
    "\n",
    "    for word in words:\n",
    "        onyomi = kanji_to_onyomi.get(word, word)  # 辞書から音読みを取得、なければそのまま単語を使用\n",
    "        onyomi_sentence.append(onyomi)\n",
    "\n",
    "    return ''.join(onyomi_sentence)\n",
    "\n",
    "# 漢字文を入力\n",
    "input_sentence = '神是信実的，你們乃是爲他所召，進入了他儿子我們主耶穌基督的交通。'\n",
    "# 音読み文に変換\n",
    "result = convert_to_onyomi_sentence(input_sentence)\n",
    "print(result)  # 出力: \"シンゼシンジツテキ，ジモンナイゼイタショショウ，シンニュウリョウタジンスガモンシュヤソキトクテキコウツウ。\""
   ]
  },
  {
   "cell_type": "markdown",
   "id": "8e0ee804-c292-4af7-b536-8f8ce2fca2bb",
   "metadata": {},
   "source": [
    "#### Python で、Janome で、漢字文から音読み文に転換します。"
   ]
  },
  {
   "cell_type": "markdown",
   "id": "a27ee70a-c6db-435b-b19a-af3b4868405a",
   "metadata": {},
   "source": [
    "Janome を使って漢字文から音読み文に変換するには、まず漢字を形態素に分割し、それぞれの形態素に対応する音読みを取得する必要があります。ただし、Janome 自体は音読みを直接提供する機能はありません。そのため、別途辞書や API などから音読みを取得する必要があります。\n",
    "\n",
    "以下は、辞書を使用して漢字文から音読み文に変換するサンプルコードです。このコードでは、kanji_to_onyomi という辞書に漢字と対応する音読みを登録し、入力された漢字文を音読み文に変換します。"
   ]
  },
  {
   "cell_type": "code",
   "execution_count": null,
   "id": "61db905f-306e-4e2c-8c2e-2423ade6cf66",
   "metadata": {},
   "outputs": [
    {
     "name": "stdout",
     "output_type": "stream",
     "text": [
      "Defaulting to user installation because normal site-packages is not writeable\n",
      "Requirement already satisfied: janome in /home/jupyter-saintway/.local/lib/python3.9/site-packages (0.5.0)\n"
     ]
    }
   ],
   "source": [
    "%%bash\n",
    "pip install janome"
   ]
  },
  {
   "cell_type": "code",
   "execution_count": null,
   "id": "cff5a19b-1835-42a0-9a01-bae9fd1574a5",
   "metadata": {},
   "outputs": [
    {
     "name": "stdout",
     "output_type": "stream",
     "text": [
      "['シン', 'ゼ', 'シンジツ', 'テキ', '，', '你們乃', 'ゼ', '爲他所', 'ショウ', '，', 'シンニュウ', 'リョウ', 'タ', '儿子我', '們主耶', '穌基督', 'テキ', 'コウツウ', '。']\n",
      "シンゼシンジツテキ，你們乃ゼ爲他所ショウ，シンニュウリョウタ儿子我們主耶穌基督テキコウツウ。\n"
     ]
    }
   ],
   "source": [
    "from janome.tokenizer import Tokenizer\n",
    "\n",
    "# 漢字から音読みに変換する対応表（例としていくつかの漢字と音読みを登録）\n",
    "kanji_to_onyomi = {\n",
    "    '神': 'シン',\n",
    "    '是': 'ゼ',\n",
    "    '信': 'シン',\n",
    "    '実': 'ジツ',\n",
    "    '的': 'テキ',\n",
    "    '你': 'ジ',\n",
    "    '們': 'モン',\n",
    "    '乃': 'ナイ',\n",
    "    '是': 'ゼ',\n",
    "    '爲': 'イ',\n",
    "    '他': 'タ',\n",
    "    '所': 'ショ',\n",
    "    '召': 'ショウ',\n",
    "    '進': 'シン',\n",
    "    '入': 'ニュウ',\n",
    "    '了': 'リョウ',\n",
    "    '儿': 'ジン',\n",
    "    '子': 'ス',\n",
    "    '我': 'ガ',\n",
    "    '主': 'シュ',\n",
    "    '耶': 'ヤ',\n",
    "    '穌': 'ソ',\n",
    "    '基': 'キ',\n",
    "    '督': 'トク',\n",
    "    '的': 'テキ',\n",
    "    '交': 'コウ',\n",
    "    '通': 'ツウ',\n",
    "    '信実': 'シンジツ',\n",
    "    '進入': 'シンニュウ',\n",
    "    '交通': 'コウツウ',\n",
    "    # 他の漢字と音読みの対応を追加\n",
    "}\n",
    "\n",
    "def get_onyomi(token):\n",
    "    # 漢字を対応表から検索し、音読みを取得する関数\n",
    "    return kanji_to_onyomi.get(token.surface, token.surface)\n",
    "\n",
    "def convert_to_onyomi_sentence(input_sentence):\n",
    "    # 入力された漢字文を音読み文に変換する関数\n",
    "    t = Tokenizer()\n",
    "    tokens = t.tokenize(input_sentence)\n",
    "    # print([token.surface for token in tokens])\n",
    "    onyomi_sentence = []\n",
    "\n",
    "    for token in tokens:\n",
    "        onyomi = get_onyomi(token)\n",
    "        onyomi_sentence.append(onyomi)\n",
    "    print(onyomi_sentence)\n",
    "\n",
    "    return ''.join(onyomi_sentence)\n",
    "\n",
    "# 漢字文を入力\n",
    "input_sentence = '神是信実的，你們乃是爲他所召，進入了他儿子我們主耶穌基督的交通。'\n",
    "# 音読み文に変換\n",
    "result = convert_to_onyomi_sentence(input_sentence)\n",
    "print(result)  # 出力: 'シンゼシンジツテキ，ジモンナイゼイタショショウ，シンニュウリョウタジンスガモンシュヤソキトクテキコウツウ。'"
   ]
  },
  {
   "cell_type": "markdown",
   "id": "57132845-ed63-49cd-bcf9-bd396e18bd20",
   "metadata": {},
   "source": [
    "このコードでは、Janome の Tokenizer を使って日本語の形態素解析を行い、文を形態素に分割しています。それぞれの形態素には、表層形（原形）と品詞などの情報が含まれています。\n",
    "\n",
    "上記のコードを実行すると、入力した日本語の文が形態素に分割されて、表層形と品詞の情報が表示されるでしょう。Janome はシンプルで使いやすいライブラリなので、日本語の形態素解析に便利です。"
   ]
  },
  {
   "cell_type": "markdown",
   "id": "d0488e89-6b0b-421e-a4b7-63cd34fdce60",
   "metadata": {},
   "source": [
    "#### Python で、[MeCab](https://taku910.github.io/mecab/) で、UniDic で、漢字文から音読み文に転換します。"
   ]
  },
  {
   "cell_type": "markdown",
   "id": "b032e33d-82b6-4696-b562-0f45b273ab0e",
   "metadata": {},
   "source": [
    "MeCab を使用して UniDic 辞書を利用し、漢字文から音読み文に変換するためには、以下の手順に従ってください。まず、Python で MeCab を使えるようにしてから、サンプルコードを提供します。"
   ]
  },
  {
   "cell_type": "markdown",
   "id": "cbc2aece-f33c-4261-bf06-5713b3028211",
   "metadata": {},
   "source": [
    "---\n",
    "MeCab と UniDic のインストール："
   ]
  },
  {
   "cell_type": "code",
   "execution_count": null,
   "id": "247e09ac-af2d-4b5a-87cf-12323735c104",
   "metadata": {},
   "outputs": [
    {
     "name": "stdout",
     "output_type": "stream",
     "text": [
      "Defaulting to user installation because normal site-packages is not writeable\n",
      "Collecting unidic-lite\n",
      "  Downloading unidic-lite-1.0.8.tar.gz (47.4 MB)\n",
      "  Preparing metadata (setup.py): started\n",
      "  Preparing metadata (setup.py): finished with status 'done'\n",
      "Building wheels for collected packages: unidic-lite\n",
      "  Building wheel for unidic-lite (setup.py): started\n",
      "  Building wheel for unidic-lite (setup.py): finished with status 'done'\n",
      "  Created wheel for unidic-lite: filename=unidic_lite-1.0.8-py3-none-any.whl size=47658836 sha256=d354e3491cb194fab1fab224d3595dfa0419a6d75edec0bdd76fad8f60ec4d3a\n",
      "  Stored in directory: /home/jupyter-saintway/.cache/pip/wheels/56/9c/4f/2c115e896b4b6c584039ca19de3581d333856782ef108cdc5c\n",
      "Successfully built unidic-lite\n",
      "Installing collected packages: unidic-lite\n",
      "Successfully installed unidic-lite-1.0.8\n",
      "Defaulting to user installation because normal site-packages is not writeable\n",
      "Collecting mecab-python3\n",
      "  Downloading mecab_python3-1.0.6-cp39-cp39-manylinux_2_17_x86_64.manylinux2014_x86_64.whl (581 kB)\n",
      "Installing collected packages: mecab-python3\n",
      "Successfully installed mecab-python3-1.0.6\n"
     ]
    }
   ],
   "source": [
    "%%bash\n",
    "pip install unidic-lite\n",
    "pip install mecab-python3"
   ]
  },
  {
   "cell_type": "markdown",
   "id": "c76d58b2-bc73-4c08-ba19-7564b00ce2c9",
   "metadata": {},
   "source": [
    "---\n",
    "このコードでは、MeCab の Tagger に UniDic のパスを指定して、日本語の形態素解析を行い、漢字文を音読み文に変換しています。漢字の音読みは UniDic の「名詞固有名詞」のフィーチャー情報の7番目に格納されているため、それを取得しています。\n",
    "\n",
    "注意：/path/to/unidic の部分は、UniDic 辞書の実際のインストールパスに置き換えてください。\n",
    "\n",
    "また、UniDic に登録されていない単語や未知の単語に対しては、'\\*'として示されることがあります。その場合は元の漢字をそのまま使用します。さらに、Juman++ などの他の形態素解析エンジンや辞書を利用することも検討してください。"
   ]
  },
  {
   "cell_type": "code",
   "execution_count": null,
   "id": "53de1554-319d-47af-80a3-9c2fc604fd82",
   "metadata": {},
   "outputs": [],
   "source": [
    "import MeCab\n",
    "\n",
    "# MeCab + UniDicを使って漢字文から音読みを取得する関数\n",
    "def get_onyomi(text):\n",
    "    try:\n",
    "        mecab = MeCab.Tagger('-d /path/to/unidic')  # UniDicのパスを指定してください\n",
    "        node = mecab.parse(text)\n",
    "        onyomi_text = ''\n",
    "        \n",
    "        while node:\n",
    "            features = node.feature.split(',')\n",
    "            if len(features) > 7 and features[0] == '名詞' and features[1] == '固有名詞':\n",
    "                onyomi_text += features[7] if features[7] != '*' else node.surface\n",
    "            else:\n",
    "                onyomi_text += node.surface\n",
    "\n",
    "            node = node.next\n",
    "\n",
    "        return onyomi_text\n",
    "\n",
    "    except Exception as e:\n",
    "        print('エラー:', e)\n",
    "        return None\n",
    "\n",
    "# 漢字文を入力\n",
    "input_text = '漢字文を入力してください。'\n",
    "# 音読みに変換\n",
    "result = get_onyomi(input_text)\n",
    "print(result)  # 出力例: '漢字文をニュウリョクシテクダサイ。'"
   ]
  },
  {
   "cell_type": "markdown",
   "id": "6a8e1330-dc6c-451d-bae1-7d1e9f1f39cd",
   "metadata": {},
   "source": [
    "---\n",
    "[Juman++](https://github.com/ku-nlp/jumanpp)"
   ]
  },
  {
   "cell_type": "code",
   "execution_count": null,
   "id": "d6286077-a844-4567-af4c-f39109b8ca28",
   "metadata": {},
   "outputs": [],
   "source": [
    "sudo apt update\n",
    "sudo apt install cmake"
   ]
  },
  {
   "cell_type": "code",
   "execution_count": null,
   "id": "df8135a0-58a7-41ac-9cae-d072610c6d0a",
   "metadata": {},
   "outputs": [],
   "source": [
    "sudo apt update\n",
    "sudo apt install protobuf-compiler libprotobuf-dev"
   ]
  },
  {
   "cell_type": "code",
   "execution_count": null,
   "id": "c21290f5-3622-4ff8-8b8b-42b3d9ac024d",
   "metadata": {},
   "outputs": [],
   "source": [
    "%%bash\n",
    "git clone https://github.com/ku-nlp/jumanpp.git ~/jumanpp"
   ]
  },
  {
   "cell_type": "code",
   "execution_count": null,
   "id": "340b3170-9eaf-4d46-9500-a393eb5b8c93",
   "metadata": {},
   "outputs": [],
   "source": [
    "%%bash\n",
    "mkdir -p ~/jumanpp/build\n",
    "cd ~/jumanpp/build\n",
    "cmake ~/jumanpp -DCMAKE_BUILD_TYPE=Release\n",
    "cd ~/jumanpp\n",
    "sudo make install"
   ]
  },
  {
   "cell_type": "markdown",
   "id": "b80b5f68-d969-40ef-a37f-82c3ffa9745a",
   "metadata": {},
   "source": [
    "---\n",
    "[Juman++ 2.0.0 rc4](https://github.com/ku-nlp/jumanpp/releases/download/v2.0.0-rc4/jumanpp-2.0.0-rc4.tar.xz)"
   ]
  },
  {
   "cell_type": "markdown",
   "id": "15732a0e-cb7c-423f-b0a9-dfc158f467bf",
   "metadata": {},
   "source": [
    "[Scoop](https://scoop.sh/) on Windows 11\n",
    "\n",
    "```powershell\n",
    "Set-ExecutionPolicy -ExecutionPolicy RemoteSigned -Scope CurrentUser\n",
    "Invoke-RestMethod -Uri https://get.scoop.sh | Invoke-Expression\n",
    "scoop bucket add main\n",
    "scoop install main/cmake\n",
    "scoop install main/make\n",
    "```"
   ]
  },
  {
   "cell_type": "markdown",
   "id": "21e922fe-6ca0-4770-ace1-76eccc49091f",
   "metadata": {},
   "source": [
    "Ubuntu\n",
    "\n",
    "```bash\n",
    "sudo apt update\n",
    "sudo apt install g++-10 clang cmake\n",
    "sudo apt install libprotobuf-dev protobuf-compiler\n",
    "cd ~ && tar xvf jumanpp-2.0.0-rc4.tar.xz\n",
    "mkdir -p ~/jumanpp-2.0.0-rc4/build\n",
    "cd ~/jumanpp-2.0.0-rc4/build && cmake .. -DCMAKE_BUILD_TYPE=Release -DCMAKE_INSTALL_PREFIX=/usr/local\n",
    "cd ~/jumanpp-2.0.0-rc4/build && make install -j 4\n",
    "sudo make install\n",
    "```"
   ]
  },
  {
   "cell_type": "markdown",
   "id": "effe7138-0d04-468d-b2f4-3377e68642de",
   "metadata": {},
   "source": [
    "---\n",
    "[Juman++ 1.02](https://lotus.kuee.kyoto-u.ac.jp/nl-resource/jumanpp/jumanpp-1.02.tar.xz) with Model File"
   ]
  },
  {
   "cell_type": "code",
   "execution_count": null,
   "id": "b54fea4f-4dd7-43b9-a168-1bbda3ff5da1",
   "metadata": {},
   "outputs": [],
   "source": [
    "%%bash\n",
    "cd ~ && wget https://lotus.kuee.kyoto-u.ac.jp/nl-resource/jumanpp/jumanpp-1.02.tar.xz"
   ]
  },
  {
   "cell_type": "code",
   "execution_count": null,
   "id": "d8f9b1d8-0e85-4747-8052-39a9ae0eb459",
   "metadata": {},
   "outputs": [],
   "source": [
    "%%bash\n",
    "cd ~ && tar xJvf ~/jumanpp-1.02.tar.xz"
   ]
  },
  {
   "cell_type": "markdown",
   "id": "274364a2-a0d9-4137-8993-9fbbabb1d092",
   "metadata": {},
   "source": [
    "On Linux"
   ]
  },
  {
   "cell_type": "code",
   "execution_count": null,
   "id": "3af0a8dc-7166-4d1c-a231-2e9ef36c9c9d",
   "metadata": {},
   "outputs": [],
   "source": [
    "%%bash\n",
    "sudo apt update\n",
    "sudo apt install libboost-all-dev"
   ]
  },
  {
   "cell_type": "markdown",
   "id": "3ac17966-2be9-4b80-8bde-455bb7bec6bc",
   "metadata": {},
   "source": [
    "On macOS"
   ]
  },
  {
   "cell_type": "code",
   "execution_count": null,
   "id": "b2259e34-37e1-4392-94c2-9e08a9947ddb",
   "metadata": {},
   "outputs": [],
   "source": [
    "%%bash\n",
    "brew install boost"
   ]
  },
  {
   "cell_type": "code",
   "execution_count": null,
   "id": "3904f381-f396-42db-bfb4-3fcbb4b868f9",
   "metadata": {},
   "outputs": [],
   "source": [
    "%%bash\n",
    "cd ~/jumanpp-1.02\n",
    "./configure\n",
    "make\n",
    "sudo make install"
   ]
  },
  {
   "cell_type": "markdown",
   "id": "1eb166f5-32c0-4b43-aea8-a5a7c4f07ab1",
   "metadata": {},
   "source": [
    "---"
   ]
  },
  {
   "cell_type": "code",
   "execution_count": null,
   "id": "b9976d33-47d3-4cca-85a8-17eca1485baf",
   "metadata": {},
   "outputs": [
    {
     "name": "stdout",
     "output_type": "stream",
     "text": [
      "Defaulting to user installation because normal site-packages is not writeable\n",
      "Requirement already satisfied: pyknp in /home/jupyter-saintway/.local/lib/python3.9/site-packages (0.6.1)\n",
      "Requirement already satisfied: six in /home/jupyter-saintway/.local/lib/python3.9/site-packages (from pyknp) (1.16.0)\n"
     ]
    }
   ],
   "source": [
    "%%bash\n",
    "pip install pyknp"
   ]
  },
  {
   "cell_type": "code",
   "execution_count": null,
   "id": "7ba2982e-5a6c-4754-b674-bee63520f7e9",
   "metadata": {},
   "outputs": [],
   "source": [
    "from pyknp import Juman\n",
    "juman = Juman()\n",
    "\n",
    "def halfwidth_to_fullwidth(text):\n",
    "    result = ''\n",
    "    for char in text:\n",
    "        code = ord(char)\n",
    "        if code == ord(' '):\n",
    "            result += '　'\n",
    "        elif ord('!') <= code <= ord('~'):\n",
    "            # Convert ASCII characters in the range 0x0021 to 0x007E\n",
    "            result += chr(code + 0xFEE0)\n",
    "        else:\n",
    "            result += char\n",
    "    return result\n",
    "\n",
    "def render(text):\n",
    "    for line in halfwidth_to_fullwidth(text).split('\\n'):\n",
    "        if line == '':\n",
    "            yield '\\n'\n",
    "            continue\n",
    "        mrphs = juman.analysis(line).mrph_list()\n",
    "        for mrph in mrphs:\n",
    "            if mrph.midasi == mrph.yomi:\n",
    "                yield mrph.midasi\n",
    "            else:\n",
    "                yield '　{}［{}］'.format(\n",
    "                    mrph.midasi,\n",
    "                    mrph.yomi\n",
    "                )\n",
    "        yield '\\n'\n",
    "\n",
    "def render_to_latex(text):\n",
    "    for line in halfwidth_to_fullwidth(text).split('\\n'):\n",
    "        if line == '':\n",
    "            yield '\\n'\n",
    "            continue\n",
    "        mrphs = juman.analysis(line).mrph_list()\n",
    "        for mrph in mrphs:\n",
    "            yield f'\\\\frac{{{mrph.yomi}}}{{{mrph.midasi}}}'\n",
    "        yield '\\n'"
   ]
  },
  {
   "cell_type": "code",
   "execution_count": null,
   "id": "9ee4546e-42ef-435f-8c38-fb9f3a285d68",
   "metadata": {},
   "outputs": [
    {
     "data": {
      "text/latex": [
       "$\\displaystyle $"
      ],
      "text/plain": [
       "<IPython.core.display.Math object>"
      ]
     },
     "metadata": {},
     "output_type": "display_data"
    },
    {
     "data": {
      "text/latex": [
       "$\\displaystyle \\frac{あさ}{朝}\\frac{の}{の}\\frac{やしない}{養い}$"
      ],
      "text/plain": [
       "<IPython.core.display.Math object>"
      ]
     },
     "metadata": {},
     "output_type": "display_data"
    },
    {
     "data": {
      "text/latex": [
       "$\\displaystyle $"
      ],
      "text/plain": [
       "<IPython.core.display.Math object>"
      ]
     },
     "metadata": {},
     "output_type": "display_data"
    },
    {
     "data": {
      "text/latex": [
       "$\\displaystyle \\frac{ひらく}{啓}\\frac{２１}{２１}\\frac{：}{：}\\frac{３}{３}\\frac{　}{　}\\frac{……}{……}\\frac{みよ}{見よ}\\frac{、}{、}\\frac{かみ}{神}\\frac{の}{の}\\frac{まくや}{幕屋}\\frac{が}{が}\\frac{じん}{人}\\frac{と}{と}\\frac{ともに}{共に}\\frac{ある}{ある}\\frac{．}{．}\\frac{かみ}{神}\\frac{は}{は}\\frac{かれ}{彼}\\frac{ら}{ら}\\frac{と}{と}\\frac{ともに}{共に}\\frac{まくや}{幕屋}\\frac{を}{を}\\frac{はり}{張り}\\frac{……}{……}$"
      ],
      "text/plain": [
       "<IPython.core.display.Math object>"
      ]
     },
     "metadata": {},
     "output_type": "display_data"
    },
    {
     "data": {
      "text/latex": [
       "$\\displaystyle \\frac{２２}{２２}\\frac{　}{　}\\frac{わたし}{わたし}\\frac{は}{は}\\frac{その}{その}\\frac{なか}{中}\\frac{に}{に}\\frac{みや}{宮}\\frac{を}{を}\\frac{み}{見}\\frac{なかった}{なかった}\\frac{．}{．}\\frac{おもなる}{主なる}\\frac{かみ}{神}\\frac{、}{、}\\frac{ぜん}{全}\\frac{のう}{能}\\frac{しゃ}{者}\\frac{と}{と}\\frac{しょう}{小}\\frac{ひつじ}{羊}\\frac{が}{が}\\frac{、}{、}\\frac{その}{その}\\frac{みや}{宮}\\frac{だ}{だ}\\frac{から}{から}\\frac{である}{である}\\frac{。}{。}$"
      ],
      "text/plain": [
       "<IPython.core.display.Math object>"
      ]
     },
     "metadata": {},
     "output_type": "display_data"
    },
    {
     "data": {
      "text/latex": [
       "$\\displaystyle $"
      ],
      "text/plain": [
       "<IPython.core.display.Math object>"
      ]
     },
     "metadata": {},
     "output_type": "display_data"
    },
    {
     "data": {
      "text/latex": [
       "$\\displaystyle \\frac{わたし}{わたし}\\frac{は}{は}\\frac{七十}{七十}\\frac{ねん}{年}\\frac{いじょう}{以上}\\frac{を}{を}\\frac{ついやして}{費やして}\\frac{せいしょ}{聖書}\\frac{を}{を}\\frac{まなび}{学び}\\frac{ました}{ました}\\frac{が}{が}\\frac{、}{、}\\frac{ごく}{ごく}\\frac{さいきん}{最近}\\frac{に}{に}\\frac{なって}{なって}\\frac{、}{、}\\frac{せいしょ}{聖書}\\frac{が}{が}\\frac{じつは}{実は}\\frac{ただ}{ただ}\\frac{一}{一}\\frac{つ}{つ}\\frac{の}{の}\\frac{じ}{事}\\frac{、}{、}\\frac{すなわち}{すなわち}\\frac{うちゅう}{宇宙}\\frac{てきな}{的な}\\frac{がっぺい}{合併}\\frac{を}{を}\\frac{あきらかに}{明らかに}\\frac{して}{して}\\frac{いる}{いる}\\frac{こと}{こと}\\frac{を}{を}\\frac{み}{見}\\frac{ました}{ました}\\frac{。}{。}\\frac{もくてき}{目的}\\frac{を}{を}\\frac{もつ}{持つ}\\frac{かみ}{神}\\frac{に}{に}\\frac{は}{は}\\frac{エコノミー}{エコノミー}\\frac{が}{が}\\frac{あり}{あり}\\frac{、}{、}\\frac{かれ}{彼}\\frac{は}{は}\\frac{かれ}{彼}\\frac{の}{の}\\frac{エコノミー}{エコノミー}\\frac{の}{の}\\frac{なか}{中}\\frac{で}{で}\\frac{、}{、}\\frac{うちゅう}{宇宙}\\frac{てきな}{的な}\\frac{がっぺい}{合併}\\frac{を}{を}\\frac{もつ}{持つ}\\frac{こと}{こと}\\frac{を}{を}\\frac{いと}{意図}\\frac{さ}{さ}\\frac{れ}{れ}\\frac{ます}{ます}\\frac{。}{。}$"
      ],
      "text/plain": [
       "<IPython.core.display.Math object>"
      ]
     },
     "metadata": {},
     "output_type": "display_data"
    },
    {
     "data": {
      "text/latex": [
       "$\\displaystyle \\frac{わたし}{わたし}\\frac{たち}{たち}\\frac{は}{は}\\frac{、}{、}\\frac{しん}{新}\\frac{えるされむ}{エルサレム}\\frac{が}{が}\\frac{かみ}{神}\\frac{の}{の}\\frac{エコノミー}{エコノミー}\\frac{の}{の}\\frac{もくひょう}{目標}\\frac{である}{である}\\frac{こと}{こと}\\frac{を}{を}\\frac{みて}{見て}\\frac{き}{き}\\frac{ました}{ました}\\frac{が}{が}\\frac{、}{、}\\frac{しん}{新}\\frac{えるされむ}{エルサレム}\\frac{が}{が}\\frac{一}{一}\\frac{つ}{つ}\\frac{の}{の}\\frac{がっぺい}{合併}\\frac{である}{である}\\frac{こと}{こと}\\frac{を}{を}\\frac{み}{見}\\frac{ませ}{ませ}\\frac{ん}{ん}\\frac{でした}{でした}\\frac{。}{。}\\frac{けいじ}{啓示}\\frac{ろく}{録}\\frac{だい}{第}\\frac{２１}{２１}\\frac{しょう}{章}\\frac{２}{２}\\frac{せつ}{節}\\frac{で}{で}\\frac{しと}{使徒}\\frac{ヨハネ}{ヨハネ}\\frac{は}{は}\\frac{、}{、}\\frac{「}{「}\\frac{わたし}{わたし}\\frac{は}{は}\\frac{また}{また}\\frac{せいなる}{聖なる}\\frac{と}{都}\\frac{、}{、}\\frac{しん}{新}\\frac{えるされむ}{エルサレム}\\frac{……}{……}\\frac{を}{を}\\frac{みた}{見た}\\frac{」}{」}\\frac{と}{と}\\frac{いい}{言い}\\frac{、}{、}\\frac{つぎの}{次の}\\frac{せつ}{節}\\frac{で}{で}\\frac{は}{は}\\frac{「}{「}\\frac{かみ}{神}\\frac{の}{の}\\frac{まくや}{幕屋}\\frac{」}{」}\\frac{と}{と}\\frac{して}{して}\\frac{の}{の}\\frac{しん}{新}\\frac{えるされむ}{エルサレム}\\frac{に}{に}\\frac{ついて}{ついて}\\frac{かたって}{語って}\\frac{い}{い}\\frac{ます}{ます}\\frac{。}{。}\\frac{かみ}{神}\\frac{の}{の}\\frac{まくや}{幕屋}\\frac{と}{と}\\frac{して}{して}\\frac{、}{、}\\frac{しん}{新}\\frac{えるされむ}{エルサレム}\\frac{は}{は}\\frac{かみ}{神}\\frac{の}{の}\\frac{すまい}{住まい}\\frac{であり}{であり}\\frac{、}{、}\\frac{……}{……}\\frac{［}{［}\\frac{また}{また}\\frac{］}{］}\\frac{うちゅう}{宇宙}\\frac{てきな}{的な}\\frac{がっぺい}{合併}\\frac{です}{です}\\frac{。}{。}\\frac{（}{（}\\frac{りー}{リー}\\frac{ぜんしゅう}{全集}\\frac{、}{、}\\frac{１９９４}{１９９４}\\frac{ねん}{年}\\frac{―}{―}\\frac{１９９７}{１９９７}\\frac{ねん}{年}\\frac{、}{、}\\frac{だい}{第}\\frac{５}{５}\\frac{かん}{巻}\\frac{（}{（}\\frac{した}{下}\\frac{）}{）}\\frac{、}{、}\\frac{「}{「}\\frac{ご}{御}\\frac{ちち}{父}\\frac{に}{に}\\frac{より}{より}\\frac{しんせいな}{神聖な}\\frac{えいこう}{栄光}\\frac{を}{を}\\frac{もって}{もって}\\frac{キリスト}{キリスト}\\frac{の}{の}\\frac{えいこう}{栄光}\\frac{が}{が}\\frac{あらわさ}{現さ}\\frac{れた}{れた}\\frac{こと}{こと}\\frac{の}{の}\\frac{けっか}{結果}\\frac{」}{」}\\frac{、}{、}\\frac{だい}{第}\\frac{４}{４}\\frac{へん}{編}\\frac{）}{）}$"
      ],
      "text/plain": [
       "<IPython.core.display.Math object>"
      ]
     },
     "metadata": {},
     "output_type": "display_data"
    },
    {
     "data": {
      "text/latex": [
       "$\\displaystyle $"
      ],
      "text/plain": [
       "<IPython.core.display.Math object>"
      ]
     },
     "metadata": {},
     "output_type": "display_data"
    }
   ],
   "source": [
    "from IPython.display import Math\n",
    "line = ''\n",
    "for word in render_to_latex('''\n",
    "朝の養い\n",
    "\n",
    "啓21:3　……見よ、神の幕屋が人と共にある．神は彼らと共に幕屋を張り……\n",
    "22　わたしはその中に宮を見なかった．主なる神、全能者と小羊が、その宮だからである。\n",
    "\n",
    "　わたしは七十年以上を費やして聖書を学びましたが、ごく最近になって、聖書が実はただ一つの事、すなわち宇宙的な合併を明らかにしていることを見ました。目的を持つ神にはエコノミーがあり、彼は彼のエコノミーの中で、宇宙的な合併を持つことを意図されます。\n",
    "　わたしたちは、新エルサレムが神のエコノミーの目標であることを見てきましたが、新エルサレムが一つの合併であることを見ませんでした。啓示録第21章2節で使徒ヨハネは、「わたしはまた聖なる都、新エルサレム……を見た」と言い、次の節では「神の幕屋」としての新エルサレムについて語っています。神の幕屋として、新エルサレムは神の住まいであり、……［また］宇宙的な合併です。（リー全集、1994年―1997年、第5巻（下）、「御父により神聖な栄光をもってキリストの栄光が現されたことの結果」、第4編）\n",
    "'''):\n",
    "    if word == '\\n':\n",
    "        display(Math(line))\n",
    "        line = ''\n",
    "    else:\n",
    "        line += word"
   ]
  },
  {
   "cell_type": "code",
   "execution_count": null,
   "id": "815c6fc4-2ba0-4675-945d-2b75dc26eebb",
   "metadata": {},
   "outputs": [
    {
     "name": "stdout",
     "output_type": "stream",
     "text": [
      "\n",
      "　朝［あさ］の　養い［やしない］\n",
      "\n",
      "　啓［ひらく］２１：９－１１　……「ここに来なさい．あなたに　小［しょう］　羊［ひつじ］の　妻［つま］である　花嫁［はなよめ］を　見せよう［みせよう］」。そして　彼［かれ］はわたしを　霊［れい］の　中［なか］で、　大きな［おおきな］　高い［たかい］　山［やま］へ　連れて［つれて］　行き［いき］、　聖なる［せいなる］　都［みやこ］　エルサレム［えるされむ］が、　天から［てんから］　出て［でて］　神［かみ］から　下って［くだって］　来る［くる］のをわたしに　見せた［みせた］が、それは　神［かみ］の　栄光［えいこう］を　持って［もって］いた。その　光［ひかり］は　最も［もっとも］　尊い［とうとい］　宝石［ほうせき］のようであり、　水晶［すいしょう］のように　透明な［とうめいな］　碧玉［へきぎょく］のようであった。\n",
      "\n",
      "　新約［しんやく］の　主要な［しゅような］　内容［ないよう］とは、三一の　神［かみ］がご　自身［じしん］の　大いなる［おおいなる］　喜び［よろこび］にしたがって　永遠の［えいえんの］エコノミーを　持って［もって］おられ、それは　彼［かれ］の　命［いのち］と　性質［せいしつ］の　中［なか］でご　自身［じしん］を　彼［かれ］の　選ば［えらば］れ、贖われた　民［みん］の　中［なか］へと　分与［ぶんよ］し、それによって　彼［かれ］らをご　自身［じしん］の　複製［ふくせい］とし、　彼［かれ］らが　彼［かれ］を　表現［ひょうげん］するためであるということです。この　団体［だんたい］の　表現［ひょうげん］は　新［しん］　エルサレム［えるされむ］において　究極［きゅうきょく］　的に［てきに］　完成［かんせい］します（エペソ３：９．１：９－２３）。　聖書［せいしょ］の　究極［きゅうきょく］　的な［てきな］　完成［かんせい］である　新［しん］　エルサレム［えるされむ］は、　神［かみ］が　人［じん］と　成る［なる］ことと、　人［じん］が　神格［しんかく］においてではなく、　命［いのち］と　性質［せいしつ］において　神［かみ］となることと　関係［かんけい］があります（　啓［ひらく］２１：２．３：１２）。キリストの　中［なか］で、　神［かみ］は　人［じん］と　成り［なり］、　人［じん］を　彼［かれ］の　命［いのち］と　性質［せいしつ］において　神［かみ］とします。それによって贖う　神［かみ］と贖われた　人［じん］は、　共に［ともに］ミングリングされ、　構成［こうせい］されて、一つの　実体［じったい］、すなわち　新［しん］　エルサレム［えるされむ］となることができます（２１：３、２２）。　最終［さいしゅう］　的に［てきに］、三一の、　永遠の［えいえんの］　神［かみ］は　新［しん］　エルサレム［えるされむ］となってわたしたちすべてと　合併［がっぺい］し、わたしたちもまた　神［かみ］の　有機［ゆうき］　的な［てきな］　救い［すくい］の　過程［かてい］を　通して［とおして］（　ローマ［ろーま］５：１０）、　新［しん］　エルサレム［えるされむ］となります。（「　新約［しんやく］の　結論［けつろん］（２５）」、　メッセージ［めっせーじ］４２８）\n",
      "\n"
     ]
    }
   ],
   "source": [
    "for word in render(\"\"\"\n",
    "朝の養い\n",
    "\n",
    "啓21:9-11　……「ここに来なさい．あなたに小羊の妻である花嫁を見せよう」。そして彼はわたしを霊の中で、大きな高い山へ連れて行き、聖なる都エルサレムが、天から出て神から下って来るのをわたしに見せたが、それは神の栄光を持っていた。その光は最も尊い宝石のようであり、水晶のように透明な碧玉のようであった。\n",
    "\n",
    "　新約の主要な内容とは、三一の神がご自身の大いなる喜びにしたがって永遠のエコノミーを持っておられ、それは彼の命と性質の中でご自身を彼の選ばれ、贖われた民の中へと分与し、それによって彼らをご自身の複製とし、彼らが彼を表現するためであるということです。この団体の表現は新エルサレムにおいて究極的に完成します（エペソ3:9．1:9-23）。聖書の究極的な完成である新エルサレムは、神が人と成ることと、人が神格においてではなく、命と性質において神となることと関係があります（啓21:2．3:12）。キリストの中で、神は人と成り、人を彼の命と性質において神とします。それによって贖う神と贖われた人は、共にミングリングされ、構成されて、一つの実体、すなわち新エルサレムとなることができます（21:3、22）。最終的に、三一の、永遠の神は新エルサレムとなってわたしたちすべてと合併し、わたしたちもまた神の有機的な救いの過程を通して（ローマ5:10）、新エルサレムとなります。（「新約の結論（25）」、メッセージ428）\n",
    "\"\"\"):\n",
    "    print(word, end='')"
   ]
  },
  {
   "cell_type": "code",
   "execution_count": null,
   "id": "3c6d7b82-3734-4742-bf0b-b474031191e7",
   "metadata": {},
   "outputs": [
    {
     "name": "stdout",
     "output_type": "stream",
     "text": [
      "\n",
      "　神［かみ］是信　実［み］　的［てき］，你們　乃［だい］　是［ぜ］爲他　所［しょ］　召［めし］，　進入［しんにゅう］　了［りょう］　他［た］儿子我們　主［しゅ］耶穌基督　的［てき］　交通［こうつう］。\n",
      "\n"
     ]
    }
   ],
   "source": [
    "for word in render(\"\"\"\n",
    "神是信実的，你們乃是爲他所召，進入了他儿子我們主耶穌基督的交通。\n",
    "\"\"\"):\n",
    "    print(word, end='')"
   ]
  },
  {
   "cell_type": "code",
   "execution_count": null,
   "id": "143eb476-0e71-40d3-b75b-f967779bfb3f",
   "metadata": {},
   "outputs": [
    {
     "name": "stdout",
     "output_type": "stream",
     "text": [
      "\n",
      "　神［かみ］、　是［ぜ］、　信［しん］、　実［み］、　的［てき］，你、們、　乃［だい］、　是［ぜ］、爲、　他［ほか］、　所［しょ］、　召［めし］，　進［しん］、　入［はいり］、　了［りょう］、　他［ほか］、儿、　子［し］、　我［われ］、們、　主［おも］、耶、穌、　基［もと］、督、　的［てき］、交、　通［つう］。\n",
      "\n"
     ]
    }
   ],
   "source": [
    "for word in render(\"\"\"\n",
    "神、是、信、実、的，你、們、乃、是、爲、他、所、召，進、入、了、他、儿、子、我、們、主、耶、穌、基、督、的、交、通。\n",
    "\"\"\"):\n",
    "    print(word, end='')"
   ]
  }
 ],
 "metadata": {
  "kernelspec": {
   "display_name": "Python 3 (ipykernel)",
   "language": "python",
   "name": "python3"
  },
  "language_info": {
   "codemirror_mode": {
    "name": "ipython",
    "version": 3
   },
   "file_extension": ".py",
   "mimetype": "text/x-python",
   "name": "python",
   "nbconvert_exporter": "python",
   "pygments_lexer": "ipython3",
   "version": "3.9.7"
  }
 },
 "nbformat": 4,
 "nbformat_minor": 5
}
