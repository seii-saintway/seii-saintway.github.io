{
 "cells": [
  {
   "cell_type": "markdown",
   "id": "b471b1ab-18ec-4942-a763-edea908ce0e3",
   "metadata": {},
   "source": [
    "#### Python で、漢字文から音読み文に転換します。"
   ]
  },
  {
   "cell_type": "code",
   "execution_count": null,
   "id": "bcd8e3ab-1ee4-4f71-b0b6-f094ca4e8b0c",
   "metadata": {},
   "outputs": [
    {
     "name": "stdout",
     "output_type": "stream",
     "text": [
      "シンゼシンジツテキ，ジモンナイゼイタショショウ，シンニュウリョウタジンスガモンシュヤソキトクテキコウツウ。\n"
     ]
    }
   ],
   "source": [
    "# 漢字から音読みに変換する対応表\n",
    "kanji_to_onyomi = {\n",
    "    '神': 'シン',\n",
    "    '是': 'ゼ',\n",
    "    '信': 'シン',\n",
    "    '実': 'ジツ',\n",
    "    '的': 'テキ',\n",
    "    '你': 'ジ',\n",
    "    '們': 'モン',\n",
    "    '乃': 'ナイ',\n",
    "    '是': 'ゼ',\n",
    "    '爲': 'イ',\n",
    "    '他': 'タ',\n",
    "    '所': 'ショ',\n",
    "    '召': 'ショウ',\n",
    "    '進': 'シン',\n",
    "    '入': 'ニュウ',\n",
    "    '了': 'リョウ',\n",
    "    '儿': 'ジン',\n",
    "    '子': 'ス',\n",
    "    '我': 'ガ',\n",
    "    '主': 'シュ',\n",
    "    '耶': 'ヤ',\n",
    "    '穌': 'ソ',\n",
    "    '基': 'キ',\n",
    "    '督': 'トク',\n",
    "    '的': 'テキ',\n",
    "    '交': 'コウ',\n",
    "    '通': 'ツウ',\n",
    "    # 他の漢字と音読みの対応を追加\n",
    "}\n",
    "\n",
    "def convert_to_onyomi_sentence(input_sentence):\n",
    "    # 入力された漢字文を音読み文に変換する関数\n",
    "    words = list(input_sentence)  # 文を単語に分割\n",
    "    onyomi_sentence = []\n",
    "\n",
    "    for word in words:\n",
    "        onyomi = kanji_to_onyomi.get(word, word)  # 辞書から音読みを取得、なければそのまま単語を使用\n",
    "        onyomi_sentence.append(onyomi)\n",
    "\n",
    "    return ''.join(onyomi_sentence)\n",
    "\n",
    "# 漢字文を入力\n",
    "input_sentence = '神是信実的，你們乃是爲他所召，進入了他儿子我們主耶穌基督的交通。'\n",
    "# 音読み文に変換\n",
    "result = convert_to_onyomi_sentence(input_sentence)\n",
    "print(result)  # 出力: \"シンゼシンジツテキ，ジモンナイゼイタショショウ，シンニュウリョウタジンスガモンシュヤソキトクテキコウツウ。\""
   ]
  },
  {
   "cell_type": "markdown",
   "id": "8e0ee804-c292-4af7-b536-8f8ce2fca2bb",
   "metadata": {},
   "source": [
    "#### Python で、Janome で、漢字文から音読み文に転換します。"
   ]
  },
  {
   "cell_type": "markdown",
   "id": "a27ee70a-c6db-435b-b19a-af3b4868405a",
   "metadata": {},
   "source": [
    "Janome を使って漢字文から音読み文に変換するには、まず漢字を形態素に分割し、それぞれの形態素に対応する音読みを取得する必要があります。ただし、Janome 自体は音読みを直接提供する機能はありません。そのため、別途辞書や API などから音読みを取得する必要があります。\n",
    "\n",
    "以下は、辞書を使用して漢字文から音読み文に変換するサンプルコードです。このコードでは、kanji_to_onyomi という辞書に漢字と対応する音読みを登録し、入力された漢字文を音読み文に変換します。"
   ]
  },
  {
   "cell_type": "code",
   "execution_count": null,
   "id": "61db905f-306e-4e2c-8c2e-2423ade6cf66",
   "metadata": {},
   "outputs": [
    {
     "name": "stdout",
     "output_type": "stream",
     "text": [
      "Defaulting to user installation because normal site-packages is not writeable\n",
      "Requirement already satisfied: janome in /home/jupyter-saintway/.local/lib/python3.9/site-packages (0.5.0)\n"
     ]
    }
   ],
   "source": [
    "%%bash\n",
    "pip install janome"
   ]
  },
  {
   "cell_type": "code",
   "execution_count": null,
   "id": "cff5a19b-1835-42a0-9a01-bae9fd1574a5",
   "metadata": {},
   "outputs": [
    {
     "name": "stdout",
     "output_type": "stream",
     "text": [
      "['シン', 'ゼ', 'シンジツ', 'テキ', '，', '你們乃', 'ゼ', '爲他所', 'ショウ', '，', 'シンニュウ', 'リョウ', 'タ', '儿子我', '們主耶', '穌基督', 'テキ', 'コウツウ', '。']\n",
      "シンゼシンジツテキ，你們乃ゼ爲他所ショウ，シンニュウリョウタ儿子我們主耶穌基督テキコウツウ。\n"
     ]
    }
   ],
   "source": [
    "from janome.tokenizer import Tokenizer\n",
    "\n",
    "# 漢字から音読みに変換する対応表（例としていくつかの漢字と音読みを登録）\n",
    "kanji_to_onyomi = {\n",
    "    '神': 'シン',\n",
    "    '是': 'ゼ',\n",
    "    '信': 'シン',\n",
    "    '実': 'ジツ',\n",
    "    '的': 'テキ',\n",
    "    '你': 'ジ',\n",
    "    '們': 'モン',\n",
    "    '乃': 'ナイ',\n",
    "    '是': 'ゼ',\n",
    "    '爲': 'イ',\n",
    "    '他': 'タ',\n",
    "    '所': 'ショ',\n",
    "    '召': 'ショウ',\n",
    "    '進': 'シン',\n",
    "    '入': 'ニュウ',\n",
    "    '了': 'リョウ',\n",
    "    '儿': 'ジン',\n",
    "    '子': 'ス',\n",
    "    '我': 'ガ',\n",
    "    '主': 'シュ',\n",
    "    '耶': 'ヤ',\n",
    "    '穌': 'ソ',\n",
    "    '基': 'キ',\n",
    "    '督': 'トク',\n",
    "    '的': 'テキ',\n",
    "    '交': 'コウ',\n",
    "    '通': 'ツウ',\n",
    "    '信実': 'シンジツ',\n",
    "    '進入': 'シンニュウ',\n",
    "    '交通': 'コウツウ',\n",
    "    # 他の漢字と音読みの対応を追加\n",
    "}\n",
    "\n",
    "def get_onyomi(token):\n",
    "    # 漢字を対応表から検索し、音読みを取得する関数\n",
    "    return kanji_to_onyomi.get(token.surface, token.surface)\n",
    "\n",
    "def convert_to_onyomi_sentence(input_sentence):\n",
    "    # 入力された漢字文を音読み文に変換する関数\n",
    "    t = Tokenizer()\n",
    "    tokens = t.tokenize(input_sentence)\n",
    "    # print([token.surface for token in tokens])\n",
    "    onyomi_sentence = []\n",
    "\n",
    "    for token in tokens:\n",
    "        onyomi = get_onyomi(token)\n",
    "        onyomi_sentence.append(onyomi)\n",
    "    print(onyomi_sentence)\n",
    "\n",
    "    return ''.join(onyomi_sentence)\n",
    "\n",
    "# 漢字文を入力\n",
    "input_sentence = '神是信実的，你們乃是爲他所召，進入了他儿子我們主耶穌基督的交通。'\n",
    "# 音読み文に変換\n",
    "result = convert_to_onyomi_sentence(input_sentence)\n",
    "print(result)  # 出力: 'シンゼシンジツテキ，ジモンナイゼイタショショウ，シンニュウリョウタジンスガモンシュヤソキトクテキコウツウ。'"
   ]
  },
  {
   "cell_type": "markdown",
   "id": "57132845-ed63-49cd-bcf9-bd396e18bd20",
   "metadata": {},
   "source": [
    "このコードでは、Janome の Tokenizer を使って日本語の形態素解析を行い、文を形態素に分割しています。それぞれの形態素には、表層形（原形）と品詞などの情報が含まれています。\n",
    "\n",
    "上記のコードを実行すると、入力した日本語の文が形態素に分割されて、表層形と品詞の情報が表示されるでしょう。Janome はシンプルで使いやすいライブラリなので、日本語の形態素解析に便利です。"
   ]
  },
  {
   "cell_type": "markdown",
   "id": "d0488e89-6b0b-421e-a4b7-63cd34fdce60",
   "metadata": {},
   "source": [
    "#### Python で、[MeCab](https://taku910.github.io/mecab/) で、UniDic で、漢字文から音読み文に転換します。"
   ]
  },
  {
   "cell_type": "markdown",
   "id": "b032e33d-82b6-4696-b562-0f45b273ab0e",
   "metadata": {},
   "source": [
    "MeCab を使用して UniDic 辞書を利用し、漢字文から音読み文に変換するためには、以下の手順に従ってください。まず、Python で MeCab を使えるようにしてから、サンプルコードを提供します。"
   ]
  },
  {
   "cell_type": "markdown",
   "id": "cbc2aece-f33c-4261-bf06-5713b3028211",
   "metadata": {},
   "source": [
    "---\n",
    "MeCab と UniDic のインストール："
   ]
  },
  {
   "cell_type": "code",
   "execution_count": null,
   "id": "247e09ac-af2d-4b5a-87cf-12323735c104",
   "metadata": {},
   "outputs": [
    {
     "name": "stdout",
     "output_type": "stream",
     "text": [
      "Defaulting to user installation because normal site-packages is not writeable\n",
      "Collecting unidic-lite\n",
      "  Downloading unidic-lite-1.0.8.tar.gz (47.4 MB)\n",
      "  Preparing metadata (setup.py): started\n",
      "  Preparing metadata (setup.py): finished with status 'done'\n",
      "Building wheels for collected packages: unidic-lite\n",
      "  Building wheel for unidic-lite (setup.py): started\n",
      "  Building wheel for unidic-lite (setup.py): finished with status 'done'\n",
      "  Created wheel for unidic-lite: filename=unidic_lite-1.0.8-py3-none-any.whl size=47658836 sha256=d354e3491cb194fab1fab224d3595dfa0419a6d75edec0bdd76fad8f60ec4d3a\n",
      "  Stored in directory: /home/jupyter-saintway/.cache/pip/wheels/56/9c/4f/2c115e896b4b6c584039ca19de3581d333856782ef108cdc5c\n",
      "Successfully built unidic-lite\n",
      "Installing collected packages: unidic-lite\n",
      "Successfully installed unidic-lite-1.0.8\n",
      "Defaulting to user installation because normal site-packages is not writeable\n",
      "Collecting mecab-python3\n",
      "  Downloading mecab_python3-1.0.6-cp39-cp39-manylinux_2_17_x86_64.manylinux2014_x86_64.whl (581 kB)\n",
      "Installing collected packages: mecab-python3\n",
      "Successfully installed mecab-python3-1.0.6\n"
     ]
    }
   ],
   "source": [
    "%%bash\n",
    "pip install unidic-lite\n",
    "pip install mecab-python3"
   ]
  },
  {
   "cell_type": "markdown",
   "id": "c76d58b2-bc73-4c08-ba19-7564b00ce2c9",
   "metadata": {},
   "source": [
    "---\n",
    "このコードでは、MeCab の Tagger に UniDic のパスを指定して、日本語の形態素解析を行い、漢字文を音読み文に変換しています。漢字の音読みは UniDic の「名詞固有名詞」のフィーチャー情報の7番目に格納されているため、それを取得しています。\n",
    "\n",
    "注意：/path/to/unidic の部分は、UniDic 辞書の実際のインストールパスに置き換えてください。\n",
    "\n",
    "また、UniDic に登録されていない単語や未知の単語に対しては、'\\*'として示されることがあります。その場合は元の漢字をそのまま使用します。さらに、Juman++ などの他の形態素解析エンジンや辞書を利用することも検討してください。"
   ]
  },
  {
   "cell_type": "code",
   "execution_count": null,
   "id": "53de1554-319d-47af-80a3-9c2fc604fd82",
   "metadata": {},
   "outputs": [],
   "source": [
    "import MeCab\n",
    "\n",
    "# MeCab + UniDicを使って漢字文から音読みを取得する関数\n",
    "def get_onyomi(text):\n",
    "    try:\n",
    "        mecab = MeCab.Tagger('-d /path/to/unidic')  # UniDicのパスを指定してください\n",
    "        node = mecab.parse(text)\n",
    "        onyomi_text = ''\n",
    "        \n",
    "        while node:\n",
    "            features = node.feature.split(',')\n",
    "            if len(features) > 7 and features[0] == '名詞' and features[1] == '固有名詞':\n",
    "                onyomi_text += features[7] if features[7] != '*' else node.surface\n",
    "            else:\n",
    "                onyomi_text += node.surface\n",
    "\n",
    "            node = node.next\n",
    "\n",
    "        return onyomi_text\n",
    "\n",
    "    except Exception as e:\n",
    "        print('エラー:', e)\n",
    "        return None\n",
    "\n",
    "# 漢字文を入力\n",
    "input_text = '漢字文を入力してください。'\n",
    "# 音読みに変換\n",
    "result = get_onyomi(input_text)\n",
    "print(result)  # 出力例: '漢字文をニュウリョクシテクダサイ。'"
   ]
  },
  {
   "cell_type": "markdown",
   "id": "6a8e1330-dc6c-451d-bae1-7d1e9f1f39cd",
   "metadata": {},
   "source": [
    "---\n",
    "[Juman++](https://github.com/ku-nlp/jumanpp)"
   ]
  },
  {
   "cell_type": "code",
   "execution_count": null,
   "id": "d6286077-a844-4567-af4c-f39109b8ca28",
   "metadata": {},
   "outputs": [],
   "source": [
    "sudo apt update\n",
    "sudo apt install cmake"
   ]
  },
  {
   "cell_type": "code",
   "execution_count": null,
   "id": "df8135a0-58a7-41ac-9cae-d072610c6d0a",
   "metadata": {},
   "outputs": [],
   "source": [
    "sudo apt update\n",
    "sudo apt install protobuf-compiler libprotobuf-dev"
   ]
  },
  {
   "cell_type": "code",
   "execution_count": null,
   "id": "c21290f5-3622-4ff8-8b8b-42b3d9ac024d",
   "metadata": {},
   "outputs": [],
   "source": [
    "%%bash\n",
    "git clone https://github.com/ku-nlp/jumanpp.git ~/jumanpp"
   ]
  },
  {
   "cell_type": "code",
   "execution_count": null,
   "id": "340b3170-9eaf-4d46-9500-a393eb5b8c93",
   "metadata": {},
   "outputs": [],
   "source": [
    "%%bash\n",
    "mkdir -p ~/jumanpp/build\n",
    "cd ~/jumanpp/build\n",
    "cmake ~/jumanpp -DCMAKE_BUILD_TYPE=Release\n",
    "cd ~/jumanpp\n",
    "sudo make install"
   ]
  },
  {
   "cell_type": "markdown",
   "id": "b80b5f68-d969-40ef-a37f-82c3ffa9745a",
   "metadata": {},
   "source": [
    "---\n",
    "https://github.com/ku-nlp/jumanpp/releases/download/v2.0.0-rc4/jumanpp-2.0.0-rc4.tar.xz"
   ]
  },
  {
   "cell_type": "markdown",
   "id": "effe7138-0d04-468d-b2f4-3377e68642de",
   "metadata": {},
   "source": [
    "---\n",
    "https://lotus.kuee.kyoto-u.ac.jp/nl-resource/jumanpp/jumanpp-1.02.tar.xz"
   ]
  },
  {
   "cell_type": "code",
   "execution_count": null,
   "id": "b54fea4f-4dd7-43b9-a168-1bbda3ff5da1",
   "metadata": {},
   "outputs": [],
   "source": [
    "%%bash\n",
    "cd ~ && wget https://lotus.kuee.kyoto-u.ac.jp/nl-resource/jumanpp/jumanpp-1.02.tar.xz"
   ]
  },
  {
   "cell_type": "code",
   "execution_count": null,
   "id": "d8f9b1d8-0e85-4747-8052-39a9ae0eb459",
   "metadata": {},
   "outputs": [],
   "source": [
    "%%bash\n",
    "cd ~ && tar xJvf ~/jumanpp-1.02.tar.xz"
   ]
  },
  {
   "cell_type": "code",
   "execution_count": null,
   "id": "3af0a8dc-7166-4d1c-a231-2e9ef36c9c9d",
   "metadata": {},
   "outputs": [],
   "source": [
    "%%bash\n",
    "sudo apt update\n",
    "sudo apt install libboost-all-dev"
   ]
  },
  {
   "cell_type": "code",
   "execution_count": null,
   "id": "3904f381-f396-42db-bfb4-3fcbb4b868f9",
   "metadata": {},
   "outputs": [],
   "source": [
    "%%bash\n",
    "cd ~/jumanpp-1.02\n",
    "./configure\n",
    "make\n",
    "sudo make install"
   ]
  },
  {
   "cell_type": "markdown",
   "id": "1eb166f5-32c0-4b43-aea8-a5a7c4f07ab1",
   "metadata": {},
   "source": [
    "---"
   ]
  },
  {
   "cell_type": "code",
   "execution_count": null,
   "id": "b9976d33-47d3-4cca-85a8-17eca1485baf",
   "metadata": {},
   "outputs": [
    {
     "name": "stdout",
     "output_type": "stream",
     "text": [
      "Defaulting to user installation because normal site-packages is not writeable\n",
      "Requirement already satisfied: pyknp in /home/jupyter-saintway/.local/lib/python3.9/site-packages (0.6.1)\n",
      "Requirement already satisfied: six in /home/jupyter-saintway/.local/lib/python3.9/site-packages (from pyknp) (1.16.0)\n"
     ]
    }
   ],
   "source": [
    "%%bash\n",
    "pip install pyknp"
   ]
  },
  {
   "cell_type": "code",
   "execution_count": null,
   "id": "6b9d3100-7461-44df-89f8-197eee1697cb",
   "metadata": {},
   "outputs": [],
   "source": [
    "from pyknp import Juman\n",
    "\n",
    "juman = Juman()"
   ]
  },
  {
   "cell_type": "code",
   "execution_count": null,
   "id": "69177032-a185-45ef-8322-5e2a96c29f94",
   "metadata": {},
   "outputs": [
    {
     "name": "stderr",
     "output_type": "stream",
     "text": [
      "Analysis is done ignoring \"\\n\".\n"
     ]
    }
   ],
   "source": [
    "result = juman.analysis('''啓21:3　……見よ、神の幕屋が人と共にある．神は彼らと共に幕屋を張り……\n",
    "22　わたしはその中に宮を見なかった．主なる神、全能者と小羊が、その宮だからである。\n",
    "\n",
    "　わたしは七十年以上を費やして聖書を学びましたが、ごく最近になって、聖書が実はただ一つの事、すなわち宇宙的な合併を明らかにしていることを見ました。目的を持つ神にはエコノミーがあり、彼は彼のエコノミーの中で、宇宙的な合併を持つことを意図されます。\n",
    "　わたしたちは、新エルサレムが神のエコノミーの目標であることを見てきましたが、新エルサレムが一つの合併であることを見ませんでした。啓示録第21章2節で使徒ヨハネは、「わたしはまた聖なる都、新エルサレム……を見た」と言い、次の節では「神の幕屋」としての新エルサレムについて語っています。神の幕屋として、新エルサレムは神の住まいであり、……［また］宇宙的な合併です。（リー全集、1994年―1997年、第5巻（下）、「御父により神聖な栄光をもってキリストの栄光が現されたことの結果」、第4編）''')"
   ]
  },
  {
   "cell_type": "code",
   "execution_count": null,
   "id": "42817708-2272-4dfc-8a0a-61e222b21ca4",
   "metadata": {},
   "outputs": [
    {
     "data": {
      "text/plain": [
       "'啓・21・:・3・\\u3000・……・見よ・、・神・の・幕屋・が・人・と・共に・ある・．・神・は・彼・ら・と・共に・幕屋・を・張り・……・22・\\u3000・わたし・は・その・中・に・宮・を・見・なかった・．・主なる・神・、・全・能・者・と・小・羊・が・、・その・宮・だ・から・である・。・\\u3000・わたし・は・七十・年・以上・を・費やして・聖書・を・学び・ました・が・、・ごく・最近・に・なって・、・聖書・が・実は・ただ・一・つ・の・事・、・すなわち・宇宙・的な・合併・を・明らかに・して・いる・こと・を・見・ました・。・目的・を・持つ・神・に・は・エコノミー・が・あり・、・彼・は・彼・の・エコノミー・の・中・で・、・宇宙・的な・合併・を・持つ・こと・を・意図・さ・れ・ます・。・\\u3000・わたし・たち・は・、・新・エルサレム・が・神・の・エコノミー・の・目標・である・こと・を・見て・き・ました・が・、・新・エルサレム・が・一・つ・の・合併・である・こと・を・見・ませ・ん・でした・。・啓示・録・第・21・章・2・節・で・使徒・ヨハネ・は・、・「・わたし・は・また・聖なる・都・、・新・エルサレム・……・を・見た・」・と・言い・、・次の・節・で・は・「・神・の・幕屋・」・と・して・の・新・エルサレム・に・ついて・語って・い・ます・。・神・の・幕屋・と・して・、・新・エルサレム・は・神・の・住まい・であり・、・……・［・また・］・宇宙・的な・合併・です・。・（・リー・全集・、・1994・年・―・1997・年・、・第・5・巻・（・下・）・、・「・御・父・に・より・神聖な・栄光・を・もって・キリスト・の・栄光・が・現さ・れた・こと・の・結果・」・、・第・4・編・）'"
      ]
     },
     "execution_count": null,
     "metadata": {},
     "output_type": "execute_result"
    }
   ],
   "source": [
    "'・'.join([mrph.midasi for mrph in result.mrph_list()])"
   ]
  },
  {
   "cell_type": "code",
   "execution_count": null,
   "id": "da8f02fe-9452-4005-a324-65c042720e9b",
   "metadata": {},
   "outputs": [
    {
     "data": {
      "text/plain": [
       "'ひらく・21・:・3・\\u3000・……・みよ・、・かみ・の・まくや・が・じん・と・ともに・ある・．・かみ・は・かれ・ら・と・ともに・まくや・を・はり・……・22・\\u3000・わたし・は・その・なか・に・みや・を・み・なかった・．・おもなる・かみ・、・ぜん・のう・しゃ・と・しょう・ひつじ・が・、・その・みや・だ・から・である・。・\\u3000・わたし・は・七十・ねん・いじょう・を・ついやして・せいしょ・を・まなび・ました・が・、・ごく・さいきん・に・なって・、・せいしょ・が・じつは・ただ・一・つ・の・じ・、・すなわち・うちゅう・てきな・がっぺい・を・あきらかに・して・いる・こと・を・み・ました・。・もくてき・を・もつ・かみ・に・は・エコノミー・が・あり・、・かれ・は・かれ・の・エコノミー・の・なか・で・、・うちゅう・てきな・がっぺい・を・もつ・こと・を・いと・さ・れ・ます・。・\\u3000・わたし・たち・は・、・しん・えるされむ・が・かみ・の・エコノミー・の・もくひょう・である・こと・を・みて・き・ました・が・、・しん・えるされむ・が・一・つ・の・がっぺい・である・こと・を・み・ませ・ん・でした・。・けいじ・ろく・だい・21・しょう・2・せつ・で・しと・ヨハネ・は・、・「・わたし・は・また・せいなる・と・、・しん・えるされむ・……・を・みた・」・と・いい・、・つぎの・せつ・で・は・「・かみ・の・まくや・」・と・して・の・しん・えるされむ・に・ついて・かたって・い・ます・。・かみ・の・まくや・と・して・、・しん・えるされむ・は・かみ・の・すまい・であり・、・……・［・また・］・うちゅう・てきな・がっぺい・です・。・（・りー・ぜんしゅう・、・1994・ねん・―・1997・ねん・、・だい・5・ま・（・した・）・、・「・ご・ちち・に・より・しんせいな・えいこう・を・もって・キリスト・の・えいこう・が・あらわさ・れた・こと・の・けっか・」・、・だい・4・へん・）'"
      ]
     },
     "execution_count": null,
     "metadata": {},
     "output_type": "execute_result"
    }
   ],
   "source": [
    "'・'.join([mrph.yomi for mrph in result.mrph_list()])"
   ]
  },
  {
   "cell_type": "code",
   "execution_count": null,
   "id": "7a32adb0-0ddb-4336-8718-ab69f9d5edc0",
   "metadata": {},
   "outputs": [],
   "source": [
    "result = juman.analysis('神是信実的，你們乃是爲他所召，進入了他儿子我們主耶穌基督的交通。')"
   ]
  },
  {
   "cell_type": "code",
   "execution_count": null,
   "id": "e8f61970-8b0b-458d-9107-feccf77e3185",
   "metadata": {},
   "outputs": [
    {
     "data": {
      "text/plain": [
       "'神・是信・実・的・，・你們・乃・是・爲他・所・召・，・進入・了・他・儿子・我們・主・耶穌・基督・的・交通・。'"
      ]
     },
     "execution_count": null,
     "metadata": {},
     "output_type": "execute_result"
    }
   ],
   "source": [
    "'・'.join([mrph.midasi for mrph in result.mrph_list()])"
   ]
  },
  {
   "cell_type": "code",
   "execution_count": null,
   "id": "e5d013d9-e04c-4820-b046-2e3e8d78d3e3",
   "metadata": {},
   "outputs": [
    {
     "data": {
      "text/plain": [
       "'かみ・是信・み・てき・，・你們・だい・ぜ・爲他・しょ・めし・，・しんにゅう・りょう・た・儿子・我們・しゅ・耶穌・基督・てき・こうつう・。'"
      ]
     },
     "execution_count": null,
     "metadata": {},
     "output_type": "execute_result"
    }
   ],
   "source": [
    "'・'.join([mrph.yomi for mrph in result.mrph_list()])"
   ]
  },
  {
   "cell_type": "code",
   "execution_count": null,
   "id": "7c3ea248-6283-4261-a4ea-e6cd23776411",
   "metadata": {},
   "outputs": [],
   "source": [
    "result = juman.analysis('神、是、信、実、的，你、們、乃、是、爲、他、所、召，進、入、了、他、儿、子、我、們、主、耶、穌、基、督、的、交、通。')"
   ]
  },
  {
   "cell_type": "code",
   "execution_count": null,
   "id": "b470a401-30fc-4f7d-92c1-20da0c78691a",
   "metadata": {},
   "outputs": [
    {
     "data": {
      "text/plain": [
       "'神・、・是・、・信・、・実・、・的・，・你・、・們・、・乃・、・是・、・爲・、・他・、・所・、・召・，・進・、・入・、・了・、・他・、・儿・、・子・、・我・、・們・、・主・、・耶・、・穌・、・基・、・督・、・的・、・交・、・通・。'"
      ]
     },
     "execution_count": null,
     "metadata": {},
     "output_type": "execute_result"
    }
   ],
   "source": [
    "'・'.join([mrph.midasi for mrph in result.mrph_list()])"
   ]
  },
  {
   "cell_type": "code",
   "execution_count": null,
   "id": "de99290c-2710-48bf-b674-d5fa7e18cc69",
   "metadata": {},
   "outputs": [
    {
     "data": {
      "text/plain": [
       "'かみ・、・ぜ・、・しん・、・み・、・てき・，・你・、・們・、・だい・、・ぜ・、・爲・、・ほか・、・しょ・、・めし・，・しん・、・はいり・、・りょう・、・ほか・、・儿・、・し・、・われ・、・們・、・おも・、・耶・、・穌・、・もと・、・督・、・てき・、・交・、・つう・。'"
      ]
     },
     "execution_count": null,
     "metadata": {},
     "output_type": "execute_result"
    }
   ],
   "source": [
    "'・'.join([mrph.yomi for mrph in result.mrph_list()])"
   ]
  },
  {
   "cell_type": "markdown",
   "id": "eee0511d-64ab-4beb-9299-978c994d1da9",
   "metadata": {},
   "source": [
    "---\n",
    "https://codeberg.org/miurahr/pykakasi"
   ]
  },
  {
   "cell_type": "code",
   "execution_count": null,
   "id": "f28ae940-32c1-4a7c-908d-d123cc6ca793",
   "metadata": {},
   "outputs": [
    {
     "name": "stdout",
     "output_type": "stream",
     "text": [
      "Defaulting to user installation because normal site-packages is not writeable\n",
      "Collecting pykakasi\n",
      "  Downloading pykakasi-2.2.1-py3-none-any.whl (2.4 MB)\n",
      "Collecting jaconv\n",
      "  Downloading jaconv-0.3.4.tar.gz (16 kB)\n",
      "  Preparing metadata (setup.py): started\n",
      "  Preparing metadata (setup.py): finished with status 'done'\n",
      "Collecting deprecated\n",
      "  Downloading Deprecated-1.2.14-py2.py3-none-any.whl (9.6 kB)\n",
      "Requirement already satisfied: wrapt<2,>=1.10 in /home/jupyter-saintway/.local/lib/python3.9/site-packages (from deprecated->pykakasi) (1.15.0)\n",
      "Building wheels for collected packages: jaconv\n",
      "  Building wheel for jaconv (setup.py): started\n",
      "  Building wheel for jaconv (setup.py): finished with status 'done'\n",
      "  Created wheel for jaconv: filename=jaconv-0.3.4-py3-none-any.whl size=16415 sha256=ee5ab10be02623d85b0962dad372b01ad36a876b0a7421e27fb0ab4c8bdcff9d\n",
      "  Stored in directory: /home/jupyter-saintway/.cache/pip/wheels/49/de/f1/55f605920db3666d30215331bc85f24686dde9b95b473ae41b\n",
      "Successfully built jaconv\n",
      "Installing collected packages: jaconv, deprecated, pykakasi\n",
      "Successfully installed deprecated-1.2.14 jaconv-0.3.4 pykakasi-2.2.1\n"
     ]
    }
   ],
   "source": [
    "%%bash\n",
    "pip install pykakasi"
   ]
  },
  {
   "cell_type": "code",
   "execution_count": null,
   "id": "404fb952-ef9d-4f14-8480-2ff0689f8f09",
   "metadata": {},
   "outputs": [
    {
     "name": "stdout",
     "output_type": "stream",
     "text": [
      "神・是信・実・的・，・你・們・乃・是・爲・他所・召・，・進入・了・他・儿・子・我們・主・耶穌・基督・的・交通。\n",
      "カミ・ゼシン・ミ・テキ・，・・ラ・ノ・コレ・タメ・タショ・ショウ・，・シンニュウ・リョウ・ホカ・ニン・コ・ワレラ・シュ・ヤソ・キリスト・テキ・コウツウ。\n"
     ]
    }
   ],
   "source": [
    "from pykakasi import kakasi\n",
    "\n",
    "kakasi = kakasi()\n",
    "\n",
    "kanji_word = '神是信実的，你們乃是爲他所召，進入了他儿子我們主耶穌基督的交通。'\n",
    "kana_reading = kakasi.convert(kanji_word)\n",
    "\n",
    "print('・'.join([item['orig'] for item in kana_reading]))\n",
    "print('・'.join([item['kana'] for item in kana_reading]))"
   ]
  },
  {
   "cell_type": "code",
   "execution_count": null,
   "id": "c564d47f",
   "metadata": {},
   "outputs": [
    {
     "name": "stdout",
     "output_type": "stream",
     "text": [
      "神［カミ］是信［ゼシン］実［ミ］的［テキ］，［，］你［］們［ラ］乃［ノ］是［コレ］爲［タメ］他所［タショ］召［ショウ］，［，］進入［シンニュウ］了［リョウ］他［ホカ］儿［ニン］子［コ］我們［ワレラ］主［シュ］耶穌［ヤソ］基督［キリスト］的［テキ］交通。［コウツウ。］\n"
     ]
    }
   ],
   "source": [
    "import pykakasi\n",
    "kks = pykakasi.kakasi()\n",
    "text = '神是信実的，你們乃是爲他所召，進入了他儿子我們主耶穌基督的交通。'\n",
    "result = kks.convert(text)\n",
    "print(\n",
    "    ''.join(\n",
    "        '{}［{}］'.format(\n",
    "            item['orig'],\n",
    "            item['kana']\n",
    "        ) for item in result\n",
    "    )\n",
    ")"
   ]
  },
  {
   "cell_type": "code",
   "execution_count": null,
   "id": "7adefbda",
   "metadata": {},
   "outputs": [
    {
     "name": "stdout",
     "output_type": "stream",
     "text": [
      "神［kami］是信［zeshin］実［mi］的［teki］，［,］你［］們［ra］乃［no］是［kore］爲［tame］他所［tasho］召［shou］，［,］進入［shinnyuu］了［ryou］他［hoka］儿［nin］子［ko］我們［warera］主［shu］耶穌［yaso］基督［kirisuto］的［teki］交通。［koutsuu.］\n"
     ]
    }
   ],
   "source": [
    "import pykakasi\n",
    "kks = pykakasi.kakasi()\n",
    "text = '神是信実的，你們乃是爲他所召，進入了他儿子我們主耶穌基督的交通。'\n",
    "result = kks.convert(text)\n",
    "print(\n",
    "    ''.join(\n",
    "        '{}［{}］'.format(\n",
    "            item['orig'],\n",
    "            item['hepburn']\n",
    "        ) for item in result\n",
    "    )\n",
    ")"
   ]
  },
  {
   "cell_type": "code",
   "execution_count": null,
   "id": "f6d57f97",
   "metadata": {},
   "outputs": [
    {
     "name": "stdout",
     "output_type": "stream",
     "text": [
      "抱［ホウ］歉［ケン］，［，］昨［サク］天［テン］太［タ］忙［ボウ］了。［リョウ。］\n"
     ]
    }
   ],
   "source": [
    "import pykakasi\n",
    "kks = pykakasi.kakasi()\n",
    "text = '抱歉，昨天太忙了。'\n",
    "result = kks.convert(text)\n",
    "print(\n",
    "    ''.join(\n",
    "        '{}［{}］'.format(\n",
    "            item['orig'],\n",
    "            item['kana']\n",
    "        ) for item in result\n",
    "    )\n",
    ")"
   ]
  },
  {
   "cell_type": "code",
   "execution_count": null,
   "id": "1d871909",
   "metadata": {},
   "outputs": [
    {
     "name": "stdout",
     "output_type": "stream",
     "text": [
      "我［ワレ］聚會［シュウカイ］完了。［カンリョウ。］我［ワレ］現在［ゲンザイ］在［ザイ］超［チョウ］市。［シ。］\n"
     ]
    }
   ],
   "source": [
    "import pykakasi\n",
    "kks = pykakasi.kakasi()\n",
    "text = '我聚會完了。我現在在超市。'\n",
    "result = kks.convert(text)\n",
    "print(\n",
    "    ''.join(\n",
    "        '{}［{}］'.format(\n",
    "            item['orig'],\n",
    "            item['kana']\n",
    "        ) for item in result\n",
    "    )\n",
    ")"
   ]
  },
  {
   "cell_type": "code",
   "execution_count": null,
   "id": "a54297a6",
   "metadata": {},
   "outputs": [
    {
     "name": "stdout",
     "output_type": "stream",
     "text": [
      "用［ヨウ］這［シャ］個［コ］輸入［ユニュウ］法的［ホウテキ］日語［ニチゴ］輸入［ユニュウ］漢字［カンジ］比較［ヒカク］方便。［ホウベン。］\n"
     ]
    }
   ],
   "source": [
    "import pykakasi\n",
    "kks = pykakasi.kakasi()\n",
    "text = '用這個輸入法的日語輸入漢字比較方便。'\n",
    "result = kks.convert(text)\n",
    "print(\n",
    "    ''.join(\n",
    "        '{}［{}］'.format(\n",
    "            item['orig'],\n",
    "            item['kana']\n",
    "        ) for item in result\n",
    "    )\n",
    ")"
   ]
  },
  {
   "cell_type": "code",
   "execution_count": null,
   "id": "f50a3a81",
   "metadata": {},
   "outputs": [
    {
     "name": "stdout",
     "output_type": "stream",
     "text": [
      "\n",
      "［］主［シュ］啊［］，［，］我［ワレ］與［ヨ］盛［ジョウ］偉［イ］願意［ガンイ］全心［ゼンシン］全［ゼン］意［イ］追［ツイ］隨［ズイ］你［］\n",
      "［］你［］願意［ガンイ］讓［ユズル］你［］在［ザイ］我們［ワレラ］裡面［リメン］書寫［ショシャ］神聖［シンセイ］的［テキ］歷史。［レキシ。］\n",
      "［］\n"
     ]
    }
   ],
   "source": [
    "import pykakasi\n",
    "kks = pykakasi.kakasi()\n",
    "text = '''\n",
    "主啊，我與盛偉願意全心全意追隨你\n",
    "願意讓你在我們裡面書寫神聖的歷史。\n",
    "'''\n",
    "result = kks.convert(text)\n",
    "print(\n",
    "    ''.join(\n",
    "        '{}［{}］'.format(\n",
    "            item['orig'],\n",
    "            item['kana']\n",
    "        ) for item in result\n",
    "    )\n",
    ")"
   ]
  },
  {
   "cell_type": "code",
   "execution_count": null,
   "id": "1faa94cc",
   "metadata": {},
   "outputs": [
    {
     "name": "stdout",
     "output_type": "stream",
     "text": [
      "\n",
      "［］我們［ワレラ］早［ソウ］點［テン］學會［ガッカイ］這［シャ］種［タネ］偽［ニセ］日本語。［ニホンゴ。］我們［ワレラ］可［カ］以［イ］用［ヨウ］偽［ニセ］日本語［ニホンゴ］交［コウ］談。［ダン。］沒［ボツ］有人［ユウジン］能［ノウ］夠［］聽［チョウ］懂。［。］\n",
      "［］\n"
     ]
    }
   ],
   "source": [
    "import pykakasi\n",
    "kks = pykakasi.kakasi()\n",
    "text = '''\n",
    "我們早點學會這種偽日本語。我們可以用偽日本語交談。沒有人能夠聽懂。\n",
    "'''\n",
    "result = kks.convert(text)\n",
    "print(\n",
    "    ''.join(\n",
    "        '{}［{}］'.format(\n",
    "            item['orig'],\n",
    "            item['kana']\n",
    "        ) for item in result\n",
    "    )\n",
    ")"
   ]
  },
  {
   "cell_type": "code",
   "execution_count": null,
   "id": "03032517",
   "metadata": {},
   "outputs": [
    {
     "name": "stdout",
     "output_type": "stream",
     "text": [
      "\n",
      "［］### ［### ］三［サン］ ［］三［サン］ ［ ］憑［ヒョウ］著［チョ］眾［］召［ショウ］會［カイ］在［ザイ］基督［キリスト］身體［シンタイ］里［サト］的［テキ］交通［コウツウ］，［，］平安［ヘイアン］的［テキ］神［カミ］就［シュウ］要［ヨウ］將［ショウ］撒［サン］但［タダ］踐［セン］踏［トウ］在［ザイ］我們［ワレラ］的［テキ］腳［］下［シタ］——［——］羅［ラ］十六［ジュウロク］20。［20。］\n",
      "［］\n",
      "［］## **［## **］陸［リク］ ［］陸［リク］ ［ ］羅馬［ローマ］十六［ジュウロク］章［ショウ］給［キュウ］了［リョウ］我們［ワレラ］使徒［シト］保羅［ポール］絕［］佳［カ］的［テキ］榜［ボウ］樣［サマ］，［，］他［ホカ］將［ショウ］眾［］聖徒［セイト］帶［オビ］到［トウ］基督［キリスト］身體全體［シンタイゼンタイ］相［ソウ］調［チョウ］的［テキ］生活［セイカツ］中［ナカ］；［］中［ナカ］乃［ノ］是［コレ］在［ザイ］這［シャ］樣［サマ］的［テキ］生活［セイカツ］中［ナカ］，［，］我們［ワレラ］才能［サイノウ］真正［シンセイ］地［チ］在生［ザイショウ］命中［メイチュウ］作［サク］王［オウ］——［——］五［ゴ］17［17］：［：］**［**］\n",
      "［］**［**］\n",
      "［］**### ［**### ］一［イチ］ ［］一［イチ］ ［ ］保羅［ポール］對［ツイ］聖徒［セイト］一一［イチイチ］提［テイ］名［メイ］問［トン］安［アン］，［，］至［イタ］少［ショウ］有二［ユウジ］十［ジュウ］七個［ナナコ］名字［ミョウジ］；［］名字［ミョウジ］這［シャ］給［キュウ］我們［ワレラ］看［カン］見［ケン］，［，］他［ホカ］對［ツイ］每［］一位［イチイ］聖徒［セイト］都［ミヤコ］相當［ソウトウ］的［テキ］認識、［ニンシキ、］瞭［リョウ］解、［カイ、］關心［カンシン］——［——］十六［ジュウロク］1［1］～［～］16。［16。］\n",
      "［］\n",
      "［］### ［### ］二［ニ］ ［］二［ニ］ ［ ］保羅［ポール］的［テキ］推薦［スイセン］與［ヨ］問［トン］安［アン］表［オモテ］達［トオル］眾［］聖徒［セイト］之［ユキ］間［カン］相互［ソウゴ］的［テキ］關［カン］切［セツ］，［，］以［イ］及［キュウ］眾［］召［ショウ］會［カイ］之［ユキ］間［カン］相互［ソウゴ］的［テキ］交通［コウツウ］——［——］參［サン］西［ニシ］四［シ］15［15］～［～］16。［16。］\n",
      "［］\n"
     ]
    }
   ],
   "source": [
    "import pykakasi\n",
    "kks = pykakasi.kakasi()\n",
    "text = '''\n",
    "### 三  憑著眾召會在基督身體里的交通，平安的神就要將撒但踐踏在我們的腳下——羅十六20。\n",
    "\n",
    "## **陸  羅馬十六章給了我們使徒保羅絕佳的榜樣，他將眾聖徒帶到基督身體全體相調的生活中；乃是在這樣的生活中，我們才能真正地在生命中作王——五17：**\n",
    "\n",
    "### 一  保羅對聖徒一一提名問安，至少有二十七個名字；這給我們看見，他對每一位聖徒都相當的認識、瞭解、關心——十六1～16。\n",
    "\n",
    "### 二  保羅的推薦與問安表達眾聖徒之間相互的關切，以及眾召會之間相互的交通——參西四15～16。\n",
    "'''\n",
    "result = kks.convert(text)\n",
    "print(\n",
    "    ''.join(\n",
    "        '{}［{}］'.format(\n",
    "            item['orig'],\n",
    "            item['kana']\n",
    "        ) for item in result\n",
    "    )\n",
    ")"
   ]
  },
  {
   "cell_type": "markdown",
   "id": "f7b8a2c2",
   "metadata": {},
   "source": [
    "---\n",
    "[Unihan](https://unicode.org/charts/unihan.html)"
   ]
  },
  {
   "cell_type": "code",
   "execution_count": null,
   "id": "bfd61b90",
   "metadata": {},
   "outputs": [],
   "source": [
    "%%bash\n",
    "pip install unihan-etl"
   ]
  },
  {
   "cell_type": "code",
   "execution_count": null,
   "id": "497ef873",
   "metadata": {},
   "outputs": [],
   "source": [
    "%%bash\n",
    "pip install cihai"
   ]
  },
  {
   "cell_type": "code",
   "execution_count": null,
   "id": "7ee273e7",
   "metadata": {},
   "outputs": [
    {
     "name": "stderr",
     "output_type": "stream",
     "text": [
      "Exists, but is not a file: /home/jupyter-saintway/.cache/unihan_etl/downloads/Unihan.zip\n",
      "Downloading Unihan.zip...\n",
      "http://www.unicode.org/Public/UNIDATA/Unihan.zip to /home/jupyter-saintway/.cache/unihan_etl/downloads/Unihan.zip\n"
     ]
    },
    {
     "name": "stdout",
     "output_type": "stream",
     "text": [
      "Total size: 8.0Mb\n",
      "100% [==================================================>]\r"
     ]
    },
    {
     "name": "stderr",
     "output_type": "stream",
     "text": [
      "extract_zip dest dir: /home/jupyter-saintway/.cache/unihan_etl/downloads\n"
     ]
    },
    {
     "name": "stdout",
     "output_type": "stream",
     "text": [
      "\n",
      "\n"
     ]
    },
    {
     "name": "stderr",
     "output_type": "stream",
     "text": [
      "Loading data: /home/jupyter-saintway/.cache/unihan_etl/downloads/Unihan_DictionaryLikeData.txt, /home/jupyter-saintway/.cache/unihan_etl/downloads/Unihan_IRGSources.txt, /home/jupyter-saintway/.cache/unihan_etl/downloads/Unihan_NumericValues.txt, /home/jupyter-saintway/.cache/unihan_etl/downloads/Unihan_RadicalStrokeCounts.txt, /home/jupyter-saintway/.cache/unihan_etl/downloads/Unihan_Readings.txt, /home/jupyter-saintway/.cache/unihan_etl/downloads/Unihan_Variants.txt\n",
      "Done loading data.\n",
      "Collecting field data...\n"
     ]
    },
    {
     "name": "stdout",
     "output_type": "stream",
     "text": [
      "lookup for 好: good, excellent, fine; well\n",
      "matches for \"good\": 㑘, 㑤, 㓛, 㘬, 㙉, 㚃, 㚒, 㚥, 㛦, 㜴, 㜺, 㝖, 㤛, 㦝, 㫑, 㭋, 㰬, 㱅, 㱡, 㳤, 㹏, 㹛, 㽥, 㾎, 㿲, 䃽, 䄈, 䄉, 䄐, 䄙, 䋬, 䌖, 䌝, 䌤, 䌧, 䌳, 䏂, 䐌, 䐚, 䑞, 䒁, 䒏, 䒐, 䙤, 䚱, 䚷, 䚸, 䜴, 䝕, 䝨, 䢇, 䣨, 䣩, 䤒, 䩂, 䩇, 䩊, 䫑, 䫢, 䮐, 䯭, 䱼, 䴆, 佳, 佼, 功, 吉, 咊, 善, 塡, 填, 好, 姤, 姽, 娥, 宓, 昌, 淑, 祉, 祥, 祦, 祯, 祺, 禎, 福, 禔, 禨, 羑, 羭, 腆, 臧, 良, 貨, 賍, 賢, 贒, 贓, 贜, 贤, 货, 赃, 醇, 頔, 顓, 颛, 餱, 𠿭, 𡠜, 𦈟, 𬱖, 良, 祥, 𦈜, 𫗯, 𫲗, 𬥄, 𰷭 \n"
     ]
    }
   ],
   "source": [
    "from cihai.core import Cihai\n",
    "\n",
    "c = Cihai()\n",
    "\n",
    "if not c.unihan.is_bootstrapped:  # download and install Unihan to db\n",
    "    c.unihan.bootstrap()\n",
    "\n",
    "query = c.unihan.lookup_char('好')\n",
    "glyph = query.first()\n",
    "print(\"lookup for 好: %s\" % glyph.kDefinition)\n",
    "# lookup for 好: good, excellent, fine; well\n",
    "\n",
    "query = c.unihan.reverse_char('good')\n",
    "print('matches for \"good\": %s ' % ', '.join([glph.char for glph in query]))\n",
    "# matches for \"good\": 㑘, 㑤, 㓛, 㘬, 㙉, 㚃, 㚒, 㚥, 㛦, 㜴, 㜺, 㝖, 㤛, 㦝, ..."
   ]
  },
  {
   "cell_type": "code",
   "execution_count": null,
   "id": "2ac401ff",
   "metadata": {},
   "outputs": [],
   "source": [
    "from cihai.core import Cihai\n",
    "\n",
    "c = Cihai()\n",
    "\n",
    "if not c.unihan.is_bootstrapped:  # download and install Unihan to db\n",
    "    c.unihan.bootstrap()\n",
    "\n",
    "query = c.unihan.lookup_char('讀')\n",
    "glyph = query.first()"
   ]
  },
  {
   "cell_type": "code",
   "execution_count": null,
   "id": "a2ee1ff8",
   "metadata": {},
   "outputs": [
    {
     "data": {
      "text/plain": [
       "'YOMU'"
      ]
     },
     "execution_count": null,
     "metadata": {},
     "output_type": "execute_result"
    }
   ],
   "source": [
    "glyph.kJapaneseKun"
   ]
  },
  {
   "cell_type": "code",
   "execution_count": null,
   "id": "5f1c52a8",
   "metadata": {},
   "outputs": [
    {
     "data": {
      "text/plain": [
       "'TOKU TOU DOKU'"
      ]
     },
     "execution_count": null,
     "metadata": {},
     "output_type": "execute_result"
    }
   ],
   "source": [
    "glyph.kJapaneseOn"
   ]
  },
  {
   "cell_type": "code",
   "execution_count": null,
   "id": "ec5ad922",
   "metadata": {},
   "outputs": [],
   "source": [
    "glyph.kRSJapanese"
   ]
  },
  {
   "cell_type": "code",
   "execution_count": null,
   "id": "27bd701a",
   "metadata": {},
   "outputs": [],
   "source": [
    "glyph.kZVariant"
   ]
  },
  {
   "cell_type": "code",
   "execution_count": null,
   "id": "9555a3ba",
   "metadata": {},
   "outputs": [],
   "source": [
    "glyph.kSemanticVariant"
   ]
  },
  {
   "cell_type": "code",
   "execution_count": null,
   "id": "e8bcb7ce",
   "metadata": {},
   "outputs": [
    {
     "data": {
      "text/plain": [
       "'U+8BFB'"
      ]
     },
     "execution_count": null,
     "metadata": {},
     "output_type": "execute_result"
    }
   ],
   "source": [
    "glyph.kSimplifiedVariant"
   ]
  },
  {
   "cell_type": "code",
   "execution_count": null,
   "id": "e679c1bc",
   "metadata": {},
   "outputs": [
    {
     "data": {
      "text/plain": [
       "'U+8B80'"
      ]
     },
     "execution_count": null,
     "metadata": {},
     "output_type": "execute_result"
    }
   ],
   "source": [
    "glyph.kTraditionalVariant"
   ]
  },
  {
   "cell_type": "code",
   "execution_count": null,
   "id": "811bbd84",
   "metadata": {},
   "outputs": [],
   "source": [
    "glyph.kCompatibilityVariant"
   ]
  },
  {
   "cell_type": "code",
   "execution_count": null,
   "id": "514fbaeb",
   "metadata": {},
   "outputs": [],
   "source": [
    "glyph.kSpecializedSemanticVariant"
   ]
  },
  {
   "cell_type": "code",
   "execution_count": null,
   "id": "2ae7b0d3",
   "metadata": {},
   "outputs": [
    {
     "data": {
      "text/plain": [
       "['__abstract__',\n",
       " '__annotations__',\n",
       " '__class__',\n",
       " '__delattr__',\n",
       " '__dict__',\n",
       " '__dir__',\n",
       " '__doc__',\n",
       " '__eq__',\n",
       " '__format__',\n",
       " '__ge__',\n",
       " '__getattribute__',\n",
       " '__gt__',\n",
       " '__hash__',\n",
       " '__init__',\n",
       " '__init_subclass__',\n",
       " '__le__',\n",
       " '__lt__',\n",
       " '__mapper__',\n",
       " '__module__',\n",
       " '__ne__',\n",
       " '__new__',\n",
       " '__reduce__',\n",
       " '__reduce_ex__',\n",
       " '__repr__',\n",
       " '__setattr__',\n",
       " '__sizeof__',\n",
       " '__str__',\n",
       " '__subclasshook__',\n",
       " '__table__',\n",
       " '__weakref__',\n",
       " '_sa_automapbase_bookkeeping',\n",
       " '_sa_class_manager',\n",
       " '_sa_decl_prepare',\n",
       " '_sa_instance_state',\n",
       " '_sa_raise_deferred_config',\n",
       " '_sa_registry',\n",
       " 'by_module',\n",
       " 'char',\n",
       " 'classes',\n",
       " 'kAccountingNumeric',\n",
       " 'kCangjie',\n",
       " 'kCantonese',\n",
       " 'kCheungBauer',\n",
       " 'kCihaiT',\n",
       " 'kCompatibilityVariant',\n",
       " 'kDefinition',\n",
       " 'kFenn',\n",
       " 'kFourCornerCode',\n",
       " 'kFrequency',\n",
       " 'kGradeLevel',\n",
       " 'kHDZRadBreak',\n",
       " 'kHKGlyph',\n",
       " 'kHangul',\n",
       " 'kHanyuPinlu',\n",
       " 'kHanyuPinyin',\n",
       " 'kJapaneseKun',\n",
       " 'kJapaneseOn',\n",
       " 'kKorean',\n",
       " 'kMandarin',\n",
       " 'kOtherNumeric',\n",
       " 'kPhonetic',\n",
       " 'kPrimaryNumeric',\n",
       " 'kRSAdobe_Japan1_6',\n",
       " 'kRSJapanese',\n",
       " 'kRSKanWa',\n",
       " 'kRSKangXi',\n",
       " 'kRSKorean',\n",
       " 'kRSUnicode',\n",
       " 'kSemanticVariant',\n",
       " 'kSimplifiedVariant',\n",
       " 'kSpecializedSemanticVariant',\n",
       " 'kTang',\n",
       " 'kTotalStrokes',\n",
       " 'kTraditionalVariant',\n",
       " 'kVietnamese',\n",
       " 'kXHC1983',\n",
       " 'kZVariant',\n",
       " 'metadata',\n",
       " 'prepare',\n",
       " 'registry',\n",
       " 'ucn']"
      ]
     },
     "execution_count": null,
     "metadata": {},
     "output_type": "execute_result"
    }
   ],
   "source": [
    "dir(glyph)"
   ]
  }
 ],
 "metadata": {
  "kernelspec": {
   "display_name": "Python 3 (ipykernel)",
   "language": "python",
   "name": "python3"
  }
 },
 "nbformat": 4,
 "nbformat_minor": 5
}
