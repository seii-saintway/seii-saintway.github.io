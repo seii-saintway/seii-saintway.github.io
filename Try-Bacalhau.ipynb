{
 "cells": [
  {
   "cell_type": "markdown",
   "metadata": {},
   "source": [
    "* [Bacalhau Examples](https://github.com/bacalhau-project/examples)\n",
    "* [CLI Commands](https://docs.bacalhau.org/all-flags/)\n",
    "* [Running Locally](https://github.com/filecoin-project/bacalhau/blob/main/docs/running_locally.md)"
   ]
  },
  {
   "cell_type": "markdown",
   "metadata": {},
   "source": [
    "* [Molecular Dynamics with Bacalhau](https://github.com/bacalhau-project/examples/tree/main/molecular-dynamics/Gromacs/index.ipynb)"
   ]
  },
  {
   "cell_type": "markdown",
   "metadata": {},
   "source": [
    "* [GROMACS](https://manual.gromacs.org/documentation/current/user-guide/index.html) is a package for high-performance molecular dynamics and output analysis.\n",
    "* [Kipoi: Model zoo for genomics](https://github.com/kipoi/kipoi)"
   ]
  },
  {
   "cell_type": "markdown",
   "metadata": {},
   "source": [
    "* [Get Docker](https://docs.docker.com/get-docker/)\n",
    "* [Getting Started with Bacalhau](https://docs.bacalhau.org/getting-started/installation/)"
   ]
  },
  {
   "cell_type": "code",
   "execution_count": null,
   "metadata": {},
   "outputs": [
    {
     "name": "stdout",
     "output_type": "stream",
     "text": [
      "Your system is darwin_amd64\n",
      "No BACALHAU detected. Installing fresh BACALHAU CLI...\n",
      "Getting the latest BACALHAU CLI...\n",
      "Installing v0.3.3 BACALHAU CLI...\n",
      "Downloading https://github.com/filecoin-project/bacalhau/releases/download/v0.3.3/bacalhau_v0.3.3_darwin_amd64.tar.gz ...\n",
      "Downloading sig file https://github.com/filecoin-project/bacalhau/releases/download/v0.3.3/bacalhau_v0.3.3_darwin_amd64.tar.gz.signature.sha256 ...\n",
      "Verified OK\n",
      "Extracting tarball ...\n",
      "NOT verifying Bin\n",
      "bacalhau installed into /usr/local/bin successfully.\n",
      "Client Version: v0.3.3\n",
      "Server Version: v0.3.3\n"
     ]
    }
   ],
   "source": [
    "curl -sL https://get.bacalhau.org/install.sh | bash"
   ]
  },
  {
   "cell_type": "code",
   "execution_count": null,
   "metadata": {},
   "outputs": [
    {
     "name": "stdout",
     "output_type": "stream",
     "text": [
      "Client Version: v0.3.3\n",
      "Server Version: v0.3.3\n"
     ]
    }
   ],
   "source": [
    "bacalhau version"
   ]
  }
 ],
 "metadata": {
  "kernelspec": {
   "display_name": "Bash",
   "language": "bash",
   "name": "bash"
  }
 },
 "nbformat": 4,
 "nbformat_minor": 4
}
