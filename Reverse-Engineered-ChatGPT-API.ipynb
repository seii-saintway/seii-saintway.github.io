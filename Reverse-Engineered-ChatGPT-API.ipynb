{
 "cells": [
  {
   "cell_type": "markdown",
   "id": "1664af25-3248-4dcf-a17c-c9c8e922f917",
   "metadata": {},
   "source": [
    "## [ChatGPT 中文指南](https://gitlab.com/awesomeai/awesome-chatgpt-zh.git)"
   ]
  },
  {
   "cell_type": "code",
   "execution_count": null,
   "id": "b2616594-9ca1-4e6d-b122-4b00c9cd5b06",
   "metadata": {},
   "outputs": [],
   "source": [
    "%%bash\n",
    "cd ~ && git clone https://gitlab.com/awesomeai/awesome-chatgpt-zh.git"
   ]
  },
  {
   "cell_type": "markdown",
   "id": "68cb7352-c3d2-44f9-b738-d05418acce81",
   "metadata": {},
   "source": [
    "## [Reverse Engineered ChatGPT API](https://github.com/acheong08/ChatGPT/tree/main/src/revChatGPT)"
   ]
  },
  {
   "cell_type": "code",
   "execution_count": null,
   "id": "7f365f5e-ecde-49cc-a8c6-888e3d015eac",
   "metadata": {},
   "outputs": [
    {
     "name": "stdout",
     "output_type": "stream",
     "text": [
      "Collecting revChatGPT\n",
      "  Downloading revChatGPT-3.3.4-py3-none-any.whl (34 kB)\n",
      "Collecting tiktoken>=0.3.0\n",
      "  Downloading tiktoken-0.3.0-cp310-cp310-macosx_10_9_x86_64.whl (735 kB)\n",
      "\u001b[2K     \u001b[90m━━━━━━━━━━━━━━━━━━━━━━━━━━━━━━━━━━━━━\u001b[0m \u001b[32m735.2/735.2 kB\u001b[0m \u001b[31m735.5 kB/s\u001b[0m eta \u001b[36m0:00:00\u001b[0m00:01\u001b[0m00:01\u001b[0m\n",
      "\u001b[?25hRequirement already satisfied: requests[socks] in /usr/local/anaconda3/envs/biobot/lib/python3.10/site-packages (from revChatGPT) (2.28.1)\n",
      "Collecting OpenAIAuth==0.3.2\n",
      "  Downloading OpenAIAuth-0.3.2-py3-none-any.whl (4.3 kB)\n",
      "Requirement already satisfied: prompt-toolkit in /usr/local/anaconda3/envs/biobot/lib/python3.10/site-packages (from revChatGPT) (3.0.36)\n",
      "Collecting httpx[socks]\n",
      "  Downloading httpx-0.23.3-py3-none-any.whl (71 kB)\n",
      "\u001b[2K     \u001b[90m━━━━━━━━━━━━━━━━━━━━━━━━━━━━━━━━━━━━━━━\u001b[0m \u001b[32m71.5/71.5 kB\u001b[0m \u001b[31m702.3 kB/s\u001b[0m eta \u001b[36m0:00:00\u001b[0ma \u001b[36m0:00:01\u001b[0m\n",
      "\u001b[?25hCollecting blobfile>=2\n",
      "  Downloading blobfile-2.0.1-py3-none-any.whl (73 kB)\n",
      "\u001b[2K     \u001b[90m━━━━━━━━━━━━━━━━━━━━━━━━━━━━━━━━━━━━━━━\u001b[0m \u001b[32m73.5/73.5 kB\u001b[0m \u001b[31m764.2 kB/s\u001b[0m eta \u001b[36m0:00:00\u001b[0ma \u001b[36m0:00:01\u001b[0m\n",
      "\u001b[?25hCollecting regex>=2022.1.18\n",
      "  Downloading regex-2022.10.31-cp310-cp310-macosx_10_9_x86_64.whl (293 kB)\n",
      "\u001b[2K     \u001b[90m━━━━━━━━━━━━━━━━━━━━━━━━━━━━━━━━━━━━━\u001b[0m \u001b[32m293.9/293.9 kB\u001b[0m \u001b[31m815.5 kB/s\u001b[0m eta \u001b[36m0:00:00\u001b[0m00:01\u001b[0m00:01\u001b[0m\n",
      "\u001b[?25hRequirement already satisfied: sniffio in /usr/local/anaconda3/envs/biobot/lib/python3.10/site-packages (from httpx[socks]->revChatGPT) (1.2.0)\n",
      "Collecting rfc3986[idna2008]<2,>=1.3\n",
      "  Downloading rfc3986-1.5.0-py2.py3-none-any.whl (31 kB)\n",
      "Requirement already satisfied: certifi in /usr/local/anaconda3/envs/biobot/lib/python3.10/site-packages (from httpx[socks]->revChatGPT) (2022.12.7)\n",
      "Collecting httpcore<0.17.0,>=0.15.0\n",
      "  Downloading httpcore-0.16.3-py3-none-any.whl (69 kB)\n",
      "\u001b[2K     \u001b[90m━━━━━━━━━━━━━━━━━━━━━━━━━━━━━━━━━━━━━━━\u001b[0m \u001b[32m69.6/69.6 kB\u001b[0m \u001b[31m701.7 kB/s\u001b[0m eta \u001b[36m0:00:00\u001b[0ma \u001b[36m0:00:01\u001b[0m\n",
      "\u001b[?25hCollecting socksio==1.*\n",
      "  Downloading socksio-1.0.0-py3-none-any.whl (12 kB)\n",
      "Requirement already satisfied: wcwidth in /usr/local/anaconda3/envs/biobot/lib/python3.10/site-packages (from prompt-toolkit->revChatGPT) (0.2.5)\n",
      "Requirement already satisfied: urllib3<1.27,>=1.21.1 in /usr/local/anaconda3/envs/biobot/lib/python3.10/site-packages (from requests[socks]->revChatGPT) (1.26.14)\n",
      "Requirement already satisfied: charset-normalizer<3,>=2 in /usr/local/anaconda3/envs/biobot/lib/python3.10/site-packages (from requests[socks]->revChatGPT) (2.0.4)\n",
      "Requirement already satisfied: idna<4,>=2.5 in /usr/local/anaconda3/envs/biobot/lib/python3.10/site-packages (from requests[socks]->revChatGPT) (3.4)\n",
      "Requirement already satisfied: PySocks!=1.5.7,>=1.5.6 in /usr/local/anaconda3/envs/biobot/lib/python3.10/site-packages (from requests[socks]->revChatGPT) (1.7.1)\n",
      "Collecting filelock~=3.0\n",
      "  Downloading filelock-3.9.0-py3-none-any.whl (9.7 kB)\n",
      "Requirement already satisfied: lxml~=4.9 in /usr/local/anaconda3/envs/biobot/lib/python3.10/site-packages (from blobfile>=2->tiktoken>=0.3.0->revChatGPT) (4.9.1)\n",
      "Collecting pycryptodomex~=3.8\n",
      "  Downloading pycryptodomex-3.17-cp35-abi3-macosx_10_9_x86_64.whl (1.6 MB)\n",
      "\u001b[2K     \u001b[90m━━━━━━━━━━━━━━━━━━━━━━━━━━━━━━━━━━━━━━━━\u001b[0m \u001b[32m1.6/1.6 MB\u001b[0m \u001b[31m954.6 kB/s\u001b[0m eta \u001b[36m0:00:00\u001b[0m00:01\u001b[0m00:01\u001b[0m\n",
      "\u001b[?25hCollecting h11<0.15,>=0.13\n",
      "  Downloading h11-0.14.0-py3-none-any.whl (58 kB)\n",
      "\u001b[2K     \u001b[90m━━━━━━━━━━━━━━━━━━━━━━━━━━━━━━━━━━━━━━━\u001b[0m \u001b[32m58.3/58.3 kB\u001b[0m \u001b[31m665.1 kB/s\u001b[0m eta \u001b[36m0:00:00\u001b[0ma \u001b[36m0:00:01\u001b[0m\n",
      "\u001b[?25hRequirement already satisfied: anyio<5.0,>=3.0 in /usr/local/anaconda3/envs/biobot/lib/python3.10/site-packages (from httpcore<0.17.0,>=0.15.0->httpx[socks]->revChatGPT) (3.5.0)\n",
      "Installing collected packages: rfc3986, socksio, regex, pycryptodomex, h11, filelock, OpenAIAuth, httpcore, blobfile, tiktoken, httpx, revChatGPT\n",
      "Successfully installed OpenAIAuth-0.3.2 blobfile-2.0.1 filelock-3.9.0 h11-0.14.0 httpcore-0.16.3 httpx-0.23.3 pycryptodomex-3.17 regex-2022.10.31 revChatGPT-3.3.4 rfc3986-1.5.0 socksio-1.0.0 tiktoken-0.3.0\n"
     ]
    }
   ],
   "source": [
    "%%bash\n",
    "pip install --upgrade revChatGPT"
   ]
  },
  {
   "cell_type": "markdown",
   "id": "81589df7-c195-484a-a917-39461dcc1968",
   "metadata": {},
   "source": [
    "---"
   ]
  },
  {
   "cell_type": "markdown",
   "id": "e6c5059c-9f6a-42fc-8772-be80c502ba0c",
   "metadata": {},
   "source": [
    "💡　get access_token　=> [accessToken](https://chat.openai.com/api/auth/session)"
   ]
  },
  {
   "cell_type": "code",
   "execution_count": null,
   "id": "899b90a3-ad4f-4ab2-bda0-14cdaa176065",
   "metadata": {},
   "outputs": [],
   "source": [
    "from revChatGPT.V1 import Chatbot\n",
    "\n",
    "\n",
    "def gpt_after(parent_id=None):\n",
    "    return Chatbot(\n",
    "        config = {\n",
    "            'access_token': '<access_token>'\n",
    "        },\n",
    "        conversation_id = '<conversation_id>',\n",
    "        parent_id = parent_id\n",
    "    )"
   ]
  },
  {
   "cell_type": "markdown",
   "id": "7ff40bd1-d24b-469f-837a-890953cf8e57",
   "metadata": {},
   "source": [
    "---"
   ]
  },
  {
   "cell_type": "code",
   "execution_count": null,
   "id": "256da102-14f5-49ad-aff9-fd7d1b1819dd",
   "metadata": {},
   "outputs": [],
   "source": [
    "import IPython"
   ]
  },
  {
   "cell_type": "markdown",
   "id": "ad0224b8-7929-4f11-a690-a84b35bf7ca3",
   "metadata": {},
   "source": [
    "---"
   ]
  },
  {
   "cell_type": "code",
   "execution_count": null,
   "id": "6bda799d-c356-4eeb-af6f-72ab8fad1209",
   "metadata": {},
   "outputs": [],
   "source": [
    "for response in gpt_after().ask(\n",
    "    '女孩子月经期间该怎么护理？'\n",
    "):\n",
    "    IPython.display.display(IPython.core.display.Markdown(response['message']))\n",
    "    IPython.display.clear_output(wait=True)"
   ]
  },
  {
   "cell_type": "code",
   "execution_count": null,
   "id": "441b528f-f509-4b23-b942-95470abfdeb4",
   "metadata": {},
   "outputs": [
    {
     "data": {
      "text/markdown": [
       "在女孩子的月经期间，她可能会感到身体不适和情绪波动，因此需要更多的关注和关怀。以下是一些可以帮助你陪伴女孩子度过月经期的建议：\n",
       "\n",
       "1. 明确女孩子的需求：每个女孩子的月经周期和体验都可能不同，因此你需要和女孩子沟通，了解她的具体需求和症状，以便为她提供适当的支持和关怀。\n",
       "\n",
       "2. 提供情感支持：在月经期间，女孩子可能会感到身体不适、情绪低落等，这时候你可以提供情感上的支持，安慰她、鼓励她，让她感受到你的关心和爱护。\n",
       "\n",
       "3. 帮助女孩子缓解不适：女孩子在月经期间可能会出现腹部疼痛、头痛、乳房胀痛等不适症状，你可以为她准备热水袋或暖宝宝、帮她购买舒适的卫生巾或月经杯、帮她做一些轻度的伸展运动等，来帮助她缓解不适。\n",
       "\n",
       "4. 注意个人卫生：女孩子在月经期间需要更加注意个人卫生，你可以为她准备一些卫生用品，如卫生巾、卫生棉条或月经杯等，提醒她及时更换卫生用品，保持外阴部清洁和干燥。\n",
       "\n",
       "5. 避免给女孩子带来压力：月经期间的女孩子可能会感到身体疲劳、情绪低落，因此需要避免给她带来过多的压力和负担，尽可能营造轻松、舒适的氛围。\n",
       "\n",
       "总之，陪伴女孩子度过月经期，需要理解和尊重她的需求和体验，提供适当的支持和关怀，让她感受到你的爱和关心。"
      ],
      "text/plain": [
       "<IPython.core.display.Markdown object>"
      ]
     },
     "metadata": {},
     "output_type": "display_data"
    }
   ],
   "source": [
    "for response in gpt_after(response['parent_id']).ask(\n",
    "    '女孩子月经期间该怎么陪伴？'\n",
    "):\n",
    "    IPython.display.display(IPython.core.display.Markdown(response['message']))\n",
    "    IPython.display.clear_output(wait=True)"
   ]
  },
  {
   "cell_type": "code",
   "execution_count": null,
   "id": "d7de0657-1b71-4710-a069-157b058cb2a7",
   "metadata": {},
   "outputs": [],
   "source": [
    "print(f\"parent_id: {response['parent_id']}\")"
   ]
  },
  {
   "cell_type": "markdown",
   "id": "d6718ea5-0019-4a79-9892-de6f0e40351d",
   "metadata": {},
   "source": [
    "---"
   ]
  },
  {
   "cell_type": "code",
   "execution_count": null,
   "id": "840fb5e0-cd5f-48d4-8e24-93960fd95c58",
   "metadata": {},
   "outputs": [],
   "source": [
    "%%bash\n",
    "mkdir -p ~/.config/revChatGPT"
   ]
  },
  {
   "cell_type": "markdown",
   "id": "de6a5fb3-25bb-46e3-8311-6c44632bce45",
   "metadata": {},
   "source": [
    "💡　get \\<access_token\\>　=> [accessToken](https://chat.openai.com/api/auth/session)"
   ]
  },
  {
   "cell_type": "code",
   "execution_count": null,
   "id": "5c3ddbfd-5245-4e22-be59-48d78b27d1cc",
   "metadata": {},
   "outputs": [
    {
     "name": "stdout",
     "output_type": "stream",
     "text": [
      "Writing /Users/saintway/.config/revChatGPT/config.json\n"
     ]
    }
   ],
   "source": [
    "%%writefile ~/.config/revChatGPT/config.json\n",
    "{\n",
    "  \"access_token\": \"<access_token>\"\n",
    "}"
   ]
  }
 ],
 "metadata": {
  "kernelspec": {
   "display_name": "Python 3 (ipykernel)",
   "language": "python",
   "name": "python3"
  }
 },
 "nbformat": 4,
 "nbformat_minor": 5
}
