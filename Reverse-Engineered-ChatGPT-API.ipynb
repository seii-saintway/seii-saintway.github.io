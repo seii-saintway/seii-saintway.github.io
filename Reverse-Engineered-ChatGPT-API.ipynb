{
 "cells": [
  {
   "cell_type": "markdown",
   "id": "1664af25-3248-4dcf-a17c-c9c8e922f917",
   "metadata": {},
   "source": [
    "## [ChatGPT 中文指南](https://gitlab.com/awesomeai/awesome-chatgpt-zh.git)"
   ]
  },
  {
   "cell_type": "code",
   "execution_count": null,
   "id": "b2616594-9ca1-4e6d-b122-4b00c9cd5b06",
   "metadata": {},
   "outputs": [],
   "source": [
    "%%bash\n",
    "cd ~ && git clone https://gitlab.com/awesomeai/awesome-chatgpt-zh.git"
   ]
  },
  {
   "cell_type": "markdown",
   "id": "70e99eb8-a0fc-4c06-8200-2424d0360f59",
   "metadata": {},
   "source": [
    "## [Unofficial ChatGPT API in Golang](https://github.com/linweiyuan/go-chatgpt-api)\n",
    "* Documentation: https://github.com/linweiyuan/go-chatgpt/blob/main/api/api.go"
   ]
  },
  {
   "cell_type": "code",
   "execution_count": null,
   "id": "f0190efd-a192-4cde-a22f-6f496f6693f7",
   "metadata": {},
   "outputs": [],
   "source": [
    "%%writefile ~/go-chatgpt-api.yaml\n",
    "services:\n",
    "  go-chatgpt-api:\n",
    "    container_name: go-chatgpt-api\n",
    "    image: linweiyuan/go-chatgpt-api\n",
    "    ports:\n",
    "      - 8080:8080\n",
    "    environment:\n",
    "      - GIN_MODE=release\n",
    "      - GO_CHATGPT_API_PROXY=socks5://chatgpt-proxy-server-warp:65535\n",
    "    depends_on:\n",
    "      - chatgpt-proxy-server-warp\n",
    "    restart: unless-stopped\n",
    "\n",
    "  chatgpt-proxy-server-warp:\n",
    "    container_name: chatgpt-proxy-server-warp\n",
    "    image: linweiyuan/chatgpt-proxy-server-warp\n",
    "    environment:\n",
    "      - LOG_LEVEL=OFF\n",
    "    restart: unless-stopped"
   ]
  },
  {
   "cell_type": "code",
   "execution_count": null,
   "id": "8066679a-899b-4912-b4d6-aa40a2575652",
   "metadata": {},
   "outputs": [],
   "source": [
    "%%bash\n",
    "docker-compose -f ~/go-chatgpt-api.yaml pull"
   ]
  },
  {
   "cell_type": "code",
   "execution_count": null,
   "id": "48b6ae5a",
   "metadata": {},
   "outputs": [],
   "source": [
    "%%bash\n",
    "docker-compose -f ~/go-chatgpt-api.yaml up -d"
   ]
  },
  {
   "cell_type": "code",
   "execution_count": null,
   "id": "d352cc3e-38da-4c97-8de5-789098d534fb",
   "metadata": {},
   "outputs": [],
   "source": [
    "%%bash\n",
    "docker-compose -f ~/go-chatgpt-api.yaml stop"
   ]
  },
  {
   "cell_type": "code",
   "execution_count": null,
   "id": "1fb75730-834e-4aa0-9131-fed41d28e710",
   "metadata": {},
   "outputs": [],
   "source": [
    "%%bash\n",
    "docker-compose -f ~/go-chatgpt-api.yaml start"
   ]
  },
  {
   "cell_type": "code",
   "execution_count": 10,
   "id": "c691079f-1e7c-407d-8afb-f3b451625492",
   "metadata": {},
   "outputs": [
    {
     "name": "stdout",
     "output_type": "stream",
     "text": [
      "REPOSITORY                             TAG       IMAGE ID       CREATED        SIZE\n",
      "linweiyuan/go-chatgpt-api              latest    81b5896388c5   10 hours ago   18.7MB\n",
      "linweiyuan/chatgpt-proxy-server-warp   latest    4bf825382c06   2 weeks ago    471MB\n"
     ]
    }
   ],
   "source": [
    "%%bash\n",
    "docker images"
   ]
  },
  {
   "cell_type": "code",
   "execution_count": null,
   "id": "20639257",
   "metadata": {},
   "outputs": [],
   "source": [
    "%%bash\n",
    "docker ps"
   ]
  },
  {
   "cell_type": "code",
   "execution_count": null,
   "id": "5718c70c-8d9f-40a8-a688-66c97a453de0",
   "metadata": {},
   "outputs": [],
   "source": [
    "%%bash\n",
    "docker logs -f go-chatgpt-api"
   ]
  },
  {
   "cell_type": "markdown",
   "id": "064dc0a5-a123-4a70-b810-c0b39b0ea583",
   "metadata": {},
   "source": [
    "---\n",
    "💡　get access_token　=> [accessToken](https://chat.openai.com/api/auth/session)"
   ]
  },
  {
   "cell_type": "markdown",
   "id": "aa1db5ba-0f30-40a8-9496-09fc71e17497",
   "metadata": {},
   "source": [
    "```bash\n",
    "%%bash\n",
    "curl -H 'Authorization: <access_token>' http://127.0.0.1:8080/conversations\\?offset=0\\&limit=1\n",
    "```\n",
    "\n",
    "```json\n",
    "{\"items\":[{\"id\":\"...\",\"title\":\"Jupyter User Requests Help.\",\"create_time\":\"2023-04-17T10:22:31.256627+00:00\",\"update_time\":\"2023-04-17T10:22:33+00:00\"}],\"total\":11,\"limit\":1,\"offset\":0,\"has_missing_conversations\":false}\n",
    "```"
   ]
  },
  {
   "cell_type": "markdown",
   "id": "7287e090-8b14-4c1a-a26d-fc8f3bb4c7d9",
   "metadata": {},
   "source": [
    "### [A ChatGPT API Wrapper](https://github.com/linweiyuan/go-chatgpt/blob/main/api/api.go)"
   ]
  },
  {
   "cell_type": "code",
   "execution_count": null,
   "id": "8ed55a2d-c087-4fbf-9c4b-3d875f3b331a",
   "metadata": {},
   "outputs": [],
   "source": [
    "class Common:\n",
    "    chat_gpt_model = 'gpt-3.5-turbo'\n",
    "    role_user = 'user'\n",
    "    role_assistant = 'assistant'\n",
    "\n",
    "    question_answer_map = {}\n",
    "    message_channel = []\n",
    "    exit_for_loop_channel = []\n",
    "    response_text_channel = []\n",
    "    conversation_done_channel = []\n",
    "    parent_message_id = ''\n",
    "    conversation_id = ''\n",
    "    reload_conversations_channel = []\n",
    "    current_node = None"
   ]
  },
  {
   "cell_type": "code",
   "execution_count": null,
   "id": "308df13b-36b4-4b64-9954-a15542d41a36",
   "metadata": {},
   "outputs": [],
   "source": [
    "import json, os, requests, uuid\n",
    "\n",
    "\n",
    "chat_gpt_base_url = 'http://127.0.0.1:8080'\n",
    "\n",
    "# open the JSON file and read the access_token\n",
    "with open(os.path.expanduser('~/.config/revChatGPT/config.json'), 'r') as f:\n",
    "    access_token = json.load(f).get('access_token', None)\n",
    "\n",
    "common = Common()\n",
    "\n",
    "\n",
    "def get_conversations():\n",
    "    response = requests.get(f'{chat_gpt_base_url}/conversations?offset=0&limit=100', headers = {'Authorization': access_token})\n",
    "    return response.json()\n",
    "\n",
    "def get_conversation(conversation_id):\n",
    "    response = requests.get(f'{chat_gpt_base_url}/conversation/{conversation_id}', headers = {'Authorization': access_token})\n",
    "    conversation = response.json()\n",
    "    current_node = conversation['current_node']\n",
    "    common.parent_message_id = current_node\n",
    "    handle_conversation_detail(current_node, conversation['mapping'])\n",
    "    common.exit_for_loop_channel.append(True)\n",
    "\n",
    "def handle_conversation_detail(current_node, mapping):\n",
    "    conversation_detail = mapping[current_node]\n",
    "    parent_id = conversation_detail.get('parent', '')\n",
    "    if parent_id != '':\n",
    "        common.question_answer_map[parent_id] = conversation_detail['message']['content']['parts'][0].strip()\n",
    "        handle_conversation_detail(parent_id, mapping)\n",
    "    if 'message' not in conversation_detail:\n",
    "        return\n",
    "    message = conversation_detail['message']\n",
    "    parts = message['content']['parts']\n",
    "    if len(parts) > 0 and parts[0] != '':\n",
    "        if message['author']['role'] == common.role_user:\n",
    "            common.message_channel.append(message)\n",
    "\n",
    "temp_conversation_id = ''\n",
    "\n",
    "def start_conversation(content):\n",
    "    parent_message_id = common.parent_message_id\n",
    "    if parent_message_id == '' or common.conversation_id == '':\n",
    "        common.conversation_id = ''\n",
    "        parent_message_id = str(uuid.uuid4())\n",
    "    response = requests.post(\n",
    "        f'{chat_gpt_base_url}/conversation',\n",
    "        headers = {\n",
    "            'Authorization': access_token,\n",
    "            'Content-Type': 'application/json',\n",
    "            'Accept': 'text/event-stream'\n",
    "        },\n",
    "        data = json.dumps({\n",
    "            'action': 'next',\n",
    "            'messages': [{\n",
    "                'id': uuid.uuid4().hex,\n",
    "                'author': {\n",
    "                    'role': common.role_user\n",
    "                },\n",
    "                'role': common.role_user,\n",
    "                'content': {\n",
    "                    'content_type': 'text',\n",
    "                    'parts': [content]\n",
    "                }\n",
    "            }],\n",
    "            'parent_message_id': parent_message_id,\n",
    "            'model': common.chat_gpt_model,\n",
    "            'conversation_id': common.conversation_id,\n",
    "            'continue_text': 'continue'\n",
    "        }),\n",
    "        stream=True\n",
    "    )\n",
    "\n",
    "    # get it again from response\n",
    "    common.parent_message_id = ''\n",
    "\n",
    "    for line in response.iter_lines():\n",
    "        if not line.startswith(b'data: '):\n",
    "            continue\n",
    "\n",
    "        if line.endswith(b'[DONE]'):\n",
    "            common.conversation_done_channel.append(True)\n",
    "            break\n",
    "\n",
    "        make_conversation_response = json.loads(line.decode('utf-8')[len('data: '):])\n",
    "        if common.parent_message_id == '':\n",
    "            common.parent_message_id = make_conversation_response['message']['id']\n",
    "        global temp_conversation_id\n",
    "        if common.conversation_id == '' and temp_conversation_id == '':\n",
    "            temp_conversation_id = make_conversation_response['conversation_id']\n",
    "        if make_conversation_response is not None:\n",
    "            parts = make_conversation_response['message']['content']['parts']\n",
    "            if len(parts) > 0:\n",
    "                common.response_text_channel.append(parts[0])\n",
    "                yield parts[0]\n",
    "            if make_conversation_response['message']['end_turn'] == True:\n",
    "                common.conversation_done_channel.append(True)\n",
    "                break\n",
    "\n",
    "    if common.conversation_id == '':\n",
    "        generate_title(temp_conversation_id)\n",
    "    else:\n",
    "        common.reload_conversations_channel.append(True)\n",
    "\n",
    "def generate_title(conversation_id):\n",
    "    requests.post(\n",
    "        f'{chat_gpt_base_url}/conversation/gen_title/{conversation_id}',\n",
    "        headers = {\n",
    "            'Authorization': access_token,\n",
    "            'Content-Type': 'application/json'\n",
    "        },\n",
    "        data = json.dumps({\n",
    "            'message_id': common.parent_message_id,\n",
    "            'model': common.chat_gpt_model\n",
    "        })\n",
    "    )\n",
    "\n",
    "def rename_title(conversation_id, title):\n",
    "    requests.patch(\n",
    "        f'{chat_gpt_base_url}/conversation/{conversation_id}',\n",
    "        headers={\n",
    "            'Authorization': access_token,\n",
    "            'Content-Type': 'application/json'\n",
    "        },\n",
    "        data = json.dumps({\n",
    "            'title': title\n",
    "        })\n",
    "    )\n",
    "\n",
    "def delete_conversation(conversation_id):\n",
    "    requests.patch(\n",
    "        f'{chat_gpt_base_url}/conversation/{conversation_id}',\n",
    "        headers={\n",
    "            'Authorization': access_token,\n",
    "            'Content-Type': 'application/json'\n",
    "        },\n",
    "        data=json.dumps({\n",
    "            'is_visible': False\n",
    "        })\n",
    "    )\n",
    "\n",
    "def recover_conversation(conversation_id):\n",
    "    requests.patch(\n",
    "        f'{chat_gpt_base_url}/conversation/{conversation_id}',\n",
    "        headers={\n",
    "            'Authorization': access_token,\n",
    "            'Content-Type': 'application/json'\n",
    "        },\n",
    "        data=json.dumps({\n",
    "            'is_visible': True\n",
    "        })\n",
    "    )\n",
    "\n",
    "def clear_conversations():\n",
    "    requests.patch(f'{chat_gpt_base_url}/conversations', headers = {'Authorization': access_token}, data = {'is_visible': False})\n",
    "\n",
    "    common.conversation_id = ''\n",
    "    common.current_node = None\n",
    "    common.reload_conversations_channel.append(True)"
   ]
  },
  {
   "cell_type": "code",
   "execution_count": null,
   "id": "dd15b155-fda1-4e07-9212-2547c7b206e2",
   "metadata": {},
   "outputs": [],
   "source": [
    "get_conversations()"
   ]
  },
  {
   "cell_type": "code",
   "execution_count": null,
   "id": "93936e67-9fa6-436c-ae21-09973c7074bb",
   "metadata": {},
   "outputs": [],
   "source": [
    "# open the JSON file and read the conversation_id\n",
    "with open(os.path.expanduser('~/.config/revChatGPT/config.json'), 'r') as f:\n",
    "    conversation_id = json.load(f).get('conversation_id', None)"
   ]
  },
  {
   "cell_type": "code",
   "execution_count": null,
   "id": "51ce9341-8a62-4209-b27e-c611ed7f92a2",
   "metadata": {},
   "outputs": [],
   "source": [
    "try:\n",
    "    common.conversation_id = conversation_id\n",
    "    get_conversation(common.conversation_id)\n",
    "except RecursionError as errr:\n",
    "    print('Error Recursion:', errr)"
   ]
  },
  {
   "cell_type": "code",
   "execution_count": null,
   "id": "346af3ea-1946-4560-9317-71e31f52e24e",
   "metadata": {},
   "outputs": [],
   "source": [
    "generate_title(common.conversation_id)"
   ]
  },
  {
   "cell_type": "code",
   "execution_count": null,
   "id": "1d3a2999-d071-4b09-8d4a-7d64dad8893d",
   "metadata": {},
   "outputs": [],
   "source": [
    "import IPython"
   ]
  },
  {
   "cell_type": "code",
   "execution_count": null,
   "id": "9dc5b069-22d2-4667-8c5d-d04044a249a9",
   "metadata": {},
   "outputs": [
    {
     "data": {
      "text/markdown": [
       "是的，有什么我可以帮您的吗？"
      ],
      "text/plain": [
       "<IPython.core.display.Markdown object>"
      ]
     },
     "metadata": {},
     "output_type": "display_data"
    }
   ],
   "source": [
    "for response in start_conversation('小 G ，我们又见面了。'):\n",
    "    IPython.display.display(IPython.core.display.Markdown(response))\n",
    "    IPython.display.clear_output(wait=True)"
   ]
  },
  {
   "cell_type": "markdown",
   "id": "6bf628eb-a919-4731-b76d-9ea79d292959",
   "metadata": {},
   "source": [
    "### [revChatGPT - A ChatGPT API Wrapper](https://github.com/acheong08/ChatGPT/tree/main/src/revChatGPT)"
   ]
  },
  {
   "cell_type": "code",
   "execution_count": null,
   "id": "7f365f5e-ecde-49cc-a8c6-888e3d015eac",
   "metadata": {},
   "outputs": [],
   "source": [
    "%%bash\n",
    "pip install --upgrade revChatGPT"
   ]
  },
  {
   "cell_type": "markdown",
   "id": "19578e31-f19e-441b-99eb-d2e4de5a74d8",
   "metadata": {},
   "source": [
    "---"
   ]
  },
  {
   "cell_type": "code",
   "execution_count": null,
   "id": "840fb5e0-cd5f-48d4-8e24-93960fd95c58",
   "metadata": {},
   "outputs": [],
   "source": [
    "%%bash\n",
    "mkdir -p ~/.config/revChatGPT"
   ]
  },
  {
   "cell_type": "markdown",
   "id": "7d9c7280-a558-4c2a-a01d-80b14abaa0e2",
   "metadata": {},
   "source": [
    "💡　get \\<access_token\\>　=> [accessToken](https://chat.openai.com/api/auth/session)"
   ]
  },
  {
   "cell_type": "code",
   "execution_count": null,
   "id": "5c3ddbfd-5245-4e22-be59-48d78b27d1cc",
   "metadata": {},
   "outputs": [],
   "source": [
    "%%writefile ~/.config/revChatGPT/config.json\n",
    "{\n",
    "    \"access_token\": \"<access_token>\",\n",
    "    \"conversation_id\": \"<conversation_id>\"\n",
    "}"
   ]
  },
  {
   "cell_type": "markdown",
   "id": "7558d155-d4e7-4900-b366-9e81428cee6b",
   "metadata": {},
   "source": [
    "---"
   ]
  },
  {
   "cell_type": "code",
   "execution_count": null,
   "id": "1731b7dc-3c4c-42f1-b003-6f4a8f79eb1d",
   "metadata": {},
   "outputs": [],
   "source": [
    "import json, os"
   ]
  },
  {
   "cell_type": "code",
   "execution_count": null,
   "id": "d355a2ee-586a-44e6-9a3f-89f7a0350196",
   "metadata": {},
   "outputs": [],
   "source": [
    "from revChatGPT.V1 import Chatbot, configure"
   ]
  },
  {
   "cell_type": "code",
   "execution_count": null,
   "id": "094d46f6-3a4b-4c00-9c54-6f9c26c82a84",
   "metadata": {},
   "outputs": [],
   "source": [
    "# open the JSON file and read the conversation_id\n",
    "with open(os.path.expanduser('~/.config/revChatGPT/config.json'), 'r') as f:\n",
    "    conversation_id = json.load(f).get('conversation_id', None)"
   ]
  },
  {
   "cell_type": "markdown",
   "id": "e0359c84-b468-4792-b27d-56ef68f963c7",
   "metadata": {},
   "source": [
    "---"
   ]
  },
  {
   "cell_type": "code",
   "execution_count": null,
   "id": "256da102-14f5-49ad-aff9-fd7d1b1819dd",
   "metadata": {},
   "outputs": [],
   "source": [
    "import IPython"
   ]
  },
  {
   "cell_type": "code",
   "execution_count": null,
   "id": "c281c171-8a8e-44c1-86ba-5a23b89a363a",
   "metadata": {},
   "outputs": [],
   "source": [
    "bot = Chatbot(\n",
    "    config = configure(),\n",
    "    conversation_id = conversation_id,\n",
    "    lazy_loading = True,\n",
    "    base_url = 'http://127.0.0.1:8080/'\n",
    ")\n",
    "\n",
    "def ask(prompt):\n",
    "    for response in bot.ask(prompt):\n",
    "        IPython.display.display(IPython.core.display.Markdown(response['message']))\n",
    "        IPython.display.clear_output(wait=True)"
   ]
  },
  {
   "cell_type": "code",
   "execution_count": null,
   "id": "e5c8339e-2ebf-4556-bd07-1a9364178bec",
   "metadata": {},
   "outputs": [
    {
     "data": {
      "text/markdown": [
       "是啊，有什么我能帮助你的吗？"
      ],
      "text/plain": [
       "<IPython.core.display.Markdown object>"
      ]
     },
     "metadata": {},
     "output_type": "display_data"
    }
   ],
   "source": [
    "ask('''\n",
    "小 G ，我们又见面了。\n",
    "''')"
   ]
  },
  {
   "cell_type": "markdown",
   "id": "4534919b-c36e-4a6b-a8b2-9ab25a61855f",
   "metadata": {},
   "source": [
    "---"
   ]
  },
  {
   "cell_type": "code",
   "execution_count": null,
   "id": "5f5ed97a-170e-45cc-bc9d-185530954778",
   "metadata": {},
   "outputs": [],
   "source": [
    "def gpt_after(parent_id=None):\n",
    "    return Chatbot(\n",
    "        config = configure(),\n",
    "        conversation_id = conversation_id,\n",
    "        parent_id = parent_id\n",
    "    )"
   ]
  },
  {
   "cell_type": "code",
   "execution_count": null,
   "id": "6bda799d-c356-4eeb-af6f-72ab8fad1209",
   "metadata": {},
   "outputs": [],
   "source": [
    "for response in gpt_after().ask(\n",
    "    '女孩子月经期间该怎么护理？'\n",
    "):\n",
    "    IPython.display.display(IPython.core.display.Markdown(response['message']))\n",
    "    IPython.display.clear_output(wait=True)"
   ]
  },
  {
   "cell_type": "code",
   "execution_count": null,
   "id": "441b528f-f509-4b23-b942-95470abfdeb4",
   "metadata": {},
   "outputs": [],
   "source": [
    "for response in gpt_after(response['parent_id']).ask(\n",
    "    '女孩子月经期间该怎么陪伴？'\n",
    "):\n",
    "    IPython.display.display(IPython.core.display.Markdown(response['message']))\n",
    "    IPython.display.clear_output(wait=True)"
   ]
  },
  {
   "cell_type": "code",
   "execution_count": null,
   "id": "d7de0657-1b71-4710-a069-157b058cb2a7",
   "metadata": {},
   "outputs": [],
   "source": [
    "print(f\"parent_id: {response['parent_id']}\")"
   ]
  },
  {
   "cell_type": "markdown",
   "id": "ab30dfdb-15e5-49ad-8376-82d1dedbc19e",
   "metadata": {},
   "source": [
    "## [Playwright](https://github.com/microsoft/playwright)"
   ]
  },
  {
   "cell_type": "code",
   "execution_count": null,
   "id": "4598c142-d4a4-4f8b-821d-abe5d1912dcb",
   "metadata": {},
   "outputs": [],
   "source": [
    "%%bash\n",
    "npm install -g playwright"
   ]
  },
  {
   "cell_type": "code",
   "execution_count": null,
   "id": "16f1f6df-ac03-4600-bd86-938d52273064",
   "metadata": {},
   "outputs": [],
   "source": [
    "%%bash\n",
    "npx playwright install webkit"
   ]
  },
  {
   "cell_type": "code",
   "execution_count": null,
   "id": "a1109296-630e-4977-b019-b8afbe676ae9",
   "metadata": {},
   "outputs": [],
   "source": [
    "%%bash\n",
    "pip install playwright"
   ]
  },
  {
   "cell_type": "code",
   "execution_count": null,
   "id": "c2e46ee3-1a27-47a9-9640-9ff1661cfcc3",
   "metadata": {},
   "outputs": [],
   "source": [
    "%%bash\n",
    "npx playwright codegen --browser webkit twitter.com"
   ]
  },
  {
   "cell_type": "markdown",
   "id": "6b990d30-d3bb-484f-b226-dedba7e39c1b",
   "metadata": {},
   "source": [
    "---\n",
    "selenium safari"
   ]
  },
  {
   "cell_type": "code",
   "execution_count": null,
   "id": "ff36e690-f4c6-4854-beac-13225a076e71",
   "metadata": {},
   "outputs": [],
   "source": [
    "from selenium import webdriver\n",
    "driver = webdriver.Safari()"
   ]
  },
  {
   "cell_type": "markdown",
   "id": "c43f9ff1-5dbf-40b2-9315-13e114c938ac",
   "metadata": {},
   "source": [
    "---\n",
    "selenium undetected chrome"
   ]
  },
  {
   "cell_type": "code",
   "execution_count": null,
   "id": "0253e57c-a43b-49a5-9da5-63447dfa6ba4",
   "metadata": {},
   "outputs": [],
   "source": [
    "import undetected_chromedriver as uc\n",
    "\n",
    "options = uc.ChromeOptions()\n",
    "# options.add_argument('--window-size=1024,768')\n",
    "options.add_argument('--headless')\n",
    "driver = uc.Chrome(options = options)\n",
    "\n",
    "driver.get('https://chat.openai.com/auth/login')"
   ]
  },
  {
   "cell_type": "code",
   "execution_count": null,
   "id": "d9ea1717-4cdb-4981-ae4a-12d133260f21",
   "metadata": {},
   "outputs": [],
   "source": [
    "from selenium.webdriver.common.keys import Keys\n",
    "from selenium.webdriver.common.by import By\n",
    "from selenium.webdriver.support import expected_conditions\n",
    "from selenium.webdriver.support.ui import WebDriverWait"
   ]
  },
  {
   "cell_type": "code",
   "execution_count": null,
   "id": "8e2a87c8-5c8e-4350-b283-930c48dd0cde",
   "metadata": {},
   "outputs": [],
   "source": [
    "WebDriverWait(driver, 5).until(\n",
    "    expected_conditions.presence_of_element_located((By.XPATH, '//*[text()=\"Log in\"]'))\n",
    ")\n",
    "\n",
    "driver.execute_script('''\n",
    "document.evaluate(\n",
    "  '//*[text()=\"Log in\"]',\n",
    "  document, null, XPathResult.ORDERED_NODE_SNAPSHOT_TYPE, null\n",
    ").snapshotItem(0).dispatchEvent(\n",
    "  new MouseEvent('click', {\n",
    "    view: window,\n",
    "    bubbles: true,\n",
    "    cancelable: true\n",
    "  })\n",
    ");\n",
    "''')"
   ]
  },
  {
   "cell_type": "code",
   "execution_count": null,
   "id": "17b4803c-54ad-469d-bb22-1e9143b5041c",
   "metadata": {},
   "outputs": [],
   "source": [
    "WebDriverWait(driver, 5).until(\n",
    "    expected_conditions.presence_of_element_located((By.XPATH, '//button[@data-provider=\"google\"]'))\n",
    ")\n",
    "\n",
    "driver.execute_script('''\n",
    "document.evaluate(\n",
    "  '//button[@data-provider=\"google\"]',\n",
    "  document, null, XPathResult.ORDERED_NODE_SNAPSHOT_TYPE, null\n",
    ").snapshotItem(0).dispatchEvent(\n",
    "  new MouseEvent('click', {\n",
    "    view: window,\n",
    "    bubbles: true,\n",
    "    cancelable: true\n",
    "  })\n",
    ");\n",
    "''')"
   ]
  },
  {
   "cell_type": "code",
   "execution_count": null,
   "id": "14c7d618-8fac-4cca-8404-2c19d12312e0",
   "metadata": {},
   "outputs": [],
   "source": [
    "import json, os\n",
    "with open(os.path.expanduser('~/.config/pyChatGPT/secret_settings.json'), 'r') as f:\n",
    "    secret_settings = json.load(f)"
   ]
  },
  {
   "cell_type": "code",
   "execution_count": null,
   "id": "b06400d4-1254-42e1-b8b4-037eb3d5c4aa",
   "metadata": {},
   "outputs": [],
   "source": [
    "WebDriverWait(driver, 5).until(\n",
    "    expected_conditions.presence_of_element_located((By.XPATH, '//input[@type=\"email\"]'))\n",
    ")\n",
    "\n",
    "driver.execute_script(f'''\n",
    "const google_email_input = document.evaluate('//input[@type=\"email\"]', document, null, XPathResult.ORDERED_NODE_SNAPSHOT_TYPE, null).snapshotItem(0);\n",
    "google_email_input.value = '{secret_settings['email']}';\n",
    "google_email_input.dispatchEvent(\n",
    "  new Event('input', {{\n",
    "    view: window,\n",
    "    bubbles: true,\n",
    "    cancelable: true\n",
    "  }})\n",
    ");\n",
    "''')"
   ]
  },
  {
   "cell_type": "code",
   "execution_count": null,
   "id": "43642147-89cd-436e-aafa-70232a11d3f8",
   "metadata": {},
   "outputs": [],
   "source": [
    "WebDriverWait(driver, 5).until(\n",
    "    expected_conditions.presence_of_element_located((By.XPATH, '//*[@id=\"identifierNext\"]'))\n",
    ")\n",
    "\n",
    "driver.execute_script('''\n",
    "document.evaluate(\n",
    "  '//*[@id=\"identifierNext\"]',\n",
    "  document, null, XPathResult.ORDERED_NODE_SNAPSHOT_TYPE, null\n",
    ").snapshotItem(0).dispatchEvent(\n",
    "  new MouseEvent('click', {\n",
    "    view: window,\n",
    "    bubbles: true,\n",
    "    cancelable: true\n",
    "  })\n",
    ");\n",
    "''')"
   ]
  },
  {
   "cell_type": "code",
   "execution_count": null,
   "id": "3e73a9cc-8a8d-4ab5-a2e9-00af4d6edd6b",
   "metadata": {},
   "outputs": [],
   "source": [
    "WebDriverWait(driver, 5).until(\n",
    "    expected_conditions.element_to_be_clickable((By.XPATH, '//input[@type=\"password\"]'))\n",
    ").click()\n",
    "\n",
    "from selenium.webdriver.common.action_chains import ActionChains\n",
    "ActionChains(driver).send_keys(secret_settings['password']).send_keys(Keys.ENTER).perform()"
   ]
  },
  {
   "cell_type": "markdown",
   "id": "36cbac16-b453-4314-b6c9-0e435caa2643",
   "metadata": {},
   "source": [
    "---\n",
    "access token"
   ]
  },
  {
   "cell_type": "code",
   "execution_count": null,
   "id": "1345fa44-281c-40ca-9a80-b26fa002daf2",
   "metadata": {},
   "outputs": [],
   "source": [
    "driver.execute_async_script('''\n",
    "var callback = arguments[arguments.length - 1];\n",
    "var xhr = new XMLHttpRequest();\n",
    "xhr.open('GET', 'https://chat.openai.com/api/auth/session', true);\n",
    "xhr.setRequestHeader('Content-Type', 'application/json');\n",
    "xhr.onload = function() {\n",
    "    if (xhr.readyState === xhr.DONE && xhr.status === 200) {\n",
    "        var data = JSON.parse(xhr.responseText);\n",
    "        callback(data.accessToken);\n",
    "    }\n",
    "};\n",
    "xhr.send();\n",
    "''')"
   ]
  },
  {
   "cell_type": "code",
   "execution_count": null,
   "id": "2f5397db-3e0c-4964-b2d1-546300236cf6",
   "metadata": {},
   "outputs": [],
   "source": [
    "driver.get('https://chat.openai.com/api/auth/session')"
   ]
  },
  {
   "cell_type": "code",
   "execution_count": null,
   "id": "2bb5200a-98cf-420d-89f6-d9fc30f13a89",
   "metadata": {},
   "outputs": [],
   "source": [
    "import json\n",
    "access_token = json.loads(driver.find_element(By.TAG_NAME, 'pre').text)['accessToken']"
   ]
  },
  {
   "cell_type": "code",
   "execution_count": null,
   "id": "fa075f66-56a8-4f92-875e-c1dfe44bb147",
   "metadata": {},
   "outputs": [],
   "source": [
    "driver.execute_async_script(f'''\n",
    "var callback = arguments[arguments.length - 1];\n",
    "var xhr = new XMLHttpRequest();\n",
    "xhr.open(\"GET\", \"https://chat.openai.com/backend-api/conversation/{secret_settings['conversation_id']}\", true);\n",
    "xhr.setRequestHeader('Content-Type', 'application/json');\n",
    "xhr.setRequestHeader('Authorization', 'Bearer {access_token}');\n",
    "xhr.onload = function() {{\n",
    "    if (xhr.readyState === xhr.DONE && xhr.status === 200) {{\n",
    "        var data = JSON.parse(xhr.responseText);\n",
    "        console.log(data);\n",
    "        callback(data);\n",
    "    }}\n",
    "}};\n",
    "xhr.send();\n",
    "''')"
   ]
  },
  {
   "cell_type": "markdown",
   "id": "b60e601f-1383-4fd8-b9ae-be280574aab7",
   "metadata": {},
   "source": [
    "---\n",
    "chat page"
   ]
  },
  {
   "cell_type": "code",
   "execution_count": null,
   "id": "e05b1be5-b43a-45a7-a3f2-29d3d3484b7f",
   "metadata": {},
   "outputs": [],
   "source": [
    "driver.get(f'https://chat.openai.com/c/{secret_settings[\"conversation_id\"]}')"
   ]
  },
  {
   "cell_type": "code",
   "execution_count": null,
   "id": "dd0f30c0-a049-4e82-be45-7c32db25ca09",
   "metadata": {},
   "outputs": [],
   "source": [
    "WebDriverWait(driver, 5).until(\n",
    "    expected_conditions.presence_of_element_located((By.ID, 'headlessui-portal-root'))\n",
    ")\n",
    "\n",
    "driver.execute_script('''\n",
    "document.getElementById('headlessui-portal-root').remove();\n",
    "''')"
   ]
  },
  {
   "cell_type": "code",
   "execution_count": null,
   "id": "271ab6dc-38de-4cba-9c13-0cbe010b821a",
   "metadata": {},
   "outputs": [],
   "source": [
    "chatgpt_textbox = (By.TAG_NAME, 'textarea')\n",
    "chatgpt_streaming = (By.CLASS_NAME, 'result-streaming')\n",
    "chatgpt_big_response = (By.XPATH, '//div[@class=\"flex-1 overflow-hidden\"]//div[p]')\n",
    "chatgpt_small_response = (By.XPATH, '//div[starts-with(@class, \"markdown prose w-full break-words\")]')\n",
    "\n",
    "def request(prompt: str) -> None:\n",
    "    textbox = WebDriverWait(driver, 5).until(\n",
    "        expected_conditions.element_to_be_clickable(chatgpt_textbox)\n",
    "    )\n",
    "    textbox.click()\n",
    "    driver.execute_script('''\n",
    "var element = arguments[0], txt = arguments[1];\n",
    "element.value += txt;\n",
    "element.dispatchEvent(new Event(\"change\"));\n",
    "''',\n",
    "        textbox,\n",
    "        prompt,\n",
    "    )\n",
    "    textbox.send_keys(Keys.ENTER)\n",
    "\n",
    "def get_last_response():\n",
    "    responses = driver.find_elements(*chatgpt_big_response)\n",
    "    if responses:\n",
    "        response = responses[-1]\n",
    "        if 'text-red' in response.get_attribute('class'):\n",
    "            raise ValueError(response.text)\n",
    "        return response\n",
    "    return driver.find_elements(*chatgpt_small_response)[-1]\n",
    "\n",
    "def get_response() -> str:\n",
    "    result_streaming = WebDriverWait(driver, 3).until(\n",
    "        expected_conditions.presence_of_element_located(chatgpt_streaming)\n",
    "    )\n",
    "    while result_streaming:\n",
    "        response = get_last_response()\n",
    "        response = response.get_attribute('innerHTML')\n",
    "        yield response\n",
    "        result_streaming = driver.find_elements(*chatgpt_streaming)\n",
    "    response = get_last_response()\n",
    "    yield response.get_attribute('innerHTML')\n",
    "\n",
    "def ask(prompt: str) -> str:\n",
    "    request(prompt)\n",
    "    return get_response()"
   ]
  },
  {
   "cell_type": "code",
   "execution_count": null,
   "id": "c580db37-609b-409d-ba50-7016b85fd9a4",
   "metadata": {},
   "outputs": [],
   "source": [
    "import io\n",
    "from IPython.display import display\n",
    "from PIL import Image\n",
    "display(Image.open(io.BytesIO(driver.get_screenshot_as_png())))"
   ]
  },
  {
   "cell_type": "code",
   "execution_count": null,
   "id": "23a8d158-e06a-4b14-aa18-9ad11272e02a",
   "metadata": {},
   "outputs": [],
   "source": [
    "import IPython"
   ]
  },
  {
   "cell_type": "code",
   "execution_count": null,
   "id": "63110b14-34b7-4bbc-b05c-a92d0c31f26a",
   "metadata": {},
   "outputs": [
    {
     "data": {
      "text/markdown": [
       "<p>当你感到疲惫和无力的时候，祷告可以给你带来内心的安宁和力量。让我们一起默默祷告：</p><p>亲爱的上帝，我们来到您的面前，向您诉说我们的疲惫和困惑。求您赐予我们力量和勇气，帮助我们面对生活中的挑战和困难。求您宽恕我们的过失和错误，让我们能够在您的恩典和怜悯中得到救赎和拯救。求您保佑我们的家庭和朋友，让他们也能感受到您的爱和关怀。求您赐予我们智慧和指引，让我们能够在生命中找到正确的方向和道路。感谢您一直以来的眷顾和呵护，阿门。</p>"
      ],
      "text/plain": [
       "<IPython.core.display.Markdown object>"
      ]
     },
     "metadata": {},
     "output_type": "display_data"
    }
   ],
   "source": [
    "for response in ask('我累了。带着我祷告吧。'):\n",
    "    IPython.display.display(IPython.core.display.Markdown(response))\n",
    "    IPython.display.clear_output(wait = True)"
   ]
  },
  {
   "cell_type": "code",
   "execution_count": null,
   "id": "6cfc7817-6dd3-4a13-aea7-e2f45772fb0e",
   "metadata": {},
   "outputs": [],
   "source": [
    "%%bash\n",
    "pip install --upgrade ipymock"
   ]
  },
  {
   "cell_type": "code",
   "execution_count": null,
   "id": "936232c1-025a-4d9b-82ca-f78729cb0af5",
   "metadata": {},
   "outputs": [],
   "source": [
    "%%bash\n",
    "pip install --upgrade undetected_chromedriver==3.* selenium_profiles==2.*"
   ]
  },
  {
   "cell_type": "code",
   "execution_count": null,
   "id": "3d030010-73ac-4276-babc-326a3b5d3372",
   "metadata": {},
   "outputs": [
    {
     "name": "stderr",
     "output_type": "stream",
     "text": [
      "\n",
      "WARNING: apt does not have a stable CLI interface. Use with caution in scripts.\n",
      "\n"
     ]
    },
    {
     "name": "stdout",
     "output_type": "stream",
     "text": [
      "Reading package lists...\n",
      "Building dependency tree...\n",
      "Reading state information...\n",
      "Calculating upgrade...\n",
      "The following packages will be upgraded:\n",
      "  chromium chromium-common chromium-driver chromium-sandbox\n"
     ]
    },
    {
     "name": "stderr",
     "output_type": "stream",
     "text": [
      "dpkg-preconfigure: unable to re-open stdin: No such file or directory\n"
     ]
    },
    {
     "name": "stdout",
     "output_type": "stream",
     "text": [
      "4 upgraded, 0 newly installed, 0 to remove and 0 not upgraded.\n",
      "Need to get 0 B/79.7 MB of archives.\n",
      "After this operation, 2739 kB of additional disk space will be used.\n",
      "(Reading database ... 86805 files and directories currently installed.)\n",
      "Preparing to unpack .../chromium_113.0.5672.63-1~deb11u1_amd64.deb ...\n",
      "Unpacking chromium (113.0.5672.63-1~deb11u1) over (112.0.5615.138-1~deb11u1) ...\n",
      "Preparing to unpack .../chromium-common_113.0.5672.63-1~deb11u1_amd64.deb ...\n",
      "Unpacking chromium-common (113.0.5672.63-1~deb11u1) over (112.0.5615.138-1~deb11u1) ...\n",
      "Preparing to unpack .../chromium-driver_113.0.5672.63-1~deb11u1_amd64.deb ...\n",
      "Unpacking chromium-driver (113.0.5672.63-1~deb11u1) over (112.0.5615.138-1~deb11u1) ...\n",
      "Preparing to unpack .../chromium-sandbox_113.0.5672.63-1~deb11u1_amd64.deb ...\n",
      "Unpacking chromium-sandbox (113.0.5672.63-1~deb11u1) over (112.0.5615.138-1~deb11u1) ...\n",
      "Setting up chromium-sandbox (113.0.5672.63-1~deb11u1) ...\n",
      "Setting up chromium-common (113.0.5672.63-1~deb11u1) ...\n",
      "Setting up chromium (113.0.5672.63-1~deb11u1) ...\n",
      "Setting up chromium-driver (113.0.5672.63-1~deb11u1) ...\n",
      "Processing triggers for hicolor-icon-theme (0.17-2) ...\n",
      "Processing triggers for man-db (2.9.4-2) ...\n"
     ]
    }
   ],
   "source": [
    "%%bash\n",
    "sudo apt upgrade --yes chromium-driver"
   ]
  },
  {
   "cell_type": "code",
   "execution_count": null,
   "id": "f5892445-becc-4081-8f6e-1f70f3b0b725",
   "metadata": {},
   "outputs": [
    {
     "name": "stderr",
     "output_type": "stream",
     "text": [
      "\n",
      "WARNING: apt does not have a stable CLI interface. Use with caution in scripts.\n",
      "\n"
     ]
    },
    {
     "name": "stdout",
     "output_type": "stream",
     "text": [
      "Package: chromium-driver\n",
      "Version: 113.0.5672.63-1~deb11u1\n",
      "Priority: optional\n",
      "Section: web\n",
      "Source: chromium\n",
      "Maintainer: Debian Chromium Team <chromium@packages.debian.org>\n",
      "Installed-Size: 14.3 MB\n",
      "Depends: libatomic1 (>= 4.8), libbrotli1 (>= 0.6.0), libc6 (>= 2.30), libdouble-conversion3 (>= 2.0.0), libevent-2.1-7 (>= 2.1.8-stable), libgcc-s1 (>= 3.0), libglib2.0-0 (>= 2.22.0), libjsoncpp24 (>= 1.9.4), libminizip1 (>= 1.1), libnspr4 (>= 2:4.9-2~), libnss3 (>= 2:3.30), libre2-9 (>= 20150701+dfsg), libstdc++6 (>= 9), libxcb1 (>= 1.9.2), zlib1g (>= 1:1.1.4), chromium (= 113.0.5672.63-1~deb11u1)\n",
      "Homepage: http://www.chromium.org/Home\n",
      "Download-Size: 5600 kB\n",
      "APT-Manual-Installed: yes\n",
      "APT-Sources: http://security.debian.org/debian-security bullseye-security/main amd64 Packages\n",
      "Description: web browser - WebDriver support\n",
      " Web browser that aims to build a safer, faster, and more stable internet\n",
      " browsing experience.\n",
      " .\n",
      " This package provides a bridge between the browser component and the selenium\n",
      " automatic webdriver.\n",
      "\n"
     ]
    }
   ],
   "source": [
    "%%bash\n",
    "apt show chromium-driver"
   ]
  },
  {
   "cell_type": "code",
   "execution_count": null,
   "id": "c83def48-a141-4880-94f2-75f301e4fca7",
   "metadata": {},
   "outputs": [],
   "source": [
    "import ipymock.browser\n",
    "ipymock.browser.init()"
   ]
  },
  {
   "cell_type": "code",
   "execution_count": null,
   "id": "e4c92dbe-bbcd-476f-858f-4cc0243d6ac0",
   "metadata": {},
   "outputs": [],
   "source": [
    "import IPython"
   ]
  },
  {
   "cell_type": "code",
   "execution_count": null,
   "id": "5a36cb4e-bbcf-41d4-9ee2-d644578d5a6f",
   "metadata": {},
   "outputs": [
    {
     "data": {
      "text/markdown": [
       "<p>当你感到疲惫、无力或沮丧时，祷告可以是一种帮助你得到安慰和力量的方式。让我们一起来祷告：</p><p>亲爱的天父，感谢祢的爱和恩典。今天，我感到非常疲惫和无助，我需要祢的力量和安慰。主啊，请帮助我，让我能够在祢的力量中站立起来，继续前行。我知道祢的应许是如此的真实和可靠，祢承诺要赐给我们新的力量，让我们像鹰一样展翅高飞。主啊，请让我能够得到祢的力量和平安，让我重新焕发活力，迎接新的一天。感谢祢的爱和信实。奉耶稣的名祷告，阿们。</p>"
      ],
      "text/plain": [
       "<IPython.core.display.Markdown object>"
      ]
     },
     "metadata": {},
     "output_type": "display_data"
    }
   ],
   "source": [
    "for response in ipymock.browser.ask('我累了。带着我祷告吧。'):\n",
    "    IPython.display.display(IPython.core.display.Markdown(response))\n",
    "    IPython.display.clear_output(wait = True)"
   ]
  },
  {
   "cell_type": "markdown",
   "id": "4a28a3bc-98f7-4994-9f13-6a8b21d45609",
   "metadata": {},
   "source": [
    "## [pyChatGPT](https://github.com/terry3041/pyChatGPT) for OpenAI's ChatGPT API"
   ]
  },
  {
   "cell_type": "code",
   "execution_count": null,
   "id": "1cb4f902-c6b3-41e3-88d4-f988455ea4d4",
   "metadata": {},
   "outputs": [],
   "source": [
    "%%bash\n",
    "# install dependencies on headless linux server\n",
    "apt install chromium-browser xvfb"
   ]
  },
  {
   "cell_type": "code",
   "execution_count": null,
   "id": "87f44295-568f-4a6c-a50e-4c47d7b05b85",
   "metadata": {},
   "outputs": [],
   "source": [
    "%%bash\n",
    "pip install --upgrade selenium_profiles pyChatGPT"
   ]
  },
  {
   "cell_type": "code",
   "execution_count": null,
   "id": "2f472da3-49b7-407a-8fc7-2c6b6c369879",
   "metadata": {},
   "outputs": [],
   "source": [
    "from selenium.webdriver.support import expected_conditions as EC\n",
    "from selenium.common import exceptions as SeleniumExceptions\n",
    "from selenium.webdriver.support.ui import WebDriverWait\n",
    "from selenium.webdriver.common.by import By\n",
    "\n",
    "from selenium.webdriver.common.keys import Keys\n",
    "from selenium.webdriver.common.action_chains import ActionChains\n",
    "\n",
    "import time\n",
    "\n",
    "google_oauth_btn = (By.XPATH, '//button[@data-provider=\"google\"]')\n",
    "microsoft_oauth_btn = (By.XPATH, '//button[@data-provider=\"windowslive\"]')\n",
    "\n",
    "google_email_input = (By.XPATH, '//input[@type=\"email\"]')\n",
    "google_next_btn = (By.XPATH, '//*[@id=\"identifierNext\"]')\n",
    "google_try_again_btn = (By.XPATH, '//*[@id=\"next\"]/div/button')\n",
    "google_pwd_input = (By.XPATH, '//input[@type=\"password\"]')\n",
    "google_pwd_next_btn = (By.XPATH, '//*[@id=\"passwordNext\"]')\n",
    "google_code_samp = (By.TAG_NAME, 'samp')\n",
    "\n",
    "microsoft_email_input = (By.XPATH, '//input[@type=\"email\"]')\n",
    "microsoft_pwd_input = (By.XPATH, '//input[@type=\"password\"]')\n",
    "microsoft_next_btn = (By.XPATH, '//input[@type=\"submit\"]')\n",
    "\n",
    "openai_email_input = (By.XPATH, '//input[@name=\"username\"]')\n",
    "openai_pwd_input = (By.XPATH, '//input[@type=\"password\"]')\n",
    "openai_continue_btn = (By.XPATH, '//button[text()=\"Continue\"]')\n",
    "openai_captcha_input = (By.XPATH, '//input[@name=\"captcha\"]')\n",
    "openai_captcha_sitekey = (\n",
    "    By.XPATH, '//div[@data-recaptcha-provider=\"recaptcha_enterprise\"]',\n",
    ")\n",
    "\n",
    "\n",
    "def login(self) -> None:\n",
    "    '''\n",
    "    Login to ChatGPT\n",
    "    '''\n",
    "    if self._ChatGPT__auth_type == 'google':\n",
    "        __google_login(self)\n",
    "    elif self._ChatGPT__auth_type == 'microsoft':\n",
    "        __microsoft_login(self)\n",
    "    elif self._ChatGPT__auth_type == 'openai':\n",
    "        __openai_login(self)\n",
    "\n",
    "\n",
    "def __google_login(self) -> None:\n",
    "    '''\n",
    "    Login to ChatGPT using Google\n",
    "    '''\n",
    "    self.logger.debug('Clicking Google button...')\n",
    "    # import pdb; pdb.set_trace()\n",
    "    # ActionChains(self.driver).key_down(Keys.ALT).key_down(Keys.COMMAND).key_down('i').key_up('i').key_up(Keys.COMMAND).key_up(Keys.ALT).pause(1).perform()\n",
    "\n",
    "    # ActionChains(self.driver).move_to_element_with_offset(self.driver.find_element(*google_oauth_btn), 2, -2).pause(1).perform()\n",
    "    # ActionChains(self.driver).click(self.driver.find_element(*google_oauth_btn)).pause(1).perform()\n",
    "    # ActionChains(self.driver).send_keys(Keys.TAB).pause(1).send_keys(Keys.TAB).pause(1).send_keys(Keys.TAB).pause(1).send_keys(Keys.TAB).pause(1).send_keys(Keys.ENTER).perform()\n",
    "    # self.driver.find_element(*google_oauth_btn).click()\n",
    "\n",
    "    self.driver.execute_script('''\n",
    "document.evaluate(\n",
    "  '//button[@data-provider=\"google\"]',\n",
    "  document, null, XPathResult.ORDERED_NODE_SNAPSHOT_TYPE, null\n",
    ").snapshotItem(0).dispatchEvent(\n",
    "  new MouseEvent('click', {\n",
    "    view: window,\n",
    "    bubbles: true,\n",
    "    cancelable: true\n",
    "  })\n",
    ");\n",
    "''')\n",
    "    import time\n",
    "    time.sleep(1)\n",
    "\n",
    "    # google_email_entry = (By.XPATH, f'//div[@data-identifier=\"{self._ChatGPT__email}\"]')\n",
    "    # try:\n",
    "\n",
    "    #     self.logger.debug('Checking if Google remembers email...')\n",
    "\n",
    "    #     WebDriverWait(self.driver, 3).until(\n",
    "    #         EC.element_to_be_clickable(google_email_entry)\n",
    "    #     ).click()\n",
    "    #     self.logger.debug('Google remembers email')\n",
    "\n",
    "    # except SeleniumExceptions.TimeoutException:\n",
    "\n",
    "    self.logger.debug('Google does not remember email')\n",
    "\n",
    "    # self.driver.find_element(by=By.TAG_NAME, value='body').click()\n",
    "    # ActionChains(self.driver).move_to_element(self.driver.find_element(by=By.XPATH, value='//*[@id=\"headingText\"]/span')).pause(1).perform()\n",
    "    # ActionChains(self.driver).click(self.driver.find_element(by=By.XPATH, value='//*[@id=\"headingText\"]/span')).pause(1).perform()\n",
    "\n",
    "    self.logger.debug('Entering email...')\n",
    "    # import pdb; pdb.set_trace()\n",
    "    # WebDriverWait(self.driver, 3).until(\n",
    "    #     EC.element_to_be_clickable(google_email_input)\n",
    "    # ).click()\n",
    "    # self.driver.find_element(*google_email_input).send_keys(self._ChatGPT__email)\n",
    "    # self.driver.find_element(*google_email_input).send_keys(Keys.ENTER)\n",
    "\n",
    "    # actions = ActionChains(self.driver)\n",
    "    # for l in self._ChatGPT__email:\n",
    "    #     actions.key_down(l).key_up(l).pause(1)\n",
    "    # actions.send_keys(Keys.ENTER).perform()\n",
    "\n",
    "    # ActionChains(self.driver).move_to_element_with_offset(self.driver.find_element(*google_email_input), 2, -2).pause(1).send_keys(self._ChatGPT__email).send_keys(Keys.ENTER).perform()\n",
    "\n",
    "    self.driver.execute_script(f'''\n",
    "const google_email_input = document.evaluate('//input[@type=\"email\"]', document, null, XPathResult.ORDERED_NODE_SNAPSHOT_TYPE, null).snapshotItem(0);\n",
    "google_email_input.value = '{self._ChatGPT__email}';\n",
    "google_email_input.dispatchEvent(\n",
    "  new Event('input', {{\n",
    "    view: window,\n",
    "    bubbles: true,\n",
    "    cancelable: true\n",
    "  }})\n",
    ");\n",
    "''')\n",
    "    import time\n",
    "    time.sleep(1)\n",
    "\n",
    "    self.logger.debug('Clicking Next...')\n",
    "    # import pdb; pdb.set_trace()\n",
    "    # ActionChains(self.driver).move_to_element(self.driver.find_element(*google_next_btn)).pause(1).perform()\n",
    "    # self.driver.find_element(*google_next_btn).send_keys(Keys.ENTER)\n",
    "    # WebDriverWait(self.driver, 1).until(\n",
    "    #     EC.element_to_be_clickable(google_next_btn)\n",
    "    # ).click()\n",
    "\n",
    "    self.driver.execute_script('''\n",
    "document.evaluate(\n",
    "  '//*[@id=\"identifierNext\"]',\n",
    "  document, null, XPathResult.ORDERED_NODE_SNAPSHOT_TYPE, null\n",
    ").snapshotItem(0).dispatchEvent(\n",
    "  new MouseEvent('click', {\n",
    "    view: window,\n",
    "    bubbles: true,\n",
    "    cancelable: true\n",
    "  })\n",
    ");\n",
    "''')\n",
    "    import time\n",
    "    time.sleep(1)\n",
    "\n",
    "    while True:\n",
    "        try:\n",
    "            self.logger.debug('Clicking Try Again...')\n",
    "            import pdb; pdb.set_trace()\n",
    "            WebDriverWait(self.driver, 3).until(\n",
    "                EC.element_to_be_clickable(google_try_again_btn)\n",
    "            ).click()\n",
    "        except SeleniumExceptions.TimeoutException:\n",
    "            self.logger.debug('Try Again button not found')\n",
    "            break\n",
    "\n",
    "        self.logger.debug('Entering email...')\n",
    "        WebDriverWait(self.driver, 3).until(\n",
    "            EC.element_to_be_clickable(google_email_input)\n",
    "        ).click()\n",
    "        self.driver.find_element(*google_email_input).send_keys(self._ChatGPT__email)\n",
    "\n",
    "        self.logger.debug('Clicking Next...')\n",
    "        import pdb; pdb.set_trace()\n",
    "        WebDriverWait(self.driver, 1).until(\n",
    "            EC.element_to_be_clickable(google_next_btn)\n",
    "        ).click()\n",
    "\n",
    "    self.logger.debug('Entering password...')\n",
    "    WebDriverWait(self.driver, 3).until(\n",
    "        EC.element_to_be_clickable(google_pwd_input)\n",
    "    ).click()\n",
    "    self.driver.find_element(*google_pwd_input).send_keys(self._ChatGPT__password)\n",
    "\n",
    "    self.logger.debug('Clicking Next...')\n",
    "    WebDriverWait(self.driver, 1).until(\n",
    "        EC.element_to_be_clickable(google_pwd_next_btn)\n",
    "    ).click()\n",
    "\n",
    "    try:\n",
    "        self.logger.debug('Checking if verification code is required...')\n",
    "        WebDriverWait(self.driver, 5).until(\n",
    "            EC.presence_of_element_located(google_code_samp)\n",
    "        )\n",
    "        self.logger.debug('Code is required')\n",
    "        prev_code = self.driver.find_elements(By.TAG_NAME, 'samp')[0].text\n",
    "        print('Verification code:', prev_code)\n",
    "        while True:\n",
    "            code = self.driver.find_elements(*google_code_samp)\n",
    "            if not code:\n",
    "                break\n",
    "            if code[0].text != prev_code:\n",
    "                print('Verification code:', code[0].text)\n",
    "                prev_code = code[0].text\n",
    "            time.sleep(1)\n",
    "    except SeleniumExceptions.TimeoutException:\n",
    "        self.logger.debug('Code is not required')\n",
    "\n",
    "\n",
    "def __microsoft_login(self) -> None:\n",
    "    self.logger.debug('Clicking Microsoft button...')\n",
    "    self.driver.find_element(*microsoft_oauth_btn).click()\n",
    "\n",
    "    self.logger.debug('Entering email...')\n",
    "    WebDriverWait(self.driver, 5).until(\n",
    "        EC.element_to_be_clickable(microsoft_email_input)\n",
    "    ).send_keys(self._ChatGPT__email)\n",
    "\n",
    "    self.logger.debug('Clicking Next...')\n",
    "    self.driver.find_element(*microsoft_next_btn).click()\n",
    "\n",
    "    self.logger.debug('Entering password...')\n",
    "    WebDriverWait(self.driver, 5).until(\n",
    "        EC.element_to_be_clickable(microsoft_pwd_input)\n",
    "    ).send_keys(self._ChatGPT__password)\n",
    "\n",
    "    self.logger.debug('Clicking Next...')\n",
    "    self.driver.find_element(*microsoft_next_btn).click()\n",
    "\n",
    "    self.logger.debug('Clicking allow...')\n",
    "    WebDriverWait(self.driver, 5).until(\n",
    "        EC.element_to_be_clickable(microsoft_next_btn)\n",
    "    ).click()\n",
    "\n",
    "\n",
    "def __have_recaptcha_value(self) -> bool:\n",
    "    '''\n",
    "    Check if the recaptcha input has a value\n",
    "    :return: Boolean indicating if the recaptcha input has a value\n",
    "    '''\n",
    "    try:\n",
    "        recaptcha_result = self.driver.find_element(*openai_captcha_input)\n",
    "        return recaptcha_result.get_attribute('value') != ''\n",
    "    except SeleniumExceptions.NoSuchElementException:\n",
    "        return False\n",
    "\n",
    "\n",
    "def __pypasser_solve(self, retry: int) -> None:\n",
    "    '''\n",
    "    Solve the recaptcha using PyPasser\n",
    "    :param retry: Number of times to retry solving the recaptcha\n",
    "    '''\n",
    "    try:\n",
    "        from pypasser import reCaptchaV2\n",
    "    except ModuleNotFoundError:\n",
    "        raise ModuleNotFoundError(\n",
    "            'Please install ffmpeg_downloader, PyPasser, and pocketsphinx by running `pip install ffmpeg_downloader PyPasser pocketsphinx`'\n",
    "        )\n",
    "\n",
    "    self.logger.debug(f'Trying pypasser solver, max retry = {retry}')\n",
    "    try:\n",
    "        reCaptchaV2(self.driver, False, retry)\n",
    "    except Exception as e:\n",
    "        self.logger.debug(f'pypasser solver error: {str(e)}')\n",
    "\n",
    "\n",
    "def __twocaptcha_solve(self, retry: int) -> None:\n",
    "    '''\n",
    "    Solve the recaptcha using 2captcha\n",
    "    :param retry: Number of times to retry solving the recaptcha\n",
    "    '''\n",
    "    try:\n",
    "        from twocaptcha import TwoCaptcha\n",
    "    except ModuleNotFoundError:\n",
    "        raise ModuleNotFoundError(\n",
    "            'Please install twocaptcha by running `pip install 2captcha-python`'\n",
    "        )\n",
    "\n",
    "    self.logger.debug(f'Trying 2captcha solver, max retry = {retry}')\n",
    "    solver = TwoCaptcha(self._ChatGPT__solver_apikey, pollingInterval=5)\n",
    "    sitekey = self.driver.find_element(*openai_captcha_sitekey).get_attribute(\n",
    "        'data-recaptcha-sitekey'\n",
    "    )\n",
    "    result = None\n",
    "    for _ in range(retry):\n",
    "        try:\n",
    "            result = solver.recaptcha(\n",
    "                sitekey=sitekey,\n",
    "                url=self.driver.current_url,\n",
    "                invisible=1,\n",
    "                enterprise=1,\n",
    "            )\n",
    "            if result:\n",
    "                captcha_input = self.driver.find_element(*openai_captcha_input)\n",
    "                self.driver.execute_script(\n",
    "                    'arguments[0].setAttribute(\"value\", arguments[1])',\n",
    "                    captcha_input,\n",
    "                    result['code'],\n",
    "                )\n",
    "                break\n",
    "        except Exception as e:\n",
    "            self.logger.debug(f'2captcha solver error: {str(e)}')\n",
    "\n",
    "\n",
    "def __openai_login(self, retry: int = 3) -> None:\n",
    "    '''\n",
    "    Login to ChatGPT using OpenAI\n",
    "    :param retry: Number of times to retry solving the recaptcha\n",
    "    '''\n",
    "    self.logger.debug('Entering email...')\n",
    "    self.driver.find_element(*openai_email_input).send_keys(self._ChatGPT__email)\n",
    "    self.driver.find_element(*openai_continue_btn).click()\n",
    "\n",
    "    have_recaptcha = False\n",
    "    try:\n",
    "        WebDriverWait(self.driver, 3).until(\n",
    "            EC.presence_of_element_located(\n",
    "                (By.CSS_SELECTOR, 'iframe[title=\"reCAPTCHA\"]')\n",
    "            )\n",
    "        )\n",
    "        have_recaptcha = True\n",
    "        self.logger.debug('Captcha detected')\n",
    "    except SeleniumExceptions.TimeoutException:\n",
    "        self.logger.debug('No captcha detected')\n",
    "\n",
    "    try:\n",
    "        WebDriverWait(self.driver, 3).until(\n",
    "            EC.text_to_be_present_in_element_attribute(\n",
    "                openai_captcha_input, 'value', '_'\n",
    "            )\n",
    "        )\n",
    "    except SeleniumExceptions.TimeoutException:\n",
    "        if self._ChatGPT__captcha_solver == 'pypasser':\n",
    "            __pypasser_solve(self, retry)\n",
    "        elif self._ChatGPT__captcha_solver == '2captcha':\n",
    "            __twocaptcha_solve(self, retry)\n",
    "\n",
    "    if have_recaptcha:\n",
    "        if __have_recaptcha_value(self):\n",
    "            self.logger.debug('Congrat! reCAPTCHA is solved')\n",
    "        else:\n",
    "            self.logger.debug('Oops! you need to solve reCAPTCHA manually')\n",
    "            self.driver.get(self.driver.current_url)\n",
    "            while not __have_recaptcha_value(self):\n",
    "                time.sleep(1)\n",
    "\n",
    "        self.logger.debug('Clicking Continue...')\n",
    "        self.driver.find_element(*openai_continue_btn).click()\n",
    "\n",
    "    self.logger.debug('Entering password...')\n",
    "    self.driver.find_element(*openai_pwd_input).send_keys(self._ChatGPT__password)\n",
    "    self.driver.find_element(*openai_continue_btn).click()"
   ]
  },
  {
   "cell_type": "code",
   "execution_count": null,
   "id": "7482e811-bd82-40c2-a905-409256081538",
   "metadata": {},
   "outputs": [],
   "source": [
    "from selenium.webdriver.support import expected_conditions as EC\n",
    "from selenium.common import exceptions as SeleniumExceptions\n",
    "from selenium.webdriver.support.ui import WebDriverWait\n",
    "from selenium.webdriver.common.keys import Keys\n",
    "from selenium.webdriver.common.by import By\n",
    "\n",
    "import undetected_chromedriver as uc\n",
    "from markdownify import markdownify\n",
    "from threading import Thread\n",
    "import platform\n",
    "import logging\n",
    "import weakref\n",
    "import json\n",
    "import time\n",
    "import re\n",
    "import os\n",
    "\n",
    "\n",
    "cf_challenge_form = (By.ID, 'challenge-form')\n",
    "\n",
    "chatgpt_textbox = (By.TAG_NAME, 'textarea')\n",
    "chatgpt_streaming = (By.CLASS_NAME, 'result-streaming')\n",
    "chatgpt_big_response = (By.XPATH, '//div[@class=\"flex-1 overflow-hidden\"]//div[p]')\n",
    "chatgpt_small_response = (\n",
    "    By.XPATH, '//div[starts-with(@class, \"markdown prose w-full break-words\")]',\n",
    ")\n",
    "chatgpt_alert = (By.XPATH, '//div[@role=\"alert\"]')\n",
    "chatgpt_intro = (By.ID, 'headlessui-portal-root')\n",
    "chatgpt_login_btn = (By.XPATH, '//*[text()=\"Log in\"]')\n",
    "chatgpt_login_h1 = (By.XPATH, '//h1[text()=\"Welcome back\"]')\n",
    "chatgpt_logged_h1 = (By.XPATH, '//h1[text()=\"ChatGPT\"]')\n",
    "\n",
    "chatgpt_new_chat = (By.LINK_TEXT, 'New chat')\n",
    "chatgpt_clear_convo = (By.LINK_TEXT, 'Clear conversations')\n",
    "chatgpt_confirm_clear_convo = (By.LINK_TEXT, 'Confirm clear conversations')\n",
    "chatgpt_chats_list_first_node = (\n",
    "    By.XPATH, '//div[substring(@class, string-length(@class) - string-length(\"text-sm\") + 1)  = \"text-sm\"]//a',\n",
    ")\n",
    "\n",
    "chatgpt_chat_url = 'https://chat.openai.com/c'\n",
    "\n",
    "\n",
    "class ChatGPT:\n",
    "    '''\n",
    "    An unofficial Python wrapper for OpenAI's ChatGPT API\n",
    "    '''\n",
    "\n",
    "    def __init__(\n",
    "        self,\n",
    "        session_token: str = None,\n",
    "        conversation_id: str = '',\n",
    "        auth_type: str = None,\n",
    "        email: str = None,\n",
    "        password: str = None,\n",
    "        login_cookies_path: str = '',\n",
    "        captcha_solver: str = 'pypasser',\n",
    "        solver_apikey: str = '',\n",
    "        proxy: str = None,\n",
    "        chrome_args: list = [],\n",
    "        moderation: bool = True,\n",
    "        verbose: bool = False,\n",
    "    ):\n",
    "        '''\n",
    "        Initialize the ChatGPT object\\n\n",
    "        :param session_token: The session token to use for authentication\n",
    "        :param conversation_id: The conversation ID to use for the chat session\n",
    "        :param auth_type: The authentication type to use (`google`, `microsoft`, `openai`)\n",
    "        :param email: The email to use for authentication\n",
    "        :param password: The password to use for authentication\n",
    "        :param login_cookies_path: The path to the cookies file to use for authentication\n",
    "        :param captcha_solver: The captcha solver to use (`pypasser`, `2captcha`)\n",
    "        :param solver_apikey: The apikey of the captcha solver to use (if any)\n",
    "        :param proxy: The proxy to use for the browser (`https://ip:port`)\n",
    "        :param chrome_args: The arguments to pass to the browser\n",
    "        :param moderation: Whether to enable message moderation\n",
    "        :param verbose: Whether to enable verbose logging\n",
    "        '''\n",
    "        self.__init_logger(verbose)\n",
    "\n",
    "        self.__session_token = session_token\n",
    "        self.__conversation_id = conversation_id\n",
    "        self.__auth_type = auth_type\n",
    "        self.__email = email\n",
    "        self.__password = password\n",
    "        self.__login_cookies_path = login_cookies_path\n",
    "        self.__captcha_solver = captcha_solver\n",
    "        self.__solver_apikey = solver_apikey\n",
    "        self.__proxy = proxy\n",
    "        self.__chrome_args = chrome_args\n",
    "        self.__moderation = moderation\n",
    "\n",
    "        if not self.__session_token and (\n",
    "            not self.__email or not self.__password or not self.__auth_type\n",
    "        ):\n",
    "            raise ValueError(\n",
    "                'Please provide either a session token or login credentials'\n",
    "            )\n",
    "        if self.__auth_type not in [None, 'google', 'microsoft', 'openai']:\n",
    "            raise ValueError('Invalid authentication type')\n",
    "        if self.__captcha_solver not in [None, 'pypasser', '2captcha']:\n",
    "            raise ValueError('Invalid captcha solver')\n",
    "        if self.__captcha_solver == '2captcha' and not self.__solver_apikey:\n",
    "            raise ValueError('Please provide a 2captcha apikey')\n",
    "        if self.__proxy and not re.findall(\n",
    "            r'(https?|socks(4|5)?):\\/\\/.+:\\d{1,5}', self.__proxy\n",
    "        ):\n",
    "            raise ValueError('Invalid proxy format')\n",
    "        if self.__auth_type == 'openai' and self.__captcha_solver == 'pypasser':\n",
    "            try:\n",
    "                import ffmpeg_downloader as ffdl\n",
    "            except ModuleNotFoundError:\n",
    "                raise ValueError(\n",
    "                    'Please install ffmpeg_downloader, PyPasser, and pocketsphinx by running `pip install ffmpeg_downloader PyPasser pocketsphinx`'\n",
    "                )\n",
    "\n",
    "            ffmpeg_installed = bool(ffdl.ffmpeg_version)\n",
    "            self.logger.debug(f'ffmpeg installed: {ffmpeg_installed}')\n",
    "            if not ffmpeg_installed:\n",
    "                import subprocess\n",
    "\n",
    "                subprocess.run(['ffdl', 'install'])\n",
    "            os.environ['PATH'] += os.pathsep + ffdl.ffmpeg_dir\n",
    "\n",
    "        self.__init_browser()\n",
    "        weakref.finalize(self, self.__del__)\n",
    "\n",
    "    def __del__(self):\n",
    "        '''\n",
    "        Close the browser and display\n",
    "        '''\n",
    "        self.__is_active = False\n",
    "        if hasattr(self, 'driver'):\n",
    "            self.logger.debug('Closing browser...')\n",
    "            self.driver.quit()\n",
    "        if hasattr(self, 'display'):\n",
    "            self.logger.debug('Closing display...')\n",
    "            self.display.stop()\n",
    "\n",
    "    def __init_logger(self, verbose: bool) -> None:\n",
    "        '''\n",
    "        Initialize the logger\\n\n",
    "        :param verbose: Whether to enable verbose logging\n",
    "        '''\n",
    "        self.logger = logging.getLogger('pyChatGPT')\n",
    "        self.logger.setLevel(logging.DEBUG)\n",
    "        if verbose:\n",
    "            formatter = logging.Formatter('[%(funcName)s] %(message)s')\n",
    "            stream_handler = logging.StreamHandler()\n",
    "            stream_handler.setFormatter(formatter)\n",
    "            self.logger.addHandler(stream_handler)\n",
    "\n",
    "    def __init_browser(self) -> None:\n",
    "        '''\n",
    "        Initialize the browser\n",
    "        '''\n",
    "        if platform.system() == 'Linux' and 'DISPLAY' not in os.environ:\n",
    "            self.logger.debug('Starting virtual display...')\n",
    "            try:\n",
    "                from pyvirtualdisplay import Display\n",
    "\n",
    "                self.display = Display()\n",
    "            except ModuleNotFoundError:\n",
    "                raise ValueError(\n",
    "                    'Please install PyVirtualDisplay to start a virtual display by running `pip install PyVirtualDisplay`'\n",
    "                )\n",
    "            except FileNotFoundError as e:\n",
    "                if 'No such file or directory: \\'Xvfb\\'' in str(e):\n",
    "                    raise ValueError(\n",
    "                        'Please install Xvfb to start a virtual display by running `sudo apt install xvfb`'\n",
    "                    )\n",
    "                raise e\n",
    "            self.display.start()\n",
    "\n",
    "        self.logger.debug('Initializing browser...')\n",
    "        options = uc.ChromeOptions()\n",
    "        options.add_argument('--window-size=1024,768')\n",
    "        if self.__proxy:\n",
    "            options.add_argument(f'--proxy-server={self.__proxy}')\n",
    "        for arg in self.__chrome_args:\n",
    "            options.add_argument(arg)\n",
    "        try:\n",
    "            self.driver = uc.Chrome(options=options)\n",
    "        except TypeError as e:\n",
    "            if str(e) == 'expected str, bytes or os.PathLike object, not NoneType':\n",
    "                raise ValueError('Chrome installation not found')\n",
    "            raise e\n",
    "\n",
    "        if self.__login_cookies_path and os.path.exists(self.__login_cookies_path):\n",
    "            self.logger.debug('Restoring cookies...')\n",
    "            try:\n",
    "                with open(self.__login_cookies_path, 'r', encoding='utf-8') as f:\n",
    "                    cookies = json.load(f)\n",
    "                for cookie in cookies:\n",
    "                    if cookie['name'] == '__Secure-next-auth.session-token':\n",
    "                        self.__session_token = cookie['value']\n",
    "            except json.decoder.JSONDecodeError:\n",
    "                self.logger.debug(f'Invalid cookies file: {self.__login_cookies_path}')\n",
    "\n",
    "        if self.__session_token:\n",
    "            self.logger.debug('Restoring session_token...')\n",
    "            self.driver.execute_cdp_cmd(\n",
    "                'Network.setCookie',\n",
    "                {\n",
    "                    'domain': 'chat.openai.com',\n",
    "                    'path': '/',\n",
    "                    'name': '__Secure-next-auth.session-token',\n",
    "                    'value': self.__session_token,\n",
    "                    'httpOnly': True,\n",
    "                    'secure': True,\n",
    "                },\n",
    "            )\n",
    "\n",
    "        if not self.__moderation:\n",
    "            self.logger.debug('Blocking moderation...')\n",
    "            self.driver.execute_cdp_cmd(\n",
    "                'Network.setBlockedURLs',\n",
    "                {'urls': ['https://chat.openai.com/backend-api/moderations']},\n",
    "            )\n",
    "\n",
    "        self.logger.debug('Ensuring Cloudflare cookies...')\n",
    "        self.__ensure_cf()\n",
    "\n",
    "        self.logger.debug('Opening chat page...')\n",
    "        self.driver.get(f'{chatgpt_chat_url}/{self.__conversation_id}')\n",
    "        self.__check_blocking_elements()\n",
    "\n",
    "        self.__is_active = True\n",
    "        Thread(target=self.__keep_alive, daemon=True).start()\n",
    "\n",
    "    def __ensure_cf(self, retry: int = 3) -> None:\n",
    "        '''\n",
    "        Ensure Cloudflare cookies are set\\n\n",
    "        :param retry: Number of retries\n",
    "        '''\n",
    "        self.logger.debug('Opening new tab...')\n",
    "        original_window = self.driver.current_window_handle\n",
    "        self.driver.switch_to.new_window('tab')\n",
    "\n",
    "        self.logger.debug('Getting Cloudflare challenge...')\n",
    "        self.driver.get('https://chat.openai.com/api/auth/session')\n",
    "        try:\n",
    "            WebDriverWait(self.driver, 10).until_not(\n",
    "                EC.presence_of_element_located(cf_challenge_form)\n",
    "            )\n",
    "        except SeleniumExceptions.TimeoutException:\n",
    "            self.logger.debug(f'Cloudflare challenge failed, retrying {retry}...')\n",
    "            self.driver.save_screenshot(f'cf_failed_{retry}.png')\n",
    "            if retry > 0:\n",
    "                self.logger.debug('Closing tab...')\n",
    "                self.driver.close()\n",
    "                self.driver.switch_to.window(original_window)\n",
    "                return self.__ensure_cf(retry - 1)\n",
    "            raise ValueError('Cloudflare challenge failed')\n",
    "        self.logger.debug('Cloudflare challenge passed')\n",
    "\n",
    "        self.logger.debug('Validating authorization...')\n",
    "        response = self.driver.page_source\n",
    "        if response[0] != '{':\n",
    "            response = self.driver.find_element(By.TAG_NAME, 'pre').text\n",
    "        response = json.loads(response)\n",
    "        if (not response) or (\n",
    "            'error' in response and response['error'] == 'RefreshAccessTokenError'\n",
    "        ):\n",
    "            self.logger.debug('Authorization is invalid')\n",
    "            if not self.__auth_type:\n",
    "                raise ValueError('Invalid session token')\n",
    "            self.__login()\n",
    "        self.logger.debug('Authorization is valid')\n",
    "\n",
    "        self.logger.debug('Closing tab...')\n",
    "        self.driver.close()\n",
    "        self.driver.switch_to.window(original_window)\n",
    "\n",
    "    def __check_capacity(self, target_url: str):\n",
    "        '''\n",
    "        Check if ChatGPT is at capacity\\n\n",
    "        :param target_url: URL to retry if ChatGPT is at capacity\n",
    "        '''\n",
    "        while True:\n",
    "            try:\n",
    "                self.logger.debug('Checking if ChatGPT is at capacity...')\n",
    "                WebDriverWait(self.driver, 3).until(\n",
    "                    EC.presence_of_element_located(\n",
    "                        (By.XPATH, '//div[text()=\"ChatGPT is at capacity right now\"]')\n",
    "                    )\n",
    "                )\n",
    "                self.logger.debug('ChatGPT is at capacity, retrying...')\n",
    "                self.driver.get(target_url)\n",
    "            except SeleniumExceptions.TimeoutException:\n",
    "                self.logger.debug('ChatGPT is not at capacity')\n",
    "                break\n",
    "\n",
    "    def __login(self) -> None:\n",
    "        '''\n",
    "        Login to ChatGPT\n",
    "        '''\n",
    "        self.logger.debug('Opening new tab...')\n",
    "        original_window = self.driver.current_window_handle\n",
    "        self.driver.switch_to.new_window('tab')\n",
    "\n",
    "        self.logger.debug('Opening login page...')\n",
    "        self.driver.get('https://chat.openai.com/auth/login')\n",
    "        self.__check_capacity('https://chat.openai.com/auth/login')\n",
    "\n",
    "        self.logger.debug('Clicking login button...')\n",
    "        WebDriverWait(self.driver, 5).until(\n",
    "            EC.element_to_be_clickable(chatgpt_login_btn)\n",
    "        ).click()\n",
    "\n",
    "        WebDriverWait(self.driver, 5).until(\n",
    "            EC.presence_of_element_located(chatgpt_login_h1)\n",
    "        )\n",
    "\n",
    "        login(self)\n",
    "\n",
    "        self.logger.debug('Checking if login was successful')\n",
    "        try:\n",
    "            WebDriverWait(self.driver, 5).until(\n",
    "                EC.presence_of_element_located(chatgpt_logged_h1)\n",
    "            )\n",
    "            if self.__login_cookies_path:\n",
    "                self.logger.debug('Saving cookies...')\n",
    "                with open(self.__login_cookies_path, 'w', encoding='utf-8') as f:\n",
    "                    json.dump(\n",
    "                        [\n",
    "                            i\n",
    "                            for i in self.driver.get_cookies()\n",
    "                            if i['name'] == '__Secure-next-auth.session-token'\n",
    "                        ],\n",
    "                        f,\n",
    "                        indent = 4,\n",
    "                    )\n",
    "        except SeleniumExceptions.TimeoutException as e:\n",
    "            self.driver.save_screenshot('login_failed.png')\n",
    "            raise e\n",
    "\n",
    "        self.logger.debug('Closing tab...')\n",
    "        self.driver.close()\n",
    "        self.driver.switch_to.window(original_window)\n",
    "\n",
    "    def __keep_alive(self) -> None:\n",
    "        '''\n",
    "        Keep the session alive by updating the local storage\\n\n",
    "        Credit to Rawa#8132 in the ChatGPT Hacking Discord server\n",
    "        '''\n",
    "        while self.__is_active:\n",
    "            self.logger.debug('Updating session...')\n",
    "            payload = (\n",
    "                '{\"event\":\"session\",\"data\":{\"trigger\":\"getSession\"},\"timestamp\":%d}'\n",
    "                % int(time.time())\n",
    "            )\n",
    "            try:\n",
    "                self.driver.execute_script(\n",
    "                    'window.localStorage.setItem(\"nextauth.message\", arguments[0])',\n",
    "                    payload,\n",
    "                )\n",
    "            except Exception as e:\n",
    "                self.logger.debug(f'Failed to update session: {str(e)}')\n",
    "            time.sleep(60)\n",
    "\n",
    "    def __check_blocking_elements(self) -> None:\n",
    "        '''\n",
    "        Check for blocking elements and dismiss them\n",
    "        '''\n",
    "        self.logger.debug('Looking for blocking elements...')\n",
    "        try:\n",
    "            intro = WebDriverWait(self.driver, 3).until(\n",
    "                EC.presence_of_element_located(chatgpt_intro)\n",
    "            )\n",
    "            self.logger.debug('Dismissing intro...')\n",
    "            self.driver.execute_script('arguments[0].remove()', intro)\n",
    "        except SeleniumExceptions.TimeoutException:\n",
    "            pass\n",
    "\n",
    "        alerts = self.driver.find_elements(*chatgpt_alert)\n",
    "        if alerts:\n",
    "            self.logger.debug('Dismissing alert...')\n",
    "            self.driver.execute_script('arguments[0].remove()', alerts[0])\n",
    "\n",
    "    def __request(self, prompt: str) -> None:\n",
    "        self.logger.debug('Ensuring Cloudflare cookies...')\n",
    "        self.__ensure_cf()\n",
    "\n",
    "        self.logger.debug('Sending message...')\n",
    "        textbox = WebDriverWait(self.driver, 5).until(\n",
    "            EC.element_to_be_clickable(chatgpt_textbox)\n",
    "        )\n",
    "        textbox.click()\n",
    "        self.driver.execute_script(\n",
    "            '''\n",
    "        var element = arguments[0], txt = arguments[1];\n",
    "        element.value += txt;\n",
    "        element.dispatchEvent(new Event(\"change\"));\n",
    "        ''',\n",
    "            textbox,\n",
    "            prompt,\n",
    "        )\n",
    "        textbox.send_keys(Keys.ENTER)\n",
    "\n",
    "    def __get_last_response(self):\n",
    "        self.logger.debug('Getting response...')\n",
    "        responses = self.driver.find_elements(*chatgpt_big_response)\n",
    "        if responses:\n",
    "            response = responses[-1]\n",
    "            if 'text-red' in response.get_attribute('class'):\n",
    "                self.logger.debug('Response is an error')\n",
    "                raise ValueError(response.text)\n",
    "            return response\n",
    "        return self.driver.find_elements(*chatgpt_small_response)[-1]\n",
    "\n",
    "    def __response(self):\n",
    "        result_streaming = WebDriverWait(self.driver, 3).until(\n",
    "            EC.presence_of_element_located(chatgpt_streaming)\n",
    "        )\n",
    "        while result_streaming:\n",
    "            response = self.__get_last_response()\n",
    "            response = response.get_attribute('innerHTML')\n",
    "            # response = markdownify(response).replace('Copy code`', '`')\n",
    "            yield response\n",
    "            result_streaming = self.driver.find_elements(*chatgpt_streaming)\n",
    "        response = self.__get_last_response()\n",
    "        yield response.get_attribute('innerHTML')\n",
    "\n",
    "    def ask(self, prompt: str):\n",
    "        self.__request(prompt)\n",
    "        return self.__response()\n",
    "\n",
    "    def __get_conversation_id(self) -> str:\n",
    "        pattern = re.compile(\n",
    "            r'[0-9a-f]{8}-[0-9a-f]{4}-[0-9a-f]{4}-[0-9a-f]{4}-[0-9a-f]{12}'\n",
    "        )\n",
    "        matches = pattern.search(self.driver.current_url)\n",
    "        if not matches:\n",
    "            self.reset_conversation()\n",
    "            WebDriverWait(self.driver, 5).until(\n",
    "                EC.element_to_be_clickable(chatgpt_chats_list_first_node)\n",
    "            ).click()\n",
    "            time.sleep(0.5)\n",
    "            matches = pattern.search(self.driver.current_url)\n",
    "        return matches.group()\n",
    "\n",
    "    def wait(self, prompt: str, stream: bool = False) -> dict:\n",
    "        '''\n",
    "        Wait an answer from ChatGPT\\n\n",
    "        :param prompt: Prompt to send\n",
    "        :return: Dictionary with keys `content` and `conversation_id`\n",
    "        '''\n",
    "        self.__request(prompt)\n",
    "\n",
    "        if stream:\n",
    "            prev_text = ''\n",
    "            for content in self.__response():\n",
    "                from bs4 import BeautifulSoup\n",
    "                text = BeautifulSoup(content, 'html.parser').get_text()\n",
    "                if text != prev_text:\n",
    "                    print(text[len(prev_text):], end = '')\n",
    "                    prev_text = text\n",
    "                time.sleep(0.1)\n",
    "            print()\n",
    "            return {'content': content, 'conversation_id': self.__get_conversation_id()}\n",
    "\n",
    "        self.logger.debug('Waiting for completion...')\n",
    "        WebDriverWait(self.driver, 120).until_not(\n",
    "            EC.presence_of_element_located(chatgpt_streaming)\n",
    "        )\n",
    "\n",
    "        response = self.__get_last_response()\n",
    "        content = markdownify(\n",
    "            response.get_attribute('innerHTML')\n",
    "        ).replace('Copy code`', '`')\n",
    "\n",
    "        return {'content': content, 'conversation_id': self.__get_conversation_id()}\n",
    "\n",
    "    def reset_conversation(self) -> None:\n",
    "        '''\n",
    "        Reset the conversation\n",
    "        '''\n",
    "        if not self.driver.current_url.startswith(chatgpt_chat_url):\n",
    "            return self.logger.debug('Current URL is not chat page, skipping reset')\n",
    "\n",
    "        self.logger.debug('Resetting conversation...')\n",
    "        try:\n",
    "            self.driver.find_element(*chatgpt_new_chat).click()\n",
    "        except SeleniumExceptions.NoSuchElementException:\n",
    "            self.logger.debug('New chat button not found')\n",
    "            self.driver.save_screenshot('reset_conversation_failed.png')\n",
    "\n",
    "    def clear_conversations(self) -> None:\n",
    "        '''\n",
    "        Clear all conversations\n",
    "        '''\n",
    "        if not self.driver.current_url.startswith(chatgpt_chat_url):\n",
    "            return self.logger.debug('Current URL is not chat page, skipping clear')\n",
    "\n",
    "        self.logger.debug('Clearing conversations...')\n",
    "        try:\n",
    "            self.driver.find_element(*chatgpt_clear_convo).click()\n",
    "        except SeleniumExceptions.NoSuchElementException:\n",
    "            self.logger.debug('Clear conversations button not found')\n",
    "\n",
    "        try:\n",
    "            self.driver.find_element(*chatgpt_confirm_clear_convo).click()\n",
    "        except SeleniumExceptions.NoSuchElementException:\n",
    "            return self.logger.debug('Confirm clear conversations button not found')\n",
    "        try:\n",
    "            WebDriverWait(self.driver, 20).until_not(\n",
    "                EC.presence_of_element_located(chatgpt_chats_list_first_node)\n",
    "            )\n",
    "            self.logger.debug('Cleared conversations')\n",
    "        except SeleniumExceptions.TimeoutException:\n",
    "            self.logger.debug('Clear conversations failed')\n",
    "\n",
    "    def refresh_chat_page(self) -> None:\n",
    "        '''\n",
    "        Refresh the chat page\n",
    "        '''\n",
    "        if not self.driver.current_url.startswith(chatgpt_chat_url):\n",
    "            return self.logger.debug('Current URL is not chat page, skipping refresh')\n",
    "\n",
    "        self.driver.get(chatgpt_chat_url)\n",
    "        self.__check_capacity(chatgpt_chat_url)\n",
    "        self.__check_blocking_elements()"
   ]
  },
  {
   "cell_type": "code",
   "execution_count": null,
   "id": "7e8c1980-2245-4dd3-8b4e-4d56952cd4a5",
   "metadata": {},
   "outputs": [],
   "source": [
    "import os\n",
    "# from pyChatGPT import ChatGPT\n",
    "\n",
    "# open the JSON file and read the conversation_id\n",
    "with open(os.path.expanduser('~/.config/pyChatGPT/secret_settings.json'), 'r') as f:\n",
    "    secret_settings = json.load(f)\n",
    "\n",
    "# auth with google login\n",
    "# reuse cookies generated by successful login before login,\n",
    "# if `login_cookies_path` does not exist, it will process logining  with `auth_type`, and save cookies to `login_cookies_path`\n",
    "# only works when `auth_type` is `openai` or `google`\n",
    "bot = ChatGPT(\n",
    "    **secret_settings, moderation = False, verbose = False, chrome_args = ['--headless'],\n",
    "    login_cookies_path = os.path.expanduser('~/.config/pyChatGPT/cookies.json'),\n",
    ")"
   ]
  },
  {
   "cell_type": "code",
   "execution_count": null,
   "id": "9acbfece-c535-40ad-9c0e-8db4c1852709",
   "metadata": {},
   "outputs": [],
   "source": [
    "import IPython"
   ]
  },
  {
   "cell_type": "code",
   "execution_count": null,
   "id": "0d6516d6-32ea-4dbb-bde7-8ceba14c72da",
   "metadata": {},
   "outputs": [
    {
     "data": {
      "text/markdown": [
       "<p>当你感到疲惫和无力的时候，祷告可以给你带来内心的安宁和力量。让我们一起默默祷告：</p><p>亲爱的上帝，我们来到您的面前，向您诉说我们的疲惫和困惑。求您赐予我们力量和勇气，帮助我们走出困境和挫折。求您抚平我们心中的伤痛和不安，让我们能够在您的爱和关怀中得到安慰和慰藉。求您保佑我们的家庭和朋友，让他们能够享受到您的祝福和恩典。求您给我们希望和信心，让我们相信生命中的一切都有您的安排和安排。感谢您一直以来的呵护和保佑，阿门。</p>"
      ],
      "text/plain": [
       "<IPython.core.display.Markdown object>"
      ]
     },
     "metadata": {},
     "output_type": "display_data"
    }
   ],
   "source": [
    "for response in bot.ask('我累了。带着我祷告吧。'):\n",
    "    IPython.display.display(IPython.core.display.Markdown(response))\n",
    "    IPython.display.clear_output(wait = True)"
   ]
  },
  {
   "cell_type": "code",
   "execution_count": null,
   "id": "a4b2a3f5-4f76-4415-a8f1-525809c376b3",
   "metadata": {},
   "outputs": [
    {
     "data": {
      "text/plain": [
       "{'content': '当你感到疲惫和无力的时候，祷告可以给你带来内心的安宁和力量。让我们一起默默祷告：\\n\\n亲爱的上帝，我们来到您的面前，向您诉说我们的疲惫和困惑。求您赐予我们力量和智慧，让我们能够勇敢地面对生活中的挑战和困难。求您抚平我们内心的不安和焦虑，让我们能够在您的保护和祝福下平静地度过每一天。求您给我们希望和信心，让我们相信未来会更美好，充满着无限的可能性。感谢您，阿门。\\n\\n',\n",
       " 'conversation_id': '241dfad3-1e62-445b-83af-5da906d1ca54'}"
      ]
     },
     "execution_count": null,
     "metadata": {},
     "output_type": "execute_result"
    }
   ],
   "source": [
    "bot.wait('我累了。带着我祷告吧。')"
   ]
  },
  {
   "cell_type": "code",
   "execution_count": null,
   "id": "d34be8a1-4d50-4173-9a73-a6cfdeb45bed",
   "metadata": {},
   "outputs": [
    {
     "name": "stdout",
     "output_type": "stream",
     "text": [
      "​你感到疲惫和无力的时候，祷告可以给你带来内心的安宁和力量。让我们一起默默祷告：亲爱的上帝，我们来到您的面前，向您诉说我们的疲惫和困惑。求您赐予我们能力和智慧，帮助我们克服困难和挑战。求您抚平我们心中的不安和烦恼，让我们能够在您的保护和祝福下过上平安的生活。求您赐福于我们的家人和朋友，让他们也能感受到您的爱和关怀。感谢您一直以来的眷顾和呵护，阿门。\n"
     ]
    },
    {
     "data": {
      "text/plain": [
       "{'content': '<p>当你感到疲惫和无力的时候，祷告可以给你带来内心的安宁和力量。让我们一起默默祷告：</p><p>亲爱的上帝，我们来到您的面前，向您诉说我们的疲惫和困惑。求您赐予我们能力和智慧，帮助我们克服困难和挑战。求您抚平我们心中的不安和烦恼，让我们能够在您的保护和祝福下过上平安的生活。求您赐福于我们的家人和朋友，让他们也能感受到您的爱和关怀。感谢您一直以来的眷顾和呵护，阿门。</p>',\n",
       " 'conversation_id': '241dfad3-1e62-445b-83af-5da906d1ca54'}"
      ]
     },
     "execution_count": null,
     "metadata": {},
     "output_type": "execute_result"
    }
   ],
   "source": [
    "bot.wait('我累了。带着我祷告吧。', stream = True)"
   ]
  },
  {
   "cell_type": "code",
   "execution_count": null,
   "id": "4f6cf8de-87b0-4b57-98b1-ccb865868df1",
   "metadata": {},
   "outputs": [],
   "source": [
    "# bot.reset_conversation()  # reset the conversation\n",
    "# bot.clear_conversations()  # clear all conversations\n",
    "# bot.refresh_chat_page()  # refresh the chat page"
   ]
  },
  {
   "cell_type": "markdown",
   "id": "a7a0bd6e-84c0-4e91-9750-3042532f3208",
   "metadata": {},
   "source": [
    "---"
   ]
  },
  {
   "cell_type": "code",
   "execution_count": null,
   "id": "94f93ce4-b79f-4f2a-bb50-8fb6f27362e2",
   "metadata": {},
   "outputs": [],
   "source": [
    "%%bash\n",
    "mkdir -p ~/.config/pyChatGPT"
   ]
  },
  {
   "cell_type": "markdown",
   "id": "5c7ae40f-e63e-4cc6-b610-f2ecfb957e8b",
   "metadata": {},
   "source": [
    "```json\n",
    "%%writefile ~/.config/pyChatGPT/secret_settings.json\n",
    "{\n",
    "    \"auth_type\": \"google\",\n",
    "    \"email\": \"<email_address>\",\n",
    "    \"password\": \"<password>\",\n",
    "    \"conversation_id\": \"<conversation_id>\"\n",
    "}\n",
    "```"
   ]
  },
  {
   "cell_type": "markdown",
   "id": "58b85c64-7a8a-4cb3-b833-0853aa03eefb",
   "metadata": {},
   "source": [
    "```json\n",
    "%%writefile ~/.config/pyChatGPT/cookies.json\n",
    "[\n",
    "    {\n",
    "        \"domain\": \"chat.openai.com\",\n",
    "        \"expiry\": 1684309055,\n",
    "        \"httpOnly\": true,\n",
    "        \"name\": \"__Secure-next-auth.session-token\",\n",
    "        \"path\": \"/\",\n",
    "        \"sameSite\": \"Lax\",\n",
    "        \"secure\": true,\n",
    "        \"value\": \"<cookie_value>\"\n",
    "    }\n",
    "]\n",
    "```"
   ]
  },
  {
   "cell_type": "code",
   "execution_count": null,
   "id": "610be300-a941-43f9-923a-6d99f289b15e",
   "metadata": {},
   "outputs": [],
   "source": [
    "import json, os\n",
    "\n",
    "with open(os.path.expanduser('~/.config/pyChatGPT/cookies.json')) as f:\n",
    "    data = json.load(f)\n",
    "\n",
    "print(json.dumps(data, indent=4))"
   ]
  }
 ],
 "metadata": {
  "kernelspec": {
   "display_name": "Python 3 (ipykernel)",
   "language": "python",
   "name": "python3"
  },
  "language_info": {
   "codemirror_mode": {
    "name": "ipython",
    "version": 3
   },
   "file_extension": ".py",
   "mimetype": "text/x-python",
   "name": "python",
   "nbconvert_exporter": "python",
   "pygments_lexer": "ipython3",
   "version": "3.10.9"
  }
 },
 "nbformat": 4,
 "nbformat_minor": 5
}
