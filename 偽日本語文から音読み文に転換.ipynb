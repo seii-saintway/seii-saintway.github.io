{
 "cells": [
  {
   "cell_type": "markdown",
   "id": "b471b1ab-18ec-4942-a763-edea908ce0e3",
   "metadata": {},
   "source": [
    "#### Python で、偽日本語文から音読み文に転換します。"
   ]
  },
  {
   "cell_type": "markdown",
   "id": "eee0511d-64ab-4beb-9299-978c994d1da9",
   "metadata": {},
   "source": [
    "---\n",
    "https://codeberg.org/miurahr/pykakasi"
   ]
  },
  {
   "cell_type": "code",
   "execution_count": null,
   "id": "f28ae940-32c1-4a7c-908d-d123cc6ca793",
   "metadata": {},
   "outputs": [
    {
     "name": "stdout",
     "output_type": "stream",
     "text": [
      "Defaulting to user installation because normal site-packages is not writeable\n",
      "Collecting pykakasi\n",
      "  Downloading pykakasi-2.2.1-py3-none-any.whl (2.4 MB)\n",
      "Collecting jaconv\n",
      "  Downloading jaconv-0.3.4.tar.gz (16 kB)\n",
      "  Preparing metadata (setup.py): started\n",
      "  Preparing metadata (setup.py): finished with status 'done'\n",
      "Collecting deprecated\n",
      "  Downloading Deprecated-1.2.14-py2.py3-none-any.whl (9.6 kB)\n",
      "Requirement already satisfied: wrapt<2,>=1.10 in /home/jupyter-saintway/.local/lib/python3.9/site-packages (from deprecated->pykakasi) (1.15.0)\n",
      "Building wheels for collected packages: jaconv\n",
      "  Building wheel for jaconv (setup.py): started\n",
      "  Building wheel for jaconv (setup.py): finished with status 'done'\n",
      "  Created wheel for jaconv: filename=jaconv-0.3.4-py3-none-any.whl size=16415 sha256=ee5ab10be02623d85b0962dad372b01ad36a876b0a7421e27fb0ab4c8bdcff9d\n",
      "  Stored in directory: /home/jupyter-saintway/.cache/pip/wheels/49/de/f1/55f605920db3666d30215331bc85f24686dde9b95b473ae41b\n",
      "Successfully built jaconv\n",
      "Installing collected packages: jaconv, deprecated, pykakasi\n",
      "Successfully installed deprecated-1.2.14 jaconv-0.3.4 pykakasi-2.2.1\n"
     ]
    }
   ],
   "source": [
    "%%bash\n",
    "pip install pykakasi"
   ]
  },
  {
   "cell_type": "code",
   "execution_count": null,
   "id": "7adefbda",
   "metadata": {},
   "outputs": [
    {
     "name": "stdout",
     "output_type": "stream",
     "text": [
      "神［kami］是信［zeshin］実［mi］的［teki］，［,］你［］們［ra］乃［no］是［kore］爲［tame］他所［tasho］召［shou］，［,］進入［shinnyuu］了［ryou］他［hoka］儿［nin］子［ko］我們［warera］主［shu］耶穌［yaso］基督［kirisuto］的［teki］交通。［koutsuu.］\n"
     ]
    }
   ],
   "source": [
    "import pykakasi\n",
    "kks = pykakasi.kakasi()\n",
    "text = '神是信実的，你們乃是爲他所召，進入了他儿子我們主耶穌基督的交通。'\n",
    "result = kks.convert(text)\n",
    "print(\n",
    "    ''.join(\n",
    "        '{}［{}］'.format(\n",
    "            item['orig'],\n",
    "            item['hepburn']\n",
    "        ) for item in result\n",
    "    )\n",
    ")"
   ]
  },
  {
   "cell_type": "code",
   "execution_count": null,
   "id": "e88c35c7-0a5d-489f-a298-93ae968b0d4b",
   "metadata": {},
   "outputs": [],
   "source": [
    "import pykakasi\n",
    "kks = pykakasi.kakasi()\n",
    "\n",
    "def halfwidth_to_fullwidth(text):\n",
    "    result = ''\n",
    "    for char in text:\n",
    "        code = ord(char)\n",
    "        if code == ord(' '):\n",
    "            result += '　'\n",
    "        elif ord('!') <= code <= ord('~'):\n",
    "            # Convert ASCII characters in the range 0x0021 to 0x007E\n",
    "            result += chr(code + 0xFEE0)\n",
    "        else:\n",
    "            result += char\n",
    "    return result\n",
    "\n",
    "def render_to_latex(text):\n",
    "    for line in halfwidth_to_fullwidth(text).split('\\n'):\n",
    "        if line == '':\n",
    "            yield '\\n'\n",
    "            continue\n",
    "        for word in kks.convert(line):\n",
    "            if word['orig'] == '\\n':\n",
    "                yield '\\n'\n",
    "            elif word['kana'] == '':\n",
    "                yield f'\\\\frac{{{word[\"orig\"]}}}{{{word[\"orig\"]}}}'\n",
    "            else:\n",
    "                yield f'\\\\frac{{{word[\"kana\"]}}}{{{word[\"orig\"]}}}'\n",
    "        yield '\\n'"
   ]
  },
  {
   "cell_type": "code",
   "execution_count": null,
   "id": "4323826d-ea1c-4e2a-9813-c125ff03fd83",
   "metadata": {},
   "outputs": [
    {
     "data": {
      "text/latex": [
       "$\\displaystyle $"
      ],
      "text/plain": [
       "<IPython.core.display.Math object>"
      ]
     },
     "metadata": {},
     "output_type": "display_data"
    },
    {
     "data": {
      "text/latex": [
       "$\\displaystyle \\frac{カミ}{神}\\frac{ゼシン}{是信}\\frac{ミ}{実}\\frac{テキ}{的}\\frac{，}{，}\\frac{你}{你}\\frac{ラ}{們}\\frac{ノ}{乃}\\frac{コレ}{是}\\frac{タメ}{爲}\\frac{タショ}{他所}\\frac{ショウ}{召}\\frac{，}{，}\\frac{シンニュウ}{進入}\\frac{リョウ}{了}\\frac{ホカ}{他}\\frac{ニン}{儿}\\frac{コ}{子}\\frac{ワレラ}{我們}\\frac{シュ}{主}\\frac{ヤソ}{耶穌}\\frac{キリスト}{基督}\\frac{テキ}{的}\\frac{コウツウ。}{交通。}$"
      ],
      "text/plain": [
       "<IPython.core.display.Math object>"
      ]
     },
     "metadata": {},
     "output_type": "display_data"
    },
    {
     "data": {
      "text/latex": [
       "$\\displaystyle $"
      ],
      "text/plain": [
       "<IPython.core.display.Math object>"
      ]
     },
     "metadata": {},
     "output_type": "display_data"
    }
   ],
   "source": [
    "from IPython.display import Math\n",
    "line = ''\n",
    "for word in render_to_latex('''\n",
    "神是信実的，你們乃是爲他所召，進入了他儿子我們主耶穌基督的交通。\n",
    "'''):\n",
    "    if word == '\\n':\n",
    "        display(Math(line))\n",
    "        line = ''\n",
    "    else:\n",
    "        line += word"
   ]
  },
  {
   "cell_type": "code",
   "execution_count": null,
   "id": "83309f66-c8c0-4993-8687-160d2fb3c92d",
   "metadata": {},
   "outputs": [
    {
     "data": {
      "text/latex": [
       "$\\displaystyle $"
      ],
      "text/plain": [
       "<IPython.core.display.Math object>"
      ]
     },
     "metadata": {},
     "output_type": "display_data"
    },
    {
     "data": {
      "text/latex": [
       "$\\displaystyle \\frac{ホウ}{抱}\\frac{ケン}{歉}\\frac{，}{，}\\frac{サク}{昨}\\frac{テン}{天}\\frac{タ}{太}\\frac{ボウ}{忙}\\frac{リョウ。}{了。}$"
      ],
      "text/plain": [
       "<IPython.core.display.Math object>"
      ]
     },
     "metadata": {},
     "output_type": "display_data"
    },
    {
     "data": {
      "text/latex": [
       "$\\displaystyle $"
      ],
      "text/plain": [
       "<IPython.core.display.Math object>"
      ]
     },
     "metadata": {},
     "output_type": "display_data"
    }
   ],
   "source": [
    "from IPython.display import Math\n",
    "line = ''\n",
    "for word in render_to_latex('''\n",
    "抱歉，昨天太忙了。\n",
    "'''):\n",
    "    if word == '\\n':\n",
    "        display(Math(line))\n",
    "        line = ''\n",
    "    else:\n",
    "        line += word"
   ]
  },
  {
   "cell_type": "code",
   "execution_count": null,
   "id": "dbd1cd1e-3289-4c12-9c82-d65f31b385bc",
   "metadata": {},
   "outputs": [
    {
     "data": {
      "text/latex": [
       "$\\displaystyle $"
      ],
      "text/plain": [
       "<IPython.core.display.Math object>"
      ]
     },
     "metadata": {},
     "output_type": "display_data"
    },
    {
     "data": {
      "text/latex": [
       "$\\displaystyle \\frac{ワレ}{我}\\frac{シュウカイ}{聚會}\\frac{カンリョウ。}{完了。}\\frac{ワレ}{我}\\frac{ゲンザイ}{現在}\\frac{ザイ}{在}\\frac{チョウ}{超}\\frac{シ。}{市。}$"
      ],
      "text/plain": [
       "<IPython.core.display.Math object>"
      ]
     },
     "metadata": {},
     "output_type": "display_data"
    },
    {
     "data": {
      "text/latex": [
       "$\\displaystyle $"
      ],
      "text/plain": [
       "<IPython.core.display.Math object>"
      ]
     },
     "metadata": {},
     "output_type": "display_data"
    }
   ],
   "source": [
    "from IPython.display import Math\n",
    "line = ''\n",
    "for word in render_to_latex('''\n",
    "我聚會完了。我現在在超市。\n",
    "'''):\n",
    "    if word == '\\n':\n",
    "        display(Math(line))\n",
    "        line = ''\n",
    "    else:\n",
    "        line += word"
   ]
  },
  {
   "cell_type": "code",
   "execution_count": null,
   "id": "8c4318f1-919a-4e9d-a08d-6e7705ce96b1",
   "metadata": {},
   "outputs": [
    {
     "data": {
      "text/latex": [
       "$\\displaystyle $"
      ],
      "text/plain": [
       "<IPython.core.display.Math object>"
      ]
     },
     "metadata": {},
     "output_type": "display_data"
    },
    {
     "data": {
      "text/latex": [
       "$\\displaystyle \\frac{ヨウ}{用}\\frac{シャ}{這}\\frac{コ}{個}\\frac{ユニュウ}{輸入}\\frac{ホウテキ}{法的}\\frac{ニチゴ}{日語}\\frac{ユニュウ}{輸入}\\frac{カンジ}{漢字}\\frac{ヒカク}{比較}\\frac{ホウベン。}{方便。}$"
      ],
      "text/plain": [
       "<IPython.core.display.Math object>"
      ]
     },
     "metadata": {},
     "output_type": "display_data"
    },
    {
     "data": {
      "text/latex": [
       "$\\displaystyle $"
      ],
      "text/plain": [
       "<IPython.core.display.Math object>"
      ]
     },
     "metadata": {},
     "output_type": "display_data"
    }
   ],
   "source": [
    "from IPython.display import Math\n",
    "line = ''\n",
    "for word in render_to_latex('''\n",
    "用這個輸入法的日語輸入漢字比較方便。\n",
    "'''):\n",
    "    if word == '\\n':\n",
    "        display(Math(line))\n",
    "        line = ''\n",
    "    else:\n",
    "        line += word"
   ]
  },
  {
   "cell_type": "code",
   "execution_count": null,
   "id": "7adbe261-6f32-42f4-91bc-5f73df753f61",
   "metadata": {},
   "outputs": [
    {
     "data": {
      "text/latex": [
       "$\\displaystyle $"
      ],
      "text/plain": [
       "<IPython.core.display.Math object>"
      ]
     },
     "metadata": {},
     "output_type": "display_data"
    },
    {
     "data": {
      "text/latex": [
       "$\\displaystyle \\frac{シュ}{主}\\frac{啊}{啊}\\frac{，}{，}\\frac{ワレ}{我}\\frac{ヨ}{與}\\frac{ジョウ}{盛}\\frac{イ}{偉}\\frac{ガンイ}{願意}\\frac{ゼンシン}{全心}\\frac{ゼン}{全}\\frac{イ}{意}\\frac{ツイ}{追}\\frac{ズイ}{隨}\\frac{。}{你。}$"
      ],
      "text/plain": [
       "<IPython.core.display.Math object>"
      ]
     },
     "metadata": {},
     "output_type": "display_data"
    },
    {
     "data": {
      "text/latex": [
       "$\\displaystyle \\frac{ガンイ}{願意}\\frac{ユズル}{讓}\\frac{你}{你}\\frac{ザイ}{在}\\frac{ワレラ}{我們}\\frac{リメン}{裡面}\\frac{ショシャ}{書寫}\\frac{シンセイ}{神聖}\\frac{テキ}{的}\\frac{レキシ。}{歷史。}$"
      ],
      "text/plain": [
       "<IPython.core.display.Math object>"
      ]
     },
     "metadata": {},
     "output_type": "display_data"
    },
    {
     "data": {
      "text/latex": [
       "$\\displaystyle $"
      ],
      "text/plain": [
       "<IPython.core.display.Math object>"
      ]
     },
     "metadata": {},
     "output_type": "display_data"
    }
   ],
   "source": [
    "from IPython.display import Math\n",
    "line = ''\n",
    "for word in render_to_latex('''\n",
    "主啊，我與盛偉願意全心全意追隨你。\n",
    "願意讓你在我們裡面書寫神聖的歷史。\n",
    "'''):\n",
    "    if word == '\\n':\n",
    "        display(Math(line))\n",
    "        line = ''\n",
    "    else:\n",
    "        line += word"
   ]
  },
  {
   "cell_type": "code",
   "execution_count": null,
   "id": "984a1f4f-ba67-4bd6-b7ef-1718a2013d61",
   "metadata": {},
   "outputs": [
    {
     "data": {
      "text/latex": [
       "$\\displaystyle $"
      ],
      "text/plain": [
       "<IPython.core.display.Math object>"
      ]
     },
     "metadata": {},
     "output_type": "display_data"
    },
    {
     "data": {
      "text/latex": [
       "$\\displaystyle \\frac{ワレラ}{我們}\\frac{ソウ}{早}\\frac{テン}{點}\\frac{ガッカイ}{學會}\\frac{シャ}{這}\\frac{タネ}{種}\\frac{ニセ}{偽}\\frac{ニホンゴ。}{日本語。}\\frac{ワレラ}{我們}\\frac{カ}{可}\\frac{イ}{以}\\frac{ヨウ}{用}\\frac{ニセ}{偽}\\frac{ニホンゴ}{日本語}\\frac{コウ}{交}\\frac{ダン。}{談。}\\frac{ボツ}{沒}\\frac{ユウジン}{有人}\\frac{ノウ}{能}\\frac{夠}{夠}\\frac{チョウ}{聽}\\frac{。}{懂。}$"
      ],
      "text/plain": [
       "<IPython.core.display.Math object>"
      ]
     },
     "metadata": {},
     "output_type": "display_data"
    },
    {
     "data": {
      "text/latex": [
       "$\\displaystyle $"
      ],
      "text/plain": [
       "<IPython.core.display.Math object>"
      ]
     },
     "metadata": {},
     "output_type": "display_data"
    }
   ],
   "source": [
    "from IPython.display import Math\n",
    "line = ''\n",
    "for word in render_to_latex('''\n",
    "我們早點學會這種偽日本語。我們可以用偽日本語交談。沒有人能夠聽懂。\n",
    "'''):\n",
    "    if word == '\\n':\n",
    "        display(Math(line))\n",
    "        line = ''\n",
    "    else:\n",
    "        line += word"
   ]
  },
  {
   "cell_type": "code",
   "execution_count": null,
   "id": "48b6f3e4-8a99-4693-83a8-994849000780",
   "metadata": {},
   "outputs": [
    {
     "data": {
      "text/latex": [
       "$\\displaystyle $"
      ],
      "text/plain": [
       "<IPython.core.display.Math object>"
      ]
     },
     "metadata": {},
     "output_type": "display_data"
    },
    {
     "data": {
      "text/latex": [
       "$\\displaystyle \\frac{＃＃＃　}{＃＃＃　}\\frac{サン}{三}\\frac{ }{ }\\frac{サン}{三}\\frac{　}{　}\\frac{ヒョウ}{憑}\\frac{チョ}{著}\\frac{眾}{眾}\\frac{ショウ}{召}\\frac{カイ}{會}\\frac{ザイ}{在}\\frac{キリスト}{基督}\\frac{シンタイ}{身體}\\frac{サト}{里}\\frac{テキ}{的}\\frac{コウツウ}{交通}\\frac{，}{，}\\frac{ヘイアン}{平安}\\frac{テキ}{的}\\frac{カミ}{神}\\frac{シュウ}{就}\\frac{ヨウ}{要}\\frac{ショウ}{將}\\frac{サン}{撒}\\frac{タダ}{但}\\frac{セン}{踐}\\frac{トウ}{踏}\\frac{ザイ}{在}\\frac{ワレラ}{我們}\\frac{テキ}{的}\\frac{腳}{腳}\\frac{シタ}{下}\\frac{——}{——}\\frac{ラ}{羅}\\frac{ジュウロク}{十六}\\frac{２０}{２０}\\frac{。}{。}$"
      ],
      "text/plain": [
       "<IPython.core.display.Math object>"
      ]
     },
     "metadata": {},
     "output_type": "display_data"
    },
    {
     "data": {
      "text/latex": [
       "$\\displaystyle $"
      ],
      "text/plain": [
       "<IPython.core.display.Math object>"
      ]
     },
     "metadata": {},
     "output_type": "display_data"
    },
    {
     "data": {
      "text/latex": [
       "$\\displaystyle \\frac{＃＃　＊＊}{＃＃　＊＊}\\frac{リク}{陸}\\frac{ }{ }\\frac{リク}{陸}\\frac{　}{　}\\frac{ローマ}{羅馬}\\frac{ジュウロク}{十六}\\frac{ショウ}{章}\\frac{キュウ}{給}\\frac{リョウ}{了}\\frac{ワレラ}{我們}\\frac{シト}{使徒}\\frac{ポール}{保羅}\\frac{絕}{絕}\\frac{カ}{佳}\\frac{テキ}{的}\\frac{ボウ}{榜}\\frac{サマ}{樣}\\frac{，}{，}\\frac{ホカ}{他}\\frac{ショウ}{將}\\frac{眾}{眾}\\frac{セイト}{聖徒}\\frac{オビ}{帶}\\frac{トウ}{到}\\frac{キリスト}{基督}\\frac{シンタイゼンタイ}{身體全體}\\frac{ソウ}{相}\\frac{チョウ}{調}\\frac{テキ}{的}\\frac{セイカツ}{生活}\\frac{ナカ}{中}\\frac{；}{；}\\frac{ナカ}{中}\\frac{ノ}{乃}\\frac{コレ}{是}\\frac{ザイ}{在}\\frac{シャ}{這}\\frac{サマ}{樣}\\frac{テキ}{的}\\frac{セイカツ}{生活}\\frac{ナカ}{中}\\frac{，}{，}\\frac{ワレラ}{我們}\\frac{サイノウ}{才能}\\frac{シンセイ}{真正}\\frac{チ}{地}\\frac{ザイショウ}{在生}\\frac{メイチュウ}{命中}\\frac{サク}{作}\\frac{オウ}{王}\\frac{——}{——}\\frac{ゴ}{五}\\frac{１７：＊＊}{１７：＊＊}$"
      ],
      "text/plain": [
       "<IPython.core.display.Math object>"
      ]
     },
     "metadata": {},
     "output_type": "display_data"
    },
    {
     "data": {
      "text/latex": [
       "$\\displaystyle $"
      ],
      "text/plain": [
       "<IPython.core.display.Math object>"
      ]
     },
     "metadata": {},
     "output_type": "display_data"
    },
    {
     "data": {
      "text/latex": [
       "$\\displaystyle \\frac{＃＃＃　}{＃＃＃　}\\frac{イチ}{一}\\frac{ }{ }\\frac{イチ}{一}\\frac{　}{　}\\frac{ポール}{保羅}\\frac{ツイ}{對}\\frac{セイト}{聖徒}\\frac{イチイチ}{一一}\\frac{テイ}{提}\\frac{メイ}{名}\\frac{トン}{問}\\frac{アン}{安}\\frac{，}{，}\\frac{イタ}{至}\\frac{ショウ}{少}\\frac{ユウジ}{有二}\\frac{ジュウ}{十}\\frac{ナナコ}{七個}\\frac{ミョウジ}{名字}\\frac{；}{；}\\frac{ミョウジ}{名字}\\frac{シャ}{這}\\frac{キュウ}{給}\\frac{ワレラ}{我們}\\frac{カン}{看}\\frac{ケン}{見}\\frac{，}{，}\\frac{ホカ}{他}\\frac{ツイ}{對}\\frac{每}{每}\\frac{イチイ}{一位}\\frac{セイト}{聖徒}\\frac{ミヤコ}{都}\\frac{ソウトウ}{相當}\\frac{テキ}{的}\\frac{ニンシキ、}{認識、}\\frac{リョウ}{瞭}\\frac{カイ、}{解、}\\frac{カンシン}{關心}\\frac{——}{——}\\frac{ジュウロク}{十六}\\frac{１～１６。}{１～１６。}$"
      ],
      "text/plain": [
       "<IPython.core.display.Math object>"
      ]
     },
     "metadata": {},
     "output_type": "display_data"
    },
    {
     "data": {
      "text/latex": [
       "$\\displaystyle $"
      ],
      "text/plain": [
       "<IPython.core.display.Math object>"
      ]
     },
     "metadata": {},
     "output_type": "display_data"
    },
    {
     "data": {
      "text/latex": [
       "$\\displaystyle \\frac{＃＃＃　}{＃＃＃　}\\frac{ニ}{二}\\frac{ }{ }\\frac{ニ}{二}\\frac{　}{　}\\frac{ポール}{保羅}\\frac{テキ}{的}\\frac{スイセン}{推薦}\\frac{ヨ}{與}\\frac{トン}{問}\\frac{アン}{安}\\frac{オモテ}{表}\\frac{トオル}{達}\\frac{眾}{眾}\\frac{セイト}{聖徒}\\frac{ユキ}{之}\\frac{カン}{間}\\frac{ソウゴ}{相互}\\frac{テキ}{的}\\frac{カン}{關}\\frac{セツ}{切}\\frac{，}{，}\\frac{イ}{以}\\frac{キュウ}{及}\\frac{眾}{眾}\\frac{ショウ}{召}\\frac{カイ}{會}\\frac{ユキ}{之}\\frac{カン}{間}\\frac{ソウゴ}{相互}\\frac{テキ}{的}\\frac{コウツウ}{交通}\\frac{——}{——}\\frac{サン}{參}\\frac{ニシ}{西}\\frac{シ}{四}\\frac{１５～１６。}{１５～１６。}$"
      ],
      "text/plain": [
       "<IPython.core.display.Math object>"
      ]
     },
     "metadata": {},
     "output_type": "display_data"
    },
    {
     "data": {
      "text/latex": [
       "$\\displaystyle $"
      ],
      "text/plain": [
       "<IPython.core.display.Math object>"
      ]
     },
     "metadata": {},
     "output_type": "display_data"
    }
   ],
   "source": [
    "from IPython.display import Math\n",
    "line = ''\n",
    "for word in render_to_latex('''\n",
    "### 三  憑著眾召會在基督身體里的交通，平安的神就要將撒但踐踏在我們的腳下——羅十六20。\n",
    "\n",
    "## **陸  羅馬十六章給了我們使徒保羅絕佳的榜樣，他將眾聖徒帶到基督身體全體相調的生活中；乃是在這樣的生活中，我們才能真正地在生命中作王——五17：**\n",
    "\n",
    "### 一  保羅對聖徒一一提名問安，至少有二十七個名字；這給我們看見，他對每一位聖徒都相當的認識、瞭解、關心——十六1～16。\n",
    "\n",
    "### 二  保羅的推薦與問安表達眾聖徒之間相互的關切，以及眾召會之間相互的交通——參西四15～16。\n",
    "'''):\n",
    "    if word == '\\n':\n",
    "        display(Math(line))\n",
    "        line = ''\n",
    "    else:\n",
    "        line += word"
   ]
  },
  {
   "cell_type": "code",
   "execution_count": null,
   "id": "7718106c-e30c-4f00-aca2-b7e07c53c4a6",
   "metadata": {},
   "outputs": [
    {
     "data": {
      "text/latex": [
       "$\\displaystyle $"
      ],
      "text/plain": [
       "<IPython.core.display.Math object>"
      ]
     },
     "metadata": {},
     "output_type": "display_data"
    },
    {
     "data": {
      "text/latex": [
       "$\\displaystyle \\frac{キョウ}{今日}\\frac{ユウジ}{有時}\\frac{カン}{間}\\frac{テキ}{的}\\frac{ハナシ}{話}\\frac{，}{，}\\frac{トウ}{到}\\frac{ギンコウ}{銀行}\\frac{キョ}{去}\\frac{トン}{問}\\frac{トン}{問}\\frac{：}{：}\\frac{ノウヒ}{能否}\\frac{ハ、}{把、}\\frac{ヒライ}{平井}\\frac{シテン、}{支店、}\\frac{テンセイ、}{転成、}\\frac{ヨコヤマチョウ}{横山町}\\frac{シテン？}{支店？}$"
      ],
      "text/plain": [
       "<IPython.core.display.Math object>"
      ]
     },
     "metadata": {},
     "output_type": "display_data"
    },
    {
     "data": {
      "text/latex": [
       "$\\displaystyle $"
      ],
      "text/plain": [
       "<IPython.core.display.Math object>"
      ]
     },
     "metadata": {},
     "output_type": "display_data"
    }
   ],
   "source": [
    "from IPython.display import Math\n",
    "line = ''\n",
    "for word in render_to_latex('''\n",
    "今日有時間的話，到銀行去問問：能否把、平井支店、転成、横山町支店？\n",
    "'''):\n",
    "    if word == '\\n':\n",
    "        display(Math(line))\n",
    "        line = ''\n",
    "    else:\n",
    "        line += word"
   ]
  },
  {
   "cell_type": "code",
   "execution_count": null,
   "id": "bc4247e6",
   "metadata": {},
   "outputs": [
    {
     "data": {
      "text/latex": [
       "$\\displaystyle $"
      ],
      "text/plain": [
       "<IPython.core.display.Math object>"
      ]
     },
     "metadata": {},
     "output_type": "display_data"
    },
    {
     "data": {
      "text/latex": [
       "$\\displaystyle \\frac{ミヨシ}{美好}\\frac{テキ}{的}\\frac{セイカツ}{生活}$"
      ],
      "text/plain": [
       "<IPython.core.display.Math object>"
      ]
     },
     "metadata": {},
     "output_type": "display_data"
    },
    {
     "data": {
      "text/latex": [
       "$\\displaystyle $"
      ],
      "text/plain": [
       "<IPython.core.display.Math object>"
      ]
     },
     "metadata": {},
     "output_type": "display_data"
    }
   ],
   "source": [
    "from IPython.display import Math\n",
    "line = ''\n",
    "for word in render_to_latex('''\n",
    "美好的生活\n",
    "'''):\n",
    "    if word == '\\n':\n",
    "        display(Math(line))\n",
    "        line = ''\n",
    "    else:\n",
    "        line += word"
   ]
  },
  {
   "cell_type": "code",
   "execution_count": null,
   "id": "cf19d287",
   "metadata": {},
   "outputs": [
    {
     "data": {
      "text/latex": [
       "$\\displaystyle $"
      ],
      "text/plain": [
       "<IPython.core.display.Math object>"
      ]
     },
     "metadata": {},
     "output_type": "display_data"
    },
    {
     "data": {
      "text/latex": [
       "$\\displaystyle \\frac{ゲン}{嚴}\\frac{アカツキ}{曉}\\frac{アキラ}{亮}$"
      ],
      "text/plain": [
       "<IPython.core.display.Math object>"
      ]
     },
     "metadata": {},
     "output_type": "display_data"
    },
    {
     "data": {
      "text/latex": [
       "$\\displaystyle $"
      ],
      "text/plain": [
       "<IPython.core.display.Math object>"
      ]
     },
     "metadata": {},
     "output_type": "display_data"
    }
   ],
   "source": [
    "from IPython.display import Math\n",
    "line = ''\n",
    "for word in render_to_latex('''\n",
    "嚴曉亮\n",
    "'''):\n",
    "    if word == '\\n':\n",
    "        display(Math(line))\n",
    "        line = ''\n",
    "    else:\n",
    "        line += word"
   ]
  },
  {
   "cell_type": "markdown",
   "id": "f7b8a2c2",
   "metadata": {},
   "source": [
    "---\n",
    "[Unihan](https://unicode.org/charts/unihan.html)"
   ]
  },
  {
   "cell_type": "code",
   "execution_count": null,
   "id": "bfd61b90",
   "metadata": {},
   "outputs": [],
   "source": [
    "%%bash\n",
    "pip install unihan-etl"
   ]
  },
  {
   "cell_type": "code",
   "execution_count": null,
   "id": "497ef873",
   "metadata": {},
   "outputs": [],
   "source": [
    "%%bash\n",
    "pip install cihai"
   ]
  },
  {
   "cell_type": "markdown",
   "id": "d51b090c-26b1-4804-99bb-1438593b3274",
   "metadata": {},
   "source": [
    "あいうえおかきくけこさしすせそたちつてとなにぬねのはひふへほまみむめもやゆよらりるれろわをん"
   ]
  },
  {
   "cell_type": "code",
   "execution_count": null,
   "id": "7ee273e7",
   "metadata": {},
   "outputs": [
    {
     "name": "stderr",
     "output_type": "stream",
     "text": [
      "Exists, but is not a file: /home/jupyter-saintway/.cache/unihan_etl/downloads/Unihan.zip\n",
      "Downloading Unihan.zip...\n",
      "http://www.unicode.org/Public/UNIDATA/Unihan.zip to /home/jupyter-saintway/.cache/unihan_etl/downloads/Unihan.zip\n"
     ]
    },
    {
     "name": "stdout",
     "output_type": "stream",
     "text": [
      "Total size: 8.0Mb\n",
      "100% [==================================================>]\r"
     ]
    },
    {
     "name": "stderr",
     "output_type": "stream",
     "text": [
      "extract_zip dest dir: /home/jupyter-saintway/.cache/unihan_etl/downloads\n"
     ]
    },
    {
     "name": "stdout",
     "output_type": "stream",
     "text": [
      "\n",
      "\n"
     ]
    },
    {
     "name": "stderr",
     "output_type": "stream",
     "text": [
      "Loading data: /home/jupyter-saintway/.cache/unihan_etl/downloads/Unihan_DictionaryLikeData.txt, /home/jupyter-saintway/.cache/unihan_etl/downloads/Unihan_IRGSources.txt, /home/jupyter-saintway/.cache/unihan_etl/downloads/Unihan_NumericValues.txt, /home/jupyter-saintway/.cache/unihan_etl/downloads/Unihan_RadicalStrokeCounts.txt, /home/jupyter-saintway/.cache/unihan_etl/downloads/Unihan_Readings.txt, /home/jupyter-saintway/.cache/unihan_etl/downloads/Unihan_Variants.txt\n",
      "Done loading data.\n",
      "Collecting field data...\n"
     ]
    },
    {
     "name": "stdout",
     "output_type": "stream",
     "text": [
      "lookup for 好: good, excellent, fine; well\n",
      "matches for \"good\": 㑘, 㑤, 㓛, 㘬, 㙉, 㚃, 㚒, 㚥, 㛦, 㜴, 㜺, 㝖, 㤛, 㦝, 㫑, 㭋, 㰬, 㱅, 㱡, 㳤, 㹏, 㹛, 㽥, 㾎, 㿲, 䃽, 䄈, 䄉, 䄐, 䄙, 䋬, 䌖, 䌝, 䌤, 䌧, 䌳, 䏂, 䐌, 䐚, 䑞, 䒁, 䒏, 䒐, 䙤, 䚱, 䚷, 䚸, 䜴, 䝕, 䝨, 䢇, 䣨, 䣩, 䤒, 䩂, 䩇, 䩊, 䫑, 䫢, 䮐, 䯭, 䱼, 䴆, 佳, 佼, 功, 吉, 咊, 善, 塡, 填, 好, 姤, 姽, 娥, 宓, 昌, 淑, 祉, 祥, 祦, 祯, 祺, 禎, 福, 禔, 禨, 羑, 羭, 腆, 臧, 良, 貨, 賍, 賢, 贒, 贓, 贜, 贤, 货, 赃, 醇, 頔, 顓, 颛, 餱, 𠿭, 𡠜, 𦈟, 𬱖, 良, 祥, 𦈜, 𫗯, 𫲗, 𬥄, 𰷭 \n"
     ]
    }
   ],
   "source": [
    "from cihai.core import Cihai\n",
    "\n",
    "c = Cihai()\n",
    "\n",
    "if not c.unihan.is_bootstrapped:  # download and install Unihan to db\n",
    "    c.unihan.bootstrap()\n",
    "\n",
    "query = c.unihan.lookup_char('好')\n",
    "glyph = query.first()\n",
    "print(\"lookup for 好: %s\" % glyph.kDefinition)\n",
    "# lookup for 好: good, excellent, fine; well\n",
    "\n",
    "query = c.unihan.reverse_char('good')\n",
    "print('matches for \"good\": %s ' % ', '.join([glph.char for glph in query]))\n",
    "# matches for \"good\": 㑘, 㑤, 㓛, 㘬, 㙉, 㚃, 㚒, 㚥, 㛦, 㜴, 㜺, 㝖, 㤛, 㦝, ..."
   ]
  },
  {
   "cell_type": "code",
   "execution_count": null,
   "id": "2ac401ff",
   "metadata": {},
   "outputs": [],
   "source": [
    "from cihai.core import Cihai\n",
    "\n",
    "c = Cihai()\n",
    "\n",
    "if not c.unihan.is_bootstrapped:  # download and install Unihan to db\n",
    "    c.unihan.bootstrap()\n",
    "\n",
    "query = c.unihan.lookup_char('讀')\n",
    "glyph = query.first()"
   ]
  },
  {
   "cell_type": "code",
   "execution_count": null,
   "id": "a2ee1ff8",
   "metadata": {},
   "outputs": [
    {
     "data": {
      "text/plain": [
       "'YOMU'"
      ]
     },
     "execution_count": null,
     "metadata": {},
     "output_type": "execute_result"
    }
   ],
   "source": [
    "glyph.kJapaneseKun"
   ]
  },
  {
   "cell_type": "code",
   "execution_count": null,
   "id": "5f1c52a8",
   "metadata": {},
   "outputs": [
    {
     "data": {
      "text/plain": [
       "'TOKU TOU DOKU'"
      ]
     },
     "execution_count": null,
     "metadata": {},
     "output_type": "execute_result"
    }
   ],
   "source": [
    "glyph.kJapaneseOn"
   ]
  },
  {
   "cell_type": "code",
   "execution_count": null,
   "id": "ec5ad922",
   "metadata": {},
   "outputs": [],
   "source": [
    "glyph.kRSJapanese"
   ]
  },
  {
   "cell_type": "code",
   "execution_count": null,
   "id": "27bd701a",
   "metadata": {},
   "outputs": [],
   "source": [
    "glyph.kZVariant"
   ]
  },
  {
   "cell_type": "code",
   "execution_count": null,
   "id": "9555a3ba",
   "metadata": {},
   "outputs": [],
   "source": [
    "glyph.kSemanticVariant"
   ]
  },
  {
   "cell_type": "code",
   "execution_count": null,
   "id": "e8bcb7ce",
   "metadata": {},
   "outputs": [
    {
     "data": {
      "text/plain": [
       "'U+8BFB'"
      ]
     },
     "execution_count": null,
     "metadata": {},
     "output_type": "execute_result"
    }
   ],
   "source": [
    "glyph.kSimplifiedVariant"
   ]
  },
  {
   "cell_type": "code",
   "execution_count": null,
   "id": "e679c1bc",
   "metadata": {},
   "outputs": [
    {
     "data": {
      "text/plain": [
       "'U+8B80'"
      ]
     },
     "execution_count": null,
     "metadata": {},
     "output_type": "execute_result"
    }
   ],
   "source": [
    "glyph.kTraditionalVariant"
   ]
  },
  {
   "cell_type": "code",
   "execution_count": null,
   "id": "811bbd84",
   "metadata": {},
   "outputs": [],
   "source": [
    "glyph.kCompatibilityVariant"
   ]
  },
  {
   "cell_type": "code",
   "execution_count": null,
   "id": "514fbaeb",
   "metadata": {},
   "outputs": [],
   "source": [
    "glyph.kSpecializedSemanticVariant"
   ]
  },
  {
   "cell_type": "code",
   "execution_count": null,
   "id": "2ae7b0d3",
   "metadata": {},
   "outputs": [
    {
     "data": {
      "text/plain": [
       "['__abstract__',\n",
       " '__annotations__',\n",
       " '__class__',\n",
       " '__delattr__',\n",
       " '__dict__',\n",
       " '__dir__',\n",
       " '__doc__',\n",
       " '__eq__',\n",
       " '__format__',\n",
       " '__ge__',\n",
       " '__getattribute__',\n",
       " '__gt__',\n",
       " '__hash__',\n",
       " '__init__',\n",
       " '__init_subclass__',\n",
       " '__le__',\n",
       " '__lt__',\n",
       " '__mapper__',\n",
       " '__module__',\n",
       " '__ne__',\n",
       " '__new__',\n",
       " '__reduce__',\n",
       " '__reduce_ex__',\n",
       " '__repr__',\n",
       " '__setattr__',\n",
       " '__sizeof__',\n",
       " '__str__',\n",
       " '__subclasshook__',\n",
       " '__table__',\n",
       " '__weakref__',\n",
       " '_sa_automapbase_bookkeeping',\n",
       " '_sa_class_manager',\n",
       " '_sa_decl_prepare',\n",
       " '_sa_instance_state',\n",
       " '_sa_raise_deferred_config',\n",
       " '_sa_registry',\n",
       " 'by_module',\n",
       " 'char',\n",
       " 'classes',\n",
       " 'kAccountingNumeric',\n",
       " 'kCangjie',\n",
       " 'kCantonese',\n",
       " 'kCheungBauer',\n",
       " 'kCihaiT',\n",
       " 'kCompatibilityVariant',\n",
       " 'kDefinition',\n",
       " 'kFenn',\n",
       " 'kFourCornerCode',\n",
       " 'kFrequency',\n",
       " 'kGradeLevel',\n",
       " 'kHDZRadBreak',\n",
       " 'kHKGlyph',\n",
       " 'kHangul',\n",
       " 'kHanyuPinlu',\n",
       " 'kHanyuPinyin',\n",
       " 'kJapaneseKun',\n",
       " 'kJapaneseOn',\n",
       " 'kKorean',\n",
       " 'kMandarin',\n",
       " 'kOtherNumeric',\n",
       " 'kPhonetic',\n",
       " 'kPrimaryNumeric',\n",
       " 'kRSAdobe_Japan1_6',\n",
       " 'kRSJapanese',\n",
       " 'kRSKanWa',\n",
       " 'kRSKangXi',\n",
       " 'kRSKorean',\n",
       " 'kRSUnicode',\n",
       " 'kSemanticVariant',\n",
       " 'kSimplifiedVariant',\n",
       " 'kSpecializedSemanticVariant',\n",
       " 'kTang',\n",
       " 'kTotalStrokes',\n",
       " 'kTraditionalVariant',\n",
       " 'kVietnamese',\n",
       " 'kXHC1983',\n",
       " 'kZVariant',\n",
       " 'metadata',\n",
       " 'prepare',\n",
       " 'registry',\n",
       " 'ucn']"
      ]
     },
     "execution_count": null,
     "metadata": {},
     "output_type": "execute_result"
    }
   ],
   "source": [
    "dir(glyph)"
   ]
  }
 ],
 "metadata": {
  "kernelspec": {
   "display_name": "Python 3 (ipykernel)",
   "language": "python",
   "name": "python3"
  }
 },
 "nbformat": 4,
 "nbformat_minor": 5
}
