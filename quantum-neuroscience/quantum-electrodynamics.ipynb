{
 "cells": [
  {
   "cell_type": "markdown",
   "id": "bf45f731",
   "metadata": {},
   "source": [
    "## 0.2 Relativistic Quantum Electrodynamics\n",
    "\n",
    "Full Quantum Electrodynamics (QED) describes interactions between electrons and positrons, described by the electric current density $ j $, and photons, described by the electromagnetic potential $ A $. The interaction, formally given by\n",
    "\n",
    "$$ V_{\\text{RQED}} = e \\int d^3x \\, j(x) A(x), $$\n",
    "\n",
    "(0.2)\n",
    "\n",
    "turns out to be very singular, since $ j $ and $ A $ are distributions, but we ignore these ultraviolet problems here for a moment. Given the interaction, the next step is to write down the scattering matrix. Rules of the game of Quantum Mechanics give\n",
    "\n",
    "$$ S = T \\exp \\left( - i \\int_{-\\infty}^{\\infty} dt \\, V_{\\text{RQED}}^I (t) \\right) $$\n",
    "\n",
    "(0.3)\n",
    "\n",
    "where $ V_{\\text{RQED}}^I $ is the interaction in the interaction picture. To compute the probability that a system evolves from some initial state $ |\\alpha\\rangle $ to a final state $ |\\beta\\rangle $, one needs to compute the scattering matrix element $ \\langle \\alpha | S | \\beta \\rangle $. Let us consider Compton scattering, i.e. collision of one electron and one photon. The probability of a transition $ \\alpha \\rightarrow \\beta $ (collision cross section $ \\sigma $) satisfies\n",
    "\n",
    "$$ \\sigma \\sim |\\langle \\alpha | S | \\beta \\rangle|^2. $$\n",
    "\n",
    "(0.4)\n",
    "\n",
    "$ \\langle \\alpha | S | \\beta \\rangle $ can be computed as a power series in the coupling constant $ e $ and the resulting expressions can be depicted as Feynman diagrams which capture the intuitive meaning of the respective contributions. The leading contribution is given by a tree diagram (TREE DIAGRAM). Further contributions involve emission and reabsorption of virtual photons (RADIATIVE CORRECTION DIAGRAM). These contributions have the so-called infrared divergences, that is divergences at small values of the photon energy. These divergences can be traced back to the vanishing mass of the photon and integration over the whole space in (0.2). They have to be regularized by introducing an infrared cut-off $ \\lambda > 0 $ (simply eliminating photons of energy smaller than $ \\lambda $). The resulting $ S $-matrix element $ \\langle \\alpha | S_{\\lambda} | \\beta \\rangle $ can be computed, but $ \\lim_{\\lambda \\rightarrow 0} \\langle \\alpha | S_{\\lambda} | \\beta \\rangle = 0 $ as if there was no scattering. Thus standard rules of Quantum Mechanics give an experimentally unacceptable result: $ \\sigma = 0 $! This is one manifestation of the infrared problem.\n",
    "\n",
    "A way out, proposed by Yennie, Frautschi, and Suura [3] is a serious deviation from these rules of the game. We should not consider the process $ \\alpha \\rightarrow \\beta $ alone, but a whole family of processes $ \\alpha \\rightarrow \\beta_n $, where $ \\beta_n $ involves emission of $ n $ photons of total energy $ E_t $ in addition to particles present in $ \\beta $. (SOFT PHOTON EMISSION DIAGRAM). The resulting inclusive cross-section is given by\n",
    "\n",
    "$$ \\sigma_{\\text{inc}}(E_t) \\sim \\lim_{\\lambda \\rightarrow 0} \\sum_{n=0}^{\\infty} |\\langle \\alpha | S_{\\lambda} | \\beta \\rangle|^2, $$\n",
    "\n",
    "(0.5)\n",
    "\n",
    "which is finite and not identically zero. It gives results consistent with experiments if $ E_t $ is chosen below the sensitivity of the detector. A mathematically rigorous derivation of this formula from first principles has not been achieved in the perturbative framework of relativistic QED, in spite of many attempts [2]. In contrast, in the framework of non-relativistic QED, there has been steady progress in understanding of the infrared problem. Important advantage: availability of a Hamiltonian as a self-adjoint operator on a Hilbert space (and not just a formal power series).\n",
    "\n",
    "The problem of relaxation of a Hydrogen atom to the ground state is also difficult to study in the perturbative setting of relativistic QED, because an electron confined in an atom cannot be considered a small perturbation of a freely moving electron."
   ]
  },
  {
   "cell_type": "markdown",
   "id": "626fb88a-2be8-49cb-b29d-99148f39fbbd",
   "metadata": {},
   "source": [
    "---\n",
    "$$ \\frac{1}{\\sigma} = -\\frac{1}{n\\Phi} \\frac{d\\Phi}{dz}, $$\n",
    "\n",
    "where $d\\Phi$ is the loss of the flux due to the event, $dz$ is the thickness of the target material, and $n$ is the number density."
   ]
  },
  {
   "cell_type": "markdown",
   "id": "1144e865",
   "metadata": {},
   "source": [
    "## 0.2 相对论量子电动力学\n",
    "\n",
    "完整的量子电动力学 (QED) 描述了由电流密度 $ j $ 描述的电子和正电子，以及由电磁势 $ A $ 描述的光子之间的相互作用。相互作用形式上由以下公式给出\n",
    "\n",
    "$$ V_{\\text{RQED}} = e \\int d^3x \\, j(x) A(x), $$\n",
    "\n",
    "(0.2)\n",
    "\n",
    "由于 $ j $ 和 $ A $ 是分布函数，这个相互作用非常奇异，但我们暂时忽略这些紫外问题。给定相互作用，下一步是写出散射矩阵。量子力学的规则给出\n",
    "\n",
    "$$ S = T \\exp \\left( - i \\int_{-\\infty}^{\\infty} dt \\, V_{\\text{RQED}}^I (t) \\right) $$\n",
    "\n",
    "(0.3)\n",
    "\n",
    "其中 $ V_{\\text{RQED}}^I $ 是相互作用绘景中的相互作用。要计算系统从初态 $ |\\alpha\\rangle $ 演化到终态 $ |\\beta\\rangle $ 的概率，需要计算散射矩阵元 $ \\langle \\alpha | S | \\beta \\rangle $。让我们考虑康普顿散射，即一个电子和一个光子的碰撞。跃迁 $ \\alpha \\rightarrow \\beta $ 的概率（碰撞截面 $ \\sigma $）满足\n",
    "\n",
    "$$ \\sigma \\sim |\\langle \\alpha | S | \\beta \\rangle|^2. $$\n",
    "\n",
    "(0.4)\n",
    "\n",
    "$ \\langle \\alpha | S | \\beta \\rangle $ 可以作为耦合常数 $ e $ 的幂级数来计算，结果的表达式可以用费曼图来表示，费曼图捕捉了相应贡献的直观意义。主要贡献由树图给出（TREE DIAGRAM）。进一步的贡献涉及虚光子的发射和再吸收（RADIATIVE CORRECTION DIAGRAM）。这些贡献有所谓的红外发散，即在光子能量很小的值处的发散。这些发散可以追溯到光子的消失质量和在公式 (0.2) 中对整个空间的积分。必须通过引入一个红外截止 $ \\lambda > 0 $ 来正规化（简单地消除能量小于 $ \\lambda $ 的光子）。结果 $ S $-矩阵元 $ \\langle \\alpha | S_{\\lambda} | \\beta \\rangle $ 可以计算得到，但 $ \\lim_{\\lambda \\rightarrow 0} \\langle \\alpha | S_{\\lambda} | \\beta \\rangle = 0 $，就好像没有散射一样。因此，量子力学的标准规则给出了一个实验上不可接受的结果：$ \\sigma = 0 $！这是红外问题的一种表现。\n",
    "\n",
    "Yennie, Frautschi 和 Suura [3] 提出的一种解决方法是对这些规则的严重偏离。我们不应该只考虑过程 $ \\alpha \\rightarrow \\beta $，而是应该考虑一系列过程 $ \\alpha \\rightarrow \\beta_n $，其中 $ \\beta_n $ 除了存在于 $ \\beta $ 中的粒子外，还涉及总能量为 $ E_t $ 的 $ n $ 个光子的发射（SOFT PHOTON EMISSION DIAGRAM）。得到的包含的截面给出\n",
    "\n",
    "$$ \\sigma_{\\text{inc}}(E_t) \\sim \\lim_{\\lambda \\rightarrow 0} \\sum_{n=0}^{\\infty} |\\langle \\alpha | S_{\\lambda} | \\beta \\rangle|^2, $$\n",
    "\n",
    "(0.5)\n",
    "\n",
    "这既是有限的，也不恒为零。如果选择 $ E_t $ 低于探测器的灵敏度，它给出的结果与实验一致。在相对论 QED 的微扰框架中，尽管进行了许多尝试，但从第一原理数学上严格推导这一公式尚未实现[2]。相比之下，在非相对论 QED 的框架中，对于红外问题的理解已经取得了稳步进展。重要的优势是：哈密顿量作为希尔伯特空间上的自伴算符（而不仅仅是形式上的幂级数）是可用的。\n",
    "\n",
    "研究氢原子松弛到基态的问题在相对论 QED 的微扰设置中也很困难，因为被束缚在原子中的电子不能被视为自由运动电子的微小扰动。"
   ]
  },
  {
   "cell_type": "markdown",
   "id": "bd0f2957-5ec1-418e-88ad-5599722c6ded",
   "metadata": {},
   "source": [
    "---\n",
    "$$ \\frac{1}{\\sigma} = -\\frac{1}{n\\Phi} \\frac{d\\Phi}{dz}, $$\n",
    "\n",
    "其中 $d\\Phi$ 是由于事件引起的通量损失，$dz$ 是靶材料的厚度，$n$ 是数密度。"
   ]
  },
  {
   "cell_type": "markdown",
   "id": "e860c7b4",
   "metadata": {},
   "source": [
    "## 0.3 Non-relativistic Quantum Electrodynamics\n",
    "\n",
    "Start from the relativistic QED interaction:\n",
    "\n",
    "$$ V_{\\text{RQED}} = e \\int d^3 x \\, j(x)A(x) $$\n",
    "\n",
    "1. $ j $ and $ A $ are distributions, problems with pointlike multiplication. We need to regularize: Replace $ j $ with a convolution $ j \\ast \\varphi $ for a nice function $ \\varphi $ so that $ j \\ast \\varphi $ is now also a nice function. $ \\varphi $ plays a role of charge distribution of the electron.\n",
    "\n",
    "2. Integral over whole $ \\mathbb{R}^3 $ is difficult to control. It helps to remove terms from $ j $ which are responsible for electron-positron pair creation. The result can be denoted as no-pairs current $ j_{np} $.\n",
    "\n",
    "Thus we are left with the interaction which is a controllable expression:\n",
    "\n",
    "$$ V_{\\text{NRQED}} = \\int d^3 x \\, (j_{np} \\ast \\varphi)(x) A(x) $$\n",
    "\n",
    "After some further steps and simplifications one obtains the standard Hamiltonian of non-relativistic QED (Pauli-Fierz Hamiltonian):\n",
    "\n",
    "$$ H_{\\text{NRQED}} = \\sum_{j=1}^N \\left( \\frac{1}{2m} \\left( \\mathbf{p}_j - e(A \\ast \\varphi)(\\mathbf{q}_j) \\right)^2 + V_c(\\mathbf{q}) + H_f \\right) $$\n",
    "\n",
    "where $ (\\mathbf{p}_j, \\mathbf{q}_j) $ are positions and momenta of electrons, $ V_c $ is the Coulomb interaction between the electrons and $ H_f $ is the energy of photons. It is a reasonable approximation to full QED in the low energy regime, in particular below the electron-positron pair production threshold. In the next section we will obtain this Hamiltonian along a different route by quantization of classical Maxwell equations coupled to particles.\n",
    "\n",
    "## 0.4 Outline of the course\n",
    "\n",
    "1. Quantization of charged particles interacting with the electromagnetic field.\n",
    "2. Pauli-Fierz Hamiltonian and other models of non-relativistic QED.\n",
    "3. Fock spaces and self-adjointness of the Pauli-Fierz Hamiltonian.\n",
    "4. Energy-momentum operators and their spectrum. Physical single-particle states.\n",
    "5. Asymptotic photon fields and scattering matrix.\n",
    "6. Infrared problems and the problem of asymptotic completeness."
   ]
  },
  {
   "cell_type": "markdown",
   "id": "84b0301b",
   "metadata": {
    "jp-MarkdownHeadingCollapsed": true
   },
   "source": [
    "## 0.3 非相对论量子电动力学\n",
    "\n",
    "从相对论 QED 互动开始：\n",
    "\n",
    "$$ V_{\\text{RQED}} = e \\int d^3 x \\, j(x)A(x) $$\n",
    "\n",
    "1. $j$ 和 $A$ 是分布函数，点乘存在问题。我们需要正则化：用卷积 $j \\ast \\varphi$ 代替 $j$，使 $j \\ast \\varphi$ 成为一个光滑函数。这里 $\\varphi$ 起到了电子电荷分布的作用。\n",
    "\n",
    "2. 整个 $\\mathbb{R}^3$ 上的积分难以控制。可以去掉 $j$ 中负责电子-正电子对生成的项。结果可以表示为无对流 $j_{np}$。\n",
    "\n",
    "因此，我们得到一个可控的相互作用表达式：\n",
    "\n",
    "$$ V_{\\text{NRQED}} = \\int d^3 x \\, (j_{np} \\ast \\varphi)(x)A(x) $$\n",
    "\n",
    "经过一些进一步的步骤和简化后，可以得到标准的非相对论 QED 哈密顿量（Pauli-Fierz 哈密顿量）：\n",
    "\n",
    "$$ H_{\\text{NRQED}} = \\sum_{j=1}^N \\left( \\frac{1}{2m} \\left( \\mathbf{p}_j - e(A \\ast \\varphi)(\\mathbf{q}_j) \\right)^2 + V_c(\\mathbf{q}) + H_f \\right) $$\n",
    "\n",
    "这里 $(\\mathbf{p}_j, \\mathbf{q}_j)$ 是电子的位置和动量，$V_c$ 是电子之间的库仑相互作用，$H_f$ 是光子的能量。这是低能量情况下对完整 QED 的合理近似，特别是在电子-正电子对生成阈值以下。在下一节中，我们将通过量子化经典 Maxwell 方程耦合粒子的方法得到这个哈密顿量。\n",
    "\n",
    "## 0.4 课程纲要\n",
    "\n",
    "1. 带电粒子与电磁场相互作用的量子化。\n",
    "2. Pauli-Fierz 哈密顿量和其他非相对论 QED 模型。\n",
    "3. Fock 空间和 Pauli-Fierz 哈密顿量的自伴性。\n",
    "4. 能量-动量算符及其谱。物理的单粒子态。\n",
    "5. 渐近光子场和散射矩阵。\n",
    "6. 红外问题和渐近完备性问题。"
   ]
  }
 ],
 "metadata": {
  "kernelspec": {
   "display_name": "Python 3 (ipykernel)",
   "language": "python",
   "name": "python3"
  },
  "language_info": {
   "codemirror_mode": {
    "name": "ipython",
    "version": 3
   },
   "file_extension": ".py",
   "mimetype": "text/x-python",
   "name": "python",
   "nbconvert_exporter": "python",
   "pygments_lexer": "ipython3",
   "version": "3.9.7"
  }
 },
 "nbformat": 4,
 "nbformat_minor": 5
}
