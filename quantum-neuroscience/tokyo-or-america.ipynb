{
 "cells": [
  {
   "cell_type": "markdown",
   "id": "e4e20a55-8509-4632-890f-bbe23e4a878a",
   "metadata": {},
   "source": [
    "[赵永峰 - 软凝聚态物理](https://github.com/zhaoyongfeng1990)"
   ]
  },
  {
   "cell_type": "markdown",
   "id": "42a67e6d-16d5-4edc-90d3-ba4fb409a4dd",
   "metadata": {},
   "source": [
    "[Adam Godbeer - \n",
    "University of Surrey](https://scholar.google.co.uk/citations?user=LiOUwsEAAAAJ&hl=en)"
   ]
  },
  {
   "cell_type": "markdown",
   "id": "89855f3e-6ea2-4900-9de9-a4f712b817ed",
   "metadata": {},
   "source": [
    "* [Brian Busemeyer - Computational Quantum Physics](https://bbusemeyer.github.io/about/)\n",
    "* [Wagner research group - quantum simulations for condensed matter physics](https://wagner.physics.illinois.edu/)\n",
    "  * [Introduction to correlated materials by Nicola Spaldin - YouTube](https://youtu.be/MbCIGz1qmJc)\n",
    "  * [Biggest ideas in the universe by Sean Carroll - YouTube](https://youtu.be/HI09kat_GeI)\n",
    "* [常越青 - 计算量子物理](https://yueqingchang.github.io/)\n",
    "  * [研究项目](https://yueqingchang.github.io/research/index.html)"
   ]
  },
  {
   "cell_type": "markdown",
   "id": "a6cd8b56-b779-4a2e-bb16-8e3cf82e3b6d",
   "metadata": {},
   "source": [
    "* https://github.com/theochem\n",
    "  * https://github.com/theochem/.github/blob/main/GSoC.md\n",
    "* [QWalk](https://qwalk.github.io/mainline/)\n",
    "  * https://github.com/lkwagner/QMCTutorial\n",
    "\n",
    "https://github.com/WagnerGroup/downfolding_school"
   ]
  },
  {
   "cell_type": "markdown",
   "id": "ebdbb351",
   "metadata": {},
   "source": [
    "* [東京大学・大学院新領域創成科学研究科・複雑理工学専攻](https://www.k.u-tokyo.ac.jp/complex/html/lab/lab.html)\n",
    "  * [岡田研究室](http://mns.k.u-tokyo.ac.jp/home.html)"
   ]
  },
  {
   "cell_type": "markdown",
   "id": "6bf5cd24",
   "metadata": {},
   "source": [
    "* [永井 佑紀](https://researchmap.jp/read0135186)\n",
    "  * [東京大学情報基盤センター・学際情報科学研究部門・永井研究室](https://webpark2417.sakura.ne.jp/ynagai/)"
   ]
  },
  {
   "cell_type": "markdown",
   "id": "6b1b84ad-62e1-4d3e-bb23-3f9714539820",
   "metadata": {},
   "source": [
    "在东京进行「量子神经网络中的记忆模式识别」研究的导师可能有以下一些：\n",
    "\n",
    "1. **东京大学（The University of Tokyo）**：\n",
    "   - 导师：[田中 耕一](https://zh.wikipedia.org/wiki/田中耕一)（Koichi Tanaka）教授，主要研究包括神经科学、记忆研究和量子计算等领域。\n",
    "2. **[东京工业大学](https://educ.titech.ac.jp/is/faculty/)（Tokyo Institute of Technology）**：\n",
    "   - 导师：土岡 俊介（Shunsuke Yoshida）教授，主要研究包括：表現論 / 量子代数 / 圏論化 / リー理論等领域。\n",
    "\n",
    "以上导师和大学仅是一些可能从事「量子神经网络中的记忆模式识别」研究的例子，具体的研究方向和导师情况可能会根据不同学校的实际情况而有所不同。建议你可以通过相关学校的官方网站或学术数据库进一步了解各个导师的研究领域和最新研究成果，以便找到最适合自己的导师和研究机会。"
   ]
  },
  {
   "cell_type": "markdown",
   "id": "4b779077-2bd5-49e4-a85d-0918dffb2496",
   "metadata": {},
   "source": [
    "[田中　耕一 / TANAKA Koichi](https://www.u-tokyo.ac.jp/focus/ja/people/k0001_01073.html)\n",
    "\n",
    "* [東京大学医科学研究所](https://www.ims.u-tokyo.ac.jp/imsut/jp/)\n",
    "* [疾患プロテオミクスラボラトリー](https://www.ims.u-tokyo.ac.jp/mpl/top.html)"
   ]
  },
  {
   "cell_type": "markdown",
   "id": "9a9abe20-1b73-4c4d-9f61-0f78c230e581",
   "metadata": {},
   "source": [
    "「表現論（Representation Theory）」、「量子代数（Quantum Algebra）」、「圏論化（Categorification）」和「リー理論（Lie Theory）」这些概念都是数学和理论物理学中的重要工具和理论框架，与「量子神经网络中的记忆模式识别」之间存在一些关系：\n",
    "\n",
    "1. **表現論（Representation Theory）**：\n",
    "   - 在量子神经网络中，可能会涉及到对称性和对称群的性质。表現論提供了研究对称性和对称群的工具，通过研究对称群的表示，可以帮助理解量子神经网络中的对称性质和记忆模式的形成。\n",
    "2. **量子代数（Quantum Algebra）**：\n",
    "   - 量子代数是研究量子力学中的非对易代数结构的数学理论。在量子神经网络中，可能会涉及到描述量子态演化和量子操作的算符代数。量子代数的理论可以用来描述量子神经网络中的操作和演化过程。\n",
    "3. **圏論化（Categorification）**：\n",
    "   - 圏論化是一种将某个数学结构或理论从一个较低维度的范畴转变为一个较高维度的范畴的过程。在量子神经网络中，可能会涉及到对量子信息和量子态的范畴化。圏論化的理论可以用来更一般地描述量子神经网络中的结构和操作。\n",
    "4. **リー理論（Lie Theory）**：\n",
    "   - 李理論是研究李代数和李群的数学理论。在量子神经网络中，可能会涉及到描述对称性和对称操作的李群的性质。リー理論提供了研究对称性和对称群的工具，可以帮助理解量子神经网络中的对称性质和记忆模式的形成。\n",
    "\n",
    "总的来说，这些数学和理论物理学中的概念和理论框架可以为理解量子神经网络中的结构、运算和性质提供重要的数学工具和理论支持。通过这些工具和理论，可以更深入地理解量子神经网络中的记忆模式识别过程。"
   ]
  },
  {
   "cell_type": "markdown",
   "id": "168b3e4f",
   "metadata": {},
   "source": [
    "* [极其可扩展的尖峰神经元网络模拟代码：从笔记本电脑到百亿亿次计算机](https://www.frontiersin.org/articles/10.3389/fninf.2018.00002/full)"
   ]
  }
 ],
 "metadata": {
  "kernelspec": {
   "display_name": "Python 3 (ipykernel)",
   "language": "python",
   "name": "python3"
  },
  "language_info": {
   "codemirror_mode": {
    "name": "ipython",
    "version": 3
   },
   "file_extension": ".py",
   "mimetype": "text/x-python",
   "name": "python",
   "nbconvert_exporter": "python",
   "pygments_lexer": "ipython3",
   "version": "3.9.7"
  }
 },
 "nbformat": 4,
 "nbformat_minor": 5
}
