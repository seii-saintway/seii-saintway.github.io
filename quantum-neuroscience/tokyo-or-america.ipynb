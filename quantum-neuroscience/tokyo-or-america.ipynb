{
 "cells": [
  {
   "cell_type": "markdown",
   "id": "e4e20a55-8509-4632-890f-bbe23e4a878a",
   "metadata": {},
   "source": [
    "[赵永峰 - 软凝聚态物理](https://github.com/zhaoyongfeng1990)"
   ]
  },
  {
   "cell_type": "markdown",
   "id": "42a67e6d-16d5-4edc-90d3-ba4fb409a4dd",
   "metadata": {},
   "source": [
    "[Adam Godbeer - \n",
    "University of Surrey](https://scholar.google.co.uk/citations?user=LiOUwsEAAAAJ&hl=en)"
   ]
  },
  {
   "cell_type": "markdown",
   "id": "89855f3e-6ea2-4900-9de9-a4f712b817ed",
   "metadata": {},
   "source": [
    "* [Brian Busemeyer - Computational Quantum Physics](https://bbusemeyer.github.io/about/)\n",
    "* [Wagner research group - quantum simulations for condensed matter physics](https://wagner.physics.illinois.edu/)\n",
    "  * [Introduction to correlated materials by Nicola Spaldin - YouTube](https://youtu.be/MbCIGz1qmJc)\n",
    "  * [Biggest ideas in the universe by Sean Carroll - YouTube](https://youtu.be/HI09kat_GeI)\n",
    "* [常越青 - 计算量子物理](https://yueqingchang.github.io/)\n",
    "  * [研究项目](https://yueqingchang.github.io/research/index.html)"
   ]
  },
  {
   "cell_type": "markdown",
   "id": "a6cd8b56-b779-4a2e-bb16-8e3cf82e3b6d",
   "metadata": {},
   "source": [
    "* https://github.com/theochem\n",
    "  * https://github.com/theochem/.github/blob/main/GSoC.md\n",
    "* [QWalk](https://qwalk.github.io/mainline/)\n",
    "  * https://github.com/lkwagner/QMCTutorial\n",
    "\n",
    "https://github.com/WagnerGroup/downfolding_school"
   ]
  },
  {
   "cell_type": "markdown",
   "id": "ebdbb351",
   "metadata": {},
   "source": [
    "* [東京大学・大学院新領域創成科学研究科・複雑理工学専攻](https://www.k.u-tokyo.ac.jp/complex/html/lab/lab.html)　=>　Brain-Bio　脳・バイオモジュール\n",
    "  * [入試概要](https://www.k.u-tokyo.ac.jp/complex/html/examinee/overview.html)\n",
    "  * [複雑理工学専攻・修士課程入試過去問](https://www.k.u-tokyo.ac.jp/complex/html/examinee/past-exam.html)"
   ]
  },
  {
   "cell_type": "markdown",
   "id": "077b37d0-6608-4ec9-a448-38558ffec6c2",
   "metadata": {},
   "source": [
    "【複雑理工学】博士後期課程入試（入試日程Ｂ）出願に関する専攻独自の追加提出物一覧\n",
    "\n",
    "令和7年度（2025）年度\n",
    "\n",
    "- 出願にあたっては，募集要項に記載された提出物に加えて，以下の表のとおり，専攻によって追加の提出物が課される。\n",
    "- 以下の表と，各専攻の入試案内書を必ず熟読の上，定められた方法でそれぞれ提出すること。\n",
    "\n",
    "#### 提出物\n",
    "\n",
    "| 提出物 | 対象者 | 備考 |\n",
    "| --- | --- | --- |\n",
    "| 志望調査票（博士後期課程） | 一般選抜 志願者 | 博士課程用の調査票を提出すること。 |\n",
    "| 研究計画書 | 一般選抜 志願者 | 博士後期課程における研究計画を日本語または英語で A4 用紙１枚に記載すること。 |\n",
    "| 学業・職務 両立計画書 | 企業・官公庁・団体等に在職する者で，在職の身分のまま入学を希望する者。 |\n",
    "\n",
    "#### その他情報\n",
    "\n",
    "- **オンライン出願システムのURL**: [https://e-apply.jp/e/gsfs/](https://e-apply.jp/e/gsfs/)\n",
    "- **問い合わせ先**: contact@c.k.u-tokyo.ac.jp\n",
    "- **専攻のホームページ**: [https://www.k.u-tokyo.ac.jp/complex/](https://www.k.u-tokyo.ac.jp/complex/)\n",
    "\n",
    "#### 注意事項\n",
    "\n",
    "- 出願期間中に「オンライン出願システム」により提出する書類等（※PDFファイルのアップロードによる）\n",
    "- 詳細は各専攻の入試案内書を参照して確認すること。\n",
    "- **オンライン出願システム**によるアップロード方法は新領域創成科学研究科ウェブサイトで確認すること。"
   ]
  },
  {
   "cell_type": "markdown",
   "id": "60446ca0-6337-44d1-9576-709a3d535a9f",
   "metadata": {},
   "source": [
    "【复杂理工学】博士后期课程入学考试（入学日程B）出愿相关的各专业独自要求的追加提交材料列表\n",
    "\n",
    "令和7年度（2025）年度\n",
    "\n",
    "- 在申请时，除了招生简章中要求的提交材料外，还需根据以下表格，各专业要求的追加提交材料。\n",
    "- 请务必仔细阅读以下表格以及各专业的入学考试指南，并按规定的方式提交材料。\n",
    "\n",
    "#### 提交材料\n",
    "\n",
    "| 提交材料 | 适用对象 | 备注 |\n",
    "| --- | --- | --- |\n",
    "| 志愿调查表（博士后期课程） | 一般选拔 志愿者 | 需要提交博士课程用的调查表。 |\n",
    "| 研究计划书 | 一般选拔 志愿者 | 研究计划书应使用日语或英语，用A4纸张1页书写。 |\n",
    "| 学业与职务平衡计划书 | 适用于在企业、政府机关或团体等就职，并希望在职状态下入学的人。 |\n",
    "\n",
    "#### 其他信息\n",
    "\n",
    "- **在线出愿系统的URL**: [https://e-apply.jp/e/gsfs/](https://e-apply.jp/e/gsfs/)\n",
    "- **咨询联系方式**: contact@c.k.u-tokyo.ac.jp\n",
    "- **专业主页**: [https://www.k.u-tokyo.ac.jp/complex/](https://www.k.u-tokyo.ac.jp/complex/)\n",
    "\n",
    "#### 注意事项\n",
    "\n",
    "- 在出愿期间，使用“在线出愿系统”提交的文件（需上传PDF文件）。\n",
    "- 详细信息请参阅各专业的入学考试指南进行确认。\n",
    "- **在线出愿系统**的上传方式请在新领域创成科学研究科网站上进行确认。"
   ]
  },
  {
   "cell_type": "markdown",
   "id": "e4daad76-36f1-4b65-94c8-527a659aa36a",
   "metadata": {},
   "source": [
    "[ゲノム・コース](https://genome-school.k.u-tokyo.ac.jp/archives/course/2024autumn)"
   ]
  },
  {
   "cell_type": "markdown",
   "id": "fc83a7d4-3b42-433d-a319-de63fc23388b",
   "metadata": {},
   "source": [
    "[岡田研究室](http://mns.k.u-tokyo.ac.jp/home.html)\n",
    "\n",
    "---\n",
    "当研究室では主に下記に興味のある学生を募集していますが，テーマはこれらに限りません．\n",
    "\n",
    "1. データ駆動科学を武器にして，脳科学，物理学，化学，地球科学などを研究したい人．\n",
    "2. マテリアルズ・インフォマティクスや計測インフォマティクスに興味のある人．\n",
    "3. 脳の機能を理論物理学・数理科学をもちいて理論的・システム論的に解明したい人．脳の機能を理解し，それを工学的に応用したい人．\n",
    "\n",
    "統計力学などの物理学や数学の知識と素養があることが望ましいが，当研究室には物理学科の出身ではない学生さんもたくさんいます．\n",
    "大学1年生で習う微分積分と線形代数がわかっていれば，あとは OJT (On the Job Training) によって，基礎数理を習得しながら同時進行的に研究を進めます．\n",
    "\n",
    "研究分野もさることながら，教育観（指導方針）と研究観（研究テーマ選択過程）に共感をおぼえる指導教官を選ぶことをお勧めします．\n",
    "\n",
    "---\n",
    "物理学と理論脳科学の出会いは，物性理論の研究者の Hopfield による記憶のモデルの提案から始まりました．Hopfield は記憶の仕組みが，スピングラスのエネルギーの多谷構造と関係していることを指摘しました．この Hopfield の指摘により，多くの統計物理学者が理論脳科学の研究に参入し，現在では平衡統計力学／非平衡統計力学や大自由度非線形力学系などの物理学的なアプローチが，理論脳科学の主流の一つとなっています．"
   ]
  },
  {
   "cell_type": "markdown",
   "id": "6bf5cd24",
   "metadata": {},
   "source": [
    "* [永井 佑紀](https://researchmap.jp/read0135186)\n",
    "  * [東京大学情報基盤センター・学際情報科学研究部門・永井研究室](https://webpark2417.sakura.ne.jp/ynagai/)"
   ]
  },
  {
   "cell_type": "markdown",
   "id": "6b1b84ad-62e1-4d3e-bb23-3f9714539820",
   "metadata": {},
   "source": [
    "在东京进行「量子神经网络中的记忆模式识别」研究的导师可能有以下一些：\n",
    "\n",
    "1. **东京大学（The University of Tokyo）**：\n",
    "   - 导师：[田中 耕一](https://zh.wikipedia.org/wiki/田中耕一)（Koichi Tanaka）教授，主要研究包括神经科学、记忆研究和量子计算等领域。\n",
    "2. **[东京工业大学](https://educ.titech.ac.jp/is/faculty/)（Tokyo Institute of Technology）**：\n",
    "   - 导师：土岡 俊介（Shunsuke Yoshida）教授，主要研究包括：表現論 / 量子代数 / 圏論化 / リー理論等领域。\n",
    "\n",
    "以上导师和大学仅是一些可能从事「量子神经网络中的记忆模式识别」研究的例子，具体的研究方向和导师情况可能会根据不同学校的实际情况而有所不同。建议你可以通过相关学校的官方网站或学术数据库进一步了解各个导师的研究领域和最新研究成果，以便找到最适合自己的导师和研究机会。"
   ]
  },
  {
   "cell_type": "markdown",
   "id": "4b779077-2bd5-49e4-a85d-0918dffb2496",
   "metadata": {},
   "source": [
    "[田中　耕一 / TANAKA Koichi](https://www.u-tokyo.ac.jp/focus/ja/people/k0001_01073.html)\n",
    "\n",
    "* [東京大学医科学研究所](https://www.ims.u-tokyo.ac.jp/imsut/jp/)\n",
    "* [疾患プロテオミクスラボラトリー](https://www.ims.u-tokyo.ac.jp/mpl/top.html)"
   ]
  },
  {
   "cell_type": "markdown",
   "id": "9a9abe20-1b73-4c4d-9f61-0f78c230e581",
   "metadata": {},
   "source": [
    "「表現論（Representation Theory）」、「量子代数（Quantum Algebra）」、「圏論化（Categorification）」和「リー理論（Lie Theory）」这些概念都是数学和理论物理学中的重要工具和理论框架，与「量子神经网络中的记忆模式识别」之间存在一些关系：\n",
    "\n",
    "1. **表現論（Representation Theory）**：\n",
    "   - 在量子神经网络中，可能会涉及到对称性和对称群的性质。表現論提供了研究对称性和对称群的工具，通过研究对称群的表示，可以帮助理解量子神经网络中的对称性质和记忆模式的形成。\n",
    "2. **量子代数（Quantum Algebra）**：\n",
    "   - 量子代数是研究量子力学中的非对易代数结构的数学理论。在量子神经网络中，可能会涉及到描述量子态演化和量子操作的算符代数。量子代数的理论可以用来描述量子神经网络中的操作和演化过程。\n",
    "3. **圏論化（Categorification）**：\n",
    "   - 圏論化是一种将某个数学结构或理论从一个较低维度的范畴转变为一个较高维度的范畴的过程。在量子神经网络中，可能会涉及到对量子信息和量子态的范畴化。圏論化的理论可以用来更一般地描述量子神经网络中的结构和操作。\n",
    "4. **リー理論（Lie Theory）**：\n",
    "   - 李理論是研究李代数和李群的数学理论。在量子神经网络中，可能会涉及到描述对称性和对称操作的李群的性质。リー理論提供了研究对称性和对称群的工具，可以帮助理解量子神经网络中的对称性质和记忆模式的形成。\n",
    "\n",
    "总的来说，这些数学和理论物理学中的概念和理论框架可以为理解量子神经网络中的结构、运算和性质提供重要的数学工具和理论支持。通过这些工具和理论，可以更深入地理解量子神经网络中的记忆模式识别过程。"
   ]
  },
  {
   "cell_type": "markdown",
   "id": "168b3e4f",
   "metadata": {},
   "source": [
    "* [极其可扩展的尖峰神经元网络模拟代码：从笔记本电脑到百亿亿次计算机](https://www.frontiersin.org/articles/10.3389/fninf.2018.00002/full)"
   ]
  }
 ],
 "metadata": {
  "kernelspec": {
   "display_name": "Python 3 (ipykernel)",
   "language": "python",
   "name": "python3"
  },
  "language_info": {
   "codemirror_mode": {
    "name": "ipython",
    "version": 3
   },
   "file_extension": ".py",
   "mimetype": "text/x-python",
   "name": "python",
   "nbconvert_exporter": "python",
   "pygments_lexer": "ipython3",
   "version": "3.9.7"
  }
 },
 "nbformat": 4,
 "nbformat_minor": 5
}
