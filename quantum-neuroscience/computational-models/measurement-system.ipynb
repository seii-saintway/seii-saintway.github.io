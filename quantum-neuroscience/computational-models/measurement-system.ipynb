{
 "cells": [
  {
   "cell_type": "markdown",
   "id": "d3739cc8-5a6c-4881-9bd9-d171f0e27328",
   "metadata": {},
   "source": [
    "---\n",
    "隐花色素的非相对论性量子电动力学经典计算模型"
   ]
  },
  {
   "cell_type": "markdown",
   "id": "7c92b83f-ac3d-4b98-94de-e5f2c6946896",
   "metadata": {},
   "source": [
    "* [磁感受](https://en.wikipedia.org/wiki/Magnetoreception)\n",
    "* [原子磁力仪](https://en.wikipedia.org/wiki/Atomic_magnetometer)"
   ]
  },
  {
   "cell_type": "markdown",
   "id": "4a3d7ba1-0943-4495-80d7-f0189993eda8",
   "metadata": {},
   "source": [
    "[Resonance effects indicate a radical-pair mechanism for avian magnetic compass](https://doi.org/10.1038/nature02534). Ritz, T., Thalau, P., Phillips, J. B., Wiltschko, R., & Wiltschko, W. (2004). Nature, 429(6988), 177."
   ]
  },
  {
   "cell_type": "markdown",
   "id": "3e5fb914-adea-4408-b673-f5d0189dfdf3",
   "metadata": {},
   "source": [
    "Erik M. Gauger, Elisabeth Rieper, John J. L. Morton, Simon C. Benjamin, and Vlatko Vedral. [Sustained Quantum Coherence and Entanglement in the Avian Compass](https://doi.org/10.1103/PhysRevLett.106.040503). Phys. Rev. Lett. 106, 040503 – Published 25 January 2011"
   ]
  }
 ],
 "metadata": {
  "kernelspec": {
   "display_name": "Python 3 (ipykernel)",
   "language": "python",
   "name": "python3"
  },
  "language_info": {
   "codemirror_mode": {
    "name": "ipython",
    "version": 3
   },
   "file_extension": ".py",
   "mimetype": "text/x-python",
   "name": "python",
   "nbconvert_exporter": "python",
   "pygments_lexer": "ipython3",
   "version": "3.9.7"
  }
 },
 "nbformat": 4,
 "nbformat_minor": 5
}
