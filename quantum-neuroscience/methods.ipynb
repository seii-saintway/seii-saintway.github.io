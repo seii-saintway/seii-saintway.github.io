{
 "cells": [
  {
   "cell_type": "markdown",
   "id": "11529b16-b2d1-4207-bed7-782eb5a210ee",
   "metadata": {},
   "source": [
    "《量子力学实验手册》（Experiments in Modern Physics）"
   ]
  },
  {
   "cell_type": "markdown",
   "id": "bfe000b8-fbae-4b61-a814-246a191b8b54",
   "metadata": {},
   "source": [
    "[Quantum Mechanics Visualization Project](https://www.physport.org/methods/method.cfm?G=QuVis)"
   ]
  },
  {
   "cell_type": "markdown",
   "id": "79715792-d7ed-49b7-9578-29f138c7c2b3",
   "metadata": {},
   "source": [
    "**光子衍射实验**\n",
    "\n",
    "1. **准备单光子源：** 首先，需要准备一个能够发射单个光子的光源。这可能涉及使用量子点、量子阱或其他量子系统来控制光子的发射，确保每次只发射一个光子。\n",
    "\n",
    "2. **设计衍射装置：** 接下来，需要设计一个适当的衍射装置来观察光子的衍射现象。这通常包括一个光学系统，如光栅或狭缝，用于产生衍射图样。\n",
    "\n",
    "3. **单光子发射：** 将单光子源放置在一个适当的位置，使得它可以朝向衍射装置发射光子。通过控制单光子源的工作方式，确保每次只发射一个光子。\n",
    "\n",
    "4. **观察衍射图样：** 使用适当的检测器或成像系统来观察光子通过衍射装置后形成的衍射图样。这可能需要在实验室中使用非常敏感的光学设备来检测单个光子的到达。\n",
    "\n",
    "5. **记录和分析数据：** 记录观察到的衍射图样，并进行数据分析以验证实验结果。这可能涉及比较实验结果与理论模型的预测，以及排除实验中可能存在的噪声或干扰因素。"
   ]
  },
  {
   "cell_type": "markdown",
   "id": "001ac507-c9b8-4286-98cb-d5e96b12f25e",
   "metadata": {},
   "source": [
    "**单光子发射器**\n",
    "\n",
    "单光子源或单光子发射器是一种可以发射单个光子的设备。它们在量子信息科学、量子通信和量子计算等领域中具有重要的应用。\n",
    "\n",
    "单光子源的原理通常涉及到利用量子效应来控制光子的发射。一种常见的方法是利用量子点、量子阱或冷原子等系统，通过激发原子或量子点的能级，使其发射单个光子。这些设备可以在特定条件下精确地控制光子的发射，确保每次只发射一个光子。\n",
    "\n",
    "单光子源在量子通信中起着关键作用，因为量子通信需要高度安全的通信方式，而单光子源可以用来实现量子密钥分发等量子通信协议。此外，在量子计算中，单光子源也被用于构建量子比特和进行量子门操作等。"
   ]
  },
  {
   "cell_type": "markdown",
   "id": "1b909480-fa12-41fb-83f1-1d62aa099159",
   "metadata": {},
   "source": [
    "**单光子探测器**\n",
    "\n",
    "在实验室中，有几种光学设备可以用来检测单个光子的到达。其中一些主要的设备包括：\n",
    "\n",
    "1. **光子计数器：** 光子计数器是一种专门设计用于检测光子的设备。它通常基于光电效应原理，当光子到达时，会引发光电子发射，并产生一个电脉冲信号。这些脉冲信号可以被计数器记录下来，从而确定光子的到达事件。\n",
    "\n",
    "2. **单光子探测器：** 单光子探测器是一种更高级的设备，可以不仅仅检测光子的到达，还可以提供有关光子的更多信息，如其时间、位置等。常见的单光子探测器包括单光子光电倍增管（PMT）、单光子雪崩光电二极管（SPAD）和单光子光电探测器（SPCM）等。\n",
    "\n",
    "3. **光子级联检测器：** 光子级联检测器是一种用于量子光学实验的高级设备。它可以实现光子的同时检测和干涉，从而提供更丰富的信息，用于研究量子纠缠、量子计算等领域。\n",
    "\n",
    "这些设备通常需要在非常低的噪声环境中操作，并且需要使用适当的光学过滤器和其他技术来排除背景噪声和干扰。在进行单光子实验时，使用这些高度敏感的光学设备是至关重要的，以确保准确地检测和记录单个光子的到达事件。"
   ]
  },
  {
   "cell_type": "markdown",
   "id": "ef534893-640b-4ec4-badd-b87cfebb6046",
   "metadata": {},
   "source": [
    "---\n",
    "《神秘的量子生命》\n",
    "* [吉姆·艾尔-哈利利](https://zh.wikipedia.org/wiki/吉姆·艾尔-哈利利)\n",
    "  * 《量子：纠缠、非现实性与量子理论的本质》（Quantum: A Guide for the Perplexed，2003）\n",
    "    - 本书深入探讨了量子力学的奥秘和悖论，适合对量子物理学感兴趣的读者。\n",
    "* [约翰乔伊·麦克法登](https://zh.wikipedia.org/wiki/约翰乔伊·麦克法登)\n",
    "  * 《量子进化：生命的新科学》（Quantum Evolution: The New Science of Life），2000\n",
    "    - McFadden 提出了量子力学在生物进化中的作用，探讨了量子现象如何可能影响生命的起源和进化。\n",
    "  * Quantum Evolution: How Physics’ Weirdest Theory Explains Life’s Biggest Mystery (2002)\n",
    "  * Human Nature: Fact and Fiction: Literature, Science and Human Nature (2006)\n",
    "  * Quantum Evolution: Life in the Multiverse (2011)\n",
    "  * Life is Simple: How Occam’s Razor Set Science Free and Unlocked the Universe. (2021)"
   ]
  },
  {
   "cell_type": "markdown",
   "id": "bae4ebbf-88d3-457d-8c77-3aa42ec946b6",
   "metadata": {},
   "source": [
    "* **《生命的量子物理学：从生物到意识的量子现象》（Life on the Edge: The Coming of Age of Quantum Biology，2014）**\n",
    "  - 作者：Jim Al-Khalili & Johnjoe McFadden\n",
    "  - 简介：这本书讨论了量子力学在生物学中的应用，探索了量子现象如何在生物体内发挥作用，包括在光合作用、酶反应、嗅觉以及鸟类导航中的作用。这本书提供了对量子生物学的概述，尽管它没有直接讨论神经科学，但其中的一些概念可以为量子神经科学的理解打下基础。\n",
    "* **《[意识的皇帝新脑](https://zh.wikipedia.org/zh-cn/皇帝新脑)》（The Emperor's New Mind: Concerning Computers, Minds, and the Laws of Physics）**\n",
    "  - 作者：Roger Penrose\n",
    "  - 简介：Roger Penrose 在这本书中讨论了意识与物理学，特别是量子力学的关系。他提出了一些关于量子现象如何在大脑中发挥作用的理论，这为量子神经科学的讨论提供了理论基础。\n",
    "* **《心灵的影子：关于心智与物理学的对话》（[Shadows of the Mind: A Search for the Missing Science of Consciousness](https://en.wikipedia.org/wiki/Shadows_of_the_Mind)）**\n",
    "  - 作者：Roger Penrose\n",
    "  - 简介：这是 Penrose 关于意识与量子物理学关系的后续讨论，进一步探讨了大脑中可能存在的量子现象。\n",
    "* 《宇宙、量子和人类心灵》([The Large, the Small and the Human Mind](https://en.wikipedia.org/wiki/The_Large,_the_Small_and_the_Human_Mind)，1997)\n",
    "* 《量子与心智》（**Quanta and Mind: Essays on the Connection between Quantum Mechanics and Consciousness**）\n",
    "  - J. Acacio de Barros, Carlos Montemayor\n",
    "* **《量子计算和量子信息》（Quantum Computation and Quantum Information）**\n",
    "  - 作者：Michael A. Nielsen & Isaac L. Chuang\n",
    "  - 译者：赵千川\n",
    "  - 简介：尽管这本书主要关于量子计算，但其中的一些章节讨论了量子计算在理解心智和意识方面的潜在应用。\n",
    "* **《量子意识：通向实在之路》（Quantum Consciousness: The Road to Reality，2011）**\n",
    "  - 作者：Shantilal G Goradia\n",
    "  - 简介：目前主流的万物理论（TOE）并未涵盖一切，也没有提及意识，而我们认为意识与信息相关联，而信息又创造了所有理论。我们在此将引力描述为一种概率现象，并在这篇文章及其他提到的文章中，将量子物理与引力、信息、意识以及“黑暗力量”联系起来。如果不解释无形的意识和自然中未解的常数，物理学将陷入困境。我们在此补充我们对“自然语言”的理解。\n",
    "* **《我是一个奇怪的循环》（I Am a Strange Loop，2007）**\n",
    "  - 作者：Douglas Hofstadter\n",
    "  - 简介：我们的自我如何存在于他人的心灵中。"
   ]
  },
  {
   "cell_type": "markdown",
   "id": "a87d5398-6f0b-4472-bf68-761fdec1cc0a",
   "metadata": {},
   "source": [
    "* [量子生物学](https://zh.wikipedia.org/wiki/量子生物学)\n",
    "* [Quantum Biology](https://en.wikipedia.org/wiki/Quantum_biology)"
   ]
  },
  {
   "cell_type": "markdown",
   "id": "cd3cd6e3-07b4-4999-8636-24c60478e163",
   "metadata": {},
   "source": [
    "---\n",
    "* [量子心灵](https://zh.m.wikipedia.org/zh-cn/量子心灵)\n",
    "* [量子思维](https://en.wikipedia.org/wiki/Quantum_mind)\n",
    "  * [Quantum Approaches to Consciousness](https://plato.stanford.edu/entries/qt-consciousness/)\n",
    "  * [Freeman J. Dyson](https://en.wikipedia.org/wiki/Freeman_Dyson)\n",
    "    * [TIME WITHOUT END: PHYSICS AND BIOLOGY IN AN OPEN UNIVERSE](https://www.aleph.se/Trans/Global/Omega/dyson.txt)\n",
    "    * Origins of Life, 1985\n",
    "    * Our Biotech Future, 2007\n",
    "    * Advanced Quantum Mechanics, 2007\n",
    "  * [David Bohm](https://en.wikipedia.org/wiki/David_Bohm)\n",
    "    * [Comparison between Karl Pribram's \"Holographic Brain Theory\" and more conventional models of neuronal computation](http://www.acsa2000.net/bcngroup/jponkp/)\n",
    "    * Process and the Implicate Order: their relevance to Quantum Theory and Mind. - [B. J. Hiley](https://en.wikipedia.org/wiki/Basil_Hiley)\n",
    "    * [Holonomic brain theory](https://en.wikipedia.org/wiki/Holonomic_brain_theory)\n",
    "    * [Implicate and explicate order](https://en.wikipedia.org/wiki/Implicate_and_explicate_order)\n",
    "  * [吉川　雅英 / KIKKAWA Masahide](https://structure.m.u-tokyo.ac.jp/member-j/kikkawa-j/kikkawa-j.html)\n",
    "    * [Direct visualization of the microtubule lattice seam both in vitro and in vivo](https://doi.org/10.1083%2Fjcb.127.6.1965)\n",
    "    * [A Molecular “Zipper” for Microtubules](https://doi.org/10.1016%2Fj.cell.2006.12.009)\n",
    "* [Quantum cognition](https://en.wikipedia.org/wiki/Quantum_cognition)\n",
    "* [Many-minds interpretation](https://en.wikipedia.org/wiki/Many-minds_interpretation)\n",
    "* [Artificial consciousness](https://en.wikipedia.org/wiki/Artificial_consciousness)"
   ]
  },
  {
   "cell_type": "markdown",
   "id": "8aa2b203-460a-452e-b596-37497a09dec4",
   "metadata": {},
   "source": [
    "* [协调客观还原](https://zh.m.wikipedia.org/zh-cn/协调客观还原)\n",
    "  * [史都华・哈默洛夫](https://zh.m.wikipedia.org/zh-cn/史都華·哈默洛夫)\n",
    "    * https://hameroff.arizona.edu/publications\n",
    "    * Ultimate computing: Biomolecular consciousness and nanotechnology\n",
    "  * [Quantum experiments add weight to a fringe theory of consciousness](https://www.newscientist.com/article/2316408-quantum-experiments-add-weight-to-a-fringe-theory-of-consciousness/), Thomas Lewton, 2022"
   ]
  },
  {
   "cell_type": "markdown",
   "id": "5f949017",
   "metadata": {},
   "source": [
    "---\n",
    "量子理论实验中使用的测量仪器有很多种，具体取决于所研究的量子系统和实验目的。以下是一些常见的量子测量仪器及其用途：\n",
    "\n",
    "### 1. 光子探测器\n",
    "- **用途**：用于探测单个光子的存在与数量。常用于量子光学实验，如双缝干涉实验、量子密钥分发（QKD）等。\n",
    "- **类型**：常见的光子探测器包括光电倍增管（PMT）、雪崩光电二极管（APD）、超导纳米线单光子探测器（SNSPD）等。\n",
    "\n",
    "### 2. 干涉仪\n",
    "- **用途**：用于研究量子叠加态和干涉现象。常见于量子力学基础实验，如马赫-曾德尔干涉仪和迈克耳孙干涉仪。\n",
    "- **类型**：马赫-曾德尔干涉仪、迈克耳孙干涉仪、Sagnac 干涉仪等。\n",
    "\n",
    "### 3. 离子阱\n",
    "- **用途**：用于捕获和操纵单个离子，常用于量子计算和量子模拟实验。\n",
    "- **类型**：保罗阱、彭宁阱。\n",
    "\n",
    "### 4. 超导量子干涉器件（SQUID）\n",
    "- **用途**：用于测量极其微弱的磁场变化，常用于量子计算中读取超导量子比特的状态。\n",
    "- **原理**：基于约瑟夫森效应，可以检测到极其微小的磁通量变化。\n",
    "\n",
    "### 5. 拉曼光谱仪\n",
    "- **用途**：用于研究分子和材料的振动模式，通过拉曼散射提供物质的分子指纹信息。\n",
    "- **原理**：利用激光激发样品，检测散射光的频移来获得样品的振动信息。\n",
    "\n",
    "### 6. 核磁共振谱仪（NMR）\n",
    "- **用途**：用于研究原子核的自旋状态和相互作用，广泛应用于化学分析和量子计算。\n",
    "- **原理**：利用射频脉冲激发原子核的自旋，检测其磁共振信号。\n",
    "\n",
    "### 7. 随机数生成器\n",
    "- **用途**：用于生成真正的随机数，应用于量子密钥分发和其他量子信息处理任务。\n",
    "- **类型**：基于量子物理现象（如光子的偏振态、真空涨落等）的量子随机数生成器。\n",
    "\n",
    "### 8. 自旋共振探测器\n",
    "- **用途**：用于测量电子或核自旋的共振信号，常用于研究自旋态和量子位元的操控。\n",
    "- **类型**：电子自旋共振（ESR）谱仪、核磁共振（NMR）谱仪。\n",
    "\n",
    "### 9. 扫描隧道显微镜（STM）\n",
    "- **用途**：用于成像和操纵单个原子，常用于表面科学和纳米技术研究。\n",
    "- **原理**：通过隧道效应测量表面原子的电子态。\n",
    "\n",
    "### 10. 量子点探测器\n",
    "- **用途**：用于测量和操控量子点中的电子态，常用于量子计算和量子通信。\n",
    "- **类型**：单电子晶体管（SET）、光电二极管等。\n",
    "\n",
    "### 11. 离子化飞行时间质谱仪（TOF-MS）\n",
    "- **用途**：用于分析离子的质量-电荷比，广泛应用于化学分析和分子生物学。\n",
    "- **原理**：通过测量离子在电场中的飞行时间来确定其质量。\n",
    "\n",
    "### 应用场景\n",
    "\n",
    "- **量子计算**：离子阱、超导量子比特、量子点、NMR 等用于实现和读取量子比特。\n",
    "- **量子通信**：光子探测器、量子随机数生成器用于量子密钥分发（QKD）和其他量子通信协议。\n",
    "- **量子光学**：干涉仪、光子探测器用于研究光子的量子行为，如纠缠、叠加和非局域性。\n",
    "- **基础量子力学实验**：干涉仪、光子探测器用于验证量子力学的基本原理和现象。\n",
    "\n",
    "这些测量仪器通过不同的物理机制和技术手段，实现了对量子系统的精确测量和操控，推动了量子信息科学和技术的发展。"
   ]
  },
  {
   "cell_type": "markdown",
   "id": "787e2695",
   "metadata": {},
   "source": [
    "P. G. Merli, G. F. Missiroli, G. Pozzi; [On the statistical aspect of electron interference phenomena](https://doi.org/10.1119/1.10184). American Journal of Physics. 1 March 1976; 44 (3): 306–307."
   ]
  },
  {
   "cell_type": "markdown",
   "id": "71892a5a",
   "metadata": {},
   "source": [
    "Tonomura, A., Endo, J., Matsuda, T., Kawasaki, T., & Ezawa, H. (1989). \"[Demonstration of single-electron buildup of an interference pattern](https://doi.org/10.1119/1.16104).\" American Journal of Physics, 57(2), 117-120."
   ]
  },
  {
   "cell_type": "markdown",
   "id": "92ebecc6",
   "metadata": {},
   "source": [
    "* 电子探测器\n",
    "* 光子探测器\n",
    "* 离子阱\n",
    "* 核磁共振谱仪"
   ]
  },
  {
   "cell_type": "markdown",
   "id": "72302e33",
   "metadata": {},
   "source": [
    "[Ion and electron beam nanofabrication of the which-way double-slit experiment in a transmission electron microscope](https://doi.org/10.1063/1.3529947)"
   ]
  },
  {
   "cell_type": "markdown",
   "id": "87d41248",
   "metadata": {},
   "source": [
    "Yoon-Ho Kim, Rong Yu, Sergei P. Kulik, Yanhua Shih, and Marlan O. Scully. [Delayed “Choice” Quantum Eraser](https://doi.org/10.1103/PhysRevLett.84.1). Phys. Rev. Lett. 84, 1 – Published 3 January 2000"
   ]
  }
 ],
 "metadata": {
  "kernelspec": {
   "display_name": "Python 3 (ipykernel)",
   "language": "python",
   "name": "python3"
  },
  "language_info": {
   "codemirror_mode": {
    "name": "ipython",
    "version": 3
   },
   "file_extension": ".py",
   "mimetype": "text/x-python",
   "name": "python",
   "nbconvert_exporter": "python",
   "pygments_lexer": "ipython3",
   "version": "3.9.7"
  }
 },
 "nbformat": 4,
 "nbformat_minor": 5
}
