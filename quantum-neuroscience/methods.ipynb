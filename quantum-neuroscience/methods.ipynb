{
 "cells": [
  {
   "cell_type": "markdown",
   "id": "11529b16-b2d1-4207-bed7-782eb5a210ee",
   "metadata": {},
   "source": [
    "《量子力学实验手册》（Experiments in Modern Physics）"
   ]
  },
  {
   "cell_type": "markdown",
   "id": "bfe000b8-fbae-4b61-a814-246a191b8b54",
   "metadata": {},
   "source": [
    "[Quantum Mechanics Visualization Project](https://www.physport.org/methods/method.cfm?G=QuVis)"
   ]
  },
  {
   "cell_type": "markdown",
   "id": "79715792-d7ed-49b7-9578-29f138c7c2b3",
   "metadata": {},
   "source": [
    "**光子衍射实验**\n",
    "\n",
    "1. **准备单光子源：** 首先，需要准备一个能够发射单个光子的光源。这可能涉及使用量子点、量子阱或其他量子系统来控制光子的发射，确保每次只发射一个光子。\n",
    "\n",
    "2. **设计衍射装置：** 接下来，需要设计一个适当的衍射装置来观察光子的衍射现象。这通常包括一个光学系统，如光栅或狭缝，用于产生衍射图样。\n",
    "\n",
    "3. **单光子发射：** 将单光子源放置在一个适当的位置，使得它可以朝向衍射装置发射光子。通过控制单光子源的工作方式，确保每次只发射一个光子。\n",
    "\n",
    "4. **观察衍射图样：** 使用适当的检测器或成像系统来观察光子通过衍射装置后形成的衍射图样。这可能需要在实验室中使用非常敏感的光学设备来检测单个光子的到达。\n",
    "\n",
    "5. **记录和分析数据：** 记录观察到的衍射图样，并进行数据分析以验证实验结果。这可能涉及比较实验结果与理论模型的预测，以及排除实验中可能存在的噪声或干扰因素。"
   ]
  },
  {
   "cell_type": "markdown",
   "id": "001ac507-c9b8-4286-98cb-d5e96b12f25e",
   "metadata": {},
   "source": [
    "**单光子发射器**\n",
    "\n",
    "单光子源或单光子发射器是一种可以发射单个光子的设备。它们在量子信息科学、量子通信和量子计算等领域中具有重要的应用。\n",
    "\n",
    "单光子源的原理通常涉及到利用量子效应来控制光子的发射。一种常见的方法是利用量子点、量子阱或冷原子等系统，通过激发原子或量子点的能级，使其发射单个光子。这些设备可以在特定条件下精确地控制光子的发射，确保每次只发射一个光子。\n",
    "\n",
    "单光子源在量子通信中起着关键作用，因为量子通信需要高度安全的通信方式，而单光子源可以用来实现量子密钥分发等量子通信协议。此外，在量子计算中，单光子源也被用于构建量子比特和进行量子门操作等。"
   ]
  },
  {
   "cell_type": "markdown",
   "id": "1b909480-fa12-41fb-83f1-1d62aa099159",
   "metadata": {},
   "source": [
    "**单光子探测器**\n",
    "\n",
    "在实验室中，有几种光学设备可以用来检测单个光子的到达。其中一些主要的设备包括：\n",
    "\n",
    "1. **光子计数器：** 光子计数器是一种专门设计用于检测光子的设备。它通常基于光电效应原理，当光子到达时，会引发光电子发射，并产生一个电脉冲信号。这些脉冲信号可以被计数器记录下来，从而确定光子的到达事件。\n",
    "\n",
    "2. **单光子探测器：** 单光子探测器是一种更高级的设备，可以不仅仅检测光子的到达，还可以提供有关光子的更多信息，如其时间、位置等。常见的单光子探测器包括单光子光电倍增管（PMT）、单光子雪崩光电二极管（SPAD）和单光子光电探测器（SPCM）等。\n",
    "\n",
    "3. **光子级联检测器：** 光子级联检测器是一种用于量子光学实验的高级设备。它可以实现光子的同时检测和干涉，从而提供更丰富的信息，用于研究量子纠缠、量子计算等领域。\n",
    "\n",
    "这些设备通常需要在非常低的噪声环境中操作，并且需要使用适当的光学过滤器和其他技术来排除背景噪声和干扰。在进行单光子实验时，使用这些高度敏感的光学设备是至关重要的，以确保准确地检测和记录单个光子的到达事件。"
   ]
  },
  {
   "cell_type": "markdown",
   "id": "ef534893-640b-4ec4-badd-b87cfebb6046",
   "metadata": {},
   "source": [
    "---\n",
    "《神秘的量子生命》\n",
    "* [吉姆·艾尔-哈利利](https://zh.wikipedia.org/wiki/吉姆·艾尔-哈利利)\n",
    "* [约翰乔伊·麦克法登](https://zh.wikipedia.org/wiki/约翰乔伊·麦克法登)"
   ]
  },
  {
   "cell_type": "markdown",
   "id": "a87d5398-6f0b-4472-bf68-761fdec1cc0a",
   "metadata": {},
   "source": [
    "* [量子生物学](https://zh.wikipedia.org/wiki/量子生物学)\n",
    "* [Quantum Biology](https://en.wikipedia.org/wiki/Quantum_biology)"
   ]
  },
  {
   "cell_type": "markdown",
   "id": "e3a9c9d7-12d0-427b-b06e-a0d8d5c0ecbe",
   "metadata": {},
   "source": [
    "[Evidence for wavelike energy transfer through quantum coherence in photosynthetic systems](https://doi.org/10.1038/nature05678). Engel, G. S., Calhoun, T. R., Read, E. L., Ahn, T. K., Mančal, T., Cheng, Y. C., ... & Fleming, G. R. (2007). Nature, 446(7137), 782."
   ]
  },
  {
   "cell_type": "markdown",
   "id": "15a91414-cbcc-469f-9eca-695a06937063",
   "metadata": {},
   "source": [
    "[Resonance effects indicate a radical-pair mechanism for avian magnetic compass](https://doi.org/10.1038/nature02534). Ritz, T., Thalau, P., Phillips, J. B., Wiltschko, R., & Wiltschko, W. (2004). Nature, 429(6988), 177."
   ]
  },
  {
   "cell_type": "markdown",
   "id": "cd3cd6e3-07b4-4999-8636-24c60478e163",
   "metadata": {},
   "source": [
    "---\n",
    "* [量子心灵](https://zh.m.wikipedia.org/zh-cn/量子心灵)\n",
    "* [量子思维](https://en.wikipedia.org/wiki/Quantum_mind)\n",
    "  * [吉川　雅英 / KIKKAWA Masahide](https://structure.m.u-tokyo.ac.jp/member-j/kikkawa-j/kikkawa-j.html)\n",
    "    * [Direct visualization of the microtubule lattice seam both in vitro and in vivo](https://doi.org/10.1083%2Fjcb.127.6.1965)\n",
    "    * [A Molecular “Zipper” for Microtubules](https://doi.org/10.1016%2Fj.cell.2006.12.009)"
   ]
  },
  {
   "cell_type": "markdown",
   "id": "8aa2b203-460a-452e-b596-37497a09dec4",
   "metadata": {},
   "source": [
    "* [协调客观还原](https://zh.m.wikipedia.org/zh-cn/协调客观还原)\n",
    "  * [史都華·哈默洛夫](https://zh.m.wikipedia.org/zh-cn/史都華·哈默洛夫)\n",
    "  * [Quantum experiments add weight to a fringe theory of consciousness](https://www.newscientist.com/article/2316408-quantum-experiments-add-weight-to-a-fringe-theory-of-consciousness/)"
   ]
  }
 ],
 "metadata": {
  "kernelspec": {
   "display_name": "Python 3 (ipykernel)",
   "language": "python",
   "name": "python3"
  },
  "language_info": {
   "codemirror_mode": {
    "name": "ipython",
    "version": 3
   },
   "file_extension": ".py",
   "mimetype": "text/x-python",
   "name": "python",
   "nbconvert_exporter": "python",
   "pygments_lexer": "ipython3",
   "version": "3.9.7"
  }
 },
 "nbformat": 4,
 "nbformat_minor": 5
}
