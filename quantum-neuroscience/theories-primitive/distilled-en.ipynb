{
 "cells": [
  {
   "cell_type": "markdown",
   "id": "fdc93322-437c-465c-b459-3935596d0f9d",
   "metadata": {},
   "source": [
    "---\n",
    "### [Quantum mechanics distilled](https://quantum.country/qm)"
   ]
  },
  {
   "cell_type": "markdown",
   "id": "92140690",
   "metadata": {},
   "source": [
    "#### The first postulate: state space\n",
    "\n",
    "**Postulate 1**: Associated to any physical system is a complex vector space known as the state space of the system. If the system is isolated, then the system is completely described by its state vector, which is a unit vector in the system's state space.\n",
    "\n",
    "This may seem densely written, but you already know most of it. In particular, we've been working extensively with qubits, and we've seen this postulate in action.\n",
    "\n",
    "For a qubit, the state space is a two-dimensional complex vector space. The *amplitudes* (the coefficients for all particular components) of the state vector can be complex numbers, let’s denote them by $\\alpha$ and $\\beta$ so the state vector is $\\alpha \\left| 0 \\right\\rangle + \\beta \\left| 1 \\right\\rangle$. The constraint is now that the sum of the squares of the amplitudes is $1$, i.e., $\\left| \\alpha \\right|^2 + \\left| \\beta \\right|^2 = 1$.\n",
    "\n",
    "This is called the *normalization constraint*: \"the sum of the squares of the moduli of the probability amplitudes of the quantum state vector must be equal to $1$\".\n",
    "\n",
    "It’s called that because if you think of $\\left| 0 \\right\\rangle$ and $\\left| 1 \\right\\rangle$ as orthonormal vectors, then the normalization constraint is the requirement that the length of the state vector is equal to $1$. So the state vector is a unit vector, or a normalized vector in that state space, and that’s why this is called a normalization constraint.\n",
    "\n",
    "The condition that the state vector is a unit vector expresses the idea that the probabilities for the outcomes of a computational basis measurement add up to $1$."
   ]
  },
  {
   "cell_type": "markdown",
   "id": "b769b505-2a95-4858-b3fe-fd0e7457e855",
   "metadata": {},
   "source": [
    "#### The second postulate: unitary dynamics\n",
    "\n",
    "The first postulate of quantum mechanics told us how we describe states. What about how states change, that is, the dynamics of a quantum system? That's where the second postulate comes in. In the earlier essay we saw that quantum gates are described by unitary matrices acting on the state space of a quantum system. The second postulate tells us that something very similar is true for any isolated quantum system:\n",
    "\n",
    "**Postulate 2**: The evolution of an isolated quantum system is described by a unitary matrix acting on the state space of the system. That is, the state $ |\\psi\\rangle $ of the system at a time $ t_1 $ is related to the state $ |\\psi'\\rangle $ at a later time $ t_2 $ by a unitary matrix, $ U $: $ |\\psi'\\rangle = U |\\psi\\rangle $. That matrix $ U $ may depend on the times $ t_1 $ and $ t_2 $, but does not depend on the states $ |\\psi\\rangle $ and $ |\\psi'\\rangle $.\n",
    "\n",
    "Our quantum gates demonstrate this postulate in action. So, for instance, the Pauli $ X $ gate, also known as the quantum NOT gate, is an example. Here it is shown in the quantum circuit and matrix representations, as well as the explicit action on states:\n",
    "\n",
    "$$ X = \\begin{pmatrix} 0 & 1 \\\\ 1 & 0 \\end{pmatrix} $$\n",
    "\n",
    "$$ X (\\alpha |0\\rangle + \\beta |1\\rangle) = \\beta |0\\rangle + \\alpha |1\\rangle $$\n",
    "\n",
    "So too is the Hadamard gate, $ H $:\n",
    "\n",
    "$$ H = \\frac{1}{\\sqrt{2}} \\begin{pmatrix} 1 & 1 \\\\ 1 & -1 \\end{pmatrix} $$\n",
    "\n",
    "$$ H(\\alpha|0\\rangle + \\beta|1\\rangle) = \\frac{\\alpha + \\beta}{\\sqrt{2}}|0\\rangle + \\frac{\\alpha - \\beta}{\\sqrt{2}}|1\\rangle $$\n",
    "\n",
    "And so on, through the controlled-NOT gate, the Toffoli gate, and all the other quantum gates we met earlier.\n",
    "\n",
    "Why is it unitary matrices which appear in the second postulate? If you try writing a few matrices down on paper, you quickly find that most matrices aren't unitary, or even close to it. Why can't we have a general matrix in the second postulate? One partial explanation, discussed in depth in the earlier essay, is that unitary matrices are the only matrices which preserve length. If we want the quantum state to remain normalized, then unitary matrices are the only matrices which do the trick, since any other matrix will result in the norm changing. That normalization is in turn connected to the requirement that the probabilities of measurement outcomes sum to one. In this sense, the postulates of quantum mechanics form a tightly interconnected web, with requirements like unitarity from one postulate reflecting requirements elsewhere, like normalization of the state vector, or probabilities summing to one.\n",
    "\n",
    "How to figure out which unitary transformation is needed to describe any particular physical situation? As you might guess from our discussion of the first postulate, the second postulate is silent on this question. It needs to be figured out case by case. Theories like QED and the standard model supply additional rules specifying the exact (unitary) dynamics of the systems they describe. It's as before: quantum mechanics is a framework, not a complete physical theory in its own right. But being told that the correct way to describe dynamics is using unitary transformations on state space is already an incredibly prescriptive statement. And, as before, the quantum circuit model is a useful source of examples, and working with it is a good way to build intuition.\n",
    "\n",
    "More broadly: although quantum mechanics reached its final form in the 1920s, physicists spent much of the remainder of the twentieth century figuring out what unitary dynamics, state spaces, and quantum states are needed to describe this or that system. You can't just solve this problem once: optical physicists had to do it for light, atomic physicists for atoms, particle physicists have been doing it for the entire pantheon of particles described in the standard model of particle physics. Still, although there's much more to learn about the application of these two postulates, already they give us a remarkably constraining framework for thinking about what the world is and how it can change."
   ]
  },
  {
   "cell_type": "markdown",
   "id": "efd22e4e-30c4-4903-ac66-90f1ba47182b",
   "metadata": {},
   "source": [
    "You probably noticed that, like the first postulate, it contained a caveat about describing the dynamics of isolated systems using unitary matrices. Of course, in nature most physical systems aren't isolated or even near-isolated. Suppose, for instance, you're trying to build a quantum computer, using atoms to store the states of your qubits. For instance, we could use two different orbital shells for an electron to correspond to the $|0\\rangle$ and $|1\\rangle$ states. And suppose you effect a quantum gate by briefly shining laser light on the atom, causing the electron to move between the shells.\n",
    "\n",
    "Such an atom is not isolated: it's interacting strongly with the laser. But it turns out the dynamics of the atom are still closely described by a unitary transformation, even when laser light is being shone on it. This isn't obvious; it requires detailed investigation. But the upshot is that while the second postulate only directly applies to isolated systems, surprisingly often it's possible to describe the dynamics of non-isolated systems by unitary dynamics. Indeed, when we said above that quantum gates are examples of the second postulate, that's not quite right. Usually, quantum gates involve non-isolated systems. But with careful design they implement unitary operations anyway."
   ]
  },
  {
   "cell_type": "markdown",
   "id": "bff5dc7a-f60e-430a-bf5f-b31a33987adb",
   "metadata": {},
   "source": [
    "We presented the second postulate in the form most often used in quantum circuit contexts, with discrete gates being applied to cause discrete changes in the quantum state. We'll now briefly show you an alternate form, in which the evolution of the quantum state varies smoothly in continuous time, with the change described by a differential equation. We're not going to use this much, and so you don't need to understand all the details in depth – this is just so you get the gist. Here's the equation controlling the time rate of change of the quantum state:\n",
    "\n",
    "$$ i \\frac{d |\\psi\\rangle}{dt} = H |\\psi\\rangle. $$\n",
    "\n",
    "This equation is known as the Schroedinger equation. The matrix $ H $ is a (fixed) hermitian matrix known as the Hamiltonian of the system. (This is not the same as the Hadamard gate, it's merely an unfortunate notational coincidence). You can think of the Hamiltonian $ H $ as telling the quantum state how to change. The Schroedinger equation thus provides a continuous-time description of the dynamics of the quantum state, whereas the second postulate was focused on a discrete time description.\n",
    "\n",
    "By solving the Schroedinger equation we can relate the state of the system at time $ t_2 $ to the state at time $ t_1 $. The solution is:\n",
    "\n",
    "$$ |\\psi_{t_2}\\rangle = e^{-iH(t_2 - t_1)} |\\psi_{t_1}\\rangle. $$\n",
    "\n",
    "Of course, while it's easy enough to write down the matrix exponential, it is often quite a bit of work to compute in practice!\n",
    "\n",
    "Traditional treatments of quantum mechanics spend a lot of time discussing Hamiltonians used to describe different physical systems, and figuring out (often rather tediously) the value of the matrix exponential. These are important and worthy technical problems, but not necessary for understanding the fundamentals of quantum mechanics. Still, it's worth noting that the above solution is consistent with the second postulate: in particular, it can be shown that $ e^{-iH(t_2 - t_1)} $ is a unitary matrix. Indeed, if you're wondering about questions like “where does that factor $ i $ come from in the Schroedinger equation” or “why is the Hamiltonian $ H $ required to be Hermitian”, they turn out to be required to get unitary evolution. So it all hangs together nicely. In fact, there's also an informal argument which lets you turn the second postulate around and (with a few extra assumptions) derive the Schroedinger equation. We won't get into details here, but it seems worth being aware this is possible.\n",
    "\n",
    "What is worth taking away from this discussion is a few basics: the term Hamiltonian, what the Schroedinger equation does, qualitatively, and a broad feel for how the Schroedinger equation relates to the second postulate. We won't ask you to remember the details of the Schroedinger equation – those really need to be unpacked in more depth, and with some detailed examples. On the other hand, it is valuable to know what the Schroedinger equation does: it describes the time rate of change of the quantum state of an isolated physical system. The questions below are somewhat outside the main scope of this essay. But they're included here so that if in later reading you come across terms like “Hamiltonian”, you'll have a basic understanding to build upon."
   ]
  },
  {
   "cell_type": "markdown",
   "id": "0e355fb7-fa1d-4125-a953-d46ddf67ede3",
   "metadata": {},
   "source": [
    "#### The third postulate: measurement\n",
    "\n",
    "The third postulate is the strangest of the postulates of quantum mechanics. To explain its content, it helps to recap from [Quantum Computing for the Very Curious](https://quantum.country/qcvc):\n",
    "\n",
    "> Suppose a (hypothetical!) quantum physicist named Alice prepares a qubit in her laboratory, in a quantum state \n",
    "$\\alpha |0\\rangle + \\beta |1\\rangle$. Then she gives her qubit to another quantum physicist, Bob, but doesn’t tell him the values of $\\alpha$ and $\\beta$. Is there some way Bob can figure out $\\alpha$ and $\\beta$? That is, is there some experiment Bob can do to figure out the identity of the quantum state?\n",
    ">\n",
    "> The surprising answer to this question turns out to be NO! There is, in fact, no way to figure out $\\alpha$ and $\\beta$ if they start out unknown. To put it a slightly different way, the quantum state of any system – whether it be a qubit or a some other system – is not directly observable.\n",
    ">\n",
    "> [We] say this is surprising, because it's very different from our usual everyday way of thinking about how the world works. If there’s something wrong with your car, a mechanic can use diagnostic tools to learn about the internal state of the engine. The better the diagnostic tools, the more they can learn. Of course, there may be parts of the engine that would be impractical to access – maybe they’d have to break a part, or use a microscope, for instance. But you’d probably be rather suspicious if the mechanic told you the laws of physics prohibited them from figuring out the internal state of the engine.\n",
    "\n",
    "In the earlier essay we described *measurement in the computational basis*. That process governs how you get information out of a quantum computer. Recall the simplest version, measuring just a single qubit in the computational basis. In that process, if you measure a qubit in the state \n",
    "$\\alpha |0\\rangle + \\beta |1\\rangle$ then you get the outcome $0$ with probability $|\\alpha|^2$ and the outcome $1$ with probability $|\\beta|^2$. The posterior state in the two cases is $|0\\rangle$ and $|1\\rangle$, respectively.\n",
    "\n",
    "The third postulate generalizes this idea of measurement:\n",
    "\n",
    "**Postulate 3:** Quantum measurements are described by a collection $\\{M_m\\}$ of *measurement operators*. (The term “operator” is often used essentially interchangeably with “matrix” in elementary linear algebra. The two terms mean somewhat different things in infinite-dimensional spaces, but in our finite-dimensional context can be interchanged. The term measurement operator seems more common than measurement matrix, and so we go with that.) Each $M_m$ is a matrix acting on the state space of the system being measured. The index $m$ takes values corresponding to the measurement outcomes that may occur in the experiment. If the state of the quantum system is $|\\psi\\rangle$ immediately before the measurement then the probability that result $m$ occurs is given by\n",
    "\n",
    "$$ p(m) = \\langle \\psi | M_m^\\dagger M_m | \\psi \\rangle, $$\n",
    "\n",
    "and the state of the system after the measurement, often called the *posterior state*, is\n",
    "\n",
    "$$ \\frac{M_m |\\psi\\rangle}{\\sqrt{\\langle \\psi | M_m^\\dagger M_m | \\psi \\rangle}}. $$\n",
    "\n",
    "(It's worth noting that: (a) the denominator is just the square root of the probability $p(m)$; and (b) this is a properly normalized quantum state.) The measurement operators satisfy the *completeness relation* (The postulate we've stated is a generalization of the statement given in some quantum mechanics textbooks, based on what are often called projective measurements. The two statements are, however, equivalent, when combined with the other postulates. We've chosen the present formulation as it's mathematically simpler and more powerful than the presentation in terms of projective measurements. We believe that presentation should be deprecated from quantum mechanics texts.),\n",
    "\n",
    "$$ \\sum_m M_m^\\dagger M_m = I. $$"
   ]
  },
  {
   "cell_type": "markdown",
   "id": "6d4b95d0-605e-4e96-86e7-26ca82020add",
   "metadata": {},
   "source": [
    "There's a lot going on in this postulate. But again it mostly expresses ideas we've already seen, albeit disguised. We'll give a concrete example in a moment, but first want to address the meaning of the completeness relation. It simply expresses the idea that probabilities sum to $1$. We can see this by pre-multiplying the completeness relation by $\\langle \\psi|$ and post-multiplying by $|\\psi\\rangle$. Comparing with the equation for the probability $p(m)$ we see this gives\n",
    "\n",
    "$$ \\sum_m p(m) = \\sum_m \\langle \\psi | M_m^\\dagger M_m | \\psi \\rangle = \\langle \\psi | I | \\psi \\rangle = \\langle \\psi | \\psi \\rangle = 1, $$\n",
    "\n",
    "where we assumed $|\\psi\\rangle$ is a quantum state, and thus normalized to have length $1$.\n",
    "\n",
    "To understand the meaning of the third postulate, it helps to work through the particular case of measuring a single qubit in the computational basis. In that case, the measurement operators are $M_0 = |0\\rangle\\langle 0|$ and $M_1 = |1\\rangle\\langle 1|$. It's easiest to apply the third postulate if we write out explicit amplitudes for the quantum state, $|\\psi\\rangle = \\alpha |0\\rangle + \\beta |1\\rangle$. According to the third postulate, the probability for result $0$ is:\n",
    "\n",
    "$$ p(0) = \\langle \\psi | M_0^\\dagger M_0 | \\psi \\rangle = \\langle \\psi | 0 \\rangle \\langle 0 | 0 \\rangle \\langle 0 | \\psi \\rangle. $$\n",
    "\n",
    "Of course, $|0\\rangle$ is normalized and so $\\langle 0 | 0 \\rangle = 1$, and this becomes:\n",
    "\n",
    "$$ p(0) = \\langle \\psi | 0 \\rangle \\langle 0 | \\psi \\rangle = |\\langle 0 | \\psi \\rangle|^2. $$\n",
    "\n",
    "But $\\langle 0 | \\psi \\rangle = \\alpha$, and so this tells us the probability of measurement outcome $0$ is $p(0) = |\\alpha|^2$, just as we expected. The exact same calculation, but with $0$s replaced by $1$s, shows us that $p(1) = |\\beta|^2$, also as expected.\n",
    "\n",
    "What about the posterior states? Let's consider the case of measurement result $m = 0$. In that case the third postulate tells us the posterior state is\n",
    "\n",
    "$$ \\frac{| 0 \\rangle \\langle 0 | \\psi\\rangle}{\\sqrt{p(0)}}. $$\n",
    "\n",
    "We've already seen $p(0) = |\\alpha|^2$. And, of course, $\\langle 0 | \\psi \\rangle = \\alpha$. And so the posterior state is:\n",
    "\n",
    "$$ \\frac{\\alpha}{|\\alpha|} |0\\rangle. $$\n",
    "\n",
    "This is a peculiar looking state! The pre-factor $\\alpha / |\\alpha|$ appears complicated, but it's just a global phase factor. Back in [Quantum Computing for the Very Curious](https://quantum.country/qcvc) we observed that such global phase factors never affect measurement probabilities, and as a result it's conventional to regard quantum states which differ only by a global phase factor as identical. And so the state above can be regarded as equivalent to the quantum state $|0\\rangle$, just as we expected for a measurement in the computational basis. In a similar fashion, we can show that the posterior state if the measurement result was $1$ is $|1\\rangle$ (again, up to a global phase factor, which we ignore).\n",
    "\n",
    "The argument for ignoring global phase factors in [Quantum Computing for the Very Curious](https://quantum.country/qcvc) was hand wavy. In fact, the postulates can be used to make the argument watertight. Suppose we have two quantum states related by a global phase factor, $|\\psi'\\rangle = e^{i\\theta} |\\psi\\rangle$. Then the measurement probabilities for the two states are always identical:\n",
    "\n",
    "$$ p'(m) = \\langle \\psi' | M_m^\\dagger M_m | \\psi' \\rangle = \\langle \\psi | M_m^\\dagger M_m | \\psi \\rangle = p(m). $$\n",
    "\n",
    "And, although we won't show it explicitly, the global phase factor also propagates unchanged through both unitary dynamics and posterior state calculations. And so such a phase factor makes no difference at all to anything observable. In fact, people sometimes re-state the postulates using a different formulation which entirely eliminates such global phase factors. The reason we haven't done this is that it significantly complicates the presentation. It's easier and also more conventional to just use the informal argument we've made.\n",
    "\n",
    "Incidentally, you may wonder what happens in the third postulate when the denominator $\\sqrt{\\langle \\psi | M_m^\\dagger M_m | \\psi \\rangle}$ in the posterior state vanishes. Wouldn't that make the posterior state undefined? Fortunately, that can only happen if the probability of the measurement outcome is zero. That also means the measurement outcome will never occur, so we don't need to worry about it.\n",
    "\n",
    "We've gone through a lot of work just to analyze a single quantum measurement! The good news is that we rarely need to go through such work. Instead, you build up a library of common patterns for measurement operators. Indeed, in quantum computing you'll mainly be interested in measurements in the computational basis. And there are a few other common measurements as well, some of which we'll talk about later in the essay. In practice, you only rarely need to do calculations like those above."
   ]
  },
  {
   "cell_type": "markdown",
   "id": "af49df43-9826-4f8f-b502-ef017e70486f",
   "metadata": {},
   "source": [
    "Let's introduce a new type of measurement, one we haven't seen in any earlier essays. It's a single-qubit measurement, but not a measurement in the computational basis. Recall the equal superposition states:\n",
    "\n",
    "$$ |+⟩ = \\frac{|0⟩ + |1⟩}{\\sqrt{2}}; \\quad |−⟩ = \\frac{|0⟩ - |1⟩}{\\sqrt{2}}. $$\n",
    "\n",
    "The measurement we'll now define is what people call “measuring in the $ |+⟩, |−⟩ $ basis”. In particular, we define measurement operators $ M_+ = |+⟩⟨+| $ and $ M_− = |−⟩⟨−| $. We won't work through the details of the calculation, but if you wish you can check the completeness relation $ M_+^\\dagger M_+ + M_-^\\dagger M_- = I $. Making this check is just a little matrix calculation. What we're going to focus on is understanding the measurement probabilities and posterior states.\n",
    "\n",
    "It's tempting – in fact, it's a good idea! – to begin by expanding the state being measured as $ |ψ⟩ = α |0⟩ + β |1⟩ $. If you do this, you can push through and figure out the measurement probabilities and posterior states. But there's a trick you can use to simplify matters. It's worth pausing a moment, and seeing if you can think of what that trick might be. Any ideas?\n",
    "\n",
    "The trick is this: it's to observe that we could equally well have expanded $ |ψ⟩ $ in terms of the $ |+⟩ $ and $ |−⟩ $ states, as $ |ψ⟩ = γ |+⟩ + δ |−⟩ $. We can certainly do this, since $ |+⟩ $ and $ |−⟩ $ are linearly independent (in fact, orthonormal) states in a two-dimensional vector space. Can you now guess what the measurement probabilities and posterior states are, by analogy with measurement in the computational basis?\n",
    "\n",
    "We'll work through the explicit calculation in a moment, but it's worth stating the result up front: the probability of the $ + $ outcome is $ |γ|^2 $, with posterior state $ |+⟩ $, and the probability of the $ − $ outcome is $ |δ|^2 $, with posterior state $ |−⟩ $. This is much like the computational basis measurement, and the calculation showing it is much like the calculation earlier for the computational basis measurement. In particular, for the $ + $ measurement we have:\n",
    "\n",
    "$$ p(+) = ⟨ψ| M_+^\\dagger M_+ |ψ⟩ = (γ^* ⟨+| + δ^* ⟨−|) |+⟩⟨+|+⟩⟨+| (γ |+⟩ + δ |−⟩). $$\n",
    "\n",
    "Of course, $ ⟨+|+⟩ = 1 $. And, in case you've forgotten, a quick calculation shows $ ⟨+|−⟩ = 0 $, i.e., the $ |+⟩ $ and $ |−⟩ $ states are orthogonal. So the above becomes:\n",
    "\n",
    "$$ p(+) = (γ^* ⟨+| + δ^* ⟨−|) |+⟩⟨+| (γ |+⟩ + δ |−⟩) = |γ|^2. $$\n",
    "\n",
    "A similar but simpler calculation shows $ M_+ |ψ⟩ = γ |+⟩ $, and so the corresponding posterior state is $ \\frac{γ}{|γ|} |+⟩ $, which up to a global phase factor is the $ |+⟩ $ state. Similar calculations show that the probability of a $ − $ outcome is $ |δ|^2 $, with posterior state $ |−⟩ $ (up to a global phase). In practice, we just say the posterior states are $ |+⟩ $ and $ |−⟩ $, respectively.\n",
    "\n",
    "What would have happened if instead we'd stuck with $ |ψ⟩ = α |0⟩ + β |1⟩ $? The calculation would have been a little more complicated, but of course we would have gotten the same result in the end, albeit expressed in terms of $ α $ and $ β $ instead of $ γ $ and $ δ $."
   ]
  },
  {
   "cell_type": "markdown",
   "id": "3575ac7b",
   "metadata": {},
   "source": [
    "---\n",
    "**Observable**\n",
    "\n",
    "More generally, if we have a set of measurement operators $\\{M_m\\}$ then the average outcome is\n",
    "$$\n",
    "\\sum_m p(m)m = \\sum_m \\langle \\psi | M_m^\\dagger M_m | \\psi \\rangle m,\n",
    "$$\n",
    "where the term on the left is just the definition of the average, and the term on the right comes from the third postulate. But we can take the sum inside and we see that the average is just $ \\langle \\psi | M | \\psi \\rangle $ where\n",
    "$$\n",
    "M := \\sum_m m M_m^\\dagger M_m.\n",
    "$$\n",
    "\n",
    "$M$ is known as the *observable* corresponding to the measurement $\\{M_m\\}$. This observable is a single, fixed operator which depends only on the measurement outcomes $m$ and measurement operators $M_m$. Yet if you know the observable then it is often easy to compute the average measurement outcome: it's just $ \\langle \\psi | M | \\psi \\rangle $. Indeed, this is so convenient that it's often written in an abbreviated form as $ \\langle M \\rangle := \\langle \\psi | M | \\psi \\rangle $. And so people often use $\\langle M \\rangle$ as the notation for an average in quantum mechanics."
   ]
  },
  {
   "cell_type": "markdown",
   "id": "73edf589",
   "metadata": {},
   "source": [
    "More generally, we can tip this process upside down, using an observable to define a quantum measurement. In particular, suppose $M$ is a Hermitian matrix acting on the quantum system's state space. Then a result known as the spectral theorem from linear algebra guarantees that $M$ can be decomposed as:\n",
    "$$\n",
    "M = \\sum_{\\lambda} \\lambda |\\lambda\\rangle\\langle\\lambda|,\n",
    "$$\n",
    "where the sum is over all eigenvalues $\\lambda$ and corresponding (normalized) eigenvectors $|\\lambda\\rangle$ of $M$. We can then define a quantum measurement with measurement operators $M_{\\lambda} = |\\lambda\\rangle\\langle\\lambda|$. The completeness relation is easily checked to be true, and so this is a valid quantum measurement. What's more, you can check that $M$ is the observable corresponding to those choices."
   ]
  },
  {
   "cell_type": "markdown",
   "id": "a41d9297",
   "metadata": {},
   "source": [
    "---\n",
    "There's an alternate way of looking at the third postulate where it appears almost to be a generalization of the second postulate. Suppose we were to do a measurement with just a single measurement outcome. That sounds peculiar – if a measuring device always showed the same answer you'd think it was broken – but it at least makes logical sense. According to the third postulate such a measurement would be described by a single measurement operator, which we can just call $M$ (no label needed, since the outcome is always the same).\n",
    "\n",
    "In this situation, the completeness relation becomes $M^\\dagger M = I$. That's just the condition that $M$ be unitary. And, of course, the probability of the outcome would be $\\langle \\psi | M^\\dagger M | \\psi \\rangle = \\langle \\psi | I | \\psi \\rangle = 1$, so that outcome would occur with probability 1, i.e., all the time. This is as we'd expect, given that there is only one possible outcome! So the second postulate appears to be a special case of the third postulate where there is just a single outcome.\n",
    "\n",
    "We say “appears”. It's not quite as simple as that. After all, the third postulate is talking about a system which is being measured, presumably by interacting with some measuring device, while the second postulate is talking about the dynamics of isolated physical systems. So the two postulates are talking about quite distinct physical situations. To say the second postulate is a special case of the third it's not enough for the mathematics to check out: you need a unified and conceptually sensible physical picture too. Still, you can imagine trying to reformulate the postulates so that the second and third postulates are unified aspects of a single postulate. It's fun to try to find conceptual unifications making that work. We don't do it here, but you may enjoy pondering how to do it."
   ]
  },
  {
   "cell_type": "markdown",
   "id": "f0a850f6",
   "metadata": {},
   "source": [
    "---\n",
    "**Why are there two types of dynamics?**\n",
    "\n",
    "One oddity of quantum mechanics is that it has two different ways of describing the way states change: unitary dynamics, and the dynamics associated to measurement. This gives rise to a striking set of puzzles. Suppose we have a quantum system – let's call it \n",
    "*Q* – that's being measured. The measuring device is, of course, itself a quantum system. It seems therefore that it should be possible to find some larger quantum system which is isolated and that includes both \n",
    "*Q* and the measuring device. According to the second postulate, that larger system is undergoing unitary evolution.\n",
    "\n",
    "What this means is that quantum mechanics now offers two seemingly different ways of describing the evolution of the system being measured: either through measurement operators and probabilities, as in the third postulate. Or in a completely deterministic way, under the unitary evolution of the larger system.\n",
    "\n",
    "Having two different ways of describing the same situation prompts many questions: Can we guarantee the two descriptions are always consistent with one another? Is it possible to derive one description from the other? How can probabilities arise out of what seems like a deterministic description of the larger system? In particular, doesn't it seem strange that the quantum state for the combined system is evolving in a purely deterministic fashion, while the quantum state for the measured system changes at random? Shouldn't there be some way for us to derive the measurement probabilities from the deterministic evolution of the state of the combined system? In short: how can we reconcile these two points of view?\n",
    "\n",
    "These are good questions. Together, these and other related questions are often known as the *measurement problem* in quantum mechanics. Many resolutions of the measurement problem have been published by individual physicists. Unfortunately, the physics community as a whole has not agreed upon a complete resolution. We've heard variations on: “this has all been solved by Bohr; by von Neumann; by Everett; by Bohm; etc”. Unfortunately, for all the dozens or hundreds of resolutions which have been published there are also standard counterarguments. Indeed, a fun idea for a (very large!) project is to gather up the entire argument tree, containing all the strongest arguments and counterarguments, and cruxes of disagreement."
   ]
  }
 ],
 "metadata": {
  "kernelspec": {
   "display_name": "Python 3 (ipykernel)",
   "language": "python",
   "name": "python3"
  },
  "language_info": {
   "codemirror_mode": {
    "name": "ipython",
    "version": 3
   },
   "file_extension": ".py",
   "mimetype": "text/x-python",
   "name": "python",
   "nbconvert_exporter": "python",
   "pygments_lexer": "ipython3",
   "version": "3.9.7"
  }
 },
 "nbformat": 4,
 "nbformat_minor": 5
}
