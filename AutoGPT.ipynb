{
 "cells": [
  {
   "cell_type": "code",
   "execution_count": null,
   "id": "5cf3cd41-0990-47dc-a4a7-b5843b51b1d8",
   "metadata": {},
   "outputs": [],
   "source": [
    "%%bash\n",
    "cd ~ && git clone https://github.com/Torantulino/Auto-GPT"
   ]
  },
  {
   "cell_type": "markdown",
   "id": "277f8cde-4db7-46da-aaf6-6b9d6d4c60f1",
   "metadata": {},
   "source": [
    "---"
   ]
  },
  {
   "cell_type": "code",
   "execution_count": null,
   "id": "fe0f1861-1c59-43c8-868b-fcb4b6eafff4",
   "metadata": {},
   "outputs": [],
   "source": []
  }
 ],
 "metadata": {
  "kernelspec": {
   "display_name": "Python 3 (ipykernel)",
   "language": "python",
   "name": "python3"
  }
 },
 "nbformat": 4,
 "nbformat_minor": 5
}
