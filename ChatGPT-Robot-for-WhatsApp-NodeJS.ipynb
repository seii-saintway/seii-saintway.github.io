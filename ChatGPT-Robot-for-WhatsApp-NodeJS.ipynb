{
 "cells": [
  {
   "cell_type": "markdown",
   "id": "07d8871d-3ddb-4c19-b56f-dd85d2f94245",
   "metadata": {},
   "source": [
    "---\n",
    "Ask ChatGPT by Python"
   ]
  },
  {
   "cell_type": "code",
   "execution_count": null,
   "id": "223d3605-10f0-4da7-a1eb-1da021fda343",
   "metadata": {},
   "outputs": [],
   "source": [
    "import IPython"
   ]
  },
  {
   "cell_type": "code",
   "execution_count": null,
   "id": "0924a058-d092-4986-ae6c-d0078cc1ca87",
   "metadata": {},
   "outputs": [],
   "source": [
    "from revChatGPT.V1 import Chatbot, configure\n",
    "\n",
    "\n",
    "bot = Chatbot(\n",
    "    config = configure(),\n",
    "    conversation_id = 'fdf52ab3-f8c1-450f-86f2-5a25d43fc48d',\n",
    "    lazy_loading = True\n",
    ")"
   ]
  },
  {
   "cell_type": "code",
   "execution_count": null,
   "id": "f1af374e-e554-4d71-a9ee-617ad94afb48",
   "metadata": {},
   "outputs": [
    {
     "data": {
      "text/markdown": [
       "下面是一个使用 Node.js 的 http 模块访问某个 URL 并打印响应的简单示例：\n",
       "\n",
       "```javascript\n",
       "const http = require('http');\n",
       "\n",
       "const url = 'http://example.com';\n",
       "\n",
       "http.get(url, (res) => {\n",
       "  console.log(`Got response: ${res.statusCode}`);\n",
       "\n",
       "  res.on('data', (chunk) => {\n",
       "    console.log(`Received data: ${chunk}`);\n",
       "  });\n",
       "\n",
       "  res.on('end', () => {\n",
       "    console.log('No more data in response.');\n",
       "  });\n",
       "}).on('error', (err) => {\n",
       "  console.error(`Got error: ${err.message}`);\n",
       "});\n",
       "```\n",
       "\n",
       "在这个示例中，我们使用了 `http.get` 方法向指定的 URL 发送 GET 请求，并注册了响应的回调函数来处理响应数据。当响应数据到达时，我们将其打印到控制台上。如果在请求过程中发生错误，我们也会将错误信息打印到控制台上。"
      ],
      "text/plain": [
       "<IPython.core.display.Markdown object>"
      ]
     },
     "metadata": {},
     "output_type": "display_data"
    }
   ],
   "source": [
    "for response in bot.ask('''\n",
    "给出一个用 NodeJS 以 HTTP 协议 访问某个 URL 的 Demo\n",
    "'''):\n",
    "    IPython.display.display(IPython.core.display.Markdown(response['message']))\n",
    "    IPython.display.clear_output(wait=True)"
   ]
  },
  {
   "cell_type": "code",
   "execution_count": null,
   "id": "c44b1394-8949-46d9-9553-0e1bb37b24e4",
   "metadata": {},
   "outputs": [
    {
     "data": {
      "text/markdown": [
       "\n",
       "\n",
       "以下是一个用 Node.js 实现 curl 的示例代码：\n",
       "\n",
       "```javascript\n",
       "const https = require('https');\n",
       "\n",
       "const url = process.argv[2];\n",
       "\n",
       "https.get(url, (res) => {\n",
       "  res.on('data', (chunk) => {\n",
       "    process.stdout.write(chunk);\n",
       "  });\n",
       "}).on('error', (err) => {\n",
       "  console.error(err);\n",
       "});\n",
       "```\n",
       "\n",
       "这个代码使用 Node.js 内置的 `https` 模块向指定的 URL 发送 GET 请求，并将响应的数据输出到标准输出流。使用时可以在命令行中输入类似以下命令：\n",
       "\n",
       "```\n",
       "node curl.js https://www.example.com\n",
       "```\n",
       "\n",
       "这样就可以向 `https://www.example.com` 发送 GET 请求，并将响应的数据输出到控制台。"
      ],
      "text/plain": [
       "<IPython.core.display.Markdown object>"
      ]
     },
     "metadata": {},
     "output_type": "display_data"
    }
   ],
   "source": [
    "for response in bot.ask('''\n",
    "用 NodeJS 实现 curl\n",
    "'''):\n",
    "    IPython.display.display(IPython.core.display.Markdown(response['message']))\n",
    "    IPython.display.clear_output(wait=True)"
   ]
  },
  {
   "cell_type": "code",
   "execution_count": null,
   "id": "1d052794-d957-47ef-81e1-3c67a8b08032",
   "metadata": {},
   "outputs": [
    {
     "data": {
      "text/markdown": [
       "`console.log` 和 `process.stdout.write` 都是 Node.js 中用于输出内容的方法，它们的主要区别如下：\n",
       "\n",
       "1. 输出内容的格式不同：`console.log` 会自动在输出内容的结尾添加换行符 `\\n`，而 `process.stdout.write` 则不会。\n",
       "\n",
       "2. 输出位置不同：`console.log` 的输出位置是标准输出流 `stdout`，而 `process.stdout.write` 则直接向标准输出流中写入数据。\n",
       "\n",
       "因此，如果要输出一个带换行符的字符串，可以使用 `console.log`，例如：\n",
       "\n",
       "```js\n",
       "console.log('Hello, world!');\n",
       "```\n",
       "\n",
       "如果要输出一个不带换行符的字符串，可以使用 `process.stdout.write`，例如：\n",
       "\n",
       "```js\n",
       "process.stdout.write('Hello, world!');\n",
       "```"
      ],
      "text/plain": [
       "<IPython.core.display.Markdown object>"
      ]
     },
     "metadata": {},
     "output_type": "display_data"
    }
   ],
   "source": [
    "for response in bot.ask('''\n",
    "在 NodeJS 中，`console.log` 和 `process.stdout.write` 有什么区别？\n",
    "'''):\n",
    "    IPython.display.display(IPython.core.display.Markdown(response['message']))\n",
    "    IPython.display.clear_output(wait=True)"
   ]
  },
  {
   "cell_type": "code",
   "execution_count": null,
   "id": "bb286622-7fec-4457-bed9-061597a2d3b2",
   "metadata": {},
   "outputs": [
    {
     "data": {
      "text/markdown": [
       "在 NodeJS 中，字符串是一种原始数据类型，有以下两种类型的字符串：\n",
       "\n",
       "1. UTF-8 编码的字符串：这种字符串使用 JavaScript 中的 String 类型表示，字符串中每个字符都使用 UTF-8 编码表示。\n",
       "\n",
       "2. 二进制字符串：这种字符串使用 Buffer 类型表示，它可以包含任意字节，可以进行二进制操作。"
      ],
      "text/plain": [
       "<IPython.core.display.Markdown object>"
      ]
     },
     "metadata": {},
     "output_type": "display_data"
    }
   ],
   "source": [
    "for response in bot.ask('''\n",
    "在 NodeJS 中，有哪几种类型的字符串？\n",
    "'''):\n",
    "    IPython.display.display(IPython.core.display.Markdown(response['message']))\n",
    "    IPython.display.clear_output(wait=True)"
   ]
  },
  {
   "cell_type": "markdown",
   "id": "44d366c2-037a-4e9f-aa1b-ec84afc8b17a",
   "metadata": {},
   "source": [
    "---\n",
    "Run by IJavaScript"
   ]
  },
  {
   "cell_type": "code",
   "execution_count": null,
   "id": "fa089876-cb03-4f2a-a12f-a41b9186c3dd",
   "metadata": {},
   "outputs": [
    {
     "name": "stdout",
     "output_type": "stream",
     "text": [
      "Hello, world!\n"
     ]
    }
   ],
   "source": [
    "console.log('Hello, world!');"
   ]
  },
  {
   "cell_type": "code",
   "execution_count": null,
   "id": "496786ab-0680-4cf2-a0d8-4b6835b482f5",
   "metadata": {},
   "outputs": [
    {
     "name": "stdout",
     "output_type": "stream",
     "text": [
      "Hello, world!"
     ]
    },
    {
     "data": {
      "text/plain": [
       "true"
      ]
     },
     "execution_count": null,
     "metadata": {},
     "output_type": "execute_result"
    }
   ],
   "source": [
    "process.stdout.write('Hello, world!');"
   ]
  },
  {
   "cell_type": "code",
   "execution_count": null,
   "id": "5b0f0cd4-9ded-4960-aca6-da3e7858bd03",
   "metadata": {},
   "outputs": [],
   "source": [
    "const http = require('http');\n",
    "const url = 'http://127.0.0.1:5000/与主同在';"
   ]
  },
  {
   "cell_type": "code",
   "execution_count": null,
   "id": "d88d94ba-fb51-4ada-8ec4-e5f91be32546",
   "metadata": {},
   "outputs": [
    {
     "name": "stdout",
     "output_type": "stream",
     "text": [
      "Sent request.\n",
      "Got response: 200\n",
      "Received data: 阿门！愿神的恩典与平安与您同在。\n",
      "---\n"
     ]
    }
   ],
   "source": [
    "var answer = '';\n",
    "\n",
    "http.get(url, (res) => {\n",
    "  console.log(`Got response: ${res.statusCode}`);\n",
    "\n",
    "  res.on('data', (chunk) => {\n",
    "    console.log(`Received data: ${chunk}`);\n",
    "    answer = `${chunk}`;\n",
    "  });\n",
    "\n",
    "  res.on('end', () => {\n",
    "    console.log('---');\n",
    "  });\n",
    "}).on('error', (err) => {\n",
    "  console.error(`Got error: ${err.message}`);\n",
    "});\n",
    "\n",
    "console.log('Sent request.');"
   ]
  },
  {
   "cell_type": "code",
   "execution_count": null,
   "id": "09573004-978e-4128-b877-d9dac65601ab",
   "metadata": {},
   "outputs": [
    {
     "data": {
      "text/plain": [
       "'阿门！愿神的恩典与平安与您同在。'"
      ]
     },
     "execution_count": null,
     "metadata": {},
     "output_type": "execute_result"
    }
   ],
   "source": [
    "answer"
   ]
  },
  {
   "cell_type": "markdown",
   "id": "a2ca08a9-2316-4658-ba35-2885372718c5",
   "metadata": {},
   "source": [
    "---"
   ]
  },
  {
   "cell_type": "markdown",
   "id": "9b65ad73-6172-4452-8127-90976596ef70",
   "metadata": {},
   "source": [
    "### [whatsapp-web.js](https://github.com/pedroslopez/whatsapp-web.js)\n",
    "* https://wwebjs.dev/\n",
    "  * https://wwebjs.dev/guide/#first-steps\n",
    "  * https://wwebjs.dev/guide/authentication.html"
   ]
  },
  {
   "cell_type": "markdown",
   "id": "4da86e64-8f94-4976-b995-1b906c755650",
   "metadata": {},
   "source": [
    "---\n",
    "Install by Z shell"
   ]
  },
  {
   "cell_type": "code",
   "execution_count": null,
   "id": "6a6b3fad-284a-4a7c-b7fa-879aebeedf52",
   "metadata": {},
   "outputs": [
    {
     "name": "stdout",
     "output_type": "stream",
     "text": [
      "\u001b[K\u001b[?25h\u001b[37;40mnpm\u001b[0m \u001b[0m\u001b[30;43mWARN\u001b[0m \u001b[0m\u001b[35mdeprecated\u001b[0m puppeteer@13.7.0: < 19.2.0 is no longer supportednpmjs.o\u001b[0m\u001b[K\n",
      "\u001b[K\u001b[?25hm##################\u001b[0m) ⠹ reify:node-webpmux: \u001b[32;40mhttp\u001b[0m \u001b[35mfetch\u001b[0m GET 200 https://registry.\u001b[0m\u001b[Kmjs.or\u001b[0m\u001b[Kist\u001b[0m\u001b[K\n",
      "added 98 packages, changed 2 packages, and audited 585 packages in 1m\n",
      "\n",
      "7 packages are looking for funding\n",
      "  run `npm fund` for details\n",
      "\n",
      "\u001b[31m\u001b[1m42\u001b[22m\u001b[39m vulnerabilities (5 \u001b[1mlow\u001b[22m, 6 \u001b[33m\u001b[1mmoderate\u001b[22m\u001b[39m, 23 \u001b[31m\u001b[1mhigh\u001b[22m\u001b[39m, 8 \u001b[35m\u001b[1mcritical\u001b[22m\u001b[39m)\n",
      "\n",
      "To address issues that do not require attention, run:\n",
      "  npm audit fix\n",
      "\n",
      "To address all issues (including breaking changes), run:\n",
      "  npm audit fix --force\n",
      "\n",
      "Run `npm audit` for details.\n"
     ]
    }
   ],
   "source": [
    "npm install 'whatsapp-web.js'"
   ]
  },
  {
   "cell_type": "code",
   "execution_count": null,
   "id": "1a639c89-b573-4115-813f-960d918dfc76",
   "metadata": {},
   "outputs": [
    {
     "name": "stdout",
     "output_type": "stream",
     "text": [
      "\u001b[K\u001b[?25hm##################\u001b[0m) ⠹ reify:qrcode-terminal: \u001b[32;40mhttp\u001b[0m \u001b[35mfetch\u001b[0m GET 200 https://regist\u001b[0m\u001b[KK\u001b[K\n",
      "added 1 package, and audited 586 packages in 14s\n",
      "\n",
      "7 packages are looking for funding\n",
      "  run `npm fund` for details\n",
      "\n",
      "\u001b[31m\u001b[1m42\u001b[22m\u001b[39m vulnerabilities (5 \u001b[1mlow\u001b[22m, 6 \u001b[33m\u001b[1mmoderate\u001b[22m\u001b[39m, 23 \u001b[31m\u001b[1mhigh\u001b[22m\u001b[39m, 8 \u001b[35m\u001b[1mcritical\u001b[22m\u001b[39m)\n",
      "\n",
      "To address issues that do not require attention, run:\n",
      "  npm audit fix\n",
      "\n",
      "To address all issues (including breaking changes), run:\n",
      "  npm audit fix --force\n",
      "\n",
      "Run `npm audit` for details.\n"
     ]
    }
   ],
   "source": [
    "npm install qrcode-terminal"
   ]
  },
  {
   "cell_type": "markdown",
   "id": "72f32656-e3a2-41f2-b53f-e97b3ba2526d",
   "metadata": {},
   "source": [
    "---\n",
    "Run by IJavaScript"
   ]
  },
  {
   "cell_type": "code",
   "execution_count": null,
   "id": "65775674-2dab-4551-9679-4f025080e8d0",
   "metadata": {},
   "outputs": [
    {
     "data": {
      "text/plain": [
       "Promise { <pending> }"
      ]
     },
     "execution_count": null,
     "metadata": {},
     "output_type": "execute_result"
    },
    {
     "name": "stdout",
     "output_type": "stream",
     "text": [
      "▄▄▄▄▄▄▄▄▄▄▄▄▄▄▄▄▄▄▄▄▄▄▄▄▄▄▄▄▄▄▄▄▄▄▄▄▄▄▄▄▄▄▄▄▄▄▄▄▄▄▄▄▄▄▄\n",
      "█ ▄▄▄▄▄ █▀  █▀▄▄█  █  ▀▀ ▄▀█▄▀█ ▄▄  ▄▀  ▄ ▄ ▀██ ▄▄▄▄▄ █\n",
      "█ █   █ █▄ ▀▀▀█▄█ ▀▄▀▄██ █ ▀▀▀ ▄ ▄▀▀██▄▀▄█▄▀▄▀█ █   █ █\n",
      "█ █▄▄▄█ █ ▄█▀ ██▀▀▄█▀ ▀▄▄ ▄▄▄  ▄ ▄█▀ ██▄ ▄  ███ █▄▄▄█ █\n",
      "█▄▄▄▄▄▄▄█ █ █▄█ ▀ █ █▄▀▄▀ █▄█ ▀ ▀▄█▄▀▄▀▄▀ █▄▀▄█▄▄▄▄▄▄▄█\n",
      "█ ▄▀ ██▄ █ ▄▄▀ ▄█ ▀▄██  ▄     ▄▄ ▀▄▄▀▄█▄ ▄▄▄ ▄█▄ ▄▀ ▄▀█\n",
      "█▀█▄▀█ ▄▀▄██▄▄▀ █ █▄  ▄█ ▄▄  █▀▄█▄▀▀▀▀█▀▄█▄▄▀▄▄█▀▄▄  ██\n",
      "█▀▀▄█▄▄▄▀▄█ █▀▄▄▄    ▄█▄ ██ ▄██▄▀ ▄ ▀  █ ▄█▄ ██▀▄ ███▀█\n",
      "█▄▄██▄ ▄  ▀▀  ██ █▀  ▀█▄ █▄▄▄▄▄ █▀▀█▄▄▀██▀▄█▄██▄█▄▄▄▄ █\n",
      "██▀▀▀▄▀▄█ ██▄▀▄  █  ▀▀ ▀   █▀█▀▄▄  ▄ ▄▀▀█▀██▄ ██ ▄▄ ▀▄█\n",
      "█  ▀ ▀▄▄▀█▀ █ ▄▀  ▀▀█▄ ▄ █▀▄▄ █▄▄  ▀█ ▀█ ▄▄█ ▄▀▀█▀▄▄▄ █\n",
      "█▄▀▄▀▄█▄ ▄▄▀▄  █▄██ █▄  ██ ▄▀██▄ ████ ▄▄  ▄▄▄▄ █ ▄▄▄▀▀█\n",
      "█ ▀ ▄▀█▄▀ █▄ █▀██▄▀█▀▄██▄██▀▄▀▀▀█ ▀██▀ █▄█ ██▀▄ ▄█ ▀▀▀█\n",
      "█▄█▄█ ▄▄▄ ▀▀█▀▄██▄  ▄█▀▄  ▄▄▄ ▀█▄ ▀▀ ▄▄█▄▄ ▄█ ▄▄▄ ▄█ ▀█\n",
      "█ ▀ ▀ █▄█ █▀▀  ▄█▀█▄ ▀▄▄█ █▄█ ▀██▀ ▀▀  ▄▄▄▀█  █▄█ █▄ ▄█\n",
      "█ █▀█  ▄  ▄▄▀▄█▄▄█▄ ▀▀ ▀  ▄▄▄▄ █▀▄▄█▀ ▀ ▄▀▄▄█▄▄▄ ▄ █▀██\n",
      "█▀▄  █ ▄▄█▀██ ▀▄ ▄█   ▄██▀█▄▄▀ ▀    ▄▄ █▄█ █▀▀ ▄ █ ▄  █\n",
      "█▄▄▄▀█▀▄▀█▄▀▀███ ▄▄ ██ ▄██▄██▄█▄▀▀▄▄█▄▀▄█▄██▀██▄ ██▀▀██\n",
      "██ ▀▄▄█▄██▀██ ▀  █▄▀▀██ ██ ▄▄█▄ ▄▄▄▄█▀▀█▀▀▄█▀█ ▀  █▀ ▀█\n",
      "██  █▀ ▄▀▀█▄ ▄▀ █▀  ▀██▄█▄▄  ▄▄▄▄▄▄ ▄ ▀▄▀▄▄███ ████▀█▄█\n",
      "█ ▄▀▀▀█▄▀ ▄▄▀█  ████▄█▄▀▄████▄▀▄▄ ▀▄▀▄███ ▄█▄   ▀ ▀██▄█\n",
      "█▀▀█▄▀▄▄▀ ▄▀▄ ▀▀█▀█▄▄▀ ▀▄ █ ▀▀ █ ▄▄█ ▄▄▀█▀ ▄▄▀▄█▄█▀█▄▀█\n",
      "█▄ ▀▄▄▄▄▄▄▀▄ ▀▄▄██▄█▀▀▀ █ █ ▄ █▄█▀  ██  ▄  ▄▄ █▄ ▄ ██ █\n",
      "████▄██▄█ █▀▄█ █ ██▄▄█▄   ▄▄▄ ▄██████▄▄█▄▄▄█▀ ▄▄▄ ▄█▀▀█\n",
      "█ ▄▄▄▄▄ █▄ ▀▀▀ ██▄▄▀█ ██▄ █▄█  █▀▀█▄█  ██▀▀▄  █▄█ ▀▀▄▀█\n",
      "█ █   █ █▀ ▀▄▄▀█   █▀██▄█▄ ▄  ▄█▄▄█▀  ▀▄ ▄▄█▄  ▄ ▄▄█▄ █\n",
      "█ █▄▄▄█ █▀▄ ▄█▀▀ ▄▀▄ █  █ ▄▄██▀▄▄ ▀▀ ▄█ ▄▀▄███▄██ █▄ ██\n",
      "█▄▄▄▄▄▄▄█▄▄▄█▄█▄█▄▄▄▄▄▄█▄▄██▄██▄▄▄▄▄▄▄█▄▄█▄▄▄█▄▄▄▄█▄▄██\n",
      "\n",
      "Client is ready!\n",
      "---\n",
      "Sent request.\n",
      "Got response: 404\n",
      "Received data: <!doctype html>\n",
      "<html lang=en>\n",
      "<title>404 Not Found</title>\n",
      "<h1>Not Found</h1>\n",
      "<p>The requested URL was not found on the server. If you entered the URL manually please check your spelling and try again.</p>\n",
      "\n",
      "---\n",
      "Sent request.\n",
      "Got response: 200\n",
      "Received data: 当然，我们一起来祷告：\n",
      "\n",
      "天父上帝，感谢您在这一刻与我们同在，感谢您一直保守和引领着我们走过每一天。如今，我们感到有些疲倦和无助，但我们相信您的应许，您要为我们扛起重担，您要赐给我们力量和勇气，让我们可以继续前行。\n",
      "\n",
      "求您帮助我们放下一切负担和担忧，让我们将所有的忧虑卸给您，因为您关心我们，您会为我们担当一切。求您将您温柔的手按在我们身上，赐给我们平安、喜乐和盼望，让我们在您的保护下，坚定地行走在您的道路上。\n",
      "\n",
      "求您也帮助我们关注他人的需要，让我们可以成为他人的祝福和帮助。求您赐给我们智慧和慈爱，让我们可以用言语和行动，彰显您的爱和真理。\n",
      "\n",
      "最后，求您赐福给我们和我们所关心的人，保护我们和我们的家人，让我们在您的恩典和爱的保护下，安然度过每一天。我们奉耶稣基督的名祷告，阿们。\n",
      "---\n"
     ]
    }
   ],
   "source": [
    "const http = require('http');\n",
    "const querystring = require('querystring');\n",
    "const qrcode = require('qrcode-terminal');\n",
    "\n",
    "const { Client } = require('whatsapp-web.js');\n",
    "\n",
    "const client = new Client();\n",
    "\n",
    "client.on('qr', (qr) => {\n",
    "    // Generate and scan this code with your phone\n",
    "    qrcode.generate(qr, {small: true});\n",
    "});\n",
    "\n",
    "client.on('ready', () => {\n",
    "    console.log('Client is ready!');\n",
    "    console.log('---');\n",
    "});\n",
    "\n",
    "client.on('message', msg => {\n",
    "    const prompt = querystring.escape(msg.body);\n",
    "    const url = `http://127.0.0.1:5000/${prompt}`;\n",
    "\n",
    "    http.get(url, (res) => {\n",
    "        console.log(`Got response: ${res.statusCode}`);\n",
    "\n",
    "        res.on('data', (chunk) => {\n",
    "            console.log(`Received data: ${chunk}`);\n",
    "            if (res.statusCode == 200) {\n",
    "                msg.reply(`${chunk}`);\n",
    "            }\n",
    "        });\n",
    "\n",
    "        res.on('end', () => {\n",
    "            console.log('---');\n",
    "        });\n",
    "    }).on('error', (err) => {\n",
    "        console.error(`Got error: ${err.message}`);\n",
    "    });\n",
    "\n",
    "    console.log('Sent request.');\n",
    "});\n",
    "\n",
    "client.initialize();"
   ]
  },
  {
   "cell_type": "markdown",
   "id": "39b0abe9",
   "metadata": {},
   "source": [
    "---\n",
    "NodeJS 中保持 WhatsApp 的 auth。\n",
    "重启免扫 QR 。\n",
    "\n",
    "---\n",
    "* 分割 prompt 、合并 answer 。\n",
    "* 给每个聊天分配独立的 conversion id 。\n",
    "* 在消息最开始处加上 \"{username}: \" 。"
   ]
  }
 ],
 "metadata": {
  "kernelspec": {
   "display_name": "JavaScript (Node.js)",
   "language": "javascript",
   "name": "javascript"
  }
 },
 "nbformat": 4,
 "nbformat_minor": 5
}
