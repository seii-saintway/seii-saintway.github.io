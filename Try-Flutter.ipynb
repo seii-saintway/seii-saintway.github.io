{
 "cells": [
  {
   "cell_type": "markdown",
   "id": "216266ea-cbc0-41ac-a9d7-1605e574d008",
   "metadata": {},
   "source": [
    "https://flutter.dev/"
   ]
  },
  {
   "cell_type": "code",
   "execution_count": null,
   "id": "339b25b3-e7fd-4bdf-ab2e-08e4fab00ed7",
   "metadata": {},
   "outputs": [],
   "source": [
    "cd ~ && wget https://storage.googleapis.com/flutter_infra_release/releases/stable/linux/flutter_linux_3.16.8-stable.tar.xz"
   ]
  },
  {
   "cell_type": "code",
   "execution_count": null,
   "id": "0f0157f8-801a-438f-a307-e163d7e5e9ac",
   "metadata": {},
   "outputs": [],
   "source": [
    "cd ~ && tar xf ~/flutter_linux_3.16.8-stable.tar.xz"
   ]
  },
  {
   "cell_type": "code",
   "execution_count": null,
   "id": "379fb962-11d2-46fe-86c6-7c0807f1cedc",
   "metadata": {},
   "outputs": [],
   "source": [
    "echo << EOF >> ~/.profile\n",
    "# set PATH so it includes user's private bin if it exists\n",
    "if [ -d \"$HOME/flutter/bin\" ] ; then\n",
    "    PATH=\"$HOME/flutter/bin:$PATH\"\n",
    "fi\n",
    "EOF"
   ]
  },
  {
   "cell_type": "code",
   "execution_count": null,
   "id": "624602e8-5570-4b00-ad7b-66e47ead9f9c",
   "metadata": {},
   "outputs": [],
   "source": [
    "git checkout 2.10.5"
   ]
  },
  {
   "cell_type": "code",
   "execution_count": null,
   "id": "638f2f96-9c08-4212-a10b-1bc1648bd5b3",
   "metadata": {},
   "outputs": [],
   "source": [
    "flutter config --no-analytics"
   ]
  }
 ],
 "metadata": {
  "kernelspec": {
   "display_name": "Bash",
   "language": "bash",
   "name": "bash"
  }
 },
 "nbformat": 4,
 "nbformat_minor": 5
}
